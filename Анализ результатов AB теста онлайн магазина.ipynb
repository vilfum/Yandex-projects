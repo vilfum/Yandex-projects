{
 "cells": [
  {
   "cell_type": "markdown",
   "metadata": {},
   "source": [
    "# Анализ результатов A/B теста онлайн-магазина"
   ]
  },
  {
   "cell_type": "markdown",
   "metadata": {},
   "source": [
    "***Описание проекта***\n",
    "\n",
    "Вы — аналитик крупного интернет-магазина. Вместе с отделом маркетинга вы подготовили список гипотез для увеличения выручки.\n",
    "Приоритизируйте гипотезы, запустите A/B-тест и проанализируйте результаты. \n",
    "\n",
    "***Описание данных***\n",
    "\n",
    "Данные для первой части\n",
    "\n",
    "Файл /datasets/hypothesis.csv.\n",
    "\n",
    "- Hypothesis — краткое описание гипотезы;\n",
    "- Reach — охват пользователей по 10-балльной шкале;\n",
    "- Impact — влияние на пользователей по 10-балльной шкале;\n",
    "- Confidence — уверенность в гипотезе по 10-балльной шкале;\n",
    "- Efforts — затраты ресурсов на проверку гипотезы по 10-балльной шкале. Чем больше значение Efforts, тем дороже проверка гипотезы.\n",
    "\n",
    "Данные для второй части\n",
    "\n",
    "Файл /datasets/orders.csv.\n",
    "\n",
    "- transactionId — идентификатор заказа;\n",
    "- visitorId — идентификатор пользователя, совершившего заказ;\n",
    "- date — дата, когда был совершён заказ;\n",
    "- revenue — выручка заказа;\n",
    "- group — группа A/B-теста, в которую попал заказ.\n",
    "\n",
    "Файл /datasets/visitors.csv.\n",
    "\n",
    "- date — дата;\n",
    "- group — группа A/B-теста;\n",
    "- visitors — количество пользователей в указанную дату в указанной группе A/B-теста"
   ]
  },
  {
   "cell_type": "markdown",
   "metadata": {},
   "source": [
    "## Часть 1. Приоритизация гипотез."
   ]
  },
  {
   "cell_type": "markdown",
   "metadata": {},
   "source": [
    "Загрузка библиотек:"
   ]
  },
  {
   "cell_type": "code",
   "execution_count": 1,
   "metadata": {},
   "outputs": [],
   "source": [
    "import pandas as pd\n",
    "import datetime as dt\n",
    "import numpy as np\n",
    "import matplotlib.pyplot as plt\n",
    "from datetime import datetime, timedelta\n",
    "import scipy.stats as stats\n",
    "import seaborn as sns"
   ]
  },
  {
   "cell_type": "markdown",
   "metadata": {},
   "source": [
    "Чтение файлов:"
   ]
  },
  {
   "cell_type": "code",
   "execution_count": 2,
   "metadata": {},
   "outputs": [],
   "source": [
    "hypothesis = pd.read_csv('/datasets/hypothesis.csv')\n",
    "orders = pd.read_csv('/datasets/orders.csv')\n",
    "visitors = pd.read_csv('/datasets/visitors.csv')\n",
    "pd.set_option('max_colwidth', 150) "
   ]
  },
  {
   "cell_type": "markdown",
   "metadata": {},
   "source": [
    "Посмотрим содержание:"
   ]
  },
  {
   "cell_type": "code",
   "execution_count": 3,
   "metadata": {},
   "outputs": [
    {
     "data": {
      "text/html": [
       "<div>\n",
       "<style scoped>\n",
       "    .dataframe tbody tr th:only-of-type {\n",
       "        vertical-align: middle;\n",
       "    }\n",
       "\n",
       "    .dataframe tbody tr th {\n",
       "        vertical-align: top;\n",
       "    }\n",
       "\n",
       "    .dataframe thead th {\n",
       "        text-align: right;\n",
       "    }\n",
       "</style>\n",
       "<table border=\"1\" class=\"dataframe\">\n",
       "  <thead>\n",
       "    <tr style=\"text-align: right;\">\n",
       "      <th></th>\n",
       "      <th>Hypothesis</th>\n",
       "      <th>Reach</th>\n",
       "      <th>Impact</th>\n",
       "      <th>Confidence</th>\n",
       "      <th>Efforts</th>\n",
       "    </tr>\n",
       "  </thead>\n",
       "  <tbody>\n",
       "    <tr>\n",
       "      <th>0</th>\n",
       "      <td>Добавить два новых канала привлечения трафика, что позволит привлекать на 30% больше пользователей</td>\n",
       "      <td>3</td>\n",
       "      <td>10</td>\n",
       "      <td>8</td>\n",
       "      <td>6</td>\n",
       "    </tr>\n",
       "    <tr>\n",
       "      <th>1</th>\n",
       "      <td>Запустить собственную службу доставки, что сократит срок доставки заказов</td>\n",
       "      <td>2</td>\n",
       "      <td>5</td>\n",
       "      <td>4</td>\n",
       "      <td>10</td>\n",
       "    </tr>\n",
       "    <tr>\n",
       "      <th>2</th>\n",
       "      <td>Добавить блоки рекомендаций товаров на сайт интернет магазина, чтобы повысить конверсию и средний чек заказа</td>\n",
       "      <td>8</td>\n",
       "      <td>3</td>\n",
       "      <td>7</td>\n",
       "      <td>3</td>\n",
       "    </tr>\n",
       "    <tr>\n",
       "      <th>3</th>\n",
       "      <td>Изменить структура категорий, что увеличит конверсию, т.к. пользователи быстрее найдут нужный товар</td>\n",
       "      <td>8</td>\n",
       "      <td>3</td>\n",
       "      <td>3</td>\n",
       "      <td>8</td>\n",
       "    </tr>\n",
       "    <tr>\n",
       "      <th>4</th>\n",
       "      <td>Изменить цвет фона главной страницы, чтобы увеличить вовлеченность пользователей</td>\n",
       "      <td>3</td>\n",
       "      <td>1</td>\n",
       "      <td>1</td>\n",
       "      <td>1</td>\n",
       "    </tr>\n",
       "    <tr>\n",
       "      <th>5</th>\n",
       "      <td>Добавить страницу отзывов клиентов о магазине, что позволит увеличить количество заказов</td>\n",
       "      <td>3</td>\n",
       "      <td>2</td>\n",
       "      <td>2</td>\n",
       "      <td>3</td>\n",
       "    </tr>\n",
       "    <tr>\n",
       "      <th>6</th>\n",
       "      <td>Показать на главной странице баннеры с актуальными акциями и распродажами, чтобы увеличить конверсию</td>\n",
       "      <td>5</td>\n",
       "      <td>3</td>\n",
       "      <td>8</td>\n",
       "      <td>3</td>\n",
       "    </tr>\n",
       "    <tr>\n",
       "      <th>7</th>\n",
       "      <td>Добавить форму подписки на все основные страницы, чтобы собрать базу клиентов для email-рассылок</td>\n",
       "      <td>10</td>\n",
       "      <td>7</td>\n",
       "      <td>8</td>\n",
       "      <td>5</td>\n",
       "    </tr>\n",
       "    <tr>\n",
       "      <th>8</th>\n",
       "      <td>Запустить акцию, дающую скидку на товар в день рождения</td>\n",
       "      <td>1</td>\n",
       "      <td>9</td>\n",
       "      <td>9</td>\n",
       "      <td>5</td>\n",
       "    </tr>\n",
       "  </tbody>\n",
       "</table>\n",
       "</div>"
      ],
      "text/plain": [
       "                                                                                                     Hypothesis  \\\n",
       "0            Добавить два новых канала привлечения трафика, что позволит привлекать на 30% больше пользователей   \n",
       "1                                     Запустить собственную службу доставки, что сократит срок доставки заказов   \n",
       "2  Добавить блоки рекомендаций товаров на сайт интернет магазина, чтобы повысить конверсию и средний чек заказа   \n",
       "3           Изменить структура категорий, что увеличит конверсию, т.к. пользователи быстрее найдут нужный товар   \n",
       "4                              Изменить цвет фона главной страницы, чтобы увеличить вовлеченность пользователей   \n",
       "5                      Добавить страницу отзывов клиентов о магазине, что позволит увеличить количество заказов   \n",
       "6          Показать на главной странице баннеры с актуальными акциями и распродажами, чтобы увеличить конверсию   \n",
       "7              Добавить форму подписки на все основные страницы, чтобы собрать базу клиентов для email-рассылок   \n",
       "8                                                       Запустить акцию, дающую скидку на товар в день рождения   \n",
       "\n",
       "   Reach  Impact  Confidence  Efforts  \n",
       "0      3      10           8        6  \n",
       "1      2       5           4       10  \n",
       "2      8       3           7        3  \n",
       "3      8       3           3        8  \n",
       "4      3       1           1        1  \n",
       "5      3       2           2        3  \n",
       "6      5       3           8        3  \n",
       "7     10       7           8        5  \n",
       "8      1       9           9        5  "
      ]
     },
     "execution_count": 3,
     "metadata": {},
     "output_type": "execute_result"
    }
   ],
   "source": [
    "hypothesis"
   ]
  },
  {
   "cell_type": "code",
   "execution_count": 4,
   "metadata": {},
   "outputs": [
    {
     "data": {
      "text/html": [
       "<div>\n",
       "<style scoped>\n",
       "    .dataframe tbody tr th:only-of-type {\n",
       "        vertical-align: middle;\n",
       "    }\n",
       "\n",
       "    .dataframe tbody tr th {\n",
       "        vertical-align: top;\n",
       "    }\n",
       "\n",
       "    .dataframe thead th {\n",
       "        text-align: right;\n",
       "    }\n",
       "</style>\n",
       "<table border=\"1\" class=\"dataframe\">\n",
       "  <thead>\n",
       "    <tr style=\"text-align: right;\">\n",
       "      <th></th>\n",
       "      <th>transactionId</th>\n",
       "      <th>visitorId</th>\n",
       "      <th>date</th>\n",
       "      <th>revenue</th>\n",
       "      <th>group</th>\n",
       "    </tr>\n",
       "  </thead>\n",
       "  <tbody>\n",
       "    <tr>\n",
       "      <th>0</th>\n",
       "      <td>3667963787</td>\n",
       "      <td>3312258926</td>\n",
       "      <td>2019-08-15</td>\n",
       "      <td>1650</td>\n",
       "      <td>B</td>\n",
       "    </tr>\n",
       "    <tr>\n",
       "      <th>1</th>\n",
       "      <td>2804400009</td>\n",
       "      <td>3642806036</td>\n",
       "      <td>2019-08-15</td>\n",
       "      <td>730</td>\n",
       "      <td>B</td>\n",
       "    </tr>\n",
       "    <tr>\n",
       "      <th>2</th>\n",
       "      <td>2961555356</td>\n",
       "      <td>4069496402</td>\n",
       "      <td>2019-08-15</td>\n",
       "      <td>400</td>\n",
       "      <td>A</td>\n",
       "    </tr>\n",
       "    <tr>\n",
       "      <th>3</th>\n",
       "      <td>3797467345</td>\n",
       "      <td>1196621759</td>\n",
       "      <td>2019-08-15</td>\n",
       "      <td>9759</td>\n",
       "      <td>B</td>\n",
       "    </tr>\n",
       "    <tr>\n",
       "      <th>4</th>\n",
       "      <td>2282983706</td>\n",
       "      <td>2322279887</td>\n",
       "      <td>2019-08-15</td>\n",
       "      <td>2308</td>\n",
       "      <td>B</td>\n",
       "    </tr>\n",
       "    <tr>\n",
       "      <th>...</th>\n",
       "      <td>...</td>\n",
       "      <td>...</td>\n",
       "      <td>...</td>\n",
       "      <td>...</td>\n",
       "      <td>...</td>\n",
       "    </tr>\n",
       "    <tr>\n",
       "      <th>1192</th>\n",
       "      <td>2662137336</td>\n",
       "      <td>3733762160</td>\n",
       "      <td>2019-08-14</td>\n",
       "      <td>6490</td>\n",
       "      <td>B</td>\n",
       "    </tr>\n",
       "    <tr>\n",
       "      <th>1193</th>\n",
       "      <td>2203539145</td>\n",
       "      <td>370388673</td>\n",
       "      <td>2019-08-14</td>\n",
       "      <td>3190</td>\n",
       "      <td>A</td>\n",
       "    </tr>\n",
       "    <tr>\n",
       "      <th>1194</th>\n",
       "      <td>1807773912</td>\n",
       "      <td>573423106</td>\n",
       "      <td>2019-08-14</td>\n",
       "      <td>10550</td>\n",
       "      <td>A</td>\n",
       "    </tr>\n",
       "    <tr>\n",
       "      <th>1195</th>\n",
       "      <td>1947021204</td>\n",
       "      <td>1614305549</td>\n",
       "      <td>2019-08-14</td>\n",
       "      <td>100</td>\n",
       "      <td>A</td>\n",
       "    </tr>\n",
       "    <tr>\n",
       "      <th>1196</th>\n",
       "      <td>3936777065</td>\n",
       "      <td>2108080724</td>\n",
       "      <td>2019-08-15</td>\n",
       "      <td>202740</td>\n",
       "      <td>B</td>\n",
       "    </tr>\n",
       "  </tbody>\n",
       "</table>\n",
       "<p>1197 rows × 5 columns</p>\n",
       "</div>"
      ],
      "text/plain": [
       "      transactionId   visitorId        date  revenue group\n",
       "0        3667963787  3312258926  2019-08-15     1650     B\n",
       "1        2804400009  3642806036  2019-08-15      730     B\n",
       "2        2961555356  4069496402  2019-08-15      400     A\n",
       "3        3797467345  1196621759  2019-08-15     9759     B\n",
       "4        2282983706  2322279887  2019-08-15     2308     B\n",
       "...             ...         ...         ...      ...   ...\n",
       "1192     2662137336  3733762160  2019-08-14     6490     B\n",
       "1193     2203539145   370388673  2019-08-14     3190     A\n",
       "1194     1807773912   573423106  2019-08-14    10550     A\n",
       "1195     1947021204  1614305549  2019-08-14      100     A\n",
       "1196     3936777065  2108080724  2019-08-15   202740     B\n",
       "\n",
       "[1197 rows x 5 columns]"
      ]
     },
     "execution_count": 4,
     "metadata": {},
     "output_type": "execute_result"
    }
   ],
   "source": [
    "orders"
   ]
  },
  {
   "cell_type": "code",
   "execution_count": 5,
   "metadata": {},
   "outputs": [
    {
     "data": {
      "text/html": [
       "<div>\n",
       "<style scoped>\n",
       "    .dataframe tbody tr th:only-of-type {\n",
       "        vertical-align: middle;\n",
       "    }\n",
       "\n",
       "    .dataframe tbody tr th {\n",
       "        vertical-align: top;\n",
       "    }\n",
       "\n",
       "    .dataframe thead th {\n",
       "        text-align: right;\n",
       "    }\n",
       "</style>\n",
       "<table border=\"1\" class=\"dataframe\">\n",
       "  <thead>\n",
       "    <tr style=\"text-align: right;\">\n",
       "      <th></th>\n",
       "      <th>date</th>\n",
       "      <th>group</th>\n",
       "      <th>visitors</th>\n",
       "    </tr>\n",
       "  </thead>\n",
       "  <tbody>\n",
       "    <tr>\n",
       "      <th>0</th>\n",
       "      <td>2019-08-01</td>\n",
       "      <td>A</td>\n",
       "      <td>719</td>\n",
       "    </tr>\n",
       "    <tr>\n",
       "      <th>1</th>\n",
       "      <td>2019-08-02</td>\n",
       "      <td>A</td>\n",
       "      <td>619</td>\n",
       "    </tr>\n",
       "    <tr>\n",
       "      <th>2</th>\n",
       "      <td>2019-08-03</td>\n",
       "      <td>A</td>\n",
       "      <td>507</td>\n",
       "    </tr>\n",
       "    <tr>\n",
       "      <th>3</th>\n",
       "      <td>2019-08-04</td>\n",
       "      <td>A</td>\n",
       "      <td>717</td>\n",
       "    </tr>\n",
       "    <tr>\n",
       "      <th>4</th>\n",
       "      <td>2019-08-05</td>\n",
       "      <td>A</td>\n",
       "      <td>756</td>\n",
       "    </tr>\n",
       "    <tr>\n",
       "      <th>...</th>\n",
       "      <td>...</td>\n",
       "      <td>...</td>\n",
       "      <td>...</td>\n",
       "    </tr>\n",
       "    <tr>\n",
       "      <th>57</th>\n",
       "      <td>2019-08-27</td>\n",
       "      <td>B</td>\n",
       "      <td>720</td>\n",
       "    </tr>\n",
       "    <tr>\n",
       "      <th>58</th>\n",
       "      <td>2019-08-28</td>\n",
       "      <td>B</td>\n",
       "      <td>654</td>\n",
       "    </tr>\n",
       "    <tr>\n",
       "      <th>59</th>\n",
       "      <td>2019-08-29</td>\n",
       "      <td>B</td>\n",
       "      <td>531</td>\n",
       "    </tr>\n",
       "    <tr>\n",
       "      <th>60</th>\n",
       "      <td>2019-08-30</td>\n",
       "      <td>B</td>\n",
       "      <td>490</td>\n",
       "    </tr>\n",
       "    <tr>\n",
       "      <th>61</th>\n",
       "      <td>2019-08-31</td>\n",
       "      <td>B</td>\n",
       "      <td>718</td>\n",
       "    </tr>\n",
       "  </tbody>\n",
       "</table>\n",
       "<p>62 rows × 3 columns</p>\n",
       "</div>"
      ],
      "text/plain": [
       "          date group  visitors\n",
       "0   2019-08-01     A       719\n",
       "1   2019-08-02     A       619\n",
       "2   2019-08-03     A       507\n",
       "3   2019-08-04     A       717\n",
       "4   2019-08-05     A       756\n",
       "..         ...   ...       ...\n",
       "57  2019-08-27     B       720\n",
       "58  2019-08-28     B       654\n",
       "59  2019-08-29     B       531\n",
       "60  2019-08-30     B       490\n",
       "61  2019-08-31     B       718\n",
       "\n",
       "[62 rows x 3 columns]"
      ]
     },
     "execution_count": 5,
     "metadata": {},
     "output_type": "execute_result"
    }
   ],
   "source": [
    "visitors"
   ]
  },
  {
   "cell_type": "markdown",
   "metadata": {},
   "source": [
    "В таблицах orders hypothesis названия столбцов приведем к общему стилю, в orders и visitors проверим наличие дубликатов:"
   ]
  },
  {
   "cell_type": "code",
   "execution_count": 6,
   "metadata": {},
   "outputs": [
    {
     "data": {
      "text/html": [
       "<div>\n",
       "<style scoped>\n",
       "    .dataframe tbody tr th:only-of-type {\n",
       "        vertical-align: middle;\n",
       "    }\n",
       "\n",
       "    .dataframe tbody tr th {\n",
       "        vertical-align: top;\n",
       "    }\n",
       "\n",
       "    .dataframe thead th {\n",
       "        text-align: right;\n",
       "    }\n",
       "</style>\n",
       "<table border=\"1\" class=\"dataframe\">\n",
       "  <thead>\n",
       "    <tr style=\"text-align: right;\">\n",
       "      <th></th>\n",
       "      <th>hypothesis</th>\n",
       "      <th>reach</th>\n",
       "      <th>impact</th>\n",
       "      <th>confidence</th>\n",
       "      <th>efforts</th>\n",
       "    </tr>\n",
       "  </thead>\n",
       "  <tbody>\n",
       "    <tr>\n",
       "      <th>0</th>\n",
       "      <td>Добавить два новых канала привлечения трафика, что позволит привлекать на 30% больше пользователей</td>\n",
       "      <td>3</td>\n",
       "      <td>10</td>\n",
       "      <td>8</td>\n",
       "      <td>6</td>\n",
       "    </tr>\n",
       "    <tr>\n",
       "      <th>1</th>\n",
       "      <td>Запустить собственную службу доставки, что сократит срок доставки заказов</td>\n",
       "      <td>2</td>\n",
       "      <td>5</td>\n",
       "      <td>4</td>\n",
       "      <td>10</td>\n",
       "    </tr>\n",
       "    <tr>\n",
       "      <th>2</th>\n",
       "      <td>Добавить блоки рекомендаций товаров на сайт интернет магазина, чтобы повысить конверсию и средний чек заказа</td>\n",
       "      <td>8</td>\n",
       "      <td>3</td>\n",
       "      <td>7</td>\n",
       "      <td>3</td>\n",
       "    </tr>\n",
       "    <tr>\n",
       "      <th>3</th>\n",
       "      <td>Изменить структура категорий, что увеличит конверсию, т.к. пользователи быстрее найдут нужный товар</td>\n",
       "      <td>8</td>\n",
       "      <td>3</td>\n",
       "      <td>3</td>\n",
       "      <td>8</td>\n",
       "    </tr>\n",
       "    <tr>\n",
       "      <th>4</th>\n",
       "      <td>Изменить цвет фона главной страницы, чтобы увеличить вовлеченность пользователей</td>\n",
       "      <td>3</td>\n",
       "      <td>1</td>\n",
       "      <td>1</td>\n",
       "      <td>1</td>\n",
       "    </tr>\n",
       "    <tr>\n",
       "      <th>5</th>\n",
       "      <td>Добавить страницу отзывов клиентов о магазине, что позволит увеличить количество заказов</td>\n",
       "      <td>3</td>\n",
       "      <td>2</td>\n",
       "      <td>2</td>\n",
       "      <td>3</td>\n",
       "    </tr>\n",
       "    <tr>\n",
       "      <th>6</th>\n",
       "      <td>Показать на главной странице баннеры с актуальными акциями и распродажами, чтобы увеличить конверсию</td>\n",
       "      <td>5</td>\n",
       "      <td>3</td>\n",
       "      <td>8</td>\n",
       "      <td>3</td>\n",
       "    </tr>\n",
       "    <tr>\n",
       "      <th>7</th>\n",
       "      <td>Добавить форму подписки на все основные страницы, чтобы собрать базу клиентов для email-рассылок</td>\n",
       "      <td>10</td>\n",
       "      <td>7</td>\n",
       "      <td>8</td>\n",
       "      <td>5</td>\n",
       "    </tr>\n",
       "    <tr>\n",
       "      <th>8</th>\n",
       "      <td>Запустить акцию, дающую скидку на товар в день рождения</td>\n",
       "      <td>1</td>\n",
       "      <td>9</td>\n",
       "      <td>9</td>\n",
       "      <td>5</td>\n",
       "    </tr>\n",
       "  </tbody>\n",
       "</table>\n",
       "</div>"
      ],
      "text/plain": [
       "                                                                                                     hypothesis  \\\n",
       "0            Добавить два новых канала привлечения трафика, что позволит привлекать на 30% больше пользователей   \n",
       "1                                     Запустить собственную службу доставки, что сократит срок доставки заказов   \n",
       "2  Добавить блоки рекомендаций товаров на сайт интернет магазина, чтобы повысить конверсию и средний чек заказа   \n",
       "3           Изменить структура категорий, что увеличит конверсию, т.к. пользователи быстрее найдут нужный товар   \n",
       "4                              Изменить цвет фона главной страницы, чтобы увеличить вовлеченность пользователей   \n",
       "5                      Добавить страницу отзывов клиентов о магазине, что позволит увеличить количество заказов   \n",
       "6          Показать на главной странице баннеры с актуальными акциями и распродажами, чтобы увеличить конверсию   \n",
       "7              Добавить форму подписки на все основные страницы, чтобы собрать базу клиентов для email-рассылок   \n",
       "8                                                       Запустить акцию, дающую скидку на товар в день рождения   \n",
       "\n",
       "   reach  impact  confidence  efforts  \n",
       "0      3      10           8        6  \n",
       "1      2       5           4       10  \n",
       "2      8       3           7        3  \n",
       "3      8       3           3        8  \n",
       "4      3       1           1        1  \n",
       "5      3       2           2        3  \n",
       "6      5       3           8        3  \n",
       "7     10       7           8        5  \n",
       "8      1       9           9        5  "
      ]
     },
     "execution_count": 6,
     "metadata": {},
     "output_type": "execute_result"
    }
   ],
   "source": [
    "hypothesis.columns = hypothesis.columns.str.lower()\n",
    "orders.rename(columns={'transactionId':'transaction_id', 'visitorId':'visitor_id'}, inplace=True)\n",
    "hypothesis"
   ]
  },
  {
   "cell_type": "code",
   "execution_count": 7,
   "metadata": {},
   "outputs": [
    {
     "name": "stdout",
     "output_type": "stream",
     "text": [
      "0\n",
      "0\n"
     ]
    }
   ],
   "source": [
    "print(orders.duplicated().sum())\n",
    "print(visitors.duplicated().sum())"
   ]
  },
  {
   "cell_type": "markdown",
   "metadata": {},
   "source": [
    "Посмотрим информацию по датасетам:"
   ]
  },
  {
   "cell_type": "code",
   "execution_count": 8,
   "metadata": {},
   "outputs": [
    {
     "name": "stdout",
     "output_type": "stream",
     "text": [
      "<class 'pandas.core.frame.DataFrame'>\n",
      "RangeIndex: 9 entries, 0 to 8\n",
      "Data columns (total 5 columns):\n",
      " #   Column      Non-Null Count  Dtype \n",
      "---  ------      --------------  ----- \n",
      " 0   hypothesis  9 non-null      object\n",
      " 1   reach       9 non-null      int64 \n",
      " 2   impact      9 non-null      int64 \n",
      " 3   confidence  9 non-null      int64 \n",
      " 4   efforts     9 non-null      int64 \n",
      "dtypes: int64(4), object(1)\n",
      "memory usage: 488.0+ bytes\n"
     ]
    }
   ],
   "source": [
    "hypothesis.info()"
   ]
  },
  {
   "cell_type": "code",
   "execution_count": 9,
   "metadata": {},
   "outputs": [
    {
     "name": "stdout",
     "output_type": "stream",
     "text": [
      "<class 'pandas.core.frame.DataFrame'>\n",
      "RangeIndex: 1197 entries, 0 to 1196\n",
      "Data columns (total 5 columns):\n",
      " #   Column          Non-Null Count  Dtype \n",
      "---  ------          --------------  ----- \n",
      " 0   transaction_id  1197 non-null   int64 \n",
      " 1   visitor_id      1197 non-null   int64 \n",
      " 2   date            1197 non-null   object\n",
      " 3   revenue         1197 non-null   int64 \n",
      " 4   group           1197 non-null   object\n",
      "dtypes: int64(3), object(2)\n",
      "memory usage: 46.9+ KB\n"
     ]
    }
   ],
   "source": [
    "orders.info()"
   ]
  },
  {
   "cell_type": "code",
   "execution_count": 10,
   "metadata": {},
   "outputs": [
    {
     "name": "stdout",
     "output_type": "stream",
     "text": [
      "<class 'pandas.core.frame.DataFrame'>\n",
      "RangeIndex: 62 entries, 0 to 61\n",
      "Data columns (total 3 columns):\n",
      " #   Column    Non-Null Count  Dtype \n",
      "---  ------    --------------  ----- \n",
      " 0   date      62 non-null     object\n",
      " 1   group     62 non-null     object\n",
      " 2   visitors  62 non-null     int64 \n",
      "dtypes: int64(1), object(2)\n",
      "memory usage: 1.6+ KB\n"
     ]
    }
   ],
   "source": [
    "visitors.info()"
   ]
  },
  {
   "cell_type": "markdown",
   "metadata": {},
   "source": [
    "Изменим тип данных в столбцах с датой на datetime:"
   ]
  },
  {
   "cell_type": "code",
   "execution_count": 11,
   "metadata": {},
   "outputs": [],
   "source": [
    "orders['date'] = pd.to_datetime(orders['date'], format='%Y.%m.%d')\n",
    "visitors['date'] = pd.to_datetime(visitors['date'], format='%Y.%m.%d')"
   ]
  },
  {
   "cell_type": "markdown",
   "metadata": {},
   "source": [
    "Проверим наличие пропусков:"
   ]
  },
  {
   "cell_type": "code",
   "execution_count": 12,
   "metadata": {},
   "outputs": [
    {
     "name": "stdout",
     "output_type": "stream",
     "text": [
      "transaction_id    0\n",
      "visitor_id        0\n",
      "date              0\n",
      "revenue           0\n",
      "group             0\n",
      "dtype: int64\n",
      "date        0\n",
      "group       0\n",
      "visitors    0\n",
      "dtype: int64\n"
     ]
    }
   ],
   "source": [
    "print(orders.isna().sum())\n",
    "print(visitors.isna().sum())"
   ]
  },
  {
   "cell_type": "markdown",
   "metadata": {},
   "source": [
    "### ICE"
   ]
  },
  {
   "cell_type": "markdown",
   "metadata": {},
   "source": [
    "Применим фреймворк ICE для приоритизации гипотез:"
   ]
  },
  {
   "cell_type": "code",
   "execution_count": 13,
   "metadata": {},
   "outputs": [
    {
     "data": {
      "text/html": [
       "<div>\n",
       "<style scoped>\n",
       "    .dataframe tbody tr th:only-of-type {\n",
       "        vertical-align: middle;\n",
       "    }\n",
       "\n",
       "    .dataframe tbody tr th {\n",
       "        vertical-align: top;\n",
       "    }\n",
       "\n",
       "    .dataframe thead th {\n",
       "        text-align: right;\n",
       "    }\n",
       "</style>\n",
       "<table border=\"1\" class=\"dataframe\">\n",
       "  <thead>\n",
       "    <tr style=\"text-align: right;\">\n",
       "      <th></th>\n",
       "      <th>hypothesis</th>\n",
       "      <th>ice</th>\n",
       "    </tr>\n",
       "  </thead>\n",
       "  <tbody>\n",
       "    <tr>\n",
       "      <th>8</th>\n",
       "      <td>Запустить акцию, дающую скидку на товар в день рождения</td>\n",
       "      <td>16.20</td>\n",
       "    </tr>\n",
       "    <tr>\n",
       "      <th>0</th>\n",
       "      <td>Добавить два новых канала привлечения трафика, что позволит привлекать на 30% больше пользователей</td>\n",
       "      <td>13.33</td>\n",
       "    </tr>\n",
       "    <tr>\n",
       "      <th>7</th>\n",
       "      <td>Добавить форму подписки на все основные страницы, чтобы собрать базу клиентов для email-рассылок</td>\n",
       "      <td>11.20</td>\n",
       "    </tr>\n",
       "    <tr>\n",
       "      <th>6</th>\n",
       "      <td>Показать на главной странице баннеры с актуальными акциями и распродажами, чтобы увеличить конверсию</td>\n",
       "      <td>8.00</td>\n",
       "    </tr>\n",
       "    <tr>\n",
       "      <th>2</th>\n",
       "      <td>Добавить блоки рекомендаций товаров на сайт интернет магазина, чтобы повысить конверсию и средний чек заказа</td>\n",
       "      <td>7.00</td>\n",
       "    </tr>\n",
       "    <tr>\n",
       "      <th>1</th>\n",
       "      <td>Запустить собственную службу доставки, что сократит срок доставки заказов</td>\n",
       "      <td>2.00</td>\n",
       "    </tr>\n",
       "    <tr>\n",
       "      <th>5</th>\n",
       "      <td>Добавить страницу отзывов клиентов о магазине, что позволит увеличить количество заказов</td>\n",
       "      <td>1.33</td>\n",
       "    </tr>\n",
       "    <tr>\n",
       "      <th>3</th>\n",
       "      <td>Изменить структура категорий, что увеличит конверсию, т.к. пользователи быстрее найдут нужный товар</td>\n",
       "      <td>1.12</td>\n",
       "    </tr>\n",
       "    <tr>\n",
       "      <th>4</th>\n",
       "      <td>Изменить цвет фона главной страницы, чтобы увеличить вовлеченность пользователей</td>\n",
       "      <td>1.00</td>\n",
       "    </tr>\n",
       "  </tbody>\n",
       "</table>\n",
       "</div>"
      ],
      "text/plain": [
       "                                                                                                     hypothesis  \\\n",
       "8                                                       Запустить акцию, дающую скидку на товар в день рождения   \n",
       "0            Добавить два новых канала привлечения трафика, что позволит привлекать на 30% больше пользователей   \n",
       "7              Добавить форму подписки на все основные страницы, чтобы собрать базу клиентов для email-рассылок   \n",
       "6          Показать на главной странице баннеры с актуальными акциями и распродажами, чтобы увеличить конверсию   \n",
       "2  Добавить блоки рекомендаций товаров на сайт интернет магазина, чтобы повысить конверсию и средний чек заказа   \n",
       "1                                     Запустить собственную службу доставки, что сократит срок доставки заказов   \n",
       "5                      Добавить страницу отзывов клиентов о магазине, что позволит увеличить количество заказов   \n",
       "3           Изменить структура категорий, что увеличит конверсию, т.к. пользователи быстрее найдут нужный товар   \n",
       "4                              Изменить цвет фона главной страницы, чтобы увеличить вовлеченность пользователей   \n",
       "\n",
       "     ice  \n",
       "8  16.20  \n",
       "0  13.33  \n",
       "7  11.20  \n",
       "6   8.00  \n",
       "2   7.00  \n",
       "1   2.00  \n",
       "5   1.33  \n",
       "3   1.12  \n",
       "4   1.00  "
      ]
     },
     "execution_count": 13,
     "metadata": {},
     "output_type": "execute_result"
    }
   ],
   "source": [
    "hypothesis['ice'] = (hypothesis['impact'] * hypothesis['confidence'] / hypothesis['efforts']).round(2)\n",
    "hypothesis[['hypothesis', 'ice']].sort_values(by='ice', ascending=False)"
   ]
  },
  {
   "cell_type": "markdown",
   "metadata": {},
   "source": [
    "### RICE"
   ]
  },
  {
   "cell_type": "markdown",
   "metadata": {},
   "source": [
    "Применим фреймворк RICE для приоритизации гипотез:"
   ]
  },
  {
   "cell_type": "code",
   "execution_count": 14,
   "metadata": {},
   "outputs": [
    {
     "data": {
      "text/html": [
       "<div>\n",
       "<style scoped>\n",
       "    .dataframe tbody tr th:only-of-type {\n",
       "        vertical-align: middle;\n",
       "    }\n",
       "\n",
       "    .dataframe tbody tr th {\n",
       "        vertical-align: top;\n",
       "    }\n",
       "\n",
       "    .dataframe thead th {\n",
       "        text-align: right;\n",
       "    }\n",
       "</style>\n",
       "<table border=\"1\" class=\"dataframe\">\n",
       "  <thead>\n",
       "    <tr style=\"text-align: right;\">\n",
       "      <th></th>\n",
       "      <th>hypothesis</th>\n",
       "      <th>rice</th>\n",
       "    </tr>\n",
       "  </thead>\n",
       "  <tbody>\n",
       "    <tr>\n",
       "      <th>7</th>\n",
       "      <td>Добавить форму подписки на все основные страницы, чтобы собрать базу клиентов для email-рассылок</td>\n",
       "      <td>112.0</td>\n",
       "    </tr>\n",
       "    <tr>\n",
       "      <th>2</th>\n",
       "      <td>Добавить блоки рекомендаций товаров на сайт интернет магазина, чтобы повысить конверсию и средний чек заказа</td>\n",
       "      <td>56.0</td>\n",
       "    </tr>\n",
       "    <tr>\n",
       "      <th>0</th>\n",
       "      <td>Добавить два новых канала привлечения трафика, что позволит привлекать на 30% больше пользователей</td>\n",
       "      <td>40.0</td>\n",
       "    </tr>\n",
       "    <tr>\n",
       "      <th>6</th>\n",
       "      <td>Показать на главной странице баннеры с актуальными акциями и распродажами, чтобы увеличить конверсию</td>\n",
       "      <td>40.0</td>\n",
       "    </tr>\n",
       "    <tr>\n",
       "      <th>8</th>\n",
       "      <td>Запустить акцию, дающую скидку на товар в день рождения</td>\n",
       "      <td>16.2</td>\n",
       "    </tr>\n",
       "    <tr>\n",
       "      <th>3</th>\n",
       "      <td>Изменить структура категорий, что увеличит конверсию, т.к. пользователи быстрее найдут нужный товар</td>\n",
       "      <td>9.0</td>\n",
       "    </tr>\n",
       "    <tr>\n",
       "      <th>1</th>\n",
       "      <td>Запустить собственную службу доставки, что сократит срок доставки заказов</td>\n",
       "      <td>4.0</td>\n",
       "    </tr>\n",
       "    <tr>\n",
       "      <th>5</th>\n",
       "      <td>Добавить страницу отзывов клиентов о магазине, что позволит увеличить количество заказов</td>\n",
       "      <td>4.0</td>\n",
       "    </tr>\n",
       "    <tr>\n",
       "      <th>4</th>\n",
       "      <td>Изменить цвет фона главной страницы, чтобы увеличить вовлеченность пользователей</td>\n",
       "      <td>3.0</td>\n",
       "    </tr>\n",
       "  </tbody>\n",
       "</table>\n",
       "</div>"
      ],
      "text/plain": [
       "                                                                                                     hypothesis  \\\n",
       "7              Добавить форму подписки на все основные страницы, чтобы собрать базу клиентов для email-рассылок   \n",
       "2  Добавить блоки рекомендаций товаров на сайт интернет магазина, чтобы повысить конверсию и средний чек заказа   \n",
       "0            Добавить два новых канала привлечения трафика, что позволит привлекать на 30% больше пользователей   \n",
       "6          Показать на главной странице баннеры с актуальными акциями и распродажами, чтобы увеличить конверсию   \n",
       "8                                                       Запустить акцию, дающую скидку на товар в день рождения   \n",
       "3           Изменить структура категорий, что увеличит конверсию, т.к. пользователи быстрее найдут нужный товар   \n",
       "1                                     Запустить собственную службу доставки, что сократит срок доставки заказов   \n",
       "5                      Добавить страницу отзывов клиентов о магазине, что позволит увеличить количество заказов   \n",
       "4                              Изменить цвет фона главной страницы, чтобы увеличить вовлеченность пользователей   \n",
       "\n",
       "    rice  \n",
       "7  112.0  \n",
       "2   56.0  \n",
       "0   40.0  \n",
       "6   40.0  \n",
       "8   16.2  \n",
       "3    9.0  \n",
       "1    4.0  \n",
       "5    4.0  \n",
       "4    3.0  "
      ]
     },
     "execution_count": 14,
     "metadata": {},
     "output_type": "execute_result"
    }
   ],
   "source": [
    "hypothesis['rice'] = hypothesis['reach'] * hypothesis['impact'] * hypothesis['confidence'] / hypothesis['efforts']\n",
    "hypothesis[['hypothesis', 'rice']].sort_values(by='rice', ascending=False)"
   ]
  },
  {
   "cell_type": "markdown",
   "metadata": {},
   "source": [
    "***Вывод:***\n",
    "\n",
    "Наиболее интересные гипотезы по ICE:\n",
    "\n",
    "- Запустить акцию, дающую скидку на товар в день рождения - 16.20\n",
    "- Добавить два новых канала привлечения трафика, что позволит привлекать на 30% больше пользователей - 13.33\n",
    "- Добавить форму подписки на все основные страницы, чтобы собрать базу клиентов для email-рассылок - 11.20\n",
    "- Показать на главной странице баннеры с актуальными акциями и распродажами, чтобы увеличить конверсию - 8.00\n",
    "- Добавить блоки рекомендаций товаров на сайт интернет магазина, чтобы повысить конверсию и средний чек заказа - 7.00\n",
    "\n",
    "По RICE:\n",
    "\n",
    "- Добавить форму подписки на все основные страницы, чтобы собрать базу клиентов для email-рассылок - 112.0\n",
    "- Добавить блоки рекомендаций товаров на сайт интернет магазина, чтобы повысить конверсию и средний чек заказа - 56.0\n",
    "- Добавить два новых канала привлечения трафика, что позволит привлекать на 30% больше пользователей - 40.0\n",
    "- Показать на главной странице баннеры с актуальными акциями и распродажами, чтобы увеличить конверсию - 8.00\n",
    "- Добавить блоки рекомендаций товаров на сайт интернет магазина, чтобы повысить конверсию и средний чек заказа - 7.00\n",
    "\n",
    "По сравнению с ICE RICE имеет так же показатель охвата пользователей, что немаловажно и именно этот показатель имеет влияние на различие между ICE и RICE, а так же на различие в местах списка. \n",
    "\n",
    "Даже при условии, что есть различие в числах и местах в топ-5 гипотез вошли одни и те же, поэтому их можно выделить как самые перспективные."
   ]
  },
  {
   "cell_type": "markdown",
   "metadata": {},
   "source": [
    "## Часть 2. Анализ A/B-теста"
   ]
  },
  {
   "cell_type": "markdown",
   "metadata": {},
   "source": [
    "### График кумулятивной выручки по группам"
   ]
  },
  {
   "cell_type": "markdown",
   "metadata": {},
   "source": [
    "Создаем датафрейм с кумулятивными данными для построения графика:"
   ]
  },
  {
   "cell_type": "code",
   "execution_count": 15,
   "metadata": {},
   "outputs": [
    {
     "data": {
      "text/html": [
       "<div>\n",
       "<style scoped>\n",
       "    .dataframe tbody tr th:only-of-type {\n",
       "        vertical-align: middle;\n",
       "    }\n",
       "\n",
       "    .dataframe tbody tr th {\n",
       "        vertical-align: top;\n",
       "    }\n",
       "\n",
       "    .dataframe thead th {\n",
       "        text-align: right;\n",
       "    }\n",
       "</style>\n",
       "<table border=\"1\" class=\"dataframe\">\n",
       "  <thead>\n",
       "    <tr style=\"text-align: right;\">\n",
       "      <th></th>\n",
       "      <th>date</th>\n",
       "      <th>group</th>\n",
       "      <th>orders</th>\n",
       "      <th>buyers</th>\n",
       "      <th>revenue</th>\n",
       "      <th>visitors</th>\n",
       "    </tr>\n",
       "  </thead>\n",
       "  <tbody>\n",
       "    <tr>\n",
       "      <th>0</th>\n",
       "      <td>2019-08-01</td>\n",
       "      <td>A</td>\n",
       "      <td>24</td>\n",
       "      <td>20</td>\n",
       "      <td>148579</td>\n",
       "      <td>719</td>\n",
       "    </tr>\n",
       "    <tr>\n",
       "      <th>1</th>\n",
       "      <td>2019-08-01</td>\n",
       "      <td>B</td>\n",
       "      <td>21</td>\n",
       "      <td>20</td>\n",
       "      <td>101217</td>\n",
       "      <td>713</td>\n",
       "    </tr>\n",
       "    <tr>\n",
       "      <th>2</th>\n",
       "      <td>2019-08-02</td>\n",
       "      <td>A</td>\n",
       "      <td>44</td>\n",
       "      <td>38</td>\n",
       "      <td>242401</td>\n",
       "      <td>1338</td>\n",
       "    </tr>\n",
       "    <tr>\n",
       "      <th>3</th>\n",
       "      <td>2019-08-02</td>\n",
       "      <td>B</td>\n",
       "      <td>45</td>\n",
       "      <td>43</td>\n",
       "      <td>266748</td>\n",
       "      <td>1294</td>\n",
       "    </tr>\n",
       "    <tr>\n",
       "      <th>4</th>\n",
       "      <td>2019-08-03</td>\n",
       "      <td>A</td>\n",
       "      <td>68</td>\n",
       "      <td>62</td>\n",
       "      <td>354874</td>\n",
       "      <td>1845</td>\n",
       "    </tr>\n",
       "  </tbody>\n",
       "</table>\n",
       "</div>"
      ],
      "text/plain": [
       "        date group  orders  buyers  revenue  visitors\n",
       "0 2019-08-01     A      24      20   148579       719\n",
       "1 2019-08-01     B      21      20   101217       713\n",
       "2 2019-08-02     A      44      38   242401      1338\n",
       "3 2019-08-02     B      45      43   266748      1294\n",
       "4 2019-08-03     A      68      62   354874      1845"
      ]
     },
     "execution_count": 15,
     "metadata": {},
     "output_type": "execute_result"
    }
   ],
   "source": [
    "date_group = orders[['date','group']].drop_duplicates()\n",
    "\n",
    "orders_agg = (date_group\n",
    "                    .apply(lambda x: orders[np.logical_and(orders['date'] <= x['date'], \n",
    "                                                                    orders['group'] == x['group'])]\n",
    "                    .agg({'date':'max', \n",
    "                          'group':'max', \n",
    "                          'transaction_id':'nunique', \n",
    "                          'visitor_id':'nunique', \n",
    "                          'revenue':'sum'}), axis=1)\n",
    "                    .sort_values(by=['date','group']))\n",
    "\n",
    "visitors_agg = (date_group\n",
    "                      .apply(lambda x: visitors[np.logical_and(visitors['date'] <= x['date'], \n",
    "                                                               visitors['group'] == x['group'])]\n",
    "                      .agg({'date' : 'max', \n",
    "                            'group' : 'max', \n",
    "                            'visitors' : 'sum'}), axis=1)\n",
    "                      .sort_values(by=['date','group']))\n",
    "\n",
    "cumulative= orders_agg.merge(visitors_agg, left_on=['date', 'group'], right_on=['date', 'group'])\n",
    "cumulative.columns = ['date', 'group', 'orders', 'buyers', 'revenue', 'visitors']\n",
    "\n",
    "cumulative.head()"
   ]
  },
  {
   "cell_type": "markdown",
   "metadata": {},
   "source": [
    "Создаем датафрейми с данными по группам:"
   ]
  },
  {
   "cell_type": "code",
   "execution_count": 16,
   "metadata": {},
   "outputs": [],
   "source": [
    "cumulative_revenue_a = cumulative[cumulative['group']=='A'][['date','revenue', 'orders']]\n",
    "\n",
    "cumulative_revenue_b = cumulative[cumulative['group']=='B'][['date','revenue', 'orders']]"
   ]
  },
  {
   "cell_type": "markdown",
   "metadata": {},
   "source": [
    "Строим график:"
   ]
  },
  {
   "cell_type": "code",
   "execution_count": 17,
   "metadata": {},
   "outputs": [
    {
     "data": {
      "image/png": "[encoded data removed]",
      "text/plain": [
       "<Figure size 1152x576 with 1 Axes>"
      ]
     },
     "metadata": {
      "needs_background": "light"
     },
     "output_type": "display_data"
    }
   ],
   "source": [
    "plt.figure(figsize=(16, 8))\n",
    "plt.plot(cumulative_revenue_a['date'], cumulative_revenue_a['revenue'], label='A')\n",
    "plt.plot(cumulative_revenue_b['date'], cumulative_revenue_b['revenue'], label='B')\n",
    "\n",
    "sns.set(style='whitegrid')\n",
    "plt.tick_params(axis='x', which='major', labelsize=12)\n",
    "plt.title('График кумулятивной выручки по группам')\n",
    "plt.xlabel('Дата')\n",
    "plt.ylabel('Выручка')\n",
    "plt.legend();"
   ]
  },
  {
   "cell_type": "markdown",
   "metadata": {},
   "source": [
    "По графику видим, что за все время проведения теста группа B показывала результаты лучше, но была достаточно близко у уровню группы A. После 17го числа группа B достаточно резко возрасла в показателях, чем резко увеличила разрывв между граппами."
   ]
  },
  {
   "cell_type": "markdown",
   "metadata": {},
   "source": [
    "### График кумулятивного среднего чека по группам"
   ]
  },
  {
   "cell_type": "code",
   "execution_count": 18,
   "metadata": {},
   "outputs": [
    {
     "data": {
      "image/png": "[encoded data removed]",
      "text/plain": [
       "<Figure size 1152x576 with 1 Axes>"
      ]
     },
     "metadata": {},
     "output_type": "display_data"
    }
   ],
   "source": [
    "plt.figure(figsize=(16, 8))\n",
    "plt.plot(cumulative_revenue_a['date'], cumulative_revenue_a['revenue']/cumulative_revenue_a['orders'], label='A')\n",
    "plt.plot(cumulative_revenue_b['date'], cumulative_revenue_b['revenue']/cumulative_revenue_b['orders'], label='B')\n",
    "\n",
    "plt.tick_params(axis='x', which='major', labelsize=12)\n",
    "plt.title('График кумулятивного среднего чека по группам')\n",
    "plt.xlabel('Дата')\n",
    "plt.ylabel('Средний чек')\n",
    "plt.legend();"
   ]
  },
  {
   "cell_type": "markdown",
   "metadata": {},
   "source": [
    "Здесь график уже не такой плавный, но все равно группа B показывает значения лучше и так же с резким скачком после 17го числа."
   ]
  },
  {
   "cell_type": "markdown",
   "metadata": {},
   "source": [
    "### График относительного изменения кумулятивного среднего чека группы B к группе A"
   ]
  },
  {
   "cell_type": "code",
   "execution_count": 19,
   "metadata": {},
   "outputs": [
    {
     "data": {
      "image/png": "[encoded data removed]",
      "text/plain": [
       "<Figure size 864x576 with 1 Axes>"
      ]
     },
     "metadata": {},
     "output_type": "display_data"
    }
   ],
   "source": [
    "merged_revenue = cumulative_revenue_a.merge(cumulative_revenue_b, \n",
    "                                            left_on='date', \n",
    "                                            right_on='date', \n",
    "                                            how='left', \n",
    "                                            suffixes=['A', 'B'])\n",
    "\n",
    "plt.figure(figsize=(12, 8))\n",
    "plt.plot(merged_revenue['date'], \n",
    "         (merged_revenue['revenueB']/merged_revenue['ordersB'])/\n",
    "         (merged_revenue['revenueA']/merged_revenue['ordersA'])-1)\n",
    "\n",
    "plt.axhline(y=0, color='black', linestyle='--')\n",
    "plt.xlabel('Дата')\n",
    "plt.ylabel('Отношение')\n",
    "plt.title('График относительного изменения кумулятивного среднего чека группы B к группе A');"
   ]
  },
  {
   "cell_type": "markdown",
   "metadata": {},
   "source": [
    "Заметим резкие изменения, на что вероятно влияют аномальные значения."
   ]
  },
  {
   "cell_type": "markdown",
   "metadata": {},
   "source": [
    "### График кумулятивного среднего количества заказов на посетителя по группам"
   ]
  },
  {
   "cell_type": "code",
   "execution_count": 20,
   "metadata": {},
   "outputs": [
    {
     "data": {
      "image/png": "[encoded data removed]",
      "text/plain": [
       "<Figure size 1080x576 with 1 Axes>"
      ]
     },
     "metadata": {},
     "output_type": "display_data"
    }
   ],
   "source": [
    "cumulative['conversion'] = cumulative['orders']/cumulative['visitors']\n",
    "\n",
    "cumulative_a = cumulative[cumulative['group']=='A']\n",
    "cumulative_b = cumulative[cumulative['group']=='B']\n",
    "\n",
    "plt.figure(figsize=(15, 8))\n",
    "plt.plot(cumulative_a['date'], cumulative_a['conversion'], label='A')\n",
    "plt.plot(cumulative_b['date'], cumulative_b['conversion'], label='B')\n",
    "plt.legend()\n",
    "plt.xlabel('Дата')\n",
    "plt.ylabel('Среднее')\n",
    "plt.title('График кумулятивного среднего количества заказов на посетителя по группам');"
   ]
  },
  {
   "cell_type": "markdown",
   "metadata": {},
   "source": [
    "Со старта теста показатели группы A были лучше, но после резких скачков группа B опередила после 6го числа. В районе 17го числа закончилась раскачка и показатели стабилизировались."
   ]
  },
  {
   "cell_type": "markdown",
   "metadata": {},
   "source": [
    "### График относительного изменения кумулятивного среднего количества заказов на посетителя группы B к группе A"
   ]
  },
  {
   "cell_type": "code",
   "execution_count": 21,
   "metadata": {},
   "outputs": [
    {
     "data": {
      "image/png": "[encoded data removed]",
      "text/plain": [
       "<Figure size 1080x576 with 1 Axes>"
      ]
     },
     "metadata": {},
     "output_type": "display_data"
    }
   ],
   "source": [
    "merged_count = cumulative_a[['date','conversion']].merge(cumulative_b[['date','conversion']], \n",
    "                                                         left_on='date', \n",
    "                                                         right_on='date', \n",
    "                                                         how='left', \n",
    "                                                         suffixes=['A', 'B'])\n",
    "plt.figure(figsize=(15, 8))\n",
    "plt.plot(merged_count['date'], \n",
    "         merged_count['conversionB']/merged_count['conversionA']-1, \n",
    "         label=\"Относительного изменения кумулятивного среднего количества заказов на посетителя группы B к группе A\")\n",
    "\n",
    "plt.legend()\n",
    "plt.title('График относительного изменения кумулятивного среднего количества заказов на посетителя группы B к группе A')\n",
    "plt.axhline(y=0, color='black', linestyle='--')\n",
    "plt.axhline(y=-0.1, color='grey', linestyle='--');"
   ]
  },
  {
   "cell_type": "markdown",
   "metadata": {},
   "source": [
    "### Точечный график количества заказов по пользователям"
   ]
  },
  {
   "cell_type": "code",
   "execution_count": 22,
   "metadata": {},
   "outputs": [
    {
     "data": {
      "image/png": "[encoded data removed]",
      "text/plain": [
       "<Figure size 1080x720 with 1 Axes>"
      ]
     },
     "metadata": {},
     "output_type": "display_data"
    }
   ],
   "source": [
    "orders_users = (\n",
    "    orders.groupby('visitor_id', as_index=False)\n",
    "    .agg({'transaction_id': 'nunique'})\n",
    ")\n",
    "orders_users.columns = ['userId', 'orders']\n",
    "\n",
    "x_values = pd.Series(range(0,len(orders_users)))\n",
    "plt.figure(figsize=(15, 10))\n",
    "plt.scatter(x_values, orders_users['orders'])\n",
    "plt.ylabel('Количество заказов')\n",
    "plt.title('График количества заказов по пользователям');"
   ]
  },
  {
   "cell_type": "markdown",
   "metadata": {},
   "source": [
    "Большя часть польователей совершают по одному заказу, мало кто выбился выше 2, но и есть выбросы в виде совершивших более 10 заказов"
   ]
  },
  {
   "cell_type": "markdown",
   "metadata": {},
   "source": [
    "### 95-й и 99-й перцентили количества заказов на пользователя"
   ]
  },
  {
   "cell_type": "code",
   "execution_count": 23,
   "metadata": {},
   "outputs": [
    {
     "data": {
      "text/plain": [
       "array([2., 4.])"
      ]
     },
     "execution_count": 23,
     "metadata": {},
     "output_type": "execute_result"
    }
   ],
   "source": [
    "np.percentile(orders_users['orders'], [95, 99])"
   ]
  },
  {
   "cell_type": "markdown",
   "metadata": {},
   "source": [
    "Более 2 заказов совершало только 5% пользователей, а более 4 лишь 1%\n",
    "Границей для пределения аномальных пользователей я бы назвал тех, кто совершил более 4 заказов, так как это максимально явный выброс и это минимально повлияет на репрезентативность данных. "
   ]
  },
  {
   "cell_type": "markdown",
   "metadata": {},
   "source": [
    "### Точечный график стоимостей заказов"
   ]
  },
  {
   "cell_type": "code",
   "execution_count": 24,
   "metadata": {},
   "outputs": [
    {
     "data": {
      "image/png": "[encoded data removed]",
      "text/plain": [
       "<Figure size 1080x720 with 1 Axes>"
      ]
     },
     "metadata": {},
     "output_type": "display_data"
    }
   ],
   "source": [
    "x_values = pd.Series(range(0, len(orders['revenue'])))\n",
    "plt.figure(figsize=(15, 10))\n",
    "plt.scatter(x_values, orders['revenue'])\n",
    "plt.title('Точечный график стоимостей заказов')\n",
    "plt.ylabel('Стоимость заказа');"
   ]
  },
  {
   "cell_type": "markdown",
   "metadata": {},
   "source": [
    "Есть явный выброс на стоимости более 1.2 млн, а так же 200 тыс. Возможно самый крупный заказ и помог группе B выбиться в лидеры."
   ]
  },
  {
   "cell_type": "markdown",
   "metadata": {},
   "source": [
    "### 95-й и 99-й перцентили стоимости заказов"
   ]
  },
  {
   "cell_type": "code",
   "execution_count": 25,
   "metadata": {},
   "outputs": [
    {
     "data": {
      "text/plain": [
       "array([28000. , 58233.2])"
      ]
     },
     "execution_count": 25,
     "metadata": {},
     "output_type": "execute_result"
    }
   ],
   "source": [
    "np.percentile(orders['revenue'], [95, 99])"
   ]
  },
  {
   "cell_type": "markdown",
   "metadata": {},
   "source": [
    "Более 28 тыс. заплатили только 5% пользователей, а 1% потратил более 58 тыс. на заказы. Здесь так же порогом обозначим 1%, то есть более 58 тыс."
   ]
  },
  {
   "cell_type": "markdown",
   "metadata": {},
   "source": [
    "### Cтатистическая значимость различий в среднем количестве заказов на посетителя между группами по «сырым» данным"
   ]
  },
  {
   "cell_type": "markdown",
   "metadata": {},
   "source": [
    "Сформулируем гипотезы:\n",
    "\n",
    "- H₀: Среднее количество заказов на пользователя между группами не отличается.\n",
    "- H₁: Среднее количество заказов на пользователя между группами не отличается."
   ]
  },
  {
   "cell_type": "code",
   "execution_count": 26,
   "metadata": {},
   "outputs": [],
   "source": [
    "visitorsADaily = visitors[visitors['group'] == 'A'][['date', 'visitors']]\n",
    "visitorsADaily.columns = ['date', 'visitorsPerDateA']\n",
    "\n",
    "visitorsACummulative = visitorsADaily.apply(\n",
    "    lambda x: visitorsADaily[visitorsADaily['date'] <= x['date']].agg(\n",
    "        {'date': 'max', 'visitorsPerDateA': 'sum'}\n",
    "    ),\n",
    "    axis=1,\n",
    ")\n",
    "visitorsACummulative.columns = ['date', 'visitorsCummulativeA']\n",
    "\n",
    "visitorsBDaily = visitors[visitors['group'] == 'B'][['date', 'visitors']]\n",
    "visitorsBDaily.columns = ['date', 'visitorsPerDateB']\n",
    "\n",
    "visitorsBCummulative = visitorsBDaily.apply(\n",
    "    lambda x: visitorsBDaily[visitorsBDaily['date'] <= x['date']].agg(\n",
    "        {'date': 'max', 'visitorsPerDateB': 'sum'}\n",
    "    ),\n",
    "    axis=1,\n",
    ")\n",
    "visitorsBCummulative.columns = ['date', 'visitorsCummulativeB']\n",
    "\n",
    "ordersADaily = (\n",
    "    orders[orders['group'] == 'A'][['date', 'transaction_id', 'visitor_id', 'revenue']]\n",
    "    .groupby('date', as_index=False)\n",
    "    .agg({'transaction_id': pd.Series.nunique, 'revenue': 'sum'})\n",
    ")\n",
    "ordersADaily.columns = ['date', 'ordersPerDateA', 'revenuePerDateA']\n",
    "\n",
    "ordersACummulative = ordersADaily.apply(\n",
    "    lambda x: ordersADaily[ordersADaily['date'] <= x['date']].agg(\n",
    "        {'date': 'max', 'ordersPerDateA': 'sum', 'revenuePerDateA': 'sum'}\n",
    "    ),\n",
    "    axis=1,\n",
    ").sort_values(by=['date'])\n",
    "ordersACummulative.columns = [\n",
    "    'date',\n",
    "    'ordersCummulativeA',\n",
    "    'revenueCummulativeA',\n",
    "]\n",
    "\n",
    "ordersBDaily = (\n",
    "    orders[orders['group'] == 'B'][['date', 'transaction_id', 'visitor_id', 'revenue']]\n",
    "    .groupby('date', as_index=False)\n",
    "    .agg({'transaction_id': pd.Series.nunique, 'revenue': 'sum'})\n",
    ")\n",
    "ordersBDaily.columns = ['date', 'ordersPerDateB', 'revenuePerDateB']\n",
    "\n",
    "ordersBCummulative = ordersBDaily.apply(\n",
    "    lambda x: ordersBDaily[ordersBDaily['date'] <= x['date']].agg(\n",
    "        {'date': 'max', 'ordersPerDateB': 'sum', 'revenuePerDateB': 'sum'}\n",
    "    ),\n",
    "    axis=1,\n",
    ").sort_values(by=['date'])\n",
    "ordersBCummulative.columns = [\n",
    "    'date',\n",
    "    'ordersCummulativeB',\n",
    "    'revenueCummulativeB',\n",
    "]\n",
    "\n",
    "data = (\n",
    "    ordersADaily.merge(\n",
    "        ordersBDaily, left_on='date', right_on='date', how='left'\n",
    "    )\n",
    "    .merge(ordersACummulative, left_on='date', right_on='date', how='left')\n",
    "    .merge(ordersBCummulative, left_on='date', right_on='date', how='left')\n",
    "    .merge(visitorsADaily, left_on='date', right_on='date', how='left')\n",
    "    .merge(visitorsBDaily, left_on='date', right_on='date', how='left')\n",
    "    .merge(visitorsACummulative, left_on='date', right_on='date', how='left')\n",
    "    .merge(visitorsBCummulative, left_on='date', right_on='date', how='left')\n",
    ")\n",
    "\n",
    "\n",
    "ordersByUsersA = (\n",
    "    orders[orders['group'] == 'A']\n",
    "    .groupby('visitor_id', as_index=False)\n",
    "    .agg({'transaction_id': pd.Series.nunique})\n",
    ")\n",
    "ordersByUsersA.columns = ['userId', 'orders']\n",
    "\n",
    "ordersByUsersB = (\n",
    "    orders[orders['group'] == 'B']\n",
    "    .groupby('visitor_id', as_index=False)\n",
    "    .agg({'transaction_id': pd.Series.nunique})\n",
    ")\n",
    "ordersByUsersB.columns = ['userId', 'orders'] \n",
    "\n",
    "sampleA = pd.concat([ordersByUsersA['orders'],pd.Series(0, \n",
    "                                                        index=np.arange(data['visitorsPerDateA'].sum() - \n",
    "                                                                        len(ordersByUsersA['orders'])), \n",
    "                                                        name='orders')],axis=0)\n",
    "\n",
    "sampleB = pd.concat([ordersByUsersB['orders'],pd.Series(0, \n",
    "                                                        index=np.arange(data['visitorsPerDateB'].sum() - \n",
    "                                                                        len(ordersByUsersB['orders'])), \n",
    "                                                        name='orders')],axis=0)\n"
   ]
  },
  {
   "cell_type": "code",
   "execution_count": 27,
   "metadata": {},
   "outputs": [],
   "source": [
    "ordersByUsersA = (\n",
    "    orders[orders['group'] == 'A']\n",
    "    .groupby('visitor_id', as_index=False)\n",
    "    .agg({'transaction_id': pd.Series.nunique})\n",
    ")\n",
    "ordersByUsersA.columns = ['user_id', 'orders']\n",
    "\n",
    "ordersByUsersB = (\n",
    "    orders[orders['group'] == 'B']\n",
    "    .groupby('visitor_id', as_index=False)\n",
    "    .agg({'transaction_id': pd.Series.nunique})\n",
    ")\n",
    "ordersByUsersB.columns = ['user_id', 'orders'] \n",
    "\n",
    "pd.Series(0, index=np.arange(data['visitorsPerDateA'].sum() - len(ordersByUsersA['orders'])), name='orders')\n",
    "\n",
    "sampleA = pd.concat([ordersByUsersA['orders'],pd.Series(0, \n",
    "                                                        index=np.arange(data['visitorsPerDateA'].sum() - \n",
    "                                                                        len(ordersByUsersA['orders'])), \n",
    "                                                        name='orders')],axis=0)\n",
    "sampleB = pd.concat([ordersByUsersB['orders'],pd.Series(0, \n",
    "                                                        index=np.arange(data['visitorsPerDateB'].sum() - \n",
    "                                                                        len(ordersByUsersB['orders'])), \n",
    "                                                        name='orders')],axis=0)\n",
    "\n",
    "sampleA = pd.concat(\n",
    "    [\n",
    "        ordersByUsersA['orders'],\n",
    "        pd.Series(\n",
    "            0,\n",
    "            index=np.arange(\n",
    "                data['visitorsPerDateA'].sum() - len(ordersByUsersA['orders'])\n",
    "            ),\n",
    "            name='orders',\n",
    "        ),\n",
    "    ],\n",
    "    axis=0,\n",
    ")\n",
    "\n",
    "sampleB = pd.concat(\n",
    "    [\n",
    "        ordersByUsersB['orders'],\n",
    "        pd.Series(\n",
    "            0,\n",
    "            index=np.arange(\n",
    "                data['visitorsPerDateB'].sum() - len(ordersByUsersB['orders'])\n",
    "            ),\n",
    "            name='orders',\n",
    "        ),\n",
    "    ],\n",
    "    axis=0,\n",
    ")\n"
   ]
  },
  {
   "cell_type": "code",
   "execution_count": 28,
   "metadata": {},
   "outputs": [
    {
     "name": "stdout",
     "output_type": "stream",
     "text": [
      "p-значение:  0.017\n",
      "Отвергаем нулевую гипотезу\n",
      "отношение группы B к группе A: 0.138\n"
     ]
    }
   ],
   "source": [
    "alpha = .05 \n",
    "results = stats.mannwhitneyu(sampleA, sampleB)\n",
    "\n",
    "print('p-значение: ', \"{0:.3f}\".format(results.pvalue))\n",
    "\n",
    "if results.pvalue < alpha:\n",
    "    print(\"Отвергаем нулевую гипотезу\")\n",
    "else:\n",
    "    print(\"Не получилось отвергнуть нулевую гипотезу\") \n",
    "    \n",
    "print('отношение группы B к группе A:', \"{0:.3f}\".format(sampleB.mean() / sampleA.mean() - 1))      "
   ]
  },
  {
   "cell_type": "markdown",
   "metadata": {},
   "source": [
    "По сырым данным статистическая разница между средним количеством заказов есть, видимо из-за выбросов."
   ]
  },
  {
   "cell_type": "markdown",
   "metadata": {},
   "source": [
    "### Статистическая значимость различий в среднем чеке заказа между группами по «сырым» данным"
   ]
  },
  {
   "cell_type": "markdown",
   "metadata": {},
   "source": [
    "Сформулируем гипотезы:\n",
    "\n",
    "- H₀: Средний чек между группами не отличается.\n",
    "- H₁: Средний чек между группами отличается."
   ]
  },
  {
   "cell_type": "code",
   "execution_count": 29,
   "metadata": {},
   "outputs": [
    {
     "name": "stdout",
     "output_type": "stream",
     "text": [
      "p-значение:  0.729\n",
      "Не получилось отвергнуть нулевую гипотезу\n",
      "отношение группы B к группе A: 0.259\n"
     ]
    }
   ],
   "source": [
    "alpha = .05 \n",
    "results = stats.mannwhitneyu(orders[orders['group']=='A']['revenue'], orders[orders['group']=='B']['revenue'])\n",
    "\n",
    "\n",
    "print('p-значение: ', \"{0:.3f}\".format(results.pvalue))\n",
    "\n",
    "if results.pvalue < alpha:\n",
    "    print(\"Отвергаем нулевую гипотезу\")\n",
    "else:\n",
    "    print(\"Не получилось отвергнуть нулевую гипотезу\")   \n",
    "    \n",
    "print('отношение группы B к группе A:',\"{0:.3f}\".format(orders[orders['group']=='B']['revenue']\n",
    "                       .mean()/orders[orders['group']=='A']['revenue']\n",
    "                       .mean()-1))     "
   ]
  },
  {
   "cell_type": "markdown",
   "metadata": {},
   "source": [
    "Здесь же статистической разницы нет, что странно, ведь показатели у группы B выше."
   ]
  },
  {
   "cell_type": "markdown",
   "metadata": {},
   "source": [
    "### Статистическая значимость различий в среднем количестве заказов на посетителя между группами по «очищенным» данным"
   ]
  },
  {
   "cell_type": "markdown",
   "metadata": {},
   "source": [
    "Сформулируем гипотезы:\n",
    "\n",
    "- H₀: Среднее количество заказов на пользователя между группами не отличается.\n",
    "- H₁: Среднее количество заказов на пользователя между группами не отличается."
   ]
  },
  {
   "cell_type": "code",
   "execution_count": 30,
   "metadata": {},
   "outputs": [],
   "source": [
    "usersWithManyOrders = pd.concat(\n",
    "    [\n",
    "        ordersByUsersA[ordersByUsersA['orders'] > 4]['user_id'],\n",
    "        ordersByUsersB[ordersByUsersB['orders'] > 4]['user_id'],\n",
    "    ],\n",
    "    axis=0,\n",
    ")\n",
    "\n",
    "# срезы пользователей\n",
    "usersWithExpensiveOrders = orders[orders['revenue'] > 58233.2]['visitor_id']\n",
    "abnormalUsers = (\n",
    "    pd.concat([usersWithManyOrders, usersWithExpensiveOrders], axis=0)\n",
    "    .drop_duplicates()\n",
    "    .sort_values()\n",
    ")"
   ]
  },
  {
   "cell_type": "code",
   "execution_count": 31,
   "metadata": {
    "scrolled": true
   },
   "outputs": [
    {
     "name": "stdout",
     "output_type": "stream",
     "text": [
      "p-значение:  0.014\n",
      "Отвергаем нулевую гипотезу\n",
      "отношение группы B к группе A: 0.153\n"
     ]
    }
   ],
   "source": [
    "sampleAFiltered = pd.concat(\n",
    "    [\n",
    "        ordersByUsersA[\n",
    "            np.logical_not(ordersByUsersA['user_id'].isin(abnormalUsers))\n",
    "        ]['orders'],\n",
    "        pd.Series(\n",
    "            0,\n",
    "            index=np.arange(\n",
    "                data['visitorsPerDateA'].sum() - len(ordersByUsersA['orders'])\n",
    "            ),\n",
    "            name='orders',\n",
    "        ),\n",
    "    ],\n",
    "    axis=0,\n",
    ")\n",
    "\n",
    "sampleBFiltered = pd.concat(\n",
    "    [\n",
    "        ordersByUsersB[\n",
    "            np.logical_not(ordersByUsersB['user_id'].isin(abnormalUsers))\n",
    "        ]['orders'],\n",
    "        pd.Series(\n",
    "            0,\n",
    "            index=np.arange(\n",
    "                data['visitorsPerDateB'].sum() - len(ordersByUsersB['orders'])\n",
    "            ),\n",
    "            name='orders',\n",
    "        ),\n",
    "    ],\n",
    "    axis=0,\n",
    ")\n",
    "\n",
    "\n",
    "\n",
    "\n",
    "alpha = .05 \n",
    "results = stats.mannwhitneyu(sampleAFiltered, sampleBFiltered)\n",
    "\n",
    "\n",
    "print('p-значение: ', \"{0:.3f}\".format(results.pvalue))\n",
    "\n",
    "if results.pvalue < alpha:\n",
    "    print(\"Отвергаем нулевую гипотезу\")\n",
    "else:\n",
    "    print(\"Не получилось отвергнуть нулевую гипотезу\")\n",
    "print('отношение группы B к группе A:', \"{0:.3f}\".format(sampleBFiltered.mean()/sampleAFiltered.mean()-1))    "
   ]
  },
  {
   "cell_type": "markdown",
   "metadata": {},
   "source": [
    "После отчистки данных результат не изменился, все таки группа B оказалась лучше."
   ]
  },
  {
   "cell_type": "markdown",
   "metadata": {},
   "source": [
    "### Статистическую значимость различий в среднем чеке заказа между группами по «очищенным» данным"
   ]
  },
  {
   "cell_type": "markdown",
   "metadata": {},
   "source": [
    "H₀: Средний чек между группами не отличается.\n",
    "H₁: Средний чек между группами отличается."
   ]
  },
  {
   "cell_type": "code",
   "execution_count": 32,
   "metadata": {},
   "outputs": [
    {
     "name": "stdout",
     "output_type": "stream",
     "text": [
      "p-значение:  0.851\n",
      "Не получилось отвергнуть нулевую гипотезу\n",
      "отношение группы B к группе A: -0.006\n"
     ]
    }
   ],
   "source": [
    "alpha = .05 \n",
    "results = stats.mannwhitneyu(\n",
    "            orders[\n",
    "                np.logical_and(\n",
    "                    orders['group'] == 'A',\n",
    "                    np.logical_not(orders['visitor_id'].isin(abnormalUsers)),\n",
    "                )\n",
    "            ]['revenue'],\n",
    "            orders[\n",
    "                np.logical_and(\n",
    "                    orders['group'] == 'B',\n",
    "                    np.logical_not(orders['visitor_id'].isin(abnormalUsers)),\n",
    "                )\n",
    "            ]['revenue'],\n",
    "        )\n",
    "\n",
    "print('p-значение: ', \"{0:.3f}\".format(results.pvalue))\n",
    "if results.pvalue < alpha:\n",
    "    print(\"Отвергаем нулевую гипотезу\")\n",
    "else:\n",
    "    print(\"Не получилось отвергнуть нулевую гипотезу\") \n",
    "    \n",
    "print('отношение группы B к группе A:',\n",
    "    \"{0:.3f}\".format(\n",
    "        orders[\n",
    "            np.logical_and(\n",
    "                orders['group'] == 'B',\n",
    "                np.logical_not(orders['visitor_id'].isin(abnormalUsers)),\n",
    "            )\n",
    "        ]['revenue'].mean()\n",
    "        / orders[\n",
    "            np.logical_and(\n",
    "                orders['group'] == 'A',\n",
    "                np.logical_not(orders['visitor_id'].isin(abnormalUsers)),\n",
    "            )\n",
    "        ]['revenue'].mean()\n",
    "        - 1\n",
    "    )\n",
    ")"
   ]
  },
  {
   "cell_type": "markdown",
   "metadata": {},
   "source": [
    "Статистически значимой разницы нет, но после отчистки группа A стала превосходить группу B, хоть и ненамного."
   ]
  },
  {
   "cell_type": "markdown",
   "metadata": {},
   "source": [
    "## Вывод"
   ]
  },
  {
   "cell_type": "markdown",
   "metadata": {},
   "source": [
    "По итогам исследования выяснили следующие факты:\n",
    "\n",
    "- Статистически значимой разницы между группами по среднему чеку нет.\n",
    "- Статистически зачимая разница между группами по среднему количеству заказов на пользователя есть и победителем становится группа B.\n",
    "\n",
    "До отчистки данных показатели группы B  оказались лучше на 13.8%, а после отчистки на 15.3%\n",
    "\n",
    "Данные по одному из показателей оказались выше, поэтому следует остановить тест и зафиксировать победу за группой B"
   ]
  }
 ],
 "metadata": {
  "ExecuteTimeLog": [
   {
    "duration": 6171,
    "start_time": "2023-07-04T10:16:55.008Z"
   },
   {
    "duration": 214,
    "start_time": "2023-07-04T10:17:11.327Z"
   },
   {
    "duration": 301,
    "start_time": "2023-07-04T10:18:54.304Z"
   },
   {
    "duration": 17,
    "start_time": "2023-07-04T10:19:24.025Z"
   },
   {
    "duration": 3,
    "start_time": "2023-07-04T10:20:14.143Z"
   },
   {
    "duration": 16,
    "start_time": "2023-07-04T10:20:25.779Z"
   },
   {
    "duration": 17,
    "start_time": "2023-07-04T10:21:08.630Z"
   },
   {
    "duration": 10,
    "start_time": "2023-07-04T10:21:22.302Z"
   },
   {
    "duration": 14,
    "start_time": "2023-07-04T10:21:34.215Z"
   },
   {
    "duration": 15,
    "start_time": "2023-07-04T10:22:53.213Z"
   },
   {
    "duration": 245,
    "start_time": "2023-07-04T10:24:03.084Z"
   },
   {
    "duration": 15,
    "start_time": "2023-07-04T10:24:04.484Z"
   },
   {
    "duration": 3,
    "start_time": "2023-07-04T10:29:16.411Z"
   },
   {
    "duration": 9,
    "start_time": "2023-07-04T10:29:20.490Z"
   },
   {
    "duration": 9,
    "start_time": "2023-07-04T10:30:15.122Z"
   },
   {
    "duration": 165,
    "start_time": "2023-07-04T10:34:27.810Z"
   },
   {
    "duration": 12,
    "start_time": "2023-07-04T10:34:53.394Z"
   },
   {
    "duration": 35,
    "start_time": "2023-07-04T10:37:19.152Z"
   },
   {
    "duration": 119,
    "start_time": "2023-07-04T10:39:33.921Z"
   },
   {
    "duration": 27,
    "start_time": "2023-07-04T10:39:52.574Z"
   },
   {
    "duration": 27,
    "start_time": "2023-07-04T10:43:28.315Z"
   },
   {
    "duration": 8,
    "start_time": "2023-07-04T10:59:17.216Z"
   },
   {
    "duration": 17,
    "start_time": "2023-07-04T11:00:45.990Z"
   },
   {
    "duration": 16,
    "start_time": "2023-07-04T11:00:50.550Z"
   },
   {
    "duration": 14,
    "start_time": "2023-07-04T11:01:01.319Z"
   },
   {
    "duration": 11,
    "start_time": "2023-07-04T11:01:18.790Z"
   },
   {
    "duration": 8,
    "start_time": "2023-07-04T11:03:48.527Z"
   },
   {
    "duration": 11,
    "start_time": "2023-07-04T11:03:52.519Z"
   },
   {
    "duration": 10,
    "start_time": "2023-07-04T11:03:58.687Z"
   },
   {
    "duration": 26,
    "start_time": "2023-07-04T11:04:07.849Z"
   },
   {
    "duration": 7,
    "start_time": "2023-07-04T11:04:13.727Z"
   },
   {
    "duration": 8,
    "start_time": "2023-07-04T11:05:22.906Z"
   },
   {
    "duration": 10,
    "start_time": "2023-07-04T11:05:46.375Z"
   },
   {
    "duration": 61,
    "start_time": "2023-07-05T11:29:05.273Z"
   },
   {
    "duration": 1434,
    "start_time": "2023-07-05T11:29:13.081Z"
   },
   {
    "duration": 205,
    "start_time": "2023-07-05T11:29:14.518Z"
   },
   {
    "duration": 15,
    "start_time": "2023-07-05T11:29:14.724Z"
   },
   {
    "duration": 17,
    "start_time": "2023-07-05T11:29:14.740Z"
   },
   {
    "duration": 15,
    "start_time": "2023-07-05T11:29:14.759Z"
   },
   {
    "duration": 62,
    "start_time": "2023-07-05T11:29:14.777Z"
   },
   {
    "duration": 21,
    "start_time": "2023-07-05T11:29:14.842Z"
   },
   {
    "duration": 14,
    "start_time": "2023-07-05T11:29:14.866Z"
   },
   {
    "duration": 20,
    "start_time": "2023-07-05T11:29:14.882Z"
   },
   {
    "duration": 15,
    "start_time": "2023-07-05T11:29:14.904Z"
   },
   {
    "duration": 12,
    "start_time": "2023-07-05T11:29:14.921Z"
   },
   {
    "duration": 13,
    "start_time": "2023-07-05T11:29:14.935Z"
   },
   {
    "duration": 18,
    "start_time": "2023-07-05T11:29:14.950Z"
   },
   {
    "duration": 13,
    "start_time": "2023-07-05T11:29:14.972Z"
   },
   {
    "duration": 338,
    "start_time": "2023-07-05T11:29:15.010Z"
   },
   {
    "duration": 313,
    "start_time": "2023-07-05T11:30:37.279Z"
   },
   {
    "duration": 339,
    "start_time": "2023-07-05T11:31:46.371Z"
   },
   {
    "duration": 326,
    "start_time": "2023-07-05T11:32:00.755Z"
   },
   {
    "duration": 314,
    "start_time": "2023-07-05T11:35:48.458Z"
   },
   {
    "duration": 357,
    "start_time": "2023-07-05T11:36:28.602Z"
   },
   {
    "duration": 314,
    "start_time": "2023-07-05T11:38:56.053Z"
   },
   {
    "duration": 9,
    "start_time": "2023-07-05T11:43:08.518Z"
   },
   {
    "duration": 95,
    "start_time": "2023-07-05T11:44:58.254Z"
   },
   {
    "duration": 313,
    "start_time": "2023-07-05T11:45:13.943Z"
   },
   {
    "duration": 448,
    "start_time": "2023-07-05T11:46:09.160Z"
   },
   {
    "duration": 299,
    "start_time": "2023-07-05T11:46:18.426Z"
   },
   {
    "duration": 261,
    "start_time": "2023-07-05T11:46:31.415Z"
   },
   {
    "duration": 299,
    "start_time": "2023-07-05T11:46:41.654Z"
   },
   {
    "duration": 258,
    "start_time": "2023-07-05T11:47:13.032Z"
   },
   {
    "duration": 231,
    "start_time": "2023-07-05T11:49:23.299Z"
   },
   {
    "duration": 338,
    "start_time": "2023-07-05T11:49:37.161Z"
   },
   {
    "duration": 25,
    "start_time": "2023-07-05T11:50:00.810Z"
   },
   {
    "duration": 657,
    "start_time": "2023-07-05T11:50:21.946Z"
   },
   {
    "duration": 6,
    "start_time": "2023-07-05T11:50:38.815Z"
   },
   {
    "duration": 593,
    "start_time": "2023-07-05T11:51:04.001Z"
   },
   {
    "duration": 545,
    "start_time": "2023-07-05T11:51:33.681Z"
   },
   {
    "duration": 537,
    "start_time": "2023-07-05T11:51:50.697Z"
   },
   {
    "duration": 517,
    "start_time": "2023-07-05T11:52:10.530Z"
   },
   {
    "duration": 531,
    "start_time": "2023-07-05T11:52:16.834Z"
   },
   {
    "duration": 513,
    "start_time": "2023-07-05T11:53:02.570Z"
   },
   {
    "duration": 628,
    "start_time": "2023-07-05T12:03:30.943Z"
   },
   {
    "duration": 526,
    "start_time": "2023-07-05T12:04:40.814Z"
   },
   {
    "duration": 631,
    "start_time": "2023-07-05T12:04:56.199Z"
   },
   {
    "duration": 520,
    "start_time": "2023-07-05T12:05:22.969Z"
   },
   {
    "duration": 4,
    "start_time": "2023-07-05T12:21:42.503Z"
   },
   {
    "duration": 99,
    "start_time": "2023-07-05T12:21:42.509Z"
   },
   {
    "duration": 10,
    "start_time": "2023-07-05T12:21:42.610Z"
   },
   {
    "duration": 23,
    "start_time": "2023-07-05T12:21:42.621Z"
   },
   {
    "duration": 20,
    "start_time": "2023-07-05T12:21:42.647Z"
   },
   {
    "duration": 18,
    "start_time": "2023-07-05T12:21:42.669Z"
   },
   {
    "duration": 24,
    "start_time": "2023-07-05T12:21:42.689Z"
   },
   {
    "duration": 13,
    "start_time": "2023-07-05T12:21:42.715Z"
   },
   {
    "duration": 22,
    "start_time": "2023-07-05T12:21:42.730Z"
   },
   {
    "duration": 32,
    "start_time": "2023-07-05T12:21:42.754Z"
   },
   {
    "duration": 15,
    "start_time": "2023-07-05T12:21:42.788Z"
   },
   {
    "duration": 29,
    "start_time": "2023-07-05T12:21:42.805Z"
   },
   {
    "duration": 41,
    "start_time": "2023-07-05T12:21:42.836Z"
   },
   {
    "duration": 29,
    "start_time": "2023-07-05T12:21:42.880Z"
   },
   {
    "duration": 318,
    "start_time": "2023-07-05T12:21:42.911Z"
   },
   {
    "duration": 8,
    "start_time": "2023-07-05T12:21:43.231Z"
   },
   {
    "duration": 549,
    "start_time": "2023-07-05T12:21:43.241Z"
   },
   {
    "duration": 542,
    "start_time": "2023-07-05T12:21:43.793Z"
   },
   {
    "duration": 627,
    "start_time": "2023-07-05T12:21:44.338Z"
   },
   {
    "duration": 544,
    "start_time": "2023-07-05T12:26:01.137Z"
   },
   {
    "duration": 618,
    "start_time": "2023-07-05T12:27:15.561Z"
   },
   {
    "duration": 19,
    "start_time": "2023-07-05T12:48:18.181Z"
   },
   {
    "duration": 573,
    "start_time": "2023-07-05T12:48:35.560Z"
   },
   {
    "duration": 534,
    "start_time": "2023-07-05T12:49:12.503Z"
   },
   {
    "duration": 470,
    "start_time": "2023-07-05T12:49:46.910Z"
   },
   {
    "duration": 564,
    "start_time": "2023-07-05T12:50:34.063Z"
   },
   {
    "duration": 722,
    "start_time": "2023-07-05T12:51:31.942Z"
   },
   {
    "duration": 622,
    "start_time": "2023-07-05T13:01:33.996Z"
   },
   {
    "duration": 621,
    "start_time": "2023-07-05T13:18:30.697Z"
   },
   {
    "duration": 658,
    "start_time": "2023-07-05T13:19:27.473Z"
   },
   {
    "duration": 372,
    "start_time": "2023-07-05T13:24:40.147Z"
   },
   {
    "duration": 352,
    "start_time": "2023-07-05T13:25:57.344Z"
   },
   {
    "duration": 380,
    "start_time": "2023-07-05T13:26:10.350Z"
   },
   {
    "duration": 52,
    "start_time": "2023-07-05T13:32:11.406Z"
   },
   {
    "duration": 72,
    "start_time": "2023-07-05T13:32:16.287Z"
   },
   {
    "duration": 6,
    "start_time": "2023-07-05T13:32:32.545Z"
   },
   {
    "duration": 1474,
    "start_time": "2023-07-05T14:53:10.836Z"
   },
   {
    "duration": 217,
    "start_time": "2023-07-05T14:53:12.313Z"
   },
   {
    "duration": 14,
    "start_time": "2023-07-05T14:53:12.532Z"
   },
   {
    "duration": 28,
    "start_time": "2023-07-05T14:53:12.548Z"
   },
   {
    "duration": 19,
    "start_time": "2023-07-05T14:53:12.578Z"
   },
   {
    "duration": 15,
    "start_time": "2023-07-05T14:53:12.600Z"
   },
   {
    "duration": 15,
    "start_time": "2023-07-05T14:53:12.617Z"
   },
   {
    "duration": 14,
    "start_time": "2023-07-05T14:53:12.634Z"
   },
   {
    "duration": 13,
    "start_time": "2023-07-05T14:53:12.651Z"
   },
   {
    "duration": 57,
    "start_time": "2023-07-05T14:53:12.667Z"
   },
   {
    "duration": 13,
    "start_time": "2023-07-05T14:53:12.727Z"
   },
   {
    "duration": 11,
    "start_time": "2023-07-05T14:53:12.742Z"
   },
   {
    "duration": 14,
    "start_time": "2023-07-05T14:53:12.756Z"
   },
   {
    "duration": 45,
    "start_time": "2023-07-05T14:53:12.772Z"
   },
   {
    "duration": 458,
    "start_time": "2023-07-05T14:53:12.819Z"
   },
   {
    "duration": 0,
    "start_time": "2023-07-05T14:53:13.279Z"
   },
   {
    "duration": 0,
    "start_time": "2023-07-05T14:53:13.280Z"
   },
   {
    "duration": 1,
    "start_time": "2023-07-05T14:53:13.282Z"
   },
   {
    "duration": 0,
    "start_time": "2023-07-05T14:53:13.284Z"
   },
   {
    "duration": 0,
    "start_time": "2023-07-05T14:53:13.286Z"
   },
   {
    "duration": 0,
    "start_time": "2023-07-05T14:53:13.288Z"
   },
   {
    "duration": 0,
    "start_time": "2023-07-05T14:53:13.289Z"
   },
   {
    "duration": 0,
    "start_time": "2023-07-05T14:53:13.314Z"
   },
   {
    "duration": 328,
    "start_time": "2023-07-05T14:53:57.370Z"
   },
   {
    "duration": 4,
    "start_time": "2023-07-05T14:54:12.942Z"
   },
   {
    "duration": 85,
    "start_time": "2023-07-05T14:54:12.949Z"
   },
   {
    "duration": 9,
    "start_time": "2023-07-05T14:54:13.036Z"
   },
   {
    "duration": 21,
    "start_time": "2023-07-05T14:54:13.048Z"
   },
   {
    "duration": 11,
    "start_time": "2023-07-05T14:54:13.071Z"
   },
   {
    "duration": 28,
    "start_time": "2023-07-05T14:54:13.085Z"
   },
   {
    "duration": 10,
    "start_time": "2023-07-05T14:54:13.115Z"
   },
   {
    "duration": 18,
    "start_time": "2023-07-05T14:54:13.127Z"
   },
   {
    "duration": 19,
    "start_time": "2023-07-05T14:54:13.149Z"
   },
   {
    "duration": 44,
    "start_time": "2023-07-05T14:54:13.170Z"
   },
   {
    "duration": 8,
    "start_time": "2023-07-05T14:54:13.217Z"
   },
   {
    "duration": 15,
    "start_time": "2023-07-05T14:54:13.228Z"
   },
   {
    "duration": 27,
    "start_time": "2023-07-05T14:54:13.245Z"
   },
   {
    "duration": 39,
    "start_time": "2023-07-05T14:54:13.274Z"
   },
   {
    "duration": 549,
    "start_time": "2023-07-05T14:54:13.316Z"
   },
   {
    "duration": 18,
    "start_time": "2023-07-05T14:54:13.868Z"
   },
   {
    "duration": 391,
    "start_time": "2023-07-05T14:54:13.888Z"
   },
   {
    "duration": 364,
    "start_time": "2023-07-05T14:54:14.281Z"
   },
   {
    "duration": 506,
    "start_time": "2023-07-05T14:54:14.647Z"
   },
   {
    "duration": 528,
    "start_time": "2023-07-05T14:54:15.155Z"
   },
   {
    "duration": 503,
    "start_time": "2023-07-05T14:54:15.685Z"
   },
   {
    "duration": 271,
    "start_time": "2023-07-05T14:54:16.191Z"
   },
   {
    "duration": 6,
    "start_time": "2023-07-05T14:54:16.464Z"
   },
   {
    "duration": 306,
    "start_time": "2023-07-05T14:56:09.173Z"
   },
   {
    "duration": 273,
    "start_time": "2023-07-05T14:57:57.901Z"
   },
   {
    "duration": 352,
    "start_time": "2023-07-05T14:59:00.311Z"
   },
   {
    "duration": 260,
    "start_time": "2023-07-05T14:59:05.493Z"
   },
   {
    "duration": 266,
    "start_time": "2023-07-05T15:00:43.081Z"
   },
   {
    "duration": 241,
    "start_time": "2023-07-05T15:00:50.454Z"
   },
   {
    "duration": 6,
    "start_time": "2023-07-05T15:07:46.231Z"
   },
   {
    "duration": 1698,
    "start_time": "2023-07-05T15:08:00.603Z"
   },
   {
    "duration": 5,
    "start_time": "2023-07-05T15:08:11.483Z"
   },
   {
    "duration": 5,
    "start_time": "2023-07-05T15:15:03.214Z"
   },
   {
    "duration": 5,
    "start_time": "2023-07-05T15:15:08.606Z"
   },
   {
    "duration": 7,
    "start_time": "2023-07-05T15:34:43.253Z"
   },
   {
    "duration": 13,
    "start_time": "2023-07-05T15:34:50.850Z"
   },
   {
    "duration": 7,
    "start_time": "2023-07-05T15:35:35.891Z"
   },
   {
    "duration": 1097,
    "start_time": "2023-07-05T15:35:52.986Z"
   },
   {
    "duration": 11,
    "start_time": "2023-07-05T15:36:10.425Z"
   },
   {
    "duration": 423,
    "start_time": "2023-07-05T15:37:05.391Z"
   },
   {
    "duration": 16,
    "start_time": "2023-07-05T15:37:12.331Z"
   },
   {
    "duration": 12,
    "start_time": "2023-07-05T15:37:26.790Z"
   },
   {
    "duration": 9,
    "start_time": "2023-07-05T15:37:37.112Z"
   },
   {
    "duration": 7,
    "start_time": "2023-07-05T15:37:44.834Z"
   },
   {
    "duration": 106,
    "start_time": "2023-07-05T15:41:57.593Z"
   },
   {
    "duration": 110,
    "start_time": "2023-07-05T15:42:36.300Z"
   },
   {
    "duration": 2098,
    "start_time": "2023-07-05T15:43:29.196Z"
   },
   {
    "duration": 1400,
    "start_time": "2023-07-05T15:44:06.340Z"
   },
   {
    "duration": 16,
    "start_time": "2023-07-05T15:44:14.422Z"
   },
   {
    "duration": 708,
    "start_time": "2023-07-05T15:45:45.781Z"
   },
   {
    "duration": 10,
    "start_time": "2023-07-05T15:49:55.361Z"
   },
   {
    "duration": 11,
    "start_time": "2023-07-05T15:50:51.430Z"
   },
   {
    "duration": 18,
    "start_time": "2023-07-05T15:51:08.218Z"
   },
   {
    "duration": 28,
    "start_time": "2023-07-05T15:51:19.023Z"
   },
   {
    "duration": 355,
    "start_time": "2023-07-05T15:54:09.810Z"
   },
   {
    "duration": 16,
    "start_time": "2023-07-05T15:54:32.624Z"
   },
   {
    "duration": 17,
    "start_time": "2023-07-05T16:02:48.522Z"
   },
   {
    "duration": 15,
    "start_time": "2023-07-05T16:02:55.051Z"
   },
   {
    "duration": 12,
    "start_time": "2023-07-05T16:03:09.973Z"
   },
   {
    "duration": 15,
    "start_time": "2023-07-05T16:03:14.398Z"
   },
   {
    "duration": 14,
    "start_time": "2023-07-05T16:03:18.087Z"
   },
   {
    "duration": 14,
    "start_time": "2023-07-05T16:03:25.412Z"
   },
   {
    "duration": 115,
    "start_time": "2023-07-05T16:05:34.029Z"
   },
   {
    "duration": 90,
    "start_time": "2023-07-05T16:05:40.245Z"
   },
   {
    "duration": 11,
    "start_time": "2023-07-05T16:05:52.404Z"
   },
   {
    "duration": 13,
    "start_time": "2023-07-05T16:06:07.838Z"
   },
   {
    "duration": 14,
    "start_time": "2023-07-05T16:06:36.398Z"
   },
   {
    "duration": 1555,
    "start_time": "2023-07-05T16:10:06.703Z"
   },
   {
    "duration": 1583,
    "start_time": "2023-07-05T16:11:33.048Z"
   },
   {
    "duration": 10,
    "start_time": "2023-07-05T16:11:55.849Z"
   },
   {
    "duration": 1479,
    "start_time": "2023-07-05T16:13:40.641Z"
   },
   {
    "duration": 1471,
    "start_time": "2023-07-05T16:13:50.337Z"
   },
   {
    "duration": 14,
    "start_time": "2023-07-05T16:35:15.205Z"
   },
   {
    "duration": 10,
    "start_time": "2023-07-05T16:35:25.594Z"
   },
   {
    "duration": 6,
    "start_time": "2023-07-05T16:36:15.554Z"
   },
   {
    "duration": 77,
    "start_time": "2023-07-05T16:42:22.015Z"
   },
   {
    "duration": 11,
    "start_time": "2023-07-05T16:42:40.125Z"
   },
   {
    "duration": 121,
    "start_time": "2023-07-05T16:43:11.533Z"
   },
   {
    "duration": 1441,
    "start_time": "2023-07-06T08:05:41.638Z"
   },
   {
    "duration": 202,
    "start_time": "2023-07-06T08:05:43.081Z"
   },
   {
    "duration": 12,
    "start_time": "2023-07-06T08:05:43.285Z"
   },
   {
    "duration": 12,
    "start_time": "2023-07-06T08:05:43.299Z"
   },
   {
    "duration": 9,
    "start_time": "2023-07-06T08:05:43.313Z"
   },
   {
    "duration": 8,
    "start_time": "2023-07-06T08:05:43.323Z"
   },
   {
    "duration": 9,
    "start_time": "2023-07-06T08:05:43.333Z"
   },
   {
    "duration": 19,
    "start_time": "2023-07-06T08:05:43.344Z"
   },
   {
    "duration": 11,
    "start_time": "2023-07-06T08:05:43.365Z"
   },
   {
    "duration": 15,
    "start_time": "2023-07-06T08:05:43.378Z"
   },
   {
    "duration": 7,
    "start_time": "2023-07-06T08:05:43.395Z"
   },
   {
    "duration": 8,
    "start_time": "2023-07-06T08:05:43.403Z"
   },
   {
    "duration": 43,
    "start_time": "2023-07-06T08:05:43.412Z"
   },
   {
    "duration": 13,
    "start_time": "2023-07-06T08:05:43.458Z"
   },
   {
    "duration": 320,
    "start_time": "2023-07-06T08:05:43.473Z"
   },
   {
    "duration": 7,
    "start_time": "2023-07-06T08:05:43.795Z"
   },
   {
    "duration": 341,
    "start_time": "2023-07-06T08:05:43.804Z"
   },
   {
    "duration": 342,
    "start_time": "2023-07-06T08:05:44.147Z"
   },
   {
    "duration": 477,
    "start_time": "2023-07-06T08:05:44.491Z"
   },
   {
    "duration": 380,
    "start_time": "2023-07-06T08:05:44.970Z"
   },
   {
    "duration": 455,
    "start_time": "2023-07-06T08:05:45.352Z"
   },
   {
    "duration": 218,
    "start_time": "2023-07-06T08:05:45.809Z"
   },
   {
    "duration": 6,
    "start_time": "2023-07-06T08:05:46.029Z"
   },
   {
    "duration": 227,
    "start_time": "2023-07-06T08:05:46.037Z"
   },
   {
    "duration": 6,
    "start_time": "2023-07-06T08:05:46.266Z"
   },
   {
    "duration": 38,
    "start_time": "2023-07-06T08:05:46.274Z"
   },
   {
    "duration": 19,
    "start_time": "2023-07-06T08:05:46.314Z"
   },
   {
    "duration": 187,
    "start_time": "2023-07-06T08:05:46.334Z"
   },
   {
    "duration": 0,
    "start_time": "2023-07-06T08:05:46.523Z"
   },
   {
    "duration": 0,
    "start_time": "2023-07-06T08:05:46.524Z"
   },
   {
    "duration": 0,
    "start_time": "2023-07-06T08:05:46.527Z"
   },
   {
    "duration": 19,
    "start_time": "2023-07-06T08:06:10.702Z"
   },
   {
    "duration": 170,
    "start_time": "2023-07-06T08:06:42.172Z"
   },
   {
    "duration": 9,
    "start_time": "2023-07-06T08:06:50.945Z"
   },
   {
    "duration": 148,
    "start_time": "2023-07-06T08:08:11.082Z"
   },
   {
    "duration": 1758,
    "start_time": "2023-07-06T08:09:36.452Z"
   },
   {
    "duration": 8,
    "start_time": "2023-07-06T08:10:08.164Z"
   },
   {
    "duration": 10,
    "start_time": "2023-07-06T08:11:16.778Z"
   },
   {
    "duration": 208,
    "start_time": "2023-07-06T08:20:23.452Z"
   },
   {
    "duration": 12,
    "start_time": "2023-07-06T08:22:45.903Z"
   },
   {
    "duration": 242,
    "start_time": "2023-07-06T08:23:01.196Z"
   },
   {
    "duration": 154,
    "start_time": "2023-07-06T08:23:35.811Z"
   },
   {
    "duration": 12,
    "start_time": "2023-07-06T08:32:37.993Z"
   },
   {
    "duration": 185,
    "start_time": "2023-07-06T08:32:43.093Z"
   },
   {
    "duration": 30,
    "start_time": "2023-07-06T08:32:51.265Z"
   },
   {
    "duration": 156,
    "start_time": "2023-07-06T08:33:35.951Z"
   },
   {
    "duration": 29,
    "start_time": "2023-07-06T08:33:38.891Z"
   },
   {
    "duration": 34,
    "start_time": "2023-07-06T08:33:56.416Z"
   },
   {
    "duration": 7,
    "start_time": "2023-07-06T08:34:28.794Z"
   },
   {
    "duration": 7,
    "start_time": "2023-07-06T08:34:50.267Z"
   },
   {
    "duration": 5,
    "start_time": "2023-07-06T08:35:12.599Z"
   },
   {
    "duration": 24,
    "start_time": "2023-07-06T08:35:39.842Z"
   },
   {
    "duration": 42,
    "start_time": "2023-07-06T08:36:18.689Z"
   },
   {
    "duration": 125,
    "start_time": "2023-07-06T08:38:03.634Z"
   },
   {
    "duration": 125,
    "start_time": "2023-07-06T08:39:47.034Z"
   },
   {
    "duration": 122,
    "start_time": "2023-07-06T08:40:36.809Z"
   },
   {
    "duration": 242,
    "start_time": "2023-07-06T08:41:01.581Z"
   },
   {
    "duration": 389,
    "start_time": "2023-07-06T08:41:46.448Z"
   },
   {
    "duration": 40,
    "start_time": "2023-07-06T08:42:59.584Z"
   },
   {
    "duration": 412,
    "start_time": "2023-07-06T08:48:16.442Z"
   },
   {
    "duration": 25,
    "start_time": "2023-07-06T08:48:20.589Z"
   },
   {
    "duration": 1691,
    "start_time": "2023-07-06T08:51:28.508Z"
   },
   {
    "duration": 1459,
    "start_time": "2023-07-06T08:52:05.209Z"
   },
   {
    "duration": 15,
    "start_time": "2023-07-06T08:53:38.841Z"
   },
   {
    "duration": 1331,
    "start_time": "2023-07-06T08:53:57.355Z"
   },
   {
    "duration": 13,
    "start_time": "2023-07-06T08:56:23.638Z"
   },
   {
    "duration": 1432,
    "start_time": "2023-07-06T08:59:59.929Z"
   },
   {
    "duration": 11,
    "start_time": "2023-07-06T09:01:25.833Z"
   },
   {
    "duration": 1416,
    "start_time": "2023-07-06T09:01:59.068Z"
   },
   {
    "duration": 1500,
    "start_time": "2023-07-06T09:03:29.310Z"
   },
   {
    "duration": 1348,
    "start_time": "2023-07-06T09:03:51.705Z"
   },
   {
    "duration": 1416,
    "start_time": "2023-07-06T09:04:01.323Z"
   },
   {
    "duration": 1577,
    "start_time": "2023-07-06T09:06:14.395Z"
   },
   {
    "duration": 1389,
    "start_time": "2023-07-06T09:07:05.090Z"
   },
   {
    "duration": 10,
    "start_time": "2023-07-06T09:07:23.484Z"
   },
   {
    "duration": 7,
    "start_time": "2023-07-06T09:08:12.790Z"
   },
   {
    "duration": 1324,
    "start_time": "2023-07-06T09:08:19.542Z"
   },
   {
    "duration": 1385,
    "start_time": "2023-07-06T09:08:54.839Z"
   },
   {
    "duration": 31,
    "start_time": "2023-07-06T09:10:01.436Z"
   },
   {
    "duration": 9,
    "start_time": "2023-07-06T09:23:42.992Z"
   },
   {
    "duration": 1386,
    "start_time": "2023-07-06T09:25:26.646Z"
   },
   {
    "duration": 1517,
    "start_time": "2023-07-06T09:28:27.113Z"
   },
   {
    "duration": 36,
    "start_time": "2023-07-06T09:30:08.980Z"
   },
   {
    "duration": 1670,
    "start_time": "2023-07-06T09:30:47.633Z"
   },
   {
    "duration": 21,
    "start_time": "2023-07-06T09:31:54.543Z"
   },
   {
    "duration": 1327,
    "start_time": "2023-07-06T09:34:28.326Z"
   },
   {
    "duration": 79,
    "start_time": "2023-07-06T09:34:29.655Z"
   },
   {
    "duration": 12,
    "start_time": "2023-07-06T09:34:29.735Z"
   },
   {
    "duration": 15,
    "start_time": "2023-07-06T09:34:29.751Z"
   },
   {
    "duration": 12,
    "start_time": "2023-07-06T09:34:29.768Z"
   },
   {
    "duration": 12,
    "start_time": "2023-07-06T09:34:29.782Z"
   },
   {
    "duration": 20,
    "start_time": "2023-07-06T09:34:29.795Z"
   },
   {
    "duration": 18,
    "start_time": "2023-07-06T09:34:29.817Z"
   },
   {
    "duration": 29,
    "start_time": "2023-07-06T09:34:29.838Z"
   },
   {
    "duration": 42,
    "start_time": "2023-07-06T09:34:29.870Z"
   },
   {
    "duration": 20,
    "start_time": "2023-07-06T09:34:29.914Z"
   },
   {
    "duration": 44,
    "start_time": "2023-07-06T09:34:29.936Z"
   },
   {
    "duration": 21,
    "start_time": "2023-07-06T09:34:29.981Z"
   },
   {
    "duration": 31,
    "start_time": "2023-07-06T09:34:30.004Z"
   },
   {
    "duration": 158,
    "start_time": "2023-07-06T09:34:30.037Z"
   },
   {
    "duration": 0,
    "start_time": "2023-07-06T09:34:30.197Z"
   },
   {
    "duration": 0,
    "start_time": "2023-07-06T09:34:30.199Z"
   },
   {
    "duration": 0,
    "start_time": "2023-07-06T09:34:30.200Z"
   },
   {
    "duration": 0,
    "start_time": "2023-07-06T09:34:30.201Z"
   },
   {
    "duration": 0,
    "start_time": "2023-07-06T09:34:30.202Z"
   },
   {
    "duration": 0,
    "start_time": "2023-07-06T09:34:30.204Z"
   },
   {
    "duration": 0,
    "start_time": "2023-07-06T09:34:30.205Z"
   },
   {
    "duration": 0,
    "start_time": "2023-07-06T09:34:30.206Z"
   },
   {
    "duration": 0,
    "start_time": "2023-07-06T09:34:30.207Z"
   },
   {
    "duration": 0,
    "start_time": "2023-07-06T09:34:30.209Z"
   },
   {
    "duration": 0,
    "start_time": "2023-07-06T09:34:30.210Z"
   },
   {
    "duration": 0,
    "start_time": "2023-07-06T09:34:30.211Z"
   },
   {
    "duration": 0,
    "start_time": "2023-07-06T09:34:30.213Z"
   },
   {
    "duration": 0,
    "start_time": "2023-07-06T09:34:30.214Z"
   },
   {
    "duration": 0,
    "start_time": "2023-07-06T09:34:30.216Z"
   },
   {
    "duration": 0,
    "start_time": "2023-07-06T09:34:30.217Z"
   },
   {
    "duration": 0,
    "start_time": "2023-07-06T09:34:30.255Z"
   },
   {
    "duration": 0,
    "start_time": "2023-07-06T09:34:30.256Z"
   },
   {
    "duration": 317,
    "start_time": "2023-07-06T09:35:29.838Z"
   },
   {
    "duration": 4,
    "start_time": "2023-07-06T09:35:36.858Z"
   },
   {
    "duration": 82,
    "start_time": "2023-07-06T09:35:36.865Z"
   },
   {
    "duration": 11,
    "start_time": "2023-07-06T09:35:36.950Z"
   },
   {
    "duration": 13,
    "start_time": "2023-07-06T09:35:36.964Z"
   },
   {
    "duration": 13,
    "start_time": "2023-07-06T09:35:36.979Z"
   },
   {
    "duration": 15,
    "start_time": "2023-07-06T09:35:36.993Z"
   },
   {
    "duration": 44,
    "start_time": "2023-07-06T09:35:37.010Z"
   },
   {
    "duration": 12,
    "start_time": "2023-07-06T09:35:37.056Z"
   },
   {
    "duration": 14,
    "start_time": "2023-07-06T09:35:37.071Z"
   },
   {
    "duration": 20,
    "start_time": "2023-07-06T09:35:37.092Z"
   },
   {
    "duration": 44,
    "start_time": "2023-07-06T09:35:37.116Z"
   },
   {
    "duration": 28,
    "start_time": "2023-07-06T09:35:37.163Z"
   },
   {
    "duration": 22,
    "start_time": "2023-07-06T09:35:37.194Z"
   },
   {
    "duration": 36,
    "start_time": "2023-07-06T09:35:37.218Z"
   },
   {
    "duration": 434,
    "start_time": "2023-07-06T09:35:37.258Z"
   },
   {
    "duration": 10,
    "start_time": "2023-07-06T09:35:37.694Z"
   },
   {
    "duration": 404,
    "start_time": "2023-07-06T09:35:37.707Z"
   },
   {
    "duration": 408,
    "start_time": "2023-07-06T09:35:38.113Z"
   },
   {
    "duration": 503,
    "start_time": "2023-07-06T09:35:38.523Z"
   },
   {
    "duration": 387,
    "start_time": "2023-07-06T09:35:39.028Z"
   },
   {
    "duration": 652,
    "start_time": "2023-07-06T09:35:39.417Z"
   },
   {
    "duration": 28,
    "start_time": "2023-07-06T09:35:40.071Z"
   },
   {
    "duration": 0,
    "start_time": "2023-07-06T09:35:40.102Z"
   },
   {
    "duration": 0,
    "start_time": "2023-07-06T09:35:40.104Z"
   },
   {
    "duration": 0,
    "start_time": "2023-07-06T09:35:40.105Z"
   },
   {
    "duration": 1,
    "start_time": "2023-07-06T09:35:40.107Z"
   },
   {
    "duration": 0,
    "start_time": "2023-07-06T09:35:40.109Z"
   },
   {
    "duration": 0,
    "start_time": "2023-07-06T09:35:40.111Z"
   },
   {
    "duration": 0,
    "start_time": "2023-07-06T09:35:40.112Z"
   },
   {
    "duration": 0,
    "start_time": "2023-07-06T09:35:40.114Z"
   },
   {
    "duration": 0,
    "start_time": "2023-07-06T09:35:40.115Z"
   },
   {
    "duration": 1,
    "start_time": "2023-07-06T09:35:40.116Z"
   },
   {
    "duration": 0,
    "start_time": "2023-07-06T09:35:40.118Z"
   },
   {
    "duration": 205,
    "start_time": "2023-07-06T09:36:24.024Z"
   },
   {
    "duration": 6,
    "start_time": "2023-07-06T09:36:34.102Z"
   },
   {
    "duration": 309,
    "start_time": "2023-07-06T09:36:34.110Z"
   },
   {
    "duration": 6,
    "start_time": "2023-07-06T09:36:34.422Z"
   },
   {
    "duration": 374,
    "start_time": "2023-07-06T09:36:34.430Z"
   },
   {
    "duration": 161,
    "start_time": "2023-07-06T09:36:34.806Z"
   },
   {
    "duration": 26,
    "start_time": "2023-07-06T09:36:34.969Z"
   },
   {
    "duration": 11,
    "start_time": "2023-07-06T09:36:34.997Z"
   },
   {
    "duration": 1423,
    "start_time": "2023-07-06T09:36:35.010Z"
   },
   {
    "duration": 0,
    "start_time": "2023-07-06T09:36:36.436Z"
   },
   {
    "duration": 0,
    "start_time": "2023-07-06T09:36:36.438Z"
   },
   {
    "duration": 0,
    "start_time": "2023-07-06T09:36:36.439Z"
   },
   {
    "duration": 12,
    "start_time": "2023-07-06T09:37:26.709Z"
   },
   {
    "duration": 9,
    "start_time": "2023-07-06T09:37:37.521Z"
   },
   {
    "duration": 1420,
    "start_time": "2023-07-06T09:37:37.533Z"
   },
   {
    "duration": 0,
    "start_time": "2023-07-06T09:37:38.955Z"
   },
   {
    "duration": 0,
    "start_time": "2023-07-06T09:37:38.956Z"
   },
   {
    "duration": 33,
    "start_time": "2023-07-06T09:39:20.287Z"
   },
   {
    "duration": 31,
    "start_time": "2023-07-06T09:39:33.878Z"
   },
   {
    "duration": 4,
    "start_time": "2023-07-06T09:39:33.913Z"
   },
   {
    "duration": 0,
    "start_time": "2023-07-06T09:39:33.919Z"
   },
   {
    "duration": 18,
    "start_time": "2023-07-06T09:39:42.491Z"
   },
   {
    "duration": 1284,
    "start_time": "2023-07-06T09:40:13.012Z"
   },
   {
    "duration": 98,
    "start_time": "2023-07-06T09:40:14.298Z"
   },
   {
    "duration": 16,
    "start_time": "2023-07-06T09:40:14.399Z"
   },
   {
    "duration": 18,
    "start_time": "2023-07-06T09:40:14.418Z"
   },
   {
    "duration": 13,
    "start_time": "2023-07-06T09:40:14.439Z"
   },
   {
    "duration": 18,
    "start_time": "2023-07-06T09:40:14.455Z"
   },
   {
    "duration": 8,
    "start_time": "2023-07-06T09:40:14.475Z"
   },
   {
    "duration": 11,
    "start_time": "2023-07-06T09:40:14.485Z"
   },
   {
    "duration": 19,
    "start_time": "2023-07-06T09:40:14.498Z"
   },
   {
    "duration": 40,
    "start_time": "2023-07-06T09:40:14.520Z"
   },
   {
    "duration": 12,
    "start_time": "2023-07-06T09:40:14.563Z"
   },
   {
    "duration": 10,
    "start_time": "2023-07-06T09:40:14.577Z"
   },
   {
    "duration": 14,
    "start_time": "2023-07-06T09:40:14.590Z"
   },
   {
    "duration": 13,
    "start_time": "2023-07-06T09:40:14.606Z"
   },
   {
    "duration": 470,
    "start_time": "2023-07-06T09:40:14.621Z"
   },
   {
    "duration": 8,
    "start_time": "2023-07-06T09:40:15.093Z"
   },
   {
    "duration": 389,
    "start_time": "2023-07-06T09:40:15.103Z"
   },
   {
    "duration": 385,
    "start_time": "2023-07-06T09:40:15.494Z"
   },
   {
    "duration": 435,
    "start_time": "2023-07-06T09:40:15.881Z"
   },
   {
    "duration": 433,
    "start_time": "2023-07-06T09:40:16.318Z"
   },
   {
    "duration": 492,
    "start_time": "2023-07-06T09:40:16.753Z"
   },
   {
    "duration": 241,
    "start_time": "2023-07-06T09:40:17.247Z"
   },
   {
    "duration": 6,
    "start_time": "2023-07-06T09:40:17.490Z"
   },
   {
    "duration": 292,
    "start_time": "2023-07-06T09:40:17.497Z"
   },
   {
    "duration": 7,
    "start_time": "2023-07-06T09:40:17.791Z"
   },
   {
    "duration": 531,
    "start_time": "2023-07-06T09:40:17.800Z"
   },
   {
    "duration": 205,
    "start_time": "2023-07-06T09:40:18.333Z"
   },
   {
    "duration": 40,
    "start_time": "2023-07-06T09:40:18.542Z"
   },
   {
    "duration": 8,
    "start_time": "2023-07-06T09:40:18.584Z"
   },
   {
    "duration": 76,
    "start_time": "2023-07-06T09:40:18.594Z"
   },
   {
    "duration": 33,
    "start_time": "2023-07-06T09:40:18.672Z"
   },
   {
    "duration": 16,
    "start_time": "2023-07-06T09:40:18.707Z"
   },
   {
    "duration": 155,
    "start_time": "2023-07-06T09:41:25.584Z"
   },
   {
    "duration": 13,
    "start_time": "2023-07-06T09:49:12.061Z"
   },
   {
    "duration": 12,
    "start_time": "2023-07-06T09:51:22.932Z"
   },
   {
    "duration": 42,
    "start_time": "2023-07-06T09:51:35.695Z"
   },
   {
    "duration": 12,
    "start_time": "2023-07-06T09:52:35.790Z"
   },
   {
    "duration": 1258,
    "start_time": "2023-07-06T09:59:09.932Z"
   },
   {
    "duration": 80,
    "start_time": "2023-07-06T09:59:11.192Z"
   },
   {
    "duration": 12,
    "start_time": "2023-07-06T09:59:11.274Z"
   },
   {
    "duration": 14,
    "start_time": "2023-07-06T09:59:11.288Z"
   },
   {
    "duration": 13,
    "start_time": "2023-07-06T09:59:11.306Z"
   },
   {
    "duration": 15,
    "start_time": "2023-07-06T09:59:11.321Z"
   },
   {
    "duration": 8,
    "start_time": "2023-07-06T09:59:11.356Z"
   },
   {
    "duration": 15,
    "start_time": "2023-07-06T09:59:11.367Z"
   },
   {
    "duration": 15,
    "start_time": "2023-07-06T09:59:11.384Z"
   },
   {
    "duration": 15,
    "start_time": "2023-07-06T09:59:11.400Z"
   },
   {
    "duration": 41,
    "start_time": "2023-07-06T09:59:11.417Z"
   },
   {
    "duration": 7,
    "start_time": "2023-07-06T09:59:11.460Z"
   },
   {
    "duration": 13,
    "start_time": "2023-07-06T09:59:11.470Z"
   },
   {
    "duration": 11,
    "start_time": "2023-07-06T09:59:11.487Z"
   },
   {
    "duration": 347,
    "start_time": "2023-07-06T09:59:11.500Z"
   },
   {
    "duration": 8,
    "start_time": "2023-07-06T09:59:11.853Z"
   },
   {
    "duration": 345,
    "start_time": "2023-07-06T09:59:11.863Z"
   },
   {
    "duration": 360,
    "start_time": "2023-07-06T09:59:12.209Z"
   },
   {
    "duration": 424,
    "start_time": "2023-07-06T09:59:12.571Z"
   },
   {
    "duration": 403,
    "start_time": "2023-07-06T09:59:12.996Z"
   },
   {
    "duration": 433,
    "start_time": "2023-07-06T09:59:13.401Z"
   },
   {
    "duration": 227,
    "start_time": "2023-07-06T09:59:13.836Z"
   },
   {
    "duration": 6,
    "start_time": "2023-07-06T09:59:14.065Z"
   },
   {
    "duration": 243,
    "start_time": "2023-07-06T09:59:14.073Z"
   },
   {
    "duration": 5,
    "start_time": "2023-07-06T09:59:14.319Z"
   },
   {
    "duration": 538,
    "start_time": "2023-07-06T09:59:14.325Z"
   },
   {
    "duration": 188,
    "start_time": "2023-07-06T09:59:14.866Z"
   },
   {
    "duration": 29,
    "start_time": "2023-07-06T09:59:15.056Z"
   },
   {
    "duration": 15,
    "start_time": "2023-07-06T09:59:15.087Z"
   },
   {
    "duration": 10,
    "start_time": "2023-07-06T09:59:15.104Z"
   },
   {
    "duration": 71,
    "start_time": "2023-07-06T09:59:15.116Z"
   },
   {
    "duration": 23,
    "start_time": "2023-07-06T09:59:15.190Z"
   },
   {
    "duration": 1595,
    "start_time": "2023-07-06T18:13:17.163Z"
   },
   {
    "duration": 396,
    "start_time": "2023-07-06T18:13:18.760Z"
   },
   {
    "duration": 15,
    "start_time": "2023-07-06T18:13:19.158Z"
   },
   {
    "duration": 23,
    "start_time": "2023-07-06T18:13:19.176Z"
   },
   {
    "duration": 28,
    "start_time": "2023-07-06T18:13:19.202Z"
   },
   {
    "duration": 29,
    "start_time": "2023-07-06T18:13:19.232Z"
   },
   {
    "duration": 21,
    "start_time": "2023-07-06T18:13:19.263Z"
   },
   {
    "duration": 14,
    "start_time": "2023-07-06T18:13:19.286Z"
   },
   {
    "duration": 26,
    "start_time": "2023-07-06T18:13:19.302Z"
   },
   {
    "duration": 16,
    "start_time": "2023-07-06T18:13:19.332Z"
   },
   {
    "duration": 18,
    "start_time": "2023-07-06T18:13:19.350Z"
   },
   {
    "duration": 22,
    "start_time": "2023-07-06T18:13:19.370Z"
   },
   {
    "duration": 24,
    "start_time": "2023-07-06T18:13:19.394Z"
   },
   {
    "duration": 20,
    "start_time": "2023-07-06T18:13:19.419Z"
   },
   {
    "duration": 344,
    "start_time": "2023-07-06T18:13:19.441Z"
   },
   {
    "duration": 15,
    "start_time": "2023-07-06T18:13:19.787Z"
   },
   {
    "duration": 375,
    "start_time": "2023-07-06T18:13:19.805Z"
   },
   {
    "duration": 430,
    "start_time": "2023-07-06T18:13:20.182Z"
   },
   {
    "duration": 512,
    "start_time": "2023-07-06T18:13:20.614Z"
   },
   {
    "duration": 431,
    "start_time": "2023-07-06T18:13:21.128Z"
   },
   {
    "duration": 496,
    "start_time": "2023-07-06T18:13:21.560Z"
   },
   {
    "duration": 241,
    "start_time": "2023-07-06T18:13:22.057Z"
   },
   {
    "duration": 9,
    "start_time": "2023-07-06T18:13:22.301Z"
   },
   {
    "duration": 296,
    "start_time": "2023-07-06T18:13:22.313Z"
   },
   {
    "duration": 9,
    "start_time": "2023-07-06T18:13:22.611Z"
   },
   {
    "duration": 529,
    "start_time": "2023-07-06T18:13:22.622Z"
   },
   {
    "duration": 187,
    "start_time": "2023-07-06T18:13:23.153Z"
   },
   {
    "duration": 23,
    "start_time": "2023-07-06T18:13:23.344Z"
   },
   {
    "duration": 52,
    "start_time": "2023-07-06T18:13:23.369Z"
   },
   {
    "duration": 17,
    "start_time": "2023-07-06T18:13:23.423Z"
   },
   {
    "duration": 34,
    "start_time": "2023-07-06T18:13:23.442Z"
   },
   {
    "duration": 29,
    "start_time": "2023-07-06T18:13:23.478Z"
   }
  ],
  "kernelspec": {
   "display_name": "Python 3 (ipykernel)",
   "language": "python",
   "name": "python3"
  },
  "language_info": {
   "codemirror_mode": {
    "name": "ipython",
    "version": 3
   },
   "file_extension": ".py",
   "mimetype": "text/x-python",
   "name": "python",
   "nbconvert_exporter": "python",
   "pygments_lexer": "ipython3",
   "version": "3.10.9"
  },
  "toc": {
   "base_numbering": 1,
   "nav_menu": {},
   "number_sections": true,
   "sideBar": true,
   "skip_h1_title": true,
   "title_cell": "Table of Contents",
   "title_sidebar": "Contents",
   "toc_cell": false,
   "toc_position": {
    "height": "calc(100% - 180px)",
    "left": "10px",
    "top": "150px",
    "width": "167.886px"
   },
   "toc_section_display": true,
   "toc_window_display": false
  }
 },
 "nbformat": 4,
 "nbformat_minor": 2
}
