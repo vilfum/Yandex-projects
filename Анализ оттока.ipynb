{
 "cells": [
  {
   "cell_type": "markdown",
   "metadata": {},
   "source": [
    "***Презентация:*** <https://disk.yandex.ru/i/egGIK1IwUA1DFA>"
   ]
  },
  {
   "cell_type": "markdown",
   "metadata": {
    "id": "YouEi_6UAdak"
   },
   "source": [
    "# Анализ оттока Клиентов банка \"Метанпром\""
   ]
  },
  {
   "cell_type": "markdown",
   "metadata": {
    "id": "8NFbFCOLAdam"
   },
   "source": [
    "***Цель исследования:*** Определение сегментов Клиентов с повышенной вероятностью оттока для проведения маркетинговых кампаний.\n",
    "\n",
    "***Описание данных***\n",
    "\n",
    "Датасет содержит данные о клиентах банка «Метанпром». Банк располагается в\n",
    "Ярославле и областных городах: Ростов Великий и Рыбинск.\n",
    "\n",
    "Колонки:\n",
    "- userid — идентификатор пользователя,\n",
    "- score — баллы кредитного скоринга,\n",
    "- City — город,\n",
    "- Gender — пол,\n",
    "- Age — возраст,\n",
    "- equity — количество баллов собственности,\n",
    "- Balance — баланс на счёте,\n",
    "- Products — количество продуктов, которыми пользуется клиент,\n",
    "- CreditCard — есть ли кредитная карта,\n",
    "- last_activity — активный клиент,\n",
    "- est_salary — заработная плата клиента,\n",
    "- Churn — ушёл или нет."
   ]
  },
  {
   "cell_type": "markdown",
   "metadata": {
    "id": "KV7_qTZ_Adan"
   },
   "source": [
    "## Загрузка и обзор данных"
   ]
  },
  {
   "cell_type": "markdown",
   "metadata": {
    "id": "BTaCVpC0Adan"
   },
   "source": [
    "Импорт библиотек:"
   ]
  },
  {
   "cell_type": "code",
   "execution_count": 67,
   "metadata": {
    "id": "PBpEJuSIAdao"
   },
   "outputs": [],
   "source": [
    "import pandas as pd\n",
    "import seaborn as sns\n",
    "import numpy as np\n",
    "import statistics as stat\n",
    "import matplotlib.pyplot as plt\n",
    "from scipy import stats as st\n",
    "import warnings\n",
    "warnings.filterwarnings('ignore')"
   ]
  },
  {
   "cell_type": "markdown",
   "metadata": {
    "id": "WFDAVzH6Adap"
   },
   "source": [
    "Загрузим датасет:"
   ]
  },
  {
   "cell_type": "code",
   "execution_count": 2,
   "metadata": {
    "colab": {
     "base_uri": "https://localhost:8080/",
     "height": 363
    },
    "id": "wDCOZ02PAdap",
    "outputId": "fa75e794-0b94-4f76-817d-60b75fbf0aa2"
   },
   "outputs": [
    {
     "data": {
      "text/html": [
       "<div>\n",
       "<style scoped>\n",
       "    .dataframe tbody tr th:only-of-type {\n",
       "        vertical-align: middle;\n",
       "    }\n",
       "\n",
       "    .dataframe tbody tr th {\n",
       "        vertical-align: top;\n",
       "    }\n",
       "\n",
       "    .dataframe thead th {\n",
       "        text-align: right;\n",
       "    }\n",
       "</style>\n",
       "<table border=\"1\" class=\"dataframe\">\n",
       "  <thead>\n",
       "    <tr style=\"text-align: right;\">\n",
       "      <th></th>\n",
       "      <th>USERID</th>\n",
       "      <th>score</th>\n",
       "      <th>city</th>\n",
       "      <th>gender</th>\n",
       "      <th>age</th>\n",
       "      <th>equity</th>\n",
       "      <th>balance</th>\n",
       "      <th>products</th>\n",
       "      <th>credit_card</th>\n",
       "      <th>last_activity</th>\n",
       "      <th>EST_SALARY</th>\n",
       "      <th>churn</th>\n",
       "    </tr>\n",
       "  </thead>\n",
       "  <tbody>\n",
       "    <tr>\n",
       "      <th>0</th>\n",
       "      <td>183012</td>\n",
       "      <td>850.0</td>\n",
       "      <td>Рыбинск</td>\n",
       "      <td>Ж</td>\n",
       "      <td>25.0</td>\n",
       "      <td>1</td>\n",
       "      <td>59214.82</td>\n",
       "      <td>2</td>\n",
       "      <td>0</td>\n",
       "      <td>1</td>\n",
       "      <td>75719.14</td>\n",
       "      <td>1</td>\n",
       "    </tr>\n",
       "    <tr>\n",
       "      <th>1</th>\n",
       "      <td>146556</td>\n",
       "      <td>861.0</td>\n",
       "      <td>Рыбинск</td>\n",
       "      <td>Ж</td>\n",
       "      <td>37.0</td>\n",
       "      <td>5</td>\n",
       "      <td>850594.33</td>\n",
       "      <td>3</td>\n",
       "      <td>1</td>\n",
       "      <td>0</td>\n",
       "      <td>86621.77</td>\n",
       "      <td>0</td>\n",
       "    </tr>\n",
       "    <tr>\n",
       "      <th>2</th>\n",
       "      <td>120722</td>\n",
       "      <td>892.0</td>\n",
       "      <td>Рыбинск</td>\n",
       "      <td>Ж</td>\n",
       "      <td>30.0</td>\n",
       "      <td>0</td>\n",
       "      <td>NaN</td>\n",
       "      <td>1</td>\n",
       "      <td>1</td>\n",
       "      <td>1</td>\n",
       "      <td>107683.34</td>\n",
       "      <td>0</td>\n",
       "    </tr>\n",
       "    <tr>\n",
       "      <th>3</th>\n",
       "      <td>225363</td>\n",
       "      <td>866.0</td>\n",
       "      <td>Ярославль</td>\n",
       "      <td>Ж</td>\n",
       "      <td>51.0</td>\n",
       "      <td>5</td>\n",
       "      <td>1524746.26</td>\n",
       "      <td>2</td>\n",
       "      <td>0</td>\n",
       "      <td>1</td>\n",
       "      <td>174423.53</td>\n",
       "      <td>1</td>\n",
       "    </tr>\n",
       "    <tr>\n",
       "      <th>4</th>\n",
       "      <td>157978</td>\n",
       "      <td>730.0</td>\n",
       "      <td>Ярославль</td>\n",
       "      <td>М</td>\n",
       "      <td>34.0</td>\n",
       "      <td>5</td>\n",
       "      <td>174.00</td>\n",
       "      <td>1</td>\n",
       "      <td>1</td>\n",
       "      <td>0</td>\n",
       "      <td>67353.16</td>\n",
       "      <td>1</td>\n",
       "    </tr>\n",
       "    <tr>\n",
       "      <th>5</th>\n",
       "      <td>202305</td>\n",
       "      <td>856.0</td>\n",
       "      <td>Рыбинск</td>\n",
       "      <td>М</td>\n",
       "      <td>56.0</td>\n",
       "      <td>4</td>\n",
       "      <td>863687.24</td>\n",
       "      <td>3</td>\n",
       "      <td>1</td>\n",
       "      <td>0</td>\n",
       "      <td>156619.80</td>\n",
       "      <td>0</td>\n",
       "    </tr>\n",
       "    <tr>\n",
       "      <th>6</th>\n",
       "      <td>177259</td>\n",
       "      <td>807.0</td>\n",
       "      <td>Ярославль</td>\n",
       "      <td>Ж</td>\n",
       "      <td>39.0</td>\n",
       "      <td>3</td>\n",
       "      <td>405042.44</td>\n",
       "      <td>3</td>\n",
       "      <td>0</td>\n",
       "      <td>1</td>\n",
       "      <td>103838.32</td>\n",
       "      <td>0</td>\n",
       "    </tr>\n",
       "    <tr>\n",
       "      <th>7</th>\n",
       "      <td>218868</td>\n",
       "      <td>825.0</td>\n",
       "      <td>Ярославль</td>\n",
       "      <td>Ж</td>\n",
       "      <td>38.0</td>\n",
       "      <td>4</td>\n",
       "      <td>458145.40</td>\n",
       "      <td>2</td>\n",
       "      <td>1</td>\n",
       "      <td>1</td>\n",
       "      <td>68085.48</td>\n",
       "      <td>0</td>\n",
       "    </tr>\n",
       "    <tr>\n",
       "      <th>8</th>\n",
       "      <td>211686</td>\n",
       "      <td>923.0</td>\n",
       "      <td>Ярославль</td>\n",
       "      <td>М</td>\n",
       "      <td>54.0</td>\n",
       "      <td>5</td>\n",
       "      <td>1206337.87</td>\n",
       "      <td>2</td>\n",
       "      <td>1</td>\n",
       "      <td>0</td>\n",
       "      <td>155371.79</td>\n",
       "      <td>0</td>\n",
       "    </tr>\n",
       "    <tr>\n",
       "      <th>9</th>\n",
       "      <td>133130</td>\n",
       "      <td>906.0</td>\n",
       "      <td>Ярославль</td>\n",
       "      <td>Ж</td>\n",
       "      <td>67.0</td>\n",
       "      <td>0</td>\n",
       "      <td>NaN</td>\n",
       "      <td>1</td>\n",
       "      <td>0</td>\n",
       "      <td>1</td>\n",
       "      <td>238055.53</td>\n",
       "      <td>0</td>\n",
       "    </tr>\n",
       "  </tbody>\n",
       "</table>\n",
       "</div>"
      ],
      "text/plain": [
       "   USERID  score       city gender   age  equity     balance  products  \\\n",
       "0  183012  850.0    Рыбинск      Ж  25.0       1    59214.82         2   \n",
       "1  146556  861.0    Рыбинск      Ж  37.0       5   850594.33         3   \n",
       "2  120722  892.0    Рыбинск      Ж  30.0       0         NaN         1   \n",
       "3  225363  866.0  Ярославль      Ж  51.0       5  1524746.26         2   \n",
       "4  157978  730.0  Ярославль      М  34.0       5      174.00         1   \n",
       "5  202305  856.0    Рыбинск      М  56.0       4   863687.24         3   \n",
       "6  177259  807.0  Ярославль      Ж  39.0       3   405042.44         3   \n",
       "7  218868  825.0  Ярославль      Ж  38.0       4   458145.40         2   \n",
       "8  211686  923.0  Ярославль      М  54.0       5  1206337.87         2   \n",
       "9  133130  906.0  Ярославль      Ж  67.0       0         NaN         1   \n",
       "\n",
       "   credit_card  last_activity  EST_SALARY  churn  \n",
       "0            0              1    75719.14      1  \n",
       "1            1              0    86621.77      0  \n",
       "2            1              1   107683.34      0  \n",
       "3            0              1   174423.53      1  \n",
       "4            1              0    67353.16      1  \n",
       "5            1              0   156619.80      0  \n",
       "6            0              1   103838.32      0  \n",
       "7            1              1    68085.48      0  \n",
       "8            1              0   155371.79      0  \n",
       "9            0              1   238055.53      0  "
      ]
     },
     "execution_count": 2,
     "metadata": {},
     "output_type": "execute_result"
    }
   ],
   "source": [
    "data = pd.read_csv('https://code.s3.yandex.net/datasets/bank_scrooge.csv')\n",
    "data.head(10)"
   ]
  },
  {
   "cell_type": "markdown",
   "metadata": {
    "id": "nr6_eNE8Adaq"
   },
   "source": [
    "Посмотрим общую информацию по датасету:"
   ]
  },
  {
   "cell_type": "code",
   "execution_count": 3,
   "metadata": {
    "colab": {
     "base_uri": "https://localhost:8080/"
    },
    "id": "8AbigIFBAdar",
    "outputId": "d4727448-8bd6-44cd-b281-373d0f8fee7e"
   },
   "outputs": [
    {
     "name": "stdout",
     "output_type": "stream",
     "text": [
      "<class 'pandas.core.frame.DataFrame'>\n",
      "RangeIndex: 10000 entries, 0 to 9999\n",
      "Data columns (total 12 columns):\n",
      " #   Column         Non-Null Count  Dtype  \n",
      "---  ------         --------------  -----  \n",
      " 0   USERID         10000 non-null  int64  \n",
      " 1   score          10000 non-null  float64\n",
      " 2   city           10000 non-null  object \n",
      " 3   gender         10000 non-null  object \n",
      " 4   age            9974 non-null   float64\n",
      " 5   equity         10000 non-null  int64  \n",
      " 6   balance        7705 non-null   float64\n",
      " 7   products       10000 non-null  int64  \n",
      " 8   credit_card    10000 non-null  int64  \n",
      " 9   last_activity  10000 non-null  int64  \n",
      " 10  EST_SALARY     10000 non-null  float64\n",
      " 11  churn          10000 non-null  int64  \n",
      "dtypes: float64(4), int64(6), object(2)\n",
      "memory usage: 937.6+ KB\n"
     ]
    }
   ],
   "source": [
    "data.info()"
   ]
  },
  {
   "cell_type": "code",
   "execution_count": 4,
   "metadata": {
    "colab": {
     "base_uri": "https://localhost:8080/",
     "height": 300
    },
    "id": "v_wM5dKUAdar",
    "outputId": "1453cffd-6e8e-47c9-d230-87ae5db41ec6"
   },
   "outputs": [
    {
     "data": {
      "text/html": [
       "<div>\n",
       "<style scoped>\n",
       "    .dataframe tbody tr th:only-of-type {\n",
       "        vertical-align: middle;\n",
       "    }\n",
       "\n",
       "    .dataframe tbody tr th {\n",
       "        vertical-align: top;\n",
       "    }\n",
       "\n",
       "    .dataframe thead th {\n",
       "        text-align: right;\n",
       "    }\n",
       "</style>\n",
       "<table border=\"1\" class=\"dataframe\">\n",
       "  <thead>\n",
       "    <tr style=\"text-align: right;\">\n",
       "      <th></th>\n",
       "      <th>USERID</th>\n",
       "      <th>score</th>\n",
       "      <th>age</th>\n",
       "      <th>equity</th>\n",
       "      <th>balance</th>\n",
       "      <th>products</th>\n",
       "      <th>credit_card</th>\n",
       "      <th>last_activity</th>\n",
       "      <th>EST_SALARY</th>\n",
       "      <th>churn</th>\n",
       "    </tr>\n",
       "  </thead>\n",
       "  <tbody>\n",
       "    <tr>\n",
       "      <th>count</th>\n",
       "      <td>10000.00</td>\n",
       "      <td>10000.00</td>\n",
       "      <td>9974.00</td>\n",
       "      <td>10000.00</td>\n",
       "      <td>7705.00</td>\n",
       "      <td>10000.00</td>\n",
       "      <td>10000.00</td>\n",
       "      <td>10000.00</td>\n",
       "      <td>10000.00</td>\n",
       "      <td>10000.00</td>\n",
       "    </tr>\n",
       "    <tr>\n",
       "      <th>mean</th>\n",
       "      <td>171814.71</td>\n",
       "      <td>848.70</td>\n",
       "      <td>42.73</td>\n",
       "      <td>2.63</td>\n",
       "      <td>827794.31</td>\n",
       "      <td>1.87</td>\n",
       "      <td>0.68</td>\n",
       "      <td>0.52</td>\n",
       "      <td>147866.89</td>\n",
       "      <td>0.18</td>\n",
       "    </tr>\n",
       "    <tr>\n",
       "      <th>std</th>\n",
       "      <td>33708.24</td>\n",
       "      <td>65.45</td>\n",
       "      <td>12.18</td>\n",
       "      <td>1.98</td>\n",
       "      <td>1980614.15</td>\n",
       "      <td>0.79</td>\n",
       "      <td>0.47</td>\n",
       "      <td>0.50</td>\n",
       "      <td>139388.51</td>\n",
       "      <td>0.39</td>\n",
       "    </tr>\n",
       "    <tr>\n",
       "      <th>min</th>\n",
       "      <td>94561.00</td>\n",
       "      <td>642.00</td>\n",
       "      <td>18.00</td>\n",
       "      <td>0.00</td>\n",
       "      <td>0.00</td>\n",
       "      <td>0.00</td>\n",
       "      <td>0.00</td>\n",
       "      <td>0.00</td>\n",
       "      <td>2546.30</td>\n",
       "      <td>0.00</td>\n",
       "    </tr>\n",
       "    <tr>\n",
       "      <th>25%</th>\n",
       "      <td>142810.25</td>\n",
       "      <td>802.00</td>\n",
       "      <td>33.00</td>\n",
       "      <td>0.00</td>\n",
       "      <td>295554.16</td>\n",
       "      <td>1.00</td>\n",
       "      <td>0.00</td>\n",
       "      <td>0.00</td>\n",
       "      <td>75251.90</td>\n",
       "      <td>0.00</td>\n",
       "    </tr>\n",
       "    <tr>\n",
       "      <th>50%</th>\n",
       "      <td>172728.00</td>\n",
       "      <td>853.00</td>\n",
       "      <td>40.00</td>\n",
       "      <td>3.00</td>\n",
       "      <td>524272.20</td>\n",
       "      <td>2.00</td>\n",
       "      <td>1.00</td>\n",
       "      <td>1.00</td>\n",
       "      <td>119658.10</td>\n",
       "      <td>0.00</td>\n",
       "    </tr>\n",
       "    <tr>\n",
       "      <th>75%</th>\n",
       "      <td>201261.75</td>\n",
       "      <td>900.00</td>\n",
       "      <td>51.00</td>\n",
       "      <td>4.00</td>\n",
       "      <td>980705.85</td>\n",
       "      <td>2.00</td>\n",
       "      <td>1.00</td>\n",
       "      <td>1.00</td>\n",
       "      <td>174500.54</td>\n",
       "      <td>0.00</td>\n",
       "    </tr>\n",
       "    <tr>\n",
       "      <th>max</th>\n",
       "      <td>229145.00</td>\n",
       "      <td>1000.00</td>\n",
       "      <td>86.00</td>\n",
       "      <td>9.00</td>\n",
       "      <td>119113552.01</td>\n",
       "      <td>5.00</td>\n",
       "      <td>1.00</td>\n",
       "      <td>1.00</td>\n",
       "      <td>1395064.45</td>\n",
       "      <td>1.00</td>\n",
       "    </tr>\n",
       "  </tbody>\n",
       "</table>\n",
       "</div>"
      ],
      "text/plain": [
       "         USERID    score     age   equity      balance  products  credit_card  \\\n",
       "count  10000.00 10000.00 9974.00 10000.00      7705.00  10000.00     10000.00   \n",
       "mean  171814.71   848.70   42.73     2.63    827794.31      1.87         0.68   \n",
       "std    33708.24    65.45   12.18     1.98   1980614.15      0.79         0.47   \n",
       "min    94561.00   642.00   18.00     0.00         0.00      0.00         0.00   \n",
       "25%   142810.25   802.00   33.00     0.00    295554.16      1.00         0.00   \n",
       "50%   172728.00   853.00   40.00     3.00    524272.20      2.00         1.00   \n",
       "75%   201261.75   900.00   51.00     4.00    980705.85      2.00         1.00   \n",
       "max   229145.00  1000.00   86.00     9.00 119113552.01      5.00         1.00   \n",
       "\n",
       "       last_activity  EST_SALARY    churn  \n",
       "count       10000.00    10000.00 10000.00  \n",
       "mean            0.52   147866.89     0.18  \n",
       "std             0.50   139388.51     0.39  \n",
       "min             0.00     2546.30     0.00  \n",
       "25%             0.00    75251.90     0.00  \n",
       "50%             1.00   119658.10     0.00  \n",
       "75%             1.00   174500.54     0.00  \n",
       "max             1.00  1395064.45     1.00  "
      ]
     },
     "execution_count": 4,
     "metadata": {},
     "output_type": "execute_result"
    }
   ],
   "source": [
    "pd.set_option('display.float_format', lambda x: '%.2f' % x)\n",
    "data.describe()"
   ]
  },
  {
   "cell_type": "markdown",
   "metadata": {
    "id": "p1fDQYPDAdas"
   },
   "source": [
    "***Вывод:***\n",
    "\n",
    "В распоряжении 12 столбцов и 10000 строк, в двух из них имеются пропуски.\n",
    "\n",
    "Кредитный скоринг Клиентов от 642 до 1000. Согласно данным из открытых источников с данными баллами есть высокий шанс для одобрения кредита. Делаем вывод, что банк выдает кредиты лишь Клиентам в высоким баллом, вероятно, ввиду из-за того, что банк небольшой и снижение рисков является первостепенной задачей. Так же по этому показателю можно сказать, что Клиенты платежеспособны и ценны для банка, чем и вызвана необходимость в удержании.\n",
    "\n",
    "Возраст от 18 до 86 лет\n",
    "\n",
    "Оценка собственности от 0 до 9\n",
    "\n",
    "Количество продуктов от 0 до 5. Необходимо дополнительно рассмотреть Клиентов, у которых нет продуктов банка, так как без хотя бы одного продукта Клиентом не стать.\n",
    "\n",
    "Баланс от нуля до 119.113.552, видим чей-то ошеломительный успех, средний класс рассмотрит максимум как выброс.\n",
    "\n",
    "Заработная плата от 2546.30 до 1.395.064,45, тоже вероятен выброс, учитывая среднюю зарплату по датасету и по Росстату. Так же минимум не соответствует МРОТ, вероятно в данных учитываются иные выплаты (пенсия, пособие), так же возможно у некоторых Клиентов \"серо-белая зарплата\", что достаточно распространено, и в анкете указывется только белая часть, поэтому минимум трогать не будем.\n",
    "\n",
    "Столбцы credit_card, last_activity и churn приведем к булевому типу, так как они содержат только нули и единицы. products, score и age преобразуем в int."
   ]
  },
  {
   "cell_type": "markdown",
   "metadata": {
    "id": "GNvjONCFAdas"
   },
   "source": [
    "## Предобработка данных"
   ]
  },
  {
   "cell_type": "markdown",
   "metadata": {
    "id": "blnBeCoHAdas"
   },
   "source": [
    "### Названия столбцов"
   ]
  },
  {
   "cell_type": "markdown",
   "metadata": {
    "id": "K-kHNVWqAdas"
   },
   "source": [
    "USERID и EST_SALARY приводим к общему стилю, сократим названия для удобства, ведь похожих столбцов нет:"
   ]
  },
  {
   "cell_type": "code",
   "execution_count": 5,
   "metadata": {
    "colab": {
     "base_uri": "https://localhost:8080/"
    },
    "id": "g4dta67FAdas",
    "outputId": "e6f6ac62-6c2b-42a4-8d6b-61f3c5957a91"
   },
   "outputs": [
    {
     "data": {
      "text/plain": [
       "Index(['id', 'score', 'city', 'gender', 'age', 'equity', 'balance', 'products',\n",
       "       'credit_card', 'last_activity', 'salary', 'churn'],\n",
       "      dtype='object')"
      ]
     },
     "execution_count": 5,
     "metadata": {},
     "output_type": "execute_result"
    }
   ],
   "source": [
    "data = data.rename(columns={'USERID':'id', 'EST_SALARY':'salary'})\n",
    "data.columns"
   ]
  },
  {
   "cell_type": "markdown",
   "metadata": {
    "id": "u6wT3ZEqAdat"
   },
   "source": [
    "### Пропуски"
   ]
  },
  {
   "cell_type": "markdown",
   "metadata": {
    "id": "6iVWbQmTAdat"
   },
   "source": [
    "Рассмотрим количество пропусков, в ранее обнаруженных столбцах, процент от общего количества."
   ]
  },
  {
   "cell_type": "code",
   "execution_count": 6,
   "metadata": {
    "colab": {
     "base_uri": "https://localhost:8080/"
    },
    "id": "_n8Ph4axAdat",
    "outputId": "1c478036-5228-46cf-966d-4b5d9215d643"
   },
   "outputs": [
    {
     "name": "stdout",
     "output_type": "stream",
     "text": [
      "age: 26 0.26\n",
      "balance: 2295 22.95\n"
     ]
    }
   ],
   "source": [
    "print(\n",
    "'age:', data['age'].isna().sum(), (data['age'].isna().sum() / data['id'].count() * 100))\n",
    "print(\n",
    "'balance:', data['balance'].isna().sum(), (data['balance'].isna().sum() / data['id'].count() * 100))"
   ]
  },
  {
   "cell_type": "markdown",
   "metadata": {
    "id": "oFigxgW0Adat"
   },
   "source": [
    "В случае с возрастом процент пропусков небольшой, узнать возраст не представляется возможным, так что избавимся от этих строк. Пропуски в балансе  тоже не выяснить, возможно, там нули, а возможно ошибка в выгрузке данных, пропуски не должны повлиять на исследование, их оставим."
   ]
  },
  {
   "cell_type": "markdown",
   "metadata": {},
   "source": [
    "Проверим информацию о Клиентах с пропусками, сравнивая с информацией по всему датасету:"
   ]
  },
  {
   "cell_type": "code",
   "execution_count": 7,
   "metadata": {},
   "outputs": [
    {
     "data": {
      "text/html": [
       "<div>\n",
       "<style scoped>\n",
       "    .dataframe tbody tr th:only-of-type {\n",
       "        vertical-align: middle;\n",
       "    }\n",
       "\n",
       "    .dataframe tbody tr th {\n",
       "        vertical-align: top;\n",
       "    }\n",
       "\n",
       "    .dataframe thead th {\n",
       "        text-align: right;\n",
       "    }\n",
       "</style>\n",
       "<table border=\"1\" class=\"dataframe\">\n",
       "  <thead>\n",
       "    <tr style=\"text-align: right;\">\n",
       "      <th></th>\n",
       "      <th>id</th>\n",
       "      <th>score</th>\n",
       "      <th>age</th>\n",
       "      <th>equity</th>\n",
       "      <th>balance</th>\n",
       "      <th>products</th>\n",
       "      <th>credit_card</th>\n",
       "      <th>last_activity</th>\n",
       "      <th>salary</th>\n",
       "      <th>churn</th>\n",
       "    </tr>\n",
       "  </thead>\n",
       "  <tbody>\n",
       "    <tr>\n",
       "      <th>count</th>\n",
       "      <td>10000.00</td>\n",
       "      <td>10000.00</td>\n",
       "      <td>9974.00</td>\n",
       "      <td>10000.00</td>\n",
       "      <td>7705.00</td>\n",
       "      <td>10000.00</td>\n",
       "      <td>10000.00</td>\n",
       "      <td>10000.00</td>\n",
       "      <td>10000.00</td>\n",
       "      <td>10000.00</td>\n",
       "    </tr>\n",
       "    <tr>\n",
       "      <th>mean</th>\n",
       "      <td>171814.71</td>\n",
       "      <td>848.70</td>\n",
       "      <td>42.73</td>\n",
       "      <td>2.63</td>\n",
       "      <td>827794.31</td>\n",
       "      <td>1.87</td>\n",
       "      <td>0.68</td>\n",
       "      <td>0.52</td>\n",
       "      <td>147866.89</td>\n",
       "      <td>0.18</td>\n",
       "    </tr>\n",
       "    <tr>\n",
       "      <th>std</th>\n",
       "      <td>33708.24</td>\n",
       "      <td>65.45</td>\n",
       "      <td>12.18</td>\n",
       "      <td>1.98</td>\n",
       "      <td>1980614.15</td>\n",
       "      <td>0.79</td>\n",
       "      <td>0.47</td>\n",
       "      <td>0.50</td>\n",
       "      <td>139388.51</td>\n",
       "      <td>0.39</td>\n",
       "    </tr>\n",
       "    <tr>\n",
       "      <th>min</th>\n",
       "      <td>94561.00</td>\n",
       "      <td>642.00</td>\n",
       "      <td>18.00</td>\n",
       "      <td>0.00</td>\n",
       "      <td>0.00</td>\n",
       "      <td>0.00</td>\n",
       "      <td>0.00</td>\n",
       "      <td>0.00</td>\n",
       "      <td>2546.30</td>\n",
       "      <td>0.00</td>\n",
       "    </tr>\n",
       "    <tr>\n",
       "      <th>25%</th>\n",
       "      <td>142810.25</td>\n",
       "      <td>802.00</td>\n",
       "      <td>33.00</td>\n",
       "      <td>0.00</td>\n",
       "      <td>295554.16</td>\n",
       "      <td>1.00</td>\n",
       "      <td>0.00</td>\n",
       "      <td>0.00</td>\n",
       "      <td>75251.90</td>\n",
       "      <td>0.00</td>\n",
       "    </tr>\n",
       "    <tr>\n",
       "      <th>50%</th>\n",
       "      <td>172728.00</td>\n",
       "      <td>853.00</td>\n",
       "      <td>40.00</td>\n",
       "      <td>3.00</td>\n",
       "      <td>524272.20</td>\n",
       "      <td>2.00</td>\n",
       "      <td>1.00</td>\n",
       "      <td>1.00</td>\n",
       "      <td>119658.10</td>\n",
       "      <td>0.00</td>\n",
       "    </tr>\n",
       "    <tr>\n",
       "      <th>75%</th>\n",
       "      <td>201261.75</td>\n",
       "      <td>900.00</td>\n",
       "      <td>51.00</td>\n",
       "      <td>4.00</td>\n",
       "      <td>980705.85</td>\n",
       "      <td>2.00</td>\n",
       "      <td>1.00</td>\n",
       "      <td>1.00</td>\n",
       "      <td>174500.54</td>\n",
       "      <td>0.00</td>\n",
       "    </tr>\n",
       "    <tr>\n",
       "      <th>max</th>\n",
       "      <td>229145.00</td>\n",
       "      <td>1000.00</td>\n",
       "      <td>86.00</td>\n",
       "      <td>9.00</td>\n",
       "      <td>119113552.01</td>\n",
       "      <td>5.00</td>\n",
       "      <td>1.00</td>\n",
       "      <td>1.00</td>\n",
       "      <td>1395064.45</td>\n",
       "      <td>1.00</td>\n",
       "    </tr>\n",
       "  </tbody>\n",
       "</table>\n",
       "</div>"
      ],
      "text/plain": [
       "             id    score     age   equity      balance  products  credit_card  \\\n",
       "count  10000.00 10000.00 9974.00 10000.00      7705.00  10000.00     10000.00   \n",
       "mean  171814.71   848.70   42.73     2.63    827794.31      1.87         0.68   \n",
       "std    33708.24    65.45   12.18     1.98   1980614.15      0.79         0.47   \n",
       "min    94561.00   642.00   18.00     0.00         0.00      0.00         0.00   \n",
       "25%   142810.25   802.00   33.00     0.00    295554.16      1.00         0.00   \n",
       "50%   172728.00   853.00   40.00     3.00    524272.20      2.00         1.00   \n",
       "75%   201261.75   900.00   51.00     4.00    980705.85      2.00         1.00   \n",
       "max   229145.00  1000.00   86.00     9.00 119113552.01      5.00         1.00   \n",
       "\n",
       "       last_activity     salary    churn  \n",
       "count       10000.00   10000.00 10000.00  \n",
       "mean            0.52  147866.89     0.18  \n",
       "std             0.50  139388.51     0.39  \n",
       "min             0.00    2546.30     0.00  \n",
       "25%             0.00   75251.90     0.00  \n",
       "50%             1.00  119658.10     0.00  \n",
       "75%             1.00  174500.54     0.00  \n",
       "max             1.00 1395064.45     1.00  "
      ]
     },
     "metadata": {},
     "output_type": "display_data"
    },
    {
     "data": {
      "text/html": [
       "<div>\n",
       "<style scoped>\n",
       "    .dataframe tbody tr th:only-of-type {\n",
       "        vertical-align: middle;\n",
       "    }\n",
       "\n",
       "    .dataframe tbody tr th {\n",
       "        vertical-align: top;\n",
       "    }\n",
       "\n",
       "    .dataframe thead th {\n",
       "        text-align: right;\n",
       "    }\n",
       "</style>\n",
       "<table border=\"1\" class=\"dataframe\">\n",
       "  <thead>\n",
       "    <tr style=\"text-align: right;\">\n",
       "      <th></th>\n",
       "      <th>id</th>\n",
       "      <th>score</th>\n",
       "      <th>age</th>\n",
       "      <th>equity</th>\n",
       "      <th>balance</th>\n",
       "      <th>products</th>\n",
       "      <th>credit_card</th>\n",
       "      <th>last_activity</th>\n",
       "      <th>salary</th>\n",
       "      <th>churn</th>\n",
       "    </tr>\n",
       "  </thead>\n",
       "  <tbody>\n",
       "    <tr>\n",
       "      <th>count</th>\n",
       "      <td>2295.00</td>\n",
       "      <td>2295.00</td>\n",
       "      <td>2279.00</td>\n",
       "      <td>2295.00</td>\n",
       "      <td>0.00</td>\n",
       "      <td>2295.00</td>\n",
       "      <td>2295.00</td>\n",
       "      <td>2295.00</td>\n",
       "      <td>2295.00</td>\n",
       "      <td>2295.00</td>\n",
       "    </tr>\n",
       "    <tr>\n",
       "      <th>mean</th>\n",
       "      <td>172069.45</td>\n",
       "      <td>865.35</td>\n",
       "      <td>42.09</td>\n",
       "      <td>0.05</td>\n",
       "      <td>NaN</td>\n",
       "      <td>1.16</td>\n",
       "      <td>0.82</td>\n",
       "      <td>0.55</td>\n",
       "      <td>226310.21</td>\n",
       "      <td>0.01</td>\n",
       "    </tr>\n",
       "    <tr>\n",
       "      <th>std</th>\n",
       "      <td>33337.08</td>\n",
       "      <td>89.60</td>\n",
       "      <td>11.94</td>\n",
       "      <td>0.23</td>\n",
       "      <td>NaN</td>\n",
       "      <td>0.40</td>\n",
       "      <td>0.39</td>\n",
       "      <td>0.50</td>\n",
       "      <td>199771.79</td>\n",
       "      <td>0.08</td>\n",
       "    </tr>\n",
       "    <tr>\n",
       "      <th>min</th>\n",
       "      <td>114182.00</td>\n",
       "      <td>642.00</td>\n",
       "      <td>18.00</td>\n",
       "      <td>0.00</td>\n",
       "      <td>NaN</td>\n",
       "      <td>0.00</td>\n",
       "      <td>0.00</td>\n",
       "      <td>0.00</td>\n",
       "      <td>20274.03</td>\n",
       "      <td>0.00</td>\n",
       "    </tr>\n",
       "    <tr>\n",
       "      <th>25%</th>\n",
       "      <td>143095.50</td>\n",
       "      <td>871.00</td>\n",
       "      <td>33.00</td>\n",
       "      <td>0.00</td>\n",
       "      <td>NaN</td>\n",
       "      <td>1.00</td>\n",
       "      <td>1.00</td>\n",
       "      <td>0.00</td>\n",
       "      <td>120347.70</td>\n",
       "      <td>0.00</td>\n",
       "    </tr>\n",
       "    <tr>\n",
       "      <th>50%</th>\n",
       "      <td>172659.00</td>\n",
       "      <td>903.00</td>\n",
       "      <td>40.00</td>\n",
       "      <td>0.00</td>\n",
       "      <td>NaN</td>\n",
       "      <td>1.00</td>\n",
       "      <td>1.00</td>\n",
       "      <td>1.00</td>\n",
       "      <td>174160.68</td>\n",
       "      <td>0.00</td>\n",
       "    </tr>\n",
       "    <tr>\n",
       "      <th>75%</th>\n",
       "      <td>201551.00</td>\n",
       "      <td>922.00</td>\n",
       "      <td>49.00</td>\n",
       "      <td>0.00</td>\n",
       "      <td>NaN</td>\n",
       "      <td>1.00</td>\n",
       "      <td>1.00</td>\n",
       "      <td>1.00</td>\n",
       "      <td>240014.99</td>\n",
       "      <td>0.00</td>\n",
       "    </tr>\n",
       "    <tr>\n",
       "      <th>max</th>\n",
       "      <td>229145.00</td>\n",
       "      <td>990.00</td>\n",
       "      <td>86.00</td>\n",
       "      <td>3.00</td>\n",
       "      <td>NaN</td>\n",
       "      <td>3.00</td>\n",
       "      <td>1.00</td>\n",
       "      <td>1.00</td>\n",
       "      <td>1333687.36</td>\n",
       "      <td>1.00</td>\n",
       "    </tr>\n",
       "  </tbody>\n",
       "</table>\n",
       "</div>"
      ],
      "text/plain": [
       "             id   score     age  equity  balance  products  credit_card  \\\n",
       "count   2295.00 2295.00 2279.00 2295.00     0.00   2295.00      2295.00   \n",
       "mean  172069.45  865.35   42.09    0.05      NaN      1.16         0.82   \n",
       "std    33337.08   89.60   11.94    0.23      NaN      0.40         0.39   \n",
       "min   114182.00  642.00   18.00    0.00      NaN      0.00         0.00   \n",
       "25%   143095.50  871.00   33.00    0.00      NaN      1.00         1.00   \n",
       "50%   172659.00  903.00   40.00    0.00      NaN      1.00         1.00   \n",
       "75%   201551.00  922.00   49.00    0.00      NaN      1.00         1.00   \n",
       "max   229145.00  990.00   86.00    3.00      NaN      3.00         1.00   \n",
       "\n",
       "       last_activity     salary   churn  \n",
       "count        2295.00    2295.00 2295.00  \n",
       "mean            0.55  226310.21    0.01  \n",
       "std             0.50  199771.79    0.08  \n",
       "min             0.00   20274.03    0.00  \n",
       "25%             0.00  120347.70    0.00  \n",
       "50%             1.00  174160.68    0.00  \n",
       "75%             1.00  240014.99    0.00  \n",
       "max             1.00 1333687.36    1.00  "
      ]
     },
     "execution_count": 7,
     "metadata": {},
     "output_type": "execute_result"
    }
   ],
   "source": [
    "display(data.describe())\n",
    "data.query('balance.isna()').describe()"
   ]
  },
  {
   "cell_type": "markdown",
   "metadata": {},
   "source": [
    "У Клиентов с пропсками в балансе меньше оценка собственности, количество продуктов, реже пользуются кредитками, но средняя зарплата при этом выше. Можно было бы утверждать, что на месте пропусков должны быть нули, но последний пункт не сходится с предположением, думаю, вероятнее техническая ошибка. "
   ]
  },
  {
   "cell_type": "code",
   "execution_count": 8,
   "metadata": {},
   "outputs": [
    {
     "name": "stdout",
     "output_type": "stream",
     "text": [
      "<class 'pandas.core.frame.DataFrame'>\n",
      "Int64Index: 9974 entries, 0 to 9999\n",
      "Data columns (total 12 columns):\n",
      " #   Column         Non-Null Count  Dtype  \n",
      "---  ------         --------------  -----  \n",
      " 0   id             9974 non-null   int64  \n",
      " 1   score          9974 non-null   float64\n",
      " 2   city           9974 non-null   object \n",
      " 3   gender         9974 non-null   object \n",
      " 4   age            9974 non-null   float64\n",
      " 5   equity         9974 non-null   int64  \n",
      " 6   balance        7695 non-null   float64\n",
      " 7   products       9974 non-null   int64  \n",
      " 8   credit_card    9974 non-null   int64  \n",
      " 9   last_activity  9974 non-null   int64  \n",
      " 10  salary         9974 non-null   float64\n",
      " 11  churn          9974 non-null   int64  \n",
      "dtypes: float64(4), int64(6), object(2)\n",
      "memory usage: 1013.0+ KB\n"
     ]
    }
   ],
   "source": [
    "data = data.dropna(subset=['age'])\n",
    "data.info()"
   ]
  },
  {
   "cell_type": "markdown",
   "metadata": {
    "id": "Cyfq2iRxAdau"
   },
   "source": [
    "### Дубликаты"
   ]
  },
  {
   "cell_type": "markdown",
   "metadata": {
    "id": "HXLjFIytAdau"
   },
   "source": [
    "Проверим датасет на наличие дубликатов. Так как таблица содержит лишь информацию по Клиентам без разреза по времени, действиям или т.п., то по-хорошему дубликатов быть не должно."
   ]
  },
  {
   "cell_type": "code",
   "execution_count": 9,
   "metadata": {
    "colab": {
     "base_uri": "https://localhost:8080/"
    },
    "id": "LVEIOSwTAdau",
    "outputId": "243cdd87-9232-40aa-8973-447604bdd849"
   },
   "outputs": [
    {
     "data": {
      "text/plain": [
       "0"
      ]
     },
     "execution_count": 9,
     "metadata": {},
     "output_type": "execute_result"
    }
   ],
   "source": [
    "data.duplicated().sum()"
   ]
  },
  {
   "cell_type": "code",
   "execution_count": 10,
   "metadata": {
    "colab": {
     "base_uri": "https://localhost:8080/",
     "height": 52
    },
    "id": "tlQAuW69Adau",
    "outputId": "15bff9f7-726f-4ca1-d80c-ddb0dd7efb68"
   },
   "outputs": [
    {
     "data": {
      "text/plain": [
       "50"
      ]
     },
     "metadata": {},
     "output_type": "display_data"
    },
    {
     "data": {
      "text/plain": [
       "0"
      ]
     },
     "execution_count": 10,
     "metadata": {},
     "output_type": "execute_result"
    }
   ],
   "source": [
    "display(data['id'].duplicated().sum())\n",
    "data[['id', 'city']].duplicated().sum()"
   ]
  },
  {
   "cell_type": "code",
   "execution_count": 11,
   "metadata": {
    "colab": {
     "base_uri": "https://localhost:8080/",
     "height": 990
    },
    "id": "h9dH6-qvAdav",
    "outputId": "bdf2d0d5-8a2b-4cc6-a800-cb14414191ff"
   },
   "outputs": [
    {
     "data": {
      "text/html": [
       "<div>\n",
       "<style scoped>\n",
       "    .dataframe tbody tr th:only-of-type {\n",
       "        vertical-align: middle;\n",
       "    }\n",
       "\n",
       "    .dataframe tbody tr th {\n",
       "        vertical-align: top;\n",
       "    }\n",
       "\n",
       "    .dataframe thead th {\n",
       "        text-align: right;\n",
       "    }\n",
       "</style>\n",
       "<table border=\"1\" class=\"dataframe\">\n",
       "  <thead>\n",
       "    <tr style=\"text-align: right;\">\n",
       "      <th></th>\n",
       "      <th>id</th>\n",
       "      <th>score</th>\n",
       "      <th>city</th>\n",
       "      <th>gender</th>\n",
       "      <th>age</th>\n",
       "      <th>equity</th>\n",
       "      <th>balance</th>\n",
       "      <th>products</th>\n",
       "      <th>credit_card</th>\n",
       "      <th>last_activity</th>\n",
       "      <th>salary</th>\n",
       "      <th>churn</th>\n",
       "    </tr>\n",
       "  </thead>\n",
       "  <tbody>\n",
       "    <tr>\n",
       "      <th>1893</th>\n",
       "      <td>116540</td>\n",
       "      <td>883.00</td>\n",
       "      <td>Рыбинск</td>\n",
       "      <td>Ж</td>\n",
       "      <td>55.00</td>\n",
       "      <td>1</td>\n",
       "      <td>362756.49</td>\n",
       "      <td>3</td>\n",
       "      <td>0</td>\n",
       "      <td>1</td>\n",
       "      <td>175920.48</td>\n",
       "      <td>1</td>\n",
       "    </tr>\n",
       "    <tr>\n",
       "      <th>7694</th>\n",
       "      <td>116540</td>\n",
       "      <td>887.00</td>\n",
       "      <td>Ярославль</td>\n",
       "      <td>Ж</td>\n",
       "      <td>38.00</td>\n",
       "      <td>0</td>\n",
       "      <td>NaN</td>\n",
       "      <td>1</td>\n",
       "      <td>0</td>\n",
       "      <td>1</td>\n",
       "      <td>119247.61</td>\n",
       "      <td>0</td>\n",
       "    </tr>\n",
       "    <tr>\n",
       "      <th>4866</th>\n",
       "      <td>117943</td>\n",
       "      <td>855.00</td>\n",
       "      <td>Рыбинск</td>\n",
       "      <td>Ж</td>\n",
       "      <td>32.00</td>\n",
       "      <td>6</td>\n",
       "      <td>1036832.93</td>\n",
       "      <td>4</td>\n",
       "      <td>1</td>\n",
       "      <td>1</td>\n",
       "      <td>107792.71</td>\n",
       "      <td>1</td>\n",
       "    </tr>\n",
       "    <tr>\n",
       "      <th>7542</th>\n",
       "      <td>117943</td>\n",
       "      <td>880.00</td>\n",
       "      <td>Ярославль</td>\n",
       "      <td>Ж</td>\n",
       "      <td>40.00</td>\n",
       "      <td>0</td>\n",
       "      <td>NaN</td>\n",
       "      <td>1</td>\n",
       "      <td>1</td>\n",
       "      <td>0</td>\n",
       "      <td>137718.93</td>\n",
       "      <td>0</td>\n",
       "    </tr>\n",
       "    <tr>\n",
       "      <th>5863</th>\n",
       "      <td>120258</td>\n",
       "      <td>908.00</td>\n",
       "      <td>Рыбинск</td>\n",
       "      <td>Ж</td>\n",
       "      <td>38.00</td>\n",
       "      <td>4</td>\n",
       "      <td>2213581.63</td>\n",
       "      <td>2</td>\n",
       "      <td>0</td>\n",
       "      <td>1</td>\n",
       "      <td>160327.77</td>\n",
       "      <td>1</td>\n",
       "    </tr>\n",
       "    <tr>\n",
       "      <th>5896</th>\n",
       "      <td>120258</td>\n",
       "      <td>905.00</td>\n",
       "      <td>Ярославль</td>\n",
       "      <td>М</td>\n",
       "      <td>30.00</td>\n",
       "      <td>0</td>\n",
       "      <td>NaN</td>\n",
       "      <td>1</td>\n",
       "      <td>1</td>\n",
       "      <td>1</td>\n",
       "      <td>146427.96</td>\n",
       "      <td>0</td>\n",
       "    </tr>\n",
       "    <tr>\n",
       "      <th>1411</th>\n",
       "      <td>123461</td>\n",
       "      <td>829.00</td>\n",
       "      <td>Ярославль</td>\n",
       "      <td>Ж</td>\n",
       "      <td>59.00</td>\n",
       "      <td>0</td>\n",
       "      <td>96222.44</td>\n",
       "      <td>2</td>\n",
       "      <td>0</td>\n",
       "      <td>1</td>\n",
       "      <td>102771.55</td>\n",
       "      <td>1</td>\n",
       "    </tr>\n",
       "    <tr>\n",
       "      <th>8638</th>\n",
       "      <td>123461</td>\n",
       "      <td>934.00</td>\n",
       "      <td>Рыбинск</td>\n",
       "      <td>М</td>\n",
       "      <td>34.00</td>\n",
       "      <td>0</td>\n",
       "      <td>NaN</td>\n",
       "      <td>2</td>\n",
       "      <td>1</td>\n",
       "      <td>0</td>\n",
       "      <td>291619.27</td>\n",
       "      <td>0</td>\n",
       "    </tr>\n",
       "    <tr>\n",
       "      <th>9775</th>\n",
       "      <td>124450</td>\n",
       "      <td>758.00</td>\n",
       "      <td>Рыбинск</td>\n",
       "      <td>Ж</td>\n",
       "      <td>36.00</td>\n",
       "      <td>0</td>\n",
       "      <td>73574.07</td>\n",
       "      <td>2</td>\n",
       "      <td>0</td>\n",
       "      <td>1</td>\n",
       "      <td>79963.59</td>\n",
       "      <td>0</td>\n",
       "    </tr>\n",
       "    <tr>\n",
       "      <th>8164</th>\n",
       "      <td>124450</td>\n",
       "      <td>859.00</td>\n",
       "      <td>Ярославль</td>\n",
       "      <td>Ж</td>\n",
       "      <td>38.00</td>\n",
       "      <td>6</td>\n",
       "      <td>516811.20</td>\n",
       "      <td>1</td>\n",
       "      <td>1</td>\n",
       "      <td>1</td>\n",
       "      <td>95144.63</td>\n",
       "      <td>1</td>\n",
       "    </tr>\n",
       "    <tr>\n",
       "      <th>4850</th>\n",
       "      <td>126368</td>\n",
       "      <td>909.00</td>\n",
       "      <td>Ярославль</td>\n",
       "      <td>Ж</td>\n",
       "      <td>30.00</td>\n",
       "      <td>4</td>\n",
       "      <td>1322623.29</td>\n",
       "      <td>2</td>\n",
       "      <td>0</td>\n",
       "      <td>1</td>\n",
       "      <td>140675.66</td>\n",
       "      <td>1</td>\n",
       "    </tr>\n",
       "    <tr>\n",
       "      <th>5420</th>\n",
       "      <td>126368</td>\n",
       "      <td>832.00</td>\n",
       "      <td>Рыбинск</td>\n",
       "      <td>Ж</td>\n",
       "      <td>33.00</td>\n",
       "      <td>0</td>\n",
       "      <td>NaN</td>\n",
       "      <td>1</td>\n",
       "      <td>0</td>\n",
       "      <td>0</td>\n",
       "      <td>118465.34</td>\n",
       "      <td>0</td>\n",
       "    </tr>\n",
       "    <tr>\n",
       "      <th>3988</th>\n",
       "      <td>129785</td>\n",
       "      <td>904.00</td>\n",
       "      <td>Рыбинск</td>\n",
       "      <td>М</td>\n",
       "      <td>33.00</td>\n",
       "      <td>5</td>\n",
       "      <td>2427737.60</td>\n",
       "      <td>3</td>\n",
       "      <td>0</td>\n",
       "      <td>1</td>\n",
       "      <td>188856.75</td>\n",
       "      <td>1</td>\n",
       "    </tr>\n",
       "    <tr>\n",
       "      <th>9504</th>\n",
       "      <td>129785</td>\n",
       "      <td>949.00</td>\n",
       "      <td>Ярославль</td>\n",
       "      <td>М</td>\n",
       "      <td>43.00</td>\n",
       "      <td>0</td>\n",
       "      <td>NaN</td>\n",
       "      <td>1</td>\n",
       "      <td>1</td>\n",
       "      <td>1</td>\n",
       "      <td>166845.37</td>\n",
       "      <td>0</td>\n",
       "    </tr>\n",
       "    <tr>\n",
       "      <th>2138</th>\n",
       "      <td>131419</td>\n",
       "      <td>739.00</td>\n",
       "      <td>Рыбинск</td>\n",
       "      <td>Ж</td>\n",
       "      <td>37.00</td>\n",
       "      <td>3</td>\n",
       "      <td>1307941.65</td>\n",
       "      <td>3</td>\n",
       "      <td>0</td>\n",
       "      <td>0</td>\n",
       "      <td>103867.47</td>\n",
       "      <td>0</td>\n",
       "    </tr>\n",
       "    <tr>\n",
       "      <th>904</th>\n",
       "      <td>131419</td>\n",
       "      <td>934.00</td>\n",
       "      <td>Ярославль</td>\n",
       "      <td>М</td>\n",
       "      <td>35.00</td>\n",
       "      <td>5</td>\n",
       "      <td>2348335.95</td>\n",
       "      <td>2</td>\n",
       "      <td>0</td>\n",
       "      <td>0</td>\n",
       "      <td>217105.13</td>\n",
       "      <td>1</td>\n",
       "    </tr>\n",
       "    <tr>\n",
       "      <th>1608</th>\n",
       "      <td>140377</td>\n",
       "      <td>802.00</td>\n",
       "      <td>Ярославль</td>\n",
       "      <td>М</td>\n",
       "      <td>26.00</td>\n",
       "      <td>3</td>\n",
       "      <td>539863.29</td>\n",
       "      <td>4</td>\n",
       "      <td>1</td>\n",
       "      <td>1</td>\n",
       "      <td>112167.83</td>\n",
       "      <td>1</td>\n",
       "    </tr>\n",
       "    <tr>\n",
       "      <th>7487</th>\n",
       "      <td>140377</td>\n",
       "      <td>930.00</td>\n",
       "      <td>Рыбинск</td>\n",
       "      <td>Ж</td>\n",
       "      <td>34.00</td>\n",
       "      <td>5</td>\n",
       "      <td>1123967.02</td>\n",
       "      <td>1</td>\n",
       "      <td>1</td>\n",
       "      <td>1</td>\n",
       "      <td>148336.26</td>\n",
       "      <td>0</td>\n",
       "    </tr>\n",
       "    <tr>\n",
       "      <th>2276</th>\n",
       "      <td>141265</td>\n",
       "      <td>858.00</td>\n",
       "      <td>Ярославль</td>\n",
       "      <td>М</td>\n",
       "      <td>37.00</td>\n",
       "      <td>4</td>\n",
       "      <td>471599.16</td>\n",
       "      <td>2</td>\n",
       "      <td>1</td>\n",
       "      <td>1</td>\n",
       "      <td>148806.88</td>\n",
       "      <td>1</td>\n",
       "    </tr>\n",
       "    <tr>\n",
       "      <th>5569</th>\n",
       "      <td>141265</td>\n",
       "      <td>811.00</td>\n",
       "      <td>Рыбинск</td>\n",
       "      <td>Ж</td>\n",
       "      <td>33.00</td>\n",
       "      <td>3</td>\n",
       "      <td>1044316.88</td>\n",
       "      <td>2</td>\n",
       "      <td>1</td>\n",
       "      <td>0</td>\n",
       "      <td>46055.32</td>\n",
       "      <td>0</td>\n",
       "    </tr>\n",
       "    <tr>\n",
       "      <th>5369</th>\n",
       "      <td>143592</td>\n",
       "      <td>885.00</td>\n",
       "      <td>Рыбинск</td>\n",
       "      <td>Ж</td>\n",
       "      <td>56.00</td>\n",
       "      <td>4</td>\n",
       "      <td>1201087.46</td>\n",
       "      <td>2</td>\n",
       "      <td>1</td>\n",
       "      <td>1</td>\n",
       "      <td>88223.89</td>\n",
       "      <td>1</td>\n",
       "    </tr>\n",
       "    <tr>\n",
       "      <th>5557</th>\n",
       "      <td>143592</td>\n",
       "      <td>764.00</td>\n",
       "      <td>Ярославль</td>\n",
       "      <td>Ж</td>\n",
       "      <td>68.00</td>\n",
       "      <td>3</td>\n",
       "      <td>508919.15</td>\n",
       "      <td>2</td>\n",
       "      <td>0</td>\n",
       "      <td>1</td>\n",
       "      <td>71211.66</td>\n",
       "      <td>0</td>\n",
       "    </tr>\n",
       "    <tr>\n",
       "      <th>8364</th>\n",
       "      <td>148826</td>\n",
       "      <td>909.00</td>\n",
       "      <td>Рыбинск</td>\n",
       "      <td>Ж</td>\n",
       "      <td>32.00</td>\n",
       "      <td>0</td>\n",
       "      <td>NaN</td>\n",
       "      <td>3</td>\n",
       "      <td>1</td>\n",
       "      <td>0</td>\n",
       "      <td>28843.54</td>\n",
       "      <td>0</td>\n",
       "    </tr>\n",
       "    <tr>\n",
       "      <th>5252</th>\n",
       "      <td>148826</td>\n",
       "      <td>895.00</td>\n",
       "      <td>Ярославль</td>\n",
       "      <td>М</td>\n",
       "      <td>32.00</td>\n",
       "      <td>5</td>\n",
       "      <td>1470273.14</td>\n",
       "      <td>2</td>\n",
       "      <td>0</td>\n",
       "      <td>0</td>\n",
       "      <td>118058.52</td>\n",
       "      <td>1</td>\n",
       "    </tr>\n",
       "    <tr>\n",
       "      <th>946</th>\n",
       "      <td>149365</td>\n",
       "      <td>877.00</td>\n",
       "      <td>Ярославль</td>\n",
       "      <td>М</td>\n",
       "      <td>41.00</td>\n",
       "      <td>5</td>\n",
       "      <td>819182.01</td>\n",
       "      <td>2</td>\n",
       "      <td>0</td>\n",
       "      <td>0</td>\n",
       "      <td>212316.47</td>\n",
       "      <td>1</td>\n",
       "    </tr>\n",
       "    <tr>\n",
       "      <th>8272</th>\n",
       "      <td>149365</td>\n",
       "      <td>793.00</td>\n",
       "      <td>Рыбинск</td>\n",
       "      <td>Ж</td>\n",
       "      <td>61.00</td>\n",
       "      <td>0</td>\n",
       "      <td>476496.99</td>\n",
       "      <td>2</td>\n",
       "      <td>1</td>\n",
       "      <td>1</td>\n",
       "      <td>46147.06</td>\n",
       "      <td>0</td>\n",
       "    </tr>\n",
       "    <tr>\n",
       "      <th>2439</th>\n",
       "      <td>150667</td>\n",
       "      <td>813.00</td>\n",
       "      <td>Рыбинск</td>\n",
       "      <td>Ж</td>\n",
       "      <td>44.00</td>\n",
       "      <td>0</td>\n",
       "      <td>62504.47</td>\n",
       "      <td>4</td>\n",
       "      <td>1</td>\n",
       "      <td>0</td>\n",
       "      <td>152393.79</td>\n",
       "      <td>1</td>\n",
       "    </tr>\n",
       "    <tr>\n",
       "      <th>9267</th>\n",
       "      <td>150667</td>\n",
       "      <td>931.00</td>\n",
       "      <td>Ярославль</td>\n",
       "      <td>М</td>\n",
       "      <td>41.00</td>\n",
       "      <td>0</td>\n",
       "      <td>NaN</td>\n",
       "      <td>1</td>\n",
       "      <td>0</td>\n",
       "      <td>0</td>\n",
       "      <td>261904.44</td>\n",
       "      <td>0</td>\n",
       "    </tr>\n",
       "    <tr>\n",
       "      <th>690</th>\n",
       "      <td>152479</td>\n",
       "      <td>768.00</td>\n",
       "      <td>Рыбинск</td>\n",
       "      <td>Ж</td>\n",
       "      <td>42.00</td>\n",
       "      <td>0</td>\n",
       "      <td>126787.79</td>\n",
       "      <td>4</td>\n",
       "      <td>1</td>\n",
       "      <td>1</td>\n",
       "      <td>143233.23</td>\n",
       "      <td>1</td>\n",
       "    </tr>\n",
       "    <tr>\n",
       "      <th>5705</th>\n",
       "      <td>152479</td>\n",
       "      <td>723.00</td>\n",
       "      <td>Ярославль</td>\n",
       "      <td>Ж</td>\n",
       "      <td>22.00</td>\n",
       "      <td>0</td>\n",
       "      <td>NaN</td>\n",
       "      <td>1</td>\n",
       "      <td>1</td>\n",
       "      <td>0</td>\n",
       "      <td>83955.65</td>\n",
       "      <td>0</td>\n",
       "    </tr>\n",
       "  </tbody>\n",
       "</table>\n",
       "</div>"
      ],
      "text/plain": [
       "          id  score       city gender   age  equity    balance  products  \\\n",
       "1893  116540 883.00    Рыбинск      Ж 55.00       1  362756.49         3   \n",
       "7694  116540 887.00  Ярославль      Ж 38.00       0        NaN         1   \n",
       "4866  117943 855.00    Рыбинск      Ж 32.00       6 1036832.93         4   \n",
       "7542  117943 880.00  Ярославль      Ж 40.00       0        NaN         1   \n",
       "5863  120258 908.00    Рыбинск      Ж 38.00       4 2213581.63         2   \n",
       "5896  120258 905.00  Ярославль      М 30.00       0        NaN         1   \n",
       "1411  123461 829.00  Ярославль      Ж 59.00       0   96222.44         2   \n",
       "8638  123461 934.00    Рыбинск      М 34.00       0        NaN         2   \n",
       "9775  124450 758.00    Рыбинск      Ж 36.00       0   73574.07         2   \n",
       "8164  124450 859.00  Ярославль      Ж 38.00       6  516811.20         1   \n",
       "4850  126368 909.00  Ярославль      Ж 30.00       4 1322623.29         2   \n",
       "5420  126368 832.00    Рыбинск      Ж 33.00       0        NaN         1   \n",
       "3988  129785 904.00    Рыбинск      М 33.00       5 2427737.60         3   \n",
       "9504  129785 949.00  Ярославль      М 43.00       0        NaN         1   \n",
       "2138  131419 739.00    Рыбинск      Ж 37.00       3 1307941.65         3   \n",
       "904   131419 934.00  Ярославль      М 35.00       5 2348335.95         2   \n",
       "1608  140377 802.00  Ярославль      М 26.00       3  539863.29         4   \n",
       "7487  140377 930.00    Рыбинск      Ж 34.00       5 1123967.02         1   \n",
       "2276  141265 858.00  Ярославль      М 37.00       4  471599.16         2   \n",
       "5569  141265 811.00    Рыбинск      Ж 33.00       3 1044316.88         2   \n",
       "5369  143592 885.00    Рыбинск      Ж 56.00       4 1201087.46         2   \n",
       "5557  143592 764.00  Ярославль      Ж 68.00       3  508919.15         2   \n",
       "8364  148826 909.00    Рыбинск      Ж 32.00       0        NaN         3   \n",
       "5252  148826 895.00  Ярославль      М 32.00       5 1470273.14         2   \n",
       "946   149365 877.00  Ярославль      М 41.00       5  819182.01         2   \n",
       "8272  149365 793.00    Рыбинск      Ж 61.00       0  476496.99         2   \n",
       "2439  150667 813.00    Рыбинск      Ж 44.00       0   62504.47         4   \n",
       "9267  150667 931.00  Ярославль      М 41.00       0        NaN         1   \n",
       "690   152479 768.00    Рыбинск      Ж 42.00       0  126787.79         4   \n",
       "5705  152479 723.00  Ярославль      Ж 22.00       0        NaN         1   \n",
       "\n",
       "      credit_card  last_activity    salary  churn  \n",
       "1893            0              1 175920.48      1  \n",
       "7694            0              1 119247.61      0  \n",
       "4866            1              1 107792.71      1  \n",
       "7542            1              0 137718.93      0  \n",
       "5863            0              1 160327.77      1  \n",
       "5896            1              1 146427.96      0  \n",
       "1411            0              1 102771.55      1  \n",
       "8638            1              0 291619.27      0  \n",
       "9775            0              1  79963.59      0  \n",
       "8164            1              1  95144.63      1  \n",
       "4850            0              1 140675.66      1  \n",
       "5420            0              0 118465.34      0  \n",
       "3988            0              1 188856.75      1  \n",
       "9504            1              1 166845.37      0  \n",
       "2138            0              0 103867.47      0  \n",
       "904             0              0 217105.13      1  \n",
       "1608            1              1 112167.83      1  \n",
       "7487            1              1 148336.26      0  \n",
       "2276            1              1 148806.88      1  \n",
       "5569            1              0  46055.32      0  \n",
       "5369            1              1  88223.89      1  \n",
       "5557            0              1  71211.66      0  \n",
       "8364            1              0  28843.54      0  \n",
       "5252            0              0 118058.52      1  \n",
       "946             0              0 212316.47      1  \n",
       "8272            1              1  46147.06      0  \n",
       "2439            1              0 152393.79      1  \n",
       "9267            0              0 261904.44      0  \n",
       "690             1              1 143233.23      1  \n",
       "5705            1              0  83955.65      0  "
      ]
     },
     "execution_count": 11,
     "metadata": {},
     "output_type": "execute_result"
    }
   ],
   "source": [
    "data[data['id'].duplicated(keep=False)].sort_values(by='id').head(30)"
   ]
  },
  {
   "cell_type": "markdown",
   "metadata": {
    "id": "Icd4Bx_0Adav"
   },
   "source": [
    "Всего 50 дубликатов по полю id, при ознакомлении с данными строками видим, что остальные данные не совпадают, все же это разные Клиенты. Так как в ходе исследовния нет детального рассмотрения по Клиентам в отдельности их трогать не будем."
   ]
  },
  {
   "cell_type": "markdown",
   "metadata": {
    "id": "Luxcft7PAdav"
   },
   "source": [
    "Проверим наличие неявхых дубликатов:"
   ]
  },
  {
   "cell_type": "code",
   "execution_count": 12,
   "metadata": {
    "colab": {
     "base_uri": "https://localhost:8080/",
     "height": 52
    },
    "id": "5j8LIh50Adav",
    "outputId": "927525e3-abe6-4a12-f87c-5376b44f02fe"
   },
   "outputs": [
    {
     "data": {
      "text/plain": [
       "array(['Рыбинск', 'Ярославль', 'Ростов'], dtype=object)"
      ]
     },
     "metadata": {},
     "output_type": "display_data"
    },
    {
     "data": {
      "text/plain": [
       "array(['Ж', 'М'], dtype=object)"
      ]
     },
     "execution_count": 12,
     "metadata": {},
     "output_type": "execute_result"
    }
   ],
   "source": [
    "display(data['city'].unique())\n",
    "data['gender'].unique()"
   ]
  },
  {
   "cell_type": "markdown",
   "metadata": {
    "id": "oML-fgcGAdaw"
   },
   "source": [
    "### Типы данных"
   ]
  },
  {
   "cell_type": "markdown",
   "metadata": {
    "id": "bGmB8P-RAdaw"
   },
   "source": [
    "Столбцы credit_card, last_activity и churn приведем к булевому типу, так как они содержат только нули и единицы. products, score и age преобразуем в int:"
   ]
  },
  {
   "cell_type": "code",
   "execution_count": 13,
   "metadata": {
    "colab": {
     "base_uri": "https://localhost:8080/"
    },
    "id": "DKtsc7fyAdaw",
    "outputId": "6ca364f3-3dc3-4efa-aaea-c5ce77b36bcd"
   },
   "outputs": [
    {
     "name": "stdout",
     "output_type": "stream",
     "text": [
      "<class 'pandas.core.frame.DataFrame'>\n",
      "Int64Index: 9974 entries, 0 to 9999\n",
      "Data columns (total 12 columns):\n",
      " #   Column         Non-Null Count  Dtype  \n",
      "---  ------         --------------  -----  \n",
      " 0   id             9974 non-null   int64  \n",
      " 1   score          9974 non-null   int16  \n",
      " 2   city           9974 non-null   object \n",
      " 3   gender         9974 non-null   object \n",
      " 4   age            9974 non-null   int8   \n",
      " 5   equity         9974 non-null   int64  \n",
      " 6   balance        7695 non-null   float64\n",
      " 7   products       9974 non-null   int8   \n",
      " 8   credit_card    9974 non-null   bool   \n",
      " 9   last_activity  9974 non-null   bool   \n",
      " 10  salary         9974 non-null   float64\n",
      " 11  churn          9974 non-null   bool   \n",
      "dtypes: bool(3), float64(2), int16(1), int64(2), int8(2), object(2)\n",
      "memory usage: 613.6+ KB\n"
     ]
    }
   ],
   "source": [
    "data[['credit_card', 'last_activity', 'churn']] = data[['credit_card', 'last_activity', 'churn']].astype('bool')\n",
    "data['score'] = data['score'].astype('int16')\n",
    "data[['age', 'products']] = data[['age', 'products']].astype('int8')\n",
    "\n",
    "data.info()"
   ]
  },
  {
   "cell_type": "markdown",
   "metadata": {
    "id": "wS1mDoyvAdaw"
   },
   "source": [
    "### Выбросы"
   ]
  },
  {
   "cell_type": "markdown",
   "metadata": {
    "id": "PjBGJnO-Adaw"
   },
   "source": [
    "Проверим выбросы по столбцам с возрастом, балансом и зарплатой:"
   ]
  },
  {
   "cell_type": "code",
   "execution_count": 14,
   "metadata": {
    "colab": {
     "base_uri": "https://localhost:8080/"
    },
    "id": "UJfZXjq0Adax",
    "outputId": "45dfbda7-4a64-439d-8699-5dd26bceaec0"
   },
   "outputs": [
    {
     "name": "stdout",
     "output_type": "stream",
     "text": [
      "['Solarize_Light2', '_classic_test_patch', 'bmh', 'classic', 'dark_background', 'fast', 'fivethirtyeight', 'ggplot', 'grayscale', 'seaborn', 'seaborn-bright', 'seaborn-colorblind', 'seaborn-dark', 'seaborn-dark-palette', 'seaborn-darkgrid', 'seaborn-deep', 'seaborn-muted', 'seaborn-notebook', 'seaborn-paper', 'seaborn-pastel', 'seaborn-poster', 'seaborn-talk', 'seaborn-ticks', 'seaborn-white', 'seaborn-whitegrid', 'tableau-colorblind10']\n"
     ]
    }
   ],
   "source": [
    "print(plt.style.available)\n",
    "plt.style.use('bmh')"
   ]
  },
  {
   "cell_type": "code",
   "execution_count": 15,
   "metadata": {
    "colab": {
     "base_uri": "https://localhost:8080/",
     "height": 425
    },
    "id": "g-NJw2LsAdax",
    "outputId": "7cdb75b6-d9fd-4c09-c4ff-dadfb85df95f"
   },
   "outputs": [
    {
     "data": {
      "image/png": "[encoded data removed]",
      "text/plain": [
       "<Figure size 432x288 with 1 Axes>"
      ]
     },
     "metadata": {
      "needs_background": "light"
     },
     "output_type": "display_data"
    }
   ],
   "source": [
    "data.boxplot(column='age')\n",
    "plt.show();"
   ]
  },
  {
   "cell_type": "markdown",
   "metadata": {
    "id": "VCcZdlYsAdax"
   },
   "source": [
    "Наблюдаем выбросы на 78 годах. Средняя продолжительность жизни в России составляет 64 года, в текущем исследовании важно учитывать, что отток не должен быть вызван естественными причинами, необходимо рассмотривать Клиентов, которые сами решили отказаться от услуг банка. Посмотрим, сколько Клиентов старше 64 лет:"
   ]
  },
  {
   "cell_type": "code",
   "execution_count": 16,
   "metadata": {
    "colab": {
     "base_uri": "https://localhost:8080/",
     "height": 52
    },
    "id": "iCvSPn7zAdax",
    "outputId": "26da6c61-6297-462b-ca78-a25cbeaf6cff"
   },
   "outputs": [
    {
     "data": {
      "text/plain": [
       "5.805093242430319"
      ]
     },
     "metadata": {},
     "output_type": "display_data"
    },
    {
     "data": {
      "text/plain": [
       "579"
      ]
     },
     "execution_count": 16,
     "metadata": {},
     "output_type": "execute_result"
    }
   ],
   "source": [
    "old = data.query('age > 64')['age'].count()\n",
    "display(old / data['age'].count() * 100)\n",
    "old"
   ]
  },
  {
   "cell_type": "code",
   "execution_count": 17,
   "metadata": {
    "colab": {
     "base_uri": "https://localhost:8080/",
     "height": 52
    },
    "id": "s5P6VxziAdax",
    "outputId": "0adc3d64-c37a-4f58-a817-8a531cc6174e"
   },
   "outputs": [
    {
     "data": {
      "text/plain": [
       "0.22057349107679966"
      ]
     },
     "metadata": {},
     "output_type": "display_data"
    },
    {
     "data": {
      "text/plain": [
       "22"
      ]
     },
     "execution_count": 17,
     "metadata": {},
     "output_type": "execute_result"
    }
   ],
   "source": [
    "old2 = data.query('age > 78')['age'].count()\n",
    "display(old2 / data['age'].count() * 100)\n",
    "old2"
   ]
  },
  {
   "cell_type": "markdown",
   "metadata": {
    "id": "63uezeJgAday"
   },
   "source": [
    "Выбросы по возрасту не удаляем."
   ]
  },
  {
   "cell_type": "code",
   "execution_count": 18,
   "metadata": {
    "colab": {
     "base_uri": "https://localhost:8080/",
     "height": 440
    },
    "id": "WNBlvmB8Ada-",
    "outputId": "cdd20c69-b421-41a7-ff86-eb2e6b6fb8d0"
   },
   "outputs": [
    {
     "data": {
      "image/png": "[encoded data removed]",
      "text/plain": [
       "<Figure size 432x288 with 1 Axes>"
      ]
     },
     "metadata": {
      "needs_background": "light"
     },
     "output_type": "display_data"
    }
   ],
   "source": [
    "data.boxplot(column='balance')\n",
    "plt.show();"
   ]
  },
  {
   "cell_type": "code",
   "execution_count": 19,
   "metadata": {
    "colab": {
     "base_uri": "https://localhost:8080/"
    },
    "id": "a6465CJvAda-",
    "outputId": "ca64a615-132f-43ce-d1d1-1cff870e67bc"
   },
   "outputs": [
    {
     "data": {
      "text/plain": [
       "111"
      ]
     },
     "execution_count": 19,
     "metadata": {},
     "output_type": "execute_result"
    }
   ],
   "source": [
    "data.query('balance > 4000000')['balance'].count()"
   ]
  },
  {
   "cell_type": "code",
   "execution_count": 20,
   "metadata": {},
   "outputs": [
    {
     "data": {
      "text/plain": [
       "16.44539326322451"
      ]
     },
     "execution_count": 20,
     "metadata": {},
     "output_type": "execute_result"
    }
   ],
   "source": [
    "data.query('balance > 4000000')['balance'].sum() / data['balance'].sum() * 100"
   ]
  },
  {
   "cell_type": "markdown",
   "metadata": {
    "id": "K7yuR1BDAda-"
   },
   "source": [
    "При оценке суммы баланса выходит, что Клиенты имеют на счетах 16.53% от беланса всех счетов в сумме. "
   ]
  },
  {
   "cell_type": "code",
   "execution_count": 21,
   "metadata": {
    "colab": {
     "base_uri": "https://localhost:8080/",
     "height": 440
    },
    "id": "F_1YOPWcAda_",
    "outputId": "fb0fb901-57ba-4be5-a8b2-d01ee0174693"
   },
   "outputs": [
    {
     "data": {
      "image/png": "[encoded data removed]",
      "text/plain": [
       "<Figure size 432x288 with 1 Axes>"
      ]
     },
     "metadata": {
      "needs_background": "light"
     },
     "output_type": "display_data"
    }
   ],
   "source": [
    "data.boxplot(column='salary')\n",
    "plt.show();"
   ]
  },
  {
   "cell_type": "code",
   "execution_count": 22,
   "metadata": {
    "colab": {
     "base_uri": "https://localhost:8080/"
    },
    "id": "8fFq7tE4Ada_",
    "outputId": "5c4fa5bd-8952-43b5-cf0c-19e6419a2d00"
   },
   "outputs": [
    {
     "data": {
      "text/plain": [
       "14"
      ]
     },
     "execution_count": 22,
     "metadata": {},
     "output_type": "execute_result"
    }
   ],
   "source": [
    "data.query('salary > 1200000')['salary'].count()"
   ]
  },
  {
   "cell_type": "markdown",
   "metadata": {
    "id": "jyEyNyT6Ada_"
   },
   "source": [
    "Клиентов с большой зарплатой тоже не трогаем."
   ]
  },
  {
   "cell_type": "code",
   "execution_count": 23,
   "metadata": {
    "colab": {
     "base_uri": "https://localhost:8080/"
    },
    "id": "Oqn8ztaCAda_",
    "outputId": "ca611733-43c5-475f-fb3c-5dffa806e1ed"
   },
   "outputs": [
    {
     "name": "stdout",
     "output_type": "stream",
     "text": [
      "<class 'pandas.core.frame.DataFrame'>\n",
      "Int64Index: 9974 entries, 0 to 9999\n",
      "Data columns (total 12 columns):\n",
      " #   Column         Non-Null Count  Dtype  \n",
      "---  ------         --------------  -----  \n",
      " 0   id             9974 non-null   int64  \n",
      " 1   score          9974 non-null   int16  \n",
      " 2   city           9974 non-null   object \n",
      " 3   gender         9974 non-null   object \n",
      " 4   age            9974 non-null   int8   \n",
      " 5   equity         9974 non-null   int64  \n",
      " 6   balance        7695 non-null   float64\n",
      " 7   products       9974 non-null   int8   \n",
      " 8   credit_card    9974 non-null   bool   \n",
      " 9   last_activity  9974 non-null   bool   \n",
      " 10  salary         9974 non-null   float64\n",
      " 11  churn          9974 non-null   bool   \n",
      "dtypes: bool(3), float64(2), int16(1), int64(2), int8(2), object(2)\n",
      "memory usage: 613.6+ KB\n"
     ]
    }
   ],
   "source": [
    "data.info()"
   ]
  },
  {
   "cell_type": "markdown",
   "metadata": {
    "id": "vu17Mr8SAdbA"
   },
   "source": [
    "## Исследовательский анализ"
   ]
  },
  {
   "cell_type": "markdown",
   "metadata": {
    "id": "Aycf1oi4AdbA"
   },
   "source": [
    "### Распределение категориальных и количественных данных Клиентов"
   ]
  },
  {
   "cell_type": "markdown",
   "metadata": {
    "id": "4-FSBsa9AdbA"
   },
   "source": [
    "#### Города"
   ]
  },
  {
   "cell_type": "code",
   "execution_count": 24,
   "metadata": {
    "colab": {
     "base_uri": "https://localhost:8080/",
     "height": 429
    },
    "id": "hGgJI5k_AdbA",
    "outputId": "66f17788-b545-4649-bacf-63061c61e9de"
   },
   "outputs": [
    {
     "data": {
      "image/png": "[encoded data removed]",
      "text/plain": [
       "<Figure size 432x288 with 1 Axes>"
      ]
     },
     "metadata": {},
     "output_type": "display_data"
    }
   ],
   "source": [
    "city = data.groupby('city').agg({'id':'count'}).reset_index()\n",
    "plt.pie(city['id'], labels=city['city'], autopct='%1.1f%%')\n",
    "plt.title('Распределение по городам')\n",
    "plt.show();"
   ]
  },
  {
   "cell_type": "markdown",
   "metadata": {
    "id": "BeEaAHZkAdbA"
   },
   "source": [
    "Большая часть Клиентов находится в Ярославле, что логично, это наибольший город, а Рыбинск и Ростов находятся в его области."
   ]
  },
  {
   "cell_type": "markdown",
   "metadata": {
    "id": "Pa9qXaK0AdbA"
   },
   "source": [
    "#### Пол"
   ]
  },
  {
   "cell_type": "code",
   "execution_count": 25,
   "metadata": {
    "colab": {
     "base_uri": "https://localhost:8080/",
     "height": 429
    },
    "id": "TLxp2pn0AdbB",
    "outputId": "be3eaf5f-f9e9-4ecc-e181-0062a901c847"
   },
   "outputs": [
    {
     "data": {
      "image/png": "[encoded data removed]",
      "text/plain": [
       "<Figure size 432x288 with 1 Axes>"
      ]
     },
     "metadata": {},
     "output_type": "display_data"
    }
   ],
   "source": [
    "gender = data.groupby('gender').agg({'id':'count'}).reset_index()\n",
    "plt.pie(gender['id'], labels=gender['gender'], autopct='%1.1f%%')\n",
    "plt.title('Распределение по полу')\n",
    "plt.show();"
   ]
  },
  {
   "cell_type": "markdown",
   "metadata": {
    "id": "r1L7_c98AdbB"
   },
   "source": [
    "50/50 идеальная выборка в этом критерии."
   ]
  },
  {
   "cell_type": "markdown",
   "metadata": {
    "id": "Q3wdRVHFAdbB"
   },
   "source": [
    "#### Наличие кредитной карты"
   ]
  },
  {
   "cell_type": "code",
   "execution_count": 26,
   "metadata": {
    "colab": {
     "base_uri": "https://localhost:8080/",
     "height": 429
    },
    "id": "omfdXDUwAdbB",
    "outputId": "4ae90103-9f94-4ce6-80b7-91cdf4567f86"
   },
   "outputs": [
    {
     "data": {
      "image/png": "[encoded data removed]",
      "text/plain": [
       "<Figure size 432x288 with 1 Axes>"
      ]
     },
     "metadata": {},
     "output_type": "display_data"
    }
   ],
   "source": [
    "credit = data.groupby('credit_card').agg({'id':'count'}).reset_index()\n",
    "plt.pie(credit['id'], labels=credit['credit_card'], autopct='%1.1f%%')\n",
    "plt.title('Распределение по наличию кредитной карты')\n",
    "plt.show();"
   ]
  },
  {
   "cell_type": "markdown",
   "metadata": {
    "id": "x0lkj_fDAdbB"
   },
   "source": [
    "Большая часть Клиентов имеет кредитную карту."
   ]
  },
  {
   "cell_type": "markdown",
   "metadata": {
    "id": "xdi-fC7rAdbC"
   },
   "source": [
    "#### Активность"
   ]
  },
  {
   "cell_type": "code",
   "execution_count": 27,
   "metadata": {
    "colab": {
     "base_uri": "https://localhost:8080/",
     "height": 429
    },
    "id": "pduUp8gGAdbC",
    "outputId": "f46c3bc4-2111-4409-bec2-6ad52e056942"
   },
   "outputs": [
    {
     "data": {
      "image/png": "[encoded data removed]",
      "text/plain": [
       "<Figure size 432x288 with 1 Axes>"
      ]
     },
     "metadata": {},
     "output_type": "display_data"
    }
   ],
   "source": [
    "activity = data.groupby('last_activity').agg({'id':'count'}).reset_index()\n",
    "plt.pie(activity['id'], labels=activity['last_activity'], autopct='%1.1f%%')\n",
    "plt.title('Распределение по активности')\n",
    "plt.show();"
   ]
  },
  {
   "cell_type": "markdown",
   "metadata": {
    "id": "1CbuUctPAdbC"
   },
   "source": [
    "Активных Клиентов больше лишь на 4.6%, для бизнеса, думаю, показатель не хороший, необходимо рекомендовать заказчику иссделование активности Клиентов, так как это, логически, является большим показателем оттока, а в некоторых компаниях это его вид."
   ]
  },
  {
   "cell_type": "markdown",
   "metadata": {
    "id": "uZg5FpfGAdbC"
   },
   "source": [
    "#### Отток"
   ]
  },
  {
   "cell_type": "code",
   "execution_count": 28,
   "metadata": {
    "colab": {
     "base_uri": "https://localhost:8080/",
     "height": 429
    },
    "id": "xroLnAb5AdbC",
    "outputId": "3d9f18b8-2385-454a-b364-df9e1d375c3e"
   },
   "outputs": [
    {
     "data": {
      "image/png": "[encoded data removed]",
      "text/plain": [
       "<Figure size 432x288 with 1 Axes>"
      ]
     },
     "metadata": {},
     "output_type": "display_data"
    }
   ],
   "source": [
    "churn = data.groupby('churn').agg({'id':'count'}).reset_index()\n",
    "plt.pie(churn['id'], labels=churn['churn'], autopct='%1.1f%%')\n",
    "plt.title('Распределение по оттоку')\n",
    "plt.show();"
   ]
  },
  {
   "cell_type": "markdown",
   "metadata": {
    "id": "ZzvJUI30AdbC"
   },
   "source": [
    "Процент оттока действительно велик, если рассматривать как бизнес-метрику."
   ]
  },
  {
   "cell_type": "markdown",
   "metadata": {
    "id": "0lNvf24MAdbD"
   },
   "source": [
    "#### Кредитный скоринг"
   ]
  },
  {
   "cell_type": "code",
   "execution_count": 29,
   "metadata": {
    "colab": {
     "base_uri": "https://localhost:8080/",
     "height": 472
    },
    "id": "wYs_jVEzAdbD",
    "outputId": "1a959218-b2fa-4811-e900-224a845dd398"
   },
   "outputs": [
    {
     "data": {
      "image/png": "[encoded data removed]",
      "text/plain": [
       "<Figure size 432x288 with 1 Axes>"
      ]
     },
     "metadata": {
      "needs_background": "light"
     },
     "output_type": "display_data"
    }
   ],
   "source": [
    "plt.hist(data['score'], bins=40)\n",
    "plt.title('Распределение по кредитному скорингу')\n",
    "plt.xlabel('Баллы скоринга')\n",
    "plt.ylabel('Количество')\n",
    "plt.show();"
   ]
  },
  {
   "cell_type": "markdown",
   "metadata": {
    "id": "bFrpyFhAAdbD"
   },
   "source": [
    "Видим обширную сосредоточенность от 750 до 950 баллов, при этом есть пик на отметке в 900 баллов. Убеждаюсь в предыдущих выводах, банк не хочет рисковать и предпочитает Клиентов с высоким кредитным скорингом, но для пущей точности было бы хорошо знать все ли представленные Клиенты имеют кредит и измеряют данный показатель всем или только Клиентам с кредитом.\n",
    "Точно можем сказать, что Клиенты банка благонадежны как заемщики."
   ]
  },
  {
   "cell_type": "markdown",
   "metadata": {
    "id": "Y1qNm5rOAdbD"
   },
   "source": [
    "#### Количество баллов собственности"
   ]
  },
  {
   "cell_type": "code",
   "execution_count": 30,
   "metadata": {
    "colab": {
     "base_uri": "https://localhost:8080/",
     "height": 467
    },
    "id": "2BB7wSmNAdbD",
    "outputId": "2ba18af8-6d1d-421c-f42a-bf6d507d31e0"
   },
   "outputs": [
    {
     "data": {
      "image/png": "[encoded data removed]",
      "text/plain": [
       "<Figure size 432x288 with 1 Axes>"
      ]
     },
     "metadata": {
      "needs_background": "light"
     },
     "output_type": "display_data"
    }
   ],
   "source": [
    "data.groupby('equity')['id'].count().plot(kind='bar')\n",
    "plt.title('Распределение по баллам собственности')\n",
    "plt.xlabel('Баллы')\n",
    "plt.ylabel('Количество')\n",
    "plt.show();"
   ]
  },
  {
   "cell_type": "markdown",
   "metadata": {
    "id": "EIn_N-0CAdbD"
   },
   "source": [
    "Нет четкого распределения по количеству баллов собственности. Больше всего Клиентов с нулем, от 1 до 5 идет постепенное повышение, а дальше резкий спад. "
   ]
  },
  {
   "cell_type": "markdown",
   "metadata": {
    "id": "DsJTo7xqAdbE"
   },
   "source": [
    "#### Количество продуктов"
   ]
  },
  {
   "cell_type": "code",
   "execution_count": 31,
   "metadata": {
    "colab": {
     "base_uri": "https://localhost:8080/",
     "height": 467
    },
    "id": "gejcAdtFAdbE",
    "outputId": "15676609-cbbf-40a4-a246-9275f439ef65"
   },
   "outputs": [
    {
     "data": {
      "image/png": "[encoded data removed]",
      "text/plain": [
       "<Figure size 432x288 with 1 Axes>"
      ]
     },
     "metadata": {
      "needs_background": "light"
     },
     "output_type": "display_data"
    }
   ],
   "source": [
    "data.groupby('products')['id'].count().plot(kind='bar');\n",
    "plt.title('Распределение по количеству продуктов')\n",
    "plt.xlabel('Количество продуктов')\n",
    "plt.ylabel('Количество')\n",
    "plt.show();"
   ]
  },
  {
   "cell_type": "markdown",
   "metadata": {
    "id": "705BLtJ3AdbE"
   },
   "source": [
    "Большая часть имеет 2 продукта банка, на втором месте Клиенты с одним продуктом."
   ]
  },
  {
   "cell_type": "markdown",
   "metadata": {
    "id": "2usPEZEPAdbE"
   },
   "source": [
    "#### Возраст"
   ]
  },
  {
   "cell_type": "code",
   "execution_count": 32,
   "metadata": {
    "colab": {
     "base_uri": "https://localhost:8080/",
     "height": 568
    },
    "id": "ADhqsAVKAdbE",
    "outputId": "90525328-86f0-4093-d946-91c1f6489edf",
    "scrolled": false
   },
   "outputs": [
    {
     "data": {
      "image/png": "[encoded data removed]",
      "text/plain": [
       "<Figure size 864x432 with 1 Axes>"
      ]
     },
     "metadata": {
      "needs_background": "light"
     },
     "output_type": "display_data"
    }
   ],
   "source": [
    "data.groupby('age')['id'].count().plot(kind='bar', figsize=(12, 6))\n",
    "plt.title('Распределение по возрасту')\n",
    "plt.xlabel('Возраст')\n",
    "plt.ylabel('Количество')\n",
    "plt.show();"
   ]
  },
  {
   "cell_type": "markdown",
   "metadata": {
    "id": "k8iIsuGYAdbF"
   },
   "source": [
    "Основная масса Клиентов сосредоточена в возрасте от 28 до 46 лет, выше идет плавный спад."
   ]
  },
  {
   "cell_type": "markdown",
   "metadata": {
    "id": "7vlabjmVAdbF"
   },
   "source": [
    "#### Баланс"
   ]
  },
  {
   "cell_type": "code",
   "execution_count": 33,
   "metadata": {
    "colab": {
     "base_uri": "https://localhost:8080/",
     "height": 473
    },
    "id": "99RIY39aAdbF",
    "outputId": "35f849e6-8131-4e10-a5ab-c2d791380e58"
   },
   "outputs": [
    {
     "data": {
      "image/png": "[encoded data removed]",
      "text/plain": [
       "<Figure size 432x288 with 1 Axes>"
      ]
     },
     "metadata": {
      "needs_background": "light"
     },
     "output_type": "display_data"
    }
   ],
   "source": [
    "plt.hist(data['balance'], bins=100)\n",
    "plt.title('Распределение по балансу')\n",
    "plt.xlabel('Баланс')\n",
    "plt.ylabel('Количество')\n",
    "plt.show();"
   ]
  },
  {
   "cell_type": "code",
   "execution_count": 82,
   "metadata": {
    "colab": {
     "base_uri": "https://localhost:8080/",
     "height": 473
    },
    "id": "GcqxDhgUAdbF",
    "outputId": "5046ac9f-b405-4378-cf59-48c81557a4b3",
    "scrolled": true
   },
   "outputs": [
    {
     "data": {
      "image/png": "[encoded data removed]",
      "text/plain": [
       "<Figure size 432x288 with 1 Axes>"
      ]
     },
     "metadata": {
      "needs_background": "light"
     },
     "output_type": "display_data"
    }
   ],
   "source": [
    "plt.hist(data['balance'], bins=100)\n",
    "plt.title('Распределение по балансу')\n",
    "plt.xlabel('Баланс')\n",
    "plt.ylabel('Количество')\n",
    "plt.xlim(0, 10000000)\n",
    "plt.show();"
   ]
  },
  {
   "cell_type": "markdown",
   "metadata": {},
   "source": [
    "Исключим Клиентов с большим доходом, чтобы рассмотреть график:"
   ]
  },
  {
   "cell_type": "code",
   "execution_count": 64,
   "metadata": {},
   "outputs": [
    {
     "data": {
      "image/png": "[encoded data removed]",
      "text/plain": [
       "<Figure size 432x288 with 1 Axes>"
      ]
     },
     "metadata": {
      "needs_background": "light"
     },
     "output_type": "display_data"
    }
   ],
   "source": [
    "bal = data.query('balance < 4000000')\n",
    "plt.hist(bal['balance'], bins=100)\n",
    "plt.title('Распределение по балансу')\n",
    "plt.xlabel('Баланс')\n",
    "plt.ylabel('Количество')\n",
    "plt.xlim(0, 1000000)\n",
    "plt.show();"
   ]
  },
  {
   "cell_type": "markdown",
   "metadata": {
    "id": "uruTswIGAdbF"
   },
   "source": [
    "Чаще Клиенты хранят на счету от 100 до 650 тысяч"
   ]
  },
  {
   "cell_type": "markdown",
   "metadata": {
    "id": "xPv27vcOAdbG"
   },
   "source": [
    "#### Зарплата"
   ]
  },
  {
   "cell_type": "code",
   "execution_count": 86,
   "metadata": {
    "colab": {
     "base_uri": "https://localhost:8080/",
     "height": 472
    },
    "id": "lsZV6hk_AdbG",
    "outputId": "05db9859-4e75-4f2d-83b6-d1848228be15"
   },
   "outputs": [
    {
     "data": {
      "image/png": "[encoded data removed]",
      "text/plain": [
       "<Figure size 432x288 with 1 Axes>"
      ]
     },
     "metadata": {
      "needs_background": "light"
     },
     "output_type": "display_data"
    }
   ],
   "source": [
    "plt.hist(data['salary'], bins=100)\n",
    "plt.title('Распределение по зарплате')\n",
    "plt.xlabel('Зарплата')\n",
    "plt.ylabel('Количество')\n",
    "plt.show();"
   ]
  },
  {
   "cell_type": "code",
   "execution_count": 87,
   "metadata": {
    "colab": {
     "base_uri": "https://localhost:8080/",
     "height": 472
    },
    "id": "hFzTYOcFAdbG",
    "outputId": "c355f1cd-0714-4a7d-8301-cf44068ef2df"
   },
   "outputs": [
    {
     "data": {
      "image/png": "[encoded data removed]",
      "text/plain": [
       "<Figure size 432x288 with 1 Axes>"
      ]
     },
     "metadata": {
      "needs_background": "light"
     },
     "output_type": "display_data"
    }
   ],
   "source": [
    "plt.hist(data['salary'], bins=100)\n",
    "plt.title('Распределение по зарплате')\n",
    "plt.xlabel('Зарплата')\n",
    "plt.ylabel('Количество')\n",
    "plt.xlim(0, 200000)\n",
    "plt.show();"
   ]
  },
  {
   "cell_type": "markdown",
   "metadata": {
    "id": "m-DXvsEsAdbG"
   },
   "source": [
    "Основная масса зарабатывает от 25 до 175 тысяч."
   ]
  },
  {
   "cell_type": "markdown",
   "metadata": {
    "id": "1i5s7EOXAdbG"
   },
   "source": [
    "#### Вывод\n",
    "\n",
    "По представленным данным большая часть Клиентов имеет следующие данные:\n",
    "\n",
    "- 58.9% Клиентов из Ярославля, 26.9% из Рыбинска и 14.2% из Ростова;\n",
    "- Женщины и мужчины в равном количестве;\n",
    "- 68% имеют кредитную карту;\n",
    "- Только 52.3% Клиентов являются активными;\n",
    "- ***Доля оттока составляет 18.2%***;\n",
    "- Клиенты благонадежны и имеют кредитный скоринг от 750 до 950 баллов;\n",
    "- Балл собственности 0;\n",
    "- Имеют два продукта банка;\n",
    "- Возраст от 28 до 48 лет;\n",
    "- Хранят на счету от 100 до 650 тысяч;\n",
    "- Зарабатывают от 25 до 175 тысяч."
   ]
  },
  {
   "cell_type": "markdown",
   "metadata": {
    "id": "QFhk392uAdbG"
   },
   "source": [
    "### Поиск взаимосвязи категории к оттоку"
   ]
  },
  {
   "cell_type": "markdown",
   "metadata": {
    "id": "IF8XCk1IAdbH"
   },
   "source": [
    "#### Влияние пола на отток"
   ]
  },
  {
   "cell_type": "code",
   "execution_count": 37,
   "metadata": {
    "id": "Vr49NoiKAdbH"
   },
   "outputs": [],
   "source": [
    "def outflow_hist(column):\n",
    "    sns.histplot(data=data, hue='churn', x=column, stat='density', common_norm=False)\n",
    "    plt.title(f'Отток по {column}')\n",
    "    plt.legend(['отток', 'клиенты'])\n",
    "    plt.xlabel(column)\n",
    "    plt.ylabel('')\n",
    "    plt.show()"
   ]
  },
  {
   "cell_type": "code",
   "execution_count": 38,
   "metadata": {
    "colab": {
     "base_uri": "https://localhost:8080/",
     "height": 472
    },
    "id": "FLHR2ZW3AdbH",
    "outputId": "801ab59b-2e3b-41d5-8570-cc532374e6b7"
   },
   "outputs": [
    {
     "data": {
      "image/png": "[encoded data removed]",
      "text/plain": [
       "<Figure size 432x288 with 1 Axes>"
      ]
     },
     "metadata": {
      "needs_background": "light"
     },
     "output_type": "display_data"
    }
   ],
   "source": [
    "outflow_hist('gender')"
   ]
  },
  {
   "cell_type": "markdown",
   "metadata": {
    "id": "a0pGXdDlAdbH"
   },
   "source": [
    "Мужчины больше подвержены оттоку."
   ]
  },
  {
   "cell_type": "markdown",
   "metadata": {
    "id": "Xskrlgj5AdbH"
   },
   "source": [
    "#### Влияние города на отток"
   ]
  },
  {
   "cell_type": "code",
   "execution_count": 39,
   "metadata": {
    "colab": {
     "base_uri": "https://localhost:8080/",
     "height": 472
    },
    "id": "Z3JJhVVIAdbI",
    "outputId": "7cb05b22-6009-4d71-b5ba-a7ac524a738b"
   },
   "outputs": [
    {
     "data": {
      "image/png": "[encoded data removed]",
      "text/plain": [
       "<Figure size 432x288 with 1 Axes>"
      ]
     },
     "metadata": {
      "needs_background": "light"
     },
     "output_type": "display_data"
    }
   ],
   "source": [
    "outflow_hist('city')"
   ]
  },
  {
   "cell_type": "markdown",
   "metadata": {
    "id": "KRb8b-h5AdbI"
   },
   "source": [
    "В основном отток наблюдается в Ярославле, немного в Ростове."
   ]
  },
  {
   "cell_type": "markdown",
   "metadata": {
    "id": "xr2bVoRNAdbI"
   },
   "source": [
    "#### Влияние возраста на отток"
   ]
  },
  {
   "cell_type": "code",
   "execution_count": 40,
   "metadata": {
    "colab": {
     "base_uri": "https://localhost:8080/",
     "height": 472
    },
    "id": "8P7QNWnFAdbI",
    "outputId": "0b3b8c14-a794-41c5-9000-800a29c4056a"
   },
   "outputs": [
    {
     "data": {
      "image/png": "[encoded data removed]",
      "text/plain": [
       "<Figure size 432x288 with 1 Axes>"
      ]
     },
     "metadata": {
      "needs_background": "light"
     },
     "output_type": "display_data"
    }
   ],
   "source": [
    "outflow_hist('age')"
   ]
  },
  {
   "cell_type": "markdown",
   "metadata": {
    "id": "nUw0LDXOAdbI"
   },
   "source": [
    "Наблюдаем повышенный отток в возрасте от 25 до 35 и от 50 до 60."
   ]
  },
  {
   "cell_type": "markdown",
   "metadata": {
    "id": "SfcnH37zAdbJ"
   },
   "source": [
    "#### Влияние количества объектов собственности и баллов на отток"
   ]
  },
  {
   "cell_type": "code",
   "execution_count": 41,
   "metadata": {
    "colab": {
     "base_uri": "https://localhost:8080/",
     "height": 472
    },
    "id": "vt2oxme2AdbJ",
    "outputId": "150c5f72-b269-409e-c78c-1a9d67650175"
   },
   "outputs": [
    {
     "data": {
      "image/png": "[encoded data removed]",
      "text/plain": [
       "<Figure size 432x288 with 1 Axes>"
      ]
     },
     "metadata": {
      "needs_background": "light"
     },
     "output_type": "display_data"
    }
   ],
   "source": [
    "outflow_hist('equity')"
   ]
  },
  {
   "cell_type": "markdown",
   "metadata": {
    "id": "M-IxeLkrAdbJ"
   },
   "source": [
    "Высокоотточны Клиенты, у которых 3 балла собственности и выше."
   ]
  },
  {
   "cell_type": "markdown",
   "metadata": {
    "id": "hd79mbHOAdbJ"
   },
   "source": [
    "#### Влияние баланса на счете на отток"
   ]
  },
  {
   "cell_type": "code",
   "execution_count": 42,
   "metadata": {
    "colab": {
     "base_uri": "https://localhost:8080/",
     "height": 472
    },
    "id": "fv4XyZpQAdbJ",
    "outputId": "5bb07284-b587-4b6a-f5e8-91ad7a54b3f7"
   },
   "outputs": [
    {
     "data": {
      "image/png": "[encoded data removed]",
      "text/plain": [
       "<Figure size 432x288 with 1 Axes>"
      ]
     },
     "metadata": {
      "needs_background": "light"
     },
     "output_type": "display_data"
    }
   ],
   "source": [
    "outflow_hist('balance')"
   ]
  },
  {
   "cell_type": "code",
   "execution_count": 65,
   "metadata": {
    "colab": {
     "base_uri": "https://localhost:8080/",
     "height": 472
    },
    "id": "X2M-hZfdAdbJ",
    "outputId": "e83c1e00-003f-4785-c53b-f7bddb7be3cb"
   },
   "outputs": [
    {
     "data": {
      "image/png": "[encoded data removed]",
      "text/plain": [
       "<Figure size 432x288 with 1 Axes>"
      ]
     },
     "metadata": {
      "needs_background": "light"
     },
     "output_type": "display_data"
    }
   ],
   "source": [
    "sns.histplot(data=bal, hue='churn', x='balance', stat='density', common_norm=False)\n",
    "plt.title(f'Отток по balance')\n",
    "plt.legend(['отток', 'клиенты'])\n",
    "plt.xlabel('balance')\n",
    "plt.ylabel('')\n",
    "plt.xlim(700000, 1500000)\n",
    "plt.show()"
   ]
  },
  {
   "cell_type": "markdown",
   "metadata": {
    "id": "YL9UnfaDAdbK"
   },
   "source": [
    "Клиенты в оттоке чаще имеют на счету от 750 тысяч."
   ]
  },
  {
   "cell_type": "markdown",
   "metadata": {
    "id": "fa3tyYzQAdbK"
   },
   "source": [
    "#### Влияние количества продуктов банка на отток"
   ]
  },
  {
   "cell_type": "code",
   "execution_count": 44,
   "metadata": {
    "colab": {
     "base_uri": "https://localhost:8080/",
     "height": 472
    },
    "id": "JP_c3t-sAdbK",
    "outputId": "b8b9b0fa-0a51-4fd6-e2bf-4e24deb86cff"
   },
   "outputs": [
    {
     "data": {
      "image/png": "[encoded data removed]",
      "text/plain": [
       "<Figure size 432x288 with 1 Axes>"
      ]
     },
     "metadata": {
      "needs_background": "light"
     },
     "output_type": "display_data"
    }
   ],
   "source": [
    "outflow_hist('products')"
   ]
  },
  {
   "cell_type": "markdown",
   "metadata": {
    "id": "uNyY2nsPAdbK"
   },
   "source": [
    "Клиенты в оттоке имеют от 2 продуктов банка."
   ]
  },
  {
   "cell_type": "markdown",
   "metadata": {
    "id": "JHOi3NmPAdbK"
   },
   "source": [
    "#### Влияние наличия кредитной карты на отток"
   ]
  },
  {
   "cell_type": "code",
   "execution_count": 45,
   "metadata": {
    "colab": {
     "base_uri": "https://localhost:8080/",
     "height": 472
    },
    "id": "WV5qpNnsAdbK",
    "outputId": "b4f6f8a7-f9ae-48ac-f4c5-a49e9d39b3b0"
   },
   "outputs": [
    {
     "data": {
      "image/png": "[encoded data removed]",
      "text/plain": [
       "<Figure size 432x288 with 1 Axes>"
      ]
     },
     "metadata": {
      "needs_background": "light"
     },
     "output_type": "display_data"
    }
   ],
   "source": [
    "outflow_hist('credit_card')"
   ]
  },
  {
   "cell_type": "markdown",
   "metadata": {
    "id": "OOx5oU5qAdbL"
   },
   "source": [
    "Высокооточные Клиенты не имеют кредитной карты."
   ]
  },
  {
   "cell_type": "markdown",
   "metadata": {
    "id": "0jBq5bVQAdbL"
   },
   "source": [
    "#### Влияние активности на отток"
   ]
  },
  {
   "cell_type": "code",
   "execution_count": 46,
   "metadata": {
    "colab": {
     "base_uri": "https://localhost:8080/",
     "height": 472
    },
    "id": "toJba9GrAdbL",
    "outputId": "c9531198-e91a-4084-f18b-9c4689388400"
   },
   "outputs": [
    {
     "data": {
      "image/png": "[encoded data removed]",
      "text/plain": [
       "<Figure size 432x288 with 1 Axes>"
      ]
     },
     "metadata": {
      "needs_background": "light"
     },
     "output_type": "display_data"
    }
   ],
   "source": [
    "outflow_hist('last_activity')"
   ]
  },
  {
   "cell_type": "markdown",
   "metadata": {
    "id": "CGRgRw4ZAdbL"
   },
   "source": [
    "Вопреки логике активные Клиенты чаще уходят, другие, вероятно просто забыли о продуктах, которые у них есть."
   ]
  },
  {
   "cell_type": "markdown",
   "metadata": {
    "id": "ynlg3VQwAdbL"
   },
   "source": [
    "#### Влияние заработной платы на отток"
   ]
  },
  {
   "cell_type": "code",
   "execution_count": 47,
   "metadata": {
    "colab": {
     "base_uri": "https://localhost:8080/",
     "height": 472
    },
    "id": "De2ikiJ7AdbL",
    "outputId": "352cfcd1-f9d0-4efa-9ad4-506c908e8e99"
   },
   "outputs": [
    {
     "data": {
      "image/png": "[encoded data removed]",
      "text/plain": [
       "<Figure size 432x288 with 1 Axes>"
      ]
     },
     "metadata": {
      "needs_background": "light"
     },
     "output_type": "display_data"
    }
   ],
   "source": [
    "outflow_hist('salary')"
   ]
  },
  {
   "cell_type": "code",
   "execution_count": 48,
   "metadata": {
    "colab": {
     "base_uri": "https://localhost:8080/",
     "height": 472
    },
    "id": "Yt3txCKUAdbM",
    "outputId": "0506932c-8523-488d-e4d4-99a88066a36d"
   },
   "outputs": [
    {
     "data": {
      "image/png": "[encoded data removed]",
      "text/plain": [
       "<Figure size 432x288 with 1 Axes>"
      ]
     },
     "metadata": {
      "needs_background": "light"
     },
     "output_type": "display_data"
    }
   ],
   "source": [
    "sns.histplot(data=data, hue='churn', x='salary', stat='density', common_norm=False)\n",
    "plt.title(f'Отток по salary')\n",
    "plt.legend(['отток', 'клиенты'])\n",
    "plt.xlabel('salary')\n",
    "plt.ylabel('')\n",
    "plt.xlim(25000, 250000)\n",
    "plt.show()"
   ]
  },
  {
   "cell_type": "markdown",
   "metadata": {
    "id": "b5LJntC-AdbM"
   },
   "source": [
    "В основном уходят Клиенты с зарплатой от 80 до 220 тысяч."
   ]
  },
  {
   "cell_type": "markdown",
   "metadata": {
    "id": "V_lquTkcAdbM"
   },
   "source": [
    "#### Вывод\n",
    "\n",
    "Высокоотточные Клиенты имеют следующие признаки:\n",
    "\n",
    "- Мужчины;\n",
    "- Проживают в Ярославле;\n",
    "- Возраст от 25 до 35 и от 50 до 60;\n",
    "- 3 балла собственности и выше;\n",
    "- Имеют на счету от 750 тысяч;\n",
    "- Имеют от 2 продуктов банка;\n",
    "- Не имеют кредитной краты;\n",
    "- Являются активным Клиентом;\n",
    "- Зарабатывают от 80 до 220 тысяч."
   ]
  },
  {
   "cell_type": "markdown",
   "metadata": {
    "id": "EcK3XPtuAdbM"
   },
   "source": [
    "### Корреляция признаков"
   ]
  },
  {
   "cell_type": "markdown",
   "metadata": {
    "id": "rpx737zPAdbM"
   },
   "source": [
    "#### Корреляция между признаками"
   ]
  },
  {
   "cell_type": "code",
   "execution_count": 79,
   "metadata": {
    "colab": {
     "base_uri": "https://localhost:8080/",
     "height": 677
    },
    "id": "ws97xxBeAdbN",
    "outputId": "33b8f9aa-1d34-4bc0-b1a4-11d9523dd82f"
   },
   "outputs": [
    {
     "data": {
      "image/png": "[encoded data removed]",
      "text/plain": [
       "<Figure size 864x576 with 2 Axes>"
      ]
     },
     "metadata": {
      "needs_background": "light"
     },
     "output_type": "display_data"
    }
   ],
   "source": [
    "plt.figure(figsize=(12, 8))\n",
    "sns.heatmap(data.drop('id', axis=1).corr(method='spearman'), annot=True, cmap='vlag', center=0)\n",
    "plt.show();"
   ]
  },
  {
   "cell_type": "markdown",
   "metadata": {
    "id": "zClU4x_nAdbN"
   },
   "source": [
    "Зависимости между признаками не наблюдаем, но наибольшая между балансом и баллами собственности."
   ]
  },
  {
   "cell_type": "markdown",
   "metadata": {
    "id": "Z2U0Pky2AdbN"
   },
   "source": [
    "#### Корреляция признаков к оттоку"
   ]
  },
  {
   "cell_type": "code",
   "execution_count": 80,
   "metadata": {
    "colab": {
     "base_uri": "https://localhost:8080/",
     "height": 428
    },
    "id": "hRHGdU0fAdbN",
    "outputId": "1e9a8cc3-7104-418f-807f-e224f05e2aaa"
   },
   "outputs": [
    {
     "data": {
      "image/png": "[encoded data removed]",
      "text/plain": [
       "<Figure size 432x288 with 2 Axes>"
      ]
     },
     "metadata": {
      "needs_background": "light"
     },
     "output_type": "display_data"
    }
   ],
   "source": [
    "sns.heatmap(data.corr(method='spearman').loc[:, ['churn']].sort_values('churn').drop('churn'), \n",
    "            annot=True, cmap='vlag', center=0)\n",
    "plt.show()"
   ]
  },
  {
   "cell_type": "markdown",
   "metadata": {
    "id": "lr0ewb6EAdbN"
   },
   "source": [
    "## Статистический анализ"
   ]
  },
  {
   "cell_type": "markdown",
   "metadata": {
    "id": "754tmvZNAdbR"
   },
   "source": [
    "### Различие дохода у текущих Клиентов и Клиентов в оттоке"
   ]
  },
  {
   "cell_type": "markdown",
   "metadata": {
    "id": "CB1x-AIIAdbR"
   },
   "source": [
    "Гипотезы:\n",
    "\n",
    "- H₀ - Средний доход между Клиентами, которые ушли и котороые остались не различается;\n",
    "- H₁ - Средний доход ушедших Клиентов выше, чем у тех, что остались."
   ]
  },
  {
   "cell_type": "code",
   "execution_count": 51,
   "metadata": {
    "colab": {
     "base_uri": "https://localhost:8080/"
    },
    "id": "IJFy5Ql2AdbR",
    "outputId": "d1166e26-15b3-4f17-fc8b-a63911410af3"
   },
   "outputs": [
    {
     "data": {
      "text/plain": [
       "1.3477444051500698"
      ]
     },
     "execution_count": 51,
     "metadata": {},
     "output_type": "execute_result"
    }
   ],
   "source": [
    "client = data[data['churn'] == False]\n",
    "not_a_client = data[data['churn'] == True]\n",
    "\n",
    "np.var(client['salary']) / np.var(not_a_client['salary'])"
   ]
  },
  {
   "cell_type": "markdown",
   "metadata": {
    "id": "2Wqg52HeAdbR"
   },
   "source": [
    "Отношение большей дисперсии к меньшей менее 4, считаем по Стьютенту:"
   ]
  },
  {
   "cell_type": "code",
   "execution_count": 52,
   "metadata": {
    "colab": {
     "base_uri": "https://localhost:8080/"
    },
    "id": "ILTylawWAdbR",
    "outputId": "27e26107-a48d-4c7b-c046-a47b555bbe05"
   },
   "outputs": [
    {
     "name": "stdout",
     "output_type": "stream",
     "text": [
      "p-значение: 0.43239307946055944\n",
      "Нулевая гипотеза не отвергнута\n",
      "Средний доход у Клиентов: 147674.64\n",
      "Средний доход у Клиентов в оттоке: 148289.7\n"
     ]
    }
   ],
   "source": [
    "alpha = 0.05\n",
    "\n",
    "results = st.ttest_ind(\n",
    "    client['salary'],\n",
    "    not_a_client['salary'],\n",
    "    alternative='less'\n",
    ")\n",
    "\n",
    "print('p-значение:', results.pvalue)\n",
    "\n",
    "if results.pvalue < alpha:\n",
    "    print(\"Отвергаем нулевую гипотезу\")\n",
    "else:\n",
    "    print(\"Нулевая гипотеза не отвергнута\")\n",
    "\n",
    "print('Средний доход у Клиентов:', client['salary'].mean().round(2))\n",
    "print('Средний доход у Клиентов в оттоке:', not_a_client['salary'].mean().round(2))"
   ]
  },
  {
   "cell_type": "markdown",
   "metadata": {
    "id": "Yf1qQUACAdbS"
   },
   "source": [
    "Вопреки данным по оттоку статистической разницы в доходе нет."
   ]
  },
  {
   "cell_type": "markdown",
   "metadata": {
    "id": "3dtUFgEaAdbS"
   },
   "source": [
    "### Различие в количестве продуктов"
   ]
  },
  {
   "cell_type": "markdown",
   "metadata": {
    "id": "rBOytVI8AdbS"
   },
   "source": [
    "Гипотезы:\n",
    "\n",
    "- H₀ - Среднее количество продуктов между Клиентами, которые ушли и котороые остались не различается;\n",
    "- H₁ - Среднее количество продуктов ушедших Клиентов выше, чем у тех, что остались."
   ]
  },
  {
   "cell_type": "code",
   "execution_count": 53,
   "metadata": {
    "colab": {
     "base_uri": "https://localhost:8080/"
    },
    "id": "f8bGwEGXAdbS",
    "outputId": "6ac5ba20-8d3b-42cf-9c5a-843c6251618e"
   },
   "outputs": [
    {
     "data": {
      "text/plain": [
       "1.6753035784382204"
      ]
     },
     "execution_count": 53,
     "metadata": {},
     "output_type": "execute_result"
    }
   ],
   "source": [
    "np.var(not_a_client['products']) / np.var(client['products'])"
   ]
  },
  {
   "cell_type": "code",
   "execution_count": 54,
   "metadata": {
    "colab": {
     "base_uri": "https://localhost:8080/"
    },
    "id": "eXmmgmX8AdbS",
    "outputId": "ccfa4771-fa47-4c6b-a1be-afaeeb94da8d"
   },
   "outputs": [
    {
     "name": "stdout",
     "output_type": "stream",
     "text": [
      "p-значение: 1.0382823348850812e-207\n",
      "Отвергаем нулевую гипотезу\n",
      "Среднее количество продуктов у Клиентов: 1.76\n",
      "Среднее количество продуктов у Клиентов в оттоке: 2.38\n"
     ]
    }
   ],
   "source": [
    "alpha = 0.05\n",
    "\n",
    "results = st.ttest_ind(\n",
    "    client['products'],\n",
    "    not_a_client['products'],\n",
    "    alternative='less'\n",
    ")\n",
    "\n",
    "print('p-значение:', results.pvalue)\n",
    "\n",
    "if results.pvalue < alpha:\n",
    "    print(\"Отвергаем нулевую гипотезу\")\n",
    "else:\n",
    "    print(\"Нулевая гипотеза не отвергнута\")\n",
    "\n",
    "print('Среднее количество продуктов у Клиентов:', client['products'].mean().round(2))\n",
    "print('Среднее количество продуктов у Клиентов в оттоке:', not_a_client['products'].mean().round(2))"
   ]
  },
  {
   "cell_type": "markdown",
   "metadata": {
    "id": "guKIXfKiAdbS"
   },
   "source": [
    "Чем больше продуктов, тем выше шанс оттока."
   ]
  },
  {
   "cell_type": "markdown",
   "metadata": {
    "id": "JZ0MdxBcAdbT"
   },
   "source": [
    "### Различие в балансе"
   ]
  },
  {
   "cell_type": "markdown",
   "metadata": {
    "id": "DpE7oNr1AdbT"
   },
   "source": [
    "Гипотезы:\n",
    "\n",
    "- H₀ - Средний баланс между Клиентами, которые ушли и котороые остались не различается;\n",
    "- H₁ - Средний баланс ушедших Клиентов выше, чем у тех, что остались."
   ]
  },
  {
   "cell_type": "code",
   "execution_count": 55,
   "metadata": {
    "colab": {
     "base_uri": "https://localhost:8080/"
    },
    "id": "rHOAug2wAdbT",
    "outputId": "ae93e36d-77f6-4fd3-a58f-09013685312e"
   },
   "outputs": [
    {
     "data": {
      "text/plain": [
       "1.0836707674153878"
      ]
     },
     "execution_count": 55,
     "metadata": {},
     "output_type": "execute_result"
    }
   ],
   "source": [
    "np.var(not_a_client['balance']) / np.var(client['balance'])"
   ]
  },
  {
   "cell_type": "code",
   "execution_count": 56,
   "metadata": {
    "colab": {
     "base_uri": "https://localhost:8080/"
    },
    "id": "7NqGWB9mAdbT",
    "outputId": "37b036fe-dd14-494e-fda2-9a906543a1f1"
   },
   "outputs": [
    {
     "name": "stdout",
     "output_type": "stream",
     "text": [
      "p-значение: 8.658704289556784e-14\n",
      "Отвергаем нулевую гипотезу\n",
      "Средний баланс у Клиентов: 733031.63\n",
      "Средний баланс у Клиентов в оттоке: 1134458.21\n"
     ]
    }
   ],
   "source": [
    "alpha = 0.05\n",
    "\n",
    "results = st.ttest_ind(\n",
    "    client['balance'].dropna(),\n",
    "    not_a_client['balance'].dropna(),\n",
    "    alternative='less', equal_var = False\n",
    ")\n",
    "\n",
    "print('p-значение:', results.pvalue)\n",
    "\n",
    "if results.pvalue < alpha:\n",
    "    print(\"Отвергаем нулевую гипотезу\")\n",
    "else:\n",
    "    print(\"Нулевая гипотеза не отвергнута\")\n",
    "\n",
    "print('Средний баланс у Клиентов:', client['balance'].mean().round(2))\n",
    "print('Средний баланс у Клиентов в оттоке:', not_a_client['balance'].mean().round(2))"
   ]
  },
  {
   "cell_type": "markdown",
   "metadata": {
    "id": "1WrCjjahAdbT"
   },
   "source": [
    "Клиенты с более внушительным балансом больше подвержены оттоку."
   ]
  },
  {
   "cell_type": "markdown",
   "metadata": {
    "id": "d2OKbbF2AdbU"
   },
   "source": [
    "## Сегменты Клиентов по признакам оттока"
   ]
  },
  {
   "cell_type": "markdown",
   "metadata": {
    "id": "ISIGrZpFDK1C"
   },
   "source": [
    "### Сегмент 1"
   ]
  },
  {
   "cell_type": "markdown",
   "metadata": {
    "id": "efobcLxIVV1d"
   },
   "source": [
    "Критерии сегмента:\n",
    "\n",
    "- Мужчины;\n",
    "- Возраст от 25 до 35 и от 50 до 60 лет;\n",
    "- На счету более 750 тысяч."
   ]
  },
  {
   "cell_type": "code",
   "execution_count": 83,
   "metadata": {
    "colab": {
     "base_uri": "https://localhost:8080/"
    },
    "id": "crEwlNodVq-Q",
    "outputId": "939fb3a5-ffbf-4044-fc4d-50017637e823"
   },
   "outputs": [
    {
     "name": "stdout",
     "output_type": "stream",
     "text": [
      "Доля ушедших Клиентов всего: 18.24%\n",
      "Доля ушедших Клиентов по сегменту 1: 46.57%\n",
      "Количество Клиентов в сегменте 1239\n"
     ]
    }
   ],
   "source": [
    "seg_1 = data.query('balance >= 750000 and ((age >= 50 and age <= 60) or (age >= 25 and age <= 35))')\n",
    "seg_1_churn = (seg_1.query('churn == True')['id'].count() / seg_1['id'].count() * 100).round(2)\n",
    "share = (data.query('churn == True')['id'].count() / data['id'].count() * 100).round(2)\n",
    "\n",
    "print(f'Доля ушедших Клиентов всего: {share}%')\n",
    "print(f'Доля ушедших Клиентов по сегменту 1: {seg_1_churn}%')\n",
    "print('Количество Клиентов в сегменте', seg_1['id'].count())"
   ]
  },
  {
   "cell_type": "markdown",
   "metadata": {
    "id": "EytRjBAAg2Wp"
   },
   "source": [
    "### Сегмент 2"
   ]
  },
  {
   "cell_type": "markdown",
   "metadata": {
    "id": "BM9fBbWFfP4Z"
   },
   "source": [
    "Критерии сегмента:\n",
    "\n",
    "- Женщины;\n",
    "- Зарплата от 80 до 220 тысяч;\n",
    "- От 3 баллов собственности."
   ]
  },
  {
   "cell_type": "code",
   "execution_count": 84,
   "metadata": {
    "colab": {
     "base_uri": "https://localhost:8080/"
    },
    "id": "VxjI9b06fxq3",
    "outputId": "e585a83f-0d98-441d-99c7-ca611fb63185"
   },
   "outputs": [
    {
     "name": "stdout",
     "output_type": "stream",
     "text": [
      "Доля ушедших Клиентов всего: 18.24%\n",
      "Доля ушедших Клиентов по сегменту 2: 26.55%\n",
      "Количество Клиентов в сегменте 1616\n"
     ]
    }
   ],
   "source": [
    "seg_2 = data.query('gender == \"Ж\" and salary >= 80000 and salary <= 220000 and equity > 2')\n",
    "seg_2_churn = (seg_2.query('churn == True')['id'].count() / seg_1['id'].count() * 100).round(2)\n",
    "\n",
    "print(f'Доля ушедших Клиентов всего: {share}%')\n",
    "print(f'Доля ушедших Клиентов по сегменту 2: {seg_2_churn}%')\n",
    "print('Количество Клиентов в сегменте', seg_2['id'].count())"
   ]
  },
  {
   "cell_type": "markdown",
   "metadata": {
    "id": "1wEtYMLbg27f"
   },
   "source": [
    "### Сегмент 3"
   ]
  },
  {
   "cell_type": "markdown",
   "metadata": {
    "id": "3p7MF-cjgtjr"
   },
   "source": [
    "Критерии сегмента:\n",
    "\n",
    "- Ярославцы;\n",
    "- Имеют от 2 продуктов банка;\n",
    "- Являются активными."
   ]
  },
  {
   "cell_type": "code",
   "execution_count": 85,
   "metadata": {
    "colab": {
     "base_uri": "https://localhost:8080/"
    },
    "id": "kE6Thb2EhTHu",
    "outputId": "5142131e-b427-4f8f-f910-2eca1ec54a13"
   },
   "outputs": [
    {
     "name": "stdout",
     "output_type": "stream",
     "text": [
      "Доля ушедших Клиентов всего: 18.24%\n",
      "Доля ушедших Клиентов по сегменту 3: 55.61%\n",
      "Количество Клиентов в сегменте 1923\n"
     ]
    }
   ],
   "source": [
    "seg_3 = data.query('city == \"Ярославль\" and products > 1 and last_activity == True')\n",
    "seg_3_churn = (seg_3.query('churn == True')['id'].count() / seg_1['id'].count() * 100).round(2)\n",
    "\n",
    "print(f'Доля ушедших Клиентов всего: {share}%')\n",
    "print(f'Доля ушедших Клиентов по сегменту 3: {seg_3_churn}%')\n",
    "print('Количество Клиентов в сегменте', seg_3['id'].count())"
   ]
  },
  {
   "cell_type": "markdown",
   "metadata": {
    "id": "-erv3iWwAdbU"
   },
   "source": [
    "## Вывод"
   ]
  },
  {
   "cell_type": "markdown",
   "metadata": {
    "id": "Kes7ocCdiMu_"
   },
   "source": [
    "По представленным данным большая часть Клиентов имеет следующие данные:\n",
    "\n",
    "- 58.7% Клиентов из Ярославля, 27% из Рыбинска и 14.3% из Ростова;\n",
    "- Женщины и мужчины в равном количестве;\n",
    "- 68.2% имеют кредитную карту;\n",
    "- Только 52.2% Клиентов являются активными;\n",
    "- Доля оттока составляет 18.1%;\n",
    "- Клиенты благонадежны и имеют кредитный скоринг от 750 до 950 баллов;\n",
    "- Балл собственности 0;\n",
    "- Имеют два продукта банка;\n",
    "- Возраст от 28 до 48 лет;\n",
    "- Хранят на счету от 100 до 650 тысяч;\n",
    "- Зарабатывают от 25 до 175 тысяч.\n",
    "\n",
    "Высокоотточные Клиенты имеют следующие признаки:\n",
    "\n",
    "- Мужчины;\n",
    "- Проживают в Ярославле;\n",
    "- Возраст от 25 до 35 и от 50 до 60;\n",
    "- 3 балла собственности и выше;\n",
    "- Имеют на счету от 750 тысяч;\n",
    "- Имеют от 2 продуктов банка;\n",
    "- Не имеют кредитной краты;\n",
    "- Являются активным Клиентом;\n",
    "- Зарабатывают от 80 до 220 тысяч.\n",
    "\n",
    "Выделены следующие сегменты:\n",
    "\n",
    "***Сегмент 1***\n",
    "\n",
    "Критерии сегмента:\n",
    "- Мужчины;\n",
    "- Возраст от 25 до 35 и от 50 до 60 лет;\n",
    "- На счету более 750 тысяч.\n",
    "\n",
    "Доля Клиентов в оттоке по сегменту 1: 46.57%\n",
    "\n",
    "Количество Клиентов в сегменте: 1239\n",
    "\n",
    "***Сегмент 2***\n",
    "\n",
    "Критерии сегмента:\n",
    "- Женщины;\n",
    "- Зарплата от 80 до 220 тысяч;\n",
    "- От 3 баллов собственности.\n",
    "\n",
    "Доля Клиентов в оттоке по сегменту 2: 26.55%\n",
    "\n",
    "Количество Клиентов в сегменте: 1616\n",
    "\n",
    "***Сегмент 3***\n",
    "\n",
    "Критерии сегмента:\n",
    "- Ярославцы;\n",
    "- Имеют от 2 продуктов банка;\n",
    "- Являются активными.\n",
    "\n",
    "Доля Клиентов в оттоке по сегменту 3: 55.61%\n",
    "\n",
    "Количество Клиентов в сегменте: 1923\n",
    "\n",
    "***Рекомендации:***\n",
    "\n",
    "По представленным данным банк может повлиять только таким показателям как наличие кредитной карты и баланс. Они имеют хорошие показатели по оттоку и необходимо увеличить продажи кредитных карт, вкладов, накопительных счетов.\n",
    "\n",
    "Так же в рамках борьбы с оттоком отдел маркетинга может придумать дополнительные кампании, удовлетворяющие потребностям Клиентов. Например для сегмента 1 подойдут новые выгодные вклады, сегменту 2 кэшбэк на товары для дома/машины.\n"
   ]
  }
 ],
 "metadata": {
  "ExecuteTimeLog": [
   {
    "duration": 4,
    "start_time": "2023-08-25T14:40:39.853Z"
   },
   {
    "duration": 1375,
    "start_time": "2023-08-30T13:38:54.603Z"
   },
   {
    "duration": 76,
    "start_time": "2023-08-30T13:38:55.981Z"
   },
   {
    "duration": 15,
    "start_time": "2023-08-30T13:38:56.060Z"
   },
   {
    "duration": 51,
    "start_time": "2023-08-30T13:38:56.077Z"
   },
   {
    "duration": 6,
    "start_time": "2023-08-30T13:38:56.130Z"
   },
   {
    "duration": 19,
    "start_time": "2023-08-30T13:38:56.137Z"
   },
   {
    "duration": 165,
    "start_time": "2023-08-30T13:38:56.158Z"
   },
   {
    "duration": 48,
    "start_time": "2023-08-30T13:39:03.622Z"
   },
   {
    "duration": 59,
    "start_time": "2023-08-30T13:39:29.367Z"
   },
   {
    "duration": 8,
    "start_time": "2023-08-30T13:50:23.451Z"
   },
   {
    "duration": 4,
    "start_time": "2023-08-30T14:00:06.066Z"
   },
   {
    "duration": 119,
    "start_time": "2023-08-30T14:00:06.071Z"
   },
   {
    "duration": 11,
    "start_time": "2023-08-30T14:00:06.191Z"
   },
   {
    "duration": 70,
    "start_time": "2023-08-30T14:00:06.204Z"
   },
   {
    "duration": 29,
    "start_time": "2023-08-30T14:00:06.275Z"
   },
   {
    "duration": 32,
    "start_time": "2023-08-30T14:00:06.306Z"
   },
   {
    "duration": 123,
    "start_time": "2023-08-30T14:00:06.343Z"
   },
   {
    "duration": 15,
    "start_time": "2023-08-30T14:00:06.468Z"
   },
   {
    "duration": 0,
    "start_time": "2023-08-30T14:00:06.487Z"
   },
   {
    "duration": 0,
    "start_time": "2023-08-30T14:00:06.489Z"
   },
   {
    "duration": 0,
    "start_time": "2023-08-30T14:00:06.490Z"
   },
   {
    "duration": 0,
    "start_time": "2023-08-30T14:00:06.492Z"
   },
   {
    "duration": 0,
    "start_time": "2023-08-30T14:00:06.493Z"
   },
   {
    "duration": 0,
    "start_time": "2023-08-30T14:00:06.495Z"
   },
   {
    "duration": 0,
    "start_time": "2023-08-30T14:00:06.496Z"
   },
   {
    "duration": 0,
    "start_time": "2023-08-30T14:00:06.498Z"
   },
   {
    "duration": 0,
    "start_time": "2023-08-30T14:00:06.499Z"
   },
   {
    "duration": 0,
    "start_time": "2023-08-30T14:00:06.500Z"
   },
   {
    "duration": 0,
    "start_time": "2023-08-30T14:00:06.542Z"
   },
   {
    "duration": 0,
    "start_time": "2023-08-30T14:00:06.544Z"
   },
   {
    "duration": 0,
    "start_time": "2023-08-30T14:00:06.545Z"
   },
   {
    "duration": 0,
    "start_time": "2023-08-30T14:00:06.545Z"
   },
   {
    "duration": 0,
    "start_time": "2023-08-30T14:00:06.548Z"
   },
   {
    "duration": 0,
    "start_time": "2023-08-30T14:00:06.550Z"
   },
   {
    "duration": 0,
    "start_time": "2023-08-30T14:00:06.551Z"
   },
   {
    "duration": 0,
    "start_time": "2023-08-30T14:00:06.552Z"
   },
   {
    "duration": 0,
    "start_time": "2023-08-30T14:00:06.553Z"
   },
   {
    "duration": 0,
    "start_time": "2023-08-30T14:00:06.554Z"
   },
   {
    "duration": 0,
    "start_time": "2023-08-30T14:00:06.555Z"
   },
   {
    "duration": 0,
    "start_time": "2023-08-30T14:00:06.556Z"
   },
   {
    "duration": 0,
    "start_time": "2023-08-30T14:00:06.557Z"
   },
   {
    "duration": 1,
    "start_time": "2023-08-30T14:00:06.558Z"
   },
   {
    "duration": 0,
    "start_time": "2023-08-30T14:00:06.559Z"
   },
   {
    "duration": 0,
    "start_time": "2023-08-30T14:00:06.561Z"
   },
   {
    "duration": 0,
    "start_time": "2023-08-30T14:00:06.562Z"
   },
   {
    "duration": 0,
    "start_time": "2023-08-30T14:00:06.563Z"
   },
   {
    "duration": 0,
    "start_time": "2023-08-30T14:00:06.564Z"
   },
   {
    "duration": 0,
    "start_time": "2023-08-30T14:00:06.565Z"
   },
   {
    "duration": 0,
    "start_time": "2023-08-30T14:00:06.566Z"
   },
   {
    "duration": 0,
    "start_time": "2023-08-30T14:00:06.567Z"
   },
   {
    "duration": 0,
    "start_time": "2023-08-30T14:00:06.568Z"
   },
   {
    "duration": 0,
    "start_time": "2023-08-30T14:00:06.569Z"
   },
   {
    "duration": 0,
    "start_time": "2023-08-30T14:00:06.570Z"
   },
   {
    "duration": 0,
    "start_time": "2023-08-30T14:00:06.571Z"
   },
   {
    "duration": 0,
    "start_time": "2023-08-30T14:00:06.573Z"
   },
   {
    "duration": 0,
    "start_time": "2023-08-30T14:00:06.574Z"
   },
   {
    "duration": 1,
    "start_time": "2023-08-30T14:00:06.574Z"
   },
   {
    "duration": 0,
    "start_time": "2023-08-30T14:00:06.575Z"
   },
   {
    "duration": 0,
    "start_time": "2023-08-30T14:00:06.576Z"
   },
   {
    "duration": 0,
    "start_time": "2023-08-30T14:00:06.577Z"
   },
   {
    "duration": 0,
    "start_time": "2023-08-30T14:00:06.644Z"
   },
   {
    "duration": 0,
    "start_time": "2023-08-30T14:00:06.645Z"
   },
   {
    "duration": 0,
    "start_time": "2023-08-30T14:00:06.647Z"
   },
   {
    "duration": 0,
    "start_time": "2023-08-30T14:00:06.648Z"
   },
   {
    "duration": 0,
    "start_time": "2023-08-30T14:00:06.649Z"
   },
   {
    "duration": 11,
    "start_time": "2023-08-30T14:00:06.652Z"
   },
   {
    "duration": 0,
    "start_time": "2023-08-30T14:00:06.665Z"
   },
   {
    "duration": 0,
    "start_time": "2023-08-30T14:00:06.666Z"
   },
   {
    "duration": 0,
    "start_time": "2023-08-30T14:00:06.668Z"
   },
   {
    "duration": 13,
    "start_time": "2023-08-30T14:00:52.865Z"
   },
   {
    "duration": 1215,
    "start_time": "2023-08-30T14:01:10.182Z"
   },
   {
    "duration": 76,
    "start_time": "2023-08-30T14:01:11.399Z"
   },
   {
    "duration": 12,
    "start_time": "2023-08-30T14:01:11.477Z"
   },
   {
    "duration": 54,
    "start_time": "2023-08-30T14:01:11.491Z"
   },
   {
    "duration": 11,
    "start_time": "2023-08-30T14:01:11.546Z"
   },
   {
    "duration": 13,
    "start_time": "2023-08-30T14:01:11.559Z"
   },
   {
    "duration": 74,
    "start_time": "2023-08-30T14:01:11.573Z"
   },
   {
    "duration": 106,
    "start_time": "2023-08-30T14:01:11.649Z"
   },
   {
    "duration": 0,
    "start_time": "2023-08-30T14:01:11.758Z"
   },
   {
    "duration": 0,
    "start_time": "2023-08-30T14:01:11.759Z"
   },
   {
    "duration": 0,
    "start_time": "2023-08-30T14:01:11.760Z"
   },
   {
    "duration": 0,
    "start_time": "2023-08-30T14:01:11.761Z"
   },
   {
    "duration": 0,
    "start_time": "2023-08-30T14:01:11.762Z"
   },
   {
    "duration": 0,
    "start_time": "2023-08-30T14:01:11.762Z"
   },
   {
    "duration": 0,
    "start_time": "2023-08-30T14:01:11.763Z"
   },
   {
    "duration": 0,
    "start_time": "2023-08-30T14:01:11.764Z"
   },
   {
    "duration": 0,
    "start_time": "2023-08-30T14:01:11.765Z"
   },
   {
    "duration": 0,
    "start_time": "2023-08-30T14:01:11.766Z"
   },
   {
    "duration": 0,
    "start_time": "2023-08-30T14:01:11.767Z"
   },
   {
    "duration": 0,
    "start_time": "2023-08-30T14:01:11.768Z"
   },
   {
    "duration": 0,
    "start_time": "2023-08-30T14:01:11.769Z"
   },
   {
    "duration": 0,
    "start_time": "2023-08-30T14:01:11.770Z"
   },
   {
    "duration": 0,
    "start_time": "2023-08-30T14:01:11.771Z"
   },
   {
    "duration": 0,
    "start_time": "2023-08-30T14:01:11.772Z"
   },
   {
    "duration": 0,
    "start_time": "2023-08-30T14:01:11.772Z"
   },
   {
    "duration": 0,
    "start_time": "2023-08-30T14:01:11.773Z"
   },
   {
    "duration": 0,
    "start_time": "2023-08-30T14:01:11.774Z"
   },
   {
    "duration": 0,
    "start_time": "2023-08-30T14:01:11.775Z"
   },
   {
    "duration": 0,
    "start_time": "2023-08-30T14:01:11.776Z"
   },
   {
    "duration": 0,
    "start_time": "2023-08-30T14:01:11.777Z"
   },
   {
    "duration": 0,
    "start_time": "2023-08-30T14:01:11.777Z"
   },
   {
    "duration": 0,
    "start_time": "2023-08-30T14:01:11.779Z"
   },
   {
    "duration": 0,
    "start_time": "2023-08-30T14:01:11.779Z"
   },
   {
    "duration": 0,
    "start_time": "2023-08-30T14:01:11.780Z"
   },
   {
    "duration": 0,
    "start_time": "2023-08-30T14:01:11.781Z"
   },
   {
    "duration": 0,
    "start_time": "2023-08-30T14:01:11.783Z"
   },
   {
    "duration": 0,
    "start_time": "2023-08-30T14:01:11.783Z"
   },
   {
    "duration": 0,
    "start_time": "2023-08-30T14:01:11.785Z"
   },
   {
    "duration": 0,
    "start_time": "2023-08-30T14:01:11.786Z"
   },
   {
    "duration": 0,
    "start_time": "2023-08-30T14:01:11.834Z"
   },
   {
    "duration": 0,
    "start_time": "2023-08-30T14:01:11.835Z"
   },
   {
    "duration": 0,
    "start_time": "2023-08-30T14:01:11.836Z"
   },
   {
    "duration": 0,
    "start_time": "2023-08-30T14:01:11.837Z"
   },
   {
    "duration": 0,
    "start_time": "2023-08-30T14:01:11.838Z"
   },
   {
    "duration": 0,
    "start_time": "2023-08-30T14:01:11.839Z"
   },
   {
    "duration": 0,
    "start_time": "2023-08-30T14:01:11.840Z"
   },
   {
    "duration": 0,
    "start_time": "2023-08-30T14:01:11.844Z"
   },
   {
    "duration": 0,
    "start_time": "2023-08-30T14:01:11.846Z"
   },
   {
    "duration": 0,
    "start_time": "2023-08-30T14:01:11.847Z"
   },
   {
    "duration": 0,
    "start_time": "2023-08-30T14:01:11.848Z"
   },
   {
    "duration": 0,
    "start_time": "2023-08-30T14:01:11.849Z"
   },
   {
    "duration": 0,
    "start_time": "2023-08-30T14:01:11.850Z"
   },
   {
    "duration": 0,
    "start_time": "2023-08-30T14:01:11.851Z"
   },
   {
    "duration": 0,
    "start_time": "2023-08-30T14:01:11.852Z"
   },
   {
    "duration": 0,
    "start_time": "2023-08-30T14:01:11.853Z"
   },
   {
    "duration": 0,
    "start_time": "2023-08-30T14:01:11.854Z"
   },
   {
    "duration": 0,
    "start_time": "2023-08-30T14:01:11.855Z"
   },
   {
    "duration": 0,
    "start_time": "2023-08-30T14:01:11.856Z"
   },
   {
    "duration": 0,
    "start_time": "2023-08-30T14:01:11.857Z"
   },
   {
    "duration": 11,
    "start_time": "2023-08-30T14:03:02.071Z"
   },
   {
    "duration": 12,
    "start_time": "2023-08-30T14:03:09.690Z"
   },
   {
    "duration": 17,
    "start_time": "2023-08-30T14:10:07.032Z"
   },
   {
    "duration": 10,
    "start_time": "2023-08-30T14:10:16.914Z"
   },
   {
    "duration": 13,
    "start_time": "2023-08-30T14:10:45.092Z"
   },
   {
    "duration": 9,
    "start_time": "2023-08-30T14:10:55.674Z"
   },
   {
    "duration": 17,
    "start_time": "2023-08-30T14:11:12.086Z"
   },
   {
    "duration": 1204,
    "start_time": "2023-08-30T14:11:28.558Z"
   },
   {
    "duration": 77,
    "start_time": "2023-08-30T14:11:29.764Z"
   },
   {
    "duration": 12,
    "start_time": "2023-08-30T14:11:29.842Z"
   },
   {
    "duration": 49,
    "start_time": "2023-08-30T14:11:29.856Z"
   },
   {
    "duration": 35,
    "start_time": "2023-08-30T14:11:29.907Z"
   },
   {
    "duration": 20,
    "start_time": "2023-08-30T14:11:29.943Z"
   },
   {
    "duration": 96,
    "start_time": "2023-08-30T14:11:29.965Z"
   },
   {
    "duration": 83,
    "start_time": "2023-08-30T14:11:30.063Z"
   },
   {
    "duration": 183,
    "start_time": "2023-08-30T14:11:30.148Z"
   },
   {
    "duration": 33,
    "start_time": "2023-08-30T14:11:30.335Z"
   },
   {
    "duration": 59,
    "start_time": "2023-08-30T14:11:30.370Z"
   },
   {
    "duration": 19,
    "start_time": "2023-08-30T14:11:30.431Z"
   },
   {
    "duration": 99,
    "start_time": "2023-08-30T14:11:30.452Z"
   },
   {
    "duration": 5,
    "start_time": "2023-08-30T14:11:30.553Z"
   },
   {
    "duration": 144,
    "start_time": "2023-08-30T14:11:30.559Z"
   },
   {
    "duration": 9,
    "start_time": "2023-08-30T14:11:30.705Z"
   },
   {
    "duration": 32,
    "start_time": "2023-08-30T14:11:30.716Z"
   },
   {
    "duration": 156,
    "start_time": "2023-08-30T14:11:30.749Z"
   },
   {
    "duration": 14,
    "start_time": "2023-08-30T14:11:30.907Z"
   },
   {
    "duration": 39,
    "start_time": "2023-08-30T14:11:30.922Z"
   },
   {
    "duration": 159,
    "start_time": "2023-08-30T14:11:30.963Z"
   },
   {
    "duration": 11,
    "start_time": "2023-08-30T14:11:31.124Z"
   },
   {
    "duration": 46,
    "start_time": "2023-08-30T14:11:31.136Z"
   },
   {
    "duration": 97,
    "start_time": "2023-08-30T14:11:31.183Z"
   },
   {
    "duration": 74,
    "start_time": "2023-08-30T14:11:31.282Z"
   },
   {
    "duration": 79,
    "start_time": "2023-08-30T14:11:31.358Z"
   },
   {
    "duration": 80,
    "start_time": "2023-08-30T14:11:31.439Z"
   },
   {
    "duration": 76,
    "start_time": "2023-08-30T14:11:31.522Z"
   },
   {
    "duration": 191,
    "start_time": "2023-08-30T14:11:31.600Z"
   },
   {
    "duration": 221,
    "start_time": "2023-08-30T14:11:31.792Z"
   },
   {
    "duration": 140,
    "start_time": "2023-08-30T14:11:32.015Z"
   },
   {
    "duration": 915,
    "start_time": "2023-08-30T14:11:32.156Z"
   },
   {
    "duration": 246,
    "start_time": "2023-08-30T14:11:33.073Z"
   },
   {
    "duration": 245,
    "start_time": "2023-08-30T14:11:33.321Z"
   },
   {
    "duration": 256,
    "start_time": "2023-08-30T14:11:33.568Z"
   },
   {
    "duration": 352,
    "start_time": "2023-08-30T14:11:33.826Z"
   },
   {
    "duration": 4,
    "start_time": "2023-08-30T14:11:34.180Z"
   },
   {
    "duration": 158,
    "start_time": "2023-08-30T14:11:34.186Z"
   },
   {
    "duration": 184,
    "start_time": "2023-08-30T14:11:34.346Z"
   },
   {
    "duration": 294,
    "start_time": "2023-08-30T14:11:34.533Z"
   },
   {
    "duration": 207,
    "start_time": "2023-08-30T14:11:34.829Z"
   },
   {
    "duration": 5285,
    "start_time": "2023-08-30T14:11:35.038Z"
   },
   {
    "duration": 5624,
    "start_time": "2023-08-30T14:11:40.325Z"
   },
   {
    "duration": 655,
    "start_time": "2023-08-30T14:11:45.951Z"
   },
   {
    "duration": 199,
    "start_time": "2023-08-30T14:11:46.608Z"
   },
   {
    "duration": 192,
    "start_time": "2023-08-30T14:11:46.809Z"
   },
   {
    "duration": 589,
    "start_time": "2023-08-30T14:11:47.002Z"
   },
   {
    "duration": 701,
    "start_time": "2023-08-30T14:11:47.593Z"
   },
   {
    "duration": 771,
    "start_time": "2023-08-30T14:11:48.295Z"
   },
   {
    "duration": 295,
    "start_time": "2023-08-30T14:11:49.067Z"
   },
   {
    "duration": 9,
    "start_time": "2023-08-30T14:11:49.364Z"
   },
   {
    "duration": 8,
    "start_time": "2023-08-30T14:11:49.374Z"
   },
   {
    "duration": 16,
    "start_time": "2023-08-30T14:11:49.383Z"
   },
   {
    "duration": 14,
    "start_time": "2023-08-30T14:11:49.400Z"
   },
   {
    "duration": 20,
    "start_time": "2023-08-30T14:11:49.416Z"
   },
   {
    "duration": 15,
    "start_time": "2023-08-30T14:11:49.437Z"
   },
   {
    "duration": 18,
    "start_time": "2023-08-30T14:11:49.453Z"
   },
   {
    "duration": 14,
    "start_time": "2023-08-30T14:11:49.472Z"
   },
   {
    "duration": 10,
    "start_time": "2023-08-30T14:11:49.488Z"
   },
   {
    "duration": 243,
    "start_time": "2023-08-30T14:16:28.936Z"
   },
   {
    "duration": 255,
    "start_time": "2023-08-30T14:19:22.071Z"
   },
   {
    "duration": 123,
    "start_time": "2023-08-30T14:19:30.343Z"
   },
   {
    "duration": 234,
    "start_time": "2023-08-30T14:19:34.183Z"
   },
   {
    "duration": 351,
    "start_time": "2023-08-30T14:19:45.254Z"
   },
   {
    "duration": 334,
    "start_time": "2023-08-30T14:25:10.544Z"
   },
   {
    "duration": 123,
    "start_time": "2023-08-30T14:35:07.945Z"
   },
   {
    "duration": 3,
    "start_time": "2023-08-30T14:36:07.159Z"
   },
   {
    "duration": 15,
    "start_time": "2023-08-30T14:41:07.664Z"
   },
   {
    "duration": 16,
    "start_time": "2023-08-30T14:41:54.803Z"
   },
   {
    "duration": 17,
    "start_time": "2023-08-30T14:42:17.456Z"
   },
   {
    "duration": 11,
    "start_time": "2023-08-30T14:42:24.997Z"
   },
   {
    "duration": 12,
    "start_time": "2023-08-30T14:42:46.009Z"
   },
   {
    "duration": 19,
    "start_time": "2023-08-30T14:42:58.730Z"
   },
   {
    "duration": 10,
    "start_time": "2023-08-30T14:49:32.382Z"
   },
   {
    "duration": 28,
    "start_time": "2023-08-30T14:50:17.386Z"
   },
   {
    "duration": 11,
    "start_time": "2023-08-30T14:50:21.717Z"
   },
   {
    "duration": 777,
    "start_time": "2023-08-30T15:09:08.518Z"
   },
   {
    "duration": 23,
    "start_time": "2023-08-30T15:09:34.234Z"
   },
   {
    "duration": 765,
    "start_time": "2023-08-30T15:09:40.407Z"
   },
   {
    "duration": 358,
    "start_time": "2023-08-30T15:11:27.572Z"
   },
   {
    "duration": 327,
    "start_time": "2023-08-30T15:16:19.683Z"
   },
   {
    "duration": 248,
    "start_time": "2023-08-30T15:16:23.628Z"
   },
   {
    "duration": 16,
    "start_time": "2023-08-30T15:49:48.902Z"
   },
   {
    "duration": 12,
    "start_time": "2023-08-30T15:49:54.373Z"
   },
   {
    "duration": 13,
    "start_time": "2023-08-30T15:49:58.619Z"
   },
   {
    "duration": 250,
    "start_time": "2023-08-30T16:29:59.612Z"
   },
   {
    "duration": 266,
    "start_time": "2023-08-30T16:30:06.928Z"
   }
  ],
  "colab": {
   "provenance": []
  },
  "kernelspec": {
   "display_name": "Python 3 (ipykernel)",
   "language": "python",
   "name": "python3"
  },
  "language_info": {
   "codemirror_mode": {
    "name": "ipython",
    "version": 3
   },
   "file_extension": ".py",
   "mimetype": "text/x-python",
   "name": "python",
   "nbconvert_exporter": "python",
   "pygments_lexer": "ipython3",
   "version": "3.10.9"
  },
  "toc": {
   "base_numbering": 1,
   "nav_menu": {},
   "number_sections": true,
   "sideBar": true,
   "skip_h1_title": true,
   "title_cell": "Table of Contents",
   "title_sidebar": "Contents",
   "toc_cell": false,
   "toc_position": {
    "height": "calc(100% - 180px)",
    "left": "10px",
    "top": "150px",
    "width": "165px"
   },
   "toc_section_display": true,
   "toc_window_display": true
  }
 },
 "nbformat": 4,
 "nbformat_minor": 1
}
