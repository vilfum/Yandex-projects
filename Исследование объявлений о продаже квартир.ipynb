{
 "cells": [
  {
   "cell_type": "markdown",
   "metadata": {},
   "source": [
    "# Исследование объявлений о продаже квартир\n",
    "\n",
    "В вашем распоряжении данные сервиса Яндекс.Недвижимость — архив объявлений о продаже квартир в Санкт-Петербурге и соседних населённых пунктов за несколько лет. Нужно научиться определять рыночную стоимость объектов недвижимости. Ваша задача — установить параметры. Это позволит построить автоматизированную систему: она отследит аномалии и мошенническую деятельность. \n",
    "\n",
    "По каждой квартире на продажу доступны два вида данных. Первые вписаны пользователем, вторые — получены автоматически на основе картографических данных. Например, расстояние до центра, аэропорта, ближайшего парка и водоёма. "
   ]
  },
  {
   "cell_type": "markdown",
   "metadata": {},
   "source": [
    "Описание данных\n",
    "- airports_nearest — расстояние до ближайшего аэропорта в метрах (м)\n",
    "- balcony — число балконов\n",
    "- ceiling_height — высота потолков (м)\n",
    "- cityCenters_nearest — расстояние до центра города (м)\n",
    "- days_exposition — сколько дней было размещено объявление (от публикации до снятия)\n",
    "- first_day_exposition — дата публикации\n",
    "- floor — этаж\n",
    "- floors_total — всего этажей в доме\n",
    "- is_apartment — апартаменты (булев тип)\n",
    "- kitchen_area — площадь кухни в квадратных метрах (м²)\n",
    "- last_price — цена на момент снятия с публикации\n",
    "- living_area — жилая площадь в квадратных метрах (м²)\n",
    "- locality_name — название населённого пункта\n",
    "- open_plan — свободная планировка (булев тип)\n",
    "- parks_around3000 — число парков в радиусе 3 км\n",
    "- parks_nearest — расстояние до ближайшего парка (м)\n",
    "- ponds_around3000 — число водоёмов в радиусе 3 км\n",
    "- ponds_nearest — расстояние до ближайшего водоёма (м)\n",
    "- rooms — число комнат\n",
    "- studio — квартира-студия (булев тип)\n",
    "- total_area — общая площадь квартиры в квадратных метрах (м²)\n",
    "- total_images — число фотографий квартиры в объявлении"
   ]
  },
  {
   "cell_type": "markdown",
   "metadata": {},
   "source": [
    "### Откройте файл с данными и изучите общую информацию. "
   ]
  },
  {
   "cell_type": "code",
   "execution_count": 1,
   "metadata": {},
   "outputs": [],
   "source": [
    "# импортируем библиотеки\n",
    "import pandas as pd\n",
    "import numpy as np\n",
    "import matplotlib.pyplot as plt\n"
   ]
  },
  {
   "cell_type": "code",
   "execution_count": 2,
   "metadata": {},
   "outputs": [],
   "source": [
    "# читаем файл с данными, присваиваем переменную data\n",
    "data = pd.read_csv('/datasets/real_estate_data.csv')"
   ]
  },
  {
   "cell_type": "markdown",
   "metadata": {},
   "source": [
    "Выведем первые 10 строк, чтобы посмотреть какие данные хранятся в файле"
   ]
  },
  {
   "cell_type": "code",
   "execution_count": 2,
   "metadata": {
    "scrolled": true
   },
   "outputs": [
    {
     "data": {
      "text/html": [
       "<div>\n",
       "<style scoped>\n",
       "    .dataframe tbody tr th:only-of-type {\n",
       "        vertical-align: middle;\n",
       "    }\n",
       "\n",
       "    .dataframe tbody tr th {\n",
       "        vertical-align: top;\n",
       "    }\n",
       "\n",
       "    .dataframe thead th {\n",
       "        text-align: right;\n",
       "    }\n",
       "</style>\n",
       "<table border=\"1\" class=\"dataframe\">\n",
       "  <thead>\n",
       "    <tr style=\"text-align: right;\">\n",
       "      <th></th>\n",
       "      <th>total_images\\tlast_price\\ttotal_area\\tfirst_day_exposition\\trooms\\tceiling_height\\tfloors_total\\tliving_area\\tfloor\\tis_apartment\\tstudio\\topen_plan\\tkitchen_area\\tbalcony\\tlocality_name\\tairports_nearest\\tcityCenters_nearest\\tparks_around3000\\tparks_nearest\\tponds_around3000\\tponds_nearest\\tdays_exposition</th>\n",
       "    </tr>\n",
       "  </thead>\n",
       "  <tbody>\n",
       "    <tr>\n",
       "      <th>0</th>\n",
       "      <td>20\\t13000000.0\\t108.0\\t2019-03-07T00:00:00\\t3\\...</td>\n",
       "    </tr>\n",
       "    <tr>\n",
       "      <th>1</th>\n",
       "      <td>7\\t3350000.0\\t40.4\\t2018-12-04T00:00:00\\t1\\t\\t...</td>\n",
       "    </tr>\n",
       "    <tr>\n",
       "      <th>2</th>\n",
       "      <td>10\\t5196000.0\\t56.0\\t2015-08-20T00:00:00\\t2\\t\\...</td>\n",
       "    </tr>\n",
       "    <tr>\n",
       "      <th>3</th>\n",
       "      <td>0\\t64900000.0\\t159.0\\t2015-07-24T00:00:00\\t3\\t...</td>\n",
       "    </tr>\n",
       "    <tr>\n",
       "      <th>4</th>\n",
       "      <td>2\\t10000000.0\\t100.0\\t2018-06-19T00:00:00\\t2\\t...</td>\n",
       "    </tr>\n",
       "    <tr>\n",
       "      <th>5</th>\n",
       "      <td>10\\t2890000.0\\t30.4\\t2018-09-10T00:00:00\\t1\\t\\...</td>\n",
       "    </tr>\n",
       "    <tr>\n",
       "      <th>6</th>\n",
       "      <td>6\\t3700000.0\\t37.3\\t2017-11-02T00:00:00\\t1\\t\\t...</td>\n",
       "    </tr>\n",
       "    <tr>\n",
       "      <th>7</th>\n",
       "      <td>5\\t7915000.0\\t71.6\\t2019-04-18T00:00:00\\t2\\t\\t...</td>\n",
       "    </tr>\n",
       "    <tr>\n",
       "      <th>8</th>\n",
       "      <td>20\\t2900000.0\\t33.16\\t2018-05-23T00:00:00\\t1\\t...</td>\n",
       "    </tr>\n",
       "    <tr>\n",
       "      <th>9</th>\n",
       "      <td>18\\t5400000.0\\t61.0\\t2017-02-26T00:00:00\\t3\\t2...</td>\n",
       "    </tr>\n",
       "  </tbody>\n",
       "</table>\n",
       "</div>"
      ],
      "text/plain": [
       "  total_images\\tlast_price\\ttotal_area\\tfirst_day_exposition\\trooms\\tceiling_height\\tfloors_total\\tliving_area\\tfloor\\tis_apartment\\tstudio\\topen_plan\\tkitchen_area\\tbalcony\\tlocality_name\\tairports_nearest\\tcityCenters_nearest\\tparks_around3000\\tparks_nearest\\tponds_around3000\\tponds_nearest\\tdays_exposition\n",
       "0  20\\t13000000.0\\t108.0\\t2019-03-07T00:00:00\\t3\\...                                                                                                                                                                                                                                                                  \n",
       "1  7\\t3350000.0\\t40.4\\t2018-12-04T00:00:00\\t1\\t\\t...                                                                                                                                                                                                                                                                  \n",
       "2  10\\t5196000.0\\t56.0\\t2015-08-20T00:00:00\\t2\\t\\...                                                                                                                                                                                                                                                                  \n",
       "3  0\\t64900000.0\\t159.0\\t2015-07-24T00:00:00\\t3\\t...                                                                                                                                                                                                                                                                  \n",
       "4  2\\t10000000.0\\t100.0\\t2018-06-19T00:00:00\\t2\\t...                                                                                                                                                                                                                                                                  \n",
       "5  10\\t2890000.0\\t30.4\\t2018-09-10T00:00:00\\t1\\t\\...                                                                                                                                                                                                                                                                  \n",
       "6  6\\t3700000.0\\t37.3\\t2017-11-02T00:00:00\\t1\\t\\t...                                                                                                                                                                                                                                                                  \n",
       "7  5\\t7915000.0\\t71.6\\t2019-04-18T00:00:00\\t2\\t\\t...                                                                                                                                                                                                                                                                  \n",
       "8  20\\t2900000.0\\t33.16\\t2018-05-23T00:00:00\\t1\\t...                                                                                                                                                                                                                                                                  \n",
       "9  18\\t5400000.0\\t61.0\\t2017-02-26T00:00:00\\t3\\t2...                                                                                                                                                                                                                                                                  "
      ]
     },
     "execution_count": 2,
     "metadata": {},
     "output_type": "execute_result"
    }
   ],
   "source": [
    "data.head(10)"
   ]
  },
  {
   "cell_type": "markdown",
   "metadata": {},
   "source": [
    "Для корректного отображения необходимо указать разделитель при чтении файла."
   ]
  },
  {
   "cell_type": "code",
   "execution_count": 5,
   "metadata": {
    "scrolled": true
   },
   "outputs": [
    {
     "data": {
      "text/html": [
       "<div>\n",
       "<style scoped>\n",
       "    .dataframe tbody tr th:only-of-type {\n",
       "        vertical-align: middle;\n",
       "    }\n",
       "\n",
       "    .dataframe tbody tr th {\n",
       "        vertical-align: top;\n",
       "    }\n",
       "\n",
       "    .dataframe thead th {\n",
       "        text-align: right;\n",
       "    }\n",
       "</style>\n",
       "<table border=\"1\" class=\"dataframe\">\n",
       "  <thead>\n",
       "    <tr style=\"text-align: right;\">\n",
       "      <th></th>\n",
       "      <th>total_images</th>\n",
       "      <th>last_price</th>\n",
       "      <th>total_area</th>\n",
       "      <th>first_day_exposition</th>\n",
       "      <th>rooms</th>\n",
       "      <th>ceiling_height</th>\n",
       "      <th>floors_total</th>\n",
       "      <th>living_area</th>\n",
       "      <th>floor</th>\n",
       "      <th>is_apartment</th>\n",
       "      <th>studio</th>\n",
       "      <th>open_plan</th>\n",
       "      <th>kitchen_area</th>\n",
       "      <th>balcony</th>\n",
       "      <th>locality_name</th>\n",
       "      <th>airports_nearest</th>\n",
       "      <th>cityCenters_nearest</th>\n",
       "      <th>parks_around3000</th>\n",
       "      <th>parks_nearest</th>\n",
       "      <th>ponds_around3000</th>\n",
       "      <th>ponds_nearest</th>\n",
       "      <th>days_exposition</th>\n",
       "    </tr>\n",
       "  </thead>\n",
       "  <tbody>\n",
       "    <tr>\n",
       "      <th>0</th>\n",
       "      <td>20</td>\n",
       "      <td>13000000.0</td>\n",
       "      <td>108.00</td>\n",
       "      <td>2019-03-07T00:00:00</td>\n",
       "      <td>3</td>\n",
       "      <td>2.70</td>\n",
       "      <td>16.0</td>\n",
       "      <td>51.00</td>\n",
       "      <td>8</td>\n",
       "      <td>NaN</td>\n",
       "      <td>False</td>\n",
       "      <td>False</td>\n",
       "      <td>25.00</td>\n",
       "      <td>NaN</td>\n",
       "      <td>Санкт-Петербург</td>\n",
       "      <td>18863.0</td>\n",
       "      <td>16028.0</td>\n",
       "      <td>1.0</td>\n",
       "      <td>482.0</td>\n",
       "      <td>2.0</td>\n",
       "      <td>755.0</td>\n",
       "      <td>NaN</td>\n",
       "    </tr>\n",
       "    <tr>\n",
       "      <th>1</th>\n",
       "      <td>7</td>\n",
       "      <td>3350000.0</td>\n",
       "      <td>40.40</td>\n",
       "      <td>2018-12-04T00:00:00</td>\n",
       "      <td>1</td>\n",
       "      <td>NaN</td>\n",
       "      <td>11.0</td>\n",
       "      <td>18.60</td>\n",
       "      <td>1</td>\n",
       "      <td>NaN</td>\n",
       "      <td>False</td>\n",
       "      <td>False</td>\n",
       "      <td>11.00</td>\n",
       "      <td>2.0</td>\n",
       "      <td>посёлок Шушары</td>\n",
       "      <td>12817.0</td>\n",
       "      <td>18603.0</td>\n",
       "      <td>0.0</td>\n",
       "      <td>NaN</td>\n",
       "      <td>0.0</td>\n",
       "      <td>NaN</td>\n",
       "      <td>81.0</td>\n",
       "    </tr>\n",
       "    <tr>\n",
       "      <th>2</th>\n",
       "      <td>10</td>\n",
       "      <td>5196000.0</td>\n",
       "      <td>56.00</td>\n",
       "      <td>2015-08-20T00:00:00</td>\n",
       "      <td>2</td>\n",
       "      <td>NaN</td>\n",
       "      <td>5.0</td>\n",
       "      <td>34.30</td>\n",
       "      <td>4</td>\n",
       "      <td>NaN</td>\n",
       "      <td>False</td>\n",
       "      <td>False</td>\n",
       "      <td>8.30</td>\n",
       "      <td>0.0</td>\n",
       "      <td>Санкт-Петербург</td>\n",
       "      <td>21741.0</td>\n",
       "      <td>13933.0</td>\n",
       "      <td>1.0</td>\n",
       "      <td>90.0</td>\n",
       "      <td>2.0</td>\n",
       "      <td>574.0</td>\n",
       "      <td>558.0</td>\n",
       "    </tr>\n",
       "    <tr>\n",
       "      <th>3</th>\n",
       "      <td>0</td>\n",
       "      <td>64900000.0</td>\n",
       "      <td>159.00</td>\n",
       "      <td>2015-07-24T00:00:00</td>\n",
       "      <td>3</td>\n",
       "      <td>NaN</td>\n",
       "      <td>14.0</td>\n",
       "      <td>NaN</td>\n",
       "      <td>9</td>\n",
       "      <td>NaN</td>\n",
       "      <td>False</td>\n",
       "      <td>False</td>\n",
       "      <td>NaN</td>\n",
       "      <td>0.0</td>\n",
       "      <td>Санкт-Петербург</td>\n",
       "      <td>28098.0</td>\n",
       "      <td>6800.0</td>\n",
       "      <td>2.0</td>\n",
       "      <td>84.0</td>\n",
       "      <td>3.0</td>\n",
       "      <td>234.0</td>\n",
       "      <td>424.0</td>\n",
       "    </tr>\n",
       "    <tr>\n",
       "      <th>4</th>\n",
       "      <td>2</td>\n",
       "      <td>10000000.0</td>\n",
       "      <td>100.00</td>\n",
       "      <td>2018-06-19T00:00:00</td>\n",
       "      <td>2</td>\n",
       "      <td>3.03</td>\n",
       "      <td>14.0</td>\n",
       "      <td>32.00</td>\n",
       "      <td>13</td>\n",
       "      <td>NaN</td>\n",
       "      <td>False</td>\n",
       "      <td>False</td>\n",
       "      <td>41.00</td>\n",
       "      <td>NaN</td>\n",
       "      <td>Санкт-Петербург</td>\n",
       "      <td>31856.0</td>\n",
       "      <td>8098.0</td>\n",
       "      <td>2.0</td>\n",
       "      <td>112.0</td>\n",
       "      <td>1.0</td>\n",
       "      <td>48.0</td>\n",
       "      <td>121.0</td>\n",
       "    </tr>\n",
       "    <tr>\n",
       "      <th>5</th>\n",
       "      <td>10</td>\n",
       "      <td>2890000.0</td>\n",
       "      <td>30.40</td>\n",
       "      <td>2018-09-10T00:00:00</td>\n",
       "      <td>1</td>\n",
       "      <td>NaN</td>\n",
       "      <td>12.0</td>\n",
       "      <td>14.40</td>\n",
       "      <td>5</td>\n",
       "      <td>NaN</td>\n",
       "      <td>False</td>\n",
       "      <td>False</td>\n",
       "      <td>9.10</td>\n",
       "      <td>NaN</td>\n",
       "      <td>городской посёлок Янино-1</td>\n",
       "      <td>NaN</td>\n",
       "      <td>NaN</td>\n",
       "      <td>NaN</td>\n",
       "      <td>NaN</td>\n",
       "      <td>NaN</td>\n",
       "      <td>NaN</td>\n",
       "      <td>55.0</td>\n",
       "    </tr>\n",
       "    <tr>\n",
       "      <th>6</th>\n",
       "      <td>6</td>\n",
       "      <td>3700000.0</td>\n",
       "      <td>37.30</td>\n",
       "      <td>2017-11-02T00:00:00</td>\n",
       "      <td>1</td>\n",
       "      <td>NaN</td>\n",
       "      <td>26.0</td>\n",
       "      <td>10.60</td>\n",
       "      <td>6</td>\n",
       "      <td>NaN</td>\n",
       "      <td>False</td>\n",
       "      <td>False</td>\n",
       "      <td>14.40</td>\n",
       "      <td>1.0</td>\n",
       "      <td>посёлок Парголово</td>\n",
       "      <td>52996.0</td>\n",
       "      <td>19143.0</td>\n",
       "      <td>0.0</td>\n",
       "      <td>NaN</td>\n",
       "      <td>0.0</td>\n",
       "      <td>NaN</td>\n",
       "      <td>155.0</td>\n",
       "    </tr>\n",
       "    <tr>\n",
       "      <th>7</th>\n",
       "      <td>5</td>\n",
       "      <td>7915000.0</td>\n",
       "      <td>71.60</td>\n",
       "      <td>2019-04-18T00:00:00</td>\n",
       "      <td>2</td>\n",
       "      <td>NaN</td>\n",
       "      <td>24.0</td>\n",
       "      <td>NaN</td>\n",
       "      <td>22</td>\n",
       "      <td>NaN</td>\n",
       "      <td>False</td>\n",
       "      <td>False</td>\n",
       "      <td>18.90</td>\n",
       "      <td>2.0</td>\n",
       "      <td>Санкт-Петербург</td>\n",
       "      <td>23982.0</td>\n",
       "      <td>11634.0</td>\n",
       "      <td>0.0</td>\n",
       "      <td>NaN</td>\n",
       "      <td>0.0</td>\n",
       "      <td>NaN</td>\n",
       "      <td>NaN</td>\n",
       "    </tr>\n",
       "    <tr>\n",
       "      <th>8</th>\n",
       "      <td>20</td>\n",
       "      <td>2900000.0</td>\n",
       "      <td>33.16</td>\n",
       "      <td>2018-05-23T00:00:00</td>\n",
       "      <td>1</td>\n",
       "      <td>NaN</td>\n",
       "      <td>27.0</td>\n",
       "      <td>15.43</td>\n",
       "      <td>26</td>\n",
       "      <td>NaN</td>\n",
       "      <td>False</td>\n",
       "      <td>False</td>\n",
       "      <td>8.81</td>\n",
       "      <td>NaN</td>\n",
       "      <td>посёлок Мурино</td>\n",
       "      <td>NaN</td>\n",
       "      <td>NaN</td>\n",
       "      <td>NaN</td>\n",
       "      <td>NaN</td>\n",
       "      <td>NaN</td>\n",
       "      <td>NaN</td>\n",
       "      <td>189.0</td>\n",
       "    </tr>\n",
       "    <tr>\n",
       "      <th>9</th>\n",
       "      <td>18</td>\n",
       "      <td>5400000.0</td>\n",
       "      <td>61.00</td>\n",
       "      <td>2017-02-26T00:00:00</td>\n",
       "      <td>3</td>\n",
       "      <td>2.50</td>\n",
       "      <td>9.0</td>\n",
       "      <td>43.60</td>\n",
       "      <td>7</td>\n",
       "      <td>NaN</td>\n",
       "      <td>False</td>\n",
       "      <td>False</td>\n",
       "      <td>6.50</td>\n",
       "      <td>2.0</td>\n",
       "      <td>Санкт-Петербург</td>\n",
       "      <td>50898.0</td>\n",
       "      <td>15008.0</td>\n",
       "      <td>0.0</td>\n",
       "      <td>NaN</td>\n",
       "      <td>0.0</td>\n",
       "      <td>NaN</td>\n",
       "      <td>289.0</td>\n",
       "    </tr>\n",
       "  </tbody>\n",
       "</table>\n",
       "</div>"
      ],
      "text/plain": [
       "   total_images  last_price  total_area first_day_exposition  rooms  \\\n",
       "0            20  13000000.0      108.00  2019-03-07T00:00:00      3   \n",
       "1             7   3350000.0       40.40  2018-12-04T00:00:00      1   \n",
       "2            10   5196000.0       56.00  2015-08-20T00:00:00      2   \n",
       "3             0  64900000.0      159.00  2015-07-24T00:00:00      3   \n",
       "4             2  10000000.0      100.00  2018-06-19T00:00:00      2   \n",
       "5            10   2890000.0       30.40  2018-09-10T00:00:00      1   \n",
       "6             6   3700000.0       37.30  2017-11-02T00:00:00      1   \n",
       "7             5   7915000.0       71.60  2019-04-18T00:00:00      2   \n",
       "8            20   2900000.0       33.16  2018-05-23T00:00:00      1   \n",
       "9            18   5400000.0       61.00  2017-02-26T00:00:00      3   \n",
       "\n",
       "   ceiling_height  floors_total  living_area  floor is_apartment  studio  \\\n",
       "0            2.70          16.0        51.00      8          NaN   False   \n",
       "1             NaN          11.0        18.60      1          NaN   False   \n",
       "2             NaN           5.0        34.30      4          NaN   False   \n",
       "3             NaN          14.0          NaN      9          NaN   False   \n",
       "4            3.03          14.0        32.00     13          NaN   False   \n",
       "5             NaN          12.0        14.40      5          NaN   False   \n",
       "6             NaN          26.0        10.60      6          NaN   False   \n",
       "7             NaN          24.0          NaN     22          NaN   False   \n",
       "8             NaN          27.0        15.43     26          NaN   False   \n",
       "9            2.50           9.0        43.60      7          NaN   False   \n",
       "\n",
       "   open_plan  kitchen_area  balcony              locality_name  \\\n",
       "0      False         25.00      NaN            Санкт-Петербург   \n",
       "1      False         11.00      2.0             посёлок Шушары   \n",
       "2      False          8.30      0.0            Санкт-Петербург   \n",
       "3      False           NaN      0.0            Санкт-Петербург   \n",
       "4      False         41.00      NaN            Санкт-Петербург   \n",
       "5      False          9.10      NaN  городской посёлок Янино-1   \n",
       "6      False         14.40      1.0          посёлок Парголово   \n",
       "7      False         18.90      2.0            Санкт-Петербург   \n",
       "8      False          8.81      NaN             посёлок Мурино   \n",
       "9      False          6.50      2.0            Санкт-Петербург   \n",
       "\n",
       "   airports_nearest  cityCenters_nearest  parks_around3000  parks_nearest  \\\n",
       "0           18863.0              16028.0               1.0          482.0   \n",
       "1           12817.0              18603.0               0.0            NaN   \n",
       "2           21741.0              13933.0               1.0           90.0   \n",
       "3           28098.0               6800.0               2.0           84.0   \n",
       "4           31856.0               8098.0               2.0          112.0   \n",
       "5               NaN                  NaN               NaN            NaN   \n",
       "6           52996.0              19143.0               0.0            NaN   \n",
       "7           23982.0              11634.0               0.0            NaN   \n",
       "8               NaN                  NaN               NaN            NaN   \n",
       "9           50898.0              15008.0               0.0            NaN   \n",
       "\n",
       "   ponds_around3000  ponds_nearest  days_exposition  \n",
       "0               2.0          755.0              NaN  \n",
       "1               0.0            NaN             81.0  \n",
       "2               2.0          574.0            558.0  \n",
       "3               3.0          234.0            424.0  \n",
       "4               1.0           48.0            121.0  \n",
       "5               NaN            NaN             55.0  \n",
       "6               0.0            NaN            155.0  \n",
       "7               0.0            NaN              NaN  \n",
       "8               NaN            NaN            189.0  \n",
       "9               0.0            NaN            289.0  "
      ]
     },
     "execution_count": 5,
     "metadata": {},
     "output_type": "execute_result"
    }
   ],
   "source": [
    "# разделитель указываем в атрибуте sep\n",
    "data = pd.read_csv('/datasets/real_estate_data.csv', sep='\\t')\n",
    "pd.set_option('display.max_columns', None)\n",
    "data.head(10)"
   ]
  },
  {
   "cell_type": "markdown",
   "metadata": {},
   "source": [
    "Теперь таблица стала читаемой и пригодной для обработки.\n",
    "\n",
    "Посмотрим общую информацию с помощью метода info()"
   ]
  },
  {
   "cell_type": "code",
   "execution_count": 4,
   "metadata": {},
   "outputs": [
    {
     "name": "stdout",
     "output_type": "stream",
     "text": [
      "<class 'pandas.core.frame.DataFrame'>\n",
      "RangeIndex: 23699 entries, 0 to 23698\n",
      "Data columns (total 22 columns):\n",
      " #   Column                Non-Null Count  Dtype  \n",
      "---  ------                --------------  -----  \n",
      " 0   total_images          23699 non-null  int64  \n",
      " 1   last_price            23699 non-null  float64\n",
      " 2   total_area            23699 non-null  float64\n",
      " 3   first_day_exposition  23699 non-null  object \n",
      " 4   rooms                 23699 non-null  int64  \n",
      " 5   ceiling_height        14504 non-null  float64\n",
      " 6   floors_total          23613 non-null  float64\n",
      " 7   living_area           21796 non-null  float64\n",
      " 8   floor                 23699 non-null  int64  \n",
      " 9   is_apartment          2775 non-null   object \n",
      " 10  studio                23699 non-null  bool   \n",
      " 11  open_plan             23699 non-null  bool   \n",
      " 12  kitchen_area          21421 non-null  float64\n",
      " 13  balcony               12180 non-null  float64\n",
      " 14  locality_name         23650 non-null  object \n",
      " 15  airports_nearest      18157 non-null  float64\n",
      " 16  cityCenters_nearest   18180 non-null  float64\n",
      " 17  parks_around3000      18181 non-null  float64\n",
      " 18  parks_nearest         8079 non-null   float64\n",
      " 19  ponds_around3000      18181 non-null  float64\n",
      " 20  ponds_nearest         9110 non-null   float64\n",
      " 21  days_exposition       20518 non-null  float64\n",
      "dtypes: bool(2), float64(14), int64(3), object(3)\n",
      "memory usage: 3.7+ MB\n"
     ]
    }
   ],
   "source": [
    "data.info()"
   ]
  },
  {
   "cell_type": "markdown",
   "metadata": {},
   "source": [
    "Построим гистограммы по столбцам датафрейма:"
   ]
  },
  {
   "cell_type": "code",
   "execution_count": 6,
   "metadata": {},
   "outputs": [
    {
     "data": {
      "image/png": "[encoded data removed]",
      "text/plain": [
       "<Figure size 1080x1440 with 20 Axes>"
      ]
     },
     "metadata": {
      "needs_background": "light"
     },
     "output_type": "display_data"
    }
   ],
   "source": [
    "data.hist(figsize=(15, 20));"
   ]
  },
  {
   "cell_type": "markdown",
   "metadata": {},
   "source": [
    "***Вывод:*** По информации о датасете видим наличие пропущенных значений в 14 столбцах, несоответствие типов данных и фактические значения (is_apartment должен иметь тип bool, first_day_exposition должен иметь тип datetime и ряд столбцов с целыми числами должны иметь тип int). Гистограммы, благодаря наличию значений выбивающихся из общей массы указывают о наличии выбросов.\n",
    "\n",
    "Подробнее по каждой сложности с датасетом и по каждому столбцу разберем в предобработке данных."
   ]
  },
  {
   "cell_type": "markdown",
   "metadata": {},
   "source": [
    "### Предобработка данных"
   ]
  },
  {
   "cell_type": "markdown",
   "metadata": {},
   "source": [
    "#### Корректировка названий столбцов"
   ]
  },
  {
   "cell_type": "markdown",
   "metadata": {},
   "source": [
    "В информации о таблице замечаем столбцы, написанные не по правилам, заменим названия столбцов:"
   ]
  },
  {
   "cell_type": "code",
   "execution_count": 6,
   "metadata": {},
   "outputs": [],
   "source": [
    "data = data.rename(\n",
    "    columns={'cityCenters_nearest': 'city_сenters_nearest',\n",
    "                           'parks_around3000': 'parks_around_3000',\n",
    "                           'ponds_around3000': 'ponds_around_3000'}\n",
    ")"
   ]
  },
  {
   "cell_type": "markdown",
   "metadata": {},
   "source": [
    "Для проверки выведем названия столбцов:"
   ]
  },
  {
   "cell_type": "code",
   "execution_count": 7,
   "metadata": {},
   "outputs": [
    {
     "data": {
      "text/plain": [
       "Index(['total_images', 'last_price', 'total_area', 'first_day_exposition',\n",
       "       'rooms', 'ceiling_height', 'floors_total', 'living_area', 'floor',\n",
       "       'is_apartment', 'studio', 'open_plan', 'kitchen_area', 'balcony',\n",
       "       'locality_name', 'airports_nearest', 'city_сenters_nearest',\n",
       "       'parks_around_3000', 'parks_nearest', 'ponds_around_3000',\n",
       "       'ponds_nearest', 'days_exposition'],\n",
       "      dtype='object')"
      ]
     },
     "execution_count": 7,
     "metadata": {},
     "output_type": "execute_result"
    }
   ],
   "source": [
    "data.columns"
   ]
  },
  {
   "cell_type": "markdown",
   "metadata": {},
   "source": [
    "#### Работа с пропусками"
   ]
  },
  {
   "cell_type": "markdown",
   "metadata": {},
   "source": [
    "Выводим количество пропущенных значений для каждого столбца:"
   ]
  },
  {
   "cell_type": "code",
   "execution_count": 8,
   "metadata": {},
   "outputs": [
    {
     "data": {
      "text/plain": [
       "total_images                0\n",
       "last_price                  0\n",
       "total_area                  0\n",
       "first_day_exposition        0\n",
       "rooms                       0\n",
       "ceiling_height           9195\n",
       "floors_total               86\n",
       "living_area              1903\n",
       "floor                       0\n",
       "is_apartment            20924\n",
       "studio                      0\n",
       "open_plan                   0\n",
       "kitchen_area             2278\n",
       "balcony                 11519\n",
       "locality_name              49\n",
       "airports_nearest         5542\n",
       "city_сenters_nearest     5519\n",
       "parks_around_3000        5518\n",
       "parks_nearest           15620\n",
       "ponds_around_3000        5518\n",
       "ponds_nearest           14589\n",
       "days_exposition          3181\n",
       "dtype: int64"
      ]
     },
     "execution_count": 8,
     "metadata": {},
     "output_type": "execute_result"
    }
   ],
   "source": [
    "data.isna().sum()"
   ]
  },
  {
   "cell_type": "markdown",
   "metadata": {},
   "source": [
    "Для определения метода работы с пропусками изучим столбцы с пропусками и их значения: \n",
    "\n",
    "- airports_nearest — расстояние до ближайшего аэропорта в метрах (м)\n",
    "- balcony — число балконов \n",
    "- ceiling_height — высота потолков (м)\n",
    "- city_centers_nearest — расстояние до центра города (м)\n",
    "- days_exposition — сколько дней было размещено объявление (от публикации до снятия)\n",
    "- floors_total — всего этажей в доме\n",
    "- is_apartment — апартаменты (булев тип)\n",
    "- kitchen_area — площадь кухни в квадратных метрах (м²)\n",
    "- living_area — жилая площадь в квадратных метрах (м²)\n",
    "- locality_name — название населённого пункта\n",
    "- parks_around_3000 — число парков в радиусе 3 км\n",
    "- parks_nearest — расстояние до ближайшего парка (м)\n",
    "- ponds_around_3000 — число водоёмов в радиусе 3 км\n",
    "- ponds_nearest — расстояние до ближайшего водоёма (м)\n"
   ]
  },
  {
   "cell_type": "markdown",
   "metadata": {},
   "source": [
    "Число балконов, число парков, число водоемов заменим на нули (пустые данные в этих столбцах могут свидетельствовать об отсутствии той или иной характеристики) \n",
    "\n",
    "Апартаменты заменим на False (пустые данные могут означать, что объект не является апартаментами)\n",
    "\n",
    "\n"
   ]
  },
  {
   "cell_type": "code",
   "execution_count": 9,
   "metadata": {},
   "outputs": [
    {
     "name": "stdout",
     "output_type": "stream",
     "text": [
      "0\n",
      "0\n",
      "0\n",
      "0\n"
     ]
    }
   ],
   "source": [
    "# Заменим пропуски методом fillna()\n",
    "data['balcony'] = data['balcony'].fillna(0)\n",
    "data['parks_around_3000'] = data['parks_around_3000'].fillna(0)\n",
    "data['ponds_around_3000'] = data['ponds_around_3000'].fillna(0)\n",
    "data['is_apartment'] = data['is_apartment'].fillna(False)\n",
    "# в качестве проверки веведем количество пропусков в обработанных столбцах \n",
    "print(data['balcony'].isna().sum())\n",
    "print(data['parks_around_3000'].isna().sum())\n",
    "print(data['ponds_around_3000'].isna().sum())\n",
    "print(data['is_apartment'].isna().sum())"
   ]
  },
  {
   "cell_type": "markdown",
   "metadata": {},
   "source": [
    "Остальные пропуски оставим незаполненными, нет возможности получить максимально приближенные к действительности данные."
   ]
  },
  {
   "cell_type": "markdown",
   "metadata": {},
   "source": [
    "#### Изменение типов данных"
   ]
  },
  {
   "cell_type": "markdown",
   "metadata": {},
   "source": [
    "Снова взглянем на данные о столбцах:"
   ]
  },
  {
   "cell_type": "code",
   "execution_count": 10,
   "metadata": {},
   "outputs": [
    {
     "name": "stdout",
     "output_type": "stream",
     "text": [
      "<class 'pandas.core.frame.DataFrame'>\n",
      "RangeIndex: 23699 entries, 0 to 23698\n",
      "Data columns (total 22 columns):\n",
      " #   Column                Non-Null Count  Dtype  \n",
      "---  ------                --------------  -----  \n",
      " 0   total_images          23699 non-null  int64  \n",
      " 1   last_price            23699 non-null  float64\n",
      " 2   total_area            23699 non-null  float64\n",
      " 3   first_day_exposition  23699 non-null  object \n",
      " 4   rooms                 23699 non-null  int64  \n",
      " 5   ceiling_height        14504 non-null  float64\n",
      " 6   floors_total          23613 non-null  float64\n",
      " 7   living_area           21796 non-null  float64\n",
      " 8   floor                 23699 non-null  int64  \n",
      " 9   is_apartment          23699 non-null  bool   \n",
      " 10  studio                23699 non-null  bool   \n",
      " 11  open_plan             23699 non-null  bool   \n",
      " 12  kitchen_area          21421 non-null  float64\n",
      " 13  balcony               23699 non-null  float64\n",
      " 14  locality_name         23650 non-null  object \n",
      " 15  airports_nearest      18157 non-null  float64\n",
      " 16  city_сenters_nearest  18180 non-null  float64\n",
      " 17  parks_around_3000     23699 non-null  float64\n",
      " 18  parks_nearest         8079 non-null   float64\n",
      " 19  ponds_around_3000     23699 non-null  float64\n",
      " 20  ponds_nearest         9110 non-null   float64\n",
      " 21  days_exposition       20518 non-null  float64\n",
      "dtypes: bool(3), float64(14), int64(3), object(2)\n",
      "memory usage: 3.5+ MB\n"
     ]
    }
   ],
   "source": [
    "data.info()"
   ]
  },
  {
   "cell_type": "markdown",
   "metadata": {},
   "source": [
    "***last_price*** хранит целые числа, сменим тип на int"
   ]
  },
  {
   "cell_type": "code",
   "execution_count": 11,
   "metadata": {},
   "outputs": [
    {
     "data": {
      "text/plain": [
       "dtype('int64')"
      ]
     },
     "execution_count": 11,
     "metadata": {},
     "output_type": "execute_result"
    }
   ],
   "source": [
    "# Меняем тип данных с помощью метода astype()\n",
    "data['last_price'] = data['last_price'].astype('int64')\n",
    "# Проверяем успешность вызовом .dtype\n",
    "data['last_price'].dtype"
   ]
  },
  {
   "cell_type": "markdown",
   "metadata": {},
   "source": [
    "***first_day_exposition*** хранит даты, но имеет тип object, исправим на datetime, что в дальнейшем позволит работать с этим столбцом "
   ]
  },
  {
   "cell_type": "code",
   "execution_count": 12,
   "metadata": {},
   "outputs": [
    {
     "data": {
      "text/plain": [
       "dtype('<M8[ns]')"
      ]
     },
     "execution_count": 12,
     "metadata": {},
     "output_type": "execute_result"
    }
   ],
   "source": [
    "# Меняем тип данных с помощью метода pd.to_datetime() и указываем необходимый формат\n",
    "data['first_day_exposition'] = pd.to_datetime(data['first_day_exposition'],format='%Y-%m-%dT%H:%M:%S')\n",
    "# Проверяем успешность вызовом .dtype\n",
    "data['first_day_exposition'].dtype"
   ]
  },
  {
   "cell_type": "markdown",
   "metadata": {},
   "source": [
    "***floors_total*** хранит целые числа, сменим тип на int"
   ]
  },
  {
   "cell_type": "code",
   "execution_count": 13,
   "metadata": {},
   "outputs": [
    {
     "data": {
      "text/plain": [
       "Int8Dtype()"
      ]
     },
     "execution_count": 13,
     "metadata": {},
     "output_type": "execute_result"
    }
   ],
   "source": [
    "# Меняем тип данных с помощью метода astype()\n",
    "data['floors_total'] = data['floors_total'].astype('Int8')\n",
    "# Проверяем успешность вызовом .dtype\n",
    "data['floors_total'].dtype"
   ]
  },
  {
   "cell_type": "markdown",
   "metadata": {},
   "source": [
    "***balcony*** хранит целые числа, сменим тип на int"
   ]
  },
  {
   "cell_type": "code",
   "execution_count": 14,
   "metadata": {},
   "outputs": [
    {
     "data": {
      "text/plain": [
       "Int8Dtype()"
      ]
     },
     "execution_count": 14,
     "metadata": {},
     "output_type": "execute_result"
    }
   ],
   "source": [
    "# Меняем тип данных с помощью метода astype()\n",
    "data['balcony'] = data['balcony'].astype('Int8')\n",
    "# Проверяем успешность вызовом .dtype\n",
    "data['balcony'].dtype"
   ]
  },
  {
   "cell_type": "markdown",
   "metadata": {},
   "source": [
    "***parks_around_3000*** хранит целые числа, сменим тип на int"
   ]
  },
  {
   "cell_type": "code",
   "execution_count": 15,
   "metadata": {},
   "outputs": [
    {
     "data": {
      "text/plain": [
       "Int8Dtype()"
      ]
     },
     "execution_count": 15,
     "metadata": {},
     "output_type": "execute_result"
    }
   ],
   "source": [
    "# Меняем тип данных с помощью метода astype()\n",
    "data['parks_around_3000'] = data['parks_around_3000'].astype('Int8')\n",
    "# Проверяем успешность вызовом .dtype\n",
    "data['parks_around_3000'].dtype"
   ]
  },
  {
   "cell_type": "markdown",
   "metadata": {},
   "source": [
    "***ponds_around_3000*** хранит целые числа, сменим тип на int"
   ]
  },
  {
   "cell_type": "code",
   "execution_count": 16,
   "metadata": {},
   "outputs": [
    {
     "data": {
      "text/plain": [
       "Int8Dtype()"
      ]
     },
     "execution_count": 16,
     "metadata": {},
     "output_type": "execute_result"
    }
   ],
   "source": [
    "# Меняем тип данных с помощью метода astype()\n",
    "data['ponds_around_3000'] = data['ponds_around_3000'].astype('Int8')\n",
    "# Проверяем успешность вызовом .dtype\n",
    "data['ponds_around_3000'].dtype"
   ]
  },
  {
   "cell_type": "markdown",
   "metadata": {},
   "source": [
    "***days_exposition*** хранит целые числа, сменим тип на int"
   ]
  },
  {
   "cell_type": "code",
   "execution_count": 17,
   "metadata": {},
   "outputs": [
    {
     "data": {
      "text/plain": [
       "Int64Dtype()"
      ]
     },
     "execution_count": 17,
     "metadata": {},
     "output_type": "execute_result"
    }
   ],
   "source": [
    "# Меняем тип данных с помощью метода astype(), для обхода ошибки используем np.floor()\n",
    "data['days_exposition'] = np.floor(pd.to_numeric(data['days_exposition'], errors='coerce')).astype('Int64')\n",
    "# Проверяем успешность вызовом .dtype\n",
    "data['days_exposition'].dtype"
   ]
  },
  {
   "cell_type": "markdown",
   "metadata": {},
   "source": [
    "#### Работа с дубликатами"
   ]
  },
  {
   "cell_type": "markdown",
   "metadata": {},
   "source": [
    "Дубликаты в нашей таблице могут храниться только в столбце с названием населенного пункта locality_name, так как именно там находится текст и его можно написать по-разному. Так же в таблице нет никаких идентификаторов и т.п., поэтому явных дубликатов быть не может. \n",
    "\n",
    "Посмотрим на уникальные значения в столбце locality_name:"
   ]
  },
  {
   "cell_type": "code",
   "execution_count": 18,
   "metadata": {
    "scrolled": true
   },
   "outputs": [
    {
     "data": {
      "text/plain": [
       "array(['Санкт-Петербург', 'посёлок Шушары', 'городской посёлок Янино-1',\n",
       "       'посёлок Парголово', 'посёлок Мурино', 'Ломоносов', 'Сертолово',\n",
       "       'Петергоф', 'Пушкин', 'деревня Кудрово', 'Коммунар', 'Колпино',\n",
       "       'поселок городского типа Красный Бор', 'Гатчина', 'поселок Мурино',\n",
       "       'деревня Фёдоровское', 'Выборг', 'Кронштадт', 'Кировск',\n",
       "       'деревня Новое Девяткино', 'посёлок Металлострой',\n",
       "       'посёлок городского типа Лебяжье',\n",
       "       'посёлок городского типа Сиверский', 'поселок Молодцово',\n",
       "       'поселок городского типа Кузьмоловский',\n",
       "       'садовое товарищество Новая Ропша', 'Павловск',\n",
       "       'деревня Пикколово', 'Всеволожск', 'Волхов', 'Кингисепп',\n",
       "       'Приозерск', 'Сестрорецк', 'деревня Куттузи', 'посёлок Аннино',\n",
       "       'поселок городского типа Ефимовский', 'посёлок Плодовое',\n",
       "       'деревня Заклинье', 'поселок Торковичи', 'поселок Первомайское',\n",
       "       'Красное Село', 'посёлок Понтонный', 'Сясьстрой', 'деревня Старая',\n",
       "       'деревня Лесколово', 'посёлок Новый Свет', 'Сланцы',\n",
       "       'село Путилово', 'Ивангород', 'Мурино', 'Шлиссельбург',\n",
       "       'Никольское', 'Зеленогорск', 'Сосновый Бор', 'поселок Новый Свет',\n",
       "       'деревня Оржицы', 'деревня Кальтино', 'Кудрово',\n",
       "       'поселок Романовка', 'посёлок Бугры', 'поселок Бугры',\n",
       "       'поселок городского типа Рощино', 'Кириши', 'Луга', 'Волосово',\n",
       "       'Отрадное', 'село Павлово', 'поселок Оредеж', 'село Копорье',\n",
       "       'посёлок городского типа Красный Бор', 'посёлок Молодёжное',\n",
       "       'Тихвин', 'посёлок Победа', 'деревня Нурма',\n",
       "       'поселок городского типа Синявино', 'Тосно',\n",
       "       'посёлок городского типа Кузьмоловский', 'посёлок Стрельна',\n",
       "       'Бокситогорск', 'посёлок Александровская', 'деревня Лопухинка',\n",
       "       'Пикалёво', 'поселок Терволово',\n",
       "       'поселок городского типа Советский', 'Подпорожье',\n",
       "       'посёлок Петровское', 'посёлок городского типа Токсово',\n",
       "       'поселок Сельцо', 'посёлок городского типа Вырица',\n",
       "       'деревня Кипень', 'деревня Келози', 'деревня Вартемяги',\n",
       "       'посёлок Тельмана', 'поселок Севастьяново',\n",
       "       'городской поселок Большая Ижора', nan,\n",
       "       'городской посёлок Павлово', 'деревня Агалатово',\n",
       "       'посёлок Новогорелово', 'городской посёлок Лесогорский',\n",
       "       'деревня Лаголово', 'поселок Цвелодубово',\n",
       "       'поселок городского типа Рахья', 'поселок городского типа Вырица',\n",
       "       'деревня Белогорка', 'поселок Заводской',\n",
       "       'городской посёлок Новоселье', 'деревня Большие Колпаны',\n",
       "       'деревня Горбунки', 'деревня Батово', 'деревня Заневка',\n",
       "       'деревня Иссад', 'Приморск', 'городской посёлок Фёдоровское',\n",
       "       'деревня Мистолово', 'Новая Ладога', 'поселок Зимитицы',\n",
       "       'поселок Барышево', 'деревня Разметелево',\n",
       "       'поселок городского типа имени Свердлова', 'деревня Пеники',\n",
       "       'поселок Рябово', 'деревня Пудомяги', 'поселок станции Корнево',\n",
       "       'деревня Низино', 'деревня Бегуницы', 'посёлок Поляны',\n",
       "       'городской посёлок Мга', 'поселок Елизаветино',\n",
       "       'посёлок городского типа Кузнечное', 'деревня Колтуши',\n",
       "       'поселок Запорожское', 'посёлок городского типа Рощино',\n",
       "       'деревня Гостилицы', 'деревня Малое Карлино',\n",
       "       'посёлок Мичуринское', 'посёлок городского типа имени Морозова',\n",
       "       'посёлок Песочный', 'посёлок Сосново', 'деревня Аро',\n",
       "       'поселок Ильичёво', 'посёлок городского типа Тайцы',\n",
       "       'деревня Малое Верево', 'деревня Извара', 'поселок станции Вещево',\n",
       "       'село Паша', 'деревня Калитино',\n",
       "       'посёлок городского типа Ульяновка', 'деревня Чудской Бор',\n",
       "       'поселок городского типа Дубровка', 'деревня Мины',\n",
       "       'поселок Войсковицы', 'посёлок городского типа имени Свердлова',\n",
       "       'деревня Коркино', 'посёлок Ропша',\n",
       "       'поселок городского типа Приладожский', 'посёлок Щеглово',\n",
       "       'посёлок Гаврилово', 'Лодейное Поле', 'деревня Рабитицы',\n",
       "       'поселок городского типа Никольский', 'деревня Кузьмолово',\n",
       "       'деревня Малые Колпаны', 'поселок Тельмана',\n",
       "       'посёлок Петро-Славянка', 'городской посёлок Назия',\n",
       "       'посёлок Репино', 'посёлок Ильичёво', 'поселок Углово',\n",
       "       'поселок Старая Малукса', 'садовое товарищество Рахья',\n",
       "       'поселок Аннино', 'поселок Победа', 'деревня Меньково',\n",
       "       'деревня Старые Бегуницы', 'посёлок Сапёрный', 'поселок Семрино',\n",
       "       'поселок Гаврилово', 'поселок Глажево', 'поселок Кобринское',\n",
       "       'деревня Гарболово', 'деревня Юкки',\n",
       "       'поселок станции Приветнинское', 'деревня Мануйлово',\n",
       "       'деревня Пчева', 'поселок Поляны', 'поселок Цвылёво',\n",
       "       'поселок Мельниково', 'посёлок Пудость', 'посёлок Усть-Луга',\n",
       "       'Светогорск', 'Любань', 'поселок Селезнёво',\n",
       "       'поселок городского типа Рябово', 'Каменногорск', 'деревня Кривко',\n",
       "       'поселок Глебычево', 'деревня Парицы', 'поселок Жилпосёлок',\n",
       "       'посёлок городского типа Мга', 'городской поселок Янино-1',\n",
       "       'посёлок Войскорово', 'село Никольское', 'посёлок Терволово',\n",
       "       'поселок Стеклянный', 'посёлок городского типа Важины',\n",
       "       'посёлок Мыза-Ивановка', 'село Русско-Высоцкое',\n",
       "       'поселок городского типа Лебяжье',\n",
       "       'поселок городского типа Форносово', 'село Старая Ладога',\n",
       "       'поселок Житково', 'городской посёлок Виллози', 'деревня Лампово',\n",
       "       'деревня Шпаньково', 'деревня Лаврики', 'посёлок Сумино',\n",
       "       'посёлок Возрождение', 'деревня Старосиверская',\n",
       "       'посёлок Кикерино', 'поселок Возрождение',\n",
       "       'деревня Старое Хинколово', 'посёлок Пригородный',\n",
       "       'посёлок Торфяное', 'городской посёлок Будогощь',\n",
       "       'поселок Суходолье', 'поселок Красная Долина', 'деревня Хапо-Ое',\n",
       "       'поселок городского типа Дружная Горка', 'поселок Лисий Нос',\n",
       "       'деревня Яльгелево', 'посёлок Стеклянный', 'село Рождествено',\n",
       "       'деревня Старополье', 'посёлок Левашово', 'деревня Сяськелево',\n",
       "       'деревня Камышовка',\n",
       "       'садоводческое некоммерческое товарищество Лесная Поляна',\n",
       "       'деревня Хязельки', 'поселок Жилгородок',\n",
       "       'посёлок городского типа Павлово', 'деревня Ялгино',\n",
       "       'поселок Новый Учхоз', 'городской посёлок Рощино',\n",
       "       'поселок Гончарово', 'поселок Почап', 'посёлок Сапёрное',\n",
       "       'посёлок Платформа 69-й километр', 'поселок Каложицы',\n",
       "       'деревня Фалилеево', 'деревня Пельгора',\n",
       "       'поселок городского типа Лесогорский', 'деревня Торошковичи',\n",
       "       'посёлок Белоостров', 'посёлок Алексеевка', 'поселок Серебрянский',\n",
       "       'поселок Лукаши', 'поселок Петровское', 'деревня Щеглово',\n",
       "       'поселок Мичуринское', 'деревня Тарасово', 'поселок Кингисеппский',\n",
       "       'посёлок при железнодорожной станции Вещево', 'поселок Ушаки',\n",
       "       'деревня Котлы', 'деревня Сижно', 'деревня Торосово',\n",
       "       'посёлок Форт Красная Горка', 'поселок городского типа Токсово',\n",
       "       'деревня Новолисино', 'посёлок станции Громово', 'деревня Глинка',\n",
       "       'посёлок Мельниково', 'поселок городского типа Назия',\n",
       "       'деревня Старая Пустошь', 'поселок Коммунары', 'поселок Починок',\n",
       "       'посёлок городского типа Вознесенье', 'деревня Разбегаево',\n",
       "       'посёлок городского типа Рябово', 'поселок Гладкое',\n",
       "       'посёлок при железнодорожной станции Приветнинское',\n",
       "       'поселок Тёсово-4', 'посёлок Жилгородок', 'деревня Бор',\n",
       "       'посёлок Коробицыно', 'деревня Большая Вруда', 'деревня Курковицы',\n",
       "       'посёлок Лисий Нос', 'городской посёлок Советский',\n",
       "       'посёлок Кобралово', 'деревня Суоранда', 'поселок Кобралово',\n",
       "       'поселок городского типа Кондратьево',\n",
       "       'коттеджный поселок Счастье', 'поселок Любань', 'деревня Реброво',\n",
       "       'деревня Зимитицы', 'деревня Тойворово', 'поселок Семиозерье',\n",
       "       'поселок Лесное', 'поселок Совхозный', 'поселок Усть-Луга',\n",
       "       'посёлок Ленинское', 'посёлок Суйда',\n",
       "       'посёлок городского типа Форносово', 'деревня Нижние Осельки',\n",
       "       'посёлок станции Свирь', 'поселок Перово', 'Высоцк',\n",
       "       'поселок Гарболово', 'село Шум', 'поселок Котельский',\n",
       "       'поселок станции Лужайка', 'деревня Большая Пустомержа',\n",
       "       'поселок Красносельское', 'деревня Вахнова Кара', 'деревня Пижма',\n",
       "       'коттеджный поселок Кивеннапа Север', 'поселок Коробицыно',\n",
       "       'поселок Ромашки', 'посёлок Перово', 'деревня Каськово',\n",
       "       'деревня Куровицы', 'посёлок Плоское', 'поселок Сумино',\n",
       "       'поселок городского типа Большая Ижора', 'поселок Кирпичное',\n",
       "       'деревня Ям-Тесово', 'деревня Раздолье', 'деревня Терпилицы',\n",
       "       'посёлок Шугозеро', 'деревня Ваганово', 'поселок Пушное',\n",
       "       'садовое товарищество Садко', 'посёлок Усть-Ижора',\n",
       "       'деревня Выскатка', 'городской посёлок Свирьстрой',\n",
       "       'поселок Громово', 'деревня Кисельня', 'посёлок Старая Малукса',\n",
       "       'деревня Трубников Бор', 'поселок Калитино',\n",
       "       'посёлок Высокоключевой', 'садовое товарищество Приладожский',\n",
       "       'посёлок Пансионат Зелёный Бор', 'деревня Ненимяки',\n",
       "       'поселок Пансионат Зелёный Бор', 'деревня Снегирёвка',\n",
       "       'деревня Рапполово', 'деревня Пустынка', 'поселок Рабитицы',\n",
       "       'деревня Большой Сабск', 'деревня Русско', 'деревня Лупполово',\n",
       "       'деревня Большое Рейзино', 'деревня Малая Романовка',\n",
       "       'поселок Дружноселье', 'поселок Пчевжа', 'поселок Володарское',\n",
       "       'деревня Нижняя', 'коттеджный посёлок Лесное', 'деревня Тихковицы',\n",
       "       'деревня Борисова Грива', 'посёлок Дзержинского'], dtype=object)"
      ]
     },
     "execution_count": 18,
     "metadata": {},
     "output_type": "execute_result"
    }
   ],
   "source": [
    "data['locality_name'].unique()"
   ]
  },
  {
   "cell_type": "code",
   "execution_count": 19,
   "metadata": {
    "scrolled": false
   },
   "outputs": [
    {
     "data": {
      "text/plain": [
       "Санкт-Петербург                  15721\n",
       "посёлок Мурино                     522\n",
       "посёлок Шушары                     440\n",
       "Всеволожск                         398\n",
       "Пушкин                             369\n",
       "                                 ...  \n",
       "деревня Раздолье                     1\n",
       "посёлок Пансионат Зелёный Бор        1\n",
       "поселок Возрождение                  1\n",
       "деревня Каськово                     1\n",
       "поселок Тёсово-4                     1\n",
       "Name: locality_name, Length: 364, dtype: int64"
      ]
     },
     "execution_count": 19,
     "metadata": {},
     "output_type": "execute_result"
    }
   ],
   "source": [
    "data['locality_name'].value_counts()"
   ]
  },
  {
   "cell_type": "markdown",
   "metadata": {},
   "source": [
    "Названия населенных пунктов записаны по-разному.\n",
    "\n",
    "Буква ё пишется как е\n",
    "\n",
    "Поселок городского типа может быть и селом, и деревней, и городским поселком\n",
    "\n",
    "Некоторые местоположения вовсе не имеют типа населенного пункта\n",
    "\n",
    "Лучше удалить типы населенного пункта и оставить только названия:"
   ]
  },
  {
   "cell_type": "code",
   "execution_count": 20,
   "metadata": {},
   "outputs": [
    {
     "data": {
      "text/plain": [
       "Санкт-Петербург    15721\n",
       "Мурино               590\n",
       "Кудрово              472\n",
       "Шушары               440\n",
       "Всеволожск           398\n",
       "                   ...  \n",
       "Кирпичное              1\n",
       "Трубников Бор          1\n",
       "Пикколово              1\n",
       "Лужайка                1\n",
       "Борисова Грива         1\n",
       "Name: locality_name, Length: 305, dtype: int64"
      ]
     },
     "execution_count": 20,
     "metadata": {},
     "output_type": "execute_result"
    }
   ],
   "source": [
    "# Создаем список с тем, что необходимо удалить (чтобы не было лишних пробелов после ставим пробел)\n",
    "for_delete = ['поселок ', 'посёлок ', 'городского типа ', 'городской ',  'деревня ', \n",
    "                'коттеджный ', 'село ', 'при железнодорожной станции ',\n",
    "                'станции ', 'садоводческое некоммерческое товарищество ', 'садовое товарищество ']\n",
    "# Перезаписываем столбец с удалением значений из списка с помощью метода replace()\n",
    "for t in for_delete:\n",
    "    data['locality_name'] = data['locality_name'].str.replace(t, '')\n",
    "    \n",
    "data['locality_name'].value_counts()    "
   ]
  },
  {
   "cell_type": "markdown",
   "metadata": {},
   "source": [
    "Количество уникальных значений уменьшилось на 59.\n",
    "Проверим есть ли в названиях населенных пунктов буква ё:"
   ]
  },
  {
   "cell_type": "code",
   "execution_count": 21,
   "metadata": {},
   "outputs": [
    {
     "data": {
      "text/plain": [
       "65"
      ]
     },
     "execution_count": 21,
     "metadata": {},
     "output_type": "execute_result"
    }
   ],
   "source": [
    "data['locality_name'].str.contains('ё').sum()"
   ]
  },
  {
   "cell_type": "markdown",
   "metadata": {},
   "source": [
    "С первого взгляда дубликатов с различием в написании ё нет, но на всякий случай заменим все ё на е:"
   ]
  },
  {
   "cell_type": "code",
   "execution_count": 22,
   "metadata": {},
   "outputs": [
    {
     "data": {
      "text/plain": [
       "0"
      ]
     },
     "execution_count": 22,
     "metadata": {},
     "output_type": "execute_result"
    }
   ],
   "source": [
    "data['locality_name'] = data['locality_name'].str.replace('ё', 'е')\n",
    "data['locality_name'].str.contains('ё').sum()"
   ]
  },
  {
   "cell_type": "code",
   "execution_count": 23,
   "metadata": {
    "scrolled": true
   },
   "outputs": [
    {
     "data": {
      "text/plain": [
       "array(['Санкт-Петербург', 'Шушары', 'Янино-1', 'Парголово', 'Мурино',\n",
       "       'Ломоносов', 'Сертолово', 'Петергоф', 'Пушкин', 'Кудрово',\n",
       "       'Коммунар', 'Колпино', 'Красный Бор', 'Гатчина', 'Федоровское',\n",
       "       'Выборг', 'Кронштадт', 'Кировск', 'Новое Девяткино',\n",
       "       'Металлострой', 'Лебяжье', 'Сиверский', 'Молодцово',\n",
       "       'Кузьмоловский', 'Новая Ропша', 'Павловск', 'Пикколово',\n",
       "       'Всеволожск', 'Волхов', 'Кингисепп', 'Приозерск', 'Сестрорецк',\n",
       "       'Куттузи', 'Аннино', 'Ефимовский', 'Плодовое', 'Заклинье',\n",
       "       'Торковичи', 'Первомайское', 'Красное Село', 'Понтонный',\n",
       "       'Сясьстрой', 'Старая', 'Лесколово', 'Новый Свет', 'Сланцы',\n",
       "       'Путилово', 'Ивангород', 'Шлиссельбург', 'Никольское',\n",
       "       'Зеленогорск', 'Сосновый Бор', 'Оржицы', 'Кальтино', 'Романовка',\n",
       "       'Бугры', 'Рощино', 'Кириши', 'Луга', 'Волосово', 'Отрадное',\n",
       "       'Павлово', 'Оредеж', 'Копорье', 'Молодежное', 'Тихвин', 'Победа',\n",
       "       'Нурма', 'Синявино', 'Тосно', 'Стрельна', 'Бокситогорск',\n",
       "       'Александровская', 'Лопухинка', 'Пикалево', 'Терволово',\n",
       "       'Советский', 'Подпорожье', 'Петровское', 'Токсово', 'Сельцо',\n",
       "       'Вырица', 'Кипень', 'Келози', 'Вартемяги', 'Тельмана',\n",
       "       'Севастьяново', 'Большая Ижора', nan, 'Агалатово', 'Новогорелово',\n",
       "       'Лесогорский', 'Лаголово', 'Цвелодубово', 'Рахья', 'Белогорка',\n",
       "       'Заводской', 'Новоселье', 'Большие Колпаны', 'Горбунки', 'Батово',\n",
       "       'Заневка', 'Иссад', 'Приморск', 'Мистолово', 'Новая Ладога',\n",
       "       'Зимитицы', 'Барышево', 'Разметелево', 'имени Свердлова', 'Пеники',\n",
       "       'Рябово', 'Пудомяги', 'Корнево', 'Низино', 'Бегуницы', 'Поляны',\n",
       "       'Мга', 'Елизаветино', 'Кузнечное', 'Колтуши', 'Запорожское',\n",
       "       'Гостилицы', 'Малое Карлино', 'Мичуринское', 'имени Морозова',\n",
       "       'Песочный', 'Сосново', 'Аро', 'Ильичево', 'Тайцы', 'Малое Верево',\n",
       "       'Извара', 'Вещево', 'Паша', 'Калитино', 'Ульяновка', 'Чудской Бор',\n",
       "       'Дубровка', 'Мины', 'Войсковицы', 'Коркино', 'Ропша',\n",
       "       'Приладожский', 'Щеглово', 'Гаврилово', 'Лодейное Поле',\n",
       "       'Рабитицы', 'Никольский', 'Кузьмолово', 'Малые Колпаны',\n",
       "       'Петро-Славянка', 'Назия', 'Репино', 'Углово', 'Старая Малукса',\n",
       "       'Меньково', 'Старые Бегуницы', 'Саперный', 'Семрино', 'Глажево',\n",
       "       'Кобринское', 'Гарболово', 'Юкки', 'Приветнинское', 'Мануйлово',\n",
       "       'Пчева', 'Цвылево', 'Мельниково', 'Пудость', 'Усть-Луга',\n",
       "       'Светогорск', 'Любань', 'Селезнево', 'Каменногорск', 'Кривко',\n",
       "       'Глебычево', 'Парицы', 'Жилпоселок', 'Войскорово', 'Стеклянный',\n",
       "       'Важины', 'Мыза-Ивановка', 'Русско-Высоцкое', 'Форносово',\n",
       "       'Старая Ладога', 'Житково', 'Виллози', 'Лампово', 'Шпаньково',\n",
       "       'Лаврики', 'Сумино', 'Возрождение', 'Старосиверская', 'Кикерино',\n",
       "       'Старое Хинколово', 'Пригородный', 'Торфяное', 'Будогощь',\n",
       "       'Суходолье', 'Красная Долина', 'Хапо-Ое', 'Дружная Горка',\n",
       "       'Лисий Нос', 'Яльгелево', 'Рождествено', 'Старополье', 'Левашово',\n",
       "       'Сяськелево', 'Камышовка', 'Лесная Поляна', 'Хязельки',\n",
       "       'Жилгородок', 'Ялгино', 'Новый Учхоз', 'Гончарово', 'Почап',\n",
       "       'Саперное', 'Платформа 69-й километр', 'Каложицы', 'Фалилеево',\n",
       "       'Пельгора', 'Торошковичи', 'Белоостров', 'Алексеевка',\n",
       "       'Серебрянский', 'Лукаши', 'Тарасово', 'Кингисеппский', 'Ушаки',\n",
       "       'Котлы', 'Сижно', 'Торосово', 'Форт Красная Горка', 'Новолисино',\n",
       "       'Громово', 'Глинка', 'Старая Пустошь', 'Коммунары', 'Починок',\n",
       "       'Вознесенье', 'Разбегаево', 'Гладкое', 'Тесово-4', 'Бор',\n",
       "       'Коробицыно', 'Большая Вруда', 'Курковицы', 'Кобралово',\n",
       "       'Суоранда', 'Кондратьево', 'Счастье', 'Реброво', 'Тойворово',\n",
       "       'Семиозерье', 'Лесное', 'Совхозный', 'Ленинское', 'Суйда',\n",
       "       'Нижние Осельки', 'Свирь', 'Перово', 'Высоцк', 'Шум', 'Котельский',\n",
       "       'Лужайка', 'Большая Пустомержа', 'Красносельское', 'Вахнова Кара',\n",
       "       'Пижма', 'Кивеннапа Север', 'Ромашки', 'Каськово', 'Куровицы',\n",
       "       'Плоское', 'Кирпичное', 'Ям-Тесово', 'Раздолье', 'Терпилицы',\n",
       "       'Шугозеро', 'Ваганово', 'Пушное', 'Садко', 'Усть-Ижора',\n",
       "       'Выскатка', 'Свирьстрой', 'Кисельня', 'Трубников Бор',\n",
       "       'Высокоключевой', 'Пансионат Зеленый Бор', 'Ненимяки',\n",
       "       'Снегиревка', 'Рапполово', 'Пустынка', 'Большой Сабск', 'Русско',\n",
       "       'Лупполово', 'Большое Рейзино', 'Малая Романовка', 'Дружноселье',\n",
       "       'Пчевжа', 'Володарское', 'Нижняя', 'Тихковицы', 'Борисова Грива',\n",
       "       'Дзержинского'], dtype=object)"
      ]
     },
     "execution_count": 23,
     "metadata": {},
     "output_type": "execute_result"
    }
   ],
   "source": [
    "# Проверим не осталось ли типов населенных пунктов\n",
    "data['locality_name'].unique()"
   ]
  },
  {
   "cell_type": "markdown",
   "metadata": {},
   "source": [
    "#### Работа с выбросами"
   ]
  },
  {
   "cell_type": "markdown",
   "metadata": {},
   "source": [
    "Методом describe() посмотрим на распределение данных в датафрейме:"
   ]
  },
  {
   "cell_type": "code",
   "execution_count": 7,
   "metadata": {},
   "outputs": [
    {
     "data": {
      "text/html": [
       "<div>\n",
       "<style scoped>\n",
       "    .dataframe tbody tr th:only-of-type {\n",
       "        vertical-align: middle;\n",
       "    }\n",
       "\n",
       "    .dataframe tbody tr th {\n",
       "        vertical-align: top;\n",
       "    }\n",
       "\n",
       "    .dataframe thead th {\n",
       "        text-align: right;\n",
       "    }\n",
       "</style>\n",
       "<table border=\"1\" class=\"dataframe\">\n",
       "  <thead>\n",
       "    <tr style=\"text-align: right;\">\n",
       "      <th></th>\n",
       "      <th>total_images</th>\n",
       "      <th>last_price</th>\n",
       "      <th>total_area</th>\n",
       "      <th>rooms</th>\n",
       "      <th>ceiling_height</th>\n",
       "      <th>floors_total</th>\n",
       "      <th>living_area</th>\n",
       "      <th>floor</th>\n",
       "      <th>kitchen_area</th>\n",
       "      <th>balcony</th>\n",
       "      <th>airports_nearest</th>\n",
       "      <th>cityCenters_nearest</th>\n",
       "      <th>parks_around3000</th>\n",
       "      <th>parks_nearest</th>\n",
       "      <th>ponds_around3000</th>\n",
       "      <th>ponds_nearest</th>\n",
       "      <th>days_exposition</th>\n",
       "    </tr>\n",
       "  </thead>\n",
       "  <tbody>\n",
       "    <tr>\n",
       "      <th>count</th>\n",
       "      <td>23,699.0</td>\n",
       "      <td>23,699.0</td>\n",
       "      <td>23,699.0</td>\n",
       "      <td>23,699.0</td>\n",
       "      <td>14,504.0</td>\n",
       "      <td>23,613.0</td>\n",
       "      <td>21,796.0</td>\n",
       "      <td>23,699.0</td>\n",
       "      <td>21,421.0</td>\n",
       "      <td>12,180.0</td>\n",
       "      <td>18,157.0</td>\n",
       "      <td>18,180.0</td>\n",
       "      <td>18,181.0</td>\n",
       "      <td>8,079.0</td>\n",
       "      <td>18,181.0</td>\n",
       "      <td>9,110.0</td>\n",
       "      <td>20,518.0</td>\n",
       "    </tr>\n",
       "    <tr>\n",
       "      <th>mean</th>\n",
       "      <td>9.9</td>\n",
       "      <td>6,541,548.8</td>\n",
       "      <td>60.3</td>\n",
       "      <td>2.1</td>\n",
       "      <td>2.8</td>\n",
       "      <td>10.7</td>\n",
       "      <td>34.5</td>\n",
       "      <td>5.9</td>\n",
       "      <td>10.6</td>\n",
       "      <td>1.2</td>\n",
       "      <td>28,793.7</td>\n",
       "      <td>14,191.3</td>\n",
       "      <td>0.6</td>\n",
       "      <td>490.8</td>\n",
       "      <td>0.8</td>\n",
       "      <td>518.0</td>\n",
       "      <td>180.9</td>\n",
       "    </tr>\n",
       "    <tr>\n",
       "      <th>std</th>\n",
       "      <td>5.7</td>\n",
       "      <td>10,887,013.3</td>\n",
       "      <td>35.7</td>\n",
       "      <td>1.1</td>\n",
       "      <td>1.3</td>\n",
       "      <td>6.6</td>\n",
       "      <td>22.0</td>\n",
       "      <td>4.9</td>\n",
       "      <td>5.9</td>\n",
       "      <td>1.1</td>\n",
       "      <td>12,630.9</td>\n",
       "      <td>8,608.4</td>\n",
       "      <td>0.8</td>\n",
       "      <td>342.3</td>\n",
       "      <td>0.9</td>\n",
       "      <td>277.7</td>\n",
       "      <td>219.7</td>\n",
       "    </tr>\n",
       "    <tr>\n",
       "      <th>min</th>\n",
       "      <td>0.0</td>\n",
       "      <td>12,190.0</td>\n",
       "      <td>12.0</td>\n",
       "      <td>0.0</td>\n",
       "      <td>1.0</td>\n",
       "      <td>1.0</td>\n",
       "      <td>2.0</td>\n",
       "      <td>1.0</td>\n",
       "      <td>1.3</td>\n",
       "      <td>0.0</td>\n",
       "      <td>0.0</td>\n",
       "      <td>181.0</td>\n",
       "      <td>0.0</td>\n",
       "      <td>1.0</td>\n",
       "      <td>0.0</td>\n",
       "      <td>13.0</td>\n",
       "      <td>1.0</td>\n",
       "    </tr>\n",
       "    <tr>\n",
       "      <th>25%</th>\n",
       "      <td>6.0</td>\n",
       "      <td>3,400,000.0</td>\n",
       "      <td>40.0</td>\n",
       "      <td>1.0</td>\n",
       "      <td>2.5</td>\n",
       "      <td>5.0</td>\n",
       "      <td>18.6</td>\n",
       "      <td>2.0</td>\n",
       "      <td>7.0</td>\n",
       "      <td>0.0</td>\n",
       "      <td>18,585.0</td>\n",
       "      <td>9,238.0</td>\n",
       "      <td>0.0</td>\n",
       "      <td>288.0</td>\n",
       "      <td>0.0</td>\n",
       "      <td>294.0</td>\n",
       "      <td>45.0</td>\n",
       "    </tr>\n",
       "    <tr>\n",
       "      <th>50%</th>\n",
       "      <td>9.0</td>\n",
       "      <td>4,650,000.0</td>\n",
       "      <td>52.0</td>\n",
       "      <td>2.0</td>\n",
       "      <td>2.6</td>\n",
       "      <td>9.0</td>\n",
       "      <td>30.0</td>\n",
       "      <td>4.0</td>\n",
       "      <td>9.1</td>\n",
       "      <td>1.0</td>\n",
       "      <td>26,726.0</td>\n",
       "      <td>13,098.5</td>\n",
       "      <td>0.0</td>\n",
       "      <td>455.0</td>\n",
       "      <td>1.0</td>\n",
       "      <td>502.0</td>\n",
       "      <td>95.0</td>\n",
       "    </tr>\n",
       "    <tr>\n",
       "      <th>75%</th>\n",
       "      <td>14.0</td>\n",
       "      <td>6,800,000.0</td>\n",
       "      <td>69.9</td>\n",
       "      <td>3.0</td>\n",
       "      <td>2.8</td>\n",
       "      <td>16.0</td>\n",
       "      <td>42.3</td>\n",
       "      <td>8.0</td>\n",
       "      <td>12.0</td>\n",
       "      <td>2.0</td>\n",
       "      <td>37,273.0</td>\n",
       "      <td>16,293.0</td>\n",
       "      <td>1.0</td>\n",
       "      <td>612.0</td>\n",
       "      <td>1.0</td>\n",
       "      <td>729.0</td>\n",
       "      <td>232.0</td>\n",
       "    </tr>\n",
       "    <tr>\n",
       "      <th>max</th>\n",
       "      <td>50.0</td>\n",
       "      <td>763,000,000.0</td>\n",
       "      <td>900.0</td>\n",
       "      <td>19.0</td>\n",
       "      <td>100.0</td>\n",
       "      <td>60.0</td>\n",
       "      <td>409.7</td>\n",
       "      <td>33.0</td>\n",
       "      <td>112.0</td>\n",
       "      <td>5.0</td>\n",
       "      <td>84,869.0</td>\n",
       "      <td>65,968.0</td>\n",
       "      <td>3.0</td>\n",
       "      <td>3,190.0</td>\n",
       "      <td>3.0</td>\n",
       "      <td>1,344.0</td>\n",
       "      <td>1,580.0</td>\n",
       "    </tr>\n",
       "  </tbody>\n",
       "</table>\n",
       "</div>"
      ],
      "text/plain": [
       "       total_images    last_price  total_area    rooms  ceiling_height  \\\n",
       "count      23,699.0      23,699.0    23,699.0 23,699.0        14,504.0   \n",
       "mean            9.9   6,541,548.8        60.3      2.1             2.8   \n",
       "std             5.7  10,887,013.3        35.7      1.1             1.3   \n",
       "min             0.0      12,190.0        12.0      0.0             1.0   \n",
       "25%             6.0   3,400,000.0        40.0      1.0             2.5   \n",
       "50%             9.0   4,650,000.0        52.0      2.0             2.6   \n",
       "75%            14.0   6,800,000.0        69.9      3.0             2.8   \n",
       "max            50.0 763,000,000.0       900.0     19.0           100.0   \n",
       "\n",
       "       floors_total  living_area    floor  kitchen_area  balcony  \\\n",
       "count      23,613.0     21,796.0 23,699.0      21,421.0 12,180.0   \n",
       "mean           10.7         34.5      5.9          10.6      1.2   \n",
       "std             6.6         22.0      4.9           5.9      1.1   \n",
       "min             1.0          2.0      1.0           1.3      0.0   \n",
       "25%             5.0         18.6      2.0           7.0      0.0   \n",
       "50%             9.0         30.0      4.0           9.1      1.0   \n",
       "75%            16.0         42.3      8.0          12.0      2.0   \n",
       "max            60.0        409.7     33.0         112.0      5.0   \n",
       "\n",
       "       airports_nearest  cityCenters_nearest  parks_around3000  parks_nearest  \\\n",
       "count          18,157.0             18,180.0          18,181.0        8,079.0   \n",
       "mean           28,793.7             14,191.3               0.6          490.8   \n",
       "std            12,630.9              8,608.4               0.8          342.3   \n",
       "min                 0.0                181.0               0.0            1.0   \n",
       "25%            18,585.0              9,238.0               0.0          288.0   \n",
       "50%            26,726.0             13,098.5               0.0          455.0   \n",
       "75%            37,273.0             16,293.0               1.0          612.0   \n",
       "max            84,869.0             65,968.0               3.0        3,190.0   \n",
       "\n",
       "       ponds_around3000  ponds_nearest  days_exposition  \n",
       "count          18,181.0        9,110.0         20,518.0  \n",
       "mean                0.8          518.0            180.9  \n",
       "std                 0.9          277.7            219.7  \n",
       "min                 0.0           13.0              1.0  \n",
       "25%                 0.0          294.0             45.0  \n",
       "50%                 1.0          502.0             95.0  \n",
       "75%                 1.0          729.0            232.0  \n",
       "max                 3.0        1,344.0          1,580.0  "
      ]
     },
     "execution_count": 7,
     "metadata": {},
     "output_type": "execute_result"
    }
   ],
   "source": [
    "pd.options.display.float_format = '{:,.1f}'.format\n",
    "data.describe()"
   ]
  },
  {
   "cell_type": "markdown",
   "metadata": {},
   "source": [
    "***last_price***"
   ]
  },
  {
   "cell_type": "markdown",
   "metadata": {},
   "source": [
    "В столбце last_price минимальная стоимость квартиры составляет всего лишь 12.190, а максимальное 763.000.000. Если это и правда, то таких квартир мало. Посмотрим на количество данных о квартирах с стоимостью меньше 100.000 и больше 100.000.000"
   ]
  },
  {
   "cell_type": "code",
   "execution_count": 25,
   "metadata": {},
   "outputs": [
    {
     "name": "stdout",
     "output_type": "stream",
     "text": [
      "1\n",
      "37\n"
     ]
    }
   ],
   "source": [
    "# Методами query() count() считаем количество заданных строк \n",
    "print(data.query('last_price < 100000')['last_price'].count())\n",
    "print(data.query('last_price > 100000000')['last_price'].count())"
   ]
  },
  {
   "cell_type": "markdown",
   "metadata": {},
   "source": [
    "Таких исключительных квартир немного, для чистоты исследования удалим их. "
   ]
  },
  {
   "cell_type": "code",
   "execution_count": 26,
   "metadata": {},
   "outputs": [
    {
     "name": "stdout",
     "output_type": "stream",
     "text": [
      "0\n",
      "0\n"
     ]
    }
   ],
   "source": [
    "# Методами drop() query() удаляем необходимые строки\n",
    "data.drop(index=data.query('last_price < 100000').index, inplace=True)\n",
    "data.drop(index=data.query('last_price > 100000000').index, inplace=True)\n",
    "# Проверяем успех\n",
    "print(data.query('last_price < 100000')['last_price'].count())\n",
    "print(data.query('last_price > 100000000')['last_price'].count())"
   ]
  },
  {
   "cell_type": "markdown",
   "metadata": {},
   "source": [
    "***total_area***"
   ]
  },
  {
   "cell_type": "markdown",
   "metadata": {},
   "source": [
    "В данных о площади максимальным значением является 900 квадратных метра, многовато, стоит посмотреть распределение данных на графике:"
   ]
  },
  {
   "cell_type": "code",
   "execution_count": 27,
   "metadata": {
    "scrolled": false
   },
   "outputs": [
    {
     "data": {
      "text/plain": [
       "array([[<AxesSubplot:title={'center':'total_area'}>]], dtype=object)"
      ]
     },
     "execution_count": 27,
     "metadata": {},
     "output_type": "execute_result"
    },
    {
     "data": {
      "image/png": "[encoded data removed]",
      "text/plain": [
       "<Figure size 432x288 with 1 Axes>"
      ]
     },
     "metadata": {
      "needs_background": "light"
     },
     "output_type": "display_data"
    },
    {
     "data": {
      "image/png": "[encoded data removed]",
      "text/plain": [
       "<Figure size 432x288 with 1 Axes>"
      ]
     },
     "metadata": {
      "needs_background": "light"
     },
     "output_type": "display_data"
    }
   ],
   "source": [
    "# Методом hist() строим гистограмму \n",
    "data.hist('total_area', bins=50, range=(10, 200))\n",
    "data.hist('total_area', bins=20, range=(200, 900))"
   ]
  },
  {
   "cell_type": "markdown",
   "metadata": {},
   "source": [
    "После 500 квадратов значений сравнительно меньше, их и отбросим:"
   ]
  },
  {
   "cell_type": "code",
   "execution_count": 28,
   "metadata": {},
   "outputs": [
    {
     "data": {
      "text/plain": [
       "0"
      ]
     },
     "execution_count": 28,
     "metadata": {},
     "output_type": "execute_result"
    }
   ],
   "source": [
    "# Методами drop() query() удаляем необходимые строки\n",
    "data.drop(index=data.query('total_area > 500').index, inplace=True)\n",
    "# Проверяем успех\n",
    "data.query('total_area > 500')['total_area'].count()"
   ]
  },
  {
   "cell_type": "markdown",
   "metadata": {},
   "source": [
    "***rooms***"
   ]
  },
  {
   "cell_type": "markdown",
   "metadata": {},
   "source": [
    "Максимальное число комнат 19, вполне реалистично, но есть невозможные нулевые значения. Делаем предположение, что это студии или квартиры со свободной планировкой. Выведем количество квартир без комнат, которые не являются студией или квартирой со свободной планировкой и количество без комнат, которые являются таковыми:"
   ]
  },
  {
   "cell_type": "code",
   "execution_count": 29,
   "metadata": {},
   "outputs": [
    {
     "name": "stdout",
     "output_type": "stream",
     "text": [
      "0\n",
      "197\n"
     ]
    }
   ],
   "source": [
    "print(data.query('rooms == 0 and ~studio and ~open_plan')['rooms'].count())\n",
    "print(data.query('rooms == 0 and (studio or open_plan)')['rooms'].count())"
   ]
  },
  {
   "cell_type": "markdown",
   "metadata": {},
   "source": [
    "Так как комнатами могут являться только жилые помещения, такие как спальня или гостиная, а вышеуказанные также выполняют функцию кухни, то оставим эти значения на нуле.\n",
    "\n",
    "Рассмотрим максимальные значения количества комнат:"
   ]
  },
  {
   "cell_type": "code",
   "execution_count": 30,
   "metadata": {},
   "outputs": [
    {
     "data": {
      "text/plain": [
       "array([[<AxesSubplot:title={'center':'rooms'}>]], dtype=object)"
      ]
     },
     "execution_count": 30,
     "metadata": {},
     "output_type": "execute_result"
    },
    {
     "data": {
      "image/png": "[encoded data removed]",
      "text/plain": [
       "<Figure size 432x288 with 1 Axes>"
      ]
     },
     "metadata": {
      "needs_background": "light"
     },
     "output_type": "display_data"
    }
   ],
   "source": [
    "data.hist('rooms', bins=20, range=(5, 20))"
   ]
  },
  {
   "cell_type": "code",
   "execution_count": 31,
   "metadata": {},
   "outputs": [
    {
     "data": {
      "text/plain": [
       "<AxesSubplot:>"
      ]
     },
     "execution_count": 31,
     "metadata": {},
     "output_type": "execute_result"
    },
    {
     "data": {
      "image/png": "[encoded data removed]",
      "text/plain": [
       "<Figure size 432x288 with 1 Axes>"
      ]
     },
     "metadata": {
      "needs_background": "light"
     },
     "output_type": "display_data"
    }
   ],
   "source": [
    "data.boxplot(['rooms'])"
   ]
  },
  {
   "cell_type": "markdown",
   "metadata": {},
   "source": [
    "По графику видим, что значения больше семи являются выбросами и их немного, избавимся от них:"
   ]
  },
  {
   "cell_type": "code",
   "execution_count": 32,
   "metadata": {},
   "outputs": [
    {
     "data": {
      "text/plain": [
       "0"
      ]
     },
     "execution_count": 32,
     "metadata": {},
     "output_type": "execute_result"
    }
   ],
   "source": [
    "# Методами drop() query() удаляем необходимые строки\n",
    "data.drop(index=data.query('rooms > 7').index, inplace=True)\n",
    "# Проверяем успех\n",
    "data.query('rooms > 7')['rooms'].count()"
   ]
  },
  {
   "cell_type": "markdown",
   "metadata": {},
   "source": [
    "***ceiling_height***"
   ]
  },
  {
   "cell_type": "markdown",
   "metadata": {},
   "source": [
    "И минимальное и максимальное значения высоты потолка (1 и 100) совсем неправдоподобны.\n",
    "\n",
    "Согласно данным из гугла минимальной высотой потолка является 2,4 метра\n",
    "\n",
    "Значения от 24 до 36 явно записаны не в метрах, а в дециметрах, разделим данные значения на 10:"
   ]
  },
  {
   "cell_type": "code",
   "execution_count": 33,
   "metadata": {},
   "outputs": [],
   "source": [
    "data.update(data[(data['ceiling_height'] >= 24) & (data['ceiling_height'] <= 36)]['ceiling_height']/10)"
   ]
  },
  {
   "cell_type": "markdown",
   "metadata": {},
   "source": [
    "Посмотрим на распределение минимальных значений:"
   ]
  },
  {
   "cell_type": "code",
   "execution_count": 34,
   "metadata": {},
   "outputs": [
    {
     "data": {
      "text/plain": [
       "array([[<AxesSubplot:title={'center':'ceiling_height'}>]], dtype=object)"
      ]
     },
     "execution_count": 34,
     "metadata": {},
     "output_type": "execute_result"
    },
    {
     "data": {
      "image/png": "[encoded data removed]",
      "text/plain": [
       "<Figure size 432x288 with 1 Axes>"
      ]
     },
     "metadata": {
      "needs_background": "light"
     },
     "output_type": "display_data"
    }
   ],
   "source": [
    "data.hist('ceiling_height', bins=50, range=(0, 4))"
   ]
  },
  {
   "cell_type": "markdown",
   "metadata": {},
   "source": [
    "Значений ниже выбранного порога крайне мало, удалим их:"
   ]
  },
  {
   "cell_type": "code",
   "execution_count": 35,
   "metadata": {},
   "outputs": [
    {
     "data": {
      "text/plain": [
       "0"
      ]
     },
     "execution_count": 35,
     "metadata": {},
     "output_type": "execute_result"
    }
   ],
   "source": [
    "# Методами drop() query() удаляем необходимые строки\n",
    "data.drop(index=data.query('ceiling_height < 2.4').index,inplace=True)\n",
    "# Проверяем успех\n",
    "data.query('ceiling_height < 2.4')['ceiling_height'].count()"
   ]
  },
  {
   "cell_type": "markdown",
   "metadata": {},
   "source": [
    "Рассмотрим значения выше 3"
   ]
  },
  {
   "cell_type": "code",
   "execution_count": 36,
   "metadata": {},
   "outputs": [
    {
     "data": {
      "text/plain": [
       "194"
      ]
     },
     "execution_count": 36,
     "metadata": {},
     "output_type": "execute_result"
    },
    {
     "data": {
      "image/png": "[encoded data removed]",
      "text/plain": [
       "<Figure size 432x288 with 1 Axes>"
      ]
     },
     "metadata": {
      "needs_background": "light"
     },
     "output_type": "display_data"
    }
   ],
   "source": [
    "data.hist('ceiling_height', bins=50, range=(3, 4))\n",
    "data.query('ceiling_height > 3.6')['ceiling_height'].count()"
   ]
  },
  {
   "cell_type": "markdown",
   "metadata": {},
   "source": [
    "Значений выше 3.6 меньше и это уже достаточно высокий потолок, удаляем:"
   ]
  },
  {
   "cell_type": "code",
   "execution_count": 37,
   "metadata": {},
   "outputs": [
    {
     "data": {
      "text/plain": [
       "0"
      ]
     },
     "execution_count": 37,
     "metadata": {},
     "output_type": "execute_result"
    }
   ],
   "source": [
    "# Методами drop() query() удаляем необходимые строки\n",
    "data.drop(index=data.query('ceiling_height > 3.6').index,inplace=True)\n",
    "# Проверяем успех\n",
    "data.query('ceiling_height > 3.6')['ceiling_height'].count()"
   ]
  },
  {
   "cell_type": "markdown",
   "metadata": {},
   "source": [
    "***floors_total***"
   ]
  },
  {
   "cell_type": "markdown",
   "metadata": {},
   "source": [
    "Минимальное значение в один этаж нас совершенно устраивает, такое бывает, но максимальное в 60 это уже много и не похоже на правду. По общему выводу об информации в интернете делаем вывод, что жилых домов более 30 этажей нет."
   ]
  },
  {
   "cell_type": "code",
   "execution_count": 38,
   "metadata": {
    "scrolled": true
   },
   "outputs": [
    {
     "data": {
      "text/plain": [
       "<AxesSubplot:>"
      ]
     },
     "execution_count": 38,
     "metadata": {},
     "output_type": "execute_result"
    },
    {
     "data": {
      "image/png": "[encoded data removed]",
      "text/plain": [
       "<Figure size 432x288 with 1 Axes>"
      ]
     },
     "metadata": {
      "needs_background": "light"
     },
     "output_type": "display_data"
    }
   ],
   "source": [
    "data.boxplot('floors_total')"
   ]
  },
  {
   "cell_type": "code",
   "execution_count": 39,
   "metadata": {},
   "outputs": [
    {
     "data": {
      "text/plain": [
       "array([[<AxesSubplot:title={'center':'floors_total'}>]], dtype=object)"
      ]
     },
     "execution_count": 39,
     "metadata": {},
     "output_type": "execute_result"
    },
    {
     "data": {
      "image/png": "[encoded data removed]",
      "text/plain": [
       "<Figure size 432x288 with 1 Axes>"
      ]
     },
     "metadata": {
      "needs_background": "light"
     },
     "output_type": "display_data"
    }
   ],
   "source": [
    "data.hist('floors_total', bins=20, range=(10, 60))"
   ]
  },
  {
   "cell_type": "markdown",
   "metadata": {},
   "source": [
    "График только доказал наш вывод, значения больше 30 удаляем:"
   ]
  },
  {
   "cell_type": "code",
   "execution_count": 40,
   "metadata": {},
   "outputs": [
    {
     "data": {
      "text/plain": [
       "0"
      ]
     },
     "execution_count": 40,
     "metadata": {},
     "output_type": "execute_result"
    }
   ],
   "source": [
    "# Методами drop() query() удаляем необходимые строки\n",
    "data.drop(index=data.query('floors_total > 30').index,inplace=True)\n",
    "# Проверяем успех\n",
    "data.query('floors_total > 30')['floors_total'].count()"
   ]
  },
  {
   "cell_type": "markdown",
   "metadata": {},
   "source": [
    "***living_area***"
   ]
  },
  {
   "cell_type": "markdown",
   "metadata": {},
   "source": [
    "Минимальной жилой площадью является 1 квадратный метр, а максимальный 409\n",
    "\n",
    "Посмотрим распределение минимальных значений:"
   ]
  },
  {
   "cell_type": "code",
   "execution_count": 41,
   "metadata": {},
   "outputs": [
    {
     "data": {
      "text/plain": [
       "array([[<AxesSubplot:title={'center':'floors_total'}>]], dtype=object)"
      ]
     },
     "execution_count": 41,
     "metadata": {},
     "output_type": "execute_result"
    },
    {
     "data": {
      "image/png": "[encoded data removed]",
      "text/plain": [
       "<Figure size 432x288 with 1 Axes>"
      ]
     },
     "metadata": {
      "needs_background": "light"
     },
     "output_type": "display_data"
    }
   ],
   "source": [
    "data.hist('floors_total', bins=10, range=(1, 50))"
   ]
  },
  {
   "cell_type": "markdown",
   "metadata": {},
   "source": [
    "Видим, что есть площади меньше 10 квадратных метра. Хоть согласно ст 105 ЖК РФ минимальной площадью является 6 квадратных метров, для нашего проекта возьмем значение 10. Посчитаем количество квартир меньше 10 квадратных метров:"
   ]
  },
  {
   "cell_type": "code",
   "execution_count": 42,
   "metadata": {},
   "outputs": [
    {
     "data": {
      "text/plain": [
       "25"
      ]
     },
     "execution_count": 42,
     "metadata": {},
     "output_type": "execute_result"
    }
   ],
   "source": [
    "data.query('living_area < 10')['living_area'].count()"
   ]
  },
  {
   "cell_type": "markdown",
   "metadata": {},
   "source": [
    "Всего 25 строк, немного, удаляем:"
   ]
  },
  {
   "cell_type": "code",
   "execution_count": 43,
   "metadata": {},
   "outputs": [
    {
     "data": {
      "text/plain": [
       "0"
      ]
     },
     "execution_count": 43,
     "metadata": {},
     "output_type": "execute_result"
    }
   ],
   "source": [
    "# Методами drop() query() удаляем необходимые строки\n",
    "data.drop(index=data.query('living_area < 10').index,inplace=True)\n",
    "# Проверяем успех\n",
    "data.query('living_area < 10')['living_area'].count()"
   ]
  },
  {
   "cell_type": "markdown",
   "metadata": {},
   "source": [
    "С помощью диаграммы размаха посмотрим выбросы:"
   ]
  },
  {
   "cell_type": "code",
   "execution_count": 44,
   "metadata": {},
   "outputs": [
    {
     "data": {
      "text/plain": [
       "(80.0, 500.0)"
      ]
     },
     "execution_count": 44,
     "metadata": {},
     "output_type": "execute_result"
    },
    {
     "data": {
      "image/png": "[encoded data removed]",
      "text/plain": [
       "<Figure size 432x288 with 1 Axes>"
      ]
     },
     "metadata": {
      "needs_background": "light"
     },
     "output_type": "display_data"
    }
   ],
   "source": [
    "data.boxplot(['living_area'])\n",
    "plt.ylim(80, 500)"
   ]
  },
  {
   "cell_type": "markdown",
   "metadata": {},
   "source": [
    "По диаграмме видим, что выбросов со значениями больше 200 намного меньше. Посчитаем количество строк, где жилая площадь дольше 200"
   ]
  },
  {
   "cell_type": "code",
   "execution_count": 45,
   "metadata": {},
   "outputs": [
    {
     "data": {
      "text/plain": [
       "8"
      ]
     },
     "execution_count": 45,
     "metadata": {},
     "output_type": "execute_result"
    }
   ],
   "source": [
    "data.query('living_area > 200')['living_area'].count()"
   ]
  },
  {
   "cell_type": "markdown",
   "metadata": {},
   "source": [
    "Выходит 14 выбросов, которые можем и удалить:"
   ]
  },
  {
   "cell_type": "code",
   "execution_count": 46,
   "metadata": {},
   "outputs": [
    {
     "data": {
      "text/plain": [
       "0"
      ]
     },
     "execution_count": 46,
     "metadata": {},
     "output_type": "execute_result"
    }
   ],
   "source": [
    "# Методами drop() query() удаляем необходимые строки\n",
    "data.drop(index=data.query('living_area > 200').index,inplace=True)\n",
    "# Проверяем успех\n",
    "data.query('living_area > 200')['living_area'].count()"
   ]
  },
  {
   "cell_type": "markdown",
   "metadata": {},
   "source": [
    "Во избежание логических ошибок проверим есть ли квартиры, где жилая площадь больше общей:"
   ]
  },
  {
   "cell_type": "code",
   "execution_count": 47,
   "metadata": {},
   "outputs": [
    {
     "data": {
      "text/plain": [
       "0"
      ]
     },
     "execution_count": 47,
     "metadata": {},
     "output_type": "execute_result"
    }
   ],
   "source": [
    "data.query('living_area > total_area')['living_area'].count()"
   ]
  },
  {
   "cell_type": "markdown",
   "metadata": {},
   "source": [
    "***floor***"
   ]
  },
  {
   "cell_type": "markdown",
   "metadata": {},
   "source": [
    "Логические ошибки не нужны, проверяем есть ли строки, где этаж больше общего количества этажей:"
   ]
  },
  {
   "cell_type": "code",
   "execution_count": 48,
   "metadata": {},
   "outputs": [
    {
     "data": {
      "text/plain": [
       "0"
      ]
     },
     "execution_count": 48,
     "metadata": {},
     "output_type": "execute_result"
    }
   ],
   "source": [
    "data.query('floor > floors_total')['floor'].count()"
   ]
  },
  {
   "cell_type": "markdown",
   "metadata": {},
   "source": [
    "Ни минимальное, ни максимальное (ранее удаляли строки, где общее количество этажей больше 30), не кажутся неестественными, так же в отношении этажа, думаю, выбросы вполне логичны и могут не удаляться, тем более их достаточно много."
   ]
  },
  {
   "cell_type": "code",
   "execution_count": 49,
   "metadata": {},
   "outputs": [
    {
     "data": {
      "text/plain": [
       "902"
      ]
     },
     "execution_count": 49,
     "metadata": {},
     "output_type": "execute_result"
    },
    {
     "data": {
      "image/png": "[encoded data removed]",
      "text/plain": [
       "<Figure size 432x288 with 1 Axes>"
      ]
     },
     "metadata": {
      "needs_background": "light"
     },
     "output_type": "display_data"
    }
   ],
   "source": [
    "data.boxplot(['floor'])\n",
    "data.query('floor > 17')['floor'].count()"
   ]
  },
  {
   "cell_type": "markdown",
   "metadata": {},
   "source": [
    "***kitchen_area***"
   ]
  },
  {
   "cell_type": "markdown",
   "metadata": {},
   "source": [
    "Минимальные и максимальные значения снова создают атмосферу фантастики, 1 и 112 квадратных метров соответственно. Нужно посмотреть поближе на распределения в этих зонах:"
   ]
  },
  {
   "cell_type": "code",
   "execution_count": 50,
   "metadata": {
    "scrolled": true
   },
   "outputs": [
    {
     "data": {
      "text/plain": [
       "array([[<AxesSubplot:title={'center':'kitchen_area'}>]], dtype=object)"
      ]
     },
     "execution_count": 50,
     "metadata": {},
     "output_type": "execute_result"
    },
    {
     "data": {
      "image/png": "[encoded data removed]",
      "text/plain": [
       "<Figure size 432x288 with 1 Axes>"
      ]
     },
     "metadata": {
      "needs_background": "light"
     },
     "output_type": "display_data"
    }
   ],
   "source": [
    "data.hist('kitchen_area', bins=10, range=(0, 8))"
   ]
  },
  {
   "cell_type": "code",
   "execution_count": 51,
   "metadata": {},
   "outputs": [
    {
     "data": {
      "text/plain": [
       "28"
      ]
     },
     "execution_count": 51,
     "metadata": {},
     "output_type": "execute_result"
    }
   ],
   "source": [
    "data.query('kitchen_area < 4')['kitchen_area'].count()"
   ]
  },
  {
   "cell_type": "markdown",
   "metadata": {},
   "source": [
    "Меньше всего значений с площадью кухни менее 4 квадратных метра, по старым правилом именно этот метраж был минимальным, данные строки удаляем:"
   ]
  },
  {
   "cell_type": "code",
   "execution_count": 52,
   "metadata": {},
   "outputs": [
    {
     "data": {
      "text/plain": [
       "0"
      ]
     },
     "execution_count": 52,
     "metadata": {},
     "output_type": "execute_result"
    }
   ],
   "source": [
    "# Методами drop() query() удаляем необходимые строки\n",
    "data.drop(index=data.query('kitchen_area < 4').index,inplace=True)\n",
    "# Проверяем успех\n",
    "data.query('kitchen_area < 4')['kitchen_area'].count()"
   ]
  },
  {
   "cell_type": "markdown",
   "metadata": {},
   "source": [
    "Посмотрим на больше значения площади:"
   ]
  },
  {
   "cell_type": "code",
   "execution_count": 53,
   "metadata": {},
   "outputs": [
    {
     "data": {
      "text/plain": [
       "array([[<AxesSubplot:title={'center':'kitchen_area'}>]], dtype=object)"
      ]
     },
     "execution_count": 53,
     "metadata": {},
     "output_type": "execute_result"
    },
    {
     "data": {
      "image/png": "[encoded data removed]",
      "text/plain": [
       "<Figure size 432x288 with 1 Axes>"
      ]
     },
     "metadata": {
      "needs_background": "light"
     },
     "output_type": "display_data"
    }
   ],
   "source": [
    "data.hist('kitchen_area', bins=50, range=(40, 112))"
   ]
  },
  {
   "cell_type": "code",
   "execution_count": 54,
   "metadata": {},
   "outputs": [
    {
     "data": {
      "text/plain": [
       "30"
      ]
     },
     "execution_count": 54,
     "metadata": {},
     "output_type": "execute_result"
    }
   ],
   "source": [
    "data.query('kitchen_area > 50')['kitchen_area'].count()"
   ]
  },
  {
   "cell_type": "markdown",
   "metadata": {},
   "source": [
    "Значений больше 50 квадратных метров минимально, строки с такими квартирами тоже удалим:"
   ]
  },
  {
   "cell_type": "code",
   "execution_count": 55,
   "metadata": {},
   "outputs": [
    {
     "data": {
      "text/plain": [
       "0"
      ]
     },
     "execution_count": 55,
     "metadata": {},
     "output_type": "execute_result"
    }
   ],
   "source": [
    "# Методами drop() query() удаляем необходимые строки\n",
    "data.drop(index=data.query('kitchen_area > 50').index,inplace=True)\n",
    "# Проверяем успех\n",
    "data.query('kitchen_area > 50')['kitchen_area'].count()"
   ]
  },
  {
   "cell_type": "markdown",
   "metadata": {},
   "source": [
    "Промеряем нет ли квартир, где площадь кухни больше общей:"
   ]
  },
  {
   "cell_type": "code",
   "execution_count": 56,
   "metadata": {},
   "outputs": [
    {
     "data": {
      "text/plain": [
       "0"
      ]
     },
     "execution_count": 56,
     "metadata": {},
     "output_type": "execute_result"
    }
   ],
   "source": [
    "data.query('kitchen_area > total_area')['living_area'].count()"
   ]
  },
  {
   "cell_type": "markdown",
   "metadata": {},
   "source": [
    "***balcony***"
   ]
  },
  {
   "cell_type": "markdown",
   "metadata": {},
   "source": [
    "Балконы сомнений не взывают."
   ]
  },
  {
   "cell_type": "code",
   "execution_count": 57,
   "metadata": {
    "scrolled": true
   },
   "outputs": [
    {
     "data": {
      "text/plain": [
       "array([[<AxesSubplot:title={'center':'balcony'}>]], dtype=object)"
      ]
     },
     "execution_count": 57,
     "metadata": {},
     "output_type": "execute_result"
    },
    {
     "data": {
      "image/png": "[encoded data removed]",
      "text/plain": [
       "<Figure size 432x288 with 1 Axes>"
      ]
     },
     "metadata": {
      "needs_background": "light"
     },
     "output_type": "display_data"
    }
   ],
   "source": [
    "data.hist('balcony', bins=6)"
   ]
  },
  {
   "cell_type": "markdown",
   "metadata": {},
   "source": [
    "***days_exposition***"
   ]
  },
  {
   "cell_type": "markdown",
   "metadata": {},
   "source": [
    "Проверим распределение и количество нулевых значений:"
   ]
  },
  {
   "cell_type": "code",
   "execution_count": 58,
   "metadata": {
    "scrolled": true
   },
   "outputs": [
    {
     "data": {
      "text/plain": [
       "0"
      ]
     },
     "execution_count": 58,
     "metadata": {},
     "output_type": "execute_result"
    },
    {
     "data": {
      "image/png": "[encoded data removed]",
      "text/plain": [
       "<Figure size 432x288 with 1 Axes>"
      ]
     },
     "metadata": {
      "needs_background": "light"
     },
     "output_type": "display_data"
    }
   ],
   "source": [
    "data.hist('days_exposition', bins=100)\n",
    "data.query('days_exposition == 0')['days_exposition'].count()"
   ]
  },
  {
   "cell_type": "markdown",
   "metadata": {},
   "source": [
    "Максимальное количество дней 1580, что довольно много, за такое время цены практически точно изменились, необходимо удалить слишком старые объявления."
   ]
  },
  {
   "cell_type": "code",
   "execution_count": 59,
   "metadata": {},
   "outputs": [
    {
     "data": {
      "text/plain": [
       "160"
      ]
     },
     "execution_count": 59,
     "metadata": {},
     "output_type": "execute_result"
    },
    {
     "data": {
      "image/png": "[encoded data removed]",
      "text/plain": [
       "<Figure size 432x288 with 1 Axes>"
      ]
     },
     "metadata": {
      "needs_background": "light"
     },
     "output_type": "display_data"
    }
   ],
   "source": [
    "data.hist('days_exposition', bins=100, range=(800, 1580))\n",
    "data.query('days_exposition > 1100')['days_exposition'].count()"
   ]
  },
  {
   "cell_type": "markdown",
   "metadata": {},
   "source": [
    "Значений больше 1100 меньше, их и удалим:"
   ]
  },
  {
   "cell_type": "code",
   "execution_count": 60,
   "metadata": {},
   "outputs": [
    {
     "data": {
      "text/plain": [
       "0"
      ]
     },
     "execution_count": 60,
     "metadata": {},
     "output_type": "execute_result"
    }
   ],
   "source": [
    "# Методами drop() query() удаляем необходимые строки\n",
    "data.drop(index=data.query('days_exposition > 1100').index,inplace=True)\n",
    "# Проверяем успех\n",
    "data.query('days_exposition > 1100')['days_exposition'].count()"
   ]
  },
  {
   "cell_type": "code",
   "execution_count": 61,
   "metadata": {},
   "outputs": [],
   "source": [
    "# После удаления строк необходимо сбросить индексы\n",
    "data.reset_index(drop=True,inplace=True)"
   ]
  },
  {
   "cell_type": "markdown",
   "metadata": {},
   "source": [
    "***Прочее***"
   ]
  },
  {
   "cell_type": "markdown",
   "metadata": {},
   "source": [
    "Остальные данные в столбцах airports_nearest, city_сenters_nearest,\tparks_around_3000,\tparks_nearest,\tponds_around_3000,\tponds_nearest являются картографическими и нет возможности выявить несоответствия с действительностью, по гистограммам из первого шага выглядят вполне разумно. "
   ]
  },
  {
   "cell_type": "markdown",
   "metadata": {},
   "source": [
    "#### Итоги"
   ]
  },
  {
   "cell_type": "markdown",
   "metadata": {},
   "source": [
    "***Работа с пропусками***"
   ]
  },
  {
   "cell_type": "markdown",
   "metadata": {},
   "source": [
    "Проставлены нули, так как пропуски могут означать отсутствие той или иной характеристики:\n",
    "- balcony — число балконов\n",
    "- parks_around_3000 — число парков в радиусе 3 км\n",
    "- ponds_around_3000 — число водоёмов в радиусе 3 км\n",
    "\n",
    "Проставлено значение False, так как пропуски свидетельствуют о том, что квартира не является апартаментами и в столбце булев тип:\n",
    "- is_apartment — апартаменты (булев тип)\n",
    "\n",
    "Прочие данные заменить на более-менее логичные значения не представляется возможным.\n",
    "\n",
    "Причины появления пропусков:\n",
    "- Данные не заполнены ввиду отсутствия характеристики\n",
    "- Сбой при выгрузки картографических данных"
   ]
  },
  {
   "cell_type": "markdown",
   "metadata": {},
   "source": [
    "***Замена типов данных***"
   ]
  },
  {
   "cell_type": "markdown",
   "metadata": {},
   "source": [
    "Тип данных с целочисленными значениями изменен на int\n",
    "\n",
    "Тип в столбце first_day_exposition изменен на datetime для возможности работать с датами."
   ]
  },
  {
   "cell_type": "markdown",
   "metadata": {},
   "source": [
    "***Работа с дубликатами***"
   ]
  },
  {
   "cell_type": "markdown",
   "metadata": {},
   "source": [
    "В столбце locality_name удалены типы населенных пунктов, оставили только сами названия и все буквы \"ё\" заменили на \"е\"."
   ]
  },
  {
   "cell_type": "markdown",
   "metadata": {},
   "source": [
    "***Работа с выбросами***"
   ]
  },
  {
   "cell_type": "markdown",
   "metadata": {},
   "source": [
    "Выполнены следующие изменения:\n",
    "\n",
    "- last_price удалены объявления со стоимостью менее 100.000 и более 100.000.000\n",
    "- total_area удалены объявления с метражом более 500\n",
    "- rooms удалены объявления с более 7 комнатами\n",
    "- ceiling_height дециметры переведены в метры, удалены объявления с высотой потолка меньше 2,4 и больше 3,6\n",
    "- floors_total удалены объявления с количеством этажей в доме более 30\n",
    "- living_area проверили не является ли жилая площадь больше общей, удалены объявления со значениями меньше 10 и больше 200\n",
    "- floor проверили не указан ли этаж больше, чем всего в доме, объявления не удаляли\n",
    "- kitchen_area удалили объявления с площадью кухни менее 4 и более 50\n",
    "- balcony объявления не удаляли\n",
    "- days_exposition - удалили слишком старые объявления со значениями более 1100"
   ]
  },
  {
   "cell_type": "markdown",
   "metadata": {},
   "source": [
    "\n",
    "\n",
    "### Посчитайте и добавьте в таблицу новые столбцы"
   ]
  },
  {
   "cell_type": "markdown",
   "metadata": {},
   "source": [
    "***Цена одного квадратного метра***"
   ]
  },
  {
   "cell_type": "code",
   "execution_count": 62,
   "metadata": {},
   "outputs": [],
   "source": [
    "data['square_price'] = data['last_price'] / data['total_area']\n",
    "data['square_price'] = data['square_price'].round(2)"
   ]
  },
  {
   "cell_type": "markdown",
   "metadata": {},
   "source": [
    "***День недели публикации объявления***"
   ]
  },
  {
   "cell_type": "code",
   "execution_count": 63,
   "metadata": {},
   "outputs": [],
   "source": [
    "data['day_week'] = data['first_day_exposition'].dt.weekday"
   ]
  },
  {
   "cell_type": "markdown",
   "metadata": {},
   "source": [
    "***Месяц публикации объявления***"
   ]
  },
  {
   "cell_type": "code",
   "execution_count": 64,
   "metadata": {},
   "outputs": [],
   "source": [
    "data['month'] = data['first_day_exposition'].dt.month"
   ]
  },
  {
   "cell_type": "markdown",
   "metadata": {},
   "source": [
    "***Год публикации объявления***"
   ]
  },
  {
   "cell_type": "code",
   "execution_count": 65,
   "metadata": {},
   "outputs": [],
   "source": [
    "data['year'] = data['first_day_exposition'].dt.year"
   ]
  },
  {
   "cell_type": "markdown",
   "metadata": {},
   "source": [
    "***Tип этажа квартиры***"
   ]
  },
  {
   "cell_type": "code",
   "execution_count": 66,
   "metadata": {},
   "outputs": [],
   "source": [
    "data['floor_type'] = data['floor']\n",
    "data['floor_type'] = data['floor_type'].where(data['floors_total'] / data['floor_type'] != 1, 'Последний')\n",
    "data['floor_type'] = data['floor_type'].where(data['floor_type'] != 1, 'Первый')\n",
    "data['floor_type'] = data['floor_type'].where((data['floor_type'] == 'Последний') | (data['floor_type'] == 'Первый'), 'Другой')"
   ]
  },
  {
   "cell_type": "markdown",
   "metadata": {},
   "source": [
    "***Расстояние до центра города в километрах***"
   ]
  },
  {
   "cell_type": "code",
   "execution_count": 67,
   "metadata": {},
   "outputs": [
    {
     "data": {
      "text/plain": [
       "0    16\n",
       "1    19\n",
       "2    14\n",
       "3     7\n",
       "4     8\n",
       "Name: city_centers_nearest_km, dtype: Int8"
      ]
     },
     "execution_count": 67,
     "metadata": {},
     "output_type": "execute_result"
    }
   ],
   "source": [
    "data['city_centers_nearest_km'] = data['city_сenters_nearest'] / 1000\n",
    "data['city_centers_nearest_km'] = data['city_centers_nearest_km'].round().astype('Int8')\n",
    "data['city_centers_nearest_km'].head()"
   ]
  },
  {
   "cell_type": "code",
   "execution_count": 68,
   "metadata": {},
   "outputs": [
    {
     "data": {
      "text/html": [
       "<div>\n",
       "<style scoped>\n",
       "    .dataframe tbody tr th:only-of-type {\n",
       "        vertical-align: middle;\n",
       "    }\n",
       "\n",
       "    .dataframe tbody tr th {\n",
       "        vertical-align: top;\n",
       "    }\n",
       "\n",
       "    .dataframe thead th {\n",
       "        text-align: right;\n",
       "    }\n",
       "</style>\n",
       "<table border=\"1\" class=\"dataframe\">\n",
       "  <thead>\n",
       "    <tr style=\"text-align: right;\">\n",
       "      <th></th>\n",
       "      <th>square_price</th>\n",
       "      <th>day_week</th>\n",
       "      <th>month</th>\n",
       "      <th>year</th>\n",
       "      <th>floor_type</th>\n",
       "      <th>city_centers_nearest_km</th>\n",
       "    </tr>\n",
       "  </thead>\n",
       "  <tbody>\n",
       "    <tr>\n",
       "      <th>0</th>\n",
       "      <td>120370.37</td>\n",
       "      <td>3</td>\n",
       "      <td>3</td>\n",
       "      <td>2019</td>\n",
       "      <td>Другой</td>\n",
       "      <td>16</td>\n",
       "    </tr>\n",
       "    <tr>\n",
       "      <th>1</th>\n",
       "      <td>82920.79</td>\n",
       "      <td>1</td>\n",
       "      <td>12</td>\n",
       "      <td>2018</td>\n",
       "      <td>Первый</td>\n",
       "      <td>19</td>\n",
       "    </tr>\n",
       "    <tr>\n",
       "      <th>2</th>\n",
       "      <td>92785.71</td>\n",
       "      <td>3</td>\n",
       "      <td>8</td>\n",
       "      <td>2015</td>\n",
       "      <td>Другой</td>\n",
       "      <td>14</td>\n",
       "    </tr>\n",
       "    <tr>\n",
       "      <th>3</th>\n",
       "      <td>408176.10</td>\n",
       "      <td>4</td>\n",
       "      <td>7</td>\n",
       "      <td>2015</td>\n",
       "      <td>Другой</td>\n",
       "      <td>7</td>\n",
       "    </tr>\n",
       "    <tr>\n",
       "      <th>4</th>\n",
       "      <td>100000.00</td>\n",
       "      <td>1</td>\n",
       "      <td>6</td>\n",
       "      <td>2018</td>\n",
       "      <td>Другой</td>\n",
       "      <td>8</td>\n",
       "    </tr>\n",
       "    <tr>\n",
       "      <th>5</th>\n",
       "      <td>95065.79</td>\n",
       "      <td>0</td>\n",
       "      <td>9</td>\n",
       "      <td>2018</td>\n",
       "      <td>Другой</td>\n",
       "      <td>&lt;NA&gt;</td>\n",
       "    </tr>\n",
       "    <tr>\n",
       "      <th>6</th>\n",
       "      <td>99195.71</td>\n",
       "      <td>3</td>\n",
       "      <td>11</td>\n",
       "      <td>2017</td>\n",
       "      <td>Другой</td>\n",
       "      <td>19</td>\n",
       "    </tr>\n",
       "    <tr>\n",
       "      <th>7</th>\n",
       "      <td>110544.69</td>\n",
       "      <td>3</td>\n",
       "      <td>4</td>\n",
       "      <td>2019</td>\n",
       "      <td>Другой</td>\n",
       "      <td>12</td>\n",
       "    </tr>\n",
       "    <tr>\n",
       "      <th>8</th>\n",
       "      <td>87454.76</td>\n",
       "      <td>2</td>\n",
       "      <td>5</td>\n",
       "      <td>2018</td>\n",
       "      <td>Другой</td>\n",
       "      <td>&lt;NA&gt;</td>\n",
       "    </tr>\n",
       "    <tr>\n",
       "      <th>9</th>\n",
       "      <td>88524.59</td>\n",
       "      <td>6</td>\n",
       "      <td>2</td>\n",
       "      <td>2017</td>\n",
       "      <td>Другой</td>\n",
       "      <td>15</td>\n",
       "    </tr>\n",
       "  </tbody>\n",
       "</table>\n",
       "</div>"
      ],
      "text/plain": [
       "   square_price  day_week  month  year floor_type  city_centers_nearest_km\n",
       "0     120370.37         3      3  2019     Другой                       16\n",
       "1      82920.79         1     12  2018     Первый                       19\n",
       "2      92785.71         3      8  2015     Другой                       14\n",
       "3     408176.10         4      7  2015     Другой                        7\n",
       "4     100000.00         1      6  2018     Другой                        8\n",
       "5      95065.79         0      9  2018     Другой                     <NA>\n",
       "6      99195.71         3     11  2017     Другой                       19\n",
       "7     110544.69         3      4  2019     Другой                       12\n",
       "8      87454.76         2      5  2018     Другой                     <NA>\n",
       "9      88524.59         6      2  2017     Другой                       15"
      ]
     },
     "execution_count": 68,
     "metadata": {},
     "output_type": "execute_result"
    }
   ],
   "source": [
    "data[['square_price', 'day_week', 'month', 'year', 'floor_type', 'city_centers_nearest_km']].head(10)"
   ]
  },
  {
   "cell_type": "markdown",
   "metadata": {},
   "source": [
    "### Проведите исследовательский анализ данных\n",
    "\n"
   ]
  },
  {
   "cell_type": "markdown",
   "metadata": {},
   "source": [
    "#### Изучение параметров объектов"
   ]
  },
  {
   "cell_type": "markdown",
   "metadata": {},
   "source": [
    "Посмотрим основную информацию по данным:"
   ]
  },
  {
   "cell_type": "code",
   "execution_count": 69,
   "metadata": {},
   "outputs": [
    {
     "data": {
      "text/html": [
       "<div>\n",
       "<style scoped>\n",
       "    .dataframe tbody tr th:only-of-type {\n",
       "        vertical-align: middle;\n",
       "    }\n",
       "\n",
       "    .dataframe tbody tr th {\n",
       "        vertical-align: top;\n",
       "    }\n",
       "\n",
       "    .dataframe thead th {\n",
       "        text-align: right;\n",
       "    }\n",
       "</style>\n",
       "<table border=\"1\" class=\"dataframe\">\n",
       "  <thead>\n",
       "    <tr style=\"text-align: right;\">\n",
       "      <th></th>\n",
       "      <th>total_images</th>\n",
       "      <th>last_price</th>\n",
       "      <th>total_area</th>\n",
       "      <th>rooms</th>\n",
       "      <th>ceiling_height</th>\n",
       "      <th>floors_total</th>\n",
       "      <th>living_area</th>\n",
       "      <th>floor</th>\n",
       "      <th>kitchen_area</th>\n",
       "      <th>balcony</th>\n",
       "      <th>...</th>\n",
       "      <th>parks_around_3000</th>\n",
       "      <th>parks_nearest</th>\n",
       "      <th>ponds_around_3000</th>\n",
       "      <th>ponds_nearest</th>\n",
       "      <th>days_exposition</th>\n",
       "      <th>square_price</th>\n",
       "      <th>day_week</th>\n",
       "      <th>month</th>\n",
       "      <th>year</th>\n",
       "      <th>city_centers_nearest_km</th>\n",
       "    </tr>\n",
       "  </thead>\n",
       "  <tbody>\n",
       "    <tr>\n",
       "      <th>count</th>\n",
       "      <td>23134.000000</td>\n",
       "      <td>2.313400e+04</td>\n",
       "      <td>23134.000000</td>\n",
       "      <td>23134.000000</td>\n",
       "      <td>14054.000000</td>\n",
       "      <td>23051.000000</td>\n",
       "      <td>21267.000000</td>\n",
       "      <td>23134.000000</td>\n",
       "      <td>20897.000000</td>\n",
       "      <td>23134.000000</td>\n",
       "      <td>...</td>\n",
       "      <td>23134.000000</td>\n",
       "      <td>7763.000000</td>\n",
       "      <td>23134.000000</td>\n",
       "      <td>8759.000000</td>\n",
       "      <td>20028.000000</td>\n",
       "      <td>23134.000000</td>\n",
       "      <td>23134.000000</td>\n",
       "      <td>23134.000000</td>\n",
       "      <td>23134.000000</td>\n",
       "      <td>17669.000000</td>\n",
       "    </tr>\n",
       "    <tr>\n",
       "      <th>mean</th>\n",
       "      <td>9.847757</td>\n",
       "      <td>6.061720e+06</td>\n",
       "      <td>58.836423</td>\n",
       "      <td>2.043486</td>\n",
       "      <td>2.706853</td>\n",
       "      <td>10.700881</td>\n",
       "      <td>33.583293</td>\n",
       "      <td>5.898807</td>\n",
       "      <td>10.348832</td>\n",
       "      <td>0.595271</td>\n",
       "      <td>...</td>\n",
       "      <td>0.457681</td>\n",
       "      <td>491.132423</td>\n",
       "      <td>0.575819</td>\n",
       "      <td>522.524946</td>\n",
       "      <td>171.324046</td>\n",
       "      <td>97905.569139</td>\n",
       "      <td>2.573917</td>\n",
       "      <td>6.399758</td>\n",
       "      <td>2017.387049</td>\n",
       "      <td>14.315185</td>\n",
       "    </tr>\n",
       "    <tr>\n",
       "      <th>std</th>\n",
       "      <td>5.665604</td>\n",
       "      <td>5.854608e+06</td>\n",
       "      <td>30.009015</td>\n",
       "      <td>1.014746</td>\n",
       "      <td>0.228506</td>\n",
       "      <td>6.535525</td>\n",
       "      <td>18.851317</td>\n",
       "      <td>4.866577</td>\n",
       "      <td>5.089431</td>\n",
       "      <td>0.961173</td>\n",
       "      <td>...</td>\n",
       "      <td>0.737262</td>\n",
       "      <td>340.633555</td>\n",
       "      <td>0.870028</td>\n",
       "      <td>276.695808</td>\n",
       "      <td>197.314631</td>\n",
       "      <td>41896.018846</td>\n",
       "      <td>1.791046</td>\n",
       "      <td>3.487266</td>\n",
       "      <td>1.019847</td>\n",
       "      <td>8.555634</td>\n",
       "    </tr>\n",
       "    <tr>\n",
       "      <th>min</th>\n",
       "      <td>0.000000</td>\n",
       "      <td>4.300000e+05</td>\n",
       "      <td>12.000000</td>\n",
       "      <td>0.000000</td>\n",
       "      <td>2.400000</td>\n",
       "      <td>1.000000</td>\n",
       "      <td>10.000000</td>\n",
       "      <td>1.000000</td>\n",
       "      <td>4.000000</td>\n",
       "      <td>0.000000</td>\n",
       "      <td>...</td>\n",
       "      <td>0.000000</td>\n",
       "      <td>1.000000</td>\n",
       "      <td>0.000000</td>\n",
       "      <td>13.000000</td>\n",
       "      <td>1.000000</td>\n",
       "      <td>7962.960000</td>\n",
       "      <td>0.000000</td>\n",
       "      <td>1.000000</td>\n",
       "      <td>2014.000000</td>\n",
       "      <td>0.000000</td>\n",
       "    </tr>\n",
       "    <tr>\n",
       "      <th>25%</th>\n",
       "      <td>6.000000</td>\n",
       "      <td>3.400000e+06</td>\n",
       "      <td>40.000000</td>\n",
       "      <td>1.000000</td>\n",
       "      <td>2.500000</td>\n",
       "      <td>5.000000</td>\n",
       "      <td>18.600000</td>\n",
       "      <td>2.000000</td>\n",
       "      <td>7.000000</td>\n",
       "      <td>0.000000</td>\n",
       "      <td>...</td>\n",
       "      <td>0.000000</td>\n",
       "      <td>288.000000</td>\n",
       "      <td>0.000000</td>\n",
       "      <td>302.500000</td>\n",
       "      <td>44.000000</td>\n",
       "      <td>76301.172500</td>\n",
       "      <td>1.000000</td>\n",
       "      <td>3.000000</td>\n",
       "      <td>2017.000000</td>\n",
       "      <td>10.000000</td>\n",
       "    </tr>\n",
       "    <tr>\n",
       "      <th>50%</th>\n",
       "      <td>9.000000</td>\n",
       "      <td>4.600000e+06</td>\n",
       "      <td>51.700000</td>\n",
       "      <td>2.000000</td>\n",
       "      <td>2.650000</td>\n",
       "      <td>9.000000</td>\n",
       "      <td>30.000000</td>\n",
       "      <td>4.000000</td>\n",
       "      <td>9.000000</td>\n",
       "      <td>0.000000</td>\n",
       "      <td>...</td>\n",
       "      <td>0.000000</td>\n",
       "      <td>455.000000</td>\n",
       "      <td>0.000000</td>\n",
       "      <td>506.000000</td>\n",
       "      <td>93.000000</td>\n",
       "      <td>94666.670000</td>\n",
       "      <td>3.000000</td>\n",
       "      <td>6.000000</td>\n",
       "      <td>2017.000000</td>\n",
       "      <td>13.000000</td>\n",
       "    </tr>\n",
       "    <tr>\n",
       "      <th>75%</th>\n",
       "      <td>14.000000</td>\n",
       "      <td>6.650000e+06</td>\n",
       "      <td>68.700000</td>\n",
       "      <td>3.000000</td>\n",
       "      <td>2.800000</td>\n",
       "      <td>16.000000</td>\n",
       "      <td>42.000000</td>\n",
       "      <td>8.000000</td>\n",
       "      <td>11.900000</td>\n",
       "      <td>1.000000</td>\n",
       "      <td>...</td>\n",
       "      <td>1.000000</td>\n",
       "      <td>613.000000</td>\n",
       "      <td>1.000000</td>\n",
       "      <td>733.000000</td>\n",
       "      <td>224.000000</td>\n",
       "      <td>113517.047500</td>\n",
       "      <td>4.000000</td>\n",
       "      <td>10.000000</td>\n",
       "      <td>2018.000000</td>\n",
       "      <td>16.000000</td>\n",
       "    </tr>\n",
       "    <tr>\n",
       "      <th>max</th>\n",
       "      <td>50.000000</td>\n",
       "      <td>9.900000e+07</td>\n",
       "      <td>494.100000</td>\n",
       "      <td>7.000000</td>\n",
       "      <td>3.600000</td>\n",
       "      <td>29.000000</td>\n",
       "      <td>200.000000</td>\n",
       "      <td>27.000000</td>\n",
       "      <td>50.000000</td>\n",
       "      <td>5.000000</td>\n",
       "      <td>...</td>\n",
       "      <td>3.000000</td>\n",
       "      <td>3190.000000</td>\n",
       "      <td>3.000000</td>\n",
       "      <td>1344.000000</td>\n",
       "      <td>1100.000000</td>\n",
       "      <td>848484.850000</td>\n",
       "      <td>6.000000</td>\n",
       "      <td>12.000000</td>\n",
       "      <td>2019.000000</td>\n",
       "      <td>66.000000</td>\n",
       "    </tr>\n",
       "  </tbody>\n",
       "</table>\n",
       "<p>8 rows × 22 columns</p>\n",
       "</div>"
      ],
      "text/plain": [
       "       total_images    last_price    total_area         rooms  ceiling_height  \\\n",
       "count  23134.000000  2.313400e+04  23134.000000  23134.000000    14054.000000   \n",
       "mean       9.847757  6.061720e+06     58.836423      2.043486        2.706853   \n",
       "std        5.665604  5.854608e+06     30.009015      1.014746        0.228506   \n",
       "min        0.000000  4.300000e+05     12.000000      0.000000        2.400000   \n",
       "25%        6.000000  3.400000e+06     40.000000      1.000000        2.500000   \n",
       "50%        9.000000  4.600000e+06     51.700000      2.000000        2.650000   \n",
       "75%       14.000000  6.650000e+06     68.700000      3.000000        2.800000   \n",
       "max       50.000000  9.900000e+07    494.100000      7.000000        3.600000   \n",
       "\n",
       "       floors_total   living_area         floor  kitchen_area       balcony  \\\n",
       "count  23051.000000  21267.000000  23134.000000  20897.000000  23134.000000   \n",
       "mean      10.700881     33.583293      5.898807     10.348832      0.595271   \n",
       "std        6.535525     18.851317      4.866577      5.089431      0.961173   \n",
       "min        1.000000     10.000000      1.000000      4.000000      0.000000   \n",
       "25%        5.000000     18.600000      2.000000      7.000000      0.000000   \n",
       "50%        9.000000     30.000000      4.000000      9.000000      0.000000   \n",
       "75%       16.000000     42.000000      8.000000     11.900000      1.000000   \n",
       "max       29.000000    200.000000     27.000000     50.000000      5.000000   \n",
       "\n",
       "       ...  parks_around_3000  parks_nearest  ponds_around_3000  \\\n",
       "count  ...       23134.000000    7763.000000       23134.000000   \n",
       "mean   ...           0.457681     491.132423           0.575819   \n",
       "std    ...           0.737262     340.633555           0.870028   \n",
       "min    ...           0.000000       1.000000           0.000000   \n",
       "25%    ...           0.000000     288.000000           0.000000   \n",
       "50%    ...           0.000000     455.000000           0.000000   \n",
       "75%    ...           1.000000     613.000000           1.000000   \n",
       "max    ...           3.000000    3190.000000           3.000000   \n",
       "\n",
       "       ponds_nearest  days_exposition   square_price      day_week  \\\n",
       "count    8759.000000     20028.000000   23134.000000  23134.000000   \n",
       "mean      522.524946       171.324046   97905.569139      2.573917   \n",
       "std       276.695808       197.314631   41896.018846      1.791046   \n",
       "min        13.000000         1.000000    7962.960000      0.000000   \n",
       "25%       302.500000        44.000000   76301.172500      1.000000   \n",
       "50%       506.000000        93.000000   94666.670000      3.000000   \n",
       "75%       733.000000       224.000000  113517.047500      4.000000   \n",
       "max      1344.000000      1100.000000  848484.850000      6.000000   \n",
       "\n",
       "              month          year  city_centers_nearest_km  \n",
       "count  23134.000000  23134.000000             17669.000000  \n",
       "mean       6.399758   2017.387049                14.315185  \n",
       "std        3.487266      1.019847                 8.555634  \n",
       "min        1.000000   2014.000000                 0.000000  \n",
       "25%        3.000000   2017.000000                10.000000  \n",
       "50%        6.000000   2017.000000                13.000000  \n",
       "75%       10.000000   2018.000000                16.000000  \n",
       "max       12.000000   2019.000000                66.000000  \n",
       "\n",
       "[8 rows x 22 columns]"
      ]
     },
     "execution_count": 69,
     "metadata": {},
     "output_type": "execute_result"
    }
   ],
   "source": [
    "data.describe()"
   ]
  },
  {
   "cell_type": "markdown",
   "metadata": {},
   "source": [
    "Строим гистограммы по следующим данным:\n",
    "\n",
    "- общая площадь;\n",
    "- жилая площадь;\n",
    "- площадь кухни;\n",
    "- цена объекта;\n",
    "- количество комнат;\n",
    "- высота потолков;\n",
    "- этаж квартиры;\n",
    "- тип этажа квартиры («первый», «последний», «другой»);\n",
    "- общее количество этажей в доме;\n",
    "- расстояние до центра города в метрах;\n",
    "- расстояние до ближайшего аэропорта;\n",
    "- расстояние до ближайшего парка;\n",
    "- день и месяц публикации объявления."
   ]
  },
  {
   "cell_type": "markdown",
   "metadata": {},
   "source": [
    "***total_area***"
   ]
  },
  {
   "cell_type": "code",
   "execution_count": 70,
   "metadata": {},
   "outputs": [
    {
     "data": {
      "text/plain": [
       "array([[<AxesSubplot:title={'center':'total_area'}>]], dtype=object)"
      ]
     },
     "execution_count": 70,
     "metadata": {},
     "output_type": "execute_result"
    },
    {
     "data": {
      "image/png": "[encoded data removed]",
      "text/plain": [
       "<Figure size 432x288 with 1 Axes>"
      ]
     },
     "metadata": {
      "needs_background": "light"
     },
     "output_type": "display_data"
    }
   ],
   "source": [
    "data.hist('total_area', bins=100)"
   ]
  },
  {
   "cell_type": "code",
   "execution_count": 71,
   "metadata": {},
   "outputs": [
    {
     "data": {
      "text/plain": [
       "<AxesSubplot:>"
      ]
     },
     "execution_count": 71,
     "metadata": {},
     "output_type": "execute_result"
    },
    {
     "data": {
      "image/png": "[encoded data removed]",
      "text/plain": [
       "<Figure size 432x288 with 1 Axes>"
      ]
     },
     "metadata": {
      "needs_background": "light"
     },
     "output_type": "display_data"
    }
   ],
   "source": [
    "data.boxplot(['total_area'])"
   ]
  },
  {
   "cell_type": "markdown",
   "metadata": {},
   "source": [
    "***Вывод:*** По графикам наблюдаем, что количество квартир больше 100 квадратных метров меньше, а значительно меньше квартир с площадью больше 300 квадратных метра."
   ]
  },
  {
   "cell_type": "markdown",
   "metadata": {},
   "source": [
    "***living_area***"
   ]
  },
  {
   "cell_type": "code",
   "execution_count": 72,
   "metadata": {},
   "outputs": [
    {
     "data": {
      "text/plain": [
       "array([[<AxesSubplot:title={'center':'living_area'}>]], dtype=object)"
      ]
     },
     "execution_count": 72,
     "metadata": {},
     "output_type": "execute_result"
    },
    {
     "data": {
      "image/png": "[encoded data removed]",
      "text/plain": [
       "<Figure size 432x288 with 1 Axes>"
      ]
     },
     "metadata": {
      "needs_background": "light"
     },
     "output_type": "display_data"
    },
    {
     "data": {
      "image/png": "[encoded data removed]",
      "text/plain": [
       "<Figure size 432x288 with 1 Axes>"
      ]
     },
     "metadata": {
      "needs_background": "light"
     },
     "output_type": "display_data"
    }
   ],
   "source": [
    "data.hist('living_area', bins=100)\n",
    "data.hist('living_area', bins=50, range=(0, 50))"
   ]
  },
  {
   "cell_type": "markdown",
   "metadata": {},
   "source": [
    "***Вывод:*** Видим постепенно снижение количества квартир после отметки в 50 квадратных метра жилой площади. Так же есть заметное снижение количества квартир около 23 квадратов."
   ]
  },
  {
   "cell_type": "markdown",
   "metadata": {},
   "source": [
    "***kitchen_area***"
   ]
  },
  {
   "cell_type": "code",
   "execution_count": 73,
   "metadata": {},
   "outputs": [
    {
     "data": {
      "text/plain": [
       "array([[<AxesSubplot:title={'center':'kitchen_area'}>]], dtype=object)"
      ]
     },
     "execution_count": 73,
     "metadata": {},
     "output_type": "execute_result"
    },
    {
     "data": {
      "image/png": "[encoded data removed]",
      "text/plain": [
       "<Figure size 432x288 with 1 Axes>"
      ]
     },
     "metadata": {
      "needs_background": "light"
     },
     "output_type": "display_data"
    }
   ],
   "source": [
    "data.hist('kitchen_area', bins=100)"
   ]
  },
  {
   "cell_type": "markdown",
   "metadata": {},
   "source": [
    "***Вывод:*** График выглядит как почти идеальное распределение Пуассона - хороший знак."
   ]
  },
  {
   "cell_type": "markdown",
   "metadata": {},
   "source": [
    "***last_price***"
   ]
  },
  {
   "cell_type": "code",
   "execution_count": 74,
   "metadata": {},
   "outputs": [
    {
     "data": {
      "text/plain": [
       "array([[<AxesSubplot:title={'center':'last_price'}>]], dtype=object)"
      ]
     },
     "execution_count": 74,
     "metadata": {},
     "output_type": "execute_result"
    },
    {
     "data": {
      "image/png": "[encoded data removed]",
      "text/plain": [
       "<Figure size 432x288 with 1 Axes>"
      ]
     },
     "metadata": {
      "needs_background": "light"
     },
     "output_type": "display_data"
    },
    {
     "data": {
      "image/png": "[encoded data removed]",
      "text/plain": [
       "<Figure size 432x288 with 1 Axes>"
      ]
     },
     "metadata": {
      "needs_background": "light"
     },
     "output_type": "display_data"
    }
   ],
   "source": [
    "data.hist('last_price', bins=100)\n",
    "data.hist('last_price', bins=100, range=(100000, 10000000))"
   ]
  },
  {
   "cell_type": "markdown",
   "metadata": {},
   "source": [
    "***Вывод:*** Достаточно хороший график. Есть немного квартир с достаточно большой стоимостью, что в свою очередь связано с общей площадью."
   ]
  },
  {
   "cell_type": "markdown",
   "metadata": {},
   "source": [
    "***rooms***"
   ]
  },
  {
   "cell_type": "code",
   "execution_count": 75,
   "metadata": {},
   "outputs": [
    {
     "data": {
      "text/plain": [
       "array([[<AxesSubplot:title={'center':'rooms'}>]], dtype=object)"
      ]
     },
     "execution_count": 75,
     "metadata": {},
     "output_type": "execute_result"
    },
    {
     "data": {
      "image/png": "[encoded data removed]",
      "text/plain": [
       "<Figure size 432x288 with 1 Axes>"
      ]
     },
     "metadata": {
      "needs_background": "light"
     },
     "output_type": "display_data"
    }
   ],
   "source": [
    "data.hist('rooms', bins=8)"
   ]
  },
  {
   "cell_type": "markdown",
   "metadata": {},
   "source": [
    "***Вывод:*** Большая часть квартир с количеством комнат от 1 до 3, выглядит реально и логично."
   ]
  },
  {
   "cell_type": "markdown",
   "metadata": {},
   "source": [
    "***ceiling_height***"
   ]
  },
  {
   "cell_type": "code",
   "execution_count": 76,
   "metadata": {},
   "outputs": [
    {
     "data": {
      "text/plain": [
       "array([[<AxesSubplot:title={'center':'ceiling_height'}>]], dtype=object)"
      ]
     },
     "execution_count": 76,
     "metadata": {},
     "output_type": "execute_result"
    },
    {
     "data": {
      "image/png": "[encoded data removed]",
      "text/plain": [
       "<Figure size 432x288 with 1 Axes>"
      ]
     },
     "metadata": {
      "needs_background": "light"
     },
     "output_type": "display_data"
    }
   ],
   "source": [
    "data.hist('ceiling_height', bins=10)"
   ]
  },
  {
   "cell_type": "markdown",
   "metadata": {},
   "source": [
    "***Вывод:*** Большая часть квартир с высотой потолков 2.4 - 2.6, так же почти на среднем уровне высота 3.0, а между - заметный спад."
   ]
  },
  {
   "cell_type": "markdown",
   "metadata": {},
   "source": [
    "***floor***"
   ]
  },
  {
   "cell_type": "code",
   "execution_count": 77,
   "metadata": {},
   "outputs": [
    {
     "data": {
      "text/plain": [
       "array([[<AxesSubplot:title={'center':'floor'}>]], dtype=object)"
      ]
     },
     "execution_count": 77,
     "metadata": {},
     "output_type": "execute_result"
    },
    {
     "data": {
      "image/png": "[encoded data removed]",
      "text/plain": [
       "<Figure size 432x288 with 1 Axes>"
      ]
     },
     "metadata": {
      "needs_background": "light"
     },
     "output_type": "display_data"
    }
   ],
   "source": [
    "data.hist('floor', bins=30)"
   ]
  },
  {
   "cell_type": "markdown",
   "metadata": {},
   "source": [
    "***Вывод:*** Больше всего квартир на невысоких этажах до пятого включительно, что связано с распределением общего количества этажей в домах."
   ]
  },
  {
   "cell_type": "markdown",
   "metadata": {},
   "source": [
    "***floor_type***"
   ]
  },
  {
   "cell_type": "code",
   "execution_count": 78,
   "metadata": {},
   "outputs": [
    {
     "data": {
      "text/plain": [
       "<AxesSubplot:xlabel='floor_type'>"
      ]
     },
     "execution_count": 78,
     "metadata": {},
     "output_type": "execute_result"
    },
    {
     "data": {
      "image/png": "[encoded data removed]",
      "text/plain": [
       "<Figure size 432x288 with 1 Axes>"
      ]
     },
     "metadata": {
      "needs_background": "light"
     },
     "output_type": "display_data"
    }
   ],
   "source": [
    "data.groupby('floor_type')['floor_type'].count().plot(kind='bar')"
   ]
  },
  {
   "cell_type": "markdown",
   "metadata": {},
   "source": [
    "***Вывод:*** Больше всего квартир находятся не на первом и не на последнем этажах, что логично, ведь количество таких этажей больше, если учесть, что домов с двумя этажами мало."
   ]
  },
  {
   "cell_type": "markdown",
   "metadata": {},
   "source": [
    "***floors_total***"
   ]
  },
  {
   "cell_type": "code",
   "execution_count": 79,
   "metadata": {},
   "outputs": [
    {
     "data": {
      "text/plain": [
       "array([[<AxesSubplot:title={'center':'floors_total'}>]], dtype=object)"
      ]
     },
     "execution_count": 79,
     "metadata": {},
     "output_type": "execute_result"
    },
    {
     "data": {
      "image/png": "[encoded data removed]",
      "text/plain": [
       "<Figure size 432x288 with 1 Axes>"
      ]
     },
     "metadata": {
      "needs_background": "light"
     },
     "output_type": "display_data"
    }
   ],
   "source": [
    "data.hist('floors_total', bins=30)"
   ]
  },
  {
   "cell_type": "markdown",
   "metadata": {},
   "source": [
    "***Вывод:*** Есть заметные пики на отметках в 5 и 9 этажей, неудивительно, ведь это самые распространенные этажности. Так же есть пики в многоэтажках, предполагаю, что это новостройки в пригороде, многоэтажек там много."
   ]
  },
  {
   "cell_type": "markdown",
   "metadata": {},
   "source": [
    "***city_сenters_nearest***"
   ]
  },
  {
   "cell_type": "code",
   "execution_count": 80,
   "metadata": {},
   "outputs": [
    {
     "data": {
      "text/plain": [
       "array([[<AxesSubplot:title={'center':'city_сenters_nearest'}>]],\n",
       "      dtype=object)"
      ]
     },
     "execution_count": 80,
     "metadata": {},
     "output_type": "execute_result"
    },
    {
     "data": {
      "image/png": "[encoded data removed]",
      "text/plain": [
       "<Figure size 432x288 with 1 Axes>"
      ]
     },
     "metadata": {
      "needs_background": "light"
     },
     "output_type": "display_data"
    }
   ],
   "source": [
    "data.hist('city_сenters_nearest', bins=100)"
   ]
  },
  {
   "cell_type": "markdown",
   "metadata": {},
   "source": [
    "***Вывод:*** Видим постепенное снижение количество квартир в зависимости от удаленности от центра, думаю и плотность самих квартир меньше при удалении от центра. Так же есть пики около 5 и 10 км. "
   ]
  },
  {
   "cell_type": "markdown",
   "metadata": {},
   "source": [
    "***airports_nearest***"
   ]
  },
  {
   "cell_type": "code",
   "execution_count": 81,
   "metadata": {},
   "outputs": [
    {
     "data": {
      "text/plain": [
       "array([[<AxesSubplot:title={'center':'airports_nearest'}>]], dtype=object)"
      ]
     },
     "execution_count": 81,
     "metadata": {},
     "output_type": "execute_result"
    },
    {
     "data": {
      "image/png": "[encoded data removed]",
      "text/plain": [
       "<Figure size 432x288 with 1 Axes>"
      ]
     },
     "metadata": {
      "needs_background": "light"
     },
     "output_type": "display_data"
    }
   ],
   "source": [
    "data.hist('airports_nearest', bins=100)"
   ]
  },
  {
   "cell_type": "markdown",
   "metadata": {},
   "source": [
    "***Вывод:*** Есть еле заметное снижение количества квартир по удалению от аэропорта. Достаточно много пиков и спадов."
   ]
  },
  {
   "cell_type": "markdown",
   "metadata": {},
   "source": [
    "***parks_nearest***"
   ]
  },
  {
   "cell_type": "code",
   "execution_count": 82,
   "metadata": {},
   "outputs": [
    {
     "data": {
      "text/plain": [
       "array([[<AxesSubplot:title={'center':'parks_nearest'}>]], dtype=object)"
      ]
     },
     "execution_count": 82,
     "metadata": {},
     "output_type": "execute_result"
    },
    {
     "data": {
      "image/png": "[encoded data removed]",
      "text/plain": [
       "<Figure size 432x288 with 1 Axes>"
      ]
     },
     "metadata": {
      "needs_background": "light"
     },
     "output_type": "display_data"
    }
   ],
   "source": [
    "data.hist('parks_nearest', bins=100)"
   ]
  },
  {
   "cell_type": "markdown",
   "metadata": {},
   "source": [
    "***Вывод:*** Большая часть квартир находится в непосредственной близости к парку, есть резкий спад после примерно 750 метров."
   ]
  },
  {
   "cell_type": "markdown",
   "metadata": {},
   "source": [
    "***day_week,\tmonth***"
   ]
  },
  {
   "cell_type": "code",
   "execution_count": 83,
   "metadata": {},
   "outputs": [
    {
     "data": {
      "text/plain": [
       "array([[<AxesSubplot:title={'center':'month'}>]], dtype=object)"
      ]
     },
     "execution_count": 83,
     "metadata": {},
     "output_type": "execute_result"
    },
    {
     "data": {
      "image/png": "[encoded data removed]",
      "text/plain": [
       "<Figure size 432x288 with 1 Axes>"
      ]
     },
     "metadata": {
      "needs_background": "light"
     },
     "output_type": "display_data"
    },
    {
     "data": {
      "image/png": "[encoded data removed]",
      "text/plain": [
       "<Figure size 432x288 with 1 Axes>"
      ]
     },
     "metadata": {
      "needs_background": "light"
     },
     "output_type": "display_data"
    }
   ],
   "source": [
    "data.hist('day_week', bins=7)\n",
    "data.hist('month', bins=12)"
   ]
  },
  {
   "cell_type": "markdown",
   "metadata": {},
   "source": [
    "***Вывод:*** Чаще всего объявления публикуются в будние дни. Так же наибольшую активность в продаже проявляют с февраля по апрель, с июня по ноябрь активность постепенно набирает обороты, но с небольшим спадом в июле."
   ]
  },
  {
   "cell_type": "markdown",
   "metadata": {},
   "source": [
    "#### Изучение скорости продажи квартиры"
   ]
  },
  {
   "cell_type": "markdown",
   "metadata": {},
   "source": [
    "Количество дней, которое объявление было открыто хранит столбец days_exposition, построим для него гистограмму, посчитаем среднее и медиану:"
   ]
  },
  {
   "cell_type": "code",
   "execution_count": 84,
   "metadata": {},
   "outputs": [
    {
     "name": "stdout",
     "output_type": "stream",
     "text": [
      "Среднее количество дней: 171.32404633513082\n",
      "Медиана количества дней: 93.0\n"
     ]
    },
    {
     "data": {
      "image/png": "[encoded data removed]",
      "text/plain": [
       "<Figure size 432x288 with 1 Axes>"
      ]
     },
     "metadata": {
      "needs_background": "light"
     },
     "output_type": "display_data"
    }
   ],
   "source": [
    "data.hist('days_exposition', bins=100)\n",
    "print('Среднее количество дней:', data['days_exposition'].mean())\n",
    "print('Медиана количества дней:', data['days_exposition'].median())"
   ]
  },
  {
   "cell_type": "markdown",
   "metadata": {},
   "source": [
    "График имеет плавное снижение по мере увеличения количества дней, то есть большая часть объявлений закрывают быстро.\n",
    "\n",
    "Можем заметить, что есть весомая разница между средним и медианой. Так как выбросы особо не влияют на медиану, то вероятно они присутствуют в данных."
   ]
  },
  {
   "cell_type": "code",
   "execution_count": 85,
   "metadata": {},
   "outputs": [
    {
     "data": {
      "text/plain": [
       "<AxesSubplot:>"
      ]
     },
     "execution_count": 85,
     "metadata": {},
     "output_type": "execute_result"
    },
    {
     "data": {
      "image/png": "[encoded data removed]",
      "text/plain": [
       "<Figure size 432x288 with 1 Axes>"
      ]
     },
     "metadata": {
      "needs_background": "light"
     },
     "output_type": "display_data"
    }
   ],
   "source": [
    "data.boxplot(['days_exposition'])"
   ]
  },
  {
   "cell_type": "markdown",
   "metadata": {},
   "source": [
    "Действительно, выбросы есть и их достаточно много после отметки в 500 дней. Думаю, эти квартиры являются исключениями и по той или иной причине их не могут продать, а может быть забыли вовремя снять объявление.\n",
    "\n",
    "Так как нас интересует среднестатистическая продажа, то для выяснения скорости продажи квартиры отбросим эти исключения и посчитаем среднее и медиану:"
   ]
  },
  {
   "cell_type": "code",
   "execution_count": 86,
   "metadata": {},
   "outputs": [
    {
     "name": "stdout",
     "output_type": "stream",
     "text": [
      "Среднее количество дней 2.0: 126.58041125541125\n",
      "Медиана количества дней 2.0: 84.0\n"
     ]
    }
   ],
   "source": [
    "print('Среднее количество дней 2.0:', data.query('days_exposition < 500')['days_exposition'].mean())\n",
    "print('Медиана количества дней 2.0:', data.query('days_exposition < 500')['days_exposition'].median())"
   ]
  },
  {
   "cell_type": "markdown",
   "metadata": {},
   "source": [
    "Разница между значениями снизилась. \n",
    "\n",
    "Из вышеуказанного я бы сделал следующие выводы:\n",
    "- Быстрой считается продажа до 84 дней\n",
    "- Долгой можем назвать продажу выше 170 дней\n",
    "- В среднем продажа занимает от 84 до 93 дней"
   ]
  },
  {
   "cell_type": "markdown",
   "metadata": {},
   "source": [
    "#### Изучение факторов, которые влияют на общую стоимость квартиры"
   ]
  },
  {
   "cell_type": "markdown",
   "metadata": {},
   "source": [
    "Проведем исследование зависимостей по следующим факторам:\n",
    "\n",
    "- общей площади;\n",
    "- жилой площади;\n",
    "- площади кухни;\n",
    "- количества комнат;\n",
    "- этажа, на котором расположена квартира (первый, последний, другой);\n",
    "- даты размещения (день недели, месяц, год)"
   ]
  },
  {
   "cell_type": "markdown",
   "metadata": {},
   "source": [
    "Сначала посмотрим на корреляцию между факторами:"
   ]
  },
  {
   "cell_type": "code",
   "execution_count": 87,
   "metadata": {},
   "outputs": [
    {
     "data": {
      "text/html": [
       "<div>\n",
       "<style scoped>\n",
       "    .dataframe tbody tr th:only-of-type {\n",
       "        vertical-align: middle;\n",
       "    }\n",
       "\n",
       "    .dataframe tbody tr th {\n",
       "        vertical-align: top;\n",
       "    }\n",
       "\n",
       "    .dataframe thead th {\n",
       "        text-align: right;\n",
       "    }\n",
       "</style>\n",
       "<table border=\"1\" class=\"dataframe\">\n",
       "  <thead>\n",
       "    <tr style=\"text-align: right;\">\n",
       "      <th></th>\n",
       "      <th>last_price</th>\n",
       "      <th>total_area</th>\n",
       "      <th>living_area</th>\n",
       "      <th>kitchen_area</th>\n",
       "      <th>rooms</th>\n",
       "      <th>day_week</th>\n",
       "      <th>month</th>\n",
       "      <th>year</th>\n",
       "    </tr>\n",
       "  </thead>\n",
       "  <tbody>\n",
       "    <tr>\n",
       "      <th>last_price</th>\n",
       "      <td>1.0</td>\n",
       "      <td>0.753682</td>\n",
       "      <td>0.661305</td>\n",
       "      <td>0.56046</td>\n",
       "      <td>0.454565</td>\n",
       "      <td>-0.000726</td>\n",
       "      <td>0.007455</td>\n",
       "      <td>-0.039327</td>\n",
       "    </tr>\n",
       "  </tbody>\n",
       "</table>\n",
       "</div>"
      ],
      "text/plain": [
       "            last_price  total_area  living_area  kitchen_area     rooms  \\\n",
       "last_price         1.0    0.753682     0.661305       0.56046  0.454565   \n",
       "\n",
       "            day_week     month      year  \n",
       "last_price -0.000726  0.007455 -0.039327  "
      ]
     },
     "execution_count": 87,
     "metadata": {},
     "output_type": "execute_result"
    }
   ],
   "source": [
    "col_factor = ['last_price', 'total_area', 'living_area', 'kitchen_area', 'rooms', 'floor_type', 'day_week', 'month', 'year']\n",
    "data[col_factor].corr().head(1)"
   ]
  },
  {
   "cell_type": "markdown",
   "metadata": {},
   "source": [
    "Согласно корреляции больше всего влияния на общую стоимость имеют (по убыванию):\n",
    "- общая площадь\n",
    "- жилая площадь\n",
    "- площадь кухни"
   ]
  },
  {
   "cell_type": "markdown",
   "metadata": {},
   "source": [
    "Разберем каждый критерий отдельно:"
   ]
  },
  {
   "cell_type": "markdown",
   "metadata": {},
   "source": [
    "***total_area***"
   ]
  },
  {
   "cell_type": "code",
   "execution_count": 88,
   "metadata": {},
   "outputs": [
    {
     "data": {
      "text/plain": [
       "<AxesSubplot:xlabel='last_price', ylabel='total_area'>"
      ]
     },
     "execution_count": 88,
     "metadata": {},
     "output_type": "execute_result"
    },
    {
     "data": {
      "image/png": "[encoded data removed]",
      "text/plain": [
       "<Figure size 432x288 with 1 Axes>"
      ]
     },
     "metadata": {
      "needs_background": "light"
     },
     "output_type": "display_data"
    }
   ],
   "source": [
    "data.plot(x='last_price', y='total_area', kind='scatter', alpha=0.1)"
   ]
  },
  {
   "cell_type": "markdown",
   "metadata": {},
   "source": [
    "***Вывод:*** Общая площадь влияет на стоимость квартиры в положительную сторону."
   ]
  },
  {
   "cell_type": "markdown",
   "metadata": {},
   "source": [
    "***living_area***"
   ]
  },
  {
   "cell_type": "code",
   "execution_count": 89,
   "metadata": {},
   "outputs": [
    {
     "data": {
      "text/plain": [
       "<AxesSubplot:xlabel='last_price', ylabel='living_area'>"
      ]
     },
     "execution_count": 89,
     "metadata": {},
     "output_type": "execute_result"
    },
    {
     "data": {
      "image/png": "[encoded data removed]",
      "text/plain": [
       "<Figure size 432x288 with 1 Axes>"
      ]
     },
     "metadata": {
      "needs_background": "light"
     },
     "output_type": "display_data"
    }
   ],
   "source": [
    "data.plot(x='last_price', y='living_area', kind='scatter', alpha=0.1)"
   ]
  },
  {
   "cell_type": "markdown",
   "metadata": {},
   "source": [
    "***Вывод:*** Жилая площадь влияет на стоимость квартиры в положительную сторону."
   ]
  },
  {
   "cell_type": "markdown",
   "metadata": {},
   "source": [
    "***kitchen_area***"
   ]
  },
  {
   "cell_type": "code",
   "execution_count": 90,
   "metadata": {},
   "outputs": [
    {
     "data": {
      "text/plain": [
       "<AxesSubplot:xlabel='last_price', ylabel='kitchen_area'>"
      ]
     },
     "execution_count": 90,
     "metadata": {},
     "output_type": "execute_result"
    },
    {
     "data": {
      "image/png": "[encoded data removed]",
      "text/plain": [
       "<Figure size 432x288 with 1 Axes>"
      ]
     },
     "metadata": {
      "needs_background": "light"
     },
     "output_type": "display_data"
    }
   ],
   "source": [
    "data.plot(x='last_price', y='kitchen_area', kind='scatter', alpha=0.1)"
   ]
  },
  {
   "cell_type": "markdown",
   "metadata": {},
   "source": [
    "***Вывод:*** Жилая площадь влияет на стоимость квартиры в положительную сторону."
   ]
  },
  {
   "cell_type": "markdown",
   "metadata": {},
   "source": [
    "***rooms***"
   ]
  },
  {
   "cell_type": "code",
   "execution_count": 91,
   "metadata": {},
   "outputs": [
    {
     "data": {
      "text/plain": [
       "<AxesSubplot:xlabel='rooms'>"
      ]
     },
     "execution_count": 91,
     "metadata": {},
     "output_type": "execute_result"
    },
    {
     "data": {
      "image/png": "[encoded data removed]",
      "text/plain": [
       "<Figure size 432x288 with 1 Axes>"
      ]
     },
     "metadata": {
      "needs_background": "light"
     },
     "output_type": "display_data"
    }
   ],
   "source": [
    "data.pivot_table(index='rooms',values='last_price', aggfunc='median').plot(y='last_price', kind='bar')"
   ]
  },
  {
   "cell_type": "markdown",
   "metadata": {},
   "source": [
    "***Вывод:*** По графику видим абсолютный рост по мере увеличения числа комнат. Однако это может быть связано и с увеличенным метражом."
   ]
  },
  {
   "cell_type": "markdown",
   "metadata": {},
   "source": [
    "***floor_type***"
   ]
  },
  {
   "cell_type": "code",
   "execution_count": 92,
   "metadata": {},
   "outputs": [
    {
     "data": {
      "text/plain": [
       "<AxesSubplot:xlabel='floor_type'>"
      ]
     },
     "execution_count": 92,
     "metadata": {},
     "output_type": "execute_result"
    },
    {
     "data": {
      "image/png": "[encoded data removed]",
      "text/plain": [
       "<Figure size 432x288 with 1 Axes>"
      ]
     },
     "metadata": {
      "needs_background": "light"
     },
     "output_type": "display_data"
    }
   ],
   "source": [
    "data.pivot_table(index='floor_type',values='last_price', aggfunc='median').plot(y='last_price', kind='line')"
   ]
  },
  {
   "cell_type": "markdown",
   "metadata": {},
   "source": [
    "***Вывод:*** Корреляции нет, но можем сделать вывод, что стоимость значительно ниже у первого этажа, выше у последнего, а наибольшей стоимостью обладают этажи между первым и последним."
   ]
  },
  {
   "cell_type": "markdown",
   "metadata": {},
   "source": [
    "***day_week***"
   ]
  },
  {
   "cell_type": "code",
   "execution_count": 93,
   "metadata": {},
   "outputs": [
    {
     "data": {
      "text/plain": [
       "<AxesSubplot:xlabel='day_week'>"
      ]
     },
     "execution_count": 93,
     "metadata": {},
     "output_type": "execute_result"
    },
    {
     "data": {
      "image/png": "[encoded data removed]",
      "text/plain": [
       "<Figure size 432x288 with 1 Axes>"
      ]
     },
     "metadata": {
      "needs_background": "light"
     },
     "output_type": "display_data"
    }
   ],
   "source": [
    "data.pivot_table(index='day_week',values='last_price', aggfunc='median').plot(y='last_price', kind='bar')"
   ]
  },
  {
   "cell_type": "markdown",
   "metadata": {},
   "source": [
    "***Вывод:*** Цена объекта не зависит от дня недели, все показатели примерно на одном уровне."
   ]
  },
  {
   "cell_type": "markdown",
   "metadata": {},
   "source": [
    "***month***"
   ]
  },
  {
   "cell_type": "code",
   "execution_count": 94,
   "metadata": {},
   "outputs": [
    {
     "data": {
      "text/plain": [
       "<AxesSubplot:xlabel='month'>"
      ]
     },
     "execution_count": 94,
     "metadata": {},
     "output_type": "execute_result"
    },
    {
     "data": {
      "image/png": "[encoded data removed]",
      "text/plain": [
       "<Figure size 432x288 with 1 Axes>"
      ]
     },
     "metadata": {
      "needs_background": "light"
     },
     "output_type": "display_data"
    }
   ],
   "source": [
    "data.pivot_table(index='month',values='last_price', aggfunc='median').plot(y='last_price', kind='bar')"
   ]
  },
  {
   "cell_type": "markdown",
   "metadata": {},
   "source": [
    "***Вывод:*** Цена объекта не зависит от месяца, все показатели примерно на одном уровне."
   ]
  },
  {
   "cell_type": "markdown",
   "metadata": {},
   "source": [
    "***year***"
   ]
  },
  {
   "cell_type": "code",
   "execution_count": 95,
   "metadata": {},
   "outputs": [
    {
     "data": {
      "text/plain": [
       "<AxesSubplot:xlabel='year'>"
      ]
     },
     "execution_count": 95,
     "metadata": {},
     "output_type": "execute_result"
    },
    {
     "data": {
      "image/png": "[encoded data removed]",
      "text/plain": [
       "<Figure size 432x288 with 1 Axes>"
      ]
     },
     "metadata": {
      "needs_background": "light"
     },
     "output_type": "display_data"
    }
   ],
   "source": [
    "data.pivot_table(index='year',values='last_price', aggfunc='median').plot(y='last_price', kind='bar')"
   ]
  },
  {
   "cell_type": "markdown",
   "metadata": {},
   "source": [
    "***Вывод:*** Наблюдается скачек в 2014 году, но зависимость не прослеживается."
   ]
  },
  {
   "cell_type": "markdown",
   "metadata": {},
   "source": [
    "***Итоги:***\n",
    "\n",
    "Положительная корреляция наблюдается у критериев:\n",
    "- Общая площадь\n",
    "- Площадь кухни\n",
    "- Количество комнат\n",
    "\n",
    "Цена не зависит от даты размещения. \n",
    "Есть не корреляционная зависимость (скорее логическая): цены на квартиры ниже на первых этажах, чуть выше у последних и наибольше цены имеют квартиры на других этажах. "
   ]
  },
  {
   "cell_type": "markdown",
   "metadata": {},
   "source": [
    "#### Изучение средней стоимости одного квадратного метра по населенным пунктам"
   ]
  },
  {
   "cell_type": "markdown",
   "metadata": {},
   "source": [
    "Найдем населенные пункты с наибольшим количеством объявлений:"
   ]
  },
  {
   "cell_type": "code",
   "execution_count": 96,
   "metadata": {},
   "outputs": [
    {
     "data": {
      "text/html": [
       "<div>\n",
       "<style scoped>\n",
       "    .dataframe tbody tr th:only-of-type {\n",
       "        vertical-align: middle;\n",
       "    }\n",
       "\n",
       "    .dataframe tbody tr th {\n",
       "        vertical-align: top;\n",
       "    }\n",
       "\n",
       "    .dataframe thead th {\n",
       "        text-align: right;\n",
       "    }\n",
       "</style>\n",
       "<table border=\"1\" class=\"dataframe\">\n",
       "  <thead>\n",
       "    <tr style=\"text-align: right;\">\n",
       "      <th></th>\n",
       "      <th>locality_name</th>\n",
       "      <th>mean</th>\n",
       "    </tr>\n",
       "  </thead>\n",
       "  <tbody>\n",
       "    <tr>\n",
       "      <th>0</th>\n",
       "      <td>Санкт-Петербург</td>\n",
       "      <td>112886.311025</td>\n",
       "    </tr>\n",
       "    <tr>\n",
       "      <th>1</th>\n",
       "      <td>Пушкин</td>\n",
       "      <td>102656.462669</td>\n",
       "    </tr>\n",
       "    <tr>\n",
       "      <th>2</th>\n",
       "      <td>Кудрово</td>\n",
       "      <td>95316.489638</td>\n",
       "    </tr>\n",
       "    <tr>\n",
       "      <th>3</th>\n",
       "      <td>Парголово</td>\n",
       "      <td>90103.136411</td>\n",
       "    </tr>\n",
       "    <tr>\n",
       "      <th>4</th>\n",
       "      <td>Мурино</td>\n",
       "      <td>86049.932205</td>\n",
       "    </tr>\n",
       "    <tr>\n",
       "      <th>5</th>\n",
       "      <td>Шушары</td>\n",
       "      <td>78512.185573</td>\n",
       "    </tr>\n",
       "    <tr>\n",
       "      <th>6</th>\n",
       "      <td>Колпино</td>\n",
       "      <td>75310.766905</td>\n",
       "    </tr>\n",
       "    <tr>\n",
       "      <th>7</th>\n",
       "      <td>Гатчина</td>\n",
       "      <td>68799.627549</td>\n",
       "    </tr>\n",
       "    <tr>\n",
       "      <th>8</th>\n",
       "      <td>Всеволожск</td>\n",
       "      <td>68637.171374</td>\n",
       "    </tr>\n",
       "    <tr>\n",
       "      <th>9</th>\n",
       "      <td>Выборг</td>\n",
       "      <td>58189.318571</td>\n",
       "    </tr>\n",
       "  </tbody>\n",
       "</table>\n",
       "</div>"
      ],
      "text/plain": [
       "     locality_name           mean\n",
       "0  Санкт-Петербург  112886.311025\n",
       "1           Пушкин  102656.462669\n",
       "2          Кудрово   95316.489638\n",
       "3        Парголово   90103.136411\n",
       "4           Мурино   86049.932205\n",
       "5           Шушары   78512.185573\n",
       "6          Колпино   75310.766905\n",
       "7          Гатчина   68799.627549\n",
       "8       Всеволожск   68637.171374\n",
       "9           Выборг   58189.318571"
      ]
     },
     "execution_count": 96,
     "metadata": {},
     "output_type": "execute_result"
    }
   ],
   "source": [
    "top_locality = data.pivot_table(index='locality_name', values='square_price', aggfunc=('count', 'mean'))\n",
    "top_locality = top_locality.sort_values(by='count', ascending=False).head(10)\n",
    "top_locality = top_locality.reset_index().rename(columns = {'index':'locality_name'}).sort_values(by='mean', ascending=False)\n",
    "top_locality = top_locality[['locality_name', 'mean']].reset_index(drop=True)\n",
    "top_locality"
   ]
  },
  {
   "cell_type": "markdown",
   "metadata": {},
   "source": [
    "Выведем населенные пункты с наибольшей и наименьшей стоимостью:"
   ]
  },
  {
   "cell_type": "code",
   "execution_count": 97,
   "metadata": {},
   "outputs": [
    {
     "data": {
      "text/html": [
       "<div>\n",
       "<style scoped>\n",
       "    .dataframe tbody tr th:only-of-type {\n",
       "        vertical-align: middle;\n",
       "    }\n",
       "\n",
       "    .dataframe tbody tr th {\n",
       "        vertical-align: top;\n",
       "    }\n",
       "\n",
       "    .dataframe thead th {\n",
       "        text-align: right;\n",
       "    }\n",
       "</style>\n",
       "<table border=\"1\" class=\"dataframe\">\n",
       "  <thead>\n",
       "    <tr style=\"text-align: right;\">\n",
       "      <th></th>\n",
       "      <th>locality_name</th>\n",
       "      <th>mean</th>\n",
       "    </tr>\n",
       "  </thead>\n",
       "  <tbody>\n",
       "    <tr>\n",
       "      <th>0</th>\n",
       "      <td>Санкт-Петербург</td>\n",
       "      <td>112886.311025</td>\n",
       "    </tr>\n",
       "    <tr>\n",
       "      <th>9</th>\n",
       "      <td>Выборг</td>\n",
       "      <td>58189.318571</td>\n",
       "    </tr>\n",
       "  </tbody>\n",
       "</table>\n",
       "</div>"
      ],
      "text/plain": [
       "     locality_name           mean\n",
       "0  Санкт-Петербург  112886.311025\n",
       "9           Выборг   58189.318571"
      ]
     },
     "execution_count": 97,
     "metadata": {},
     "output_type": "execute_result"
    }
   ],
   "source": [
    "top_locality.query('mean == mean.max() or mean == mean.min()')"
   ]
  },
  {
   "cell_type": "markdown",
   "metadata": {},
   "source": [
    "Дополнительно хотел бы посмотреть на населенные пункты с меньшими средними стоимостями одного квадратного метра:"
   ]
  },
  {
   "cell_type": "code",
   "execution_count": 98,
   "metadata": {},
   "outputs": [
    {
     "data": {
      "text/html": [
       "<div>\n",
       "<style scoped>\n",
       "    .dataframe tbody tr th:only-of-type {\n",
       "        vertical-align: middle;\n",
       "    }\n",
       "\n",
       "    .dataframe tbody tr th {\n",
       "        vertical-align: top;\n",
       "    }\n",
       "\n",
       "    .dataframe thead th {\n",
       "        text-align: right;\n",
       "    }\n",
       "</style>\n",
       "<table border=\"1\" class=\"dataframe\">\n",
       "  <thead>\n",
       "    <tr style=\"text-align: right;\">\n",
       "      <th></th>\n",
       "      <th>locality_name</th>\n",
       "      <th>mean</th>\n",
       "    </tr>\n",
       "  </thead>\n",
       "  <tbody>\n",
       "    <tr>\n",
       "      <th>0</th>\n",
       "      <td>Сижно</td>\n",
       "      <td>13709.68</td>\n",
       "    </tr>\n",
       "    <tr>\n",
       "      <th>1</th>\n",
       "      <td>Лесная Поляна</td>\n",
       "      <td>22580.65</td>\n",
       "    </tr>\n",
       "    <tr>\n",
       "      <th>2</th>\n",
       "      <td>Куровицы</td>\n",
       "      <td>22593.32</td>\n",
       "    </tr>\n",
       "    <tr>\n",
       "      <th>3</th>\n",
       "      <td>Кондратьево</td>\n",
       "      <td>25000.00</td>\n",
       "    </tr>\n",
       "    <tr>\n",
       "      <th>4</th>\n",
       "      <td>Курковицы</td>\n",
       "      <td>25606.47</td>\n",
       "    </tr>\n",
       "    <tr>\n",
       "      <th>5</th>\n",
       "      <td>Семиозерье</td>\n",
       "      <td>35714.29</td>\n",
       "    </tr>\n",
       "    <tr>\n",
       "      <th>6</th>\n",
       "      <td>Кривко</td>\n",
       "      <td>36619.72</td>\n",
       "    </tr>\n",
       "    <tr>\n",
       "      <th>7</th>\n",
       "      <td>Снегиревка</td>\n",
       "      <td>48575.31</td>\n",
       "    </tr>\n",
       "    <tr>\n",
       "      <th>8</th>\n",
       "      <td>Лаврики</td>\n",
       "      <td>51551.48</td>\n",
       "    </tr>\n",
       "    <tr>\n",
       "      <th>9</th>\n",
       "      <td>Левашово</td>\n",
       "      <td>96997.69</td>\n",
       "    </tr>\n",
       "  </tbody>\n",
       "</table>\n",
       "</div>"
      ],
      "text/plain": [
       "   locality_name      mean\n",
       "0          Сижно  13709.68\n",
       "1  Лесная Поляна  22580.65\n",
       "2       Куровицы  22593.32\n",
       "3    Кондратьево  25000.00\n",
       "4      Курковицы  25606.47\n",
       "5     Семиозерье  35714.29\n",
       "6         Кривко  36619.72\n",
       "7     Снегиревка  48575.31\n",
       "8        Лаврики  51551.48\n",
       "9       Левашово  96997.69"
      ]
     },
     "execution_count": 98,
     "metadata": {},
     "output_type": "execute_result"
    }
   ],
   "source": [
    "notop_locality = data.pivot_table(index='locality_name', values='square_price', aggfunc=('count', 'mean'))\n",
    "notop_locality = notop_locality.sort_values(by='count', ascending=True).head(10)\n",
    "notop_locality = notop_locality.reset_index().rename(columns = {'index':'locality_name'}).sort_values(by='mean', ascending=True)\n",
    "notop_locality = notop_locality[['locality_name', 'mean']].reset_index(drop=True)\n",
    "notop_locality"
   ]
  },
  {
   "cell_type": "markdown",
   "metadata": {},
   "source": [
    "#### Исследование зависимости стоимости от расстояния до центра по Санкт-Петербургу"
   ]
  },
  {
   "cell_type": "markdown",
   "metadata": {},
   "source": [
    "Для выяснения зависимости визуализируем как удаленность влияет на среднюю цену квартиры:"
   ]
  },
  {
   "cell_type": "code",
   "execution_count": 99,
   "metadata": {},
   "outputs": [
    {
     "data": {
      "text/plain": [
       "Text(0, 0.5, 'Средняя стоимость')"
      ]
     },
     "execution_count": 99,
     "metadata": {},
     "output_type": "execute_result"
    },
    {
     "data": {
      "image/png": "[encoded data removed]",
      "text/plain": [
       "<Figure size 720x360 with 1 Axes>"
      ]
     },
     "metadata": {
      "needs_background": "light"
     },
     "output_type": "display_data"
    }
   ],
   "source": [
    "(\n",
    "data[data['locality_name']=='Санкт-Петербург'].\n",
    "    pivot_table(index='city_centers_nearest_km', \n",
    "                values='last_price', aggfunc='mean').plot(kind='line', grid=True, figsize=(10, 5))\n",
    ")    \n",
    "plt.xlabel('Расстояние до центра')\n",
    "plt.ylabel('Средняя стоимость')"
   ]
  },
  {
   "cell_type": "markdown",
   "metadata": {},
   "source": [
    "***Вывод:*** По графику видим, что стоимость действительно зависит от приближения к центру, тем не менее есть пик около 27 км, согласно топу населенных пунктов по стоимости квартир именно на этом расстоянии могут располагаться следующие населенные пункты после Санкт-Петербурга."
   ]
  },
  {
   "cell_type": "markdown",
   "metadata": {},
   "source": [
    "Посчитаем среднюю стоимость километра в Санкт-Петербурге:"
   ]
  },
  {
   "cell_type": "code",
   "execution_count": 100,
   "metadata": {},
   "outputs": [
    {
     "data": {
      "text/plain": [
       "629382.68"
      ]
     },
     "execution_count": 100,
     "metadata": {},
     "output_type": "execute_result"
    }
   ],
   "source": [
    "mean_km = data.query('locality_name == \"Санкт-Петербург\"')['last_price'].mean() / data.query('locality_name == \"Санкт-Петербург\"')['city_centers_nearest_km'].mean()\n",
    "mean_km.round(2)"
   ]
  },
  {
   "cell_type": "markdown",
   "metadata": {},
   "source": [
    "### Общий вывод"
   ]
  },
  {
   "cell_type": "markdown",
   "metadata": {},
   "source": [
    "1. ***Предобработка данных***\n",
    "\n",
    "   1.1 ***Работа с пропусками***\n",
    "   \n",
    "   Число балконов, число парков, число водоемов заменили на нули (пустые данные в этих столбцах могут свидетельствовать об отсутствии той или иной характеристики)\n",
    "   \n",
    "   Апартаменты заменили на False (пустые данные могут означать, что объект не является апартаментами)\n",
    "   \n",
    "   Остальные пропуски оставили незаполненными, нет возможности получить максимально приближенные к действительности данные.\n",
    "   \n",
    "   1.2 ***Изменение типов данных***\n",
    "   \n",
    "   В столбцах, которые содержали целые числа, но имели тип float заменили тип на int \n",
    "   first_day_exposition содержит дату и время, заменили тип на datetime, так как это позволяет обрабатывать данные, именно это позволило создать другие столбцы с днем недели, месяцев и годом.\n",
    "   \n",
    "   1.3 ***Работа с дубликатами***\n",
    "   \n",
    "   В столбце locality_name удалили тип населенного пункта, оставив только сами названия, все \"ё\" заменили на \"е\"\n",
    "   \n",
    "   1.4 ***Работа с выбросами***\n",
    "   \n",
    "   Выполнены следующие изменения:\n",
    "\n",
    "   - last_price удалены объявления со стоимостью менее 100.000 и более 100.000.000;\n",
    "   - total_area удалены объявления с метражом более 500;\n",
    "   - rooms удалены объявления с более 7 комнатами;\n",
    "   - ceiling_height дециметры переведены в метры, удалены объявления с высотой потолка меньше 2,4 и больше 3,6;\n",
    "   - floors_total удалены объявления с количеством этажей в доме более 30;\n",
    "   - living_area проверили не является ли жилая площадь больше общей, удалены объявления со значениями меньше 10 и больше 200;\n",
    "   - floor проверили не указан ли этаж больше, чем всего в доме, объявления не удаляли;\n",
    "   - kitchen_area удалили объявления с площадью кухни менее 4 и более 50;\n",
    "   - balcony объявления не удаляли;\n",
    "   - days_exposition - удалили слишком старые объявления со значениями более 1100.\n",
    "   \n",
    "   \n",
    "2. ***Добавление данных***\n",
    "   \n",
    "   Для дальнейшего исследования добавили столбцы со следующими данными:\n",
    "   - цена одного квадратного метра;\n",
    "   - день недели публикации объявления (0 — понедельник, 1 — вторник и так далее);\n",
    "   - месяц публикации объявления;\n",
    "   - год публикации объявления;\n",
    "   - тип этажа квартиры (значения — «первый», «последний», «другой»);\n",
    "   - расстояние до центра города в километрах (переведите из м в км и округлите до целых значений).\n",
    "   \n",
    "   \n",
    "3. ***Исследование данных***\n",
    "\n",
    "   3.1 ***Изучение параметров объектов***\n",
    "   \n",
    "   В ходе изучения сделаны следующие выводы:\n",
    "   - количество квартир больше 100 квадратных метров меньше, а значительно меньше квартир с площадью больше 300 квадратных метра. Большая часть квартир имеет метраж примерно от 30 до 60 квадратных метра;\n",
    "   - есть постепенное снижение количества квартир после отметки в 50 квадратных метра жилой площади. Так же есть заметное снижение количества квартир около 23 квадратов;\n",
    "   - график распределения по площади кухни имеет плавное снижение по мере увеличения площади;\n",
    "   - распределение по общей стоимости хорошее, так же есть и объявления с достаточно высокой стоимостью, что в свою очередь связано с наличием квартир с большой площадью;\n",
    "   - большая часть квартир имеет количество комнат от 1 до 3, что похоже на реальность;\n",
    "   - большая часть квартир с высотой потолков 2.4 - 2.6, так же почти на среднем уровне высота 3.0, а между - заметный спад;\n",
    "   - больше всего квартир находятся не на первом и не на последнем этажах, что логично, ведь количество таких этажей больше, если учесть, что домов с двумя этажами мало;\n",
    "   - больше всего квартир на невысоких этажах до пятого включительно, что связано с распределением общего количества этажей в домах;\n",
    "   - по общему количеству этажей есть заметные пики на отметках в 5 и 9 этажей, неудивительно, ведь это самые распространенные этажности. Так же есть пики в многоэтажках, предполагаю, что это новостройки в спальных районах и пригороде, многоэтажек там много;\n",
    "   - есть постепенное снижение количество квартир в зависимости от удаленности от центра, думаю и плотность самих квартир меньше при удалении от центра. Так же есть пики около 5 и 10 км;\n",
    "   - есть еле заметное снижение количества квартир по удалению от аэропорта. Достаточно много пиков и спадов;\n",
    "   - большая часть квартир находится в непосредственной близости к парку, есть резкий спад после примерно 750 метров;\n",
    "   - чаще всего объявления публикуются в будние дни. Так же наибольшую активность в продаже проявляют с февраля по апрель, с июня по ноябрь активность постепенно набирает обороты, но с небольшим спадом в июле.\n",
    "   \n",
    "   3.2 ***Изучение скорости продажи квартиры***\n",
    "   \n",
    "   В ходе исследования сделаны следующие выводы:\n",
    "   - Быстрой считается продажа до 84 дней;\n",
    "   - Долгой можем назвать продажу выше 170 дней;\n",
    "   - В среднем продажа занимает от 84 до 93 дней.\n",
    "   \n",
    "   3.3 ***Изучение факторов, которые влияют на общую стоимость квартиры***\n",
    "   \n",
    "   Положительная корреляция наблюдается у следующих факторов:\n",
    "   - Общая площадь\n",
    "   - Площадь кухни\n",
    "   - Количество комнат\n",
    "   \n",
    "   Цена не зависит от даты размещения. \n",
    "   \n",
    "   Есть не корреляционная зависимость (скорее логическая): цены на квартиры ниже на первых этажах, чуть выше у последних и наибольше цены имеют квартиры на других этажах. \n",
    "   \n",
    "   3.4 ***Изучение средней стоимости одного квадратного метра по населенным пунктам***\n",
    "   \n",
    "   По данным из выборки самым дорогим городом для покупки квартиры стал Санкт-Петербург, а самой дешевой деревня Сижно\n",
    "   \n",
    "   Данные по топ 10 населенным пунктам по стоимости одного квадратного метра выглядят так:\n",
    "   \n",
    "   - 1 . Санкт-Петербург --\t112886.311025\n",
    "   - 2 . Пушкин\t-- 102656.462669\n",
    "   - 3 . Кудрово -- 95316.489638\n",
    "   - 4 . Парголово\t-- 90103.136411\n",
    "   - 5 . Мурино\t-- 86049.932205\n",
    "   - 6 . Шушары\t-- 78512.185573\n",
    "   - 7 . Колпино -- 75310.766905\n",
    "   - 8 . Гатчина -- 68799.627549\n",
    "   - 9 . Всеволожск\t -- 68637.171374\n",
    "   - 10 . Выборг\t-- 58189.318571\n",
    "   \n",
    "   3.5 ***Исследование зависимости стоимости от расстояния до центра по Санкт-Петербургу***\n",
    "   \n",
    "   Увеличение стоимости зависит от приближения к центру, тем не менее есть пик около 27 км, согласно топу населенных пунктов по стоимости квартир именно на этом расстоянии могут располагаться следующие населенные пункты после Санкт-Петербурга.\n",
    "   "
   ]
  }
 ],
 "metadata": {
  "ExecuteTimeLog": [
   {
    "duration": 754,
    "start_time": "2023-04-06T09:17:07.988Z"
   },
   {
    "duration": 19,
    "start_time": "2023-04-06T09:18:59.117Z"
   },
   {
    "duration": 158,
    "start_time": "2023-04-06T09:22:45.931Z"
   },
   {
    "duration": 18,
    "start_time": "2023-04-06T09:24:56.324Z"
   },
   {
    "duration": 13,
    "start_time": "2023-04-06T09:38:46.111Z"
   },
   {
    "duration": 13,
    "start_time": "2023-04-06T09:47:55.064Z"
   },
   {
    "duration": 16,
    "start_time": "2023-04-06T09:48:10.440Z"
   },
   {
    "duration": 13,
    "start_time": "2023-04-06T09:48:21.250Z"
   },
   {
    "duration": 81,
    "start_time": "2023-04-06T10:36:43.286Z"
   },
   {
    "duration": 4,
    "start_time": "2023-04-06T10:37:09.723Z"
   },
   {
    "duration": 4,
    "start_time": "2023-04-06T10:41:36.012Z"
   },
   {
    "duration": 11,
    "start_time": "2023-04-06T10:57:55.801Z"
   },
   {
    "duration": 47,
    "start_time": "2023-04-06T11:00:39.952Z"
   },
   {
    "duration": 245,
    "start_time": "2023-04-06T11:01:04.631Z"
   },
   {
    "duration": 45,
    "start_time": "2023-04-06T11:01:11.147Z"
   },
   {
    "duration": 136,
    "start_time": "2023-04-06T11:01:17.739Z"
   },
   {
    "duration": 7,
    "start_time": "2023-04-06T11:01:45.223Z"
   },
   {
    "duration": 4,
    "start_time": "2023-04-06T11:01:49.347Z"
   },
   {
    "duration": 113,
    "start_time": "2023-04-06T11:32:01.691Z"
   },
   {
    "duration": 10,
    "start_time": "2023-04-06T11:37:15.463Z"
   },
   {
    "duration": 5,
    "start_time": "2023-04-06T11:58:27.374Z"
   },
   {
    "duration": 4,
    "start_time": "2023-04-06T11:59:48.671Z"
   },
   {
    "duration": 4,
    "start_time": "2023-04-06T12:03:16.679Z"
   },
   {
    "duration": 4325,
    "start_time": "2023-04-06T12:05:14.197Z"
   },
   {
    "duration": 5,
    "start_time": "2023-04-06T12:07:51.859Z"
   },
   {
    "duration": 6411,
    "start_time": "2023-04-06T12:07:52.969Z"
   },
   {
    "duration": 4,
    "start_time": "2023-04-06T12:12:57.825Z"
   },
   {
    "duration": 11,
    "start_time": "2023-04-06T12:12:59.822Z"
   },
   {
    "duration": 4,
    "start_time": "2023-04-06T12:13:19.514Z"
   },
   {
    "duration": 14,
    "start_time": "2023-04-06T12:13:20.271Z"
   },
   {
    "duration": 4,
    "start_time": "2023-04-06T12:13:31.171Z"
   },
   {
    "duration": 3177,
    "start_time": "2023-04-06T12:13:31.822Z"
   },
   {
    "duration": 84,
    "start_time": "2023-04-06T12:13:44.855Z"
   },
   {
    "duration": 7,
    "start_time": "2023-04-06T12:13:44.941Z"
   },
   {
    "duration": 110,
    "start_time": "2023-04-06T12:13:44.949Z"
   },
   {
    "duration": 13,
    "start_time": "2023-04-06T12:13:45.061Z"
   },
   {
    "duration": 4,
    "start_time": "2023-04-06T12:13:45.088Z"
   },
   {
    "duration": 8,
    "start_time": "2023-04-06T12:13:45.094Z"
   },
   {
    "duration": 13,
    "start_time": "2023-04-06T12:13:45.103Z"
   },
   {
    "duration": 10,
    "start_time": "2023-04-06T12:13:45.117Z"
   },
   {
    "duration": 3902,
    "start_time": "2023-04-06T12:13:45.129Z"
   },
   {
    "duration": 4,
    "start_time": "2023-04-06T12:15:35.885Z"
   },
   {
    "duration": 1829,
    "start_time": "2023-04-06T12:15:38.117Z"
   },
   {
    "duration": 4,
    "start_time": "2023-04-06T12:16:35.416Z"
   },
   {
    "duration": 1589,
    "start_time": "2023-04-06T12:16:37.351Z"
   },
   {
    "duration": 2833,
    "start_time": "2023-04-06T12:19:11.351Z"
   },
   {
    "duration": 1830,
    "start_time": "2023-04-06T12:19:32.936Z"
   },
   {
    "duration": 57,
    "start_time": "2023-04-07T11:06:26.705Z"
   },
   {
    "duration": 51,
    "start_time": "2023-04-07T14:51:18.875Z"
   },
   {
    "duration": 7,
    "start_time": "2023-04-07T14:52:00.681Z"
   },
   {
    "duration": 675,
    "start_time": "2023-04-07T14:52:08.741Z"
   },
   {
    "duration": 15,
    "start_time": "2023-04-07T14:52:09.418Z"
   },
   {
    "duration": 122,
    "start_time": "2023-04-07T14:52:09.434Z"
   },
   {
    "duration": 19,
    "start_time": "2023-04-07T14:52:09.560Z"
   },
   {
    "duration": 13,
    "start_time": "2023-04-07T14:52:09.587Z"
   },
   {
    "duration": 16,
    "start_time": "2023-04-07T14:52:09.602Z"
   },
   {
    "duration": 14,
    "start_time": "2023-04-07T14:52:09.620Z"
   },
   {
    "duration": 19,
    "start_time": "2023-04-07T14:52:09.636Z"
   },
   {
    "duration": 2506,
    "start_time": "2023-04-07T14:57:45.988Z"
   },
   {
    "duration": 40,
    "start_time": "2023-04-07T15:03:17.551Z"
   },
   {
    "duration": 14,
    "start_time": "2023-04-07T15:03:24.950Z"
   },
   {
    "duration": 8,
    "start_time": "2023-04-07T15:03:47.423Z"
   },
   {
    "duration": 17,
    "start_time": "2023-04-07T15:05:32.326Z"
   },
   {
    "duration": 12,
    "start_time": "2023-04-07T15:05:49.767Z"
   },
   {
    "duration": 13,
    "start_time": "2023-04-07T15:07:07.186Z"
   },
   {
    "duration": 58,
    "start_time": "2023-04-07T15:08:48.913Z"
   },
   {
    "duration": 1526,
    "start_time": "2023-04-07T15:15:41.505Z"
   },
   {
    "duration": 52,
    "start_time": "2023-04-07T17:03:32.766Z"
   },
   {
    "duration": 537,
    "start_time": "2023-04-07T17:03:40.029Z"
   },
   {
    "duration": 15,
    "start_time": "2023-04-07T17:03:40.568Z"
   },
   {
    "duration": 136,
    "start_time": "2023-04-07T17:03:40.584Z"
   },
   {
    "duration": 15,
    "start_time": "2023-04-07T17:03:40.722Z"
   },
   {
    "duration": 2640,
    "start_time": "2023-04-07T17:03:40.739Z"
   },
   {
    "duration": 8,
    "start_time": "2023-04-07T17:03:43.381Z"
   },
   {
    "duration": 23,
    "start_time": "2023-04-07T17:03:43.391Z"
   },
   {
    "duration": 41,
    "start_time": "2023-04-07T17:03:43.416Z"
   },
   {
    "duration": 21,
    "start_time": "2023-04-07T17:03:43.459Z"
   },
   {
    "duration": 14,
    "start_time": "2023-04-07T17:03:43.482Z"
   },
   {
    "duration": 6,
    "start_time": "2023-04-07T17:06:44.492Z"
   },
   {
    "duration": 42,
    "start_time": "2023-04-07T17:07:10.107Z"
   },
   {
    "duration": 5,
    "start_time": "2023-04-07T17:07:58.566Z"
   },
   {
    "duration": 6,
    "start_time": "2023-04-07T17:09:12.366Z"
   },
   {
    "duration": 10,
    "start_time": "2023-04-07T17:12:20.967Z"
   },
   {
    "duration": 17,
    "start_time": "2023-04-07T17:12:32.382Z"
   },
   {
    "duration": 15,
    "start_time": "2023-04-07T17:20:15.903Z"
   },
   {
    "duration": 13,
    "start_time": "2023-04-07T17:22:12.484Z"
   },
   {
    "duration": 13,
    "start_time": "2023-04-07T17:22:17.819Z"
   },
   {
    "duration": 12,
    "start_time": "2023-04-07T17:22:52.963Z"
   },
   {
    "duration": 78,
    "start_time": "2023-04-07T17:22:58.236Z"
   },
   {
    "duration": 8,
    "start_time": "2023-04-07T17:22:58.316Z"
   },
   {
    "duration": 109,
    "start_time": "2023-04-07T17:22:58.325Z"
   },
   {
    "duration": 15,
    "start_time": "2023-04-07T17:22:58.436Z"
   },
   {
    "duration": 2142,
    "start_time": "2023-04-07T17:22:58.453Z"
   },
   {
    "duration": 7,
    "start_time": "2023-04-07T17:23:00.596Z"
   },
   {
    "duration": 40,
    "start_time": "2023-04-07T17:23:00.604Z"
   },
   {
    "duration": 33,
    "start_time": "2023-04-07T17:23:00.645Z"
   },
   {
    "duration": 32,
    "start_time": "2023-04-07T17:23:00.680Z"
   },
   {
    "duration": 50,
    "start_time": "2023-04-07T17:23:00.715Z"
   },
   {
    "duration": 27,
    "start_time": "2023-04-07T17:23:00.767Z"
   },
   {
    "duration": 38,
    "start_time": "2023-04-07T17:23:00.796Z"
   },
   {
    "duration": 39,
    "start_time": "2023-04-07T17:23:00.836Z"
   },
   {
    "duration": 7,
    "start_time": "2023-04-07T17:24:05.436Z"
   },
   {
    "duration": 21,
    "start_time": "2023-04-07T17:24:18.443Z"
   },
   {
    "duration": 14,
    "start_time": "2023-04-07T17:24:31.293Z"
   },
   {
    "duration": 14,
    "start_time": "2023-04-07T17:27:08.031Z"
   },
   {
    "duration": 6,
    "start_time": "2023-04-07T17:27:12.204Z"
   },
   {
    "duration": 5,
    "start_time": "2023-04-07T17:28:03.205Z"
   },
   {
    "duration": 14,
    "start_time": "2023-04-07T17:28:05.007Z"
   },
   {
    "duration": 5,
    "start_time": "2023-04-07T17:28:06.229Z"
   },
   {
    "duration": 6,
    "start_time": "2023-04-07T17:35:35.003Z"
   },
   {
    "duration": 7,
    "start_time": "2023-04-07T17:38:11.513Z"
   },
   {
    "duration": 7,
    "start_time": "2023-04-07T17:39:33.722Z"
   },
   {
    "duration": 9,
    "start_time": "2023-04-07T17:39:47.202Z"
   },
   {
    "duration": 14,
    "start_time": "2023-04-07T17:41:38.759Z"
   },
   {
    "duration": 6,
    "start_time": "2023-04-07T17:41:45.780Z"
   },
   {
    "duration": 5,
    "start_time": "2023-04-07T17:41:51.779Z"
   },
   {
    "duration": 18,
    "start_time": "2023-04-07T17:42:18.802Z"
   },
   {
    "duration": 22,
    "start_time": "2023-04-07T17:42:36.628Z"
   },
   {
    "duration": 10,
    "start_time": "2023-04-07T17:43:58.380Z"
   },
   {
    "duration": 19,
    "start_time": "2023-04-07T17:44:54.158Z"
   },
   {
    "duration": 14,
    "start_time": "2023-04-07T17:45:07.693Z"
   },
   {
    "duration": 6,
    "start_time": "2023-04-07T17:45:47.292Z"
   },
   {
    "duration": 18,
    "start_time": "2023-04-07T17:46:17.238Z"
   },
   {
    "duration": 10,
    "start_time": "2023-04-07T17:46:28.030Z"
   },
   {
    "duration": 78,
    "start_time": "2023-04-07T17:50:10.854Z"
   },
   {
    "duration": 1215,
    "start_time": "2023-04-07T17:50:52.831Z"
   },
   {
    "duration": 1129,
    "start_time": "2023-04-07T17:51:11.719Z"
   },
   {
    "duration": 77,
    "start_time": "2023-04-07T17:51:19.554Z"
   },
   {
    "duration": 7,
    "start_time": "2023-04-07T17:51:19.633Z"
   },
   {
    "duration": 111,
    "start_time": "2023-04-07T17:51:19.641Z"
   },
   {
    "duration": 14,
    "start_time": "2023-04-07T17:51:19.754Z"
   },
   {
    "duration": 2171,
    "start_time": "2023-04-07T17:51:19.770Z"
   },
   {
    "duration": 5,
    "start_time": "2023-04-07T17:51:21.943Z"
   },
   {
    "duration": 16,
    "start_time": "2023-04-07T17:51:21.950Z"
   },
   {
    "duration": 24,
    "start_time": "2023-04-07T17:51:21.968Z"
   },
   {
    "duration": 20,
    "start_time": "2023-04-07T17:51:21.995Z"
   },
   {
    "duration": 16,
    "start_time": "2023-04-07T17:51:22.018Z"
   },
   {
    "duration": 23,
    "start_time": "2023-04-07T17:51:22.036Z"
   },
   {
    "duration": 35,
    "start_time": "2023-04-07T17:51:22.062Z"
   },
   {
    "duration": 25,
    "start_time": "2023-04-07T17:51:22.099Z"
   },
   {
    "duration": 14,
    "start_time": "2023-04-07T17:51:22.126Z"
   },
   {
    "duration": 9,
    "start_time": "2023-04-07T17:51:22.142Z"
   },
   {
    "duration": 11,
    "start_time": "2023-04-07T17:51:22.152Z"
   },
   {
    "duration": 18,
    "start_time": "2023-04-07T17:51:22.165Z"
   },
   {
    "duration": 49,
    "start_time": "2023-04-08T07:42:04.840Z"
   },
   {
    "duration": 540,
    "start_time": "2023-04-08T07:42:10.743Z"
   },
   {
    "duration": 13,
    "start_time": "2023-04-08T07:42:11.285Z"
   },
   {
    "duration": 90,
    "start_time": "2023-04-08T07:42:11.299Z"
   },
   {
    "duration": 13,
    "start_time": "2023-04-08T07:42:11.391Z"
   },
   {
    "duration": 2180,
    "start_time": "2023-04-08T07:42:11.406Z"
   },
   {
    "duration": 6,
    "start_time": "2023-04-08T07:42:13.588Z"
   },
   {
    "duration": 4,
    "start_time": "2023-04-08T07:42:13.595Z"
   },
   {
    "duration": 9,
    "start_time": "2023-04-08T07:42:13.600Z"
   },
   {
    "duration": 9,
    "start_time": "2023-04-08T07:42:13.611Z"
   },
   {
    "duration": 23,
    "start_time": "2023-04-08T07:42:13.623Z"
   },
   {
    "duration": 7,
    "start_time": "2023-04-08T07:42:13.648Z"
   },
   {
    "duration": 15,
    "start_time": "2023-04-08T07:42:13.657Z"
   },
   {
    "duration": 15,
    "start_time": "2023-04-08T07:42:13.674Z"
   },
   {
    "duration": 11,
    "start_time": "2023-04-08T07:42:13.691Z"
   },
   {
    "duration": 5,
    "start_time": "2023-04-08T07:42:13.703Z"
   },
   {
    "duration": 9,
    "start_time": "2023-04-08T07:42:13.709Z"
   },
   {
    "duration": 7,
    "start_time": "2023-04-08T07:42:13.739Z"
   },
   {
    "duration": 29,
    "start_time": "2023-04-08T07:42:13.748Z"
   },
   {
    "duration": 41,
    "start_time": "2023-04-08T07:43:26.557Z"
   },
   {
    "duration": 9,
    "start_time": "2023-04-08T07:43:45.956Z"
   },
   {
    "duration": 8,
    "start_time": "2023-04-08T07:43:49.270Z"
   },
   {
    "duration": 6,
    "start_time": "2023-04-08T07:43:54.108Z"
   },
   {
    "duration": 6,
    "start_time": "2023-04-08T07:44:57.325Z"
   },
   {
    "duration": 4,
    "start_time": "2023-04-08T08:00:26.291Z"
   },
   {
    "duration": 14,
    "start_time": "2023-04-08T08:00:32.202Z"
   },
   {
    "duration": 26,
    "start_time": "2023-04-08T08:01:59.558Z"
   },
   {
    "duration": 175,
    "start_time": "2023-04-08T08:02:31.317Z"
   },
   {
    "duration": 11,
    "start_time": "2023-04-08T08:03:23.380Z"
   },
   {
    "duration": 9,
    "start_time": "2023-04-08T08:03:29.778Z"
   },
   {
    "duration": 9,
    "start_time": "2023-04-08T08:04:23.167Z"
   },
   {
    "duration": 9,
    "start_time": "2023-04-08T08:04:40.366Z"
   },
   {
    "duration": 97,
    "start_time": "2023-04-08T08:04:46.023Z"
   },
   {
    "duration": 8,
    "start_time": "2023-04-08T08:04:46.122Z"
   },
   {
    "duration": 134,
    "start_time": "2023-04-08T08:04:46.132Z"
   },
   {
    "duration": 19,
    "start_time": "2023-04-08T08:04:46.277Z"
   },
   {
    "duration": 1921,
    "start_time": "2023-04-08T08:04:46.298Z"
   },
   {
    "duration": 4,
    "start_time": "2023-04-08T08:04:48.220Z"
   },
   {
    "duration": 45,
    "start_time": "2023-04-08T08:04:48.225Z"
   },
   {
    "duration": 10,
    "start_time": "2023-04-08T08:04:48.272Z"
   },
   {
    "duration": 10,
    "start_time": "2023-04-08T08:04:48.283Z"
   },
   {
    "duration": 11,
    "start_time": "2023-04-08T08:04:48.295Z"
   },
   {
    "duration": 5,
    "start_time": "2023-04-08T08:04:48.308Z"
   },
   {
    "duration": 13,
    "start_time": "2023-04-08T08:04:48.315Z"
   },
   {
    "duration": 40,
    "start_time": "2023-04-08T08:04:48.330Z"
   },
   {
    "duration": 5,
    "start_time": "2023-04-08T08:04:48.372Z"
   },
   {
    "duration": 5,
    "start_time": "2023-04-08T08:04:48.379Z"
   },
   {
    "duration": 5,
    "start_time": "2023-04-08T08:04:48.386Z"
   },
   {
    "duration": 6,
    "start_time": "2023-04-08T08:04:48.392Z"
   },
   {
    "duration": 6,
    "start_time": "2023-04-08T08:04:48.399Z"
   },
   {
    "duration": 7,
    "start_time": "2023-04-08T08:04:48.407Z"
   },
   {
    "duration": 186,
    "start_time": "2023-04-08T08:04:48.415Z"
   },
   {
    "duration": 8,
    "start_time": "2023-04-08T08:04:48.602Z"
   },
   {
    "duration": 16,
    "start_time": "2023-04-08T08:09:00.974Z"
   },
   {
    "duration": 10,
    "start_time": "2023-04-08T08:09:26.853Z"
   },
   {
    "duration": 20,
    "start_time": "2023-04-08T08:09:38.183Z"
   },
   {
    "duration": 27,
    "start_time": "2023-04-08T08:10:17.399Z"
   },
   {
    "duration": 29,
    "start_time": "2023-04-08T08:10:27.047Z"
   },
   {
    "duration": 17,
    "start_time": "2023-04-08T08:10:33.973Z"
   },
   {
    "duration": 23,
    "start_time": "2023-04-08T08:10:40.275Z"
   },
   {
    "duration": 12,
    "start_time": "2023-04-08T08:11:22.662Z"
   },
   {
    "duration": 3,
    "start_time": "2023-04-08T08:12:20.783Z"
   },
   {
    "duration": 14,
    "start_time": "2023-04-08T08:12:24.311Z"
   },
   {
    "duration": 13,
    "start_time": "2023-04-08T08:12:36.498Z"
   },
   {
    "duration": 18,
    "start_time": "2023-04-08T08:13:50.772Z"
   },
   {
    "duration": 27,
    "start_time": "2023-04-08T08:13:58.460Z"
   },
   {
    "duration": 8,
    "start_time": "2023-04-08T08:14:08.903Z"
   },
   {
    "duration": 8,
    "start_time": "2023-04-08T08:16:45.715Z"
   },
   {
    "duration": 165,
    "start_time": "2023-04-08T08:21:56.387Z"
   },
   {
    "duration": 17,
    "start_time": "2023-04-08T08:23:06.652Z"
   },
   {
    "duration": 6,
    "start_time": "2023-04-08T08:32:47.682Z"
   },
   {
    "duration": 112,
    "start_time": "2023-04-08T10:22:44.361Z"
   },
   {
    "duration": 9,
    "start_time": "2023-04-08T10:25:58.248Z"
   },
   {
    "duration": 84,
    "start_time": "2023-04-08T10:28:11.523Z"
   },
   {
    "duration": 6,
    "start_time": "2023-04-08T10:28:11.608Z"
   },
   {
    "duration": 89,
    "start_time": "2023-04-08T10:28:11.616Z"
   },
   {
    "duration": 12,
    "start_time": "2023-04-08T10:28:11.707Z"
   },
   {
    "duration": 1756,
    "start_time": "2023-04-08T10:28:11.721Z"
   },
   {
    "duration": 4,
    "start_time": "2023-04-08T10:28:13.478Z"
   },
   {
    "duration": 4,
    "start_time": "2023-04-08T10:28:13.483Z"
   },
   {
    "duration": 8,
    "start_time": "2023-04-08T10:28:13.488Z"
   },
   {
    "duration": 9,
    "start_time": "2023-04-08T10:28:13.498Z"
   },
   {
    "duration": 44,
    "start_time": "2023-04-08T10:28:13.509Z"
   },
   {
    "duration": 6,
    "start_time": "2023-04-08T10:28:13.554Z"
   },
   {
    "duration": 12,
    "start_time": "2023-04-08T10:28:13.562Z"
   },
   {
    "duration": 5,
    "start_time": "2023-04-08T10:28:13.576Z"
   },
   {
    "duration": 6,
    "start_time": "2023-04-08T10:28:13.583Z"
   },
   {
    "duration": 6,
    "start_time": "2023-04-08T10:28:13.590Z"
   },
   {
    "duration": 6,
    "start_time": "2023-04-08T10:28:13.597Z"
   },
   {
    "duration": 50,
    "start_time": "2023-04-08T10:28:13.605Z"
   },
   {
    "duration": 7,
    "start_time": "2023-04-08T10:28:13.656Z"
   },
   {
    "duration": 7,
    "start_time": "2023-04-08T10:28:13.665Z"
   },
   {
    "duration": 138,
    "start_time": "2023-04-08T10:28:13.674Z"
   },
   {
    "duration": 11,
    "start_time": "2023-04-08T10:28:13.814Z"
   },
   {
    "duration": 32,
    "start_time": "2023-04-08T10:28:13.827Z"
   },
   {
    "duration": 6,
    "start_time": "2023-04-08T10:28:13.861Z"
   },
   {
    "duration": 130,
    "start_time": "2023-04-08T10:28:13.869Z"
   },
   {
    "duration": 8,
    "start_time": "2023-04-08T10:28:14.000Z"
   },
   {
    "duration": 573,
    "start_time": "2023-04-08T10:28:26.978Z"
   },
   {
    "duration": 9,
    "start_time": "2023-04-08T10:29:16.394Z"
   },
   {
    "duration": 8,
    "start_time": "2023-04-08T10:29:24.498Z"
   },
   {
    "duration": 7,
    "start_time": "2023-04-08T10:29:28.603Z"
   },
   {
    "duration": 131,
    "start_time": "2023-04-08T10:29:46.034Z"
   },
   {
    "duration": 8,
    "start_time": "2023-04-08T10:31:13.580Z"
   },
   {
    "duration": 108,
    "start_time": "2023-04-08T10:31:32.627Z"
   },
   {
    "duration": 4,
    "start_time": "2023-04-08T10:32:01.227Z"
   },
   {
    "duration": 5,
    "start_time": "2023-04-08T10:33:09.988Z"
   },
   {
    "duration": 4,
    "start_time": "2023-04-08T10:35:04.006Z"
   },
   {
    "duration": 9,
    "start_time": "2023-04-08T10:42:44.933Z"
   },
   {
    "duration": 4,
    "start_time": "2023-04-08T10:42:52.566Z"
   },
   {
    "duration": 35,
    "start_time": "2023-04-08T10:47:06.299Z"
   },
   {
    "duration": 10,
    "start_time": "2023-04-08T10:47:18.123Z"
   },
   {
    "duration": 8,
    "start_time": "2023-04-08T10:47:30.805Z"
   },
   {
    "duration": 9,
    "start_time": "2023-04-08T10:48:41.668Z"
   },
   {
    "duration": 12,
    "start_time": "2023-04-08T10:49:01.858Z"
   },
   {
    "duration": 10,
    "start_time": "2023-04-08T10:49:15.970Z"
   },
   {
    "duration": 7,
    "start_time": "2023-04-08T10:57:07.525Z"
   },
   {
    "duration": 10,
    "start_time": "2023-04-08T10:57:16.908Z"
   },
   {
    "duration": 16,
    "start_time": "2023-04-08T10:57:34.164Z"
   },
   {
    "duration": 40,
    "start_time": "2023-04-08T10:57:40.228Z"
   },
   {
    "duration": 22,
    "start_time": "2023-04-08T10:59:05.460Z"
   },
   {
    "duration": 161,
    "start_time": "2023-04-08T11:01:22.506Z"
   },
   {
    "duration": 176,
    "start_time": "2023-04-08T11:01:30.490Z"
   },
   {
    "duration": 201,
    "start_time": "2023-04-08T11:01:37.067Z"
   },
   {
    "duration": 195,
    "start_time": "2023-04-08T11:01:43.530Z"
   },
   {
    "duration": 190,
    "start_time": "2023-04-08T11:01:53.195Z"
   },
   {
    "duration": 285,
    "start_time": "2023-04-08T11:02:00.874Z"
   },
   {
    "duration": 200,
    "start_time": "2023-04-08T11:02:09.463Z"
   },
   {
    "duration": 90,
    "start_time": "2023-04-08T11:02:24.037Z"
   },
   {
    "duration": 6,
    "start_time": "2023-04-08T11:02:24.128Z"
   },
   {
    "duration": 94,
    "start_time": "2023-04-08T11:02:24.135Z"
   },
   {
    "duration": 18,
    "start_time": "2023-04-08T11:02:24.231Z"
   },
   {
    "duration": 1699,
    "start_time": "2023-04-08T11:02:24.254Z"
   },
   {
    "duration": 8,
    "start_time": "2023-04-08T11:02:25.954Z"
   },
   {
    "duration": 6,
    "start_time": "2023-04-08T11:02:25.963Z"
   },
   {
    "duration": 8,
    "start_time": "2023-04-08T11:02:25.971Z"
   },
   {
    "duration": 10,
    "start_time": "2023-04-08T11:02:25.980Z"
   },
   {
    "duration": 11,
    "start_time": "2023-04-08T11:02:25.992Z"
   },
   {
    "duration": 5,
    "start_time": "2023-04-08T11:02:26.004Z"
   },
   {
    "duration": 56,
    "start_time": "2023-04-08T11:02:26.010Z"
   },
   {
    "duration": 6,
    "start_time": "2023-04-08T11:02:26.067Z"
   },
   {
    "duration": 5,
    "start_time": "2023-04-08T11:02:26.075Z"
   },
   {
    "duration": 5,
    "start_time": "2023-04-08T11:02:26.081Z"
   },
   {
    "duration": 5,
    "start_time": "2023-04-08T11:02:26.087Z"
   },
   {
    "duration": 5,
    "start_time": "2023-04-08T11:02:26.093Z"
   },
   {
    "duration": 13,
    "start_time": "2023-04-08T11:02:26.099Z"
   },
   {
    "duration": 13,
    "start_time": "2023-04-08T11:02:26.113Z"
   },
   {
    "duration": 208,
    "start_time": "2023-04-08T11:02:26.127Z"
   },
   {
    "duration": 33,
    "start_time": "2023-04-08T11:02:26.337Z"
   },
   {
    "duration": 36,
    "start_time": "2023-04-08T11:02:26.371Z"
   },
   {
    "duration": 15,
    "start_time": "2023-04-08T11:02:26.409Z"
   },
   {
    "duration": 145,
    "start_time": "2023-04-08T11:02:26.426Z"
   },
   {
    "duration": 310,
    "start_time": "2023-04-08T11:02:26.574Z"
   },
   {
    "duration": 15,
    "start_time": "2023-04-08T11:02:26.886Z"
   },
   {
    "duration": 54,
    "start_time": "2023-04-08T11:02:26.903Z"
   },
   {
    "duration": 221,
    "start_time": "2023-04-08T11:03:16.132Z"
   },
   {
    "duration": 189,
    "start_time": "2023-04-08T11:03:23.623Z"
   },
   {
    "duration": 5990,
    "start_time": "2023-04-08T11:04:01.012Z"
   },
   {
    "duration": 227,
    "start_time": "2023-04-08T11:04:15.973Z"
   },
   {
    "duration": 214,
    "start_time": "2023-04-08T11:05:02.998Z"
   },
   {
    "duration": 207,
    "start_time": "2023-04-08T11:05:18.598Z"
   },
   {
    "duration": 121,
    "start_time": "2023-04-08T11:06:07.790Z"
   },
   {
    "duration": 168,
    "start_time": "2023-04-08T11:12:06.588Z"
   },
   {
    "duration": 488,
    "start_time": "2023-04-08T11:12:27.667Z"
   },
   {
    "duration": 246,
    "start_time": "2023-04-08T11:12:54.576Z"
   },
   {
    "duration": 115,
    "start_time": "2023-04-08T11:12:59.092Z"
   },
   {
    "duration": 108,
    "start_time": "2023-04-08T11:13:02.733Z"
   },
   {
    "duration": 204,
    "start_time": "2023-04-08T11:13:15.454Z"
   },
   {
    "duration": 161,
    "start_time": "2023-04-08T11:13:35.364Z"
   },
   {
    "duration": 167,
    "start_time": "2023-04-08T11:14:47.288Z"
   },
   {
    "duration": 154,
    "start_time": "2023-04-08T11:16:05.680Z"
   },
   {
    "duration": 159,
    "start_time": "2023-04-08T11:16:27.871Z"
   },
   {
    "duration": 159,
    "start_time": "2023-04-08T11:16:59.591Z"
   },
   {
    "duration": 171,
    "start_time": "2023-04-08T11:17:31.087Z"
   },
   {
    "duration": 168,
    "start_time": "2023-04-08T11:17:52.584Z"
   },
   {
    "duration": 161,
    "start_time": "2023-04-08T11:18:08.664Z"
   },
   {
    "duration": 157,
    "start_time": "2023-04-08T11:18:13.209Z"
   },
   {
    "duration": 329,
    "start_time": "2023-04-08T11:18:28.633Z"
   },
   {
    "duration": 276,
    "start_time": "2023-04-08T11:18:53.809Z"
   },
   {
    "duration": 301,
    "start_time": "2023-04-08T11:19:20.305Z"
   },
   {
    "duration": 312,
    "start_time": "2023-04-08T11:19:35.217Z"
   },
   {
    "duration": 13,
    "start_time": "2023-04-08T11:21:44.587Z"
   },
   {
    "duration": 346,
    "start_time": "2023-04-08T11:27:45.027Z"
   },
   {
    "duration": 286,
    "start_time": "2023-04-08T11:27:52.553Z"
   },
   {
    "duration": 18,
    "start_time": "2023-04-08T11:28:10.737Z"
   },
   {
    "duration": 66,
    "start_time": "2023-04-08T11:28:55.051Z"
   },
   {
    "duration": 9,
    "start_time": "2023-04-08T11:53:30.895Z"
   },
   {
    "duration": 12,
    "start_time": "2023-04-08T11:54:04.575Z"
   },
   {
    "duration": 16,
    "start_time": "2023-04-08T11:54:33.347Z"
   },
   {
    "duration": 18,
    "start_time": "2023-04-08T11:55:17.728Z"
   },
   {
    "duration": 13,
    "start_time": "2023-04-08T11:56:31.120Z"
   },
   {
    "duration": 14,
    "start_time": "2023-04-08T11:57:37.593Z"
   },
   {
    "duration": 11,
    "start_time": "2023-04-08T11:59:56.011Z"
   },
   {
    "duration": 16,
    "start_time": "2023-04-08T12:03:06.459Z"
   },
   {
    "duration": 18,
    "start_time": "2023-04-08T12:05:04.633Z"
   },
   {
    "duration": 10,
    "start_time": "2023-04-08T12:05:36.217Z"
   },
   {
    "duration": 156,
    "start_time": "2023-04-08T12:11:31.151Z"
   },
   {
    "duration": 143,
    "start_time": "2023-04-08T12:11:41.654Z"
   },
   {
    "duration": 146,
    "start_time": "2023-04-08T12:12:13.870Z"
   },
   {
    "duration": 152,
    "start_time": "2023-04-08T12:12:27.934Z"
   },
   {
    "duration": 139,
    "start_time": "2023-04-08T12:12:32.862Z"
   },
   {
    "duration": 137,
    "start_time": "2023-04-08T12:12:42.774Z"
   },
   {
    "duration": 130,
    "start_time": "2023-04-08T12:13:24.655Z"
   },
   {
    "duration": 136,
    "start_time": "2023-04-08T12:13:39.031Z"
   },
   {
    "duration": 103,
    "start_time": "2023-04-08T12:13:45.662Z"
   },
   {
    "duration": 141,
    "start_time": "2023-04-08T12:14:11.565Z"
   },
   {
    "duration": 466,
    "start_time": "2023-04-08T12:14:18.910Z"
   },
   {
    "duration": 20,
    "start_time": "2023-04-08T12:16:17.232Z"
   },
   {
    "duration": 5,
    "start_time": "2023-04-08T12:20:40.592Z"
   },
   {
    "duration": 5,
    "start_time": "2023-04-08T12:24:00.166Z"
   },
   {
    "duration": 138,
    "start_time": "2023-04-08T12:24:18.966Z"
   },
   {
    "duration": 212,
    "start_time": "2023-04-08T12:25:21.200Z"
   },
   {
    "duration": 98,
    "start_time": "2023-04-08T12:38:33.966Z"
   },
   {
    "duration": 108,
    "start_time": "2023-04-08T12:42:01.205Z"
   },
   {
    "duration": 108,
    "start_time": "2023-04-08T12:42:18.575Z"
   },
   {
    "duration": 20,
    "start_time": "2023-04-08T12:44:34.077Z"
   },
   {
    "duration": 12,
    "start_time": "2023-04-08T12:45:18.466Z"
   },
   {
    "duration": 13,
    "start_time": "2023-04-08T12:45:59.791Z"
   },
   {
    "duration": 11,
    "start_time": "2023-04-08T12:49:11.069Z"
   },
   {
    "duration": 154,
    "start_time": "2023-04-08T12:53:32.664Z"
   },
   {
    "duration": 127,
    "start_time": "2023-04-08T12:53:45.716Z"
   },
   {
    "duration": 116,
    "start_time": "2023-04-08T12:53:54.710Z"
   },
   {
    "duration": 162,
    "start_time": "2023-04-08T12:53:59.861Z"
   },
   {
    "duration": 197,
    "start_time": "2023-04-08T12:54:07.618Z"
   },
   {
    "duration": 146,
    "start_time": "2023-04-08T12:54:23.567Z"
   },
   {
    "duration": 146,
    "start_time": "2023-04-08T12:54:27.830Z"
   },
   {
    "duration": 166,
    "start_time": "2023-04-08T12:54:35.717Z"
   },
   {
    "duration": 191,
    "start_time": "2023-04-08T12:55:16.429Z"
   },
   {
    "duration": 16,
    "start_time": "2023-04-08T12:59:34.666Z"
   },
   {
    "duration": 17,
    "start_time": "2023-04-08T13:00:46.606Z"
   },
   {
    "duration": 13,
    "start_time": "2023-04-08T13:02:29.162Z"
   },
   {
    "duration": 119,
    "start_time": "2023-04-08T13:08:04.776Z"
   },
   {
    "duration": 115,
    "start_time": "2023-04-08T13:11:41.613Z"
   },
   {
    "duration": 15,
    "start_time": "2023-04-08T13:13:21.689Z"
   },
   {
    "duration": 23,
    "start_time": "2023-04-08T13:13:38.641Z"
   },
   {
    "duration": 149,
    "start_time": "2023-04-08T13:14:50.384Z"
   },
   {
    "duration": 190,
    "start_time": "2023-04-08T13:15:06.915Z"
   },
   {
    "duration": 151,
    "start_time": "2023-04-08T13:15:17.012Z"
   },
   {
    "duration": 174,
    "start_time": "2023-04-08T13:15:23.987Z"
   },
   {
    "duration": 127,
    "start_time": "2023-04-08T13:15:28.967Z"
   },
   {
    "duration": 93,
    "start_time": "2023-04-08T13:15:45.568Z"
   },
   {
    "duration": 7,
    "start_time": "2023-04-08T13:15:45.664Z"
   },
   {
    "duration": 102,
    "start_time": "2023-04-08T13:15:45.672Z"
   },
   {
    "duration": 12,
    "start_time": "2023-04-08T13:15:45.776Z"
   },
   {
    "duration": 1799,
    "start_time": "2023-04-08T13:15:45.789Z"
   },
   {
    "duration": 4,
    "start_time": "2023-04-08T13:15:47.590Z"
   },
   {
    "duration": 12,
    "start_time": "2023-04-08T13:15:47.596Z"
   },
   {
    "duration": 12,
    "start_time": "2023-04-08T13:15:47.609Z"
   },
   {
    "duration": 43,
    "start_time": "2023-04-08T13:15:47.622Z"
   },
   {
    "duration": 12,
    "start_time": "2023-04-08T13:15:47.668Z"
   },
   {
    "duration": 4,
    "start_time": "2023-04-08T13:15:47.681Z"
   },
   {
    "duration": 8,
    "start_time": "2023-04-08T13:15:47.686Z"
   },
   {
    "duration": 4,
    "start_time": "2023-04-08T13:15:47.696Z"
   },
   {
    "duration": 4,
    "start_time": "2023-04-08T13:15:47.702Z"
   },
   {
    "duration": 5,
    "start_time": "2023-04-08T13:15:47.707Z"
   },
   {
    "duration": 5,
    "start_time": "2023-04-08T13:15:47.713Z"
   },
   {
    "duration": 27,
    "start_time": "2023-04-08T13:15:47.719Z"
   },
   {
    "duration": 16,
    "start_time": "2023-04-08T13:15:47.747Z"
   },
   {
    "duration": 7,
    "start_time": "2023-04-08T13:15:47.764Z"
   },
   {
    "duration": 143,
    "start_time": "2023-04-08T13:15:47.773Z"
   },
   {
    "duration": 13,
    "start_time": "2023-04-08T13:15:47.917Z"
   },
   {
    "duration": 43,
    "start_time": "2023-04-08T13:15:47.931Z"
   },
   {
    "duration": 11,
    "start_time": "2023-04-08T13:15:47.976Z"
   },
   {
    "duration": 121,
    "start_time": "2023-04-08T13:15:47.988Z"
   },
   {
    "duration": 9,
    "start_time": "2023-04-08T13:15:48.111Z"
   },
   {
    "duration": 32,
    "start_time": "2023-04-08T13:15:48.121Z"
   },
   {
    "duration": 313,
    "start_time": "2023-04-08T13:15:48.161Z"
   },
   {
    "duration": 13,
    "start_time": "2023-04-08T13:15:48.477Z"
   },
   {
    "duration": 9,
    "start_time": "2023-04-08T13:15:48.492Z"
   },
   {
    "duration": 176,
    "start_time": "2023-04-08T13:15:48.503Z"
   },
   {
    "duration": 110,
    "start_time": "2023-04-08T13:15:48.680Z"
   },
   {
    "duration": 12,
    "start_time": "2023-04-08T13:15:48.792Z"
   },
   {
    "duration": 11,
    "start_time": "2023-04-08T13:15:48.806Z"
   },
   {
    "duration": 198,
    "start_time": "2023-04-08T13:15:48.818Z"
   },
   {
    "duration": 27,
    "start_time": "2023-04-08T13:15:49.018Z"
   },
   {
    "duration": 120,
    "start_time": "2023-04-08T13:15:49.046Z"
   },
   {
    "duration": 132,
    "start_time": "2023-04-08T13:15:49.168Z"
   },
   {
    "duration": 14,
    "start_time": "2023-04-08T13:15:49.302Z"
   },
   {
    "duration": 91,
    "start_time": "2023-04-08T13:16:15.466Z"
   },
   {
    "duration": 8,
    "start_time": "2023-04-08T13:16:15.558Z"
   },
   {
    "duration": 97,
    "start_time": "2023-04-08T13:16:15.567Z"
   },
   {
    "duration": 12,
    "start_time": "2023-04-08T13:16:15.666Z"
   },
   {
    "duration": 2170,
    "start_time": "2023-04-08T13:16:15.680Z"
   },
   {
    "duration": 8,
    "start_time": "2023-04-08T13:16:17.860Z"
   },
   {
    "duration": 6,
    "start_time": "2023-04-08T13:16:17.870Z"
   },
   {
    "duration": 8,
    "start_time": "2023-04-08T13:16:17.877Z"
   },
   {
    "duration": 9,
    "start_time": "2023-04-08T13:16:17.887Z"
   },
   {
    "duration": 13,
    "start_time": "2023-04-08T13:16:17.898Z"
   },
   {
    "duration": 5,
    "start_time": "2023-04-08T13:16:17.912Z"
   },
   {
    "duration": 52,
    "start_time": "2023-04-08T13:16:17.918Z"
   },
   {
    "duration": 7,
    "start_time": "2023-04-08T13:16:17.971Z"
   },
   {
    "duration": 6,
    "start_time": "2023-04-08T13:16:17.979Z"
   },
   {
    "duration": 5,
    "start_time": "2023-04-08T13:16:17.986Z"
   },
   {
    "duration": 5,
    "start_time": "2023-04-08T13:16:17.992Z"
   },
   {
    "duration": 5,
    "start_time": "2023-04-08T13:16:17.998Z"
   },
   {
    "duration": 5,
    "start_time": "2023-04-08T13:16:18.005Z"
   },
   {
    "duration": 6,
    "start_time": "2023-04-08T13:16:18.012Z"
   },
   {
    "duration": 176,
    "start_time": "2023-04-08T13:16:18.019Z"
   },
   {
    "duration": 12,
    "start_time": "2023-04-08T13:16:18.197Z"
   },
   {
    "duration": 18,
    "start_time": "2023-04-08T13:16:18.210Z"
   },
   {
    "duration": 17,
    "start_time": "2023-04-08T13:16:18.240Z"
   },
   {
    "duration": 113,
    "start_time": "2023-04-08T13:16:18.258Z"
   },
   {
    "duration": 10,
    "start_time": "2023-04-08T13:16:18.372Z"
   },
   {
    "duration": 21,
    "start_time": "2023-04-08T13:16:18.383Z"
   },
   {
    "duration": 361,
    "start_time": "2023-04-08T13:16:18.405Z"
   },
   {
    "duration": 14,
    "start_time": "2023-04-08T13:16:18.769Z"
   },
   {
    "duration": 18,
    "start_time": "2023-04-08T13:16:18.784Z"
   },
   {
    "duration": 144,
    "start_time": "2023-04-08T13:16:18.803Z"
   },
   {
    "duration": 127,
    "start_time": "2023-04-08T13:16:18.949Z"
   },
   {
    "duration": 13,
    "start_time": "2023-04-08T13:16:19.078Z"
   },
   {
    "duration": 10,
    "start_time": "2023-04-08T13:16:19.093Z"
   },
   {
    "duration": 194,
    "start_time": "2023-04-08T13:16:19.105Z"
   },
   {
    "duration": 12,
    "start_time": "2023-04-08T13:16:19.301Z"
   },
   {
    "duration": 150,
    "start_time": "2023-04-08T13:16:19.315Z"
   },
   {
    "duration": 133,
    "start_time": "2023-04-08T13:16:19.466Z"
   },
   {
    "duration": 23,
    "start_time": "2023-04-08T13:16:28.030Z"
   },
   {
    "duration": 5,
    "start_time": "2023-04-08T13:35:11.740Z"
   },
   {
    "duration": 109,
    "start_time": "2023-04-08T13:38:19.462Z"
   },
   {
    "duration": 160,
    "start_time": "2023-04-08T13:38:30.891Z"
   },
   {
    "duration": 170,
    "start_time": "2023-04-08T13:38:51.522Z"
   },
   {
    "duration": 144,
    "start_time": "2023-04-08T13:39:00.466Z"
   },
   {
    "duration": 157,
    "start_time": "2023-04-08T13:41:21.827Z"
   },
   {
    "duration": 133,
    "start_time": "2023-04-08T13:41:34.076Z"
   },
   {
    "duration": 291,
    "start_time": "2023-04-08T13:41:46.629Z"
   },
   {
    "duration": 235,
    "start_time": "2023-04-08T13:41:53.471Z"
   },
   {
    "duration": 146,
    "start_time": "2023-04-08T13:42:02.325Z"
   },
   {
    "duration": 7,
    "start_time": "2023-04-08T13:46:14.967Z"
   },
   {
    "duration": 14,
    "start_time": "2023-04-08T13:47:25.699Z"
   },
   {
    "duration": 115,
    "start_time": "2023-04-08T13:49:27.317Z"
   },
   {
    "duration": 373,
    "start_time": "2023-04-08T13:50:47.920Z"
   },
   {
    "duration": 118,
    "start_time": "2023-04-08T13:50:54.732Z"
   },
   {
    "duration": 108,
    "start_time": "2023-04-08T13:51:01.762Z"
   },
   {
    "duration": 118,
    "start_time": "2023-04-08T13:51:07.362Z"
   },
   {
    "duration": 115,
    "start_time": "2023-04-08T13:52:57.055Z"
   },
   {
    "duration": 108,
    "start_time": "2023-04-08T13:53:02.993Z"
   },
   {
    "duration": 118,
    "start_time": "2023-04-08T13:53:52.466Z"
   },
   {
    "duration": 110,
    "start_time": "2023-04-08T13:54:13.791Z"
   },
   {
    "duration": 132,
    "start_time": "2023-04-08T13:55:05.566Z"
   },
   {
    "duration": 87,
    "start_time": "2023-04-08T13:56:21.126Z"
   },
   {
    "duration": 10,
    "start_time": "2023-04-08T13:57:06.267Z"
   },
   {
    "duration": 13,
    "start_time": "2023-04-08T13:58:12.108Z"
   },
   {
    "duration": 8,
    "start_time": "2023-04-08T14:02:05.910Z"
   },
   {
    "duration": 28,
    "start_time": "2023-04-08T14:02:34.942Z"
   },
   {
    "duration": 20,
    "start_time": "2023-04-08T14:02:53.790Z"
   },
   {
    "duration": 7,
    "start_time": "2023-04-08T14:06:43.908Z"
   },
   {
    "duration": 111,
    "start_time": "2023-04-08T14:10:25.183Z"
   },
   {
    "duration": 112,
    "start_time": "2023-04-08T14:12:42.795Z"
   },
   {
    "duration": 132,
    "start_time": "2023-04-08T14:12:46.469Z"
   },
   {
    "duration": 119,
    "start_time": "2023-04-08T14:12:49.569Z"
   },
   {
    "duration": 111,
    "start_time": "2023-04-08T14:13:10.961Z"
   },
   {
    "duration": 116,
    "start_time": "2023-04-08T14:13:16.325Z"
   },
   {
    "duration": 120,
    "start_time": "2023-04-08T14:13:42.101Z"
   },
   {
    "duration": 106,
    "start_time": "2023-04-08T14:19:15.202Z"
   },
   {
    "duration": 284,
    "start_time": "2023-04-08T14:19:56.732Z"
   },
   {
    "duration": 242,
    "start_time": "2023-04-08T14:20:04.924Z"
   },
   {
    "duration": 119,
    "start_time": "2023-04-08T14:20:53.596Z"
   },
   {
    "duration": 196,
    "start_time": "2023-04-08T14:21:40.895Z"
   },
   {
    "duration": 72,
    "start_time": "2023-04-08T14:22:35.566Z"
   },
   {
    "duration": 175,
    "start_time": "2023-04-08T14:22:43.343Z"
   },
   {
    "duration": 373,
    "start_time": "2023-04-08T14:23:33.399Z"
   },
   {
    "duration": 548,
    "start_time": "2023-04-08T14:26:09.325Z"
   },
   {
    "duration": 664,
    "start_time": "2023-04-08T14:27:19.576Z"
   },
   {
    "duration": 1420,
    "start_time": "2023-04-08T14:27:44.384Z"
   },
   {
    "duration": 434,
    "start_time": "2023-04-08T14:27:51.006Z"
   },
   {
    "duration": 480,
    "start_time": "2023-04-08T14:28:26.908Z"
   },
   {
    "duration": 263,
    "start_time": "2023-04-08T14:29:24.772Z"
   },
   {
    "duration": 257,
    "start_time": "2023-04-08T14:29:47.923Z"
   },
   {
    "duration": 136,
    "start_time": "2023-04-08T14:30:17.478Z"
   },
   {
    "duration": 8,
    "start_time": "2023-04-08T14:31:36.041Z"
   },
   {
    "duration": 128,
    "start_time": "2023-04-08T14:32:12.792Z"
   },
   {
    "duration": 8,
    "start_time": "2023-04-08T14:35:30.728Z"
   },
   {
    "duration": 195,
    "start_time": "2023-04-08T14:37:18.631Z"
   },
   {
    "duration": 8,
    "start_time": "2023-04-08T14:37:48.858Z"
   },
   {
    "duration": 15,
    "start_time": "2023-04-08T14:39:30.281Z"
   },
   {
    "duration": 109,
    "start_time": "2023-04-08T14:40:57.363Z"
   },
   {
    "duration": 125,
    "start_time": "2023-04-08T14:41:42.002Z"
   },
   {
    "duration": 133,
    "start_time": "2023-04-08T14:42:07.995Z"
   },
   {
    "duration": 148,
    "start_time": "2023-04-08T14:54:03.872Z"
   },
   {
    "duration": 233,
    "start_time": "2023-04-08T14:54:29.065Z"
   },
   {
    "duration": 253,
    "start_time": "2023-04-08T14:55:00.563Z"
   },
   {
    "duration": 233,
    "start_time": "2023-04-08T14:55:09.286Z"
   },
   {
    "duration": 65,
    "start_time": "2023-04-08T14:58:43.162Z"
   },
   {
    "duration": 229,
    "start_time": "2023-04-08T14:58:48.863Z"
   },
   {
    "duration": 232,
    "start_time": "2023-04-08T14:59:33.360Z"
   },
   {
    "duration": 234,
    "start_time": "2023-04-08T14:59:46.894Z"
   },
   {
    "duration": 224,
    "start_time": "2023-04-08T15:00:13.710Z"
   },
   {
    "duration": 14,
    "start_time": "2023-04-08T15:01:40.367Z"
   },
   {
    "duration": 15,
    "start_time": "2023-04-08T15:25:04.870Z"
   },
   {
    "duration": 23,
    "start_time": "2023-04-08T15:25:09.132Z"
   },
   {
    "duration": 16,
    "start_time": "2023-04-08T15:41:36.988Z"
   },
   {
    "duration": 32,
    "start_time": "2023-04-08T15:53:06.040Z"
   },
   {
    "duration": 14,
    "start_time": "2023-04-08T15:53:18.016Z"
   },
   {
    "duration": 24,
    "start_time": "2023-04-08T15:53:42.768Z"
   },
   {
    "duration": 66,
    "start_time": "2023-04-08T15:53:55.120Z"
   },
   {
    "duration": 97,
    "start_time": "2023-04-08T15:59:31.674Z"
   },
   {
    "duration": 3,
    "start_time": "2023-04-08T16:06:41.812Z"
   },
   {
    "duration": 9,
    "start_time": "2023-04-08T16:21:11.595Z"
   },
   {
    "duration": 9,
    "start_time": "2023-04-08T16:21:24.472Z"
   },
   {
    "duration": 9,
    "start_time": "2023-04-08T16:21:32.826Z"
   },
   {
    "duration": 14,
    "start_time": "2023-04-08T16:22:38.169Z"
   },
   {
    "duration": 160,
    "start_time": "2023-04-08T16:23:45.474Z"
   },
   {
    "duration": 170,
    "start_time": "2023-04-08T16:24:01.834Z"
   },
   {
    "duration": 207,
    "start_time": "2023-04-08T16:24:10.168Z"
   },
   {
    "duration": 9,
    "start_time": "2023-04-08T16:25:57.895Z"
   },
   {
    "duration": 7,
    "start_time": "2023-04-08T16:26:13.723Z"
   },
   {
    "duration": 172,
    "start_time": "2023-04-08T16:27:17.314Z"
   },
   {
    "duration": 15,
    "start_time": "2023-04-08T16:28:15.567Z"
   },
   {
    "duration": 163,
    "start_time": "2023-04-08T16:28:55.922Z"
   },
   {
    "duration": 169,
    "start_time": "2023-04-08T16:29:07.403Z"
   },
   {
    "duration": 12,
    "start_time": "2023-04-08T16:29:53.532Z"
   },
   {
    "duration": 171,
    "start_time": "2023-04-08T16:29:55.205Z"
   },
   {
    "duration": 13,
    "start_time": "2023-04-08T16:29:57.505Z"
   },
   {
    "duration": 155,
    "start_time": "2023-04-08T16:29:58.859Z"
   },
   {
    "duration": 186,
    "start_time": "2023-04-08T16:30:07.830Z"
   },
   {
    "duration": 165,
    "start_time": "2023-04-08T16:30:34.364Z"
   },
   {
    "duration": 100,
    "start_time": "2023-04-08T16:30:45.588Z"
   },
   {
    "duration": 227,
    "start_time": "2023-04-08T16:31:06.428Z"
   },
   {
    "duration": 20,
    "start_time": "2023-04-08T16:32:27.932Z"
   },
   {
    "duration": 9,
    "start_time": "2023-04-08T16:33:18.740Z"
   },
   {
    "duration": 14,
    "start_time": "2023-04-08T16:34:52.117Z"
   },
   {
    "duration": 12,
    "start_time": "2023-04-08T16:36:20.023Z"
   },
   {
    "duration": 10,
    "start_time": "2023-04-08T16:49:57.037Z"
   },
   {
    "duration": 1318,
    "start_time": "2023-04-09T08:35:19.081Z"
   },
   {
    "duration": 11,
    "start_time": "2023-04-09T08:35:20.401Z"
   },
   {
    "duration": 105,
    "start_time": "2023-04-09T08:35:20.413Z"
   },
   {
    "duration": 15,
    "start_time": "2023-04-09T08:35:20.521Z"
   },
   {
    "duration": 1933,
    "start_time": "2023-04-09T08:35:20.537Z"
   },
   {
    "duration": 6,
    "start_time": "2023-04-09T08:35:22.471Z"
   },
   {
    "duration": 16,
    "start_time": "2023-04-09T08:35:22.478Z"
   },
   {
    "duration": 14,
    "start_time": "2023-04-09T08:35:22.496Z"
   },
   {
    "duration": 11,
    "start_time": "2023-04-09T08:35:22.512Z"
   },
   {
    "duration": 14,
    "start_time": "2023-04-09T08:35:22.526Z"
   },
   {
    "duration": 6,
    "start_time": "2023-04-09T08:35:22.542Z"
   },
   {
    "duration": 10,
    "start_time": "2023-04-09T08:35:22.549Z"
   },
   {
    "duration": 12,
    "start_time": "2023-04-09T08:35:22.561Z"
   },
   {
    "duration": 21,
    "start_time": "2023-04-09T08:35:22.574Z"
   },
   {
    "duration": 11,
    "start_time": "2023-04-09T08:35:22.597Z"
   },
   {
    "duration": 8,
    "start_time": "2023-04-09T08:35:22.609Z"
   },
   {
    "duration": 14,
    "start_time": "2023-04-09T08:35:22.619Z"
   },
   {
    "duration": 6,
    "start_time": "2023-04-09T08:35:22.634Z"
   },
   {
    "duration": 14,
    "start_time": "2023-04-09T08:35:22.642Z"
   },
   {
    "duration": 142,
    "start_time": "2023-04-09T08:35:22.658Z"
   },
   {
    "duration": 14,
    "start_time": "2023-04-09T08:35:22.802Z"
   },
   {
    "duration": 33,
    "start_time": "2023-04-09T08:35:22.818Z"
   },
   {
    "duration": 6,
    "start_time": "2023-04-09T08:35:22.852Z"
   },
   {
    "duration": 127,
    "start_time": "2023-04-09T08:35:22.860Z"
   },
   {
    "duration": 11,
    "start_time": "2023-04-09T08:35:22.989Z"
   },
   {
    "duration": 43,
    "start_time": "2023-04-09T08:35:23.001Z"
   },
   {
    "duration": 366,
    "start_time": "2023-04-09T08:35:23.046Z"
   },
   {
    "duration": 26,
    "start_time": "2023-04-09T08:35:23.416Z"
   },
   {
    "duration": 39,
    "start_time": "2023-04-09T08:35:23.443Z"
   },
   {
    "duration": 222,
    "start_time": "2023-04-09T08:35:23.484Z"
   },
   {
    "duration": 144,
    "start_time": "2023-04-09T08:35:23.708Z"
   },
   {
    "duration": 15,
    "start_time": "2023-04-09T08:35:23.854Z"
   },
   {
    "duration": 14,
    "start_time": "2023-04-09T08:35:23.871Z"
   },
   {
    "duration": 243,
    "start_time": "2023-04-09T08:35:23.886Z"
   },
   {
    "duration": 14,
    "start_time": "2023-04-09T08:35:24.134Z"
   },
   {
    "duration": 192,
    "start_time": "2023-04-09T08:35:24.150Z"
   },
   {
    "duration": 14,
    "start_time": "2023-04-09T08:35:24.344Z"
   },
   {
    "duration": 209,
    "start_time": "2023-04-09T08:35:24.360Z"
   },
   {
    "duration": 166,
    "start_time": "2023-04-09T08:35:24.571Z"
   },
   {
    "duration": 14,
    "start_time": "2023-04-09T08:35:24.739Z"
   },
   {
    "duration": 175,
    "start_time": "2023-04-09T08:35:24.755Z"
   },
   {
    "duration": 8,
    "start_time": "2023-04-09T08:35:24.934Z"
   },
   {
    "duration": 21,
    "start_time": "2023-04-09T08:35:24.943Z"
   },
   {
    "duration": 129,
    "start_time": "2023-04-09T08:35:24.966Z"
   },
   {
    "duration": 7,
    "start_time": "2023-04-09T08:35:25.097Z"
   },
   {
    "duration": 32,
    "start_time": "2023-04-09T08:35:25.106Z"
   },
   {
    "duration": 6,
    "start_time": "2023-04-09T08:35:25.140Z"
   },
   {
    "duration": 18,
    "start_time": "2023-04-09T08:35:25.148Z"
   },
   {
    "duration": 116,
    "start_time": "2023-04-09T08:35:25.169Z"
   },
   {
    "duration": 155,
    "start_time": "2023-04-09T08:35:25.286Z"
   },
   {
    "duration": 7,
    "start_time": "2023-04-09T08:35:25.443Z"
   },
   {
    "duration": 15,
    "start_time": "2023-04-09T08:35:25.452Z"
   },
   {
    "duration": 214,
    "start_time": "2023-04-09T08:35:25.468Z"
   },
   {
    "duration": 8,
    "start_time": "2023-04-09T08:35:25.684Z"
   },
   {
    "duration": 19,
    "start_time": "2023-04-09T08:35:25.694Z"
   },
   {
    "duration": 25,
    "start_time": "2023-04-09T08:35:25.715Z"
   },
   {
    "duration": 162,
    "start_time": "2023-04-09T08:35:25.741Z"
   },
   {
    "duration": 262,
    "start_time": "2023-04-09T08:35:25.905Z"
   },
   {
    "duration": 342,
    "start_time": "2023-04-09T08:35:26.169Z"
   },
   {
    "duration": 30,
    "start_time": "2023-04-09T08:35:26.513Z"
   },
   {
    "duration": 3,
    "start_time": "2023-04-09T08:35:26.545Z"
   },
   {
    "duration": 16,
    "start_time": "2023-04-09T08:35:26.550Z"
   },
   {
    "duration": 6,
    "start_time": "2023-04-09T08:39:48.685Z"
   },
   {
    "duration": 8,
    "start_time": "2023-04-09T08:40:05.253Z"
   },
   {
    "duration": 5,
    "start_time": "2023-04-09T08:40:17.661Z"
   },
   {
    "duration": 6,
    "start_time": "2023-04-09T08:42:15.581Z"
   },
   {
    "duration": 6,
    "start_time": "2023-04-09T08:44:47.063Z"
   },
   {
    "duration": 8,
    "start_time": "2023-04-09T08:45:14.265Z"
   },
   {
    "duration": 5,
    "start_time": "2023-04-09T08:46:28.656Z"
   },
   {
    "duration": 7,
    "start_time": "2023-04-09T08:54:22.665Z"
   },
   {
    "duration": 104,
    "start_time": "2023-04-09T08:58:29.829Z"
   },
   {
    "duration": 13,
    "start_time": "2023-04-09T08:58:42.050Z"
   },
   {
    "duration": 4,
    "start_time": "2023-04-09T08:59:15.566Z"
   },
   {
    "duration": 92,
    "start_time": "2023-04-09T09:00:34.188Z"
   },
   {
    "duration": 86,
    "start_time": "2023-04-09T09:00:52.388Z"
   },
   {
    "duration": 8,
    "start_time": "2023-04-09T09:00:52.476Z"
   },
   {
    "duration": 189,
    "start_time": "2023-04-09T09:00:52.486Z"
   },
   {
    "duration": 15,
    "start_time": "2023-04-09T09:00:52.678Z"
   },
   {
    "duration": 2084,
    "start_time": "2023-04-09T09:00:52.695Z"
   },
   {
    "duration": 5,
    "start_time": "2023-04-09T09:00:54.781Z"
   },
   {
    "duration": 10,
    "start_time": "2023-04-09T09:00:54.788Z"
   },
   {
    "duration": 11,
    "start_time": "2023-04-09T09:00:54.800Z"
   },
   {
    "duration": 29,
    "start_time": "2023-04-09T09:00:54.813Z"
   },
   {
    "duration": 14,
    "start_time": "2023-04-09T09:00:54.845Z"
   },
   {
    "duration": 5,
    "start_time": "2023-04-09T09:00:54.861Z"
   },
   {
    "duration": 13,
    "start_time": "2023-04-09T09:00:54.868Z"
   },
   {
    "duration": 7,
    "start_time": "2023-04-09T09:00:54.884Z"
   },
   {
    "duration": 45,
    "start_time": "2023-04-09T09:00:54.893Z"
   },
   {
    "duration": 10,
    "start_time": "2023-04-09T09:00:54.940Z"
   },
   {
    "duration": 7,
    "start_time": "2023-04-09T09:00:54.953Z"
   },
   {
    "duration": 6,
    "start_time": "2023-04-09T09:00:54.962Z"
   },
   {
    "duration": 8,
    "start_time": "2023-04-09T09:00:54.970Z"
   },
   {
    "duration": 16,
    "start_time": "2023-04-09T09:00:54.980Z"
   },
   {
    "duration": 163,
    "start_time": "2023-04-09T09:00:54.997Z"
   },
   {
    "duration": 15,
    "start_time": "2023-04-09T09:00:55.162Z"
   },
   {
    "duration": 31,
    "start_time": "2023-04-09T09:00:55.179Z"
   },
   {
    "duration": 6,
    "start_time": "2023-04-09T09:00:55.211Z"
   },
   {
    "duration": 129,
    "start_time": "2023-04-09T09:00:55.233Z"
   },
   {
    "duration": 11,
    "start_time": "2023-04-09T09:00:55.364Z"
   },
   {
    "duration": 47,
    "start_time": "2023-04-09T09:00:55.378Z"
   },
   {
    "duration": 495,
    "start_time": "2023-04-09T09:00:55.426Z"
   },
   {
    "duration": 22,
    "start_time": "2023-04-09T09:00:55.925Z"
   },
   {
    "duration": 15,
    "start_time": "2023-04-09T09:00:55.949Z"
   },
   {
    "duration": 197,
    "start_time": "2023-04-09T09:00:55.966Z"
   },
   {
    "duration": 131,
    "start_time": "2023-04-09T09:00:56.164Z"
   },
   {
    "duration": 15,
    "start_time": "2023-04-09T09:00:56.296Z"
   },
   {
    "duration": 29,
    "start_time": "2023-04-09T09:00:56.313Z"
   },
   {
    "duration": 202,
    "start_time": "2023-04-09T09:00:56.344Z"
   },
   {
    "duration": 16,
    "start_time": "2023-04-09T09:00:56.547Z"
   },
   {
    "duration": 220,
    "start_time": "2023-04-09T09:00:56.565Z"
   },
   {
    "duration": 23,
    "start_time": "2023-04-09T09:00:56.788Z"
   },
   {
    "duration": 203,
    "start_time": "2023-04-09T09:00:56.813Z"
   },
   {
    "duration": 165,
    "start_time": "2023-04-09T09:00:57.018Z"
   },
   {
    "duration": 15,
    "start_time": "2023-04-09T09:00:57.184Z"
   },
   {
    "duration": 173,
    "start_time": "2023-04-09T09:00:57.201Z"
   },
   {
    "duration": 8,
    "start_time": "2023-04-09T09:00:57.376Z"
   },
   {
    "duration": 19,
    "start_time": "2023-04-09T09:00:57.385Z"
   },
   {
    "duration": 159,
    "start_time": "2023-04-09T09:00:57.405Z"
   },
   {
    "duration": 11,
    "start_time": "2023-04-09T09:00:57.566Z"
   },
   {
    "duration": 19,
    "start_time": "2023-04-09T09:00:57.579Z"
   },
   {
    "duration": 21,
    "start_time": "2023-04-09T09:00:57.600Z"
   },
   {
    "duration": 7,
    "start_time": "2023-04-09T09:00:57.634Z"
   },
   {
    "duration": 131,
    "start_time": "2023-04-09T09:00:57.643Z"
   },
   {
    "duration": 150,
    "start_time": "2023-04-09T09:00:57.776Z"
   },
   {
    "duration": 10,
    "start_time": "2023-04-09T09:00:57.928Z"
   },
   {
    "duration": 15,
    "start_time": "2023-04-09T09:00:57.940Z"
   },
   {
    "duration": 248,
    "start_time": "2023-04-09T09:00:57.956Z"
   },
   {
    "duration": 7,
    "start_time": "2023-04-09T09:00:58.206Z"
   },
   {
    "duration": 28,
    "start_time": "2023-04-09T09:00:58.215Z"
   },
   {
    "duration": 7,
    "start_time": "2023-04-09T09:00:58.245Z"
   },
   {
    "duration": 160,
    "start_time": "2023-04-09T09:00:58.253Z"
   },
   {
    "duration": 409,
    "start_time": "2023-04-09T09:00:58.415Z"
   },
   {
    "duration": 270,
    "start_time": "2023-04-09T09:00:58.826Z"
   },
   {
    "duration": 16,
    "start_time": "2023-04-09T09:00:59.098Z"
   },
   {
    "duration": 19,
    "start_time": "2023-04-09T09:00:59.115Z"
   },
   {
    "duration": 4,
    "start_time": "2023-04-09T09:00:59.135Z"
   },
   {
    "duration": 14,
    "start_time": "2023-04-09T09:00:59.141Z"
   },
   {
    "duration": 7,
    "start_time": "2023-04-09T09:00:59.157Z"
   },
   {
    "duration": 6,
    "start_time": "2023-04-09T09:00:59.165Z"
   },
   {
    "duration": 46,
    "start_time": "2023-04-09T09:00:59.173Z"
   },
   {
    "duration": 33,
    "start_time": "2023-04-09T09:02:07.238Z"
   },
   {
    "duration": 25,
    "start_time": "2023-04-09T09:02:29.962Z"
   },
   {
    "duration": 10,
    "start_time": "2023-04-09T09:06:21.120Z"
   },
   {
    "duration": 8,
    "start_time": "2023-04-09T09:06:48.120Z"
   },
   {
    "duration": 30,
    "start_time": "2023-04-09T09:07:19.032Z"
   },
   {
    "duration": 25,
    "start_time": "2023-04-09T09:07:37.823Z"
   },
   {
    "duration": 1226,
    "start_time": "2023-04-09T09:09:24.846Z"
   },
   {
    "duration": 10,
    "start_time": "2023-04-09T09:10:05.115Z"
   },
   {
    "duration": 12,
    "start_time": "2023-04-09T09:10:29.516Z"
   },
   {
    "duration": 19,
    "start_time": "2023-04-09T09:10:47.892Z"
   },
   {
    "duration": 17,
    "start_time": "2023-04-09T09:10:54.865Z"
   },
   {
    "duration": 14,
    "start_time": "2023-04-09T09:11:47.813Z"
   },
   {
    "duration": 16,
    "start_time": "2023-04-09T09:14:02.007Z"
   },
   {
    "duration": 16,
    "start_time": "2023-04-09T09:14:26.164Z"
   },
   {
    "duration": 13,
    "start_time": "2023-04-09T09:14:37.849Z"
   },
   {
    "duration": 21,
    "start_time": "2023-04-09T09:15:08.425Z"
   },
   {
    "duration": 14,
    "start_time": "2023-04-09T09:15:17.923Z"
   },
   {
    "duration": 729,
    "start_time": "2023-04-09T09:16:50.619Z"
   },
   {
    "duration": 830,
    "start_time": "2023-04-09T09:16:59.026Z"
   },
   {
    "duration": 1354,
    "start_time": "2023-04-09T09:20:06.351Z"
   },
   {
    "duration": 4,
    "start_time": "2023-04-09T09:21:44.447Z"
   },
   {
    "duration": 9,
    "start_time": "2023-04-09T09:21:55.341Z"
   },
   {
    "duration": 32,
    "start_time": "2023-04-09T09:22:12.717Z"
   },
   {
    "duration": 6,
    "start_time": "2023-04-09T09:22:39.386Z"
   },
   {
    "duration": 6,
    "start_time": "2023-04-09T09:22:55.711Z"
   },
   {
    "duration": 7,
    "start_time": "2023-04-09T09:24:47.672Z"
   },
   {
    "duration": 7,
    "start_time": "2023-04-09T09:25:05.128Z"
   },
   {
    "duration": 39,
    "start_time": "2023-04-09T09:26:29.579Z"
   },
   {
    "duration": 8,
    "start_time": "2023-04-09T09:27:16.346Z"
   },
   {
    "duration": 30,
    "start_time": "2023-04-09T09:27:24.876Z"
   },
   {
    "duration": 10,
    "start_time": "2023-04-09T09:27:45.877Z"
   },
   {
    "duration": 35,
    "start_time": "2023-04-09T09:27:49.437Z"
   },
   {
    "duration": 5,
    "start_time": "2023-04-09T09:28:30.553Z"
   },
   {
    "duration": 8,
    "start_time": "2023-04-09T09:29:34.383Z"
   },
   {
    "duration": 6,
    "start_time": "2023-04-09T09:29:40.324Z"
   },
   {
    "duration": 14,
    "start_time": "2023-04-09T09:29:51.956Z"
   },
   {
    "duration": 13,
    "start_time": "2023-04-09T09:29:57.071Z"
   },
   {
    "duration": 16,
    "start_time": "2023-04-09T09:30:01.803Z"
   },
   {
    "duration": 12,
    "start_time": "2023-04-09T09:30:06.419Z"
   },
   {
    "duration": 11,
    "start_time": "2023-04-09T09:30:18.814Z"
   },
   {
    "duration": 10,
    "start_time": "2023-04-09T09:30:24.572Z"
   },
   {
    "duration": 6,
    "start_time": "2023-04-09T09:30:27.209Z"
   },
   {
    "duration": 42,
    "start_time": "2023-04-09T09:30:36.310Z"
   },
   {
    "duration": 5,
    "start_time": "2023-04-09T09:31:58.456Z"
   },
   {
    "duration": 43,
    "start_time": "2023-04-09T09:32:11.636Z"
   },
   {
    "duration": 24,
    "start_time": "2023-04-09T09:47:50.323Z"
   },
   {
    "duration": 8,
    "start_time": "2023-04-09T09:48:30.755Z"
   },
   {
    "duration": 11,
    "start_time": "2023-04-09T09:48:38.555Z"
   },
   {
    "duration": 51,
    "start_time": "2023-04-09T09:51:07.685Z"
   },
   {
    "duration": 48,
    "start_time": "2023-04-09T09:51:14.696Z"
   },
   {
    "duration": 367,
    "start_time": "2023-04-09T09:51:26.616Z"
   },
   {
    "duration": 364,
    "start_time": "2023-04-09T09:52:46.346Z"
   },
   {
    "duration": 15,
    "start_time": "2023-04-09T09:52:59.794Z"
   },
   {
    "duration": 10,
    "start_time": "2023-04-09T09:56:16.323Z"
   },
   {
    "duration": 10,
    "start_time": "2023-04-09T09:56:29.694Z"
   },
   {
    "duration": 228,
    "start_time": "2023-04-09T09:56:35.479Z"
   },
   {
    "duration": 2416,
    "start_time": "2023-04-09T09:57:20.578Z"
   },
   {
    "duration": 3203,
    "start_time": "2023-04-09T09:57:47.408Z"
   },
   {
    "duration": 161,
    "start_time": "2023-04-09T10:04:06.141Z"
   },
   {
    "duration": 282,
    "start_time": "2023-04-09T10:04:26.018Z"
   },
   {
    "duration": 301,
    "start_time": "2023-04-09T10:06:47.163Z"
   },
   {
    "duration": 277,
    "start_time": "2023-04-09T10:07:21.924Z"
   },
   {
    "duration": 270,
    "start_time": "2023-04-09T10:09:00.896Z"
   },
   {
    "duration": 287,
    "start_time": "2023-04-09T10:09:10.286Z"
   },
   {
    "duration": 242,
    "start_time": "2023-04-09T10:10:09.367Z"
   },
   {
    "duration": 326,
    "start_time": "2023-04-09T10:11:06.523Z"
   },
   {
    "duration": 271,
    "start_time": "2023-04-09T10:11:13.310Z"
   },
   {
    "duration": 9,
    "start_time": "2023-04-09T10:13:20.502Z"
   },
   {
    "duration": 361,
    "start_time": "2023-04-09T10:13:38.399Z"
   },
   {
    "duration": 297,
    "start_time": "2023-04-09T10:16:53.165Z"
   },
   {
    "duration": 540,
    "start_time": "2023-04-09T10:18:29.174Z"
   },
   {
    "duration": 547,
    "start_time": "2023-04-09T10:18:35.675Z"
   },
   {
    "duration": 482,
    "start_time": "2023-04-09T10:18:51.219Z"
   },
   {
    "duration": 231,
    "start_time": "2023-04-09T10:22:45.963Z"
   },
   {
    "duration": 210,
    "start_time": "2023-04-09T10:26:12.414Z"
   },
   {
    "duration": 54,
    "start_time": "2023-04-09T10:27:29.466Z"
   },
   {
    "duration": 444,
    "start_time": "2023-04-09T10:27:34.454Z"
   },
   {
    "duration": 709,
    "start_time": "2023-04-09T10:28:00.284Z"
   },
   {
    "duration": 465,
    "start_time": "2023-04-09T10:28:05.814Z"
   },
   {
    "duration": 544,
    "start_time": "2023-04-09T10:28:48.134Z"
   },
   {
    "duration": 287,
    "start_time": "2023-04-09T10:31:30.279Z"
   },
   {
    "duration": 231,
    "start_time": "2023-04-09T10:31:42.694Z"
   },
   {
    "duration": 165,
    "start_time": "2023-04-09T10:32:07.286Z"
   },
   {
    "duration": 162,
    "start_time": "2023-04-09T10:34:51.017Z"
   },
   {
    "duration": 159,
    "start_time": "2023-04-09T10:37:24.643Z"
   },
   {
    "duration": 132,
    "start_time": "2023-04-09T10:37:30.678Z"
   },
   {
    "duration": 157,
    "start_time": "2023-04-09T10:37:39.568Z"
   },
   {
    "duration": 144,
    "start_time": "2023-04-09T10:39:46.750Z"
   },
   {
    "duration": 334,
    "start_time": "2023-04-09T10:40:38.616Z"
   },
   {
    "duration": 325,
    "start_time": "2023-04-09T10:40:52.279Z"
   },
   {
    "duration": 612,
    "start_time": "2023-04-09T10:41:00.239Z"
   },
   {
    "duration": 186,
    "start_time": "2023-04-09T10:42:51.963Z"
   },
   {
    "duration": 181,
    "start_time": "2023-04-09T10:43:08.132Z"
   },
   {
    "duration": 185,
    "start_time": "2023-04-09T10:43:15.711Z"
   },
   {
    "duration": 17,
    "start_time": "2023-04-09T10:46:34.089Z"
   },
   {
    "duration": 12,
    "start_time": "2023-04-09T10:46:50.173Z"
   },
   {
    "duration": 87,
    "start_time": "2023-04-09T10:48:41.457Z"
   },
   {
    "duration": 286,
    "start_time": "2023-04-09T10:48:47.913Z"
   },
   {
    "duration": 131,
    "start_time": "2023-04-09T10:49:17.997Z"
   },
   {
    "duration": 143,
    "start_time": "2023-04-09T10:53:55.252Z"
   },
   {
    "duration": 15,
    "start_time": "2023-04-09T10:58:34.713Z"
   },
   {
    "duration": 254,
    "start_time": "2023-04-09T10:59:52.072Z"
   },
   {
    "duration": 259,
    "start_time": "2023-04-09T11:06:39.417Z"
   },
   {
    "duration": 230,
    "start_time": "2023-04-09T11:10:05.483Z"
   },
   {
    "duration": 130,
    "start_time": "2023-04-09T11:14:33.375Z"
   },
   {
    "duration": 256,
    "start_time": "2023-04-09T11:15:07.338Z"
   },
   {
    "duration": 76,
    "start_time": "2023-04-09T11:33:54.464Z"
   },
   {
    "duration": 46,
    "start_time": "2023-04-09T11:35:00.246Z"
   },
   {
    "duration": 288,
    "start_time": "2023-04-09T11:35:37.405Z"
   },
   {
    "duration": 278,
    "start_time": "2023-04-09T11:38:27.719Z"
   },
   {
    "duration": 109,
    "start_time": "2023-04-09T11:41:37.166Z"
   },
   {
    "duration": 8,
    "start_time": "2023-04-09T11:47:10.448Z"
   },
   {
    "duration": 13,
    "start_time": "2023-04-09T11:47:19.066Z"
   },
   {
    "duration": 10,
    "start_time": "2023-04-09T11:48:28.505Z"
   },
   {
    "duration": 18,
    "start_time": "2023-04-09T11:48:42.158Z"
   },
   {
    "duration": 17,
    "start_time": "2023-04-09T11:52:50.908Z"
   },
   {
    "duration": 22,
    "start_time": "2023-04-09T12:10:22.482Z"
   },
   {
    "duration": 23,
    "start_time": "2023-04-09T12:11:33.146Z"
   },
   {
    "duration": 480,
    "start_time": "2023-04-09T12:11:50.026Z"
   },
   {
    "duration": 676,
    "start_time": "2023-04-09T12:11:55.513Z"
   },
   {
    "duration": 20,
    "start_time": "2023-04-09T12:12:12.657Z"
   },
   {
    "duration": 190,
    "start_time": "2023-04-09T12:20:39.232Z"
   },
   {
    "duration": 195,
    "start_time": "2023-04-09T12:20:43.956Z"
   },
   {
    "duration": 216,
    "start_time": "2023-04-09T12:25:39.629Z"
   },
   {
    "duration": 190,
    "start_time": "2023-04-09T12:26:40.024Z"
   },
   {
    "duration": 199,
    "start_time": "2023-04-09T12:26:58.352Z"
   },
   {
    "duration": 161,
    "start_time": "2023-04-09T12:28:11.265Z"
   },
   {
    "duration": 172,
    "start_time": "2023-04-09T12:29:56.951Z"
   },
   {
    "duration": 21,
    "start_time": "2023-04-09T12:34:14.017Z"
   },
   {
    "duration": 142,
    "start_time": "2023-04-09T12:34:24.387Z"
   },
   {
    "duration": 140,
    "start_time": "2023-04-09T12:35:09.014Z"
   },
   {
    "duration": 162,
    "start_time": "2023-04-09T12:35:23.998Z"
   },
   {
    "duration": 133,
    "start_time": "2023-04-09T12:35:48.117Z"
   },
   {
    "duration": 137,
    "start_time": "2023-04-09T12:37:22.666Z"
   },
   {
    "duration": 132,
    "start_time": "2023-04-09T12:37:32.970Z"
   },
   {
    "duration": 125,
    "start_time": "2023-04-09T12:37:56.346Z"
   },
   {
    "duration": 131,
    "start_time": "2023-04-09T12:38:24.211Z"
   },
   {
    "duration": 449,
    "start_time": "2023-04-09T12:41:00.256Z"
   },
   {
    "duration": 990,
    "start_time": "2023-04-09T12:41:52.566Z"
   },
   {
    "duration": 128,
    "start_time": "2023-04-09T12:42:00.934Z"
   },
   {
    "duration": 132,
    "start_time": "2023-04-09T12:42:07.527Z"
   },
   {
    "duration": 135,
    "start_time": "2023-04-09T12:45:03.609Z"
   },
   {
    "duration": 169,
    "start_time": "2023-04-09T12:45:34.585Z"
   },
   {
    "duration": 175,
    "start_time": "2023-04-09T12:47:33.727Z"
   },
   {
    "duration": 135,
    "start_time": "2023-04-09T12:49:06.299Z"
   },
   {
    "duration": 12,
    "start_time": "2023-04-09T13:17:43.371Z"
   },
   {
    "duration": 16,
    "start_time": "2023-04-09T13:17:57.325Z"
   },
   {
    "duration": 15,
    "start_time": "2023-04-09T13:19:02.934Z"
   },
   {
    "duration": 20,
    "start_time": "2023-04-09T13:19:11.993Z"
   },
   {
    "duration": 12,
    "start_time": "2023-04-09T13:21:18.048Z"
   },
   {
    "duration": 11,
    "start_time": "2023-04-09T13:21:28.447Z"
   },
   {
    "duration": 21,
    "start_time": "2023-04-09T13:28:28.966Z"
   },
   {
    "duration": 29,
    "start_time": "2023-04-09T13:28:36.139Z"
   },
   {
    "duration": 27,
    "start_time": "2023-04-09T13:29:08.286Z"
   },
   {
    "duration": 24,
    "start_time": "2023-04-09T13:29:32.828Z"
   },
   {
    "duration": 59,
    "start_time": "2023-04-09T13:31:46.893Z"
   },
   {
    "duration": 28,
    "start_time": "2023-04-09T13:33:15.686Z"
   },
   {
    "duration": 26,
    "start_time": "2023-04-09T13:33:25.182Z"
   },
   {
    "duration": 21,
    "start_time": "2023-04-09T13:33:57.005Z"
   },
   {
    "duration": 29,
    "start_time": "2023-04-09T13:34:22.114Z"
   },
   {
    "duration": 26,
    "start_time": "2023-04-09T13:34:26.610Z"
   },
   {
    "duration": 23,
    "start_time": "2023-04-09T13:35:53.250Z"
   },
   {
    "duration": 837,
    "start_time": "2023-04-09T13:39:06.827Z"
   },
   {
    "duration": 232,
    "start_time": "2023-04-09T13:39:31.251Z"
   },
   {
    "duration": 4334,
    "start_time": "2023-04-09T13:40:02.699Z"
   },
   {
    "duration": 5112,
    "start_time": "2023-04-09T13:40:15.006Z"
   },
   {
    "duration": 270,
    "start_time": "2023-04-09T13:41:54.143Z"
   },
   {
    "duration": 942,
    "start_time": "2023-04-09T13:42:19.384Z"
   },
   {
    "duration": 23,
    "start_time": "2023-04-09T13:42:37.234Z"
   },
   {
    "duration": 31,
    "start_time": "2023-04-09T13:44:38.768Z"
   },
   {
    "duration": 45,
    "start_time": "2023-04-09T13:45:08.219Z"
   },
   {
    "duration": 23,
    "start_time": "2023-04-09T13:45:25.566Z"
   },
   {
    "duration": 24,
    "start_time": "2023-04-09T13:45:32.376Z"
   },
   {
    "duration": 38,
    "start_time": "2023-04-09T13:46:56.016Z"
   },
   {
    "duration": 36,
    "start_time": "2023-04-09T13:47:06.881Z"
   },
   {
    "duration": 147,
    "start_time": "2023-04-09T13:48:27.833Z"
   },
   {
    "duration": 161,
    "start_time": "2023-04-09T13:49:49.098Z"
   },
   {
    "duration": 139,
    "start_time": "2023-04-09T13:50:22.184Z"
   },
   {
    "duration": 164,
    "start_time": "2023-04-09T13:51:00.334Z"
   },
   {
    "duration": 212,
    "start_time": "2023-04-09T13:51:49.602Z"
   },
   {
    "duration": 27,
    "start_time": "2023-04-09T13:52:25.469Z"
   },
   {
    "duration": 165,
    "start_time": "2023-04-09T13:53:26.958Z"
   },
   {
    "duration": 206,
    "start_time": "2023-04-09T13:54:18.462Z"
   },
   {
    "duration": 26,
    "start_time": "2023-04-09T13:55:00.863Z"
   },
   {
    "duration": 24,
    "start_time": "2023-04-09T13:55:11.159Z"
   },
   {
    "duration": 51,
    "start_time": "2023-04-09T13:55:59.473Z"
   },
   {
    "duration": 29,
    "start_time": "2023-04-09T13:56:14.684Z"
   },
   {
    "duration": 30,
    "start_time": "2023-04-09T13:56:21.812Z"
   },
   {
    "duration": 21,
    "start_time": "2023-04-09T13:56:27.302Z"
   },
   {
    "duration": 22,
    "start_time": "2023-04-09T13:56:51.799Z"
   },
   {
    "duration": 32,
    "start_time": "2023-04-09T13:57:09.826Z"
   },
   {
    "duration": 33,
    "start_time": "2023-04-09T13:57:18.330Z"
   },
   {
    "duration": 33,
    "start_time": "2023-04-09T13:57:23.836Z"
   },
   {
    "duration": 37,
    "start_time": "2023-04-09T13:57:44.427Z"
   },
   {
    "duration": 27,
    "start_time": "2023-04-09T13:58:29.965Z"
   },
   {
    "duration": 156,
    "start_time": "2023-04-09T13:59:02.281Z"
   },
   {
    "duration": 33,
    "start_time": "2023-04-09T13:59:17.728Z"
   },
   {
    "duration": 171,
    "start_time": "2023-04-09T13:59:37.559Z"
   },
   {
    "duration": 24,
    "start_time": "2023-04-09T13:59:57.475Z"
   },
   {
    "duration": 10,
    "start_time": "2023-04-09T14:03:27.707Z"
   },
   {
    "duration": 54,
    "start_time": "2023-04-09T14:08:02.908Z"
   },
   {
    "duration": 38,
    "start_time": "2023-04-09T14:12:10.229Z"
   },
   {
    "duration": 16,
    "start_time": "2023-04-09T14:12:23.426Z"
   },
   {
    "duration": 13,
    "start_time": "2023-04-09T14:13:07.554Z"
   },
   {
    "duration": 13,
    "start_time": "2023-04-09T14:13:41.572Z"
   },
   {
    "duration": 13,
    "start_time": "2023-04-09T14:13:57.983Z"
   },
   {
    "duration": 180,
    "start_time": "2023-04-09T14:14:05.630Z"
   },
   {
    "duration": 142,
    "start_time": "2023-04-09T14:14:30.690Z"
   },
   {
    "duration": 194,
    "start_time": "2023-04-09T14:14:38.308Z"
   },
   {
    "duration": 241,
    "start_time": "2023-04-09T14:14:47.316Z"
   },
   {
    "duration": 232,
    "start_time": "2023-04-09T14:15:02.962Z"
   },
   {
    "duration": 195,
    "start_time": "2023-04-09T14:15:15.394Z"
   },
   {
    "duration": 210,
    "start_time": "2023-04-09T14:16:53.997Z"
   },
   {
    "duration": 208,
    "start_time": "2023-04-09T14:18:07.375Z"
   },
   {
    "duration": 219,
    "start_time": "2023-04-09T14:19:33.230Z"
   },
   {
    "duration": 216,
    "start_time": "2023-04-09T14:19:42.983Z"
   },
   {
    "duration": 216,
    "start_time": "2023-04-09T14:20:23.688Z"
   },
   {
    "duration": 910,
    "start_time": "2023-04-09T14:37:20.677Z"
   },
   {
    "duration": 4,
    "start_time": "2023-04-09T14:37:51.934Z"
   },
   {
    "duration": 7,
    "start_time": "2023-04-09T14:38:00.511Z"
   },
   {
    "duration": 5,
    "start_time": "2023-04-09T14:41:16.168Z"
   },
   {
    "duration": 5,
    "start_time": "2023-04-09T14:41:34.363Z"
   },
   {
    "duration": 9,
    "start_time": "2023-04-09T14:41:48.725Z"
   },
   {
    "duration": 5,
    "start_time": "2023-04-09T14:41:56.471Z"
   },
   {
    "duration": 20,
    "start_time": "2023-04-09T14:47:36.393Z"
   },
   {
    "duration": 17,
    "start_time": "2023-04-09T14:47:55.394Z"
   },
   {
    "duration": 214,
    "start_time": "2023-04-09T16:02:49.479Z"
   },
   {
    "duration": 227,
    "start_time": "2023-04-09T16:03:18.896Z"
   },
   {
    "duration": 29,
    "start_time": "2023-04-09T16:37:37.364Z"
   },
   {
    "duration": 25,
    "start_time": "2023-04-09T16:38:49.210Z"
   },
   {
    "duration": 26,
    "start_time": "2023-04-09T16:39:15.278Z"
   },
   {
    "duration": 718,
    "start_time": "2023-04-09T17:56:50.097Z"
   },
   {
    "duration": 13,
    "start_time": "2023-04-09T17:56:50.817Z"
   },
   {
    "duration": 114,
    "start_time": "2023-04-09T17:56:50.832Z"
   },
   {
    "duration": 33,
    "start_time": "2023-04-09T17:56:50.948Z"
   },
   {
    "duration": 2071,
    "start_time": "2023-04-09T17:56:50.988Z"
   },
   {
    "duration": 13,
    "start_time": "2023-04-09T17:56:53.060Z"
   },
   {
    "duration": 5,
    "start_time": "2023-04-09T17:56:53.077Z"
   },
   {
    "duration": 13,
    "start_time": "2023-04-09T17:56:53.084Z"
   },
   {
    "duration": 13,
    "start_time": "2023-04-09T17:56:53.098Z"
   },
   {
    "duration": 23,
    "start_time": "2023-04-09T17:56:53.115Z"
   },
   {
    "duration": 35,
    "start_time": "2023-04-09T17:56:53.140Z"
   },
   {
    "duration": 22,
    "start_time": "2023-04-09T17:56:53.177Z"
   },
   {
    "duration": 12,
    "start_time": "2023-04-09T17:56:53.201Z"
   },
   {
    "duration": 16,
    "start_time": "2023-04-09T17:56:53.215Z"
   },
   {
    "duration": 7,
    "start_time": "2023-04-09T17:56:53.233Z"
   },
   {
    "duration": 13,
    "start_time": "2023-04-09T17:56:53.242Z"
   },
   {
    "duration": 10,
    "start_time": "2023-04-09T17:56:53.274Z"
   },
   {
    "duration": 12,
    "start_time": "2023-04-09T17:56:53.286Z"
   },
   {
    "duration": 11,
    "start_time": "2023-04-09T17:56:53.299Z"
   },
   {
    "duration": 182,
    "start_time": "2023-04-09T17:56:53.312Z"
   },
   {
    "duration": 17,
    "start_time": "2023-04-09T17:56:53.496Z"
   },
   {
    "duration": 22,
    "start_time": "2023-04-09T17:56:53.515Z"
   },
   {
    "duration": 9,
    "start_time": "2023-04-09T17:56:53.539Z"
   },
   {
    "duration": 146,
    "start_time": "2023-04-09T17:56:53.550Z"
   },
   {
    "duration": 13,
    "start_time": "2023-04-09T17:56:53.699Z"
   },
   {
    "duration": 29,
    "start_time": "2023-04-09T17:56:53.714Z"
   },
   {
    "duration": 381,
    "start_time": "2023-04-09T17:56:53.745Z"
   },
   {
    "duration": 29,
    "start_time": "2023-04-09T17:56:54.130Z"
   },
   {
    "duration": 30,
    "start_time": "2023-04-09T17:56:54.161Z"
   },
   {
    "duration": 206,
    "start_time": "2023-04-09T17:56:54.193Z"
   },
   {
    "duration": 121,
    "start_time": "2023-04-09T17:56:54.403Z"
   },
   {
    "duration": 15,
    "start_time": "2023-04-09T17:56:54.525Z"
   },
   {
    "duration": 14,
    "start_time": "2023-04-09T17:56:54.541Z"
   },
   {
    "duration": 221,
    "start_time": "2023-04-09T17:56:54.556Z"
   },
   {
    "duration": 17,
    "start_time": "2023-04-09T17:56:54.779Z"
   },
   {
    "duration": 178,
    "start_time": "2023-04-09T17:56:54.797Z"
   },
   {
    "duration": 19,
    "start_time": "2023-04-09T17:56:54.977Z"
   },
   {
    "duration": 215,
    "start_time": "2023-04-09T17:56:55.000Z"
   },
   {
    "duration": 167,
    "start_time": "2023-04-09T17:56:55.217Z"
   },
   {
    "duration": 22,
    "start_time": "2023-04-09T17:56:55.386Z"
   },
   {
    "duration": 174,
    "start_time": "2023-04-09T17:56:55.410Z"
   },
   {
    "duration": 18,
    "start_time": "2023-04-09T17:56:55.586Z"
   },
   {
    "duration": 13,
    "start_time": "2023-04-09T17:56:55.606Z"
   },
   {
    "duration": 130,
    "start_time": "2023-04-09T17:56:55.621Z"
   },
   {
    "duration": 9,
    "start_time": "2023-04-09T17:56:55.752Z"
   },
   {
    "duration": 25,
    "start_time": "2023-04-09T17:56:55.762Z"
   },
   {
    "duration": 7,
    "start_time": "2023-04-09T17:56:55.788Z"
   },
   {
    "duration": 7,
    "start_time": "2023-04-09T17:56:55.796Z"
   },
   {
    "duration": 126,
    "start_time": "2023-04-09T17:56:55.805Z"
   },
   {
    "duration": 144,
    "start_time": "2023-04-09T17:56:55.932Z"
   },
   {
    "duration": 8,
    "start_time": "2023-04-09T17:56:56.077Z"
   },
   {
    "duration": 17,
    "start_time": "2023-04-09T17:56:56.086Z"
   },
   {
    "duration": 237,
    "start_time": "2023-04-09T17:56:56.105Z"
   },
   {
    "duration": 8,
    "start_time": "2023-04-09T17:56:56.344Z"
   },
   {
    "duration": 26,
    "start_time": "2023-04-09T17:56:56.353Z"
   },
   {
    "duration": 9,
    "start_time": "2023-04-09T17:56:56.381Z"
   },
   {
    "duration": 164,
    "start_time": "2023-04-09T17:56:56.392Z"
   },
   {
    "duration": 375,
    "start_time": "2023-04-09T17:56:56.558Z"
   },
   {
    "duration": 376,
    "start_time": "2023-04-09T17:56:56.934Z"
   },
   {
    "duration": 21,
    "start_time": "2023-04-09T17:56:57.313Z"
   },
   {
    "duration": 17,
    "start_time": "2023-04-09T17:56:57.336Z"
   },
   {
    "duration": 9,
    "start_time": "2023-04-09T17:56:57.355Z"
   },
   {
    "duration": 26,
    "start_time": "2023-04-09T17:56:57.366Z"
   },
   {
    "duration": 19,
    "start_time": "2023-04-09T17:56:57.394Z"
   },
   {
    "duration": 5,
    "start_time": "2023-04-09T17:56:57.416Z"
   },
   {
    "duration": 21,
    "start_time": "2023-04-09T17:56:57.423Z"
   },
   {
    "duration": 15,
    "start_time": "2023-04-09T17:56:57.446Z"
   },
   {
    "duration": 14,
    "start_time": "2023-04-09T17:56:57.463Z"
   },
   {
    "duration": 135,
    "start_time": "2023-04-09T17:56:57.479Z"
   },
   {
    "duration": 294,
    "start_time": "2023-04-09T17:56:57.616Z"
   },
   {
    "duration": 118,
    "start_time": "2023-04-09T17:56:57.911Z"
   },
   {
    "duration": 480,
    "start_time": "2023-04-09T17:56:58.031Z"
   },
   {
    "duration": 275,
    "start_time": "2023-04-09T17:56:58.514Z"
   },
   {
    "duration": 734,
    "start_time": "2023-04-09T17:56:58.791Z"
   },
   {
    "duration": 213,
    "start_time": "2023-04-09T17:56:59.527Z"
   },
   {
    "duration": 199,
    "start_time": "2023-04-09T17:56:59.742Z"
   },
   {
    "duration": 191,
    "start_time": "2023-04-09T17:56:59.943Z"
   },
   {
    "duration": 141,
    "start_time": "2023-04-09T17:57:00.136Z"
   },
   {
    "duration": 185,
    "start_time": "2023-04-09T17:57:00.278Z"
   },
   {
    "duration": 269,
    "start_time": "2023-04-09T17:57:00.465Z"
   },
   {
    "duration": 276,
    "start_time": "2023-04-09T17:57:00.736Z"
   },
   {
    "duration": 273,
    "start_time": "2023-04-09T17:57:01.020Z"
   },
   {
    "duration": 416,
    "start_time": "2023-04-09T17:57:01.295Z"
   },
   {
    "duration": 336,
    "start_time": "2023-04-09T17:57:01.712Z"
   },
   {
    "duration": 158,
    "start_time": "2023-04-09T17:57:02.050Z"
   },
   {
    "duration": 19,
    "start_time": "2023-04-09T17:57:02.210Z"
   },
   {
    "duration": 22,
    "start_time": "2023-04-09T17:57:02.231Z"
   },
   {
    "duration": 198,
    "start_time": "2023-04-09T17:57:02.268Z"
   },
   {
    "duration": 252,
    "start_time": "2023-04-09T17:57:02.468Z"
   },
   {
    "duration": 208,
    "start_time": "2023-04-09T17:57:02.721Z"
   },
   {
    "duration": 157,
    "start_time": "2023-04-09T17:57:02.930Z"
   },
   {
    "duration": 160,
    "start_time": "2023-04-09T17:57:03.088Z"
   },
   {
    "duration": 167,
    "start_time": "2023-04-09T17:57:03.250Z"
   },
   {
    "duration": 186,
    "start_time": "2023-04-09T17:57:03.420Z"
   },
   {
    "duration": 156,
    "start_time": "2023-04-09T17:57:03.609Z"
   },
   {
    "duration": 38,
    "start_time": "2023-04-09T17:57:03.767Z"
   },
   {
    "duration": 11,
    "start_time": "2023-04-09T17:57:03.807Z"
   },
   {
    "duration": 26,
    "start_time": "2023-04-09T17:57:03.820Z"
   },
   {
    "duration": 184,
    "start_time": "2023-04-09T17:57:03.848Z"
   },
   {
    "duration": 23,
    "start_time": "2023-04-09T17:57:04.034Z"
   },
   {
    "duration": 5,
    "start_time": "2023-04-09T18:20:58.325Z"
   },
   {
    "duration": 5,
    "start_time": "2023-04-09T18:21:21.259Z"
   },
   {
    "duration": 730,
    "start_time": "2023-04-09T19:44:36.268Z"
   },
   {
    "duration": 321,
    "start_time": "2023-04-09T19:44:39.005Z"
   },
   {
    "duration": 101,
    "start_time": "2023-04-09T19:51:55.859Z"
   },
   {
    "duration": 104,
    "start_time": "2023-04-09T19:52:06.812Z"
   },
   {
    "duration": 106,
    "start_time": "2023-04-09T19:52:29.395Z"
   },
   {
    "duration": 1670,
    "start_time": "2023-04-09T19:54:12.281Z"
   },
   {
    "duration": 68,
    "start_time": "2023-04-09T20:09:49.896Z"
   }
  ],
  "kernelspec": {
   "display_name": "Python 3 (ipykernel)",
   "language": "python",
   "name": "python3"
  },
  "language_info": {
   "codemirror_mode": {
    "name": "ipython",
    "version": 3
   },
   "file_extension": ".py",
   "mimetype": "text/x-python",
   "name": "python",
   "nbconvert_exporter": "python",
   "pygments_lexer": "ipython3",
   "version": "3.10.9"
  },
  "toc": {
   "base_numbering": 1,
   "nav_menu": {},
   "number_sections": true,
   "sideBar": true,
   "skip_h1_title": true,
   "title_cell": "Table of Contents",
   "title_sidebar": "Contents",
   "toc_cell": false,
   "toc_position": {},
   "toc_section_display": true,
   "toc_window_display": true
  }
 },
 "nbformat": 4,
 "nbformat_minor": 2
}
