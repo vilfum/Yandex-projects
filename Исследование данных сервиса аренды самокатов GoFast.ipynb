{
 "cells": [
  {
   "cell_type": "markdown",
   "id": "627d4db0",
   "metadata": {},
   "source": [
    "# Исследование данных сервиса аренды самокатов GoFast"
   ]
  },
  {
   "cell_type": "markdown",
   "id": "948a7ec2",
   "metadata": {},
   "source": [
    "Чтобы совершать поездки по городу, пользователи сервиса GoFast пользуются мобильным приложением. \n",
    "\n",
    "Сервисом можно пользоваться:\n",
    "- без подписки\n",
    " - абонентская плата отсутствует;\n",
    " - стоимость одной минуты поездки — 8 рублей;\n",
    " - стоимость старта (начала поездки) — 50 рублей;\n",
    "- с подпиской Ultra\n",
    " - абонентская плата — 199 рублей в месяц;\n",
    " - стоимость одной минуты поездки — 6 рублей;\n",
    " - стоимость старта — бесплатно."
   ]
  },
  {
   "cell_type": "markdown",
   "id": "62a6a212",
   "metadata": {},
   "source": [
    "***Описание данных***\n",
    "\n",
    "В основных данных есть информация о пользователях, их поездках и подписках. Есть и дополнительная информация — о количестве обращений пользователей в техподдержку сервиса до и после обновления технической инфраструктуры.\n",
    "- Пользователи — users_go.csv\n",
    "- Поездки — rides_go.csv\n",
    "- Подписки — subscriptions_go.csv"
   ]
  },
  {
   "cell_type": "markdown",
   "id": "b03b1a14",
   "metadata": {},
   "source": [
    "***Таблица users***\n",
    "\n",
    "Хранит следующие данные о пользователях:\n",
    "\n",
    "- user_id - идентификатор пользователя\n",
    "- name - имя пользователя\n",
    "- city - город\n",
    "- subscription_type - тип подписки пользователя (бесплатная или платная)"
   ]
  },
  {
   "cell_type": "markdown",
   "id": "fe4758d3",
   "metadata": {},
   "source": [
    "***Таблица rides***\n",
    "\n",
    "Имеет данные о поездках:\n",
    "\n",
    "- user_id - идентификатор пользователя\n",
    "- distance - дистанция поездки\n",
    "- duration - продолжительность поездки\n",
    "- date - дата поездки"
   ]
  },
  {
   "cell_type": "markdown",
   "id": "6812d397",
   "metadata": {},
   "source": [
    "***Таблица subscriptions***\n",
    "\n",
    "Содержит лишь две строки с описанием подписок:\n",
    "\n",
    "- subscription_type - тип подписки\n",
    "- minute_price - стоимость минуты поездки \n",
    "- start_ride_price - стоимость старта\n",
    "- subscription_fee - стоимость подписки"
   ]
  },
  {
   "cell_type": "markdown",
   "id": "c42cbe00",
   "metadata": {},
   "source": [
    "#### Шаг 1. Загрузка данных"
   ]
  },
  {
   "cell_type": "markdown",
   "id": "dd822d58",
   "metadata": {},
   "source": [
    "Импорт библиотек"
   ]
  },
  {
   "cell_type": "code",
   "execution_count": 1,
   "id": "7bdba713",
   "metadata": {},
   "outputs": [],
   "source": [
    "import pandas as pd\n",
    "import numpy as np\n",
    "import matplotlib.pyplot as plt\n",
    "import seaborn as sns\n",
    "from math import sqrt\n",
    "from scipy import stats as st"
   ]
  },
  {
   "cell_type": "markdown",
   "id": "6e6e1287",
   "metadata": {},
   "source": [
    "Считываем файлы и сохраняем в переменные:"
   ]
  },
  {
   "cell_type": "code",
   "execution_count": 2,
   "id": "a0e2804d",
   "metadata": {},
   "outputs": [],
   "source": [
    "users = pd.read_csv('/datasets/users_go.csv')\n",
    "rides = pd.read_csv('/datasets/rides_go.csv')\n",
    "subscriptions = pd.read_csv('/datasets/subscriptions_go.csv')"
   ]
  },
  {
   "cell_type": "markdown",
   "id": "60d0e2d5",
   "metadata": {},
   "source": [
    "Посмотрим первые строки таблиц:"
   ]
  },
  {
   "cell_type": "code",
   "execution_count": 3,
   "id": "eecf11dc",
   "metadata": {},
   "outputs": [
    {
     "data": {
      "text/html": [
       "<div>\n",
       "<style scoped>\n",
       "    .dataframe tbody tr th:only-of-type {\n",
       "        vertical-align: middle;\n",
       "    }\n",
       "\n",
       "    .dataframe tbody tr th {\n",
       "        vertical-align: top;\n",
       "    }\n",
       "\n",
       "    .dataframe thead th {\n",
       "        text-align: right;\n",
       "    }\n",
       "</style>\n",
       "<table border=\"1\" class=\"dataframe\">\n",
       "  <thead>\n",
       "    <tr style=\"text-align: right;\">\n",
       "      <th></th>\n",
       "      <th>user_id</th>\n",
       "      <th>name</th>\n",
       "      <th>age</th>\n",
       "      <th>city</th>\n",
       "      <th>subscription_type</th>\n",
       "    </tr>\n",
       "  </thead>\n",
       "  <tbody>\n",
       "    <tr>\n",
       "      <th>0</th>\n",
       "      <td>1</td>\n",
       "      <td>Кира</td>\n",
       "      <td>22</td>\n",
       "      <td>Тюмень</td>\n",
       "      <td>ultra</td>\n",
       "    </tr>\n",
       "    <tr>\n",
       "      <th>1</th>\n",
       "      <td>2</td>\n",
       "      <td>Станислав</td>\n",
       "      <td>31</td>\n",
       "      <td>Омск</td>\n",
       "      <td>ultra</td>\n",
       "    </tr>\n",
       "    <tr>\n",
       "      <th>2</th>\n",
       "      <td>3</td>\n",
       "      <td>Алексей</td>\n",
       "      <td>20</td>\n",
       "      <td>Москва</td>\n",
       "      <td>ultra</td>\n",
       "    </tr>\n",
       "    <tr>\n",
       "      <th>3</th>\n",
       "      <td>4</td>\n",
       "      <td>Константин</td>\n",
       "      <td>26</td>\n",
       "      <td>Ростов-на-Дону</td>\n",
       "      <td>ultra</td>\n",
       "    </tr>\n",
       "    <tr>\n",
       "      <th>4</th>\n",
       "      <td>5</td>\n",
       "      <td>Адель</td>\n",
       "      <td>28</td>\n",
       "      <td>Омск</td>\n",
       "      <td>ultra</td>\n",
       "    </tr>\n",
       "  </tbody>\n",
       "</table>\n",
       "</div>"
      ],
      "text/plain": [
       "   user_id        name  age            city subscription_type\n",
       "0        1        Кира   22          Тюмень             ultra\n",
       "1        2   Станислав   31            Омск             ultra\n",
       "2        3     Алексей   20          Москва             ultra\n",
       "3        4  Константин   26  Ростов-на-Дону             ultra\n",
       "4        5       Адель   28            Омск             ultra"
      ]
     },
     "execution_count": 3,
     "metadata": {},
     "output_type": "execute_result"
    }
   ],
   "source": [
    "users.head()"
   ]
  },
  {
   "cell_type": "code",
   "execution_count": 4,
   "id": "25810bad",
   "metadata": {},
   "outputs": [
    {
     "data": {
      "text/html": [
       "<div>\n",
       "<style scoped>\n",
       "    .dataframe tbody tr th:only-of-type {\n",
       "        vertical-align: middle;\n",
       "    }\n",
       "\n",
       "    .dataframe tbody tr th {\n",
       "        vertical-align: top;\n",
       "    }\n",
       "\n",
       "    .dataframe thead th {\n",
       "        text-align: right;\n",
       "    }\n",
       "</style>\n",
       "<table border=\"1\" class=\"dataframe\">\n",
       "  <thead>\n",
       "    <tr style=\"text-align: right;\">\n",
       "      <th></th>\n",
       "      <th>user_id</th>\n",
       "      <th>age</th>\n",
       "    </tr>\n",
       "  </thead>\n",
       "  <tbody>\n",
       "    <tr>\n",
       "      <th>count</th>\n",
       "      <td>1565.000000</td>\n",
       "      <td>1565.000000</td>\n",
       "    </tr>\n",
       "    <tr>\n",
       "      <th>mean</th>\n",
       "      <td>762.633866</td>\n",
       "      <td>24.922045</td>\n",
       "    </tr>\n",
       "    <tr>\n",
       "      <th>std</th>\n",
       "      <td>443.260155</td>\n",
       "      <td>4.553496</td>\n",
       "    </tr>\n",
       "    <tr>\n",
       "      <th>min</th>\n",
       "      <td>1.000000</td>\n",
       "      <td>12.000000</td>\n",
       "    </tr>\n",
       "    <tr>\n",
       "      <th>25%</th>\n",
       "      <td>378.000000</td>\n",
       "      <td>22.000000</td>\n",
       "    </tr>\n",
       "    <tr>\n",
       "      <th>50%</th>\n",
       "      <td>762.000000</td>\n",
       "      <td>25.000000</td>\n",
       "    </tr>\n",
       "    <tr>\n",
       "      <th>75%</th>\n",
       "      <td>1146.000000</td>\n",
       "      <td>28.000000</td>\n",
       "    </tr>\n",
       "    <tr>\n",
       "      <th>max</th>\n",
       "      <td>1534.000000</td>\n",
       "      <td>43.000000</td>\n",
       "    </tr>\n",
       "  </tbody>\n",
       "</table>\n",
       "</div>"
      ],
      "text/plain": [
       "           user_id          age\n",
       "count  1565.000000  1565.000000\n",
       "mean    762.633866    24.922045\n",
       "std     443.260155     4.553496\n",
       "min       1.000000    12.000000\n",
       "25%     378.000000    22.000000\n",
       "50%     762.000000    25.000000\n",
       "75%    1146.000000    28.000000\n",
       "max    1534.000000    43.000000"
      ]
     },
     "execution_count": 4,
     "metadata": {},
     "output_type": "execute_result"
    }
   ],
   "source": [
    "users.describe()"
   ]
  },
  {
   "cell_type": "code",
   "execution_count": 5,
   "id": "b94f4ea3",
   "metadata": {},
   "outputs": [
    {
     "data": {
      "text/html": [
       "<div>\n",
       "<style scoped>\n",
       "    .dataframe tbody tr th:only-of-type {\n",
       "        vertical-align: middle;\n",
       "    }\n",
       "\n",
       "    .dataframe tbody tr th {\n",
       "        vertical-align: top;\n",
       "    }\n",
       "\n",
       "    .dataframe thead th {\n",
       "        text-align: right;\n",
       "    }\n",
       "</style>\n",
       "<table border=\"1\" class=\"dataframe\">\n",
       "  <thead>\n",
       "    <tr style=\"text-align: right;\">\n",
       "      <th></th>\n",
       "      <th>user_id</th>\n",
       "      <th>distance</th>\n",
       "      <th>duration</th>\n",
       "      <th>date</th>\n",
       "    </tr>\n",
       "  </thead>\n",
       "  <tbody>\n",
       "    <tr>\n",
       "      <th>0</th>\n",
       "      <td>1</td>\n",
       "      <td>4409.919140</td>\n",
       "      <td>25.599769</td>\n",
       "      <td>2021-01-01</td>\n",
       "    </tr>\n",
       "    <tr>\n",
       "      <th>1</th>\n",
       "      <td>1</td>\n",
       "      <td>2617.592153</td>\n",
       "      <td>15.816871</td>\n",
       "      <td>2021-01-18</td>\n",
       "    </tr>\n",
       "    <tr>\n",
       "      <th>2</th>\n",
       "      <td>1</td>\n",
       "      <td>754.159807</td>\n",
       "      <td>6.232113</td>\n",
       "      <td>2021-04-20</td>\n",
       "    </tr>\n",
       "    <tr>\n",
       "      <th>3</th>\n",
       "      <td>1</td>\n",
       "      <td>2694.783254</td>\n",
       "      <td>18.511000</td>\n",
       "      <td>2021-08-11</td>\n",
       "    </tr>\n",
       "    <tr>\n",
       "      <th>4</th>\n",
       "      <td>1</td>\n",
       "      <td>4028.687306</td>\n",
       "      <td>26.265803</td>\n",
       "      <td>2021-08-28</td>\n",
       "    </tr>\n",
       "  </tbody>\n",
       "</table>\n",
       "</div>"
      ],
      "text/plain": [
       "   user_id     distance   duration        date\n",
       "0        1  4409.919140  25.599769  2021-01-01\n",
       "1        1  2617.592153  15.816871  2021-01-18\n",
       "2        1   754.159807   6.232113  2021-04-20\n",
       "3        1  2694.783254  18.511000  2021-08-11\n",
       "4        1  4028.687306  26.265803  2021-08-28"
      ]
     },
     "execution_count": 5,
     "metadata": {},
     "output_type": "execute_result"
    }
   ],
   "source": [
    "rides.head()"
   ]
  },
  {
   "cell_type": "code",
   "execution_count": 6,
   "id": "05c31c07",
   "metadata": {},
   "outputs": [
    {
     "data": {
      "text/html": [
       "<div>\n",
       "<style scoped>\n",
       "    .dataframe tbody tr th:only-of-type {\n",
       "        vertical-align: middle;\n",
       "    }\n",
       "\n",
       "    .dataframe tbody tr th {\n",
       "        vertical-align: top;\n",
       "    }\n",
       "\n",
       "    .dataframe thead th {\n",
       "        text-align: right;\n",
       "    }\n",
       "</style>\n",
       "<table border=\"1\" class=\"dataframe\">\n",
       "  <thead>\n",
       "    <tr style=\"text-align: right;\">\n",
       "      <th></th>\n",
       "      <th>user_id</th>\n",
       "      <th>distance</th>\n",
       "      <th>duration</th>\n",
       "    </tr>\n",
       "  </thead>\n",
       "  <tbody>\n",
       "    <tr>\n",
       "      <th>count</th>\n",
       "      <td>18068.000000</td>\n",
       "      <td>18068.000000</td>\n",
       "      <td>18068.000000</td>\n",
       "    </tr>\n",
       "    <tr>\n",
       "      <th>mean</th>\n",
       "      <td>842.869936</td>\n",
       "      <td>3070.659976</td>\n",
       "      <td>17.805011</td>\n",
       "    </tr>\n",
       "    <tr>\n",
       "      <th>std</th>\n",
       "      <td>434.734317</td>\n",
       "      <td>1116.831209</td>\n",
       "      <td>6.091051</td>\n",
       "    </tr>\n",
       "    <tr>\n",
       "      <th>min</th>\n",
       "      <td>1.000000</td>\n",
       "      <td>0.855683</td>\n",
       "      <td>0.500000</td>\n",
       "    </tr>\n",
       "    <tr>\n",
       "      <th>25%</th>\n",
       "      <td>487.000000</td>\n",
       "      <td>2543.226360</td>\n",
       "      <td>13.597563</td>\n",
       "    </tr>\n",
       "    <tr>\n",
       "      <th>50%</th>\n",
       "      <td>889.000000</td>\n",
       "      <td>3133.609994</td>\n",
       "      <td>17.678395</td>\n",
       "    </tr>\n",
       "    <tr>\n",
       "      <th>75%</th>\n",
       "      <td>1213.250000</td>\n",
       "      <td>3776.222735</td>\n",
       "      <td>21.724800</td>\n",
       "    </tr>\n",
       "    <tr>\n",
       "      <th>max</th>\n",
       "      <td>1534.000000</td>\n",
       "      <td>7211.007745</td>\n",
       "      <td>40.823963</td>\n",
       "    </tr>\n",
       "  </tbody>\n",
       "</table>\n",
       "</div>"
      ],
      "text/plain": [
       "            user_id      distance      duration\n",
       "count  18068.000000  18068.000000  18068.000000\n",
       "mean     842.869936   3070.659976     17.805011\n",
       "std      434.734317   1116.831209      6.091051\n",
       "min        1.000000      0.855683      0.500000\n",
       "25%      487.000000   2543.226360     13.597563\n",
       "50%      889.000000   3133.609994     17.678395\n",
       "75%     1213.250000   3776.222735     21.724800\n",
       "max     1534.000000   7211.007745     40.823963"
      ]
     },
     "execution_count": 6,
     "metadata": {},
     "output_type": "execute_result"
    }
   ],
   "source": [
    "rides.describe()"
   ]
  },
  {
   "cell_type": "code",
   "execution_count": 7,
   "id": "479cedc1",
   "metadata": {},
   "outputs": [
    {
     "data": {
      "text/html": [
       "<div>\n",
       "<style scoped>\n",
       "    .dataframe tbody tr th:only-of-type {\n",
       "        vertical-align: middle;\n",
       "    }\n",
       "\n",
       "    .dataframe tbody tr th {\n",
       "        vertical-align: top;\n",
       "    }\n",
       "\n",
       "    .dataframe thead th {\n",
       "        text-align: right;\n",
       "    }\n",
       "</style>\n",
       "<table border=\"1\" class=\"dataframe\">\n",
       "  <thead>\n",
       "    <tr style=\"text-align: right;\">\n",
       "      <th></th>\n",
       "      <th>subscription_type</th>\n",
       "      <th>minute_price</th>\n",
       "      <th>start_ride_price</th>\n",
       "      <th>subscription_fee</th>\n",
       "    </tr>\n",
       "  </thead>\n",
       "  <tbody>\n",
       "    <tr>\n",
       "      <th>0</th>\n",
       "      <td>free</td>\n",
       "      <td>8</td>\n",
       "      <td>50</td>\n",
       "      <td>0</td>\n",
       "    </tr>\n",
       "    <tr>\n",
       "      <th>1</th>\n",
       "      <td>ultra</td>\n",
       "      <td>6</td>\n",
       "      <td>0</td>\n",
       "      <td>199</td>\n",
       "    </tr>\n",
       "  </tbody>\n",
       "</table>\n",
       "</div>"
      ],
      "text/plain": [
       "  subscription_type  minute_price  start_ride_price  subscription_fee\n",
       "0              free             8                50                 0\n",
       "1             ultra             6                 0               199"
      ]
     },
     "execution_count": 7,
     "metadata": {},
     "output_type": "execute_result"
    }
   ],
   "source": [
    "subscriptions"
   ]
  },
  {
   "cell_type": "markdown",
   "id": "e95ebca7",
   "metadata": {},
   "source": [
    "#### Шаг 2. Предобработка данных"
   ]
  },
  {
   "cell_type": "markdown",
   "id": "4f0ec06a",
   "metadata": {},
   "source": [
    "##### Изменение типов данных"
   ]
  },
  {
   "cell_type": "markdown",
   "id": "de44c012",
   "metadata": {},
   "source": [
    "Посмотрим типы данных в таблицах:"
   ]
  },
  {
   "cell_type": "code",
   "execution_count": 8,
   "id": "1b6415c1",
   "metadata": {},
   "outputs": [
    {
     "name": "stdout",
     "output_type": "stream",
     "text": [
      "<class 'pandas.core.frame.DataFrame'>\n",
      "RangeIndex: 1565 entries, 0 to 1564\n",
      "Data columns (total 5 columns):\n",
      " #   Column             Non-Null Count  Dtype \n",
      "---  ------             --------------  ----- \n",
      " 0   user_id            1565 non-null   int64 \n",
      " 1   name               1565 non-null   object\n",
      " 2   age                1565 non-null   int64 \n",
      " 3   city               1565 non-null   object\n",
      " 4   subscription_type  1565 non-null   object\n",
      "dtypes: int64(2), object(3)\n",
      "memory usage: 61.3+ KB\n"
     ]
    }
   ],
   "source": [
    "users.info()"
   ]
  },
  {
   "cell_type": "code",
   "execution_count": 9,
   "id": "3e694d84",
   "metadata": {},
   "outputs": [
    {
     "name": "stdout",
     "output_type": "stream",
     "text": [
      "<class 'pandas.core.frame.DataFrame'>\n",
      "RangeIndex: 18068 entries, 0 to 18067\n",
      "Data columns (total 4 columns):\n",
      " #   Column    Non-Null Count  Dtype  \n",
      "---  ------    --------------  -----  \n",
      " 0   user_id   18068 non-null  int64  \n",
      " 1   distance  18068 non-null  float64\n",
      " 2   duration  18068 non-null  float64\n",
      " 3   date      18068 non-null  object \n",
      "dtypes: float64(2), int64(1), object(1)\n",
      "memory usage: 564.8+ KB\n"
     ]
    }
   ],
   "source": [
    "rides.info()"
   ]
  },
  {
   "cell_type": "code",
   "execution_count": 10,
   "id": "62120e56",
   "metadata": {
    "scrolled": false
   },
   "outputs": [
    {
     "name": "stdout",
     "output_type": "stream",
     "text": [
      "<class 'pandas.core.frame.DataFrame'>\n",
      "RangeIndex: 2 entries, 0 to 1\n",
      "Data columns (total 4 columns):\n",
      " #   Column             Non-Null Count  Dtype \n",
      "---  ------             --------------  ----- \n",
      " 0   subscription_type  2 non-null      object\n",
      " 1   minute_price       2 non-null      int64 \n",
      " 2   start_ride_price   2 non-null      int64 \n",
      " 3   subscription_fee   2 non-null      int64 \n",
      "dtypes: int64(3), object(1)\n",
      "memory usage: 192.0+ bytes\n"
     ]
    }
   ],
   "source": [
    "subscriptions.info()"
   ]
  },
  {
   "cell_type": "markdown",
   "id": "9ba8f850",
   "metadata": {},
   "source": [
    "Тип данных в столбце date таблицы rides необходимо изменить на тип datetime. В остальных столбцах типы соответствуют содержанию."
   ]
  },
  {
   "cell_type": "code",
   "execution_count": 11,
   "id": "53896487",
   "metadata": {},
   "outputs": [
    {
     "data": {
      "text/plain": [
       "dtype('<M8[ns]')"
      ]
     },
     "execution_count": 11,
     "metadata": {},
     "output_type": "execute_result"
    }
   ],
   "source": [
    "# Меняем тип данных с помощью метода pd.to_datetime() и указываем необходимый формат\n",
    "rides['date'] = pd.to_datetime(rides['date'],format='%Y-%m-%d')\n",
    "# Проверяем успешность вызовом .dtype\n",
    "rides['date'].dtype"
   ]
  },
  {
   "cell_type": "markdown",
   "id": "fb75fa00",
   "metadata": {},
   "source": [
    "***Итог:*** Изменили тип данных только в столбце date  на тип datetime"
   ]
  },
  {
   "cell_type": "markdown",
   "id": "95ff2610",
   "metadata": {},
   "source": [
    "##### Дополнение данных"
   ]
  },
  {
   "cell_type": "markdown",
   "id": "9c4535e5",
   "metadata": {},
   "source": [
    "Добавим столбец с номером месяца в таблицу rides:"
   ]
  },
  {
   "cell_type": "code",
   "execution_count": 12,
   "id": "cef9b742",
   "metadata": {},
   "outputs": [],
   "source": [
    "rides['month'] = rides['date'].dt.month"
   ]
  },
  {
   "cell_type": "markdown",
   "id": "7bff5a42",
   "metadata": {},
   "source": [
    "Проверим за какие годы у нас имеются данные:"
   ]
  },
  {
   "cell_type": "code",
   "execution_count": 13,
   "id": "773c52bc",
   "metadata": {},
   "outputs": [
    {
     "data": {
      "text/plain": [
       "array([2021])"
      ]
     },
     "execution_count": 13,
     "metadata": {},
     "output_type": "execute_result"
    }
   ],
   "source": [
    "rides['date'].dt.year.unique()"
   ]
  },
  {
   "cell_type": "markdown",
   "id": "4fe94cc3",
   "metadata": {},
   "source": [
    "##### Работа с пропусками и дубликатами "
   ]
  },
  {
   "cell_type": "markdown",
   "id": "fab67f87",
   "metadata": {},
   "source": [
    "В разделе с изменением типов данных при вызове info() удалось установить, что в таблицах нет пропусков.\n",
    "\n",
    "Изучим дубликаты по таблицам:"
   ]
  },
  {
   "cell_type": "markdown",
   "id": "63aba5d7",
   "metadata": {},
   "source": [
    "***users***"
   ]
  },
  {
   "cell_type": "markdown",
   "id": "758f9a68",
   "metadata": {},
   "source": [
    "Так как датафрейм хранит данные о пользователях, то строки не должны повторяться, соответственно необходимо проверить наличие явных дубликатов. "
   ]
  },
  {
   "cell_type": "code",
   "execution_count": 14,
   "id": "94ec91a5",
   "metadata": {},
   "outputs": [
    {
     "data": {
      "text/plain": [
       "31"
      ]
     },
     "execution_count": 14,
     "metadata": {},
     "output_type": "execute_result"
    }
   ],
   "source": [
    "users.duplicated().sum()"
   ]
  },
  {
   "cell_type": "markdown",
   "id": "03fd0e4b",
   "metadata": {},
   "source": [
    "Избавимся от дубликатов:"
   ]
  },
  {
   "cell_type": "code",
   "execution_count": 15,
   "id": "a8e4fd60",
   "metadata": {},
   "outputs": [
    {
     "data": {
      "text/plain": [
       "0"
      ]
     },
     "execution_count": 15,
     "metadata": {},
     "output_type": "execute_result"
    }
   ],
   "source": [
    "users = users.drop_duplicates()\n",
    "users.duplicated().sum()"
   ]
  },
  {
   "cell_type": "markdown",
   "id": "59ff1c80",
   "metadata": {},
   "source": [
    "Есть вероятность, что есть неявные дубликаты в столбе с городом, нужно проверить:"
   ]
  },
  {
   "cell_type": "code",
   "execution_count": 16,
   "id": "dace5aa7",
   "metadata": {},
   "outputs": [
    {
     "data": {
      "text/plain": [
       "Пятигорск         219\n",
       "Екатеринбург      204\n",
       "Ростов-на-Дону    198\n",
       "Краснодар         193\n",
       "Сочи              189\n",
       "Омск              183\n",
       "Тюмень            180\n",
       "Москва            168\n",
       "Name: city, dtype: int64"
      ]
     },
     "execution_count": 16,
     "metadata": {},
     "output_type": "execute_result"
    }
   ],
   "source": [
    "users['city'].value_counts()"
   ]
  },
  {
   "cell_type": "markdown",
   "id": "1ad56f00",
   "metadata": {},
   "source": [
    "Дубликатов нет, вероятно данные не заполнялись вручную. "
   ]
  },
  {
   "cell_type": "markdown",
   "id": "3dc14f4b",
   "metadata": {},
   "source": [
    "***rides***"
   ]
  },
  {
   "cell_type": "markdown",
   "id": "0ac6915d",
   "metadata": {},
   "source": [
    "В данной таблице могут быть только явные дубликаты, их и проверим:"
   ]
  },
  {
   "cell_type": "code",
   "execution_count": 17,
   "id": "fea8c280",
   "metadata": {},
   "outputs": [
    {
     "data": {
      "text/plain": [
       "0"
      ]
     },
     "execution_count": 17,
     "metadata": {},
     "output_type": "execute_result"
    }
   ],
   "source": [
    "rides.duplicated().sum()"
   ]
  },
  {
   "cell_type": "markdown",
   "id": "414516b1",
   "metadata": {},
   "source": [
    "***subscriptions***"
   ]
  },
  {
   "cell_type": "markdown",
   "id": "923e306f",
   "metadata": {},
   "source": [
    "Всего две строки с двумя типами подписок, проверка не требуется, по самой таблице видим отсутствие дубликатов."
   ]
  },
  {
   "cell_type": "markdown",
   "id": "e2614137",
   "metadata": {},
   "source": [
    "***Итог:*** В результате предобработки избавились от явных дубликатов в таблице users, к дургим датасетам замечаний нет."
   ]
  },
  {
   "cell_type": "markdown",
   "id": "212593c7",
   "metadata": {},
   "source": [
    "#### Шаг 3. Исследовательский анализ данных"
   ]
  },
  {
   "cell_type": "markdown",
   "id": "967fa14a",
   "metadata": {},
   "source": [
    "##### Частота встречаемости городов"
   ]
  },
  {
   "cell_type": "markdown",
   "id": "62ff16d1",
   "metadata": {},
   "source": [
    "Построим график по количеству городов в таблице users:"
   ]
  },
  {
   "cell_type": "code",
   "execution_count": 18,
   "id": "cd846ec5",
   "metadata": {},
   "outputs": [
    {
     "name": "stdout",
     "output_type": "stream",
     "text": [
      "city\n",
      "Пятигорск         219\n",
      "Екатеринбург      204\n",
      "Ростов-на-Дону    198\n",
      "Краснодар         193\n",
      "Сочи              189\n",
      "Омск              183\n",
      "Тюмень            180\n",
      "Москва            168\n",
      "Name: city, dtype: int64\n"
     ]
    },
    {
     "data": {
      "image/png": "[encoded data removed]",
      "text/plain": [
       "<Figure size 432x288 with 1 Axes>"
      ]
     },
     "metadata": {
      "needs_background": "light"
     },
     "output_type": "display_data"
    }
   ],
   "source": [
    "print(users.groupby('city')['city'].count().sort_values(ascending=False))\n",
    "users.groupby('city')['city'].count().sort_values(ascending=False).plot(kind='barh');\n",
    "\n",
    "plt.title('City')\n",
    "plt.xlabel(\"Город\")\n",
    "plt.ylabel(\"Количество\")\n",
    "plt.gca().invert_yaxis ()"
   ]
  },
  {
   "cell_type": "code",
   "execution_count": 19,
   "id": "53f100b8",
   "metadata": {},
   "outputs": [
    {
     "data": {
      "image/png": "[encoded data removed]",
      "text/plain": [
       "<Figure size 1080x360 with 1 Axes>"
      ]
     },
     "metadata": {
      "needs_background": "light"
     },
     "output_type": "display_data"
    }
   ],
   "source": [
    "# Код ревьюера\n",
    "users.groupby('city')['city'].count().sort_values().plot(kind='barh',\n",
    "                                                                       figsize = (15, 5), \n",
    "                                                                       title = 'Количество поездок по городам')\n",
    "\n",
    "plt.xlabel(\"Количество\")\n",
    "plt.ylabel(\"Город\")\n",
    "plt.xlim(100, 250)\n",
    "plt.show()"
   ]
  },
  {
   "cell_type": "markdown",
   "id": "e1b61f5b",
   "metadata": {},
   "source": [
    "В данных чаще всего встречаются пользователи из Пятигорска, а на последнем месте Москва. Также, хотел бы заметить, что разрыв между городами не столь велик. Достаточно много факторов могут повлиять на пользование самокатами по городам, например, количество отведенных мест для поездки, качество дорожного покрытия, популярность самокатов, плотность населения, которая влияет на удобство поездки. Я бы не стал придавать значение распределению по городам. "
   ]
  },
  {
   "cell_type": "markdown",
   "id": "ef24b37a",
   "metadata": {},
   "source": [
    "##### Соотношение пользователей с подпиской и без подписки"
   ]
  },
  {
   "cell_type": "markdown",
   "id": "755dbb16",
   "metadata": {},
   "source": [
    "Оценим количество пользователей с платной и бесплатной подпиской:"
   ]
  },
  {
   "cell_type": "code",
   "execution_count": 20,
   "id": "3919b0d6",
   "metadata": {},
   "outputs": [
    {
     "name": "stdout",
     "output_type": "stream",
     "text": [
      "subscription_type\n",
      "free     835\n",
      "ultra    699\n",
      "Name: subscription_type, dtype: int64\n"
     ]
    },
    {
     "data": {
      "image/png": "[encoded data removed]",
      "text/plain": [
       "<Figure size 432x288 with 1 Axes>"
      ]
     },
     "metadata": {
      "needs_background": "light"
     },
     "output_type": "display_data"
    }
   ],
   "source": [
    "print(users.groupby('subscription_type')['subscription_type'].count())\n",
    "users.groupby('subscription_type')['subscription_type'].count().plot(kind='bar');"
   ]
  },
  {
   "cell_type": "code",
   "execution_count": 21,
   "id": "390f716a",
   "metadata": {},
   "outputs": [
    {
     "name": "stdout",
     "output_type": "stream",
     "text": [
      "Процент пользователей с бесплатной подпиской 54.432855%\n",
      "Процент пользователей с платной подпиской 45.567145%\n"
     ]
    }
   ],
   "source": [
    "free_n = users[users['subscription_type'] == 'free']['subscription_type'].count() / users['subscription_type'].count()\n",
    "ultra_n = users[users['subscription_type'] == 'ultra']['subscription_type'].count() / users['subscription_type'].count()\n",
    "print('Процент пользователей с бесплатной подпиской {:,%}'.format(free_n))\n",
    "print('Процент пользователей с платной подпиской {:,%}'.format(ultra_n))"
   ]
  },
  {
   "cell_type": "markdown",
   "id": "88a6e97b",
   "metadata": {},
   "source": [
    "По данным наблюдаем, что процент пользователей с бесплатной подпиской на 8 с лишним пунктов выше, что логично, не все готовы платить за подписку."
   ]
  },
  {
   "cell_type": "markdown",
   "id": "bd9922ec",
   "metadata": {},
   "source": [
    "##### Возраст пользователей"
   ]
  },
  {
   "cell_type": "markdown",
   "id": "542ac35f",
   "metadata": {},
   "source": [
    "Исследуем возраст пользователей самокатов:"
   ]
  },
  {
   "cell_type": "code",
   "execution_count": 22,
   "id": "a3a7e36d",
   "metadata": {
    "scrolled": true
   },
   "outputs": [
    {
     "data": {
      "image/png": "[encoded data removed]",
      "text/plain": [
       "<Figure size 432x288 with 1 Axes>"
      ]
     },
     "metadata": {
      "needs_background": "light"
     },
     "output_type": "display_data"
    }
   ],
   "source": [
    "users.groupby('age')['age'].count().plot(kind='bar');"
   ]
  },
  {
   "cell_type": "code",
   "execution_count": 23,
   "id": "2f051478",
   "metadata": {},
   "outputs": [
    {
     "name": "stdout",
     "output_type": "stream",
     "text": [
      "Средний возраст пользователя: 24.9\n",
      "Минимальный возрат пользователя: 12\n",
      "Максимальный возраст пользователя: 43\n"
     ]
    }
   ],
   "source": [
    "print('Средний возраст пользователя:', users['age'].mean().round(2))\n",
    "print('Минимальный возрат пользователя:', users['age'].min())\n",
    "print('Максимальный возраст пользователя:', users['age'].max())"
   ]
  },
  {
   "cell_type": "markdown",
   "id": "840bb8c4",
   "metadata": {},
   "source": [
    "По графику видим почти идеальное нормальное распределение с пиком в 25 лет, что подтверждает средний возраст пользователя, основной массой пользователей я бы назвал людей с возрастом от 18 до 33 лет. Минимальный и максимальный возраст пользователя составляет 12 лет и 43 года соответственно. "
   ]
  },
  {
   "cell_type": "markdown",
   "id": "64a13c71",
   "metadata": {},
   "source": [
    "##### Расстояние, которое пользователь преодолел за одну поездку"
   ]
  },
  {
   "cell_type": "markdown",
   "id": "2111c941",
   "metadata": {},
   "source": [
    "Посмотрим как распределяется расстояние поездок:"
   ]
  },
  {
   "cell_type": "code",
   "execution_count": 24,
   "id": "c420bd13",
   "metadata": {},
   "outputs": [
    {
     "data": {
      "image/png": "[encoded data removed]",
      "text/plain": [
       "<Figure size 432x288 with 1 Axes>"
      ]
     },
     "metadata": {
      "needs_background": "light"
     },
     "output_type": "display_data"
    }
   ],
   "source": [
    "rides['distance'].plot(kind='hist', bins=100);"
   ]
  },
  {
   "cell_type": "markdown",
   "id": "ca2e26a2",
   "metadata": {},
   "source": [
    "Большая часть данных находится в центре графика, как и ожидается, но также есть \"пучок\" слева, возможно это короткие прогулки, или пользователи использовали самокат, чтобы лишь добраться, допустим, до магазина."
   ]
  },
  {
   "cell_type": "code",
   "execution_count": 25,
   "id": "8cc0bb6f",
   "metadata": {},
   "outputs": [
    {
     "data": {
      "text/plain": [
       "(2500.0, 4000.0)"
      ]
     },
     "execution_count": 25,
     "metadata": {},
     "output_type": "execute_result"
    },
    {
     "data": {
      "image/png": "[encoded data removed]",
      "text/plain": [
       "<Figure size 432x288 with 1 Axes>"
      ]
     },
     "metadata": {
      "needs_background": "light"
     },
     "output_type": "display_data"
    }
   ],
   "source": [
    "rides.boxplot('distance');\n",
    "plt.ylim(2500, 4000)"
   ]
  },
  {
   "cell_type": "markdown",
   "id": "17de8580",
   "metadata": {},
   "source": [
    "Действительно, наблюдаем выбросы как сверху, так и снизу, причем снизу большое количество, получилась цельная линия из кружков."
   ]
  },
  {
   "cell_type": "markdown",
   "id": "419acf19",
   "metadata": {},
   "source": [
    "##### Продолжительность поездок"
   ]
  },
  {
   "cell_type": "code",
   "execution_count": 26,
   "id": "fe6852d1",
   "metadata": {},
   "outputs": [
    {
     "data": {
      "image/png": "[encoded data removed]",
      "text/plain": [
       "<Figure size 432x288 with 1 Axes>"
      ]
     },
     "metadata": {
      "needs_background": "light"
     },
     "output_type": "display_data"
    }
   ],
   "source": [
    "rides['duration'].plot(kind='hist', bins=40);"
   ]
  },
  {
   "cell_type": "code",
   "execution_count": 27,
   "id": "88634ac7",
   "metadata": {},
   "outputs": [
    {
     "data": {
      "text/plain": [
       "(10.0, 25.0)"
      ]
     },
     "execution_count": 27,
     "metadata": {},
     "output_type": "execute_result"
    },
    {
     "data": {
      "image/png": "[encoded data removed]",
      "text/plain": [
       "<Figure size 432x288 with 1 Axes>"
      ]
     },
     "metadata": {
      "needs_background": "light"
     },
     "output_type": "display_data"
    }
   ],
   "source": [
    "rides.boxplot('duration', );\n",
    "plt.ylim(10, 25)"
   ]
  },
  {
   "cell_type": "markdown",
   "id": "92e7cc5a",
   "metadata": {},
   "source": [
    "Наблюдаем похожий график на график расстояния, ведь это прямо зависимые показатели. Большая часть пользователей находятся в пути примерно от 13 до 22 минут"
   ]
  },
  {
   "cell_type": "markdown",
   "id": "9be822ff",
   "metadata": {},
   "source": [
    "***Итог:*** В ходе исследования данных найдены некоторые факты о пользователях:\n",
    "\n",
    "Лидером по количеству пользователей является Пятигорск, но разница между городами не велика. Процент пользователей с бесплатной подпиской выше примерно на 8%. В основном сервисом пользуются люди в возрасте примерно от 18 до 33 лет. Расстояние поездки стремиться ввысь около отметки в 3000 метров, однако присутствуют люди, которые предпочитают непродолжительные поездки примерно до 1 километра. Большая часть пользователей находятся в пути примерно от 13 до 22 минут."
   ]
  },
  {
   "cell_type": "markdown",
   "id": "4ef51331",
   "metadata": {},
   "source": [
    "#### Шаг 4. Объединение данных"
   ]
  },
  {
   "cell_type": "markdown",
   "id": "f58dc734",
   "metadata": {},
   "source": [
    "##### Объединение данных"
   ]
  },
  {
   "cell_type": "markdown",
   "id": "f1a4a1f1",
   "metadata": {},
   "source": [
    "Создаем объединенный датафрейм. Так как таблица rides имеет данные о поездках и содержит больше строк именно к ней добавляем другие:"
   ]
  },
  {
   "cell_type": "code",
   "execution_count": 28,
   "id": "6bf288b5",
   "metadata": {},
   "outputs": [
    {
     "data": {
      "text/html": [
       "<div>\n",
       "<style scoped>\n",
       "    .dataframe tbody tr th:only-of-type {\n",
       "        vertical-align: middle;\n",
       "    }\n",
       "\n",
       "    .dataframe tbody tr th {\n",
       "        vertical-align: top;\n",
       "    }\n",
       "\n",
       "    .dataframe thead th {\n",
       "        text-align: right;\n",
       "    }\n",
       "</style>\n",
       "<table border=\"1\" class=\"dataframe\">\n",
       "  <thead>\n",
       "    <tr style=\"text-align: right;\">\n",
       "      <th></th>\n",
       "      <th>user_id</th>\n",
       "      <th>distance</th>\n",
       "      <th>duration</th>\n",
       "      <th>date</th>\n",
       "      <th>month</th>\n",
       "      <th>name</th>\n",
       "      <th>age</th>\n",
       "      <th>city</th>\n",
       "      <th>subscription_type</th>\n",
       "      <th>minute_price</th>\n",
       "      <th>start_ride_price</th>\n",
       "      <th>subscription_fee</th>\n",
       "    </tr>\n",
       "  </thead>\n",
       "  <tbody>\n",
       "    <tr>\n",
       "      <th>0</th>\n",
       "      <td>1</td>\n",
       "      <td>4409.919140</td>\n",
       "      <td>25.599769</td>\n",
       "      <td>2021-01-01</td>\n",
       "      <td>1</td>\n",
       "      <td>Кира</td>\n",
       "      <td>22</td>\n",
       "      <td>Тюмень</td>\n",
       "      <td>ultra</td>\n",
       "      <td>6</td>\n",
       "      <td>0</td>\n",
       "      <td>199</td>\n",
       "    </tr>\n",
       "    <tr>\n",
       "      <th>1</th>\n",
       "      <td>1</td>\n",
       "      <td>2617.592153</td>\n",
       "      <td>15.816871</td>\n",
       "      <td>2021-01-18</td>\n",
       "      <td>1</td>\n",
       "      <td>Кира</td>\n",
       "      <td>22</td>\n",
       "      <td>Тюмень</td>\n",
       "      <td>ultra</td>\n",
       "      <td>6</td>\n",
       "      <td>0</td>\n",
       "      <td>199</td>\n",
       "    </tr>\n",
       "    <tr>\n",
       "      <th>2</th>\n",
       "      <td>1</td>\n",
       "      <td>754.159807</td>\n",
       "      <td>6.232113</td>\n",
       "      <td>2021-04-20</td>\n",
       "      <td>4</td>\n",
       "      <td>Кира</td>\n",
       "      <td>22</td>\n",
       "      <td>Тюмень</td>\n",
       "      <td>ultra</td>\n",
       "      <td>6</td>\n",
       "      <td>0</td>\n",
       "      <td>199</td>\n",
       "    </tr>\n",
       "    <tr>\n",
       "      <th>3</th>\n",
       "      <td>1</td>\n",
       "      <td>2694.783254</td>\n",
       "      <td>18.511000</td>\n",
       "      <td>2021-08-11</td>\n",
       "      <td>8</td>\n",
       "      <td>Кира</td>\n",
       "      <td>22</td>\n",
       "      <td>Тюмень</td>\n",
       "      <td>ultra</td>\n",
       "      <td>6</td>\n",
       "      <td>0</td>\n",
       "      <td>199</td>\n",
       "    </tr>\n",
       "    <tr>\n",
       "      <th>4</th>\n",
       "      <td>1</td>\n",
       "      <td>4028.687306</td>\n",
       "      <td>26.265803</td>\n",
       "      <td>2021-08-28</td>\n",
       "      <td>8</td>\n",
       "      <td>Кира</td>\n",
       "      <td>22</td>\n",
       "      <td>Тюмень</td>\n",
       "      <td>ultra</td>\n",
       "      <td>6</td>\n",
       "      <td>0</td>\n",
       "      <td>199</td>\n",
       "    </tr>\n",
       "    <tr>\n",
       "      <th>5</th>\n",
       "      <td>1</td>\n",
       "      <td>2770.890808</td>\n",
       "      <td>16.650138</td>\n",
       "      <td>2021-10-09</td>\n",
       "      <td>10</td>\n",
       "      <td>Кира</td>\n",
       "      <td>22</td>\n",
       "      <td>Тюмень</td>\n",
       "      <td>ultra</td>\n",
       "      <td>6</td>\n",
       "      <td>0</td>\n",
       "      <td>199</td>\n",
       "    </tr>\n",
       "    <tr>\n",
       "      <th>6</th>\n",
       "      <td>1</td>\n",
       "      <td>3039.020292</td>\n",
       "      <td>14.927879</td>\n",
       "      <td>2021-10-19</td>\n",
       "      <td>10</td>\n",
       "      <td>Кира</td>\n",
       "      <td>22</td>\n",
       "      <td>Тюмень</td>\n",
       "      <td>ultra</td>\n",
       "      <td>6</td>\n",
       "      <td>0</td>\n",
       "      <td>199</td>\n",
       "    </tr>\n",
       "    <tr>\n",
       "      <th>7</th>\n",
       "      <td>1</td>\n",
       "      <td>2842.118050</td>\n",
       "      <td>23.117468</td>\n",
       "      <td>2021-11-06</td>\n",
       "      <td>11</td>\n",
       "      <td>Кира</td>\n",
       "      <td>22</td>\n",
       "      <td>Тюмень</td>\n",
       "      <td>ultra</td>\n",
       "      <td>6</td>\n",
       "      <td>0</td>\n",
       "      <td>199</td>\n",
       "    </tr>\n",
       "    <tr>\n",
       "      <th>8</th>\n",
       "      <td>1</td>\n",
       "      <td>3412.690668</td>\n",
       "      <td>15.238072</td>\n",
       "      <td>2021-11-14</td>\n",
       "      <td>11</td>\n",
       "      <td>Кира</td>\n",
       "      <td>22</td>\n",
       "      <td>Тюмень</td>\n",
       "      <td>ultra</td>\n",
       "      <td>6</td>\n",
       "      <td>0</td>\n",
       "      <td>199</td>\n",
       "    </tr>\n",
       "    <tr>\n",
       "      <th>9</th>\n",
       "      <td>1</td>\n",
       "      <td>748.690645</td>\n",
       "      <td>15.041884</td>\n",
       "      <td>2021-11-22</td>\n",
       "      <td>11</td>\n",
       "      <td>Кира</td>\n",
       "      <td>22</td>\n",
       "      <td>Тюмень</td>\n",
       "      <td>ultra</td>\n",
       "      <td>6</td>\n",
       "      <td>0</td>\n",
       "      <td>199</td>\n",
       "    </tr>\n",
       "  </tbody>\n",
       "</table>\n",
       "</div>"
      ],
      "text/plain": [
       "   user_id     distance   duration       date  month  name  age    city  \\\n",
       "0        1  4409.919140  25.599769 2021-01-01      1  Кира   22  Тюмень   \n",
       "1        1  2617.592153  15.816871 2021-01-18      1  Кира   22  Тюмень   \n",
       "2        1   754.159807   6.232113 2021-04-20      4  Кира   22  Тюмень   \n",
       "3        1  2694.783254  18.511000 2021-08-11      8  Кира   22  Тюмень   \n",
       "4        1  4028.687306  26.265803 2021-08-28      8  Кира   22  Тюмень   \n",
       "5        1  2770.890808  16.650138 2021-10-09     10  Кира   22  Тюмень   \n",
       "6        1  3039.020292  14.927879 2021-10-19     10  Кира   22  Тюмень   \n",
       "7        1  2842.118050  23.117468 2021-11-06     11  Кира   22  Тюмень   \n",
       "8        1  3412.690668  15.238072 2021-11-14     11  Кира   22  Тюмень   \n",
       "9        1   748.690645  15.041884 2021-11-22     11  Кира   22  Тюмень   \n",
       "\n",
       "  subscription_type  minute_price  start_ride_price  subscription_fee  \n",
       "0             ultra             6                 0               199  \n",
       "1             ultra             6                 0               199  \n",
       "2             ultra             6                 0               199  \n",
       "3             ultra             6                 0               199  \n",
       "4             ultra             6                 0               199  \n",
       "5             ultra             6                 0               199  \n",
       "6             ultra             6                 0               199  \n",
       "7             ultra             6                 0               199  \n",
       "8             ultra             6                 0               199  \n",
       "9             ultra             6                 0               199  "
      ]
     },
     "execution_count": 28,
     "metadata": {},
     "output_type": "execute_result"
    }
   ],
   "source": [
    "data = rides.merge(users, on='user_id', how='left')\n",
    "data = data.merge(subscriptions, on='subscription_type', how='left')\n",
    "pd.set_option('display.max_columns', None)\n",
    "data.head(10)"
   ]
  },
  {
   "cell_type": "code",
   "execution_count": 29,
   "id": "2370f203",
   "metadata": {},
   "outputs": [
    {
     "name": "stdout",
     "output_type": "stream",
     "text": [
      "<class 'pandas.core.frame.DataFrame'>\n",
      "Int64Index: 18068 entries, 0 to 18067\n",
      "Data columns (total 12 columns):\n",
      " #   Column             Non-Null Count  Dtype         \n",
      "---  ------             --------------  -----         \n",
      " 0   user_id            18068 non-null  int64         \n",
      " 1   distance           18068 non-null  float64       \n",
      " 2   duration           18068 non-null  float64       \n",
      " 3   date               18068 non-null  datetime64[ns]\n",
      " 4   month              18068 non-null  int64         \n",
      " 5   name               18068 non-null  object        \n",
      " 6   age                18068 non-null  int64         \n",
      " 7   city               18068 non-null  object        \n",
      " 8   subscription_type  18068 non-null  object        \n",
      " 9   minute_price       18068 non-null  int64         \n",
      " 10  start_ride_price   18068 non-null  int64         \n",
      " 11  subscription_fee   18068 non-null  int64         \n",
      "dtypes: datetime64[ns](1), float64(2), int64(6), object(3)\n",
      "memory usage: 1.8+ MB\n"
     ]
    }
   ],
   "source": [
    "# Код ревьюера\n",
    "data.info()"
   ]
  },
  {
   "cell_type": "markdown",
   "id": "c9558f6d",
   "metadata": {},
   "source": [
    "##### Создание таблиц по категориям"
   ]
  },
  {
   "cell_type": "markdown",
   "id": "2260f9e4",
   "metadata": {},
   "source": [
    "Необходимо создать две таблицы для пользователей с бесплатной и платной подписками:"
   ]
  },
  {
   "cell_type": "code",
   "execution_count": 30,
   "id": "2de6c330",
   "metadata": {
    "scrolled": true
   },
   "outputs": [
    {
     "data": {
      "text/html": [
       "<div>\n",
       "<style scoped>\n",
       "    .dataframe tbody tr th:only-of-type {\n",
       "        vertical-align: middle;\n",
       "    }\n",
       "\n",
       "    .dataframe tbody tr th {\n",
       "        vertical-align: top;\n",
       "    }\n",
       "\n",
       "    .dataframe thead th {\n",
       "        text-align: right;\n",
       "    }\n",
       "</style>\n",
       "<table border=\"1\" class=\"dataframe\">\n",
       "  <thead>\n",
       "    <tr style=\"text-align: right;\">\n",
       "      <th></th>\n",
       "      <th>user_id</th>\n",
       "      <th>distance</th>\n",
       "      <th>duration</th>\n",
       "      <th>date</th>\n",
       "      <th>month</th>\n",
       "      <th>name</th>\n",
       "      <th>age</th>\n",
       "      <th>city</th>\n",
       "      <th>subscription_type</th>\n",
       "      <th>minute_price</th>\n",
       "      <th>start_ride_price</th>\n",
       "      <th>subscription_fee</th>\n",
       "    </tr>\n",
       "  </thead>\n",
       "  <tbody>\n",
       "    <tr>\n",
       "      <th>0</th>\n",
       "      <td>700</td>\n",
       "      <td>2515.690719</td>\n",
       "      <td>14.944286</td>\n",
       "      <td>2021-01-02</td>\n",
       "      <td>1</td>\n",
       "      <td>Айдар</td>\n",
       "      <td>22</td>\n",
       "      <td>Омск</td>\n",
       "      <td>free</td>\n",
       "      <td>8</td>\n",
       "      <td>50</td>\n",
       "      <td>0</td>\n",
       "    </tr>\n",
       "    <tr>\n",
       "      <th>1</th>\n",
       "      <td>700</td>\n",
       "      <td>846.932642</td>\n",
       "      <td>16.234663</td>\n",
       "      <td>2021-02-01</td>\n",
       "      <td>2</td>\n",
       "      <td>Айдар</td>\n",
       "      <td>22</td>\n",
       "      <td>Омск</td>\n",
       "      <td>free</td>\n",
       "      <td>8</td>\n",
       "      <td>50</td>\n",
       "      <td>0</td>\n",
       "    </tr>\n",
       "    <tr>\n",
       "      <th>2</th>\n",
       "      <td>700</td>\n",
       "      <td>4004.434142</td>\n",
       "      <td>20.016628</td>\n",
       "      <td>2021-02-04</td>\n",
       "      <td>2</td>\n",
       "      <td>Айдар</td>\n",
       "      <td>22</td>\n",
       "      <td>Омск</td>\n",
       "      <td>free</td>\n",
       "      <td>8</td>\n",
       "      <td>50</td>\n",
       "      <td>0</td>\n",
       "    </tr>\n",
       "    <tr>\n",
       "      <th>3</th>\n",
       "      <td>700</td>\n",
       "      <td>1205.911290</td>\n",
       "      <td>9.782872</td>\n",
       "      <td>2021-02-10</td>\n",
       "      <td>2</td>\n",
       "      <td>Айдар</td>\n",
       "      <td>22</td>\n",
       "      <td>Омск</td>\n",
       "      <td>free</td>\n",
       "      <td>8</td>\n",
       "      <td>50</td>\n",
       "      <td>0</td>\n",
       "    </tr>\n",
       "    <tr>\n",
       "      <th>4</th>\n",
       "      <td>700</td>\n",
       "      <td>3047.379435</td>\n",
       "      <td>17.427673</td>\n",
       "      <td>2021-02-14</td>\n",
       "      <td>2</td>\n",
       "      <td>Айдар</td>\n",
       "      <td>22</td>\n",
       "      <td>Омск</td>\n",
       "      <td>free</td>\n",
       "      <td>8</td>\n",
       "      <td>50</td>\n",
       "      <td>0</td>\n",
       "    </tr>\n",
       "  </tbody>\n",
       "</table>\n",
       "</div>"
      ],
      "text/plain": [
       "   user_id     distance   duration       date  month   name  age  city  \\\n",
       "0      700  2515.690719  14.944286 2021-01-02      1  Айдар   22  Омск   \n",
       "1      700   846.932642  16.234663 2021-02-01      2  Айдар   22  Омск   \n",
       "2      700  4004.434142  20.016628 2021-02-04      2  Айдар   22  Омск   \n",
       "3      700  1205.911290   9.782872 2021-02-10      2  Айдар   22  Омск   \n",
       "4      700  3047.379435  17.427673 2021-02-14      2  Айдар   22  Омск   \n",
       "\n",
       "  subscription_type  minute_price  start_ride_price  subscription_fee  \n",
       "0              free             8                50                 0  \n",
       "1              free             8                50                 0  \n",
       "2              free             8                50                 0  \n",
       "3              free             8                50                 0  \n",
       "4              free             8                50                 0  "
      ]
     },
     "execution_count": 30,
     "metadata": {},
     "output_type": "execute_result"
    }
   ],
   "source": [
    "data_free = data.query('subscription_type == \"free\"')\n",
    "data_free = data_free.reset_index(drop=True)\n",
    "data_free.head()"
   ]
  },
  {
   "cell_type": "code",
   "execution_count": 31,
   "id": "5203d8f5",
   "metadata": {},
   "outputs": [
    {
     "data": {
      "text/html": [
       "<div>\n",
       "<style scoped>\n",
       "    .dataframe tbody tr th:only-of-type {\n",
       "        vertical-align: middle;\n",
       "    }\n",
       "\n",
       "    .dataframe tbody tr th {\n",
       "        vertical-align: top;\n",
       "    }\n",
       "\n",
       "    .dataframe thead th {\n",
       "        text-align: right;\n",
       "    }\n",
       "</style>\n",
       "<table border=\"1\" class=\"dataframe\">\n",
       "  <thead>\n",
       "    <tr style=\"text-align: right;\">\n",
       "      <th></th>\n",
       "      <th>user_id</th>\n",
       "      <th>distance</th>\n",
       "      <th>duration</th>\n",
       "      <th>date</th>\n",
       "      <th>month</th>\n",
       "      <th>name</th>\n",
       "      <th>age</th>\n",
       "      <th>city</th>\n",
       "      <th>subscription_type</th>\n",
       "      <th>minute_price</th>\n",
       "      <th>start_ride_price</th>\n",
       "      <th>subscription_fee</th>\n",
       "    </tr>\n",
       "  </thead>\n",
       "  <tbody>\n",
       "    <tr>\n",
       "      <th>0</th>\n",
       "      <td>1</td>\n",
       "      <td>4409.919140</td>\n",
       "      <td>25.599769</td>\n",
       "      <td>2021-01-01</td>\n",
       "      <td>1</td>\n",
       "      <td>Кира</td>\n",
       "      <td>22</td>\n",
       "      <td>Тюмень</td>\n",
       "      <td>ultra</td>\n",
       "      <td>6</td>\n",
       "      <td>0</td>\n",
       "      <td>199</td>\n",
       "    </tr>\n",
       "    <tr>\n",
       "      <th>1</th>\n",
       "      <td>1</td>\n",
       "      <td>2617.592153</td>\n",
       "      <td>15.816871</td>\n",
       "      <td>2021-01-18</td>\n",
       "      <td>1</td>\n",
       "      <td>Кира</td>\n",
       "      <td>22</td>\n",
       "      <td>Тюмень</td>\n",
       "      <td>ultra</td>\n",
       "      <td>6</td>\n",
       "      <td>0</td>\n",
       "      <td>199</td>\n",
       "    </tr>\n",
       "    <tr>\n",
       "      <th>2</th>\n",
       "      <td>1</td>\n",
       "      <td>754.159807</td>\n",
       "      <td>6.232113</td>\n",
       "      <td>2021-04-20</td>\n",
       "      <td>4</td>\n",
       "      <td>Кира</td>\n",
       "      <td>22</td>\n",
       "      <td>Тюмень</td>\n",
       "      <td>ultra</td>\n",
       "      <td>6</td>\n",
       "      <td>0</td>\n",
       "      <td>199</td>\n",
       "    </tr>\n",
       "    <tr>\n",
       "      <th>3</th>\n",
       "      <td>1</td>\n",
       "      <td>2694.783254</td>\n",
       "      <td>18.511000</td>\n",
       "      <td>2021-08-11</td>\n",
       "      <td>8</td>\n",
       "      <td>Кира</td>\n",
       "      <td>22</td>\n",
       "      <td>Тюмень</td>\n",
       "      <td>ultra</td>\n",
       "      <td>6</td>\n",
       "      <td>0</td>\n",
       "      <td>199</td>\n",
       "    </tr>\n",
       "    <tr>\n",
       "      <th>4</th>\n",
       "      <td>1</td>\n",
       "      <td>4028.687306</td>\n",
       "      <td>26.265803</td>\n",
       "      <td>2021-08-28</td>\n",
       "      <td>8</td>\n",
       "      <td>Кира</td>\n",
       "      <td>22</td>\n",
       "      <td>Тюмень</td>\n",
       "      <td>ultra</td>\n",
       "      <td>6</td>\n",
       "      <td>0</td>\n",
       "      <td>199</td>\n",
       "    </tr>\n",
       "  </tbody>\n",
       "</table>\n",
       "</div>"
      ],
      "text/plain": [
       "   user_id     distance   duration       date  month  name  age    city  \\\n",
       "0        1  4409.919140  25.599769 2021-01-01      1  Кира   22  Тюмень   \n",
       "1        1  2617.592153  15.816871 2021-01-18      1  Кира   22  Тюмень   \n",
       "2        1   754.159807   6.232113 2021-04-20      4  Кира   22  Тюмень   \n",
       "3        1  2694.783254  18.511000 2021-08-11      8  Кира   22  Тюмень   \n",
       "4        1  4028.687306  26.265803 2021-08-28      8  Кира   22  Тюмень   \n",
       "\n",
       "  subscription_type  minute_price  start_ride_price  subscription_fee  \n",
       "0             ultra             6                 0               199  \n",
       "1             ultra             6                 0               199  \n",
       "2             ultra             6                 0               199  \n",
       "3             ultra             6                 0               199  \n",
       "4             ultra             6                 0               199  "
      ]
     },
     "execution_count": 31,
     "metadata": {},
     "output_type": "execute_result"
    }
   ],
   "source": [
    "data_ultra = data.query('subscription_type == \"ultra\"')\n",
    "data_ultra = data_ultra.reset_index(drop=True)\n",
    "data_ultra.head()"
   ]
  },
  {
   "cell_type": "markdown",
   "id": "f4957287",
   "metadata": {},
   "source": [
    "##### Визуализация информации о расстоянии и времени поездок для пользователей обеих категорий"
   ]
  },
  {
   "cell_type": "markdown",
   "id": "bf08a541",
   "metadata": {},
   "source": [
    "***data_free расстояние***"
   ]
  },
  {
   "cell_type": "code",
   "execution_count": 32,
   "id": "1c53553f",
   "metadata": {},
   "outputs": [
    {
     "data": {
      "image/png": "[encoded data removed]",
      "text/plain": [
       "<Figure size 432x288 with 1 Axes>"
      ]
     },
     "metadata": {
      "needs_background": "light"
     },
     "output_type": "display_data"
    }
   ],
   "source": [
    "data_free['distance'].plot(kind='hist', bins=100);"
   ]
  },
  {
   "cell_type": "markdown",
   "id": "2e2bc437",
   "metadata": {},
   "source": [
    "Видим ту же картину, что и при общих данных, поведение пользователей с бесплатной подпиской не сильно отличается от общей информации."
   ]
  },
  {
   "cell_type": "markdown",
   "id": "5e2fb0bb",
   "metadata": {},
   "source": [
    "***data_free время***"
   ]
  },
  {
   "cell_type": "code",
   "execution_count": 33,
   "id": "bb5ede31",
   "metadata": {},
   "outputs": [
    {
     "data": {
      "image/png": "[encoded data removed]",
      "text/plain": [
       "<Figure size 432x288 with 1 Axes>"
      ]
     },
     "metadata": {
      "needs_background": "light"
     },
     "output_type": "display_data"
    }
   ],
   "source": [
    "data_free['duration'].plot(kind='hist', bins=40);"
   ]
  },
  {
   "cell_type": "markdown",
   "id": "aeea19b7",
   "metadata": {},
   "source": [
    "И вновь есть значительное сходство с общими результатами."
   ]
  },
  {
   "cell_type": "markdown",
   "id": "c9bcf3ba",
   "metadata": {},
   "source": [
    "Так же можем дополнительно продемонстрировать взаимосвязь с помощью графиков ниже:"
   ]
  },
  {
   "cell_type": "code",
   "execution_count": 34,
   "id": "63d93dc2",
   "metadata": {},
   "outputs": [
    {
     "data": {
      "image/png": "[encoded data removed]",
      "text/plain": [
       "<Figure size 360x360 with 6 Axes>"
      ]
     },
     "metadata": {
      "needs_background": "light"
     },
     "output_type": "display_data"
    }
   ],
   "source": [
    "sns.pairplot(data_free[['distance', 'duration']]); "
   ]
  },
  {
   "cell_type": "markdown",
   "id": "e2f2ccc4",
   "metadata": {},
   "source": [
    "***data_ultra расстояние***"
   ]
  },
  {
   "cell_type": "code",
   "execution_count": 35,
   "id": "a73c2195",
   "metadata": {
    "scrolled": true
   },
   "outputs": [
    {
     "data": {
      "image/png": "[encoded data removed]",
      "text/plain": [
       "<Figure size 432x288 with 1 Axes>"
      ]
     },
     "metadata": {
      "needs_background": "light"
     },
     "output_type": "display_data"
    }
   ],
   "source": [
    "data_ultra['distance'].plot(kind='hist', bins=100);"
   ]
  },
  {
   "cell_type": "markdown",
   "id": "9d788ff5",
   "metadata": {},
   "source": [
    "Видим схожий график, однако показателей с меньшим расстоянием вдвое меньше, так как стоимость самой поездки меньше, то и желание проехать больше выше."
   ]
  },
  {
   "cell_type": "markdown",
   "id": "1a6c5467",
   "metadata": {},
   "source": [
    "***data_ultra время***"
   ]
  },
  {
   "cell_type": "code",
   "execution_count": 36,
   "id": "41349a5d",
   "metadata": {},
   "outputs": [
    {
     "data": {
      "image/png": "[encoded data removed]",
      "text/plain": [
       "<Figure size 432x288 with 1 Axes>"
      ]
     },
     "metadata": {
      "needs_background": "light"
     },
     "output_type": "display_data"
    }
   ],
   "source": [
    "data_ultra['duration'].plot(kind='hist', bins=40);"
   ]
  },
  {
   "cell_type": "markdown",
   "id": "88ffce1d",
   "metadata": {},
   "source": [
    "Здесь графики тоже отличаются, уже нет такого заметного выброса на низком времени. Так же заметим, что максимальное количество времени выше. "
   ]
  },
  {
   "cell_type": "code",
   "execution_count": 37,
   "id": "a403c403",
   "metadata": {},
   "outputs": [
    {
     "name": "stdout",
     "output_type": "stream",
     "text": [
      "Максимальное время у пользователей с бесплатной подпиской: 34.95\n",
      "Максимальное время у пользователей с платной подпиской: 40.82\n"
     ]
    }
   ],
   "source": [
    "print('Максимальное время у пользователей с бесплатной подпиской:', data_free['duration'].max().round(2))\n",
    "print('Максимальное время у пользователей с платной подпиской:', data_ultra['duration'].max().round(2))"
   ]
  },
  {
   "cell_type": "code",
   "execution_count": 38,
   "id": "7936bd85",
   "metadata": {},
   "outputs": [
    {
     "name": "stdout",
     "output_type": "stream",
     "text": [
      "Максимальное расстояние у пользователей с бесплатной подпиской: 7211.01\n",
      "Максимальное расстояние у пользователей с платной подпиской: 5699.77\n"
     ]
    }
   ],
   "source": [
    "print('Максимальное расстояние у пользователей с бесплатной подпиской:', data_free['distance'].max().round(2))\n",
    "print('Максимальное расстояние у пользователей с платной подпиской:', data_ultra['distance'].max().round(2))"
   ]
  },
  {
   "cell_type": "markdown",
   "id": "8da11845",
   "metadata": {},
   "source": [
    "***Сравнение***"
   ]
  },
  {
   "cell_type": "markdown",
   "id": "70b43db1",
   "metadata": {},
   "source": [
    "Для начала сравним общие показатели:"
   ]
  },
  {
   "cell_type": "code",
   "execution_count": 39,
   "id": "2eb0f31f",
   "metadata": {},
   "outputs": [
    {
     "data": {
      "text/html": [
       "<div>\n",
       "<style scoped>\n",
       "    .dataframe tbody tr th:only-of-type {\n",
       "        vertical-align: middle;\n",
       "    }\n",
       "\n",
       "    .dataframe tbody tr th {\n",
       "        vertical-align: top;\n",
       "    }\n",
       "\n",
       "    .dataframe thead th {\n",
       "        text-align: right;\n",
       "    }\n",
       "</style>\n",
       "<table border=\"1\" class=\"dataframe\">\n",
       "  <thead>\n",
       "    <tr style=\"text-align: right;\">\n",
       "      <th></th>\n",
       "      <th>distance</th>\n",
       "      <th>duration</th>\n",
       "    </tr>\n",
       "  </thead>\n",
       "  <tbody>\n",
       "    <tr>\n",
       "      <th>count</th>\n",
       "      <td>11568.000000</td>\n",
       "      <td>11568.000000</td>\n",
       "    </tr>\n",
       "    <tr>\n",
       "      <th>mean</th>\n",
       "      <td>3045.495282</td>\n",
       "      <td>17.390909</td>\n",
       "    </tr>\n",
       "    <tr>\n",
       "      <th>std</th>\n",
       "      <td>1246.173806</td>\n",
       "      <td>6.326803</td>\n",
       "    </tr>\n",
       "    <tr>\n",
       "      <th>min</th>\n",
       "      <td>0.855683</td>\n",
       "      <td>0.500000</td>\n",
       "    </tr>\n",
       "    <tr>\n",
       "      <th>25%</th>\n",
       "      <td>2366.562689</td>\n",
       "      <td>12.958437</td>\n",
       "    </tr>\n",
       "    <tr>\n",
       "      <th>50%</th>\n",
       "      <td>3114.648465</td>\n",
       "      <td>17.326890</td>\n",
       "    </tr>\n",
       "    <tr>\n",
       "      <th>75%</th>\n",
       "      <td>3905.697894</td>\n",
       "      <td>21.594071</td>\n",
       "    </tr>\n",
       "    <tr>\n",
       "      <th>max</th>\n",
       "      <td>7211.007745</td>\n",
       "      <td>34.948498</td>\n",
       "    </tr>\n",
       "  </tbody>\n",
       "</table>\n",
       "</div>"
      ],
      "text/plain": [
       "           distance      duration\n",
       "count  11568.000000  11568.000000\n",
       "mean    3045.495282     17.390909\n",
       "std     1246.173806      6.326803\n",
       "min        0.855683      0.500000\n",
       "25%     2366.562689     12.958437\n",
       "50%     3114.648465     17.326890\n",
       "75%     3905.697894     21.594071\n",
       "max     7211.007745     34.948498"
      ]
     },
     "execution_count": 39,
     "metadata": {},
     "output_type": "execute_result"
    }
   ],
   "source": [
    "data_free[['distance', 'duration']].describe()"
   ]
  },
  {
   "cell_type": "code",
   "execution_count": 40,
   "id": "01a71675",
   "metadata": {},
   "outputs": [
    {
     "data": {
      "text/html": [
       "<div>\n",
       "<style scoped>\n",
       "    .dataframe tbody tr th:only-of-type {\n",
       "        vertical-align: middle;\n",
       "    }\n",
       "\n",
       "    .dataframe tbody tr th {\n",
       "        vertical-align: top;\n",
       "    }\n",
       "\n",
       "    .dataframe thead th {\n",
       "        text-align: right;\n",
       "    }\n",
       "</style>\n",
       "<table border=\"1\" class=\"dataframe\">\n",
       "  <thead>\n",
       "    <tr style=\"text-align: right;\">\n",
       "      <th></th>\n",
       "      <th>distance</th>\n",
       "      <th>duration</th>\n",
       "    </tr>\n",
       "  </thead>\n",
       "  <tbody>\n",
       "    <tr>\n",
       "      <th>count</th>\n",
       "      <td>6500.000000</td>\n",
       "      <td>6500.000000</td>\n",
       "    </tr>\n",
       "    <tr>\n",
       "      <th>mean</th>\n",
       "      <td>3115.445388</td>\n",
       "      <td>18.541985</td>\n",
       "    </tr>\n",
       "    <tr>\n",
       "      <th>std</th>\n",
       "      <td>836.895330</td>\n",
       "      <td>5.572048</td>\n",
       "    </tr>\n",
       "    <tr>\n",
       "      <th>min</th>\n",
       "      <td>244.210438</td>\n",
       "      <td>3.760353</td>\n",
       "    </tr>\n",
       "    <tr>\n",
       "      <th>25%</th>\n",
       "      <td>2785.444017</td>\n",
       "      <td>14.524654</td>\n",
       "    </tr>\n",
       "    <tr>\n",
       "      <th>50%</th>\n",
       "      <td>3148.637229</td>\n",
       "      <td>18.178153</td>\n",
       "    </tr>\n",
       "    <tr>\n",
       "      <th>75%</th>\n",
       "      <td>3560.574425</td>\n",
       "      <td>21.884129</td>\n",
       "    </tr>\n",
       "    <tr>\n",
       "      <th>max</th>\n",
       "      <td>5699.769662</td>\n",
       "      <td>40.823963</td>\n",
       "    </tr>\n",
       "  </tbody>\n",
       "</table>\n",
       "</div>"
      ],
      "text/plain": [
       "          distance     duration\n",
       "count  6500.000000  6500.000000\n",
       "mean   3115.445388    18.541985\n",
       "std     836.895330     5.572048\n",
       "min     244.210438     3.760353\n",
       "25%    2785.444017    14.524654\n",
       "50%    3148.637229    18.178153\n",
       "75%    3560.574425    21.884129\n",
       "max    5699.769662    40.823963"
      ]
     },
     "execution_count": 40,
     "metadata": {},
     "output_type": "execute_result"
    }
   ],
   "source": [
    "data_ultra[['distance', 'duration']].describe()"
   ]
  },
  {
   "cell_type": "markdown",
   "id": "ba0a1a76",
   "metadata": {},
   "source": [
    "Построим графики для сравнения:"
   ]
  },
  {
   "cell_type": "code",
   "execution_count": 41,
   "id": "0abbacef",
   "metadata": {},
   "outputs": [
    {
     "data": {
      "image/png": "[encoded data removed]",
      "text/plain": [
       "<Figure size 432x288 with 1 Axes>"
      ]
     },
     "metadata": {
      "needs_background": "light"
     },
     "output_type": "display_data"
    }
   ],
   "source": [
    "plt.hist(data_free['distance'], label='data_free', alpha=.8, edgecolor='red', bins=50)\n",
    "plt.hist(data_ultra['distance'], label='data_ultra', alpha=0.7, edgecolor='yellow', bins=50)\n",
    "plt.legend()\n",
    "plt.title('distance')\n",
    "plt.show()"
   ]
  },
  {
   "cell_type": "markdown",
   "id": "7556afb2",
   "metadata": {},
   "source": [
    "Есть определенное сходство между графиками, однако разброс у пользователей с платной подпиской меньше, более централизовано около отметки в 3000."
   ]
  },
  {
   "cell_type": "code",
   "execution_count": 42,
   "id": "d9b13af4",
   "metadata": {},
   "outputs": [
    {
     "data": {
      "image/png": "[encoded data removed]",
      "text/plain": [
       "<Figure size 432x288 with 1 Axes>"
      ]
     },
     "metadata": {
      "needs_background": "light"
     },
     "output_type": "display_data"
    }
   ],
   "source": [
    "plt.hist(data_free['duration'], label='data_free', alpha=.8, edgecolor='red', bins=40)\n",
    "plt.hist(data_ultra['duration'], label='data_ultra', alpha=0.7, edgecolor='yellow', bins=40)\n",
    "plt.legend()\n",
    "plt.title('duration')\n",
    "plt.show()"
   ]
  },
  {
   "cell_type": "code",
   "execution_count": 43,
   "id": "f12028ba",
   "metadata": {},
   "outputs": [
    {
     "data": {
      "image/png": "[encoded data removed]",
      "text/plain": [
       "<Figure size 432x288 with 1 Axes>"
      ]
     },
     "metadata": {
      "needs_background": "light"
     },
     "output_type": "display_data"
    }
   ],
   "source": [
    "plt.hist(data_free['duration'], label='data_free', alpha=.8, edgecolor='red', bins=40, range=(0, 10))\n",
    "plt.hist(data_ultra['duration'], label='data_ultra', alpha=0.7, edgecolor='yellow', bins=40, range=(0, 10))\n",
    "plt.legend()\n",
    "plt.title('duration_detail')\n",
    "plt.show()"
   ]
  },
  {
   "cell_type": "markdown",
   "id": "b7715025",
   "metadata": {},
   "source": [
    "Так же видим сходство, но у пользователей с платной подпиской нет выброса где-то между 0 и 1, вероятнее всего это новые пользователи, которые лишь хотели попробовать данную услугу или же это пользователи, которые решили прокатиться до ближайшего пункта назначения."
   ]
  },
  {
   "cell_type": "markdown",
   "id": "402d620f",
   "metadata": {},
   "source": [
    "#### Шаг 5. Подсчёт выручки"
   ]
  },
  {
   "cell_type": "markdown",
   "id": "79938428",
   "metadata": {},
   "source": [
    "***Агрегирование данных о поездках***"
   ]
  },
  {
   "cell_type": "markdown",
   "id": "44792f3f",
   "metadata": {},
   "source": [
    "Создадим новый датафрейм на основе общей таблице, которую ранее собрали:"
   ]
  },
  {
   "cell_type": "code",
   "execution_count": 44,
   "id": "16ff91a5",
   "metadata": {},
   "outputs": [
    {
     "data": {
      "text/html": [
       "<div>\n",
       "<style scoped>\n",
       "    .dataframe tbody tr th:only-of-type {\n",
       "        vertical-align: middle;\n",
       "    }\n",
       "\n",
       "    .dataframe tbody tr th {\n",
       "        vertical-align: top;\n",
       "    }\n",
       "\n",
       "    .dataframe thead th {\n",
       "        text-align: right;\n",
       "    }\n",
       "</style>\n",
       "<table border=\"1\" class=\"dataframe\">\n",
       "  <thead>\n",
       "    <tr style=\"text-align: right;\">\n",
       "      <th></th>\n",
       "      <th>user_id</th>\n",
       "      <th>month</th>\n",
       "      <th>name</th>\n",
       "      <th>age</th>\n",
       "      <th>city</th>\n",
       "      <th>subscription_type</th>\n",
       "      <th>minute_price</th>\n",
       "      <th>start_ride_price</th>\n",
       "      <th>subscription_fee</th>\n",
       "      <th>distance</th>\n",
       "      <th>duration</th>\n",
       "      <th>count</th>\n",
       "    </tr>\n",
       "  </thead>\n",
       "  <tbody>\n",
       "    <tr>\n",
       "      <th>0</th>\n",
       "      <td>1</td>\n",
       "      <td>1</td>\n",
       "      <td>Кира</td>\n",
       "      <td>22</td>\n",
       "      <td>Тюмень</td>\n",
       "      <td>ultra</td>\n",
       "      <td>6</td>\n",
       "      <td>0</td>\n",
       "      <td>199</td>\n",
       "      <td>7027.511294</td>\n",
       "      <td>41.416640</td>\n",
       "      <td>2</td>\n",
       "    </tr>\n",
       "    <tr>\n",
       "      <th>1</th>\n",
       "      <td>1</td>\n",
       "      <td>4</td>\n",
       "      <td>Кира</td>\n",
       "      <td>22</td>\n",
       "      <td>Тюмень</td>\n",
       "      <td>ultra</td>\n",
       "      <td>6</td>\n",
       "      <td>0</td>\n",
       "      <td>199</td>\n",
       "      <td>754.159807</td>\n",
       "      <td>6.232113</td>\n",
       "      <td>1</td>\n",
       "    </tr>\n",
       "    <tr>\n",
       "      <th>2</th>\n",
       "      <td>1</td>\n",
       "      <td>8</td>\n",
       "      <td>Кира</td>\n",
       "      <td>22</td>\n",
       "      <td>Тюмень</td>\n",
       "      <td>ultra</td>\n",
       "      <td>6</td>\n",
       "      <td>0</td>\n",
       "      <td>199</td>\n",
       "      <td>6723.470560</td>\n",
       "      <td>44.776802</td>\n",
       "      <td>2</td>\n",
       "    </tr>\n",
       "    <tr>\n",
       "      <th>3</th>\n",
       "      <td>1</td>\n",
       "      <td>10</td>\n",
       "      <td>Кира</td>\n",
       "      <td>22</td>\n",
       "      <td>Тюмень</td>\n",
       "      <td>ultra</td>\n",
       "      <td>6</td>\n",
       "      <td>0</td>\n",
       "      <td>199</td>\n",
       "      <td>5809.911100</td>\n",
       "      <td>31.578017</td>\n",
       "      <td>2</td>\n",
       "    </tr>\n",
       "    <tr>\n",
       "      <th>4</th>\n",
       "      <td>1</td>\n",
       "      <td>11</td>\n",
       "      <td>Кира</td>\n",
       "      <td>22</td>\n",
       "      <td>Тюмень</td>\n",
       "      <td>ultra</td>\n",
       "      <td>6</td>\n",
       "      <td>0</td>\n",
       "      <td>199</td>\n",
       "      <td>7003.499363</td>\n",
       "      <td>53.397424</td>\n",
       "      <td>3</td>\n",
       "    </tr>\n",
       "  </tbody>\n",
       "</table>\n",
       "</div>"
      ],
      "text/plain": [
       "   user_id  month  name  age    city subscription_type  minute_price  \\\n",
       "0        1      1  Кира   22  Тюмень             ultra             6   \n",
       "1        1      4  Кира   22  Тюмень             ultra             6   \n",
       "2        1      8  Кира   22  Тюмень             ultra             6   \n",
       "3        1     10  Кира   22  Тюмень             ultra             6   \n",
       "4        1     11  Кира   22  Тюмень             ultra             6   \n",
       "\n",
       "   start_ride_price  subscription_fee     distance   duration  count  \n",
       "0                 0               199  7027.511294  41.416640      2  \n",
       "1                 0               199   754.159807   6.232113      1  \n",
       "2                 0               199  6723.470560  44.776802      2  \n",
       "3                 0               199  5809.911100  31.578017      2  \n",
       "4                 0               199  7003.499363  53.397424      3  "
      ]
     },
     "execution_count": 44,
     "metadata": {},
     "output_type": "execute_result"
    }
   ],
   "source": [
    "data_agg = (data.groupby(by=(['user_id', 'month', 'name', 'age', \n",
    "                             'city', 'subscription_type', 'minute_price', 'start_ride_price', 'subscription_fee']))\n",
    "            .agg({'distance':'sum', 'duration':'sum', 'date':'count'})\n",
    "            .reset_index()\n",
    "           )\n",
    "data_agg = data_agg.rename(columns={'date':'count'})\n",
    "data_agg.head()"
   ]
  },
  {
   "cell_type": "markdown",
   "id": "10d23ec9",
   "metadata": {},
   "source": [
    "***Подсчет выручки***"
   ]
  },
  {
   "cell_type": "markdown",
   "id": "f08d3102",
   "metadata": {},
   "source": [
    "Добавим столбец с выручкой по месяцам для каждого пользователя:"
   ]
  },
  {
   "cell_type": "code",
   "execution_count": 45,
   "id": "bd5987e4",
   "metadata": {},
   "outputs": [
    {
     "data": {
      "text/html": [
       "<div>\n",
       "<style scoped>\n",
       "    .dataframe tbody tr th:only-of-type {\n",
       "        vertical-align: middle;\n",
       "    }\n",
       "\n",
       "    .dataframe tbody tr th {\n",
       "        vertical-align: top;\n",
       "    }\n",
       "\n",
       "    .dataframe thead th {\n",
       "        text-align: right;\n",
       "    }\n",
       "</style>\n",
       "<table border=\"1\" class=\"dataframe\">\n",
       "  <thead>\n",
       "    <tr style=\"text-align: right;\">\n",
       "      <th></th>\n",
       "      <th>user_id</th>\n",
       "      <th>month</th>\n",
       "      <th>name</th>\n",
       "      <th>age</th>\n",
       "      <th>city</th>\n",
       "      <th>subscription_type</th>\n",
       "      <th>minute_price</th>\n",
       "      <th>start_ride_price</th>\n",
       "      <th>subscription_fee</th>\n",
       "      <th>distance</th>\n",
       "      <th>duration</th>\n",
       "      <th>count</th>\n",
       "      <th>revenue</th>\n",
       "    </tr>\n",
       "  </thead>\n",
       "  <tbody>\n",
       "    <tr>\n",
       "      <th>0</th>\n",
       "      <td>1</td>\n",
       "      <td>1</td>\n",
       "      <td>Кира</td>\n",
       "      <td>22</td>\n",
       "      <td>Тюмень</td>\n",
       "      <td>ultra</td>\n",
       "      <td>6</td>\n",
       "      <td>0</td>\n",
       "      <td>199</td>\n",
       "      <td>7027.511294</td>\n",
       "      <td>41.416640</td>\n",
       "      <td>2</td>\n",
       "      <td>445.0</td>\n",
       "    </tr>\n",
       "    <tr>\n",
       "      <th>1</th>\n",
       "      <td>1</td>\n",
       "      <td>4</td>\n",
       "      <td>Кира</td>\n",
       "      <td>22</td>\n",
       "      <td>Тюмень</td>\n",
       "      <td>ultra</td>\n",
       "      <td>6</td>\n",
       "      <td>0</td>\n",
       "      <td>199</td>\n",
       "      <td>754.159807</td>\n",
       "      <td>6.232113</td>\n",
       "      <td>1</td>\n",
       "      <td>235.0</td>\n",
       "    </tr>\n",
       "    <tr>\n",
       "      <th>2</th>\n",
       "      <td>1</td>\n",
       "      <td>8</td>\n",
       "      <td>Кира</td>\n",
       "      <td>22</td>\n",
       "      <td>Тюмень</td>\n",
       "      <td>ultra</td>\n",
       "      <td>6</td>\n",
       "      <td>0</td>\n",
       "      <td>199</td>\n",
       "      <td>6723.470560</td>\n",
       "      <td>44.776802</td>\n",
       "      <td>2</td>\n",
       "      <td>469.0</td>\n",
       "    </tr>\n",
       "    <tr>\n",
       "      <th>3</th>\n",
       "      <td>1</td>\n",
       "      <td>10</td>\n",
       "      <td>Кира</td>\n",
       "      <td>22</td>\n",
       "      <td>Тюмень</td>\n",
       "      <td>ultra</td>\n",
       "      <td>6</td>\n",
       "      <td>0</td>\n",
       "      <td>199</td>\n",
       "      <td>5809.911100</td>\n",
       "      <td>31.578017</td>\n",
       "      <td>2</td>\n",
       "      <td>391.0</td>\n",
       "    </tr>\n",
       "    <tr>\n",
       "      <th>4</th>\n",
       "      <td>1</td>\n",
       "      <td>11</td>\n",
       "      <td>Кира</td>\n",
       "      <td>22</td>\n",
       "      <td>Тюмень</td>\n",
       "      <td>ultra</td>\n",
       "      <td>6</td>\n",
       "      <td>0</td>\n",
       "      <td>199</td>\n",
       "      <td>7003.499363</td>\n",
       "      <td>53.397424</td>\n",
       "      <td>3</td>\n",
       "      <td>517.0</td>\n",
       "    </tr>\n",
       "  </tbody>\n",
       "</table>\n",
       "</div>"
      ],
      "text/plain": [
       "   user_id  month  name  age    city subscription_type  minute_price  \\\n",
       "0        1      1  Кира   22  Тюмень             ultra             6   \n",
       "1        1      4  Кира   22  Тюмень             ultra             6   \n",
       "2        1      8  Кира   22  Тюмень             ultra             6   \n",
       "3        1     10  Кира   22  Тюмень             ultra             6   \n",
       "4        1     11  Кира   22  Тюмень             ultra             6   \n",
       "\n",
       "   start_ride_price  subscription_fee     distance   duration  count  revenue  \n",
       "0                 0               199  7027.511294  41.416640      2    445.0  \n",
       "1                 0               199   754.159807   6.232113      1    235.0  \n",
       "2                 0               199  6723.470560  44.776802      2    469.0  \n",
       "3                 0               199  5809.911100  31.578017      2    391.0  \n",
       "4                 0               199  7003.499363  53.397424      3    517.0  "
      ]
     },
     "execution_count": 45,
     "metadata": {},
     "output_type": "execute_result"
    }
   ],
   "source": [
    "data_agg['revenue'] = (data_agg['start_ride_price'] * \n",
    "                       data_agg['count'] + data_agg['duration'].round() * \n",
    "                       data_agg['minute_price'] + data_agg['subscription_fee'])\n",
    "data_agg.head()                                                            "
   ]
  },
  {
   "cell_type": "code",
   "execution_count": 46,
   "id": "5d8d40ae",
   "metadata": {},
   "outputs": [
    {
     "data": {
      "text/plain": [
       "subscription_type\n",
       "free     321.784054\n",
       "ultra    358.538054\n",
       "Name: revenue, dtype: float64"
      ]
     },
     "execution_count": 46,
     "metadata": {},
     "output_type": "execute_result"
    }
   ],
   "source": [
    "# Код ревьюера\n",
    "data_agg.groupby('subscription_type')['revenue'].mean()"
   ]
  },
  {
   "cell_type": "markdown",
   "id": "41545ac0",
   "metadata": {},
   "source": [
    "#### Шаг 6. Проверка гипотез"
   ]
  },
  {
   "cell_type": "markdown",
   "id": "829618f3",
   "metadata": {},
   "source": [
    "##### Время поездки"
   ]
  },
  {
   "cell_type": "markdown",
   "id": "732c71c4",
   "metadata": {},
   "source": [
    "Необходимо выяснить тратят ли пользователи с платной подпиской больше времени на поездки. Сформулируем гипотезы:\n",
    "\n",
    "- H₀ - Среднее время между пользователями с подписками \"free\" и \"ultra\" не различаются;\n",
    "- H₁ - Среднее время пользователей \"ultra\" выше, чем у пользователей \"free\".\n",
    "\n",
    "Для проверки гипотезы используем t-тест: "
   ]
  },
  {
   "cell_type": "code",
   "execution_count": 47,
   "id": "f562dd99",
   "metadata": {
    "scrolled": true
   },
   "outputs": [
    {
     "name": "stdout",
     "output_type": "stream",
     "text": [
      "p-значение: 1.2804098316645618e-34\n",
      "Отвергаем нулевую гипотезу\n",
      "Средннее время поездки у бесплатной подписки: 17.39\n",
      "Средняее время поездки у платной подписки 18.54\n"
     ]
    }
   ],
   "source": [
    "# уровень статистической значимости\n",
    "alpha = 0.05\n",
    "\n",
    "results = st.ttest_ind(\n",
    "    data_free['duration'],\n",
    "    data_ultra['duration'],\n",
    "    alternative='less'\n",
    ")\n",
    "\n",
    "print('p-значение:', results.pvalue)\n",
    "\n",
    "if results.pvalue < alpha:\n",
    "    print(\"Отвергаем нулевую гипотезу\")\n",
    "else:\n",
    "    print(\"Нулевая гипотеза не отвергнута\")\n",
    "       \n",
    "print('Средннее время поездки у бесплатной подписки:', data_free['duration'].mean().round(2))\n",
    "print('Средняее время поездки у платной подписки', data_ultra['duration'].mean().round(2))"
   ]
  },
  {
   "cell_type": "markdown",
   "id": "11d24247",
   "metadata": {},
   "source": [
    "Так как данная гипотеза была сформирована для выяснения действительно ли пользователи с подпиской тратят больше времени и выгоднее для компании, то эту теорию подтверждаем исходя из полученных результатов."
   ]
  },
  {
   "cell_type": "markdown",
   "id": "c30b132f",
   "metadata": {},
   "source": [
    "##### Расстояние одной поездки"
   ]
  },
  {
   "cell_type": "markdown",
   "id": "0da2f7ff",
   "metadata": {},
   "source": [
    "Расстояние одной поездки в 3130 метров — оптимальное с точки зрения износа самоката. Выясним проезжают ли пользователи с подпиской менее 3130 метров.\n",
    "\n",
    "- H₀ - Среднее расстояние у пользователей с платной подпиской за одну поездку равно 3130 метров;\n",
    "- H₁ - Среднее расстояние у пользователей с платной подпиской за одну поездку меньше 3130 метров."
   ]
  },
  {
   "cell_type": "code",
   "execution_count": 48,
   "id": "b027e8d3",
   "metadata": {},
   "outputs": [
    {
     "name": "stdout",
     "output_type": "stream",
     "text": [
      "p-значение: 0.08046311521502146\n",
      "Не получилось отвергнуть нулевую гипотезу: средняя дистанция поездки в пределах оптимального\n",
      "Средняя дистанция поездки: 3115.45\n"
     ]
    }
   ],
   "source": [
    "value = 3130\n",
    "alpha = 0.05\n",
    "\n",
    "results = st.ttest_1samp(data_ultra['distance'], value, alternative='less')\n",
    "\n",
    "print('p-значение:', results.pvalue) \n",
    "\n",
    "if results.pvalue < alpha:\n",
    "    print('Отвергаем нулевую гипотезу: средняя дистанция поездки меньше 3130 метров')\n",
    "else:\n",
    "    print('Не получилось отвергнуть нулевую гипотезу: средняя дистанция поездки в пределах оптимального')\n",
    "    \n",
    "print('Средняя дистанция поездки:', data_ultra['distance'].mean().round(2))    "
   ]
  },
  {
   "cell_type": "markdown",
   "id": "70a33c8e",
   "metadata": {},
   "source": [
    "Делаем вывод, что самокаты в безопасности и чаще проезжают оптимальное расстояние."
   ]
  },
  {
   "cell_type": "markdown",
   "id": "fd0086c6",
   "metadata": {},
   "source": [
    "##### Выручка пользователей с платной и бесплатной подписками"
   ]
  },
  {
   "cell_type": "markdown",
   "id": "bf637739",
   "metadata": {},
   "source": [
    "Необходимо выяснить больше ли выручка у пользователей с платной подпиской, чем у пользователей с бесплатной. Для проверки выведем следующие гипотезы: \n",
    "\n",
    "- H₀ - Средняя выручка у пользователей с платной и бесплатной подписками равны;\n",
    "- H₁ - Средняя выручка у пользователей с платной подпиской больше, чем у пользователей с бесплатной."
   ]
  },
  {
   "cell_type": "code",
   "execution_count": 49,
   "id": "45699549",
   "metadata": {},
   "outputs": [
    {
     "name": "stdout",
     "output_type": "stream",
     "text": [
      "p-значение: 2.3546897309064956e-37\n",
      "Отвергаем нулевую гипотезу\n",
      "Средняя выручка в месяц у пользователей с бесплатной подпиской: 321.78\n",
      "Средняя выручка в месяц у пользователей с платной подпиской: 358.54\n"
     ]
    }
   ],
   "source": [
    "free = data_agg.query('subscription_type == \"free\"')\n",
    "ultra = data_agg.query('subscription_type == \"ultra\"')\n",
    "\n",
    "alpha = 0.05\n",
    "\n",
    "results = st.ttest_ind(free['revenue'], ultra['revenue'], alternative='less')\n",
    "\n",
    "print('p-значение:', results.pvalue)\n",
    "\n",
    "if (results.pvalue < alpha):\n",
    "    print(\"Отвергаем нулевую гипотезу\")\n",
    "else:\n",
    "    print(\"Не получилось отвергнуть нулевую гипотезу\")\n",
    "       \n",
    "print('Средняя выручка в месяц у пользователей с бесплатной подпиской:', free['revenue'].mean().round(2))\n",
    "print('Средняя выручка в месяц у пользователей с платной подпиской:', ultra['revenue'].mean().round(2))"
   ]
  },
  {
   "cell_type": "markdown",
   "id": "2f89fdca",
   "metadata": {},
   "source": [
    "Делаем вывод, что пользователи с платной подпиской приносят больше выручки компании, соответственно маркетинг лучше ориентировать на пользование услугой с подпиской."
   ]
  },
  {
   "cell_type": "markdown",
   "id": "7c4134ac",
   "metadata": {},
   "source": [
    "##### Обновление сервера"
   ]
  },
  {
   "cell_type": "markdown",
   "id": "82292774",
   "metadata": {},
   "source": [
    "Представьте такую ситуацию: техническая команда сервиса обновила сервера, с которыми взаимодействует мобильное приложение. Она надеется, что из-за этого количество обращений в техподдержку значимо снизилось. Некоторый файл содержит для каждого пользователя данные о количестве обращений до обновления и после него. Какой тест вам понадобился бы для проверки этой гипотезы?"
   ]
  },
  {
   "cell_type": "markdown",
   "id": "0ca6a781",
   "metadata": {},
   "source": [
    "***Ответ:*** Для решения потребуется тест на равенство средних для зависимых выборок, до и после изменений. \n",
    "\n",
    "При самом решении также задается уровень статистической значимости и используется метод st.ttest_rel(), которому передаются два аргумента: набор данных до изменений и после изменений. Далее полученное p-значение этого метода сравнивается с уровнем статистической значимости. Пример кода:\n",
    "\n",
    "alpha = 0.05 \n",
    "\n",
    "results = st.ttest_rel(before, after)\n",
    "\n",
    "print('p-значение:', results.pvalue)\n",
    "\n",
    "if results.pvalue < alpha:\n",
    "\n",
    "    print('Отвергаем нулевую гипотезу')\n",
    "    \n",
    "else:\n",
    "\n",
    "    print('Не получилось отвергнуть нулевую гипотезу')"
   ]
  },
  {
   "cell_type": "markdown",
   "id": "97d92fd8",
   "metadata": {},
   "source": [
    "#### Итоги исследования"
   ]
  },
  {
   "cell_type": "markdown",
   "id": "10efb459",
   "metadata": {},
   "source": [
    "1. ***Исследовательский анализ данных***\n",
    "\n",
    "   В ходе проведенного исследования данных удалось установить следующие выводы:\n",
    "\n",
    "   1.1 ***Распределение по городам***\n",
    "    \n",
    "     Количество пользователей по городам:\n",
    "    \n",
    "     - Пятигорск - 219;\n",
    "     - Екатеринбург - 204;\n",
    "     - Ростов-на-Дону - 198;\n",
    "     - Краснодар - 193;\n",
    "     - Сочи - 189;\n",
    "     - Омск - 183;\n",
    "     - Тюмень - 180;\n",
    "     - Москва - 168.\n",
    "    \n",
    "    В данных чаще всего встречаются пользователи из Пятигорска, а на последнем месте Москва. Также, хотел бы заметить, что разрыв между городами не столь велик. Достаточно много факторов могут повлиять на пользование самокатами по городам, например, количество отведенных мест для поездки, качество дорожного покрытия, популярность самокатов, степень \"вхождения\" бизнеса в город (от степени может зависеть количество самокатов), плотность населения, которая влияет на удобство поездки. Я бы не стал придавать значение распределению по городам.\n",
    "    \n",
    "    1.2 ***Соотношение пользователей с подпиской и без***\n",
    "    \n",
    "    По подсчетам имеющихся данных выведены следующие показатели:\n",
    "    \n",
    "    - Процент пользователей с бесплатной подпиской - 54.43%;\n",
    "    - Процент пользователей с платной подпиской - 45.57%.\n",
    "    \n",
    "    Наиболее распространены пользователи с бесплатной подпиской. При оценке показателя стоит учитывать, что не все готовы платить за подписку, например, ввиду редкого использования (платная подписка может оказаться не выгодной), некоторые пользователи могли лишь попробовать услугу аренды самоката, а для этого дополнительная плата за подписку не нужна.\n",
    "    \n",
    "    1.3 ***Возраст пользователей***\n",
    "    \n",
    "    - Средний возраст пользователя - 24.9;\n",
    "    - Минимальный возраст пользователя - 12;\n",
    "    - Максимальный возраст пользователя - 43.\n",
    "    \n",
    "    График распределения практически идеально нормальный. Падение с уменьшением возраста может быть связано с личными денежными средствами пользователя, не все пользователи с возрастов в 12 лет могут счесть нужным платить за данную необязательную услугу, не говоря уже о мнении родителей. Падение с увеличением возраста может быть связано с меньшей популярностью, ведь поездки на самокатах все же развлечение не для людей в средних годах.  \n",
    "    \n",
    "    1.4 ***Расстояние, преодоленное за одну поездку***\n",
    "    \n",
    "    Большая часть данных находится в центре графика, как и ожидается, но так же есть \"пучок\" слева, возможно это короткие прогулки, или пользователи использовали самокат, чтобы лишь добраться, допустим, до магазина. Основная масса пользователей преодолевают расстояние примерно от 2500 метров до 3800 метров.\n",
    "    \n",
    "    1.5 ***Время поездки***\n",
    "    \n",
    "    Распределение схоже с распределением расстояние, что неудивительно, так как это созависимые показатели. Большая часть пользователей находятся в пути примерно от 13 до 22 минут\n",
    "\n",
    "2. ***Исследовательский анализ данных в разрезе категорий***\n",
    "\n",
    "   Пользователей разделили на тех, которые пользуются платной подпиской и бесплатной.\n",
    "   \n",
    "   В целом при оценке распределения показателей времени и расстояния наблюдаем похожие данные на общие, однако можем выявить следующие исключения:\n",
    "   \n",
    "   - Пользователи с платной подпиской чаще преодолевают более длительные дистанции, выброс на расстоянии примерно до 2000 метров вдвое ниже по сравнению с показателями пользователей с бесплатной подпиской;\n",
    "   - Пользователи с платной подпиской так же совершают более длительные поездки, нет выброса на низких показателя как в случае с бесплатной подпиской;\n",
    "   - Максимальное время у пользователей с платной подпиской выше:\n",
    "    - Максимальное время у пользователей с бесплатной подпиской - 34.95;\n",
    "    - Максимальное время у пользователей с платной подпиской - 40.82.\n",
    "   - Но при этом максимальное расстояние выше у пользователей с бесплатной подпиской:\n",
    "    - Максимальное расстояние у пользователей с бесплатной подпиской - 7211.01;\n",
    "    - Максимальное расстояние у пользователей с платной подпиской - 5699.77.\n",
    "    \n",
    "   Поэтому можем сделать вывод, что пользователи с платной подпиской наиболее расположены к совершению прогулочных поездок. \n",
    "   \n",
    "3. ***Проверка гипотез***\n",
    "   \n",
    "   3.1 ***Время поездки***\n",
    "   \n",
    "   Выдвинуты следующие гипотезы:\n",
    "   \n",
    "   - H₀ - Среднее время между пользователями с подписками \"free\" и \"ultra\" не различаются;\n",
    "   - H₁ - Среднее время между пользователями с подписками \"free\" и \"ultra\" различаются.\n",
    "   \n",
    "   В ходе проверки нулевая гипотеза была опровергнута. Пользователи с платной подпиской тратят больше времени на поездки, соответственно, приносят больше прибыль компании.\n",
    "   \n",
    "   3.2 ***Расстояние одной поездки***\n",
    "   \n",
    "   Расстояние одной поездки в 3130 метров — оптимальное с точки зрения износа самоката. Для проверки подвержены ли самокаты преждевременному износу сформулированы следующие гипотезы:\n",
    "   \n",
    "   - H₀ - Среднее расстояние у пользователей с платной подпиской за одну поездку равно 3130 метров;\n",
    "   - H₁ - Среднее расстояние у пользователей с платной подпиской за одну поездку меньше 3130 метров.\n",
    "   \n",
    "   Проверив данные, нулевая гипотеза была опровергнута, чаще пользователи проезжают расстояние в пределах оптимального. \n",
    "   \n",
    "   3.3 ***Выручка пользователей с платной и бесплатной подписками***\n",
    "   \n",
    "   Необходимо было выяснить больше ли выручка у пользователей с платной подпиской, чем у пользователей с бесплатной. Для проверки вывели следующие гипотезы:\n",
    "\n",
    "   - H₀ - Средняя выручка у пользователей с платной и бесплатной подписками равны ;\n",
    "   - H₁ - Средняя выручка у пользователей с платной и бесплатной подписками не равны.\n",
    "   \n",
    "   Нулевая гипотеза была опровергнута. Пользователи с платной подпиской приносят больше выручки компании, соответственно маркетинг лучше ориентировать на пользование услугой с подпиской. Однако, следует заметить, что показатели не так информативны, как чистая прибыль. Для получения более точных выводов анализ лучше построить на выручке с вычетом издержек (возможны следующие варианты: если у платной подписки есть большая поддержка пользователей, соответственно, дополнительные расходы на сотрудников; на привлечение пользователей с платной подпиской могли выделить дополнительные средства на рекламу; запустить контекстную рекламу и тому подобное)."
   ]
  }
 ],
 "metadata": {
  "ExecuteTimeLog": [
   {
    "duration": 1323,
    "start_time": "2023-04-21T09:27:57.887Z"
   },
   {
    "duration": 3,
    "start_time": "2023-04-21T09:35:21.650Z"
   },
   {
    "duration": 228,
    "start_time": "2023-04-21T09:45:08.393Z"
   },
   {
    "duration": 85,
    "start_time": "2023-04-21T09:45:22.716Z"
   },
   {
    "duration": 23,
    "start_time": "2023-04-21T09:47:05.226Z"
   },
   {
    "duration": 18,
    "start_time": "2023-04-21T09:47:26.109Z"
   },
   {
    "duration": 13,
    "start_time": "2023-04-21T09:47:47.797Z"
   },
   {
    "duration": 9,
    "start_time": "2023-04-21T09:48:15.115Z"
   },
   {
    "duration": 21,
    "start_time": "2023-04-21T09:48:25.389Z"
   },
   {
    "duration": 7,
    "start_time": "2023-04-21T09:48:54.457Z"
   },
   {
    "duration": 8,
    "start_time": "2023-04-21T09:49:03.307Z"
   },
   {
    "duration": 34,
    "start_time": "2023-04-21T09:49:13.369Z"
   },
   {
    "duration": 12,
    "start_time": "2023-04-21T10:03:00.113Z"
   },
   {
    "duration": 8,
    "start_time": "2023-04-21T10:03:08.615Z"
   },
   {
    "duration": 23,
    "start_time": "2023-04-21T10:05:12.470Z"
   },
   {
    "duration": 9,
    "start_time": "2023-04-21T10:05:33.044Z"
   },
   {
    "duration": 105,
    "start_time": "2023-04-21T10:05:57.912Z"
   },
   {
    "duration": 8,
    "start_time": "2023-04-21T10:06:11.947Z"
   },
   {
    "duration": 14,
    "start_time": "2023-04-21T10:06:20.037Z"
   },
   {
    "duration": 3,
    "start_time": "2023-04-21T10:06:33.979Z"
   },
   {
    "duration": 74,
    "start_time": "2023-04-21T10:06:33.984Z"
   },
   {
    "duration": 7,
    "start_time": "2023-04-21T10:06:34.060Z"
   },
   {
    "duration": 34,
    "start_time": "2023-04-21T10:06:34.068Z"
   },
   {
    "duration": 20,
    "start_time": "2023-04-21T10:06:34.104Z"
   },
   {
    "duration": 18,
    "start_time": "2023-04-21T10:06:34.126Z"
   },
   {
    "duration": 13,
    "start_time": "2023-04-21T10:06:34.145Z"
   },
   {
    "duration": 12,
    "start_time": "2023-04-21T10:06:34.159Z"
   },
   {
    "duration": 10,
    "start_time": "2023-04-21T10:06:34.186Z"
   },
   {
    "duration": 12,
    "start_time": "2023-04-21T10:07:39.582Z"
   },
   {
    "duration": 10,
    "start_time": "2023-04-21T10:07:43.493Z"
   },
   {
    "duration": 9,
    "start_time": "2023-04-21T10:15:10.500Z"
   },
   {
    "duration": 6,
    "start_time": "2023-04-21T10:17:39.269Z"
   },
   {
    "duration": 11,
    "start_time": "2023-04-21T10:41:21.675Z"
   },
   {
    "duration": 11,
    "start_time": "2023-04-21T10:41:35.578Z"
   },
   {
    "duration": 4,
    "start_time": "2023-04-21T10:49:50.403Z"
   },
   {
    "duration": 4,
    "start_time": "2023-04-21T10:51:29.125Z"
   },
   {
    "duration": 7,
    "start_time": "2023-04-21T10:51:44.762Z"
   },
   {
    "duration": 4,
    "start_time": "2023-04-21T10:52:27.747Z"
   },
   {
    "duration": 4,
    "start_time": "2023-04-21T10:52:52.281Z"
   },
   {
    "duration": 6,
    "start_time": "2023-04-21T10:52:55.916Z"
   },
   {
    "duration": 10,
    "start_time": "2023-04-21T10:54:34.718Z"
   },
   {
    "duration": 9,
    "start_time": "2023-04-21T10:54:38.827Z"
   },
   {
    "duration": 9,
    "start_time": "2023-04-21T10:54:45.938Z"
   },
   {
    "duration": 10,
    "start_time": "2023-04-21T10:54:50.540Z"
   },
   {
    "duration": 4,
    "start_time": "2023-04-21T10:55:27.878Z"
   },
   {
    "duration": 9,
    "start_time": "2023-04-21T10:55:36.841Z"
   },
   {
    "duration": 500,
    "start_time": "2023-04-21T10:56:14.385Z"
   },
   {
    "duration": 4,
    "start_time": "2023-04-21T10:58:03.053Z"
   },
   {
    "duration": 10,
    "start_time": "2023-04-21T10:58:12.157Z"
   },
   {
    "duration": 11,
    "start_time": "2023-04-21T10:58:41.533Z"
   },
   {
    "duration": 1586,
    "start_time": "2023-04-21T10:59:19.324Z"
   },
   {
    "duration": 6,
    "start_time": "2023-04-21T11:01:17.946Z"
   },
   {
    "duration": 8,
    "start_time": "2023-04-21T11:01:27.437Z"
   },
   {
    "duration": 9,
    "start_time": "2023-04-21T11:02:05.397Z"
   },
   {
    "duration": 906,
    "start_time": "2023-04-21T11:02:32.479Z"
   },
   {
    "duration": 6,
    "start_time": "2023-04-21T11:04:36.305Z"
   },
   {
    "duration": 5,
    "start_time": "2023-04-21T11:05:45.371Z"
   },
   {
    "duration": 11,
    "start_time": "2023-04-21T11:06:04.128Z"
   },
   {
    "duration": 6,
    "start_time": "2023-04-21T11:07:12.494Z"
   },
   {
    "duration": 5,
    "start_time": "2023-04-21T11:09:21.919Z"
   },
   {
    "duration": 9,
    "start_time": "2023-04-21T11:11:20.294Z"
   },
   {
    "duration": 7,
    "start_time": "2023-04-21T11:14:53.551Z"
   },
   {
    "duration": 5,
    "start_time": "2023-04-21T11:15:30.700Z"
   },
   {
    "duration": 8,
    "start_time": "2023-04-21T11:15:39.294Z"
   },
   {
    "duration": 52,
    "start_time": "2023-04-22T09:43:08.664Z"
   },
   {
    "duration": 8,
    "start_time": "2023-04-22T09:43:14.222Z"
   },
   {
    "duration": 1325,
    "start_time": "2023-04-22T09:43:22.644Z"
   },
   {
    "duration": 199,
    "start_time": "2023-04-22T09:43:23.972Z"
   },
   {
    "duration": 14,
    "start_time": "2023-04-22T09:43:24.173Z"
   },
   {
    "duration": 24,
    "start_time": "2023-04-22T09:43:24.190Z"
   },
   {
    "duration": 31,
    "start_time": "2023-04-22T09:43:24.216Z"
   },
   {
    "duration": 31,
    "start_time": "2023-04-22T09:43:24.250Z"
   },
   {
    "duration": 24,
    "start_time": "2023-04-22T09:43:24.284Z"
   },
   {
    "duration": 11,
    "start_time": "2023-04-22T09:43:24.310Z"
   },
   {
    "duration": 23,
    "start_time": "2023-04-22T09:43:24.322Z"
   },
   {
    "duration": 26,
    "start_time": "2023-04-22T09:43:24.347Z"
   },
   {
    "duration": 13,
    "start_time": "2023-04-22T09:43:24.375Z"
   },
   {
    "duration": 11,
    "start_time": "2023-04-22T09:43:24.390Z"
   },
   {
    "duration": 14,
    "start_time": "2023-04-22T09:43:24.403Z"
   },
   {
    "duration": 30,
    "start_time": "2023-04-22T09:43:24.419Z"
   },
   {
    "duration": 204,
    "start_time": "2023-04-22T09:43:24.451Z"
   },
   {
    "duration": 77,
    "start_time": "2023-04-22T09:44:01.520Z"
   },
   {
    "duration": 63,
    "start_time": "2023-04-22T09:44:20.250Z"
   },
   {
    "duration": 21,
    "start_time": "2023-04-22T09:44:52.420Z"
   },
   {
    "duration": 155,
    "start_time": "2023-04-22T09:46:06.922Z"
   },
   {
    "duration": 141,
    "start_time": "2023-04-22T09:49:44.327Z"
   },
   {
    "duration": 138,
    "start_time": "2023-04-22T09:50:14.739Z"
   },
   {
    "duration": 135,
    "start_time": "2023-04-22T09:50:28.827Z"
   },
   {
    "duration": 138,
    "start_time": "2023-04-22T09:52:20.445Z"
   },
   {
    "duration": 137,
    "start_time": "2023-04-22T09:52:44.854Z"
   },
   {
    "duration": 133,
    "start_time": "2023-04-22T09:52:52.979Z"
   },
   {
    "duration": 146,
    "start_time": "2023-04-22T09:53:19.041Z"
   },
   {
    "duration": 201,
    "start_time": "2023-04-22T10:01:20.432Z"
   },
   {
    "duration": 132,
    "start_time": "2023-04-22T10:01:49.614Z"
   },
   {
    "duration": 33,
    "start_time": "2023-04-22T10:08:11.063Z"
   },
   {
    "duration": 21,
    "start_time": "2023-04-22T10:08:31.171Z"
   },
   {
    "duration": 17,
    "start_time": "2023-04-22T10:08:58.034Z"
   },
   {
    "duration": 10,
    "start_time": "2023-04-22T10:09:34.258Z"
   },
   {
    "duration": 8,
    "start_time": "2023-04-22T10:10:22.874Z"
   },
   {
    "duration": 19,
    "start_time": "2023-04-22T10:11:36.248Z"
   },
   {
    "duration": 7,
    "start_time": "2023-04-22T10:11:50.964Z"
   },
   {
    "duration": 8,
    "start_time": "2023-04-22T10:12:13.671Z"
   },
   {
    "duration": 9,
    "start_time": "2023-04-22T10:12:23.726Z"
   },
   {
    "duration": 8,
    "start_time": "2023-04-22T10:12:33.493Z"
   },
   {
    "duration": 13,
    "start_time": "2023-04-22T10:12:41.338Z"
   },
   {
    "duration": 15,
    "start_time": "2023-04-22T10:12:45.641Z"
   },
   {
    "duration": 12,
    "start_time": "2023-04-22T10:12:51.680Z"
   },
   {
    "duration": 10,
    "start_time": "2023-04-22T10:13:10.822Z"
   },
   {
    "duration": 381,
    "start_time": "2023-04-22T10:17:19.615Z"
   },
   {
    "duration": 200,
    "start_time": "2023-04-22T10:17:59.879Z"
   },
   {
    "duration": 165,
    "start_time": "2023-04-22T10:18:10.548Z"
   },
   {
    "duration": 255,
    "start_time": "2023-04-22T10:18:37.659Z"
   },
   {
    "duration": 274,
    "start_time": "2023-04-22T10:19:29.638Z"
   },
   {
    "duration": 176,
    "start_time": "2023-04-22T10:20:21.367Z"
   },
   {
    "duration": 502,
    "start_time": "2023-04-22T10:21:03.501Z"
   },
   {
    "duration": 260,
    "start_time": "2023-04-22T10:21:15.446Z"
   },
   {
    "duration": 385,
    "start_time": "2023-04-22T10:21:32.344Z"
   },
   {
    "duration": 291,
    "start_time": "2023-04-22T10:22:04.451Z"
   },
   {
    "duration": 6,
    "start_time": "2023-04-22T10:27:46.260Z"
   },
   {
    "duration": 5,
    "start_time": "2023-04-22T10:31:10.418Z"
   },
   {
    "duration": 240,
    "start_time": "2023-04-22T10:32:40.597Z"
   },
   {
    "duration": 6,
    "start_time": "2023-04-22T10:34:29.606Z"
   },
   {
    "duration": 6,
    "start_time": "2023-04-22T10:34:38.613Z"
   },
   {
    "duration": 15,
    "start_time": "2023-04-22T10:37:42.965Z"
   },
   {
    "duration": 773,
    "start_time": "2023-04-22T10:37:56.913Z"
   },
   {
    "duration": 149,
    "start_time": "2023-04-22T10:38:27.298Z"
   },
   {
    "duration": 3,
    "start_time": "2023-04-22T10:42:55.058Z"
   },
   {
    "duration": 69,
    "start_time": "2023-04-22T10:42:55.367Z"
   },
   {
    "duration": 41,
    "start_time": "2023-04-22T10:42:55.443Z"
   },
   {
    "duration": 9,
    "start_time": "2023-04-22T10:42:55.515Z"
   },
   {
    "duration": 13,
    "start_time": "2023-04-22T10:42:55.544Z"
   },
   {
    "duration": 16,
    "start_time": "2023-04-22T10:42:55.571Z"
   },
   {
    "duration": 16,
    "start_time": "2023-04-22T10:42:55.625Z"
   },
   {
    "duration": 11,
    "start_time": "2023-04-22T10:42:55.664Z"
   },
   {
    "duration": 28,
    "start_time": "2023-04-22T10:42:55.696Z"
   },
   {
    "duration": 11,
    "start_time": "2023-04-22T10:42:55.746Z"
   },
   {
    "duration": 14,
    "start_time": "2023-04-22T10:42:55.777Z"
   },
   {
    "duration": 20,
    "start_time": "2023-04-22T10:42:55.802Z"
   },
   {
    "duration": 7,
    "start_time": "2023-04-22T10:42:55.833Z"
   },
   {
    "duration": 9,
    "start_time": "2023-04-22T10:42:55.861Z"
   },
   {
    "duration": 168,
    "start_time": "2023-04-22T10:42:55.880Z"
   },
   {
    "duration": 146,
    "start_time": "2023-04-22T10:42:56.062Z"
   },
   {
    "duration": 8,
    "start_time": "2023-04-22T10:42:56.376Z"
   },
   {
    "duration": 288,
    "start_time": "2023-04-22T10:42:56.578Z"
   },
   {
    "duration": 22,
    "start_time": "2023-04-22T10:42:56.878Z"
   },
   {
    "duration": 287,
    "start_time": "2023-04-22T10:42:57.179Z"
   },
   {
    "duration": 12,
    "start_time": "2023-04-22T10:47:31.334Z"
   },
   {
    "duration": 135,
    "start_time": "2023-04-22T10:47:57.025Z"
   },
   {
    "duration": 279,
    "start_time": "2023-04-22T10:54:08.625Z"
   },
   {
    "duration": 184,
    "start_time": "2023-04-22T10:54:29.711Z"
   },
   {
    "duration": 194,
    "start_time": "2023-04-22T10:54:39.397Z"
   },
   {
    "duration": 139,
    "start_time": "2023-04-22T10:55:06.076Z"
   },
   {
    "duration": 138,
    "start_time": "2023-04-22T10:57:53.213Z"
   },
   {
    "duration": 127,
    "start_time": "2023-04-22T10:58:04.750Z"
   },
   {
    "duration": 121,
    "start_time": "2023-04-22T10:58:10.066Z"
   },
   {
    "duration": 209,
    "start_time": "2023-04-22T10:58:47.483Z"
   },
   {
    "duration": 116,
    "start_time": "2023-04-22T10:58:53.803Z"
   },
   {
    "duration": 131,
    "start_time": "2023-04-22T10:59:49.118Z"
   },
   {
    "duration": 147,
    "start_time": "2023-04-22T11:00:21.821Z"
   },
   {
    "duration": 132,
    "start_time": "2023-04-22T11:00:30.782Z"
   },
   {
    "duration": 117,
    "start_time": "2023-04-22T11:01:41.005Z"
   },
   {
    "duration": 10,
    "start_time": "2023-04-22T11:26:32.543Z"
   },
   {
    "duration": 28,
    "start_time": "2023-04-22T11:26:39.841Z"
   },
   {
    "duration": 18,
    "start_time": "2023-04-22T11:26:50.200Z"
   },
   {
    "duration": 31,
    "start_time": "2023-04-22T11:27:01.821Z"
   },
   {
    "duration": 22,
    "start_time": "2023-04-22T11:29:08.487Z"
   },
   {
    "duration": 15,
    "start_time": "2023-04-22T11:29:25.572Z"
   },
   {
    "duration": 36,
    "start_time": "2023-04-22T11:30:24.617Z"
   },
   {
    "duration": 47,
    "start_time": "2023-04-22T11:32:45.964Z"
   },
   {
    "duration": 38,
    "start_time": "2023-04-22T11:33:07.503Z"
   },
   {
    "duration": 15,
    "start_time": "2023-04-22T11:33:45.088Z"
   },
   {
    "duration": 22,
    "start_time": "2023-04-22T11:34:11.787Z"
   },
   {
    "duration": 47,
    "start_time": "2023-04-22T11:34:41.206Z"
   },
   {
    "duration": 36,
    "start_time": "2023-04-22T11:35:01.978Z"
   },
   {
    "duration": 46,
    "start_time": "2023-04-22T11:35:18.430Z"
   },
   {
    "duration": 15,
    "start_time": "2023-04-22T11:44:50.120Z"
   },
   {
    "duration": 10,
    "start_time": "2023-04-22T11:45:02.285Z"
   },
   {
    "duration": 10,
    "start_time": "2023-04-22T11:46:29.339Z"
   },
   {
    "duration": 26,
    "start_time": "2023-04-22T11:47:56.036Z"
   },
   {
    "duration": 24,
    "start_time": "2023-04-22T11:48:40.252Z"
   },
   {
    "duration": 26,
    "start_time": "2023-04-22T11:49:01.534Z"
   },
   {
    "duration": 22,
    "start_time": "2023-04-22T11:50:03.251Z"
   },
   {
    "duration": 18,
    "start_time": "2023-04-22T11:51:03.254Z"
   },
   {
    "duration": 15,
    "start_time": "2023-04-22T11:51:33.572Z"
   },
   {
    "duration": 308,
    "start_time": "2023-04-22T11:55:31.213Z"
   },
   {
    "duration": 205,
    "start_time": "2023-04-22T11:58:17.660Z"
   },
   {
    "duration": 27,
    "start_time": "2023-04-22T12:02:49.708Z"
   },
   {
    "duration": 135,
    "start_time": "2023-04-22T12:03:42.440Z"
   },
   {
    "duration": 1262,
    "start_time": "2023-04-22T12:04:28.070Z"
   },
   {
    "duration": 992,
    "start_time": "2023-04-22T12:05:06.987Z"
   },
   {
    "duration": 934,
    "start_time": "2023-04-22T12:05:40.597Z"
   },
   {
    "duration": 192,
    "start_time": "2023-04-22T12:13:27.664Z"
   },
   {
    "duration": 358,
    "start_time": "2023-04-22T12:14:29.902Z"
   },
   {
    "duration": 394,
    "start_time": "2023-04-22T12:14:44.463Z"
   },
   {
    "duration": 387,
    "start_time": "2023-04-22T12:14:58.483Z"
   },
   {
    "duration": 280,
    "start_time": "2023-04-22T12:17:00.880Z"
   },
   {
    "duration": 263,
    "start_time": "2023-04-22T12:17:39.015Z"
   },
   {
    "duration": 10,
    "start_time": "2023-04-22T12:22:18.402Z"
   },
   {
    "duration": 181,
    "start_time": "2023-04-22T12:22:29.039Z"
   },
   {
    "duration": 16,
    "start_time": "2023-04-22T12:26:55.428Z"
   },
   {
    "duration": 17,
    "start_time": "2023-04-22T12:27:12.537Z"
   },
   {
    "duration": 20,
    "start_time": "2023-04-22T12:27:30.014Z"
   },
   {
    "duration": 25,
    "start_time": "2023-04-22T12:27:54.763Z"
   },
   {
    "duration": 22,
    "start_time": "2023-04-22T12:28:25.454Z"
   },
   {
    "duration": 52,
    "start_time": "2023-04-22T12:28:43.973Z"
   },
   {
    "duration": 23,
    "start_time": "2023-04-22T12:29:16.435Z"
   },
   {
    "duration": 25,
    "start_time": "2023-04-22T12:30:03.035Z"
   },
   {
    "duration": 18,
    "start_time": "2023-04-22T12:30:37.978Z"
   },
   {
    "duration": 15,
    "start_time": "2023-04-22T12:30:48.155Z"
   },
   {
    "duration": 27,
    "start_time": "2023-04-22T12:32:04.727Z"
   },
   {
    "duration": 182,
    "start_time": "2023-04-22T12:35:42.027Z"
   },
   {
    "duration": 186,
    "start_time": "2023-04-22T12:36:06.950Z"
   },
   {
    "duration": 506,
    "start_time": "2023-04-22T12:36:47.823Z"
   },
   {
    "duration": 315,
    "start_time": "2023-04-22T12:37:17.475Z"
   },
   {
    "duration": 357,
    "start_time": "2023-04-22T12:39:30.453Z"
   },
   {
    "duration": 294,
    "start_time": "2023-04-22T12:39:43.758Z"
   },
   {
    "duration": 251,
    "start_time": "2023-04-22T12:41:19.759Z"
   },
   {
    "duration": 298,
    "start_time": "2023-04-22T12:41:33.431Z"
   },
   {
    "duration": 346,
    "start_time": "2023-04-22T12:46:07.394Z"
   },
   {
    "duration": 418,
    "start_time": "2023-04-22T12:47:42.341Z"
   },
   {
    "duration": 362,
    "start_time": "2023-04-22T12:47:56.583Z"
   },
   {
    "duration": 291,
    "start_time": "2023-04-22T12:48:09.232Z"
   },
   {
    "duration": 290,
    "start_time": "2023-04-22T12:49:02.794Z"
   },
   {
    "duration": 1282,
    "start_time": "2023-04-23T08:16:29.623Z"
   },
   {
    "duration": 297,
    "start_time": "2023-04-23T08:16:30.907Z"
   },
   {
    "duration": 12,
    "start_time": "2023-04-23T08:16:31.206Z"
   },
   {
    "duration": 28,
    "start_time": "2023-04-23T08:16:31.219Z"
   },
   {
    "duration": 23,
    "start_time": "2023-04-23T08:16:31.248Z"
   },
   {
    "duration": 46,
    "start_time": "2023-04-23T08:16:31.273Z"
   },
   {
    "duration": 21,
    "start_time": "2023-04-23T08:16:31.320Z"
   },
   {
    "duration": 43,
    "start_time": "2023-04-23T08:16:31.342Z"
   },
   {
    "duration": 52,
    "start_time": "2023-04-23T08:16:31.387Z"
   },
   {
    "duration": 32,
    "start_time": "2023-04-23T08:16:31.441Z"
   },
   {
    "duration": 35,
    "start_time": "2023-04-23T08:16:31.475Z"
   },
   {
    "duration": 22,
    "start_time": "2023-04-23T08:16:31.511Z"
   },
   {
    "duration": 30,
    "start_time": "2023-04-23T08:16:31.534Z"
   },
   {
    "duration": 42,
    "start_time": "2023-04-23T08:16:31.566Z"
   },
   {
    "duration": 26,
    "start_time": "2023-04-23T08:16:31.609Z"
   },
   {
    "duration": 25,
    "start_time": "2023-04-23T08:16:31.636Z"
   },
   {
    "duration": 151,
    "start_time": "2023-04-23T08:16:31.663Z"
   },
   {
    "duration": 123,
    "start_time": "2023-04-23T08:16:31.815Z"
   },
   {
    "duration": 7,
    "start_time": "2023-04-23T08:16:31.940Z"
   },
   {
    "duration": 219,
    "start_time": "2023-04-23T08:16:31.949Z"
   },
   {
    "duration": 4,
    "start_time": "2023-04-23T08:16:32.170Z"
   },
   {
    "duration": 247,
    "start_time": "2023-04-23T08:16:32.176Z"
   },
   {
    "duration": 113,
    "start_time": "2023-04-23T08:16:32.425Z"
   },
   {
    "duration": 173,
    "start_time": "2023-04-23T08:16:32.540Z"
   },
   {
    "duration": 173,
    "start_time": "2023-04-23T08:16:32.715Z"
   },
   {
    "duration": 30,
    "start_time": "2023-04-23T08:16:32.895Z"
   },
   {
    "duration": 16,
    "start_time": "2023-04-23T08:16:32.927Z"
   },
   {
    "duration": 13,
    "start_time": "2023-04-23T08:16:32.946Z"
   },
   {
    "duration": 241,
    "start_time": "2023-04-23T08:16:32.961Z"
   },
   {
    "duration": 143,
    "start_time": "2023-04-23T08:16:33.209Z"
   },
   {
    "duration": 939,
    "start_time": "2023-04-23T08:16:33.353Z"
   },
   {
    "duration": 219,
    "start_time": "2023-04-23T08:16:34.293Z"
   },
   {
    "duration": 149,
    "start_time": "2023-04-23T08:16:34.514Z"
   },
   {
    "duration": 14,
    "start_time": "2023-04-23T08:16:34.665Z"
   },
   {
    "duration": 34,
    "start_time": "2023-04-23T08:16:34.681Z"
   },
   {
    "duration": 354,
    "start_time": "2023-04-23T08:16:34.717Z"
   },
   {
    "duration": 269,
    "start_time": "2023-04-23T08:16:35.073Z"
   },
   {
    "duration": 272,
    "start_time": "2023-04-23T08:16:35.343Z"
   },
   {
    "duration": 10,
    "start_time": "2023-04-23T08:26:52.891Z"
   },
   {
    "duration": 18,
    "start_time": "2023-04-23T08:27:06.089Z"
   },
   {
    "duration": 108,
    "start_time": "2023-04-23T08:28:01.891Z"
   },
   {
    "duration": 19,
    "start_time": "2023-04-23T08:29:37.524Z"
   },
   {
    "duration": 15,
    "start_time": "2023-04-23T08:29:58.313Z"
   },
   {
    "duration": 16,
    "start_time": "2023-04-23T08:33:33.220Z"
   },
   {
    "duration": 16,
    "start_time": "2023-04-23T08:33:37.107Z"
   },
   {
    "duration": 17,
    "start_time": "2023-04-23T08:33:45.425Z"
   },
   {
    "duration": 16,
    "start_time": "2023-04-23T08:34:37.905Z"
   },
   {
    "duration": 42,
    "start_time": "2023-04-23T08:41:38.455Z"
   },
   {
    "duration": 44,
    "start_time": "2023-04-23T08:42:28.975Z"
   },
   {
    "duration": 35,
    "start_time": "2023-04-23T08:42:58.935Z"
   },
   {
    "duration": 29,
    "start_time": "2023-04-23T08:43:48.848Z"
   },
   {
    "duration": 41,
    "start_time": "2023-04-23T08:44:24.720Z"
   },
   {
    "duration": 34,
    "start_time": "2023-04-23T08:46:13.003Z"
   },
   {
    "duration": 34,
    "start_time": "2023-04-23T08:47:59.805Z"
   },
   {
    "duration": 42,
    "start_time": "2023-04-23T08:49:21.669Z"
   },
   {
    "duration": 35,
    "start_time": "2023-04-23T08:51:38.017Z"
   },
   {
    "duration": 32,
    "start_time": "2023-04-23T08:51:57.235Z"
   },
   {
    "duration": 46,
    "start_time": "2023-04-23T08:52:38.088Z"
   },
   {
    "duration": 36,
    "start_time": "2023-04-23T08:53:06.629Z"
   },
   {
    "duration": 31,
    "start_time": "2023-04-23T08:54:00.326Z"
   },
   {
    "duration": 41,
    "start_time": "2023-04-23T08:54:14.371Z"
   },
   {
    "duration": 36,
    "start_time": "2023-04-23T08:54:52.182Z"
   },
   {
    "duration": 68,
    "start_time": "2023-04-23T09:08:42.788Z"
   },
   {
    "duration": 78,
    "start_time": "2023-04-23T09:08:58.085Z"
   },
   {
    "duration": 10,
    "start_time": "2023-04-23T09:09:30.327Z"
   },
   {
    "duration": 10,
    "start_time": "2023-04-23T09:10:50.828Z"
   },
   {
    "duration": 9,
    "start_time": "2023-04-23T09:11:43.590Z"
   },
   {
    "duration": 80,
    "start_time": "2023-04-23T09:14:51.719Z"
   },
   {
    "duration": 168,
    "start_time": "2023-04-23T09:15:03.296Z"
   },
   {
    "duration": 5,
    "start_time": "2023-04-23T09:15:26.194Z"
   },
   {
    "duration": 13,
    "start_time": "2023-04-23T09:15:45.322Z"
   },
   {
    "duration": 72,
    "start_time": "2023-04-23T09:16:53.026Z"
   },
   {
    "duration": 14,
    "start_time": "2023-04-23T09:16:58.993Z"
   },
   {
    "duration": 11,
    "start_time": "2023-04-23T09:31:40.744Z"
   },
   {
    "duration": 7,
    "start_time": "2023-04-23T09:32:09.006Z"
   },
   {
    "duration": 5,
    "start_time": "2023-04-23T09:51:30.771Z"
   },
   {
    "duration": 73,
    "start_time": "2023-04-23T09:57:21.116Z"
   },
   {
    "duration": 6,
    "start_time": "2023-04-23T09:57:30.927Z"
   },
   {
    "duration": 6,
    "start_time": "2023-04-23T09:58:59.815Z"
   },
   {
    "duration": 5,
    "start_time": "2023-04-23T10:00:09.430Z"
   },
   {
    "duration": 5,
    "start_time": "2023-04-23T10:07:26.980Z"
   },
   {
    "duration": 8,
    "start_time": "2023-04-23T10:32:51.326Z"
   },
   {
    "duration": 7,
    "start_time": "2023-04-23T10:33:07.472Z"
   },
   {
    "duration": 7,
    "start_time": "2023-04-23T10:33:19.169Z"
   },
   {
    "duration": 6,
    "start_time": "2023-04-23T10:33:33.538Z"
   },
   {
    "duration": 1211,
    "start_time": "2023-04-23T10:39:00.315Z"
   },
   {
    "duration": 27,
    "start_time": "2023-04-23T10:42:53.211Z"
   },
   {
    "duration": 12,
    "start_time": "2023-04-23T10:43:27.322Z"
   },
   {
    "duration": 6,
    "start_time": "2023-04-23T10:43:53.180Z"
   },
   {
    "duration": 9,
    "start_time": "2023-04-23T11:23:18.385Z"
   },
   {
    "duration": 3,
    "start_time": "2023-04-23T11:23:48.934Z"
   },
   {
    "duration": 8,
    "start_time": "2023-04-23T11:24:10.634Z"
   },
   {
    "duration": 9,
    "start_time": "2023-04-23T11:25:43.888Z"
   },
   {
    "duration": 2,
    "start_time": "2023-04-23T11:26:37.293Z"
   },
   {
    "duration": 5,
    "start_time": "2023-04-23T11:26:47.073Z"
   },
   {
    "duration": 132,
    "start_time": "2023-04-23T12:13:16.907Z"
   },
   {
    "duration": 5,
    "start_time": "2023-04-23T12:27:11.957Z"
   },
   {
    "duration": 4,
    "start_time": "2023-04-23T12:28:32.650Z"
   },
   {
    "duration": 5,
    "start_time": "2023-04-23T12:31:33.734Z"
   },
   {
    "duration": 4,
    "start_time": "2023-04-23T12:36:18.922Z"
   },
   {
    "duration": 5,
    "start_time": "2023-04-23T12:36:32.333Z"
   },
   {
    "duration": 5,
    "start_time": "2023-04-23T12:37:00.412Z"
   },
   {
    "duration": 5,
    "start_time": "2023-04-23T12:37:10.708Z"
   },
   {
    "duration": 6,
    "start_time": "2023-04-23T12:38:04.415Z"
   },
   {
    "duration": 4,
    "start_time": "2023-04-23T12:38:13.028Z"
   },
   {
    "duration": 5,
    "start_time": "2023-04-23T12:38:19.568Z"
   },
   {
    "duration": 5,
    "start_time": "2023-04-23T12:38:24.210Z"
   },
   {
    "duration": 5,
    "start_time": "2023-04-23T13:29:19.722Z"
   },
   {
    "duration": 4,
    "start_time": "2023-04-23T13:29:32.346Z"
   },
   {
    "duration": 3,
    "start_time": "2023-04-23T13:29:40.196Z"
   },
   {
    "duration": 65,
    "start_time": "2023-04-23T13:29:40.201Z"
   },
   {
    "duration": 7,
    "start_time": "2023-04-23T13:29:40.268Z"
   },
   {
    "duration": 13,
    "start_time": "2023-04-23T13:29:40.277Z"
   },
   {
    "duration": 7,
    "start_time": "2023-04-23T13:29:40.291Z"
   },
   {
    "duration": 15,
    "start_time": "2023-04-23T13:29:40.300Z"
   },
   {
    "duration": 5,
    "start_time": "2023-04-23T13:29:40.317Z"
   },
   {
    "duration": 10,
    "start_time": "2023-04-23T13:29:40.323Z"
   },
   {
    "duration": 9,
    "start_time": "2023-04-23T13:29:40.335Z"
   },
   {
    "duration": 9,
    "start_time": "2023-04-23T13:29:40.345Z"
   },
   {
    "duration": 8,
    "start_time": "2023-04-23T13:29:40.394Z"
   },
   {
    "duration": 5,
    "start_time": "2023-04-23T13:29:40.403Z"
   },
   {
    "duration": 5,
    "start_time": "2023-04-23T13:29:40.409Z"
   },
   {
    "duration": 7,
    "start_time": "2023-04-23T13:29:40.415Z"
   },
   {
    "duration": 4,
    "start_time": "2023-04-23T13:29:40.423Z"
   },
   {
    "duration": 9,
    "start_time": "2023-04-23T13:29:40.429Z"
   },
   {
    "duration": 142,
    "start_time": "2023-04-23T13:29:40.440Z"
   },
   {
    "duration": 111,
    "start_time": "2023-04-23T13:29:40.584Z"
   },
   {
    "duration": 6,
    "start_time": "2023-04-23T13:29:40.697Z"
   },
   {
    "duration": 213,
    "start_time": "2023-04-23T13:29:40.704Z"
   },
   {
    "duration": 4,
    "start_time": "2023-04-23T13:29:40.918Z"
   },
   {
    "duration": 296,
    "start_time": "2023-04-23T13:29:40.923Z"
   },
   {
    "duration": 107,
    "start_time": "2023-04-23T13:29:41.220Z"
   },
   {
    "duration": 170,
    "start_time": "2023-04-23T13:29:41.330Z"
   },
   {
    "duration": 109,
    "start_time": "2023-04-23T13:29:41.502Z"
   },
   {
    "duration": 24,
    "start_time": "2023-04-23T13:29:41.613Z"
   },
   {
    "duration": 17,
    "start_time": "2023-04-23T13:29:41.639Z"
   },
   {
    "duration": 38,
    "start_time": "2023-04-23T13:29:41.658Z"
   },
   {
    "duration": 216,
    "start_time": "2023-04-23T13:29:41.698Z"
   },
   {
    "duration": 176,
    "start_time": "2023-04-23T13:29:41.916Z"
   },
   {
    "duration": 769,
    "start_time": "2023-04-23T13:29:42.093Z"
   },
   {
    "duration": 298,
    "start_time": "2023-04-23T13:29:42.863Z"
   },
   {
    "duration": 151,
    "start_time": "2023-04-23T13:29:43.163Z"
   },
   {
    "duration": 4,
    "start_time": "2023-04-23T13:29:43.316Z"
   },
   {
    "duration": 6,
    "start_time": "2023-04-23T13:29:43.322Z"
   },
   {
    "duration": 17,
    "start_time": "2023-04-23T13:29:43.329Z"
   },
   {
    "duration": 14,
    "start_time": "2023-04-23T13:29:43.348Z"
   },
   {
    "duration": 324,
    "start_time": "2023-04-23T13:29:43.364Z"
   },
   {
    "duration": 256,
    "start_time": "2023-04-23T13:29:43.693Z"
   },
   {
    "duration": 318,
    "start_time": "2023-04-23T13:29:43.950Z"
   },
   {
    "duration": 48,
    "start_time": "2023-04-23T13:29:44.270Z"
   },
   {
    "duration": 14,
    "start_time": "2023-04-23T13:29:44.320Z"
   },
   {
    "duration": 7,
    "start_time": "2023-04-23T13:29:44.336Z"
   },
   {
    "duration": 6,
    "start_time": "2023-04-23T13:29:44.345Z"
   },
   {
    "duration": 50,
    "start_time": "2023-04-23T13:29:44.353Z"
   },
   {
    "duration": 1314,
    "start_time": "2023-04-23T17:17:28.178Z"
   },
   {
    "duration": 280,
    "start_time": "2023-04-23T17:17:29.494Z"
   },
   {
    "duration": 12,
    "start_time": "2023-04-23T17:17:29.776Z"
   },
   {
    "duration": 15,
    "start_time": "2023-04-23T17:17:29.790Z"
   },
   {
    "duration": 7,
    "start_time": "2023-04-23T17:17:29.807Z"
   },
   {
    "duration": 30,
    "start_time": "2023-04-23T17:17:29.816Z"
   },
   {
    "duration": 10,
    "start_time": "2023-04-23T17:17:29.848Z"
   },
   {
    "duration": 39,
    "start_time": "2023-04-23T17:17:29.860Z"
   },
   {
    "duration": 16,
    "start_time": "2023-04-23T17:17:29.902Z"
   },
   {
    "duration": 11,
    "start_time": "2023-04-23T17:17:29.920Z"
   },
   {
    "duration": 9,
    "start_time": "2023-04-23T17:17:29.933Z"
   },
   {
    "duration": 4,
    "start_time": "2023-04-23T17:17:29.944Z"
   },
   {
    "duration": 36,
    "start_time": "2023-04-23T17:17:29.950Z"
   },
   {
    "duration": 9,
    "start_time": "2023-04-23T17:17:29.988Z"
   },
   {
    "duration": 6,
    "start_time": "2023-04-23T17:17:29.999Z"
   },
   {
    "duration": 19,
    "start_time": "2023-04-23T17:17:30.007Z"
   },
   {
    "duration": 172,
    "start_time": "2023-04-23T17:17:30.028Z"
   },
   {
    "duration": 127,
    "start_time": "2023-04-23T17:17:30.202Z"
   },
   {
    "duration": 7,
    "start_time": "2023-04-23T17:17:30.331Z"
   },
   {
    "duration": 260,
    "start_time": "2023-04-23T17:17:30.339Z"
   },
   {
    "duration": 6,
    "start_time": "2023-04-23T17:17:30.601Z"
   },
   {
    "duration": 274,
    "start_time": "2023-04-23T17:17:30.608Z"
   },
   {
    "duration": 136,
    "start_time": "2023-04-23T17:17:30.884Z"
   },
   {
    "duration": 177,
    "start_time": "2023-04-23T17:17:31.022Z"
   },
   {
    "duration": 203,
    "start_time": "2023-04-23T17:17:31.200Z"
   },
   {
    "duration": 35,
    "start_time": "2023-04-23T17:17:31.404Z"
   },
   {
    "duration": 22,
    "start_time": "2023-04-23T17:17:31.440Z"
   },
   {
    "duration": 33,
    "start_time": "2023-04-23T17:17:31.465Z"
   },
   {
    "duration": 246,
    "start_time": "2023-04-23T17:17:31.499Z"
   },
   {
    "duration": 172,
    "start_time": "2023-04-23T17:17:31.746Z"
   },
   {
    "duration": 930,
    "start_time": "2023-04-23T17:17:31.920Z"
   },
   {
    "duration": 233,
    "start_time": "2023-04-23T17:17:32.851Z"
   },
   {
    "duration": 173,
    "start_time": "2023-04-23T17:17:33.085Z"
   },
   {
    "duration": 5,
    "start_time": "2023-04-23T17:17:33.260Z"
   },
   {
    "duration": 19,
    "start_time": "2023-04-23T17:17:33.266Z"
   },
   {
    "duration": 16,
    "start_time": "2023-04-23T17:17:33.287Z"
   },
   {
    "duration": 14,
    "start_time": "2023-04-23T17:17:33.305Z"
   },
   {
    "duration": 408,
    "start_time": "2023-04-23T17:17:33.321Z"
   },
   {
    "duration": 293,
    "start_time": "2023-04-23T17:17:33.730Z"
   },
   {
    "duration": 326,
    "start_time": "2023-04-23T17:17:34.025Z"
   },
   {
    "duration": 42,
    "start_time": "2023-04-23T17:17:34.353Z"
   },
   {
    "duration": 13,
    "start_time": "2023-04-23T17:17:34.397Z"
   },
   {
    "duration": 6,
    "start_time": "2023-04-23T17:17:34.412Z"
   },
   {
    "duration": 6,
    "start_time": "2023-04-23T17:17:34.420Z"
   },
   {
    "duration": 15,
    "start_time": "2023-04-23T17:17:34.428Z"
   },
   {
    "duration": 102,
    "start_time": "2023-04-23T17:28:13.379Z"
   },
   {
    "duration": 13,
    "start_time": "2023-04-23T17:29:38.820Z"
   },
   {
    "duration": 117,
    "start_time": "2023-04-23T17:36:22.245Z"
   },
   {
    "duration": 8,
    "start_time": "2023-04-23T17:36:28.661Z"
   },
   {
    "duration": 134,
    "start_time": "2023-04-23T18:23:55.304Z"
   },
   {
    "duration": 2790,
    "start_time": "2023-04-23T18:24:08.830Z"
   },
   {
    "duration": 703,
    "start_time": "2023-04-23T18:24:11.633Z"
   },
   {
    "duration": 42,
    "start_time": "2023-04-23T18:24:12.348Z"
   },
   {
    "duration": 160,
    "start_time": "2023-04-23T18:24:12.397Z"
   },
   {
    "duration": 162,
    "start_time": "2023-04-23T18:24:12.569Z"
   },
   {
    "duration": 140,
    "start_time": "2023-04-23T18:24:12.745Z"
   },
   {
    "duration": 126,
    "start_time": "2023-04-23T18:24:12.893Z"
   },
   {
    "duration": 80,
    "start_time": "2023-04-23T18:24:13.029Z"
   },
   {
    "duration": 167,
    "start_time": "2023-04-23T18:24:13.122Z"
   },
   {
    "duration": 115,
    "start_time": "2023-04-23T18:24:13.313Z"
   },
   {
    "duration": 83,
    "start_time": "2023-04-23T18:24:13.435Z"
   },
   {
    "duration": 104,
    "start_time": "2023-04-23T18:24:13.538Z"
   },
   {
    "duration": 173,
    "start_time": "2023-04-23T18:24:13.654Z"
   },
   {
    "duration": 7,
    "start_time": "2023-04-23T18:24:30.917Z"
   },
   {
    "duration": 201,
    "start_time": "2023-04-23T18:24:56.748Z"
   },
   {
    "duration": 33,
    "start_time": "2023-04-23T18:25:03.771Z"
   },
   {
    "duration": 23,
    "start_time": "2023-04-23T18:25:23.186Z"
   },
   {
    "duration": 301,
    "start_time": "2023-04-23T18:31:01.026Z"
   },
   {
    "duration": 265,
    "start_time": "2023-04-23T18:33:12.483Z"
   },
   {
    "duration": 384,
    "start_time": "2023-04-23T18:34:23.931Z"
   },
   {
    "duration": 356,
    "start_time": "2023-04-23T18:37:03.481Z"
   },
   {
    "duration": 250,
    "start_time": "2023-04-23T18:37:26.759Z"
   },
   {
    "duration": 440,
    "start_time": "2023-04-23T18:45:25.120Z"
   },
   {
    "duration": 520,
    "start_time": "2023-04-23T18:45:32.968Z"
   },
   {
    "duration": 379,
    "start_time": "2023-04-23T18:47:52.310Z"
   },
   {
    "duration": 678,
    "start_time": "2023-04-23T18:48:22.279Z"
   },
   {
    "duration": 540,
    "start_time": "2023-04-23T18:48:28.901Z"
   },
   {
    "duration": 394,
    "start_time": "2023-04-23T18:48:41.697Z"
   },
   {
    "duration": 285,
    "start_time": "2023-04-23T18:52:51.038Z"
   },
   {
    "duration": 355,
    "start_time": "2023-04-23T18:53:05.275Z"
   },
   {
    "duration": 569,
    "start_time": "2023-04-23T18:56:51.354Z"
   },
   {
    "duration": 390,
    "start_time": "2023-04-23T18:57:27.467Z"
   },
   {
    "duration": 395,
    "start_time": "2023-04-23T18:57:38.698Z"
   },
   {
    "duration": 265,
    "start_time": "2023-04-23T19:11:52.402Z"
   },
   {
    "duration": 166,
    "start_time": "2023-04-23T19:12:54.544Z"
   },
   {
    "duration": 6,
    "start_time": "2023-04-23T19:13:01.291Z"
   },
   {
    "duration": 380,
    "start_time": "2023-04-23T19:13:01.307Z"
   },
   {
    "duration": 82,
    "start_time": "2023-04-23T19:13:01.703Z"
   },
   {
    "duration": 176,
    "start_time": "2023-04-23T19:13:01.809Z"
   },
   {
    "duration": 175,
    "start_time": "2023-04-23T19:13:02.002Z"
   },
   {
    "duration": 254,
    "start_time": "2023-04-23T19:13:02.195Z"
   },
   {
    "duration": 153,
    "start_time": "2023-04-23T19:13:02.452Z"
   },
   {
    "duration": 148,
    "start_time": "2023-04-23T19:13:02.607Z"
   },
   {
    "duration": 169,
    "start_time": "2023-04-23T19:13:02.768Z"
   },
   {
    "duration": 267,
    "start_time": "2023-04-23T19:13:02.946Z"
   },
   {
    "duration": 109,
    "start_time": "2023-04-23T19:13:03.234Z"
   },
   {
    "duration": 116,
    "start_time": "2023-04-23T19:13:03.353Z"
   },
   {
    "duration": 132,
    "start_time": "2023-04-23T19:13:03.485Z"
   },
   {
    "duration": 131,
    "start_time": "2023-04-23T19:13:03.630Z"
   },
   {
    "duration": 150,
    "start_time": "2023-04-23T19:13:03.780Z"
   },
   {
    "duration": 115,
    "start_time": "2023-04-23T19:13:03.946Z"
   },
   {
    "duration": 147,
    "start_time": "2023-04-23T19:13:04.068Z"
   },
   {
    "duration": 419,
    "start_time": "2023-04-23T19:13:04.226Z"
   },
   {
    "duration": 225,
    "start_time": "2023-04-23T19:13:04.652Z"
   },
   {
    "duration": 15,
    "start_time": "2023-04-23T19:13:04.880Z"
   },
   {
    "duration": 562,
    "start_time": "2023-04-23T19:13:04.902Z"
   },
   {
    "duration": 17,
    "start_time": "2023-04-23T19:13:05.471Z"
   },
   {
    "duration": 935,
    "start_time": "2023-04-23T19:13:05.498Z"
   },
   {
    "duration": 231,
    "start_time": "2023-04-23T19:13:06.441Z"
   },
   {
    "duration": 348,
    "start_time": "2023-04-23T19:13:06.678Z"
   },
   {
    "duration": 251,
    "start_time": "2023-04-23T19:13:07.038Z"
   },
   {
    "duration": 64,
    "start_time": "2023-04-23T19:13:07.296Z"
   },
   {
    "duration": 169,
    "start_time": "2023-04-23T19:13:07.371Z"
   },
   {
    "duration": 233,
    "start_time": "2023-04-23T19:13:07.552Z"
   },
   {
    "duration": 127,
    "start_time": "2023-04-23T19:13:07.794Z"
   },
   {
    "duration": 914,
    "start_time": "2023-04-23T19:13:07.928Z"
   },
   {
    "duration": 430,
    "start_time": "2023-04-23T19:13:08.850Z"
   },
   {
    "duration": 1535,
    "start_time": "2023-04-23T19:13:09.290Z"
   },
   {
    "duration": 793,
    "start_time": "2023-04-23T19:13:10.846Z"
   },
   {
    "duration": 279,
    "start_time": "2023-04-23T19:13:11.650Z"
   },
   {
    "duration": 13,
    "start_time": "2023-04-23T19:13:11.935Z"
   },
   {
    "duration": 131,
    "start_time": "2023-04-23T19:13:11.957Z"
   },
   {
    "duration": 241,
    "start_time": "2023-04-23T19:13:12.096Z"
   },
   {
    "duration": 191,
    "start_time": "2023-04-23T19:13:12.346Z"
   },
   {
    "duration": 628,
    "start_time": "2023-04-23T19:13:12.550Z"
   },
   {
    "duration": 444,
    "start_time": "2023-04-23T19:13:13.180Z"
   },
   {
    "duration": 524,
    "start_time": "2023-04-23T19:13:13.632Z"
   },
   {
    "duration": 37,
    "start_time": "2023-04-23T19:13:14.163Z"
   },
   {
    "duration": 101,
    "start_time": "2023-04-23T19:13:25.303Z"
   },
   {
    "duration": 1113,
    "start_time": "2023-04-24T08:42:46.610Z"
   },
   {
    "duration": 62,
    "start_time": "2023-04-24T08:42:47.725Z"
   },
   {
    "duration": 17,
    "start_time": "2023-04-24T08:42:47.792Z"
   },
   {
    "duration": 14,
    "start_time": "2023-04-24T08:42:47.810Z"
   },
   {
    "duration": 10,
    "start_time": "2023-04-24T08:42:47.826Z"
   },
   {
    "duration": 27,
    "start_time": "2023-04-24T08:42:47.838Z"
   },
   {
    "duration": 6,
    "start_time": "2023-04-24T08:42:47.866Z"
   },
   {
    "duration": 32,
    "start_time": "2023-04-24T08:42:47.873Z"
   },
   {
    "duration": 10,
    "start_time": "2023-04-24T08:42:47.907Z"
   },
   {
    "duration": 8,
    "start_time": "2023-04-24T08:42:47.919Z"
   },
   {
    "duration": 8,
    "start_time": "2023-04-24T08:42:47.929Z"
   },
   {
    "duration": 5,
    "start_time": "2023-04-24T08:42:47.938Z"
   },
   {
    "duration": 6,
    "start_time": "2023-04-24T08:42:47.944Z"
   },
   {
    "duration": 5,
    "start_time": "2023-04-24T08:42:47.951Z"
   },
   {
    "duration": 41,
    "start_time": "2023-04-24T08:42:47.958Z"
   },
   {
    "duration": 6,
    "start_time": "2023-04-24T08:42:48.001Z"
   },
   {
    "duration": 14,
    "start_time": "2023-04-24T08:42:48.008Z"
   },
   {
    "duration": 154,
    "start_time": "2023-04-24T08:42:48.023Z"
   },
   {
    "duration": 124,
    "start_time": "2023-04-24T08:42:48.178Z"
   },
   {
    "duration": 8,
    "start_time": "2023-04-24T08:42:48.303Z"
   },
   {
    "duration": 223,
    "start_time": "2023-04-24T08:42:48.312Z"
   },
   {
    "duration": 5,
    "start_time": "2023-04-24T08:42:48.536Z"
   },
   {
    "duration": 238,
    "start_time": "2023-04-24T08:42:48.543Z"
   },
   {
    "duration": 135,
    "start_time": "2023-04-24T08:42:48.782Z"
   },
   {
    "duration": 195,
    "start_time": "2023-04-24T08:42:48.919Z"
   },
   {
    "duration": 209,
    "start_time": "2023-04-24T08:42:49.116Z"
   },
   {
    "duration": 25,
    "start_time": "2023-04-24T08:42:49.330Z"
   },
   {
    "duration": 14,
    "start_time": "2023-04-24T08:42:49.356Z"
   },
   {
    "duration": 29,
    "start_time": "2023-04-24T08:42:49.394Z"
   },
   {
    "duration": 19,
    "start_time": "2023-04-24T08:42:49.425Z"
   },
   {
    "duration": 272,
    "start_time": "2023-04-24T08:42:49.446Z"
   },
   {
    "duration": 190,
    "start_time": "2023-04-24T08:42:49.719Z"
   },
   {
    "duration": 872,
    "start_time": "2023-04-24T08:42:49.911Z"
   },
   {
    "duration": 224,
    "start_time": "2023-04-24T08:42:50.785Z"
   },
   {
    "duration": 157,
    "start_time": "2023-04-24T08:42:51.011Z"
   },
   {
    "duration": 5,
    "start_time": "2023-04-24T08:42:51.169Z"
   },
   {
    "duration": 9,
    "start_time": "2023-04-24T08:42:51.176Z"
   },
   {
    "duration": 22,
    "start_time": "2023-04-24T08:42:51.198Z"
   },
   {
    "duration": 16,
    "start_time": "2023-04-24T08:42:51.222Z"
   },
   {
    "duration": 391,
    "start_time": "2023-04-24T08:42:51.239Z"
   },
   {
    "duration": 251,
    "start_time": "2023-04-24T08:42:51.632Z"
   },
   {
    "duration": 249,
    "start_time": "2023-04-24T08:42:51.885Z"
   },
   {
    "duration": 35,
    "start_time": "2023-04-24T08:42:52.136Z"
   },
   {
    "duration": 36,
    "start_time": "2023-04-24T08:42:52.172Z"
   },
   {
    "duration": 7,
    "start_time": "2023-04-24T08:42:52.210Z"
   },
   {
    "duration": 8,
    "start_time": "2023-04-24T08:42:52.219Z"
   },
   {
    "duration": 8,
    "start_time": "2023-04-24T08:42:52.228Z"
   },
   {
    "duration": 14,
    "start_time": "2023-04-24T08:42:52.237Z"
   },
   {
    "duration": 178,
    "start_time": "2023-04-24T08:46:46.273Z"
   },
   {
    "duration": 171,
    "start_time": "2023-04-24T08:46:54.330Z"
   },
   {
    "duration": 153,
    "start_time": "2023-04-24T08:47:15.682Z"
   },
   {
    "duration": 151,
    "start_time": "2023-04-24T08:47:42.949Z"
   },
   {
    "duration": 175,
    "start_time": "2023-04-24T08:47:48.282Z"
   },
   {
    "duration": 281,
    "start_time": "2023-04-24T08:47:53.945Z"
   },
   {
    "duration": 65,
    "start_time": "2023-04-24T09:11:47.790Z"
   },
   {
    "duration": 1836,
    "start_time": "2023-04-24T09:11:57.212Z"
   },
   {
    "duration": 350,
    "start_time": "2023-04-24T09:11:59.061Z"
   },
   {
    "duration": 22,
    "start_time": "2023-04-24T09:11:59.414Z"
   },
   {
    "duration": 61,
    "start_time": "2023-04-24T09:11:59.439Z"
   },
   {
    "duration": 20,
    "start_time": "2023-04-24T09:11:59.502Z"
   },
   {
    "duration": 83,
    "start_time": "2023-04-24T09:11:59.524Z"
   },
   {
    "duration": 9,
    "start_time": "2023-04-24T09:11:59.610Z"
   },
   {
    "duration": 19,
    "start_time": "2023-04-24T09:11:59.620Z"
   },
   {
    "duration": 58,
    "start_time": "2023-04-24T09:11:59.648Z"
   },
   {
    "duration": 14,
    "start_time": "2023-04-24T09:11:59.709Z"
   },
   {
    "duration": 23,
    "start_time": "2023-04-24T09:11:59.726Z"
   },
   {
    "duration": 48,
    "start_time": "2023-04-24T09:11:59.752Z"
   },
   {
    "duration": 18,
    "start_time": "2023-04-24T09:11:59.803Z"
   },
   {
    "duration": 15,
    "start_time": "2023-04-24T09:11:59.823Z"
   },
   {
    "duration": 59,
    "start_time": "2023-04-24T09:11:59.840Z"
   },
   {
    "duration": 16,
    "start_time": "2023-04-24T09:11:59.902Z"
   },
   {
    "duration": 25,
    "start_time": "2023-04-24T09:11:59.920Z"
   },
   {
    "duration": 250,
    "start_time": "2023-04-24T09:11:59.954Z"
   },
   {
    "duration": 252,
    "start_time": "2023-04-24T09:12:00.207Z"
   },
   {
    "duration": 167,
    "start_time": "2023-04-24T09:12:00.468Z"
   },
   {
    "duration": 28,
    "start_time": "2023-04-24T09:12:00.637Z"
   },
   {
    "duration": 530,
    "start_time": "2023-04-24T09:12:00.670Z"
   },
   {
    "duration": 8,
    "start_time": "2023-04-24T09:12:01.203Z"
   },
   {
    "duration": 444,
    "start_time": "2023-04-24T09:12:01.214Z"
   },
   {
    "duration": 185,
    "start_time": "2023-04-24T09:12:01.660Z"
   },
   {
    "duration": 261,
    "start_time": "2023-04-24T09:12:01.848Z"
   },
   {
    "duration": 336,
    "start_time": "2023-04-24T09:12:02.111Z"
   },
   {
    "duration": 41,
    "start_time": "2023-04-24T09:12:02.453Z"
   },
   {
    "duration": 30,
    "start_time": "2023-04-24T09:12:02.496Z"
   },
   {
    "duration": 41,
    "start_time": "2023-04-24T09:12:02.528Z"
   },
   {
    "duration": 40,
    "start_time": "2023-04-24T09:12:02.581Z"
   },
   {
    "duration": 347,
    "start_time": "2023-04-24T09:12:02.623Z"
   },
   {
    "duration": 240,
    "start_time": "2023-04-24T09:12:02.972Z"
   },
   {
    "duration": 1334,
    "start_time": "2023-04-24T09:12:03.216Z"
   },
   {
    "duration": 336,
    "start_time": "2023-04-24T09:12:04.552Z"
   },
   {
    "duration": 229,
    "start_time": "2023-04-24T09:12:04.893Z"
   },
   {
    "duration": 6,
    "start_time": "2023-04-24T09:12:05.124Z"
   },
   {
    "duration": 53,
    "start_time": "2023-04-24T09:12:05.145Z"
   },
   {
    "duration": 38,
    "start_time": "2023-04-24T09:12:05.200Z"
   },
   {
    "duration": 65,
    "start_time": "2023-04-24T09:12:05.240Z"
   },
   {
    "duration": 589,
    "start_time": "2023-04-24T09:12:05.307Z"
   },
   {
    "duration": 433,
    "start_time": "2023-04-24T09:12:05.908Z"
   },
   {
    "duration": 429,
    "start_time": "2023-04-24T09:12:06.343Z"
   },
   {
    "duration": 65,
    "start_time": "2023-04-24T09:12:06.780Z"
   },
   {
    "duration": 48,
    "start_time": "2023-04-24T09:12:06.847Z"
   },
   {
    "duration": 36,
    "start_time": "2023-04-24T09:12:06.897Z"
   },
   {
    "duration": 57,
    "start_time": "2023-04-24T09:12:06.936Z"
   },
   {
    "duration": 32,
    "start_time": "2023-04-24T09:12:06.995Z"
   },
   {
    "duration": 73,
    "start_time": "2023-04-24T09:12:07.029Z"
   },
   {
    "duration": 18,
    "start_time": "2023-04-24T09:12:55.378Z"
   },
   {
    "duration": 21,
    "start_time": "2023-04-24T09:13:04.978Z"
   },
   {
    "duration": 13,
    "start_time": "2023-04-24T09:13:38.087Z"
   },
   {
    "duration": 11,
    "start_time": "2023-04-24T09:13:47.532Z"
   },
   {
    "duration": 15,
    "start_time": "2023-04-24T09:13:53.488Z"
   },
   {
    "duration": 21,
    "start_time": "2023-04-24T09:16:31.804Z"
   },
   {
    "duration": 34,
    "start_time": "2023-04-24T09:16:40.835Z"
   },
   {
    "duration": 1410,
    "start_time": "2023-04-24T17:01:48.434Z"
   },
   {
    "duration": 197,
    "start_time": "2023-04-24T17:01:49.847Z"
   },
   {
    "duration": 14,
    "start_time": "2023-04-24T17:01:50.046Z"
   },
   {
    "duration": 24,
    "start_time": "2023-04-24T17:01:50.062Z"
   },
   {
    "duration": 78,
    "start_time": "2023-04-24T17:01:50.089Z"
   },
   {
    "duration": 23,
    "start_time": "2023-04-24T17:01:50.168Z"
   },
   {
    "duration": 7,
    "start_time": "2023-04-24T17:01:50.193Z"
   },
   {
    "duration": 14,
    "start_time": "2023-04-24T17:01:50.202Z"
   },
   {
    "duration": 14,
    "start_time": "2023-04-24T17:01:50.217Z"
   },
   {
    "duration": 12,
    "start_time": "2023-04-24T17:01:50.234Z"
   },
   {
    "duration": 37,
    "start_time": "2023-04-24T17:01:50.247Z"
   },
   {
    "duration": 5,
    "start_time": "2023-04-24T17:01:50.286Z"
   },
   {
    "duration": 15,
    "start_time": "2023-04-24T17:01:50.292Z"
   },
   {
    "duration": 8,
    "start_time": "2023-04-24T17:01:50.308Z"
   },
   {
    "duration": 16,
    "start_time": "2023-04-24T17:01:50.318Z"
   },
   {
    "duration": 12,
    "start_time": "2023-04-24T17:01:50.336Z"
   },
   {
    "duration": 34,
    "start_time": "2023-04-24T17:01:50.350Z"
   },
   {
    "duration": 185,
    "start_time": "2023-04-24T17:01:50.387Z"
   },
   {
    "duration": 192,
    "start_time": "2023-04-24T17:01:50.573Z"
   },
   {
    "duration": 137,
    "start_time": "2023-04-24T17:01:50.767Z"
   },
   {
    "duration": 8,
    "start_time": "2023-04-24T17:01:50.906Z"
   },
   {
    "duration": 266,
    "start_time": "2023-04-24T17:01:50.916Z"
   },
   {
    "duration": 6,
    "start_time": "2023-04-24T17:01:51.184Z"
   },
   {
    "duration": 277,
    "start_time": "2023-04-24T17:01:51.192Z"
   },
   {
    "duration": 144,
    "start_time": "2023-04-24T17:01:51.471Z"
   },
   {
    "duration": 275,
    "start_time": "2023-04-24T17:01:51.617Z"
   },
   {
    "duration": 131,
    "start_time": "2023-04-24T17:01:51.893Z"
   },
   {
    "duration": 28,
    "start_time": "2023-04-24T17:01:52.027Z"
   },
   {
    "duration": 39,
    "start_time": "2023-04-24T17:01:52.057Z"
   },
   {
    "duration": 34,
    "start_time": "2023-04-24T17:01:52.098Z"
   },
   {
    "duration": 24,
    "start_time": "2023-04-24T17:01:52.134Z"
   },
   {
    "duration": 249,
    "start_time": "2023-04-24T17:01:52.160Z"
   },
   {
    "duration": 186,
    "start_time": "2023-04-24T17:01:52.411Z"
   },
   {
    "duration": 989,
    "start_time": "2023-04-24T17:01:52.599Z"
   },
   {
    "duration": 229,
    "start_time": "2023-04-24T17:01:53.590Z"
   },
   {
    "duration": 267,
    "start_time": "2023-04-24T17:01:53.821Z"
   },
   {
    "duration": 5,
    "start_time": "2023-04-24T17:01:54.089Z"
   },
   {
    "duration": 17,
    "start_time": "2023-04-24T17:01:54.095Z"
   },
   {
    "duration": 33,
    "start_time": "2023-04-24T17:01:54.113Z"
   },
   {
    "duration": 25,
    "start_time": "2023-04-24T17:01:54.148Z"
   },
   {
    "duration": 325,
    "start_time": "2023-04-24T17:01:54.175Z"
   },
   {
    "duration": 290,
    "start_time": "2023-04-24T17:01:54.502Z"
   },
   {
    "duration": 297,
    "start_time": "2023-04-24T17:01:54.794Z"
   },
   {
    "duration": 51,
    "start_time": "2023-04-24T17:01:55.093Z"
   },
   {
    "duration": 36,
    "start_time": "2023-04-24T17:01:55.146Z"
   },
   {
    "duration": 7,
    "start_time": "2023-04-24T17:01:55.184Z"
   },
   {
    "duration": 7,
    "start_time": "2023-04-24T17:01:55.193Z"
   },
   {
    "duration": 5,
    "start_time": "2023-04-24T17:01:55.202Z"
   },
   {
    "duration": 18,
    "start_time": "2023-04-24T17:01:55.209Z"
   }
  ],
  "kernelspec": {
   "display_name": "Python 3 (ipykernel)",
   "language": "python",
   "name": "python3"
  },
  "language_info": {
   "codemirror_mode": {
    "name": "ipython",
    "version": 3
   },
   "file_extension": ".py",
   "mimetype": "text/x-python",
   "name": "python",
   "nbconvert_exporter": "python",
   "pygments_lexer": "ipython3",
   "version": "3.10.9"
  },
  "toc": {
   "base_numbering": 1,
   "nav_menu": {},
   "number_sections": true,
   "sideBar": true,
   "skip_h1_title": true,
   "title_cell": "Table of Contents",
   "title_sidebar": "Contents",
   "toc_cell": false,
   "toc_position": {},
   "toc_section_display": true,
   "toc_window_display": false
  }
 },
 "nbformat": 4,
 "nbformat_minor": 5
}
