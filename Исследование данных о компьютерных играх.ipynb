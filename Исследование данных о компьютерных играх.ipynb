{
 "cells": [
  {
   "cell_type": "markdown",
   "metadata": {},
   "source": [
    "# Исследование данных о компьютерных играх"
   ]
  },
  {
   "cell_type": "markdown",
   "metadata": {},
   "source": [
    "***Описание проекта***\n",
    "\n",
    "Вы работаете в интернет-магазине «Стримчик», который продаёт по всему миру компьютерные игры. Из открытых источников доступны исторические данные о продажах игр, оценки пользователей и экспертов, жанры и платформы (например, Xbox или PlayStation). Вам нужно выявить определяющие успешность игры закономерности. Это позволит сделать ставку на потенциально популярный продукт и спланировать рекламные кампании.\n",
    "\n",
    "Перед вами данные до 2016 года. Представим, что сейчас декабрь 2016 г., и вы планируете кампанию на 2017-й. Нужно отработать принцип работы с данными. Неважно, прогнозируете ли вы продажи на 2017 год по данным 2016-го или же 2027-й — по данным 2026 года.\n",
    "\n",
    "В наборе данных попадается аббревиатура ESRB (Entertainment Software Rating Board) — это ассоциация, определяющая возрастной рейтинг компьютерных игр. ESRB оценивает игровой контент и присваивает ему подходящую возрастную категорию, например, «Для взрослых», «Для детей младшего возраста» или «Для подростков»."
   ]
  },
  {
   "cell_type": "markdown",
   "metadata": {},
   "source": [
    "***Описание данных***\n",
    "\n",
    "- Name — название игры\n",
    "- Platform — платформа\n",
    "- Year_of_Release — год выпуска\n",
    "- Genre — жанр игры\n",
    "- NA_sales — продажи в Северной Америке (миллионы проданных копий)\n",
    "- EU_sales — продажи в Европе (миллионы проданных копий)\n",
    "- JP_sales — продажи в Японии (миллионы проданных копий)\n",
    "- Other_sales — продажи в других странах (миллионы проданных копий)\n",
    "- Critic_Score — оценка критиков (максимум 100)\n",
    "- User_Score — оценка пользователей (максимум 10)\n",
    "- Rating — рейтинг от организации ESRB (англ. Entertainment Software Rating Board). Эта ассоциация определяет рейтинг компьютерных игр и присваивает им подходящую возрастную категорию."
   ]
  },
  {
   "cell_type": "markdown",
   "metadata": {},
   "source": [
    "## Обзор данных"
   ]
  },
  {
   "cell_type": "markdown",
   "metadata": {},
   "source": [
    "Импоритруем библиотеки:"
   ]
  },
  {
   "cell_type": "code",
   "execution_count": 1,
   "metadata": {},
   "outputs": [],
   "source": [
    "import pandas as pd\n",
    "import numpy as np\n",
    "import matplotlib.pyplot as plt\n",
    "\n",
    "from datetime import datetime\n",
    "from scipy import stats as st"
   ]
  },
  {
   "cell_type": "markdown",
   "metadata": {},
   "source": [
    "Считываем файл:"
   ]
  },
  {
   "cell_type": "code",
   "execution_count": 2,
   "metadata": {},
   "outputs": [],
   "source": [
    "data = pd.read_csv('/datasets/games.csv')"
   ]
  },
  {
   "cell_type": "markdown",
   "metadata": {},
   "source": [
    "Выводим первые 10 строк и общую информацию по таблице:"
   ]
  },
  {
   "cell_type": "code",
   "execution_count": 3,
   "metadata": {},
   "outputs": [
    {
     "data": {
      "text/html": [
       "<div>\n",
       "<style scoped>\n",
       "    .dataframe tbody tr th:only-of-type {\n",
       "        vertical-align: middle;\n",
       "    }\n",
       "\n",
       "    .dataframe tbody tr th {\n",
       "        vertical-align: top;\n",
       "    }\n",
       "\n",
       "    .dataframe thead th {\n",
       "        text-align: right;\n",
       "    }\n",
       "</style>\n",
       "<table border=\"1\" class=\"dataframe\">\n",
       "  <thead>\n",
       "    <tr style=\"text-align: right;\">\n",
       "      <th></th>\n",
       "      <th>Name</th>\n",
       "      <th>Platform</th>\n",
       "      <th>Year_of_Release</th>\n",
       "      <th>Genre</th>\n",
       "      <th>NA_sales</th>\n",
       "      <th>EU_sales</th>\n",
       "      <th>JP_sales</th>\n",
       "      <th>Other_sales</th>\n",
       "      <th>Critic_Score</th>\n",
       "      <th>User_Score</th>\n",
       "      <th>Rating</th>\n",
       "    </tr>\n",
       "  </thead>\n",
       "  <tbody>\n",
       "    <tr>\n",
       "      <th>0</th>\n",
       "      <td>Wii Sports</td>\n",
       "      <td>Wii</td>\n",
       "      <td>2006.0</td>\n",
       "      <td>Sports</td>\n",
       "      <td>41.36</td>\n",
       "      <td>28.96</td>\n",
       "      <td>3.77</td>\n",
       "      <td>8.45</td>\n",
       "      <td>76.0</td>\n",
       "      <td>8</td>\n",
       "      <td>E</td>\n",
       "    </tr>\n",
       "    <tr>\n",
       "      <th>1</th>\n",
       "      <td>Super Mario Bros.</td>\n",
       "      <td>NES</td>\n",
       "      <td>1985.0</td>\n",
       "      <td>Platform</td>\n",
       "      <td>29.08</td>\n",
       "      <td>3.58</td>\n",
       "      <td>6.81</td>\n",
       "      <td>0.77</td>\n",
       "      <td>NaN</td>\n",
       "      <td>NaN</td>\n",
       "      <td>NaN</td>\n",
       "    </tr>\n",
       "    <tr>\n",
       "      <th>2</th>\n",
       "      <td>Mario Kart Wii</td>\n",
       "      <td>Wii</td>\n",
       "      <td>2008.0</td>\n",
       "      <td>Racing</td>\n",
       "      <td>15.68</td>\n",
       "      <td>12.76</td>\n",
       "      <td>3.79</td>\n",
       "      <td>3.29</td>\n",
       "      <td>82.0</td>\n",
       "      <td>8.3</td>\n",
       "      <td>E</td>\n",
       "    </tr>\n",
       "    <tr>\n",
       "      <th>3</th>\n",
       "      <td>Wii Sports Resort</td>\n",
       "      <td>Wii</td>\n",
       "      <td>2009.0</td>\n",
       "      <td>Sports</td>\n",
       "      <td>15.61</td>\n",
       "      <td>10.93</td>\n",
       "      <td>3.28</td>\n",
       "      <td>2.95</td>\n",
       "      <td>80.0</td>\n",
       "      <td>8</td>\n",
       "      <td>E</td>\n",
       "    </tr>\n",
       "    <tr>\n",
       "      <th>4</th>\n",
       "      <td>Pokemon Red/Pokemon Blue</td>\n",
       "      <td>GB</td>\n",
       "      <td>1996.0</td>\n",
       "      <td>Role-Playing</td>\n",
       "      <td>11.27</td>\n",
       "      <td>8.89</td>\n",
       "      <td>10.22</td>\n",
       "      <td>1.00</td>\n",
       "      <td>NaN</td>\n",
       "      <td>NaN</td>\n",
       "      <td>NaN</td>\n",
       "    </tr>\n",
       "    <tr>\n",
       "      <th>5</th>\n",
       "      <td>Tetris</td>\n",
       "      <td>GB</td>\n",
       "      <td>1989.0</td>\n",
       "      <td>Puzzle</td>\n",
       "      <td>23.20</td>\n",
       "      <td>2.26</td>\n",
       "      <td>4.22</td>\n",
       "      <td>0.58</td>\n",
       "      <td>NaN</td>\n",
       "      <td>NaN</td>\n",
       "      <td>NaN</td>\n",
       "    </tr>\n",
       "    <tr>\n",
       "      <th>6</th>\n",
       "      <td>New Super Mario Bros.</td>\n",
       "      <td>DS</td>\n",
       "      <td>2006.0</td>\n",
       "      <td>Platform</td>\n",
       "      <td>11.28</td>\n",
       "      <td>9.14</td>\n",
       "      <td>6.50</td>\n",
       "      <td>2.88</td>\n",
       "      <td>89.0</td>\n",
       "      <td>8.5</td>\n",
       "      <td>E</td>\n",
       "    </tr>\n",
       "    <tr>\n",
       "      <th>7</th>\n",
       "      <td>Wii Play</td>\n",
       "      <td>Wii</td>\n",
       "      <td>2006.0</td>\n",
       "      <td>Misc</td>\n",
       "      <td>13.96</td>\n",
       "      <td>9.18</td>\n",
       "      <td>2.93</td>\n",
       "      <td>2.84</td>\n",
       "      <td>58.0</td>\n",
       "      <td>6.6</td>\n",
       "      <td>E</td>\n",
       "    </tr>\n",
       "    <tr>\n",
       "      <th>8</th>\n",
       "      <td>New Super Mario Bros. Wii</td>\n",
       "      <td>Wii</td>\n",
       "      <td>2009.0</td>\n",
       "      <td>Platform</td>\n",
       "      <td>14.44</td>\n",
       "      <td>6.94</td>\n",
       "      <td>4.70</td>\n",
       "      <td>2.24</td>\n",
       "      <td>87.0</td>\n",
       "      <td>8.4</td>\n",
       "      <td>E</td>\n",
       "    </tr>\n",
       "    <tr>\n",
       "      <th>9</th>\n",
       "      <td>Duck Hunt</td>\n",
       "      <td>NES</td>\n",
       "      <td>1984.0</td>\n",
       "      <td>Shooter</td>\n",
       "      <td>26.93</td>\n",
       "      <td>0.63</td>\n",
       "      <td>0.28</td>\n",
       "      <td>0.47</td>\n",
       "      <td>NaN</td>\n",
       "      <td>NaN</td>\n",
       "      <td>NaN</td>\n",
       "    </tr>\n",
       "  </tbody>\n",
       "</table>\n",
       "</div>"
      ],
      "text/plain": [
       "                        Name Platform  Year_of_Release         Genre  \\\n",
       "0                 Wii Sports      Wii           2006.0        Sports   \n",
       "1          Super Mario Bros.      NES           1985.0      Platform   \n",
       "2             Mario Kart Wii      Wii           2008.0        Racing   \n",
       "3          Wii Sports Resort      Wii           2009.0        Sports   \n",
       "4   Pokemon Red/Pokemon Blue       GB           1996.0  Role-Playing   \n",
       "5                     Tetris       GB           1989.0        Puzzle   \n",
       "6      New Super Mario Bros.       DS           2006.0      Platform   \n",
       "7                   Wii Play      Wii           2006.0          Misc   \n",
       "8  New Super Mario Bros. Wii      Wii           2009.0      Platform   \n",
       "9                  Duck Hunt      NES           1984.0       Shooter   \n",
       "\n",
       "   NA_sales  EU_sales  JP_sales  Other_sales  Critic_Score User_Score Rating  \n",
       "0     41.36     28.96      3.77         8.45          76.0          8      E  \n",
       "1     29.08      3.58      6.81         0.77           NaN        NaN    NaN  \n",
       "2     15.68     12.76      3.79         3.29          82.0        8.3      E  \n",
       "3     15.61     10.93      3.28         2.95          80.0          8      E  \n",
       "4     11.27      8.89     10.22         1.00           NaN        NaN    NaN  \n",
       "5     23.20      2.26      4.22         0.58           NaN        NaN    NaN  \n",
       "6     11.28      9.14      6.50         2.88          89.0        8.5      E  \n",
       "7     13.96      9.18      2.93         2.84          58.0        6.6      E  \n",
       "8     14.44      6.94      4.70         2.24          87.0        8.4      E  \n",
       "9     26.93      0.63      0.28         0.47           NaN        NaN    NaN  "
      ]
     },
     "execution_count": 3,
     "metadata": {},
     "output_type": "execute_result"
    }
   ],
   "source": [
    "pd.set_option('display.max_columns', None)\n",
    "data.head(10)"
   ]
  },
  {
   "cell_type": "code",
   "execution_count": 4,
   "metadata": {},
   "outputs": [
    {
     "name": "stdout",
     "output_type": "stream",
     "text": [
      "<class 'pandas.core.frame.DataFrame'>\n",
      "RangeIndex: 16715 entries, 0 to 16714\n",
      "Data columns (total 11 columns):\n",
      " #   Column           Non-Null Count  Dtype  \n",
      "---  ------           --------------  -----  \n",
      " 0   Name             16713 non-null  object \n",
      " 1   Platform         16715 non-null  object \n",
      " 2   Year_of_Release  16446 non-null  float64\n",
      " 3   Genre            16713 non-null  object \n",
      " 4   NA_sales         16715 non-null  float64\n",
      " 5   EU_sales         16715 non-null  float64\n",
      " 6   JP_sales         16715 non-null  float64\n",
      " 7   Other_sales      16715 non-null  float64\n",
      " 8   Critic_Score     8137 non-null   float64\n",
      " 9   User_Score       10014 non-null  object \n",
      " 10  Rating           9949 non-null   object \n",
      "dtypes: float64(6), object(5)\n",
      "memory usage: 1.4+ MB\n"
     ]
    }
   ],
   "source": [
    "data.info()"
   ]
  },
  {
   "cell_type": "code",
   "execution_count": 5,
   "metadata": {},
   "outputs": [
    {
     "data": {
      "image/png": "[encoded data removed]",
      "text/plain": [
       "<Figure size 1080x1440 with 6 Axes>"
      ]
     },
     "metadata": {
      "needs_background": "light"
     },
     "output_type": "display_data"
    }
   ],
   "source": [
    "data.hist(figsize=(15, 20));"
   ]
  },
  {
   "cell_type": "markdown",
   "metadata": {},
   "source": [
    "***Вывод:*** \n",
    "\n",
    "В нескольких столбцах присутствуют пропущенные значения.\n",
    "\n",
    "Названия столбцов имеют как нижний, так и верхний регистр.\n",
    "\n",
    "Существует несоответствие типов данных с фактическими.\n",
    "\n",
    "Более подробно разберем и исправим в шаге предобработки данных."
   ]
  },
  {
   "cell_type": "markdown",
   "metadata": {},
   "source": [
    "## Предобработка данных"
   ]
  },
  {
   "cell_type": "markdown",
   "metadata": {},
   "source": [
    "### Корректировка названий столбцов"
   ]
  },
  {
   "cell_type": "markdown",
   "metadata": {},
   "source": [
    "Приведем все названия к нижнему регистру:"
   ]
  },
  {
   "cell_type": "code",
   "execution_count": 6,
   "metadata": {},
   "outputs": [
    {
     "data": {
      "text/plain": [
       "Index(['name', 'platform', 'year_of_release', 'genre', 'na_sales', 'eu_sales',\n",
       "       'jp_sales', 'other_sales', 'critic_score', 'user_score', 'rating'],\n",
       "      dtype='object')"
      ]
     },
     "execution_count": 6,
     "metadata": {},
     "output_type": "execute_result"
    }
   ],
   "source": [
    "data.columns = data.columns.str.lower()\n",
    "data.columns"
   ]
  },
  {
   "cell_type": "markdown",
   "metadata": {},
   "source": [
    "### Изменение типов данных"
   ]
  },
  {
   "cell_type": "code",
   "execution_count": 7,
   "metadata": {},
   "outputs": [],
   "source": [
    "data['year_of_release'] = data['year_of_release'].astype('Int16')\n",
    "data['critic_score'] = data['critic_score'].astype('float')\n",
    "data.loc[data['user_score'] == 'tbd','user_score'] = np.nan\n",
    "data['user_score'] = data['user_score'].astype('float64')"
   ]
  },
  {
   "cell_type": "markdown",
   "metadata": {},
   "source": [
    "***Вывод:*** \n",
    "\n",
    "Столбец 'year_of_release' содержит года, поэтому изменили формат на дату.\n",
    "\n",
    "Столбец 'critic_score' имеет болько целые числа, тип object сменили на int\n",
    "\n",
    "Столбец 'user_score' включает в себя дробные числа, изменили на float. При приведения к типу данных обнаружилось значение 'tbd', по данным из интернета это сокращение, которое переводится как \"Будет определено позднее\". Делаем вывод, чтоо оценки еще нет, а что будет неизвестно, поэтому сменили на NaN."
   ]
  },
  {
   "cell_type": "markdown",
   "metadata": {},
   "source": [
    "### Работа с пропусками"
   ]
  },
  {
   "cell_type": "markdown",
   "metadata": {},
   "source": [
    "Посмотрим на количество пропусков по столбцам:"
   ]
  },
  {
   "cell_type": "code",
   "execution_count": 8,
   "metadata": {},
   "outputs": [
    {
     "data": {
      "text/plain": [
       "name                  2\n",
       "platform              0\n",
       "year_of_release     269\n",
       "genre                 2\n",
       "na_sales              0\n",
       "eu_sales              0\n",
       "jp_sales              0\n",
       "other_sales           0\n",
       "critic_score       8578\n",
       "user_score         9125\n",
       "rating             6766\n",
       "dtype: int64"
      ]
     },
     "execution_count": 8,
     "metadata": {},
     "output_type": "execute_result"
    }
   ],
   "source": [
    "data.isna().sum()"
   ]
  },
  {
   "cell_type": "code",
   "execution_count": 9,
   "metadata": {},
   "outputs": [
    {
     "data": {
      "text/html": [
       "<div>\n",
       "<style scoped>\n",
       "    .dataframe tbody tr th:only-of-type {\n",
       "        vertical-align: middle;\n",
       "    }\n",
       "\n",
       "    .dataframe tbody tr th {\n",
       "        vertical-align: top;\n",
       "    }\n",
       "\n",
       "    .dataframe thead th {\n",
       "        text-align: right;\n",
       "    }\n",
       "</style>\n",
       "<table border=\"1\" class=\"dataframe\">\n",
       "  <thead>\n",
       "    <tr style=\"text-align: right;\">\n",
       "      <th></th>\n",
       "      <th>name</th>\n",
       "      <th>platform</th>\n",
       "      <th>year_of_release</th>\n",
       "      <th>genre</th>\n",
       "      <th>na_sales</th>\n",
       "      <th>eu_sales</th>\n",
       "      <th>jp_sales</th>\n",
       "      <th>other_sales</th>\n",
       "      <th>critic_score</th>\n",
       "      <th>user_score</th>\n",
       "      <th>rating</th>\n",
       "    </tr>\n",
       "  </thead>\n",
       "  <tbody>\n",
       "    <tr>\n",
       "      <th>659</th>\n",
       "      <td>NaN</td>\n",
       "      <td>GEN</td>\n",
       "      <td>1993</td>\n",
       "      <td>NaN</td>\n",
       "      <td>1.78</td>\n",
       "      <td>0.53</td>\n",
       "      <td>0.00</td>\n",
       "      <td>0.08</td>\n",
       "      <td>NaN</td>\n",
       "      <td>NaN</td>\n",
       "      <td>NaN</td>\n",
       "    </tr>\n",
       "    <tr>\n",
       "      <th>14244</th>\n",
       "      <td>NaN</td>\n",
       "      <td>GEN</td>\n",
       "      <td>1993</td>\n",
       "      <td>NaN</td>\n",
       "      <td>0.00</td>\n",
       "      <td>0.00</td>\n",
       "      <td>0.03</td>\n",
       "      <td>0.00</td>\n",
       "      <td>NaN</td>\n",
       "      <td>NaN</td>\n",
       "      <td>NaN</td>\n",
       "    </tr>\n",
       "  </tbody>\n",
       "</table>\n",
       "</div>"
      ],
      "text/plain": [
       "      name platform  year_of_release genre  na_sales  eu_sales  jp_sales  \\\n",
       "659    NaN      GEN             1993   NaN      1.78      0.53      0.00   \n",
       "14244  NaN      GEN             1993   NaN      0.00      0.00      0.03   \n",
       "\n",
       "       other_sales  critic_score  user_score rating  \n",
       "659           0.08           NaN         NaN    NaN  \n",
       "14244         0.00           NaN         NaN    NaN  "
      ]
     },
     "execution_count": 9,
     "metadata": {},
     "output_type": "execute_result"
    }
   ],
   "source": [
    "data.query('name.isna()')"
   ]
  },
  {
   "cell_type": "code",
   "execution_count": 10,
   "metadata": {},
   "outputs": [
    {
     "data": {
      "text/html": [
       "<div>\n",
       "<style scoped>\n",
       "    .dataframe tbody tr th:only-of-type {\n",
       "        vertical-align: middle;\n",
       "    }\n",
       "\n",
       "    .dataframe tbody tr th {\n",
       "        vertical-align: top;\n",
       "    }\n",
       "\n",
       "    .dataframe thead th {\n",
       "        text-align: right;\n",
       "    }\n",
       "</style>\n",
       "<table border=\"1\" class=\"dataframe\">\n",
       "  <thead>\n",
       "    <tr style=\"text-align: right;\">\n",
       "      <th></th>\n",
       "      <th>name</th>\n",
       "      <th>platform</th>\n",
       "      <th>year_of_release</th>\n",
       "      <th>genre</th>\n",
       "      <th>na_sales</th>\n",
       "      <th>eu_sales</th>\n",
       "      <th>jp_sales</th>\n",
       "      <th>other_sales</th>\n",
       "      <th>critic_score</th>\n",
       "      <th>user_score</th>\n",
       "      <th>rating</th>\n",
       "    </tr>\n",
       "  </thead>\n",
       "  <tbody>\n",
       "    <tr>\n",
       "      <th>659</th>\n",
       "      <td>NaN</td>\n",
       "      <td>GEN</td>\n",
       "      <td>1993</td>\n",
       "      <td>NaN</td>\n",
       "      <td>1.78</td>\n",
       "      <td>0.53</td>\n",
       "      <td>0.00</td>\n",
       "      <td>0.08</td>\n",
       "      <td>NaN</td>\n",
       "      <td>NaN</td>\n",
       "      <td>NaN</td>\n",
       "    </tr>\n",
       "    <tr>\n",
       "      <th>14244</th>\n",
       "      <td>NaN</td>\n",
       "      <td>GEN</td>\n",
       "      <td>1993</td>\n",
       "      <td>NaN</td>\n",
       "      <td>0.00</td>\n",
       "      <td>0.00</td>\n",
       "      <td>0.03</td>\n",
       "      <td>0.00</td>\n",
       "      <td>NaN</td>\n",
       "      <td>NaN</td>\n",
       "      <td>NaN</td>\n",
       "    </tr>\n",
       "  </tbody>\n",
       "</table>\n",
       "</div>"
      ],
      "text/plain": [
       "      name platform  year_of_release genre  na_sales  eu_sales  jp_sales  \\\n",
       "659    NaN      GEN             1993   NaN      1.78      0.53      0.00   \n",
       "14244  NaN      GEN             1993   NaN      0.00      0.00      0.03   \n",
       "\n",
       "       other_sales  critic_score  user_score rating  \n",
       "659           0.08           NaN         NaN    NaN  \n",
       "14244         0.00           NaN         NaN    NaN  "
      ]
     },
     "execution_count": 10,
     "metadata": {},
     "output_type": "execute_result"
    }
   ],
   "source": [
    "data.query('genre.isna()')"
   ]
  },
  {
   "cell_type": "markdown",
   "metadata": {},
   "source": [
    "Есть по два пропуска в столбцах и названием и жанром, причем в один строках. Данные заменить нечем, удалим строки."
   ]
  },
  {
   "cell_type": "code",
   "execution_count": 11,
   "metadata": {},
   "outputs": [],
   "source": [
    "data.dropna(subset = ['name'], inplace = True)"
   ]
  },
  {
   "cell_type": "markdown",
   "metadata": {},
   "source": [
    "Удаляем строки с пропусками в годе релиза."
   ]
  },
  {
   "cell_type": "code",
   "execution_count": 12,
   "metadata": {},
   "outputs": [],
   "source": [
    "data.dropna(subset = ['year_of_release'], inplace = True)"
   ]
  },
  {
   "cell_type": "markdown",
   "metadata": {},
   "source": [
    "Остальные пропуски оставим незаполненными, к сожалению нет возможности выявить какие данные должны быть в столбцах. Достаточно много строк с пропусками в столбцах с оценкой и рейтингом, этому могли поспособствовать как баги системы, так и отсутствие информации. Мы имеем данные даже за прошлый век, думаю, тогда и не было возможности поставить оценку на каком-либо интернет-ресурсе."
   ]
  },
  {
   "cell_type": "markdown",
   "metadata": {},
   "source": [
    "### Подсчет продаж"
   ]
  },
  {
   "cell_type": "markdown",
   "metadata": {},
   "source": [
    "Добавим новый столбец с суммарными продажами по регионам:"
   ]
  },
  {
   "cell_type": "code",
   "execution_count": 13,
   "metadata": {},
   "outputs": [
    {
     "data": {
      "text/html": [
       "<div>\n",
       "<style scoped>\n",
       "    .dataframe tbody tr th:only-of-type {\n",
       "        vertical-align: middle;\n",
       "    }\n",
       "\n",
       "    .dataframe tbody tr th {\n",
       "        vertical-align: top;\n",
       "    }\n",
       "\n",
       "    .dataframe thead th {\n",
       "        text-align: right;\n",
       "    }\n",
       "</style>\n",
       "<table border=\"1\" class=\"dataframe\">\n",
       "  <thead>\n",
       "    <tr style=\"text-align: right;\">\n",
       "      <th></th>\n",
       "      <th>name</th>\n",
       "      <th>platform</th>\n",
       "      <th>year_of_release</th>\n",
       "      <th>genre</th>\n",
       "      <th>na_sales</th>\n",
       "      <th>eu_sales</th>\n",
       "      <th>jp_sales</th>\n",
       "      <th>other_sales</th>\n",
       "      <th>critic_score</th>\n",
       "      <th>user_score</th>\n",
       "      <th>rating</th>\n",
       "      <th>sum_sales</th>\n",
       "    </tr>\n",
       "  </thead>\n",
       "  <tbody>\n",
       "    <tr>\n",
       "      <th>0</th>\n",
       "      <td>Wii Sports</td>\n",
       "      <td>Wii</td>\n",
       "      <td>2006</td>\n",
       "      <td>Sports</td>\n",
       "      <td>41.36</td>\n",
       "      <td>28.96</td>\n",
       "      <td>3.77</td>\n",
       "      <td>8.45</td>\n",
       "      <td>76.0</td>\n",
       "      <td>8.0</td>\n",
       "      <td>E</td>\n",
       "      <td>82.54</td>\n",
       "    </tr>\n",
       "    <tr>\n",
       "      <th>1</th>\n",
       "      <td>Super Mario Bros.</td>\n",
       "      <td>NES</td>\n",
       "      <td>1985</td>\n",
       "      <td>Platform</td>\n",
       "      <td>29.08</td>\n",
       "      <td>3.58</td>\n",
       "      <td>6.81</td>\n",
       "      <td>0.77</td>\n",
       "      <td>NaN</td>\n",
       "      <td>NaN</td>\n",
       "      <td>NaN</td>\n",
       "      <td>40.24</td>\n",
       "    </tr>\n",
       "    <tr>\n",
       "      <th>2</th>\n",
       "      <td>Mario Kart Wii</td>\n",
       "      <td>Wii</td>\n",
       "      <td>2008</td>\n",
       "      <td>Racing</td>\n",
       "      <td>15.68</td>\n",
       "      <td>12.76</td>\n",
       "      <td>3.79</td>\n",
       "      <td>3.29</td>\n",
       "      <td>82.0</td>\n",
       "      <td>8.3</td>\n",
       "      <td>E</td>\n",
       "      <td>35.52</td>\n",
       "    </tr>\n",
       "    <tr>\n",
       "      <th>3</th>\n",
       "      <td>Wii Sports Resort</td>\n",
       "      <td>Wii</td>\n",
       "      <td>2009</td>\n",
       "      <td>Sports</td>\n",
       "      <td>15.61</td>\n",
       "      <td>10.93</td>\n",
       "      <td>3.28</td>\n",
       "      <td>2.95</td>\n",
       "      <td>80.0</td>\n",
       "      <td>8.0</td>\n",
       "      <td>E</td>\n",
       "      <td>32.77</td>\n",
       "    </tr>\n",
       "    <tr>\n",
       "      <th>4</th>\n",
       "      <td>Pokemon Red/Pokemon Blue</td>\n",
       "      <td>GB</td>\n",
       "      <td>1996</td>\n",
       "      <td>Role-Playing</td>\n",
       "      <td>11.27</td>\n",
       "      <td>8.89</td>\n",
       "      <td>10.22</td>\n",
       "      <td>1.00</td>\n",
       "      <td>NaN</td>\n",
       "      <td>NaN</td>\n",
       "      <td>NaN</td>\n",
       "      <td>31.38</td>\n",
       "    </tr>\n",
       "    <tr>\n",
       "      <th>5</th>\n",
       "      <td>Tetris</td>\n",
       "      <td>GB</td>\n",
       "      <td>1989</td>\n",
       "      <td>Puzzle</td>\n",
       "      <td>23.20</td>\n",
       "      <td>2.26</td>\n",
       "      <td>4.22</td>\n",
       "      <td>0.58</td>\n",
       "      <td>NaN</td>\n",
       "      <td>NaN</td>\n",
       "      <td>NaN</td>\n",
       "      <td>30.26</td>\n",
       "    </tr>\n",
       "    <tr>\n",
       "      <th>6</th>\n",
       "      <td>New Super Mario Bros.</td>\n",
       "      <td>DS</td>\n",
       "      <td>2006</td>\n",
       "      <td>Platform</td>\n",
       "      <td>11.28</td>\n",
       "      <td>9.14</td>\n",
       "      <td>6.50</td>\n",
       "      <td>2.88</td>\n",
       "      <td>89.0</td>\n",
       "      <td>8.5</td>\n",
       "      <td>E</td>\n",
       "      <td>29.80</td>\n",
       "    </tr>\n",
       "    <tr>\n",
       "      <th>7</th>\n",
       "      <td>Wii Play</td>\n",
       "      <td>Wii</td>\n",
       "      <td>2006</td>\n",
       "      <td>Misc</td>\n",
       "      <td>13.96</td>\n",
       "      <td>9.18</td>\n",
       "      <td>2.93</td>\n",
       "      <td>2.84</td>\n",
       "      <td>58.0</td>\n",
       "      <td>6.6</td>\n",
       "      <td>E</td>\n",
       "      <td>28.91</td>\n",
       "    </tr>\n",
       "    <tr>\n",
       "      <th>8</th>\n",
       "      <td>New Super Mario Bros. Wii</td>\n",
       "      <td>Wii</td>\n",
       "      <td>2009</td>\n",
       "      <td>Platform</td>\n",
       "      <td>14.44</td>\n",
       "      <td>6.94</td>\n",
       "      <td>4.70</td>\n",
       "      <td>2.24</td>\n",
       "      <td>87.0</td>\n",
       "      <td>8.4</td>\n",
       "      <td>E</td>\n",
       "      <td>28.32</td>\n",
       "    </tr>\n",
       "    <tr>\n",
       "      <th>9</th>\n",
       "      <td>Duck Hunt</td>\n",
       "      <td>NES</td>\n",
       "      <td>1984</td>\n",
       "      <td>Shooter</td>\n",
       "      <td>26.93</td>\n",
       "      <td>0.63</td>\n",
       "      <td>0.28</td>\n",
       "      <td>0.47</td>\n",
       "      <td>NaN</td>\n",
       "      <td>NaN</td>\n",
       "      <td>NaN</td>\n",
       "      <td>28.31</td>\n",
       "    </tr>\n",
       "  </tbody>\n",
       "</table>\n",
       "</div>"
      ],
      "text/plain": [
       "                        name platform  year_of_release         genre  \\\n",
       "0                 Wii Sports      Wii             2006        Sports   \n",
       "1          Super Mario Bros.      NES             1985      Platform   \n",
       "2             Mario Kart Wii      Wii             2008        Racing   \n",
       "3          Wii Sports Resort      Wii             2009        Sports   \n",
       "4   Pokemon Red/Pokemon Blue       GB             1996  Role-Playing   \n",
       "5                     Tetris       GB             1989        Puzzle   \n",
       "6      New Super Mario Bros.       DS             2006      Platform   \n",
       "7                   Wii Play      Wii             2006          Misc   \n",
       "8  New Super Mario Bros. Wii      Wii             2009      Platform   \n",
       "9                  Duck Hunt      NES             1984       Shooter   \n",
       "\n",
       "   na_sales  eu_sales  jp_sales  other_sales  critic_score  user_score rating  \\\n",
       "0     41.36     28.96      3.77         8.45          76.0         8.0      E   \n",
       "1     29.08      3.58      6.81         0.77           NaN         NaN    NaN   \n",
       "2     15.68     12.76      3.79         3.29          82.0         8.3      E   \n",
       "3     15.61     10.93      3.28         2.95          80.0         8.0      E   \n",
       "4     11.27      8.89     10.22         1.00           NaN         NaN    NaN   \n",
       "5     23.20      2.26      4.22         0.58           NaN         NaN    NaN   \n",
       "6     11.28      9.14      6.50         2.88          89.0         8.5      E   \n",
       "7     13.96      9.18      2.93         2.84          58.0         6.6      E   \n",
       "8     14.44      6.94      4.70         2.24          87.0         8.4      E   \n",
       "9     26.93      0.63      0.28         0.47           NaN         NaN    NaN   \n",
       "\n",
       "   sum_sales  \n",
       "0      82.54  \n",
       "1      40.24  \n",
       "2      35.52  \n",
       "3      32.77  \n",
       "4      31.38  \n",
       "5      30.26  \n",
       "6      29.80  \n",
       "7      28.91  \n",
       "8      28.32  \n",
       "9      28.31  "
      ]
     },
     "execution_count": 13,
     "metadata": {},
     "output_type": "execute_result"
    }
   ],
   "source": [
    "data['sum_sales'] = data['na_sales'] + data['eu_sales'] + data['jp_sales'] + data['other_sales']\n",
    "data.head(10)"
   ]
  },
  {
   "cell_type": "code",
   "execution_count": 14,
   "metadata": {},
   "outputs": [
    {
     "data": {
      "text/plain": [
       "0"
      ]
     },
     "execution_count": 14,
     "metadata": {},
     "output_type": "execute_result"
    }
   ],
   "source": [
    "# На всякий случай проверю наличие явных дубликатов\n",
    "data.duplicated().sum()"
   ]
  },
  {
   "cell_type": "code",
   "execution_count": 15,
   "metadata": {},
   "outputs": [
    {
     "data": {
      "text/html": [
       "<div>\n",
       "<style scoped>\n",
       "    .dataframe tbody tr th:only-of-type {\n",
       "        vertical-align: middle;\n",
       "    }\n",
       "\n",
       "    .dataframe tbody tr th {\n",
       "        vertical-align: top;\n",
       "    }\n",
       "\n",
       "    .dataframe thead th {\n",
       "        text-align: right;\n",
       "    }\n",
       "</style>\n",
       "<table border=\"1\" class=\"dataframe\">\n",
       "  <thead>\n",
       "    <tr style=\"text-align: right;\">\n",
       "      <th></th>\n",
       "      <th>name</th>\n",
       "      <th>platform</th>\n",
       "      <th>year_of_release</th>\n",
       "      <th>genre</th>\n",
       "      <th>na_sales</th>\n",
       "      <th>eu_sales</th>\n",
       "      <th>jp_sales</th>\n",
       "      <th>other_sales</th>\n",
       "      <th>critic_score</th>\n",
       "      <th>user_score</th>\n",
       "      <th>rating</th>\n",
       "      <th>sum_sales</th>\n",
       "    </tr>\n",
       "  </thead>\n",
       "  <tbody>\n",
       "    <tr>\n",
       "      <th>16230</th>\n",
       "      <td>Madden NFL 13</td>\n",
       "      <td>PS3</td>\n",
       "      <td>2012</td>\n",
       "      <td>Sports</td>\n",
       "      <td>0.0</td>\n",
       "      <td>0.01</td>\n",
       "      <td>0.0</td>\n",
       "      <td>0.0</td>\n",
       "      <td>83.0</td>\n",
       "      <td>5.5</td>\n",
       "      <td>E</td>\n",
       "      <td>0.01</td>\n",
       "    </tr>\n",
       "  </tbody>\n",
       "</table>\n",
       "</div>"
      ],
      "text/plain": [
       "                name platform  year_of_release   genre  na_sales  eu_sales  \\\n",
       "16230  Madden NFL 13      PS3             2012  Sports       0.0      0.01   \n",
       "\n",
       "       jp_sales  other_sales  critic_score  user_score rating  sum_sales  \n",
       "16230       0.0          0.0          83.0         5.5      E       0.01  "
      ]
     },
     "execution_count": 15,
     "metadata": {},
     "output_type": "execute_result"
    }
   ],
   "source": [
    "data[data.duplicated(['name', 'year_of_release', 'genre', 'platform'])]"
   ]
  },
  {
   "cell_type": "code",
   "execution_count": 16,
   "metadata": {},
   "outputs": [
    {
     "data": {
      "text/html": [
       "<div>\n",
       "<style scoped>\n",
       "    .dataframe tbody tr th:only-of-type {\n",
       "        vertical-align: middle;\n",
       "    }\n",
       "\n",
       "    .dataframe tbody tr th {\n",
       "        vertical-align: top;\n",
       "    }\n",
       "\n",
       "    .dataframe thead th {\n",
       "        text-align: right;\n",
       "    }\n",
       "</style>\n",
       "<table border=\"1\" class=\"dataframe\">\n",
       "  <thead>\n",
       "    <tr style=\"text-align: right;\">\n",
       "      <th></th>\n",
       "      <th>name</th>\n",
       "      <th>platform</th>\n",
       "      <th>year_of_release</th>\n",
       "      <th>genre</th>\n",
       "      <th>na_sales</th>\n",
       "      <th>eu_sales</th>\n",
       "      <th>jp_sales</th>\n",
       "      <th>other_sales</th>\n",
       "      <th>critic_score</th>\n",
       "      <th>user_score</th>\n",
       "      <th>rating</th>\n",
       "      <th>sum_sales</th>\n",
       "    </tr>\n",
       "  </thead>\n",
       "  <tbody>\n",
       "    <tr>\n",
       "      <th>604</th>\n",
       "      <td>Madden NFL 13</td>\n",
       "      <td>PS3</td>\n",
       "      <td>2012</td>\n",
       "      <td>Sports</td>\n",
       "      <td>2.11</td>\n",
       "      <td>0.22</td>\n",
       "      <td>0.0</td>\n",
       "      <td>0.23</td>\n",
       "      <td>83.0</td>\n",
       "      <td>5.5</td>\n",
       "      <td>E</td>\n",
       "      <td>2.56</td>\n",
       "    </tr>\n",
       "  </tbody>\n",
       "</table>\n",
       "</div>"
      ],
      "text/plain": [
       "              name platform  year_of_release   genre  na_sales  eu_sales  \\\n",
       "604  Madden NFL 13      PS3             2012  Sports      2.11      0.22   \n",
       "\n",
       "     jp_sales  other_sales  critic_score  user_score rating  sum_sales  \n",
       "604       0.0         0.23          83.0         5.5      E       2.56  "
      ]
     },
     "execution_count": 16,
     "metadata": {},
     "output_type": "execute_result"
    }
   ],
   "source": [
    "data[data.duplicated(['name', 'year_of_release', 'genre', 'platform'], keep='last')]"
   ]
  },
  {
   "cell_type": "markdown",
   "metadata": {},
   "source": [
    "Нашли один дубликат, имеет смысл сохранить 604 строку, так как имеет больше данных."
   ]
  },
  {
   "cell_type": "code",
   "execution_count": 17,
   "metadata": {},
   "outputs": [],
   "source": [
    "data = data.drop(index=16230).reset_index(drop=True)"
   ]
  },
  {
   "cell_type": "code",
   "execution_count": 18,
   "metadata": {},
   "outputs": [
    {
     "data": {
      "text/html": [
       "<div>\n",
       "<style scoped>\n",
       "    .dataframe tbody tr th:only-of-type {\n",
       "        vertical-align: middle;\n",
       "    }\n",
       "\n",
       "    .dataframe tbody tr th {\n",
       "        vertical-align: top;\n",
       "    }\n",
       "\n",
       "    .dataframe thead th {\n",
       "        text-align: right;\n",
       "    }\n",
       "</style>\n",
       "<table border=\"1\" class=\"dataframe\">\n",
       "  <thead>\n",
       "    <tr style=\"text-align: right;\">\n",
       "      <th></th>\n",
       "      <th>name</th>\n",
       "      <th>platform</th>\n",
       "      <th>year_of_release</th>\n",
       "      <th>genre</th>\n",
       "      <th>na_sales</th>\n",
       "      <th>eu_sales</th>\n",
       "      <th>jp_sales</th>\n",
       "      <th>other_sales</th>\n",
       "      <th>critic_score</th>\n",
       "      <th>user_score</th>\n",
       "      <th>rating</th>\n",
       "      <th>sum_sales</th>\n",
       "    </tr>\n",
       "  </thead>\n",
       "  <tbody>\n",
       "    <tr>\n",
       "      <th>503</th>\n",
       "      <td>Madden NFL 13</td>\n",
       "      <td>X360</td>\n",
       "      <td>2012</td>\n",
       "      <td>Sports</td>\n",
       "      <td>2.53</td>\n",
       "      <td>0.15</td>\n",
       "      <td>0.0</td>\n",
       "      <td>0.17</td>\n",
       "      <td>81.0</td>\n",
       "      <td>5.8</td>\n",
       "      <td>E</td>\n",
       "      <td>2.85</td>\n",
       "    </tr>\n",
       "    <tr>\n",
       "      <th>600</th>\n",
       "      <td>Madden NFL 13</td>\n",
       "      <td>PS3</td>\n",
       "      <td>2012</td>\n",
       "      <td>Sports</td>\n",
       "      <td>2.11</td>\n",
       "      <td>0.22</td>\n",
       "      <td>0.0</td>\n",
       "      <td>0.23</td>\n",
       "      <td>83.0</td>\n",
       "      <td>5.5</td>\n",
       "      <td>E</td>\n",
       "      <td>2.56</td>\n",
       "    </tr>\n",
       "    <tr>\n",
       "      <th>3933</th>\n",
       "      <td>Madden NFL 13</td>\n",
       "      <td>Wii</td>\n",
       "      <td>2012</td>\n",
       "      <td>Sports</td>\n",
       "      <td>0.47</td>\n",
       "      <td>0.00</td>\n",
       "      <td>0.0</td>\n",
       "      <td>0.03</td>\n",
       "      <td>NaN</td>\n",
       "      <td>7.3</td>\n",
       "      <td>E</td>\n",
       "      <td>0.50</td>\n",
       "    </tr>\n",
       "    <tr>\n",
       "      <th>5800</th>\n",
       "      <td>Madden NFL 13</td>\n",
       "      <td>PSV</td>\n",
       "      <td>2012</td>\n",
       "      <td>Sports</td>\n",
       "      <td>0.28</td>\n",
       "      <td>0.00</td>\n",
       "      <td>0.0</td>\n",
       "      <td>0.02</td>\n",
       "      <td>63.0</td>\n",
       "      <td>7.3</td>\n",
       "      <td>E</td>\n",
       "      <td>0.30</td>\n",
       "    </tr>\n",
       "    <tr>\n",
       "      <th>6956</th>\n",
       "      <td>Madden NFL 13</td>\n",
       "      <td>WiiU</td>\n",
       "      <td>2012</td>\n",
       "      <td>Sports</td>\n",
       "      <td>0.21</td>\n",
       "      <td>0.00</td>\n",
       "      <td>0.0</td>\n",
       "      <td>0.02</td>\n",
       "      <td>75.0</td>\n",
       "      <td>6.7</td>\n",
       "      <td>E</td>\n",
       "      <td>0.23</td>\n",
       "    </tr>\n",
       "  </tbody>\n",
       "</table>\n",
       "</div>"
      ],
      "text/plain": [
       "               name platform  year_of_release   genre  na_sales  eu_sales  \\\n",
       "503   Madden NFL 13     X360             2012  Sports      2.53      0.15   \n",
       "600   Madden NFL 13      PS3             2012  Sports      2.11      0.22   \n",
       "3933  Madden NFL 13      Wii             2012  Sports      0.47      0.00   \n",
       "5800  Madden NFL 13      PSV             2012  Sports      0.28      0.00   \n",
       "6956  Madden NFL 13     WiiU             2012  Sports      0.21      0.00   \n",
       "\n",
       "      jp_sales  other_sales  critic_score  user_score rating  sum_sales  \n",
       "503        0.0         0.17          81.0         5.8      E       2.85  \n",
       "600        0.0         0.23          83.0         5.5      E       2.56  \n",
       "3933       0.0         0.03           NaN         7.3      E       0.50  \n",
       "5800       0.0         0.02          63.0         7.3      E       0.30  \n",
       "6956       0.0         0.02          75.0         6.7      E       0.23  "
      ]
     },
     "execution_count": 18,
     "metadata": {},
     "output_type": "execute_result"
    }
   ],
   "source": [
    "data.query('name == \"Madden NFL 13\"')"
   ]
  },
  {
   "cell_type": "markdown",
   "metadata": {},
   "source": [
    "## Исследовательский анализ данных"
   ]
  },
  {
   "cell_type": "markdown",
   "metadata": {},
   "source": [
    "### Выпуск игр по годам"
   ]
  },
  {
   "cell_type": "code",
   "execution_count": 19,
   "metadata": {},
   "outputs": [
    {
     "data": {
      "image/png": "[encoded data removed]",
      "text/plain": [
       "<Figure size 864x432 with 1 Axes>"
      ]
     },
     "metadata": {
      "needs_background": "light"
     },
     "output_type": "display_data"
    }
   ],
   "source": [
    "data.groupby(by='year_of_release')['name'].count().plot(kind='bar', \n",
    "                                                        figsize=(12, 6),\n",
    "                                                        title='Выпуск игр по годам');\n",
    "plt.xlabel('Год')\n",
    "plt.ylabel('Количество');"
   ]
  },
  {
   "cell_type": "markdown",
   "metadata": {},
   "source": [
    "***Вывод:*** Наблюдается рост числа игр по мере хода времени. Резкий рост есть в 2002 году. С 2010 начинается постепенное снижение."
   ]
  },
  {
   "cell_type": "markdown",
   "metadata": {},
   "source": [
    "### Изменение продаж по платформам."
   ]
  },
  {
   "cell_type": "markdown",
   "metadata": {},
   "source": [
    "Необходимо выяснить изменение продаж по платформам, определить платформы с наибольшими продажами и выявить за какой срок появляются новые платформы и исчезают старые. \n",
    "\n",
    "Построим сводную таблицу для определения актуального периода:"
   ]
  },
  {
   "cell_type": "code",
   "execution_count": 20,
   "metadata": {},
   "outputs": [
    {
     "data": {
      "text/html": [
       "<div>\n",
       "<style scoped>\n",
       "    .dataframe tbody tr th:only-of-type {\n",
       "        vertical-align: middle;\n",
       "    }\n",
       "\n",
       "    .dataframe tbody tr th {\n",
       "        vertical-align: top;\n",
       "    }\n",
       "\n",
       "    .dataframe thead th {\n",
       "        text-align: right;\n",
       "    }\n",
       "</style>\n",
       "<table border=\"1\" class=\"dataframe\">\n",
       "  <thead>\n",
       "    <tr style=\"text-align: right;\">\n",
       "      <th>year_of_release</th>\n",
       "      <th>2001</th>\n",
       "      <th>2002</th>\n",
       "      <th>2003</th>\n",
       "      <th>2004</th>\n",
       "      <th>2005</th>\n",
       "      <th>2006</th>\n",
       "      <th>2007</th>\n",
       "      <th>2008</th>\n",
       "      <th>2009</th>\n",
       "      <th>2010</th>\n",
       "      <th>2011</th>\n",
       "      <th>2012</th>\n",
       "      <th>2013</th>\n",
       "      <th>2014</th>\n",
       "      <th>2015</th>\n",
       "      <th>2016</th>\n",
       "    </tr>\n",
       "    <tr>\n",
       "      <th>platform</th>\n",
       "      <th></th>\n",
       "      <th></th>\n",
       "      <th></th>\n",
       "      <th></th>\n",
       "      <th></th>\n",
       "      <th></th>\n",
       "      <th></th>\n",
       "      <th></th>\n",
       "      <th></th>\n",
       "      <th></th>\n",
       "      <th></th>\n",
       "      <th></th>\n",
       "      <th></th>\n",
       "      <th></th>\n",
       "      <th></th>\n",
       "      <th></th>\n",
       "    </tr>\n",
       "  </thead>\n",
       "  <tbody>\n",
       "    <tr>\n",
       "      <th>3DS</th>\n",
       "      <td>-</td>\n",
       "      <td>-</td>\n",
       "      <td>-</td>\n",
       "      <td>-</td>\n",
       "      <td>-</td>\n",
       "      <td>-</td>\n",
       "      <td>-</td>\n",
       "      <td>-</td>\n",
       "      <td>-</td>\n",
       "      <td>-</td>\n",
       "      <td>116.0</td>\n",
       "      <td>93.0</td>\n",
       "      <td>91.0</td>\n",
       "      <td>80.0</td>\n",
       "      <td>86.0</td>\n",
       "      <td>46.0</td>\n",
       "    </tr>\n",
       "    <tr>\n",
       "      <th>DC</th>\n",
       "      <td>8.0</td>\n",
       "      <td>1.0</td>\n",
       "      <td>-</td>\n",
       "      <td>-</td>\n",
       "      <td>-</td>\n",
       "      <td>-</td>\n",
       "      <td>1.0</td>\n",
       "      <td>1.0</td>\n",
       "      <td>-</td>\n",
       "      <td>-</td>\n",
       "      <td>-</td>\n",
       "      <td>-</td>\n",
       "      <td>-</td>\n",
       "      <td>-</td>\n",
       "      <td>-</td>\n",
       "      <td>-</td>\n",
       "    </tr>\n",
       "    <tr>\n",
       "      <th>DS</th>\n",
       "      <td>-</td>\n",
       "      <td>-</td>\n",
       "      <td>-</td>\n",
       "      <td>23.0</td>\n",
       "      <td>118.0</td>\n",
       "      <td>201.0</td>\n",
       "      <td>376.0</td>\n",
       "      <td>492.0</td>\n",
       "      <td>403.0</td>\n",
       "      <td>323.0</td>\n",
       "      <td>153.0</td>\n",
       "      <td>23.0</td>\n",
       "      <td>8.0</td>\n",
       "      <td>-</td>\n",
       "      <td>-</td>\n",
       "      <td>-</td>\n",
       "    </tr>\n",
       "    <tr>\n",
       "      <th>GB</th>\n",
       "      <td>10.0</td>\n",
       "      <td>-</td>\n",
       "      <td>-</td>\n",
       "      <td>-</td>\n",
       "      <td>-</td>\n",
       "      <td>-</td>\n",
       "      <td>-</td>\n",
       "      <td>-</td>\n",
       "      <td>-</td>\n",
       "      <td>-</td>\n",
       "      <td>-</td>\n",
       "      <td>-</td>\n",
       "      <td>-</td>\n",
       "      <td>-</td>\n",
       "      <td>-</td>\n",
       "      <td>-</td>\n",
       "    </tr>\n",
       "    <tr>\n",
       "      <th>GBA</th>\n",
       "      <td>107.0</td>\n",
       "      <td>198.0</td>\n",
       "      <td>150.0</td>\n",
       "      <td>175.0</td>\n",
       "      <td>135.0</td>\n",
       "      <td>39.0</td>\n",
       "      <td>6.0</td>\n",
       "      <td>-</td>\n",
       "      <td>-</td>\n",
       "      <td>-</td>\n",
       "      <td>-</td>\n",
       "      <td>-</td>\n",
       "      <td>-</td>\n",
       "      <td>-</td>\n",
       "      <td>-</td>\n",
       "      <td>-</td>\n",
       "    </tr>\n",
       "    <tr>\n",
       "      <th>GC</th>\n",
       "      <td>22.0</td>\n",
       "      <td>152.0</td>\n",
       "      <td>144.0</td>\n",
       "      <td>83.0</td>\n",
       "      <td>97.0</td>\n",
       "      <td>40.0</td>\n",
       "      <td>4.0</td>\n",
       "      <td>-</td>\n",
       "      <td>-</td>\n",
       "      <td>-</td>\n",
       "      <td>-</td>\n",
       "      <td>-</td>\n",
       "      <td>-</td>\n",
       "      <td>-</td>\n",
       "      <td>-</td>\n",
       "      <td>-</td>\n",
       "    </tr>\n",
       "    <tr>\n",
       "      <th>N64</th>\n",
       "      <td>9.0</td>\n",
       "      <td>1.0</td>\n",
       "      <td>-</td>\n",
       "      <td>-</td>\n",
       "      <td>-</td>\n",
       "      <td>-</td>\n",
       "      <td>-</td>\n",
       "      <td>-</td>\n",
       "      <td>-</td>\n",
       "      <td>-</td>\n",
       "      <td>-</td>\n",
       "      <td>-</td>\n",
       "      <td>-</td>\n",
       "      <td>-</td>\n",
       "      <td>-</td>\n",
       "      <td>-</td>\n",
       "    </tr>\n",
       "    <tr>\n",
       "      <th>PC</th>\n",
       "      <td>15.0</td>\n",
       "      <td>19.0</td>\n",
       "      <td>33.0</td>\n",
       "      <td>30.0</td>\n",
       "      <td>37.0</td>\n",
       "      <td>52.0</td>\n",
       "      <td>62.0</td>\n",
       "      <td>76.0</td>\n",
       "      <td>107.0</td>\n",
       "      <td>90.0</td>\n",
       "      <td>139.0</td>\n",
       "      <td>61.0</td>\n",
       "      <td>38.0</td>\n",
       "      <td>47.0</td>\n",
       "      <td>50.0</td>\n",
       "      <td>54.0</td>\n",
       "    </tr>\n",
       "    <tr>\n",
       "      <th>PS</th>\n",
       "      <td>91.0</td>\n",
       "      <td>20.0</td>\n",
       "      <td>3.0</td>\n",
       "      <td>-</td>\n",
       "      <td>-</td>\n",
       "      <td>-</td>\n",
       "      <td>-</td>\n",
       "      <td>-</td>\n",
       "      <td>-</td>\n",
       "      <td>-</td>\n",
       "      <td>-</td>\n",
       "      <td>-</td>\n",
       "      <td>-</td>\n",
       "      <td>-</td>\n",
       "      <td>-</td>\n",
       "      <td>-</td>\n",
       "    </tr>\n",
       "    <tr>\n",
       "      <th>PS2</th>\n",
       "      <td>185.0</td>\n",
       "      <td>280.0</td>\n",
       "      <td>256.0</td>\n",
       "      <td>259.0</td>\n",
       "      <td>260.0</td>\n",
       "      <td>259.0</td>\n",
       "      <td>214.0</td>\n",
       "      <td>191.0</td>\n",
       "      <td>96.0</td>\n",
       "      <td>38.0</td>\n",
       "      <td>7.0</td>\n",
       "      <td>-</td>\n",
       "      <td>-</td>\n",
       "      <td>-</td>\n",
       "      <td>-</td>\n",
       "      <td>-</td>\n",
       "    </tr>\n",
       "    <tr>\n",
       "      <th>PS3</th>\n",
       "      <td>-</td>\n",
       "      <td>-</td>\n",
       "      <td>-</td>\n",
       "      <td>-</td>\n",
       "      <td>-</td>\n",
       "      <td>27.0</td>\n",
       "      <td>90.0</td>\n",
       "      <td>138.0</td>\n",
       "      <td>162.0</td>\n",
       "      <td>181.0</td>\n",
       "      <td>215.0</td>\n",
       "      <td>147.0</td>\n",
       "      <td>126.0</td>\n",
       "      <td>108.0</td>\n",
       "      <td>73.0</td>\n",
       "      <td>38.0</td>\n",
       "    </tr>\n",
       "    <tr>\n",
       "      <th>PS4</th>\n",
       "      <td>-</td>\n",
       "      <td>-</td>\n",
       "      <td>-</td>\n",
       "      <td>-</td>\n",
       "      <td>-</td>\n",
       "      <td>-</td>\n",
       "      <td>-</td>\n",
       "      <td>-</td>\n",
       "      <td>-</td>\n",
       "      <td>-</td>\n",
       "      <td>-</td>\n",
       "      <td>-</td>\n",
       "      <td>16.0</td>\n",
       "      <td>75.0</td>\n",
       "      <td>137.0</td>\n",
       "      <td>164.0</td>\n",
       "    </tr>\n",
       "    <tr>\n",
       "      <th>PSP</th>\n",
       "      <td>-</td>\n",
       "      <td>-</td>\n",
       "      <td>-</td>\n",
       "      <td>15.0</td>\n",
       "      <td>95.0</td>\n",
       "      <td>189.0</td>\n",
       "      <td>133.0</td>\n",
       "      <td>100.0</td>\n",
       "      <td>161.0</td>\n",
       "      <td>188.0</td>\n",
       "      <td>139.0</td>\n",
       "      <td>106.0</td>\n",
       "      <td>54.0</td>\n",
       "      <td>10.0</td>\n",
       "      <td>3.0</td>\n",
       "      <td>-</td>\n",
       "    </tr>\n",
       "    <tr>\n",
       "      <th>PSV</th>\n",
       "      <td>-</td>\n",
       "      <td>-</td>\n",
       "      <td>-</td>\n",
       "      <td>-</td>\n",
       "      <td>-</td>\n",
       "      <td>-</td>\n",
       "      <td>-</td>\n",
       "      <td>-</td>\n",
       "      <td>-</td>\n",
       "      <td>-</td>\n",
       "      <td>18.0</td>\n",
       "      <td>53.0</td>\n",
       "      <td>63.0</td>\n",
       "      <td>100.0</td>\n",
       "      <td>110.0</td>\n",
       "      <td>85.0</td>\n",
       "    </tr>\n",
       "    <tr>\n",
       "      <th>WS</th>\n",
       "      <td>2.0</td>\n",
       "      <td>-</td>\n",
       "      <td>-</td>\n",
       "      <td>-</td>\n",
       "      <td>-</td>\n",
       "      <td>-</td>\n",
       "      <td>-</td>\n",
       "      <td>-</td>\n",
       "      <td>-</td>\n",
       "      <td>-</td>\n",
       "      <td>-</td>\n",
       "      <td>-</td>\n",
       "      <td>-</td>\n",
       "      <td>-</td>\n",
       "      <td>-</td>\n",
       "      <td>-</td>\n",
       "    </tr>\n",
       "    <tr>\n",
       "      <th>Wii</th>\n",
       "      <td>-</td>\n",
       "      <td>-</td>\n",
       "      <td>-</td>\n",
       "      <td>-</td>\n",
       "      <td>-</td>\n",
       "      <td>44.0</td>\n",
       "      <td>185.0</td>\n",
       "      <td>282.0</td>\n",
       "      <td>325.0</td>\n",
       "      <td>253.0</td>\n",
       "      <td>143.0</td>\n",
       "      <td>31.0</td>\n",
       "      <td>12.0</td>\n",
       "      <td>6.0</td>\n",
       "      <td>4.0</td>\n",
       "      <td>1.0</td>\n",
       "    </tr>\n",
       "    <tr>\n",
       "      <th>WiiU</th>\n",
       "      <td>-</td>\n",
       "      <td>-</td>\n",
       "      <td>-</td>\n",
       "      <td>-</td>\n",
       "      <td>-</td>\n",
       "      <td>-</td>\n",
       "      <td>-</td>\n",
       "      <td>-</td>\n",
       "      <td>-</td>\n",
       "      <td>-</td>\n",
       "      <td>-</td>\n",
       "      <td>32.0</td>\n",
       "      <td>42.0</td>\n",
       "      <td>31.0</td>\n",
       "      <td>28.0</td>\n",
       "      <td>14.0</td>\n",
       "    </tr>\n",
       "    <tr>\n",
       "      <th>X360</th>\n",
       "      <td>-</td>\n",
       "      <td>-</td>\n",
       "      <td>-</td>\n",
       "      <td>-</td>\n",
       "      <td>18.0</td>\n",
       "      <td>93.0</td>\n",
       "      <td>123.0</td>\n",
       "      <td>146.0</td>\n",
       "      <td>172.0</td>\n",
       "      <td>182.0</td>\n",
       "      <td>206.0</td>\n",
       "      <td>106.0</td>\n",
       "      <td>75.0</td>\n",
       "      <td>63.0</td>\n",
       "      <td>35.0</td>\n",
       "      <td>13.0</td>\n",
       "    </tr>\n",
       "    <tr>\n",
       "      <th>XB</th>\n",
       "      <td>33.0</td>\n",
       "      <td>158.0</td>\n",
       "      <td>189.0</td>\n",
       "      <td>177.0</td>\n",
       "      <td>179.0</td>\n",
       "      <td>62.0</td>\n",
       "      <td>3.0</td>\n",
       "      <td>1.0</td>\n",
       "      <td>-</td>\n",
       "      <td>-</td>\n",
       "      <td>-</td>\n",
       "      <td>-</td>\n",
       "      <td>-</td>\n",
       "      <td>-</td>\n",
       "      <td>-</td>\n",
       "      <td>-</td>\n",
       "    </tr>\n",
       "    <tr>\n",
       "      <th>XOne</th>\n",
       "      <td>-</td>\n",
       "      <td>-</td>\n",
       "      <td>-</td>\n",
       "      <td>-</td>\n",
       "      <td>-</td>\n",
       "      <td>-</td>\n",
       "      <td>-</td>\n",
       "      <td>-</td>\n",
       "      <td>-</td>\n",
       "      <td>-</td>\n",
       "      <td>-</td>\n",
       "      <td>-</td>\n",
       "      <td>19.0</td>\n",
       "      <td>61.0</td>\n",
       "      <td>80.0</td>\n",
       "      <td>87.0</td>\n",
       "    </tr>\n",
       "  </tbody>\n",
       "</table>\n",
       "</div>"
      ],
      "text/plain": [
       "year_of_release   2001   2002   2003   2004   2005   2006   2007   2008  \\\n",
       "platform                                                                  \n",
       "3DS                  -      -      -      -      -      -      -      -   \n",
       "DC                 8.0    1.0      -      -      -      -    1.0    1.0   \n",
       "DS                   -      -      -   23.0  118.0  201.0  376.0  492.0   \n",
       "GB                10.0      -      -      -      -      -      -      -   \n",
       "GBA              107.0  198.0  150.0  175.0  135.0   39.0    6.0      -   \n",
       "GC                22.0  152.0  144.0   83.0   97.0   40.0    4.0      -   \n",
       "N64                9.0    1.0      -      -      -      -      -      -   \n",
       "PC                15.0   19.0   33.0   30.0   37.0   52.0   62.0   76.0   \n",
       "PS                91.0   20.0    3.0      -      -      -      -      -   \n",
       "PS2              185.0  280.0  256.0  259.0  260.0  259.0  214.0  191.0   \n",
       "PS3                  -      -      -      -      -   27.0   90.0  138.0   \n",
       "PS4                  -      -      -      -      -      -      -      -   \n",
       "PSP                  -      -      -   15.0   95.0  189.0  133.0  100.0   \n",
       "PSV                  -      -      -      -      -      -      -      -   \n",
       "WS                 2.0      -      -      -      -      -      -      -   \n",
       "Wii                  -      -      -      -      -   44.0  185.0  282.0   \n",
       "WiiU                 -      -      -      -      -      -      -      -   \n",
       "X360                 -      -      -      -   18.0   93.0  123.0  146.0   \n",
       "XB                33.0  158.0  189.0  177.0  179.0   62.0    3.0    1.0   \n",
       "XOne                 -      -      -      -      -      -      -      -   \n",
       "\n",
       "year_of_release   2009   2010   2011   2012   2013   2014   2015   2016  \n",
       "platform                                                                 \n",
       "3DS                  -      -  116.0   93.0   91.0   80.0   86.0   46.0  \n",
       "DC                   -      -      -      -      -      -      -      -  \n",
       "DS               403.0  323.0  153.0   23.0    8.0      -      -      -  \n",
       "GB                   -      -      -      -      -      -      -      -  \n",
       "GBA                  -      -      -      -      -      -      -      -  \n",
       "GC                   -      -      -      -      -      -      -      -  \n",
       "N64                  -      -      -      -      -      -      -      -  \n",
       "PC               107.0   90.0  139.0   61.0   38.0   47.0   50.0   54.0  \n",
       "PS                   -      -      -      -      -      -      -      -  \n",
       "PS2               96.0   38.0    7.0      -      -      -      -      -  \n",
       "PS3              162.0  181.0  215.0  147.0  126.0  108.0   73.0   38.0  \n",
       "PS4                  -      -      -      -   16.0   75.0  137.0  164.0  \n",
       "PSP              161.0  188.0  139.0  106.0   54.0   10.0    3.0      -  \n",
       "PSV                  -      -   18.0   53.0   63.0  100.0  110.0   85.0  \n",
       "WS                   -      -      -      -      -      -      -      -  \n",
       "Wii              325.0  253.0  143.0   31.0   12.0    6.0    4.0    1.0  \n",
       "WiiU                 -      -      -   32.0   42.0   31.0   28.0   14.0  \n",
       "X360             172.0  182.0  206.0  106.0   75.0   63.0   35.0   13.0  \n",
       "XB                   -      -      -      -      -      -      -      -  \n",
       "XOne                 -      -      -      -   19.0   61.0   80.0   87.0  "
      ]
     },
     "execution_count": 20,
     "metadata": {},
     "output_type": "execute_result"
    }
   ],
   "source": [
    "data.query('year_of_release > 2000').pivot_table(index='platform', columns='year_of_release', \n",
    "                                                 values='name', aggfunc='count', fill_value='-')\n"
   ]
  },
  {
   "cell_type": "markdown",
   "metadata": {},
   "source": [
    "Создадим датафрейм с актуальным периодом:"
   ]
  },
  {
   "cell_type": "code",
   "execution_count": 21,
   "metadata": {},
   "outputs": [],
   "source": [
    "data_act = data.query('year_of_release >= 2012').reset_index(drop=True)"
   ]
  },
  {
   "cell_type": "markdown",
   "metadata": {},
   "source": [
    "Посмотрим на продажи по платформам:"
   ]
  },
  {
   "cell_type": "code",
   "execution_count": 22,
   "metadata": {},
   "outputs": [
    {
     "data": {
      "image/png": "[encoded data removed]",
      "text/plain": [
       "<Figure size 1080x720 with 1 Axes>"
      ]
     },
     "metadata": {
      "needs_background": "light"
     },
     "output_type": "display_data"
    }
   ],
   "source": [
    "pivot_platform = data.pivot_table(index='platform', values='sum_sales', aggfunc='sum')\n",
    "pivot_platform.sort_values(by='sum_sales').plot(kind='barh', figsize=(15, 10), title='Продажи по платформам')\n",
    "plt.xlabel('Количество')\n",
    "plt.ylabel('Платформа');"
   ]
  },
  {
   "cell_type": "markdown",
   "metadata": {},
   "source": [
    "По графику наблюдаем 6 явно лидирующих платформ:"
   ]
  },
  {
   "cell_type": "code",
   "execution_count": 23,
   "metadata": {},
   "outputs": [
    {
     "data": {
      "text/html": [
       "<div>\n",
       "<style scoped>\n",
       "    .dataframe tbody tr th:only-of-type {\n",
       "        vertical-align: middle;\n",
       "    }\n",
       "\n",
       "    .dataframe tbody tr th {\n",
       "        vertical-align: top;\n",
       "    }\n",
       "\n",
       "    .dataframe thead th {\n",
       "        text-align: right;\n",
       "    }\n",
       "</style>\n",
       "<table border=\"1\" class=\"dataframe\">\n",
       "  <thead>\n",
       "    <tr style=\"text-align: right;\">\n",
       "      <th></th>\n",
       "      <th>sum_sales</th>\n",
       "    </tr>\n",
       "    <tr>\n",
       "      <th>platform</th>\n",
       "      <th></th>\n",
       "    </tr>\n",
       "  </thead>\n",
       "  <tbody>\n",
       "    <tr>\n",
       "      <th>PS2</th>\n",
       "      <td>1233.56</td>\n",
       "    </tr>\n",
       "    <tr>\n",
       "      <th>X360</th>\n",
       "      <td>961.24</td>\n",
       "    </tr>\n",
       "    <tr>\n",
       "      <th>PS3</th>\n",
       "      <td>931.33</td>\n",
       "    </tr>\n",
       "    <tr>\n",
       "      <th>Wii</th>\n",
       "      <td>891.18</td>\n",
       "    </tr>\n",
       "    <tr>\n",
       "      <th>DS</th>\n",
       "      <td>802.78</td>\n",
       "    </tr>\n",
       "    <tr>\n",
       "      <th>PS</th>\n",
       "      <td>727.58</td>\n",
       "    </tr>\n",
       "  </tbody>\n",
       "</table>\n",
       "</div>"
      ],
      "text/plain": [
       "          sum_sales\n",
       "platform           \n",
       "PS2         1233.56\n",
       "X360         961.24\n",
       "PS3          931.33\n",
       "Wii          891.18\n",
       "DS           802.78\n",
       "PS           727.58"
      ]
     },
     "execution_count": 23,
     "metadata": {},
     "output_type": "execute_result"
    }
   ],
   "source": [
    "pivot_platform.sort_values(by='sum_sales', ascending=False).head(6)"
   ]
  },
  {
   "cell_type": "markdown",
   "metadata": {},
   "source": [
    "Так же посомтрим на лидеров за актульнай период:"
   ]
  },
  {
   "cell_type": "code",
   "execution_count": 24,
   "metadata": {},
   "outputs": [
    {
     "data": {
      "image/png": "[encoded data removed]",
      "text/plain": [
       "<Figure size 1080x720 with 1 Axes>"
      ]
     },
     "metadata": {
      "needs_background": "light"
     },
     "output_type": "display_data"
    }
   ],
   "source": [
    "pivot_platform_act = data_act.pivot_table(index='platform', values='sum_sales', aggfunc='sum')\n",
    "pivot_platform_act.sort_values(by='sum_sales').plot(kind='barh', figsize=(15, 10), title='Продажи по платформам')\n",
    "plt.xlabel('Количество')\n",
    "plt.ylabel('Платформа');"
   ]
  },
  {
   "cell_type": "markdown",
   "metadata": {},
   "source": [
    "Здесь с отрывом идут 5 платформ:"
   ]
  },
  {
   "cell_type": "code",
   "execution_count": 25,
   "metadata": {},
   "outputs": [
    {
     "data": {
      "text/html": [
       "<div>\n",
       "<style scoped>\n",
       "    .dataframe tbody tr th:only-of-type {\n",
       "        vertical-align: middle;\n",
       "    }\n",
       "\n",
       "    .dataframe tbody tr th {\n",
       "        vertical-align: top;\n",
       "    }\n",
       "\n",
       "    .dataframe thead th {\n",
       "        text-align: right;\n",
       "    }\n",
       "</style>\n",
       "<table border=\"1\" class=\"dataframe\">\n",
       "  <thead>\n",
       "    <tr style=\"text-align: right;\">\n",
       "      <th></th>\n",
       "      <th>sum_sales</th>\n",
       "    </tr>\n",
       "    <tr>\n",
       "      <th>platform</th>\n",
       "      <th></th>\n",
       "    </tr>\n",
       "  </thead>\n",
       "  <tbody>\n",
       "    <tr>\n",
       "      <th>PS4</th>\n",
       "      <td>314.14</td>\n",
       "    </tr>\n",
       "    <tr>\n",
       "      <th>PS3</th>\n",
       "      <td>288.78</td>\n",
       "    </tr>\n",
       "    <tr>\n",
       "      <th>X360</th>\n",
       "      <td>236.54</td>\n",
       "    </tr>\n",
       "    <tr>\n",
       "      <th>3DS</th>\n",
       "      <td>194.61</td>\n",
       "    </tr>\n",
       "    <tr>\n",
       "      <th>XOne</th>\n",
       "      <td>159.32</td>\n",
       "    </tr>\n",
       "  </tbody>\n",
       "</table>\n",
       "</div>"
      ],
      "text/plain": [
       "          sum_sales\n",
       "platform           \n",
       "PS4          314.14\n",
       "PS3          288.78\n",
       "X360         236.54\n",
       "3DS          194.61\n",
       "XOne         159.32"
      ]
     },
     "execution_count": 25,
     "metadata": {},
     "output_type": "execute_result"
    }
   ],
   "source": [
    "pivot_platform_act.sort_values(by='sum_sales', ascending=False).head(5)"
   ]
  },
  {
   "cell_type": "markdown",
   "metadata": {},
   "source": [
    "***Вывод:*** Лидером по продажам является PS2. За актуальный период для дальнейшего исследования возьмем период с 2013 по текущий год, так как в период в 4 года платформы идут на развитие."
   ]
  },
  {
   "cell_type": "markdown",
   "metadata": {},
   "source": [
    "### Лидеры по продажам"
   ]
  },
  {
   "cell_type": "markdown",
   "metadata": {},
   "source": [
    "Здесь более подробно рассомотрим топ платформ по их продажам:"
   ]
  },
  {
   "cell_type": "code",
   "execution_count": 26,
   "metadata": {},
   "outputs": [
    {
     "data": {
      "image/png": "[encoded data removed]",
      "text/plain": [
       "<Figure size 432x288 with 1 Axes>"
      ]
     },
     "metadata": {
      "needs_background": "light"
     },
     "output_type": "display_data"
    }
   ],
   "source": [
    "data_act.query('platform == \"PS4\"').groupby(by='year_of_release')['sum_sales'].sum().plot(kind='line', title='PS4')\n",
    "plt.xlabel('Год')\n",
    "plt.ylabel('Доход');"
   ]
  },
  {
   "cell_type": "code",
   "execution_count": 27,
   "metadata": {},
   "outputs": [
    {
     "data": {
      "image/png": "[encoded data removed]",
      "text/plain": [
       "<Figure size 432x288 with 1 Axes>"
      ]
     },
     "metadata": {
      "needs_background": "light"
     },
     "output_type": "display_data"
    }
   ],
   "source": [
    "data_act.query('platform == \"PS3\"').groupby(by='year_of_release')['sum_sales'].sum().plot(kind='line', title='PS3')\n",
    "plt.xlabel('PS3')\n",
    "plt.ylabel('Доход');"
   ]
  },
  {
   "cell_type": "code",
   "execution_count": 28,
   "metadata": {},
   "outputs": [
    {
     "data": {
      "image/png": "[encoded data removed]",
      "text/plain": [
       "<Figure size 432x288 with 1 Axes>"
      ]
     },
     "metadata": {
      "needs_background": "light"
     },
     "output_type": "display_data"
    }
   ],
   "source": [
    "data_act.query('platform == \"X360\"').groupby(by='year_of_release')['sum_sales'].sum().plot(kind='line', title='X360')\n",
    "plt.xlabel('Год')\n",
    "plt.ylabel('Доход');"
   ]
  },
  {
   "cell_type": "code",
   "execution_count": 29,
   "metadata": {},
   "outputs": [
    {
     "data": {
      "image/png": "[encoded data removed]",
      "text/plain": [
       "<Figure size 432x288 with 1 Axes>"
      ]
     },
     "metadata": {
      "needs_background": "light"
     },
     "output_type": "display_data"
    }
   ],
   "source": [
    "data_act.query('platform == \"3DS\"').groupby(by='year_of_release')['sum_sales'].sum().plot(kind='line', title='3DS')\n",
    "plt.xlabel('Год')\n",
    "plt.ylabel('Доход');"
   ]
  },
  {
   "cell_type": "code",
   "execution_count": 30,
   "metadata": {},
   "outputs": [
    {
     "data": {
      "image/png": "[encoded data removed]",
      "text/plain": [
       "<Figure size 432x288 with 1 Axes>"
      ]
     },
     "metadata": {
      "needs_background": "light"
     },
     "output_type": "display_data"
    }
   ],
   "source": [
    "data_act.query('platform == \"XOne\"').groupby(by='year_of_release')['sum_sales'].sum().plot(kind='line', title='XOne')\n",
    "plt.xlabel('Год')\n",
    "plt.ylabel('Доход');"
   ]
  },
  {
   "cell_type": "code",
   "execution_count": 31,
   "metadata": {},
   "outputs": [
    {
     "data": {
      "text/html": [
       "<div>\n",
       "<style scoped>\n",
       "    .dataframe tbody tr th:only-of-type {\n",
       "        vertical-align: middle;\n",
       "    }\n",
       "\n",
       "    .dataframe tbody tr th {\n",
       "        vertical-align: top;\n",
       "    }\n",
       "\n",
       "    .dataframe thead th {\n",
       "        text-align: right;\n",
       "    }\n",
       "</style>\n",
       "<table border=\"1\" class=\"dataframe\">\n",
       "  <thead>\n",
       "    <tr style=\"text-align: right;\">\n",
       "      <th>year_of_release</th>\n",
       "      <th>2012</th>\n",
       "      <th>2013</th>\n",
       "      <th>2014</th>\n",
       "      <th>2015</th>\n",
       "      <th>2016</th>\n",
       "    </tr>\n",
       "    <tr>\n",
       "      <th>platform</th>\n",
       "      <th></th>\n",
       "      <th></th>\n",
       "      <th></th>\n",
       "      <th></th>\n",
       "      <th></th>\n",
       "    </tr>\n",
       "  </thead>\n",
       "  <tbody>\n",
       "    <tr>\n",
       "      <th>3DS</th>\n",
       "      <td>51.36</td>\n",
       "      <td>56.57</td>\n",
       "      <td>43.76</td>\n",
       "      <td>27.78</td>\n",
       "      <td>15.14</td>\n",
       "    </tr>\n",
       "    <tr>\n",
       "      <th>DS</th>\n",
       "      <td>11.01</td>\n",
       "      <td>1.54</td>\n",
       "      <td>-</td>\n",
       "      <td>-</td>\n",
       "      <td>-</td>\n",
       "    </tr>\n",
       "    <tr>\n",
       "      <th>PC</th>\n",
       "      <td>23.22</td>\n",
       "      <td>12.38</td>\n",
       "      <td>13.28</td>\n",
       "      <td>8.52</td>\n",
       "      <td>5.25</td>\n",
       "    </tr>\n",
       "    <tr>\n",
       "      <th>PS3</th>\n",
       "      <td>107.35</td>\n",
       "      <td>113.25</td>\n",
       "      <td>47.76</td>\n",
       "      <td>16.82</td>\n",
       "      <td>3.6</td>\n",
       "    </tr>\n",
       "    <tr>\n",
       "      <th>PS4</th>\n",
       "      <td>-</td>\n",
       "      <td>25.99</td>\n",
       "      <td>100.0</td>\n",
       "      <td>118.9</td>\n",
       "      <td>69.25</td>\n",
       "    </tr>\n",
       "    <tr>\n",
       "      <th>PSP</th>\n",
       "      <td>7.69</td>\n",
       "      <td>3.14</td>\n",
       "      <td>0.24</td>\n",
       "      <td>0.12</td>\n",
       "      <td>-</td>\n",
       "    </tr>\n",
       "    <tr>\n",
       "      <th>PSV</th>\n",
       "      <td>16.19</td>\n",
       "      <td>10.59</td>\n",
       "      <td>11.9</td>\n",
       "      <td>6.25</td>\n",
       "      <td>4.25</td>\n",
       "    </tr>\n",
       "    <tr>\n",
       "      <th>Wii</th>\n",
       "      <td>21.71</td>\n",
       "      <td>8.59</td>\n",
       "      <td>3.75</td>\n",
       "      <td>1.14</td>\n",
       "      <td>0.18</td>\n",
       "    </tr>\n",
       "    <tr>\n",
       "      <th>WiiU</th>\n",
       "      <td>17.56</td>\n",
       "      <td>21.65</td>\n",
       "      <td>22.03</td>\n",
       "      <td>16.35</td>\n",
       "      <td>4.6</td>\n",
       "    </tr>\n",
       "    <tr>\n",
       "      <th>X360</th>\n",
       "      <td>99.74</td>\n",
       "      <td>88.58</td>\n",
       "      <td>34.74</td>\n",
       "      <td>11.96</td>\n",
       "      <td>1.52</td>\n",
       "    </tr>\n",
       "    <tr>\n",
       "      <th>XOne</th>\n",
       "      <td>-</td>\n",
       "      <td>18.96</td>\n",
       "      <td>54.07</td>\n",
       "      <td>60.14</td>\n",
       "      <td>26.15</td>\n",
       "    </tr>\n",
       "  </tbody>\n",
       "</table>\n",
       "</div>"
      ],
      "text/plain": [
       "year_of_release    2012    2013   2014   2015   2016\n",
       "platform                                            \n",
       "3DS               51.36   56.57  43.76  27.78  15.14\n",
       "DS                11.01    1.54      -      -      -\n",
       "PC                23.22   12.38  13.28   8.52   5.25\n",
       "PS3              107.35  113.25  47.76  16.82    3.6\n",
       "PS4                   -   25.99  100.0  118.9  69.25\n",
       "PSP                7.69    3.14   0.24   0.12      -\n",
       "PSV               16.19   10.59   11.9   6.25   4.25\n",
       "Wii               21.71    8.59   3.75   1.14   0.18\n",
       "WiiU              17.56   21.65  22.03  16.35    4.6\n",
       "X360              99.74   88.58  34.74  11.96   1.52\n",
       "XOne                  -   18.96  54.07  60.14  26.15"
      ]
     },
     "execution_count": 31,
     "metadata": {},
     "output_type": "execute_result"
    }
   ],
   "source": [
    "data_act.pivot_table(index='platform', columns='year_of_release', \n",
    "                                                 values='sum_sales', aggfunc='sum', fill_value='-')"
   ]
  },
  {
   "cell_type": "code",
   "execution_count": 32,
   "metadata": {},
   "outputs": [
    {
     "data": {
      "image/png": "[encoded data removed]",
      "text/plain": [
       "<Figure size 1080x504 with 1 Axes>"
      ]
     },
     "metadata": {
      "needs_background": "light"
     },
     "output_type": "display_data"
    }
   ],
   "source": [
    "plat = ['DS', 'PSP']\n",
    "data_act.query('platform != @plat').pivot_table(index='year_of_release', \n",
    "                     columns = 'platform', \n",
    "                     values='sum_sales', \n",
    "                     aggfunc='sum').plot(grid=True, \n",
    "                                         figsize=(15, 7))\n",
    "plt.show()"
   ]
  },
  {
   "cell_type": "markdown",
   "metadata": {},
   "source": [
    "***Вывод:*** По сумме продаж у всех платформ имеется снижение. Потенциально прибыльной я бы назвал только PS4 и XOne, продажи велики по сравнению с другими платформами, к тому же платформа наиболее актуальная и вероятно еще начнет пользоваться популярностью."
   ]
  },
  {
   "cell_type": "markdown",
   "metadata": {},
   "source": [
    "### Глобальные продажи игр по платформам. Диаграмма размаха."
   ]
  },
  {
   "cell_type": "code",
   "execution_count": 33,
   "metadata": {
    "scrolled": true
   },
   "outputs": [
    {
     "data": {
      "image/png": "[encoded data removed]",
      "text/plain": [
       "<Figure size 864x576 with 1 Axes>"
      ]
     },
     "metadata": {
      "needs_background": "light"
     },
     "output_type": "display_data"
    }
   ],
   "source": [
    "data_act.boxplot(column='sum_sales', by='platform', figsize=(12, 8));"
   ]
  },
  {
   "cell_type": "code",
   "execution_count": 34,
   "metadata": {},
   "outputs": [
    {
     "data": {
      "image/png": "[encoded data removed]",
      "text/plain": [
       "<Figure size 1152x864 with 1 Axes>"
      ]
     },
     "metadata": {
      "needs_background": "light"
     },
     "output_type": "display_data"
    }
   ],
   "source": [
    "data_act.boxplot(column='sum_sales', by='platform', figsize=(16, 12))\n",
    "plt.ylim(0, 2);"
   ]
  },
  {
   "cell_type": "markdown",
   "metadata": {},
   "source": [
    "***Вывод:*** По графику наблюдаем, что успешее всего в продажах PS3, PS4, Wii, X360, XOne. В целом у всех платформ не лучшие реузультаты в продажах, так как так как максимум имеет большее расстояние от Q2, так же медиана расположена внизу коробки. "
   ]
  },
  {
   "cell_type": "markdown",
   "metadata": {},
   "source": [
    "### Влияние отзывов на продажи"
   ]
  },
  {
   "cell_type": "markdown",
   "metadata": {},
   "source": [
    "Рассмотрим влияние на одной из популярных платформ. По общим данным определили, что лучшей по продажам является PS4"
   ]
  },
  {
   "cell_type": "code",
   "execution_count": 35,
   "metadata": {},
   "outputs": [
    {
     "name": "stdout",
     "output_type": "stream",
     "text": [
      "Корреляция: -0.031957110204556376\n"
     ]
    },
    {
     "data": {
      "image/png": "[encoded data removed]",
      "text/plain": [
       "<Figure size 432x288 with 1 Axes>"
      ]
     },
     "metadata": {
      "needs_background": "light"
     },
     "output_type": "display_data"
    }
   ],
   "source": [
    "data_ps4 = data_act.query('platform == \"PS4\"')\n",
    "data_ps4.plot(y='sum_sales', x='user_score', \n",
    "                                         kind='scatter', alpha=0.5, \n",
    "                                         title='Влияние продаж от оценки пользователей')\n",
    "plt.xlabel('Оценка')\n",
    "plt.ylabel('Продажи');\n",
    "plt.show\n",
    "print('Корреляция:', data_ps4['sum_sales'].corr(data_ps4['user_score']))"
   ]
  },
  {
   "cell_type": "code",
   "execution_count": 36,
   "metadata": {},
   "outputs": [
    {
     "name": "stdout",
     "output_type": "stream",
     "text": [
      "Корреляция: 0.406567902061781\n"
     ]
    },
    {
     "data": {
      "image/png": "[encoded data removed]",
      "text/plain": [
       "<Figure size 432x288 with 1 Axes>"
      ]
     },
     "metadata": {
      "needs_background": "light"
     },
     "output_type": "display_data"
    }
   ],
   "source": [
    "data_ps4 = data_act.query('platform == \"PS4\"')\n",
    "data_ps4.plot(y='sum_sales', x='critic_score', \n",
    "                                         kind='scatter', alpha=0.5, \n",
    "                                         title='Влияние продаж от оценки критиков')\n",
    "plt.xlabel('Оценка')\n",
    "plt.ylabel('Продажи');\n",
    "plt.show\n",
    "print('Корреляция:', data_ps4['sum_sales'].corr(data_ps4['critic_score']))"
   ]
  },
  {
   "cell_type": "markdown",
   "metadata": {},
   "source": [
    "Так же посмотрим данные по PS3:"
   ]
  },
  {
   "cell_type": "code",
   "execution_count": 37,
   "metadata": {},
   "outputs": [
    {
     "name": "stdout",
     "output_type": "stream",
     "text": [
      "Корреляция: 0.3341517575509856\n"
     ]
    },
    {
     "data": {
      "image/png": "[encoded data removed]",
      "text/plain": [
       "<Figure size 432x288 with 1 Axes>"
      ]
     },
     "metadata": {
      "needs_background": "light"
     },
     "output_type": "display_data"
    }
   ],
   "source": [
    "data_ps3 = data_act.query('platform == \"PS3\"')\n",
    "data_ps3.plot(y='sum_sales', x='critic_score', \n",
    "                                         kind='scatter', alpha=0.5, \n",
    "                                         title='Влияние продаж от оценки критиков')\n",
    "plt.xlabel('Оценка')\n",
    "plt.ylabel('Продажи');\n",
    "plt.show\n",
    "print('Корреляция:', data_ps3['sum_sales'].corr(data_ps3['critic_score']))"
   ]
  },
  {
   "cell_type": "markdown",
   "metadata": {},
   "source": [
    "***Вывод:*** Оценка пользователе практически не имеет влияния на продажи, тогда как оценка критиков имеет большее влияние, но тоже не столь высокое. Однако стоит заметить, что выбросы в виде более продаваемых игр находятся справой стороны, то есть имеет большую оценку, у пользователей больше 6, а у критиков больше 60."
   ]
  },
  {
   "cell_type": "markdown",
   "metadata": {},
   "source": [
    "### Распределение игр по жанрам"
   ]
  },
  {
   "cell_type": "code",
   "execution_count": 38,
   "metadata": {},
   "outputs": [
    {
     "data": {
      "image/png": "[encoded data removed]",
      "text/plain": [
       "<Figure size 432x288 with 1 Axes>"
      ]
     },
     "metadata": {
      "needs_background": "light"
     },
     "output_type": "display_data"
    }
   ],
   "source": [
    "data_act.groupby(by='genre')['sum_sales'].sum().sort_values().plot(kind='barh', title='Расределение жанров по продажам')\n",
    "plt.xlabel('Продажи')\n",
    "plt.ylabel('Жанр');"
   ]
  },
  {
   "cell_type": "code",
   "execution_count": 39,
   "metadata": {},
   "outputs": [
    {
     "data": {
      "image/png": "[encoded data removed]",
      "text/plain": [
       "<Figure size 432x288 with 1 Axes>"
      ]
     },
     "metadata": {
      "needs_background": "light"
     },
     "output_type": "display_data"
    }
   ],
   "source": [
    "data_act.groupby(by='genre')['genre'].count().sort_values().plot(kind='barh', title='Расределение жанров по количеству')\n",
    "plt.xlabel('Количество')\n",
    "plt.ylabel('Жанр');"
   ]
  },
  {
   "cell_type": "code",
   "execution_count": 40,
   "metadata": {},
   "outputs": [
    {
     "data": {
      "text/html": [
       "<div>\n",
       "<style scoped>\n",
       "    .dataframe tbody tr th:only-of-type {\n",
       "        vertical-align: middle;\n",
       "    }\n",
       "\n",
       "    .dataframe tbody tr th {\n",
       "        vertical-align: top;\n",
       "    }\n",
       "\n",
       "    .dataframe thead th {\n",
       "        text-align: right;\n",
       "    }\n",
       "</style>\n",
       "<table border=\"1\" class=\"dataframe\">\n",
       "  <thead>\n",
       "    <tr style=\"text-align: right;\">\n",
       "      <th></th>\n",
       "      <th>sum</th>\n",
       "      <th>mean</th>\n",
       "      <th>median</th>\n",
       "    </tr>\n",
       "    <tr>\n",
       "      <th>genre</th>\n",
       "      <th></th>\n",
       "      <th></th>\n",
       "      <th></th>\n",
       "    </tr>\n",
       "  </thead>\n",
       "  <tbody>\n",
       "    <tr>\n",
       "      <th>Shooter</th>\n",
       "      <td>304.73</td>\n",
       "      <td>1.296723</td>\n",
       "      <td>0.440</td>\n",
       "    </tr>\n",
       "    <tr>\n",
       "      <th>Platform</th>\n",
       "      <td>61.00</td>\n",
       "      <td>0.717647</td>\n",
       "      <td>0.210</td>\n",
       "    </tr>\n",
       "    <tr>\n",
       "      <th>Sports</th>\n",
       "      <td>181.06</td>\n",
       "      <td>0.678127</td>\n",
       "      <td>0.240</td>\n",
       "    </tr>\n",
       "    <tr>\n",
       "      <th>Role-Playing</th>\n",
       "      <td>192.80</td>\n",
       "      <td>0.521081</td>\n",
       "      <td>0.140</td>\n",
       "    </tr>\n",
       "    <tr>\n",
       "      <th>Racing</th>\n",
       "      <td>53.50</td>\n",
       "      <td>0.465217</td>\n",
       "      <td>0.140</td>\n",
       "    </tr>\n",
       "    <tr>\n",
       "      <th>Misc</th>\n",
       "      <td>85.04</td>\n",
       "      <td>0.442917</td>\n",
       "      <td>0.120</td>\n",
       "    </tr>\n",
       "    <tr>\n",
       "      <th>Simulation</th>\n",
       "      <td>35.12</td>\n",
       "      <td>0.439000</td>\n",
       "      <td>0.120</td>\n",
       "    </tr>\n",
       "    <tr>\n",
       "      <th>Action</th>\n",
       "      <td>441.12</td>\n",
       "      <td>0.427856</td>\n",
       "      <td>0.120</td>\n",
       "    </tr>\n",
       "    <tr>\n",
       "      <th>Fighting</th>\n",
       "      <td>44.49</td>\n",
       "      <td>0.408165</td>\n",
       "      <td>0.130</td>\n",
       "    </tr>\n",
       "    <tr>\n",
       "      <th>Strategy</th>\n",
       "      <td>13.34</td>\n",
       "      <td>0.187887</td>\n",
       "      <td>0.080</td>\n",
       "    </tr>\n",
       "    <tr>\n",
       "      <th>Puzzle</th>\n",
       "      <td>4.89</td>\n",
       "      <td>0.174643</td>\n",
       "      <td>0.045</td>\n",
       "    </tr>\n",
       "    <tr>\n",
       "      <th>Adventure</th>\n",
       "      <td>29.43</td>\n",
       "      <td>0.097450</td>\n",
       "      <td>0.030</td>\n",
       "    </tr>\n",
       "  </tbody>\n",
       "</table>\n",
       "</div>"
      ],
      "text/plain": [
       "                 sum      mean  median\n",
       "genre                                 \n",
       "Shooter       304.73  1.296723   0.440\n",
       "Platform       61.00  0.717647   0.210\n",
       "Sports        181.06  0.678127   0.240\n",
       "Role-Playing  192.80  0.521081   0.140\n",
       "Racing         53.50  0.465217   0.140\n",
       "Misc           85.04  0.442917   0.120\n",
       "Simulation     35.12  0.439000   0.120\n",
       "Action        441.12  0.427856   0.120\n",
       "Fighting       44.49  0.408165   0.130\n",
       "Strategy       13.34  0.187887   0.080\n",
       "Puzzle          4.89  0.174643   0.045\n",
       "Adventure      29.43  0.097450   0.030"
      ]
     },
     "execution_count": 40,
     "metadata": {},
     "output_type": "execute_result"
    }
   ],
   "source": [
    "data_genre = data_act.pivot_table(index='genre', values='sum_sales', aggfunc=['sum', 'mean', 'median'])\n",
    "data_genre.columns = ['sum', 'mean', 'median']\n",
    "data_genre.sort_values(by='mean', ascending=False)"
   ]
  },
  {
   "cell_type": "markdown",
   "metadata": {},
   "source": [
    "***Вывод:*** Наиболее продаваемыми жанрами признаем Shooter, Platform и Sports"
   ]
  },
  {
   "cell_type": "markdown",
   "metadata": {},
   "source": [
    "## Портреты пользователей по регионам"
   ]
  },
  {
   "cell_type": "markdown",
   "metadata": {},
   "source": [
    "### Северная Америка (NA)"
   ]
  },
  {
   "cell_type": "markdown",
   "metadata": {},
   "source": [
    "***Топ-5 платформ***"
   ]
  },
  {
   "cell_type": "code",
   "execution_count": 41,
   "metadata": {},
   "outputs": [
    {
     "data": {
      "text/html": [
       "<div>\n",
       "<style scoped>\n",
       "    .dataframe tbody tr th:only-of-type {\n",
       "        vertical-align: middle;\n",
       "    }\n",
       "\n",
       "    .dataframe tbody tr th {\n",
       "        vertical-align: top;\n",
       "    }\n",
       "\n",
       "    .dataframe thead th {\n",
       "        text-align: right;\n",
       "    }\n",
       "</style>\n",
       "<table border=\"1\" class=\"dataframe\">\n",
       "  <thead>\n",
       "    <tr style=\"text-align: right;\">\n",
       "      <th></th>\n",
       "      <th>na_sales</th>\n",
       "    </tr>\n",
       "    <tr>\n",
       "      <th>platform</th>\n",
       "      <th></th>\n",
       "    </tr>\n",
       "  </thead>\n",
       "  <tbody>\n",
       "    <tr>\n",
       "      <th>X360</th>\n",
       "      <td>140.05</td>\n",
       "    </tr>\n",
       "    <tr>\n",
       "      <th>PS4</th>\n",
       "      <td>108.74</td>\n",
       "    </tr>\n",
       "    <tr>\n",
       "      <th>PS3</th>\n",
       "      <td>103.38</td>\n",
       "    </tr>\n",
       "    <tr>\n",
       "      <th>XOne</th>\n",
       "      <td>93.12</td>\n",
       "    </tr>\n",
       "    <tr>\n",
       "      <th>3DS</th>\n",
       "      <td>55.31</td>\n",
       "    </tr>\n",
       "  </tbody>\n",
       "</table>\n",
       "</div>"
      ],
      "text/plain": [
       "          na_sales\n",
       "platform          \n",
       "X360        140.05\n",
       "PS4         108.74\n",
       "PS3         103.38\n",
       "XOne         93.12\n",
       "3DS          55.31"
      ]
     },
     "execution_count": 41,
     "metadata": {},
     "output_type": "execute_result"
    }
   ],
   "source": [
    "data_act.pivot_table(index='platform', values='na_sales', \n",
    "                     aggfunc='sum').sort_values(\n",
    "                     by='na_sales', ascending=False).head(5)"
   ]
  },
  {
   "cell_type": "markdown",
   "metadata": {},
   "source": [
    "***Топ-5 жанров***"
   ]
  },
  {
   "cell_type": "code",
   "execution_count": 42,
   "metadata": {},
   "outputs": [
    {
     "data": {
      "text/html": [
       "<div>\n",
       "<style scoped>\n",
       "    .dataframe tbody tr th:only-of-type {\n",
       "        vertical-align: middle;\n",
       "    }\n",
       "\n",
       "    .dataframe tbody tr th {\n",
       "        vertical-align: top;\n",
       "    }\n",
       "\n",
       "    .dataframe thead th {\n",
       "        text-align: right;\n",
       "    }\n",
       "</style>\n",
       "<table border=\"1\" class=\"dataframe\">\n",
       "  <thead>\n",
       "    <tr style=\"text-align: right;\">\n",
       "      <th></th>\n",
       "      <th>na_sales</th>\n",
       "    </tr>\n",
       "    <tr>\n",
       "      <th>genre</th>\n",
       "      <th></th>\n",
       "    </tr>\n",
       "  </thead>\n",
       "  <tbody>\n",
       "    <tr>\n",
       "      <th>Action</th>\n",
       "      <td>177.84</td>\n",
       "    </tr>\n",
       "    <tr>\n",
       "      <th>Shooter</th>\n",
       "      <td>144.77</td>\n",
       "    </tr>\n",
       "    <tr>\n",
       "      <th>Sports</th>\n",
       "      <td>81.53</td>\n",
       "    </tr>\n",
       "    <tr>\n",
       "      <th>Role-Playing</th>\n",
       "      <td>64.00</td>\n",
       "    </tr>\n",
       "    <tr>\n",
       "      <th>Misc</th>\n",
       "      <td>38.19</td>\n",
       "    </tr>\n",
       "  </tbody>\n",
       "</table>\n",
       "</div>"
      ],
      "text/plain": [
       "              na_sales\n",
       "genre                 \n",
       "Action          177.84\n",
       "Shooter         144.77\n",
       "Sports           81.53\n",
       "Role-Playing     64.00\n",
       "Misc             38.19"
      ]
     },
     "execution_count": 42,
     "metadata": {},
     "output_type": "execute_result"
    }
   ],
   "source": [
    "data_act.pivot_table(index='genre', values='na_sales', \n",
    "                     aggfunc='sum').sort_values(\n",
    "                     by='na_sales', ascending=False).head(5)"
   ]
  },
  {
   "cell_type": "markdown",
   "metadata": {},
   "source": [
    "***Рейтинг ESRB***"
   ]
  },
  {
   "cell_type": "code",
   "execution_count": 43,
   "metadata": {},
   "outputs": [
    {
     "data": {
      "text/html": [
       "<div>\n",
       "<style scoped>\n",
       "    .dataframe tbody tr th:only-of-type {\n",
       "        vertical-align: middle;\n",
       "    }\n",
       "\n",
       "    .dataframe tbody tr th {\n",
       "        vertical-align: top;\n",
       "    }\n",
       "\n",
       "    .dataframe thead th {\n",
       "        text-align: right;\n",
       "    }\n",
       "</style>\n",
       "<table border=\"1\" class=\"dataframe\">\n",
       "  <thead>\n",
       "    <tr style=\"text-align: right;\">\n",
       "      <th></th>\n",
       "      <th>na_sales</th>\n",
       "    </tr>\n",
       "    <tr>\n",
       "      <th>rating</th>\n",
       "      <th></th>\n",
       "    </tr>\n",
       "  </thead>\n",
       "  <tbody>\n",
       "    <tr>\n",
       "      <th>M</th>\n",
       "      <td>231.57</td>\n",
       "    </tr>\n",
       "    <tr>\n",
       "      <th>E</th>\n",
       "      <td>114.37</td>\n",
       "    </tr>\n",
       "    <tr>\n",
       "      <th>E10+</th>\n",
       "      <td>75.70</td>\n",
       "    </tr>\n",
       "    <tr>\n",
       "      <th>T</th>\n",
       "      <td>66.02</td>\n",
       "    </tr>\n",
       "  </tbody>\n",
       "</table>\n",
       "</div>"
      ],
      "text/plain": [
       "        na_sales\n",
       "rating          \n",
       "M         231.57\n",
       "E         114.37\n",
       "E10+       75.70\n",
       "T          66.02"
      ]
     },
     "execution_count": 43,
     "metadata": {},
     "output_type": "execute_result"
    }
   ],
   "source": [
    "data_act.pivot_table(index='rating', values='na_sales', \n",
    "                     aggfunc='sum').sort_values(\n",
    "                     by='na_sales', ascending=False)"
   ]
  },
  {
   "cell_type": "code",
   "execution_count": 44,
   "metadata": {},
   "outputs": [
    {
     "data": {
      "image/png": "[encoded data removed]",
      "text/plain": [
       "<Figure size 432x288 with 1 Axes>"
      ]
     },
     "metadata": {
      "needs_background": "light"
     },
     "output_type": "display_data"
    },
    {
     "data": {
      "image/png": "[encoded data removed]",
      "text/plain": [
       "<Figure size 432x288 with 1 Axes>"
      ]
     },
     "metadata": {
      "needs_background": "light"
     },
     "output_type": "display_data"
    },
    {
     "data": {
      "image/png": "[encoded data removed]",
      "text/plain": [
       "<Figure size 432x288 with 1 Axes>"
      ]
     },
     "metadata": {
      "needs_background": "light"
     },
     "output_type": "display_data"
    }
   ],
   "source": [
    "data_act.pivot_table(index='platform', values='na_sales', \n",
    "                     aggfunc='sum').sort_values(\n",
    "                     by='na_sales', ascending=False).plot(kind='bar')\n",
    "\n",
    "data_act.pivot_table(index='genre', values='na_sales', \n",
    "                     aggfunc='sum').sort_values(\n",
    "                     by='na_sales', ascending=False).plot(kind='bar')\n",
    "\n",
    "data_act.pivot_table(index='rating', values='na_sales', \n",
    "                     aggfunc='sum').sort_values(\n",
    "                     by='na_sales', ascending=False).plot(kind='bar');"
   ]
  },
  {
   "cell_type": "markdown",
   "metadata": {},
   "source": [
    "***Вывод:***\n",
    "- Пятью наиболее популярными платформами стали X360, PS4, PS3, XOne, 3DS. Разница между платформами не велика.\n",
    "-  В Северной америке предпочитают больше следующие жанры игр: Action, Sports, Shooter, Misc, Role-Playing. \n",
    "- По данным чаще всего играют в игры с рейтингом M(старше 17 лет) и для всех возрастных категорий. Наблюдается большой разрыв между этими категориями."
   ]
  },
  {
   "cell_type": "markdown",
   "metadata": {},
   "source": [
    "### Европа (EU)"
   ]
  },
  {
   "cell_type": "markdown",
   "metadata": {},
   "source": [
    "***Топ-5 платформ***"
   ]
  },
  {
   "cell_type": "code",
   "execution_count": 45,
   "metadata": {},
   "outputs": [
    {
     "data": {
      "text/html": [
       "<div>\n",
       "<style scoped>\n",
       "    .dataframe tbody tr th:only-of-type {\n",
       "        vertical-align: middle;\n",
       "    }\n",
       "\n",
       "    .dataframe tbody tr th {\n",
       "        vertical-align: top;\n",
       "    }\n",
       "\n",
       "    .dataframe thead th {\n",
       "        text-align: right;\n",
       "    }\n",
       "</style>\n",
       "<table border=\"1\" class=\"dataframe\">\n",
       "  <thead>\n",
       "    <tr style=\"text-align: right;\">\n",
       "      <th></th>\n",
       "      <th>eu_sales</th>\n",
       "    </tr>\n",
       "    <tr>\n",
       "      <th>platform</th>\n",
       "      <th></th>\n",
       "    </tr>\n",
       "  </thead>\n",
       "  <tbody>\n",
       "    <tr>\n",
       "      <th>PS4</th>\n",
       "      <td>141.09</td>\n",
       "    </tr>\n",
       "    <tr>\n",
       "      <th>PS3</th>\n",
       "      <td>106.85</td>\n",
       "    </tr>\n",
       "    <tr>\n",
       "      <th>X360</th>\n",
       "      <td>74.52</td>\n",
       "    </tr>\n",
       "    <tr>\n",
       "      <th>XOne</th>\n",
       "      <td>51.59</td>\n",
       "    </tr>\n",
       "    <tr>\n",
       "      <th>3DS</th>\n",
       "      <td>42.64</td>\n",
       "    </tr>\n",
       "  </tbody>\n",
       "</table>\n",
       "</div>"
      ],
      "text/plain": [
       "          eu_sales\n",
       "platform          \n",
       "PS4         141.09\n",
       "PS3         106.85\n",
       "X360         74.52\n",
       "XOne         51.59\n",
       "3DS          42.64"
      ]
     },
     "execution_count": 45,
     "metadata": {},
     "output_type": "execute_result"
    }
   ],
   "source": [
    "data_act.pivot_table(index='platform', values='eu_sales', \n",
    "                     aggfunc='sum').sort_values(\n",
    "                     by='eu_sales', ascending=False).head(5)"
   ]
  },
  {
   "cell_type": "markdown",
   "metadata": {},
   "source": [
    "***Топ-5 жанров***"
   ]
  },
  {
   "cell_type": "code",
   "execution_count": 46,
   "metadata": {},
   "outputs": [
    {
     "data": {
      "text/html": [
       "<div>\n",
       "<style scoped>\n",
       "    .dataframe tbody tr th:only-of-type {\n",
       "        vertical-align: middle;\n",
       "    }\n",
       "\n",
       "    .dataframe tbody tr th {\n",
       "        vertical-align: top;\n",
       "    }\n",
       "\n",
       "    .dataframe thead th {\n",
       "        text-align: right;\n",
       "    }\n",
       "</style>\n",
       "<table border=\"1\" class=\"dataframe\">\n",
       "  <thead>\n",
       "    <tr style=\"text-align: right;\">\n",
       "      <th></th>\n",
       "      <th>eu_sales</th>\n",
       "    </tr>\n",
       "    <tr>\n",
       "      <th>genre</th>\n",
       "      <th></th>\n",
       "    </tr>\n",
       "  </thead>\n",
       "  <tbody>\n",
       "    <tr>\n",
       "      <th>Action</th>\n",
       "      <td>159.34</td>\n",
       "    </tr>\n",
       "    <tr>\n",
       "      <th>Shooter</th>\n",
       "      <td>113.47</td>\n",
       "    </tr>\n",
       "    <tr>\n",
       "      <th>Sports</th>\n",
       "      <td>69.08</td>\n",
       "    </tr>\n",
       "    <tr>\n",
       "      <th>Role-Playing</th>\n",
       "      <td>48.53</td>\n",
       "    </tr>\n",
       "    <tr>\n",
       "      <th>Racing</th>\n",
       "      <td>27.29</td>\n",
       "    </tr>\n",
       "  </tbody>\n",
       "</table>\n",
       "</div>"
      ],
      "text/plain": [
       "              eu_sales\n",
       "genre                 \n",
       "Action          159.34\n",
       "Shooter         113.47\n",
       "Sports           69.08\n",
       "Role-Playing     48.53\n",
       "Racing           27.29"
      ]
     },
     "execution_count": 46,
     "metadata": {},
     "output_type": "execute_result"
    }
   ],
   "source": [
    "data_act.pivot_table(index='genre', values='eu_sales', \n",
    "                     aggfunc='sum').sort_values(\n",
    "                     by='eu_sales', ascending=False).head(5)"
   ]
  },
  {
   "cell_type": "markdown",
   "metadata": {},
   "source": [
    "***Рейтинг ESRB***"
   ]
  },
  {
   "cell_type": "code",
   "execution_count": 47,
   "metadata": {},
   "outputs": [
    {
     "data": {
      "text/html": [
       "<div>\n",
       "<style scoped>\n",
       "    .dataframe tbody tr th:only-of-type {\n",
       "        vertical-align: middle;\n",
       "    }\n",
       "\n",
       "    .dataframe tbody tr th {\n",
       "        vertical-align: top;\n",
       "    }\n",
       "\n",
       "    .dataframe thead th {\n",
       "        text-align: right;\n",
       "    }\n",
       "</style>\n",
       "<table border=\"1\" class=\"dataframe\">\n",
       "  <thead>\n",
       "    <tr style=\"text-align: right;\">\n",
       "      <th></th>\n",
       "      <th>eu_sales</th>\n",
       "    </tr>\n",
       "    <tr>\n",
       "      <th>rating</th>\n",
       "      <th></th>\n",
       "    </tr>\n",
       "  </thead>\n",
       "  <tbody>\n",
       "    <tr>\n",
       "      <th>M</th>\n",
       "      <td>193.96</td>\n",
       "    </tr>\n",
       "    <tr>\n",
       "      <th>E</th>\n",
       "      <td>113.02</td>\n",
       "    </tr>\n",
       "    <tr>\n",
       "      <th>E10+</th>\n",
       "      <td>55.37</td>\n",
       "    </tr>\n",
       "    <tr>\n",
       "      <th>T</th>\n",
       "      <td>52.96</td>\n",
       "    </tr>\n",
       "  </tbody>\n",
       "</table>\n",
       "</div>"
      ],
      "text/plain": [
       "        eu_sales\n",
       "rating          \n",
       "M         193.96\n",
       "E         113.02\n",
       "E10+       55.37\n",
       "T          52.96"
      ]
     },
     "execution_count": 47,
     "metadata": {},
     "output_type": "execute_result"
    }
   ],
   "source": [
    "data_act.pivot_table(index='rating', values='eu_sales', \n",
    "                     aggfunc='sum').sort_values(\n",
    "                     by='eu_sales', ascending=False)"
   ]
  },
  {
   "cell_type": "code",
   "execution_count": 48,
   "metadata": {},
   "outputs": [
    {
     "data": {
      "image/png": "[encoded data removed]",
      "text/plain": [
       "<Figure size 432x288 with 1 Axes>"
      ]
     },
     "metadata": {
      "needs_background": "light"
     },
     "output_type": "display_data"
    },
    {
     "data": {
      "image/png": "[encoded data removed]",
      "text/plain": [
       "<Figure size 432x288 with 1 Axes>"
      ]
     },
     "metadata": {
      "needs_background": "light"
     },
     "output_type": "display_data"
    },
    {
     "data": {
      "image/png": "[encoded data removed]",
      "text/plain": [
       "<Figure size 432x288 with 1 Axes>"
      ]
     },
     "metadata": {
      "needs_background": "light"
     },
     "output_type": "display_data"
    }
   ],
   "source": [
    "data_act.pivot_table(index='platform', values='eu_sales', \n",
    "                     aggfunc='sum').sort_values(\n",
    "                     by='eu_sales', ascending=False).plot(kind='bar')\n",
    "\n",
    "data_act.pivot_table(index='genre', values='eu_sales', \n",
    "                     aggfunc='sum').sort_values(\n",
    "                     by='eu_sales', ascending=False).plot(kind='bar')\n",
    "\n",
    "data_act.pivot_table(index='rating', values='eu_sales', \n",
    "                     aggfunc='sum').sort_values(\n",
    "                     by='eu_sales', ascending=False).plot(kind='bar');"
   ]
  },
  {
   "cell_type": "markdown",
   "metadata": {},
   "source": [
    "***Вывод:***\n",
    "- Топ-5 платформ почти не изменились: PS3, X360, Wii, DS, PS4. Разрыв между ними так же не велик.\n",
    "- Топ-5 жанров тоже схожи: Action, Shooter, Sports, Role-Playing, Racing\n",
    "- По данным чаще всего играют в игры с рейтингом M(старше 17 лет) и для всех возрастных категорий. Наблюдается большой разрыв между этими категориями."
   ]
  },
  {
   "cell_type": "markdown",
   "metadata": {},
   "source": [
    "### Япония (JP)"
   ]
  },
  {
   "cell_type": "markdown",
   "metadata": {},
   "source": [
    "***Топ-5 платформ***"
   ]
  },
  {
   "cell_type": "code",
   "execution_count": 49,
   "metadata": {},
   "outputs": [
    {
     "data": {
      "text/html": [
       "<div>\n",
       "<style scoped>\n",
       "    .dataframe tbody tr th:only-of-type {\n",
       "        vertical-align: middle;\n",
       "    }\n",
       "\n",
       "    .dataframe tbody tr th {\n",
       "        vertical-align: top;\n",
       "    }\n",
       "\n",
       "    .dataframe thead th {\n",
       "        text-align: right;\n",
       "    }\n",
       "</style>\n",
       "<table border=\"1\" class=\"dataframe\">\n",
       "  <thead>\n",
       "    <tr style=\"text-align: right;\">\n",
       "      <th></th>\n",
       "      <th>jp_sales</th>\n",
       "    </tr>\n",
       "    <tr>\n",
       "      <th>platform</th>\n",
       "      <th></th>\n",
       "    </tr>\n",
       "  </thead>\n",
       "  <tbody>\n",
       "    <tr>\n",
       "      <th>3DS</th>\n",
       "      <td>87.79</td>\n",
       "    </tr>\n",
       "    <tr>\n",
       "      <th>PS3</th>\n",
       "      <td>35.29</td>\n",
       "    </tr>\n",
       "    <tr>\n",
       "      <th>PSV</th>\n",
       "      <td>21.04</td>\n",
       "    </tr>\n",
       "    <tr>\n",
       "      <th>PS4</th>\n",
       "      <td>15.96</td>\n",
       "    </tr>\n",
       "    <tr>\n",
       "      <th>WiiU</th>\n",
       "      <td>13.01</td>\n",
       "    </tr>\n",
       "  </tbody>\n",
       "</table>\n",
       "</div>"
      ],
      "text/plain": [
       "          jp_sales\n",
       "platform          \n",
       "3DS          87.79\n",
       "PS3          35.29\n",
       "PSV          21.04\n",
       "PS4          15.96\n",
       "WiiU         13.01"
      ]
     },
     "execution_count": 49,
     "metadata": {},
     "output_type": "execute_result"
    }
   ],
   "source": [
    "data_act.pivot_table(index='platform', values='jp_sales', \n",
    "                     aggfunc='sum').sort_values(\n",
    "                     by='jp_sales', ascending=False).head(5)"
   ]
  },
  {
   "cell_type": "markdown",
   "metadata": {},
   "source": [
    "***Топ-5 жанров***"
   ]
  },
  {
   "cell_type": "code",
   "execution_count": 50,
   "metadata": {},
   "outputs": [
    {
     "data": {
      "text/html": [
       "<div>\n",
       "<style scoped>\n",
       "    .dataframe tbody tr th:only-of-type {\n",
       "        vertical-align: middle;\n",
       "    }\n",
       "\n",
       "    .dataframe tbody tr th {\n",
       "        vertical-align: top;\n",
       "    }\n",
       "\n",
       "    .dataframe thead th {\n",
       "        text-align: right;\n",
       "    }\n",
       "</style>\n",
       "<table border=\"1\" class=\"dataframe\">\n",
       "  <thead>\n",
       "    <tr style=\"text-align: right;\">\n",
       "      <th></th>\n",
       "      <th>jp_sales</th>\n",
       "    </tr>\n",
       "    <tr>\n",
       "      <th>genre</th>\n",
       "      <th></th>\n",
       "    </tr>\n",
       "  </thead>\n",
       "  <tbody>\n",
       "    <tr>\n",
       "      <th>Role-Playing</th>\n",
       "      <td>65.44</td>\n",
       "    </tr>\n",
       "    <tr>\n",
       "      <th>Action</th>\n",
       "      <td>52.80</td>\n",
       "    </tr>\n",
       "    <tr>\n",
       "      <th>Misc</th>\n",
       "      <td>12.86</td>\n",
       "    </tr>\n",
       "    <tr>\n",
       "      <th>Simulation</th>\n",
       "      <td>10.41</td>\n",
       "    </tr>\n",
       "    <tr>\n",
       "      <th>Fighting</th>\n",
       "      <td>9.44</td>\n",
       "    </tr>\n",
       "  </tbody>\n",
       "</table>\n",
       "</div>"
      ],
      "text/plain": [
       "              jp_sales\n",
       "genre                 \n",
       "Role-Playing     65.44\n",
       "Action           52.80\n",
       "Misc             12.86\n",
       "Simulation       10.41\n",
       "Fighting          9.44"
      ]
     },
     "execution_count": 50,
     "metadata": {},
     "output_type": "execute_result"
    }
   ],
   "source": [
    "data_act.pivot_table(index='genre', values='jp_sales', \n",
    "                     aggfunc='sum').sort_values(\n",
    "                     by='jp_sales', ascending=False).head(5)"
   ]
  },
  {
   "cell_type": "markdown",
   "metadata": {},
   "source": [
    "***Рейтинг ESRB***"
   ]
  },
  {
   "cell_type": "code",
   "execution_count": 51,
   "metadata": {},
   "outputs": [
    {
     "data": {
      "text/html": [
       "<div>\n",
       "<style scoped>\n",
       "    .dataframe tbody tr th:only-of-type {\n",
       "        vertical-align: middle;\n",
       "    }\n",
       "\n",
       "    .dataframe tbody tr th {\n",
       "        vertical-align: top;\n",
       "    }\n",
       "\n",
       "    .dataframe thead th {\n",
       "        text-align: right;\n",
       "    }\n",
       "</style>\n",
       "<table border=\"1\" class=\"dataframe\">\n",
       "  <thead>\n",
       "    <tr style=\"text-align: right;\">\n",
       "      <th></th>\n",
       "      <th>jp_sales</th>\n",
       "    </tr>\n",
       "    <tr>\n",
       "      <th>rating</th>\n",
       "      <th></th>\n",
       "    </tr>\n",
       "  </thead>\n",
       "  <tbody>\n",
       "    <tr>\n",
       "      <th>E</th>\n",
       "      <td>28.33</td>\n",
       "    </tr>\n",
       "    <tr>\n",
       "      <th>T</th>\n",
       "      <td>26.02</td>\n",
       "    </tr>\n",
       "    <tr>\n",
       "      <th>M</th>\n",
       "      <td>21.20</td>\n",
       "    </tr>\n",
       "    <tr>\n",
       "      <th>E10+</th>\n",
       "      <td>8.19</td>\n",
       "    </tr>\n",
       "  </tbody>\n",
       "</table>\n",
       "</div>"
      ],
      "text/plain": [
       "        jp_sales\n",
       "rating          \n",
       "E          28.33\n",
       "T          26.02\n",
       "M          21.20\n",
       "E10+        8.19"
      ]
     },
     "execution_count": 51,
     "metadata": {},
     "output_type": "execute_result"
    }
   ],
   "source": [
    "data_act.pivot_table(index='rating', values='jp_sales', \n",
    "                     aggfunc='sum').sort_values(\n",
    "                     by='jp_sales', ascending=False)"
   ]
  },
  {
   "cell_type": "code",
   "execution_count": 52,
   "metadata": {},
   "outputs": [
    {
     "data": {
      "image/png": "[encoded data removed]",
      "text/plain": [
       "<Figure size 432x288 with 1 Axes>"
      ]
     },
     "metadata": {
      "needs_background": "light"
     },
     "output_type": "display_data"
    },
    {
     "data": {
      "image/png": "[encoded data removed]",
      "text/plain": [
       "<Figure size 432x288 with 1 Axes>"
      ]
     },
     "metadata": {
      "needs_background": "light"
     },
     "output_type": "display_data"
    },
    {
     "data": {
      "image/png": "[encoded data removed]",
      "text/plain": [
       "<Figure size 432x288 with 1 Axes>"
      ]
     },
     "metadata": {
      "needs_background": "light"
     },
     "output_type": "display_data"
    }
   ],
   "source": [
    "data_act.pivot_table(index='platform', values='jp_sales', \n",
    "                     aggfunc='sum').sort_values(\n",
    "                     by='jp_sales', ascending=False).plot(kind='bar')\n",
    "\n",
    "data_act.pivot_table(index='genre', values='jp_sales', \n",
    "                     aggfunc='sum').sort_values(\n",
    "                     by='jp_sales', ascending=False).plot(kind='bar')\n",
    "\n",
    "data_act.pivot_table(index='rating', values='jp_sales', \n",
    "                     aggfunc='sum').sort_values(\n",
    "                     by='jp_sales', ascending=False).plot(kind='bar');"
   ]
  },
  {
   "cell_type": "markdown",
   "metadata": {},
   "source": [
    "***Вывод:***\n",
    "Здесь картина уже различается, что говорит об \"особенность рынка\"\n",
    "- Топ-5 платформ: 3DS, PS3, PSV, PS4, WiiU. Разрыв так же небольшой, но уже наблюдаем более скромные цифры.\n",
    "- Топ-5 жанров: Role-Playing, Action, Misc, Simulation, Fighting. Невероятно, но вопреки всем экшн был смещен на второе место. Есть большой разрыв между двумя лидерами Role-Playing, Action и остальными жанрами. \n",
    "- В рейтенге здесь лидируют уже три категории E (для всех возрастных категорий), T (старше 13 лет), M (старше 17 лет).\n",
    "\n"
   ]
  },
  {
   "cell_type": "markdown",
   "metadata": {},
   "source": [
    "## Статистический анализ"
   ]
  },
  {
   "cell_type": "markdown",
   "metadata": {},
   "source": [
    "### Рейтинги платформ"
   ]
  },
  {
   "cell_type": "markdown",
   "metadata": {},
   "source": [
    "Сформулируем нолевую гипотеху исходя из задачи, исполузя знак равенства. Так как дополнительный вводных нет, то альтернативная будет содержание обратное от нулевой, то есть неравенство:\n",
    "\n",
    "- H₀ - средние пользовательские рейтинги платформ Xbox One и PC равны;\n",
    "- H₁ - средние пользовательские рейтинги платформ Xbox One и PC не равны.\n",
    "\n",
    "Для проверки гипотизы используем t-тест:"
   ]
  },
  {
   "cell_type": "code",
   "execution_count": 53,
   "metadata": {},
   "outputs": [
    {
     "name": "stdout",
     "output_type": "stream",
     "text": [
      "p-значение: 0.5535080500643661\n",
      "Не получилось отвергнуть нулевую гипотезу\n",
      "Cредний пользовательский рейтинг Xbox One: 6.52\n",
      "Cредний пользовательский рейтинг PC: 6.43\n"
     ]
    }
   ],
   "source": [
    "alpha = 0.05\n",
    "\n",
    "\n",
    "data_xbox = data_act[(data_act['platform'] == 'XOne') & (data_act['user_score'] > 0)]['user_score']\n",
    "data_pc = data_act[(data_act['platform'] == 'PC') & (data_act['user_score'] > 0)]['user_score']\n",
    "\n",
    "results = st.ttest_ind(data_xbox, data_pc)\n",
    "\n",
    "print('p-значение:', results.pvalue)\n",
    "\n",
    "if (results.pvalue < alpha):\n",
    "    print(\"Отвергаем нулевую гипотезу\")\n",
    "else:\n",
    "    print(\"Не получилось отвергнуть нулевую гипотезу\")\n",
    "       \n",
    "print('Cредний пользовательский рейтинг Xbox One:', data_xbox.mean().round(2))\n",
    "print('Cредний пользовательский рейтинг PC:', data_pc.mean().round(2))"
   ]
  },
  {
   "cell_type": "markdown",
   "metadata": {},
   "source": [
    "### Рейтинги жанров"
   ]
  },
  {
   "cell_type": "markdown",
   "metadata": {},
   "source": [
    "В данном случае исходя из задачи так же формулируем гипотезы равности и неравности:\n",
    "\n",
    "- H₀ - средние пользовательские рейтинги жанров Action и Sports равны;\n",
    "- H₁ - средние пользовательские рейтинги жанров Action и Sports не равны."
   ]
  },
  {
   "cell_type": "code",
   "execution_count": 54,
   "metadata": {},
   "outputs": [
    {
     "name": "stdout",
     "output_type": "stream",
     "text": [
      "p-значение: 4.8045233804629176e-26\n",
      "Отвергаем нулевую гипотезу\n",
      "Cредний пользовательский рейтинг Xbox One: 6.83\n",
      "Cредний пользовательский рейтинг PC: 5.46\n"
     ]
    }
   ],
   "source": [
    "alpha = 0.05\n",
    "\n",
    "\n",
    "action = data_act[(data_act['genre'] == 'Action') & (data_act['user_score'] > 0)]['user_score']\n",
    "sports = data_act[(data_act['genre'] == 'Sports') & (data_act['user_score'] > 0)]['user_score']\n",
    "\n",
    "results = st.ttest_ind(action, sports)\n",
    "\n",
    "print('p-значение:', results.pvalue)\n",
    "\n",
    "if (results.pvalue < alpha):\n",
    "    print(\"Отвергаем нулевую гипотезу\")\n",
    "else:\n",
    "    print(\"Не получилось отвергнуть нулевую гипотезу\")\n",
    "       \n",
    "print('Cредний пользовательский рейтинг Xbox One:', action.mean().round(2))\n",
    "print('Cредний пользовательский рейтинг PC:', sports.mean().round(2))"
   ]
  },
  {
   "cell_type": "markdown",
   "metadata": {},
   "source": [
    "## Вывод"
   ]
  },
  {
   "cell_type": "markdown",
   "metadata": {},
   "source": [
    "### Исследовательский анализ данных"
   ]
  },
  {
   "cell_type": "markdown",
   "metadata": {},
   "source": [
    "***Распределение по годам***\n",
    "\n",
    "Наблюдается рост числа игр по мере хода времени. Резкий рост есть в 2002 году. С 2010 начинается постепенное снижение. Пики по востребованию игр находятся в 2008 и 2009 году.\n",
    "\n",
    "***Распределение по платформам*** \n",
    "\n",
    "По данным за весь имеющийся период есть несколько явно лидирующих платформ, у которых с отрывом больше количество проданных копий игр:\n",
    "- PS2 - 1255.77\n",
    "- X360 - 971.42\n",
    "- PS3 - 939.65\n",
    "- Wii - 907.51\n",
    "- DS - 806.12\n",
    "- PS - 730.86\n",
    "\n",
    "Лидером по продажам является PS2. За актуальный период для дальнейшего исследования возьмем период с 2013 по текущий год, так как в период в 4 года платформы идут на развитие.\n",
    "\n",
    "Ситуация за выбранный актуальный период с 2013 года по настоящее время немного иначе, тут лидером становится PS4: \n",
    "- PS4 - 314.14\n",
    "- PS3 - 288.78\n",
    "- X360 - 236.54\n",
    "- 3DS - 194.61\n",
    "- XOne - 159.32\n",
    "\n",
    "***Лидирующие платформы по продажам***\n",
    "\n",
    "По сумме продаж у всех платформ имеется снижение. Потенциально прибыльной я бы назвал только PS4 и XOne, продажи велики по сравнению с другими платформами, к тому же платформа наиболее актуальная и вероятно еще начнет пользоваться популярностью.\n",
    "\n",
    "***Глобальные продажи игр***\n",
    "\n",
    "По графику наблюдаем, что успешее всего в продажах PS3, PS4, Wii, X360, XOne. В целом у всех платформ не лучшие реузультаты в продажах, так как так как максимум имеет большее расстояние от Q2, так же медиана расположена внизу коробки.\n",
    "\n",
    "***Влияние отзывов на продажи***\n",
    "\n",
    "Оценка пользователе практически не имеет влияния на продажи, тогда как оценка критиков имеет большее влияние, но тоже не столь высокое. Однако стоит заметить, что выбросы в виде более продаваемых игр находятся справой стороны, то есть имеет большую оценку, у пользователей больше 6, а у критиков больше 60. По общим данным со всеми платформам выводы соответствующие.\n",
    "\n",
    "***Распределение игр по жанрам***\n",
    "\n",
    "Наиболее продаваемыми жанрами признаем Shooter, Platform и Sports\n"
   ]
  },
  {
   "cell_type": "markdown",
   "metadata": {},
   "source": [
    "### Портреты пользователей по регионам"
   ]
  },
  {
   "cell_type": "markdown",
   "metadata": {},
   "source": [
    "***Северная Америка (NA)***\n",
    "- Пятью наиболее популярными платформами стали X360, PS4, PS3, XOne, 3DS. Разница между платформами не велика.\n",
    "-  В Северной америке предпочитают больше следующие жанры игр: Action, Sports, Shooter, Misc, Role-Playing. \n",
    "- По данным чаще всего играют в игры с рейтингом M(старше 17 лет) и для всех возрастных категорий. Наблюдается большой разрыв между этими категориями.\n",
    "\n",
    "Если взять среднестатистического игрока, то ему будут присущи следующие факты:\n",
    "- Использует X360\n",
    "- Любимым жанром является Action\n",
    "- Играет в игры, которые подходят для всех возрастных категорий (E) или более 17 лет (M)\n",
    "\n",
    "***Европа (EU)***\n",
    "\n",
    "- Топ-5 платформ почти не изменились: PS3, X360, Wii, DS, PS4. Разрыв между ними так же не велик.\n",
    "- Топ-5 жанров тоже схожи: Action, Shooter, Sports, Role-Playing, Racing\n",
    "- По данным чаще всего играют в игры с рейтингом M(старше 17 лет) и для всех возрастных категорий. Наблюдается большой разрыв между этими категориями.\n",
    "\n",
    "Стандартный пользователь:\n",
    "- Использует PS3\n",
    "- Любимым жанром является Action\n",
    "- Играет в игры, которые подходят для всех возрастных категорий (E) или более 17 лет (M) \n",
    "\n",
    "***Япония (JP)***\n",
    "\n",
    "Здесь картина уже различается, что говорит об \"особенность рынка\"\n",
    "- Топ-5 платформ: 3DS, PS3, PSV, PS4, WiiU. Разрыв так же небольшой, но уже наблюдаем более скромные цифры.\n",
    "- Топ-5 жанров: Role-Playing, Action, Misc, Simulation, Fighting. Невероятно, но вопреки всем экшн был смещен на второе место. Есть большой разрыв между двумя лидерами Role-Playing, Action и остальными жанрами. \n",
    "- В рейтенге здесь лидируют уже три категории E (для всех возрастных категорий), T (старше 13 лет), M (старше 17 лет).\n",
    "\n",
    "Стандартный пользователь:\n",
    "\n",
    "- Использует 3DS \n",
    "- Любимым жанром является Role-Playing\n",
    "- Играет в игры, которые подходят для всех возрастных категорий (E), старше 13 (T) или 17 лет (M)\n"
   ]
  },
  {
   "cell_type": "markdown",
   "metadata": {},
   "source": [
    "### Статистический анализ"
   ]
  },
  {
   "cell_type": "markdown",
   "metadata": {},
   "source": [
    "Проверили следующие гипотезы:\n",
    "\n",
    "- H₀ - средние пользовательские рейтинги платформ Xbox One и PC равны;\n",
    "- H₁ - средние пользовательские рейтинги платформ Xbox One и PC не равны.\n",
    "\n",
    "Нулевую гипотезу отвергнуть не получилось, средние пользовательские рейтинги почти равны. \n",
    "\n",
    "И\n",
    "\n",
    "- H₀ - средние пользовательские рейтинги жанров Action и Sports равны;\n",
    "- H₁ - средние пользовательские рейтинги жанров Action и Sports не равны.\n",
    "\n",
    "Нулевая гипотеза отвергнута, средние пользовательские рейтинги не равны.\n"
   ]
  },
  {
   "cell_type": "markdown",
   "metadata": {},
   "source": [
    "### Итоги"
   ]
  },
  {
   "cell_type": "markdown",
   "metadata": {},
   "source": [
    "Общими ориентирами для рекламных компаний следует взять платформы PS4, XOne.\n",
    "\n",
    "Для получения наибольших продаж следует ориентировать производство на жанры Shooter, Platform и Sports.\n",
    "\n",
    "Не следует при анализе придавать большое значение оценкам критиков и тем более пользователей, они практически не влияют на продажи. \n",
    "\n",
    "При всем этом обязательно следует учитывать информацию о различиях между регионами и создавать кампании учитывая все особенности, наиболее специфичной и отклоняющейся является Япония. \n",
    "\n",
    "Так же следует провести дополнительное исследование с информацией по доходу от продаж игр, количество проданных копий может свидетельствовать только о популярности той или иной игры, однако полезно знать за что пользователи готовы платить больше.\n"
   ]
  }
 ],
 "metadata": {
  "ExecuteTimeLog": [
   {
    "duration": 1436,
    "start_time": "2023-05-03T08:38:22.423Z"
   },
   {
    "duration": 202,
    "start_time": "2023-05-03T08:40:24.851Z"
   },
   {
    "duration": 25,
    "start_time": "2023-05-03T08:41:37.891Z"
   },
   {
    "duration": 20,
    "start_time": "2023-05-03T08:42:16.307Z"
   },
   {
    "duration": 20,
    "start_time": "2023-05-03T08:42:27.032Z"
   },
   {
    "duration": 16,
    "start_time": "2023-05-03T08:42:35.355Z"
   },
   {
    "duration": 559,
    "start_time": "2023-05-03T08:49:04.097Z"
   },
   {
    "duration": 4,
    "start_time": "2023-05-03T08:49:21.319Z"
   },
   {
    "duration": 6,
    "start_time": "2023-05-03T08:49:29.774Z"
   },
   {
    "duration": 16,
    "start_time": "2023-05-03T08:49:42.801Z"
   },
   {
    "duration": 6,
    "start_time": "2023-05-03T08:49:59.120Z"
   },
   {
    "duration": 3,
    "start_time": "2023-05-03T08:56:05.132Z"
   },
   {
    "duration": 20,
    "start_time": "2023-05-03T08:59:45.569Z"
   },
   {
    "duration": 15,
    "start_time": "2023-05-03T09:00:02.516Z"
   },
   {
    "duration": 8,
    "start_time": "2023-05-03T09:00:08.155Z"
   },
   {
    "duration": 21,
    "start_time": "2023-05-03T09:00:13.066Z"
   },
   {
    "duration": 6,
    "start_time": "2023-05-03T09:00:18.311Z"
   },
   {
    "duration": 14,
    "start_time": "2023-05-03T09:03:01.086Z"
   },
   {
    "duration": 21,
    "start_time": "2023-05-03T09:03:08.235Z"
   },
   {
    "duration": 24,
    "start_time": "2023-05-03T09:04:02.234Z"
   },
   {
    "duration": 9,
    "start_time": "2023-05-03T09:04:05.840Z"
   },
   {
    "duration": 21,
    "start_time": "2023-05-03T09:04:18.275Z"
   },
   {
    "duration": 16,
    "start_time": "2023-05-03T09:04:32.380Z"
   },
   {
    "duration": 27,
    "start_time": "2023-05-03T09:04:42.410Z"
   },
   {
    "duration": 977,
    "start_time": "2023-05-03T09:05:12.789Z"
   },
   {
    "duration": 10,
    "start_time": "2023-05-03T09:05:25.999Z"
   },
   {
    "duration": 18,
    "start_time": "2023-05-03T09:05:35.551Z"
   },
   {
    "duration": 6,
    "start_time": "2023-05-03T09:05:44.337Z"
   },
   {
    "duration": 21,
    "start_time": "2023-05-03T09:05:48.362Z"
   },
   {
    "duration": 7,
    "start_time": "2023-05-03T09:07:08.918Z"
   },
   {
    "duration": 34,
    "start_time": "2023-05-03T09:07:32.568Z"
   },
   {
    "duration": 31,
    "start_time": "2023-05-03T09:07:38.655Z"
   },
   {
    "duration": 37,
    "start_time": "2023-05-03T09:07:42.376Z"
   },
   {
    "duration": 26,
    "start_time": "2023-05-03T09:07:49.035Z"
   },
   {
    "duration": 21,
    "start_time": "2023-05-03T09:07:52.894Z"
   },
   {
    "duration": 8,
    "start_time": "2023-05-03T09:07:59.880Z"
   },
   {
    "duration": 10,
    "start_time": "2023-05-03T09:08:08.376Z"
   },
   {
    "duration": 24,
    "start_time": "2023-05-03T09:08:19.565Z"
   },
   {
    "duration": 39,
    "start_time": "2023-05-03T09:09:16.061Z"
   },
   {
    "duration": 27,
    "start_time": "2023-05-03T09:09:29.912Z"
   },
   {
    "duration": 36,
    "start_time": "2023-05-03T09:09:42.314Z"
   },
   {
    "duration": 124,
    "start_time": "2023-05-03T09:09:46.948Z"
   },
   {
    "duration": 34,
    "start_time": "2023-05-03T09:09:55.288Z"
   },
   {
    "duration": 31,
    "start_time": "2023-05-03T09:10:07.977Z"
   },
   {
    "duration": 34,
    "start_time": "2023-05-03T09:11:48.921Z"
   },
   {
    "duration": 22,
    "start_time": "2023-05-03T09:12:01.080Z"
   },
   {
    "duration": 6,
    "start_time": "2023-05-03T09:12:11.883Z"
   },
   {
    "duration": 23,
    "start_time": "2023-05-03T09:12:21.648Z"
   },
   {
    "duration": 7,
    "start_time": "2023-05-03T09:19:35.897Z"
   },
   {
    "duration": 16,
    "start_time": "2023-05-03T09:27:16.084Z"
   },
   {
    "duration": 16,
    "start_time": "2023-05-03T09:27:29.639Z"
   },
   {
    "duration": 10,
    "start_time": "2023-05-03T09:28:05.291Z"
   },
   {
    "duration": 36,
    "start_time": "2023-05-03T09:28:38.890Z"
   },
   {
    "duration": 33,
    "start_time": "2023-05-03T09:29:00.924Z"
   },
   {
    "duration": 20,
    "start_time": "2023-05-03T09:29:38.619Z"
   },
   {
    "duration": 19,
    "start_time": "2023-05-03T09:30:25.356Z"
   },
   {
    "duration": 21,
    "start_time": "2023-05-03T09:30:28.445Z"
   },
   {
    "duration": 15,
    "start_time": "2023-05-03T09:30:45.505Z"
   },
   {
    "duration": 22,
    "start_time": "2023-05-03T09:31:21.478Z"
   },
   {
    "duration": 9,
    "start_time": "2023-05-03T09:31:26.391Z"
   },
   {
    "duration": 16,
    "start_time": "2023-05-03T09:31:30.656Z"
   },
   {
    "duration": 18,
    "start_time": "2023-05-03T09:31:34.407Z"
   },
   {
    "duration": 20,
    "start_time": "2023-05-03T09:32:03.509Z"
   },
   {
    "duration": 11,
    "start_time": "2023-05-03T09:34:20.663Z"
   },
   {
    "duration": 11,
    "start_time": "2023-05-03T09:34:27.145Z"
   },
   {
    "duration": 18,
    "start_time": "2023-05-03T09:38:04.363Z"
   },
   {
    "duration": 62,
    "start_time": "2023-05-03T09:41:39.395Z"
   },
   {
    "duration": 6,
    "start_time": "2023-05-03T09:46:32.625Z"
   },
   {
    "duration": 22,
    "start_time": "2023-05-03T09:46:50.735Z"
   },
   {
    "duration": 25,
    "start_time": "2023-05-03T09:48:13.033Z"
   },
   {
    "duration": 25,
    "start_time": "2023-05-03T09:48:54.154Z"
   },
   {
    "duration": 45,
    "start_time": "2023-05-04T09:56:46.982Z"
   },
   {
    "duration": 1285,
    "start_time": "2023-05-04T09:56:53.468Z"
   },
   {
    "duration": 89,
    "start_time": "2023-05-04T09:56:54.755Z"
   },
   {
    "duration": 23,
    "start_time": "2023-05-04T09:56:54.845Z"
   },
   {
    "duration": 15,
    "start_time": "2023-05-04T09:56:54.870Z"
   },
   {
    "duration": 5,
    "start_time": "2023-05-04T09:56:54.887Z"
   },
   {
    "duration": 22,
    "start_time": "2023-05-04T09:56:54.894Z"
   },
   {
    "duration": 9,
    "start_time": "2023-05-04T09:56:54.918Z"
   },
   {
    "duration": 22,
    "start_time": "2023-05-04T09:56:54.929Z"
   },
   {
    "duration": 16,
    "start_time": "2023-05-04T09:56:54.952Z"
   },
   {
    "duration": 10,
    "start_time": "2023-05-04T09:56:54.984Z"
   },
   {
    "duration": 22,
    "start_time": "2023-05-04T09:56:54.998Z"
   },
   {
    "duration": 15,
    "start_time": "2023-05-04T09:56:55.022Z"
   },
   {
    "duration": 106,
    "start_time": "2023-05-04T09:56:55.039Z"
   },
   {
    "duration": 283,
    "start_time": "2023-05-04T09:57:12.710Z"
   },
   {
    "duration": 311,
    "start_time": "2023-05-04T09:57:57.160Z"
   },
   {
    "duration": 300,
    "start_time": "2023-05-04T09:58:13.235Z"
   },
   {
    "duration": 70,
    "start_time": "2023-05-04T09:59:21.739Z"
   },
   {
    "duration": 68,
    "start_time": "2023-05-04T09:59:38.097Z"
   },
   {
    "duration": 293,
    "start_time": "2023-05-04T09:59:46.741Z"
   },
   {
    "duration": 399,
    "start_time": "2023-05-04T10:01:08.172Z"
   },
   {
    "duration": 321,
    "start_time": "2023-05-04T10:01:31.550Z"
   },
   {
    "duration": 311,
    "start_time": "2023-05-04T10:01:51.444Z"
   },
   {
    "duration": 306,
    "start_time": "2023-05-04T10:03:47.373Z"
   },
   {
    "duration": 328,
    "start_time": "2023-05-04T10:04:02.418Z"
   },
   {
    "duration": 11,
    "start_time": "2023-05-04T10:04:56.342Z"
   },
   {
    "duration": 121,
    "start_time": "2023-05-04T10:05:12.580Z"
   },
   {
    "duration": 92,
    "start_time": "2023-05-04T10:18:14.355Z"
   },
   {
    "duration": 63,
    "start_time": "2023-05-04T10:18:43.223Z"
   },
   {
    "duration": 23,
    "start_time": "2023-05-04T10:20:36.642Z"
   },
   {
    "duration": 108,
    "start_time": "2023-05-04T10:21:43.005Z"
   },
   {
    "duration": 43,
    "start_time": "2023-05-04T10:23:23.077Z"
   },
   {
    "duration": 23,
    "start_time": "2023-05-04T10:23:56.018Z"
   },
   {
    "duration": 315,
    "start_time": "2023-05-04T10:25:07.895Z"
   },
   {
    "duration": 27,
    "start_time": "2023-05-04T10:25:26.783Z"
   },
   {
    "duration": 20,
    "start_time": "2023-05-04T10:25:32.985Z"
   },
   {
    "duration": 22,
    "start_time": "2023-05-04T10:25:38.828Z"
   },
   {
    "duration": 24,
    "start_time": "2023-05-04T10:26:04.837Z"
   },
   {
    "duration": 21,
    "start_time": "2023-05-04T10:30:36.977Z"
   },
   {
    "duration": 34,
    "start_time": "2023-05-04T10:31:33.160Z"
   },
   {
    "duration": 9,
    "start_time": "2023-05-04T10:36:28.578Z"
   },
   {
    "duration": 15,
    "start_time": "2023-05-04T10:36:35.830Z"
   },
   {
    "duration": 274,
    "start_time": "2023-05-04T10:37:01.498Z"
   },
   {
    "duration": 305,
    "start_time": "2023-05-04T10:37:30.338Z"
   },
   {
    "duration": 283,
    "start_time": "2023-05-04T10:37:47.412Z"
   },
   {
    "duration": 317,
    "start_time": "2023-05-04T10:41:09.313Z"
   },
   {
    "duration": 317,
    "start_time": "2023-05-04T10:44:48.853Z"
   },
   {
    "duration": 314,
    "start_time": "2023-05-04T10:45:18.449Z"
   },
   {
    "duration": 402,
    "start_time": "2023-05-04T10:45:36.899Z"
   },
   {
    "duration": 309,
    "start_time": "2023-05-04T10:46:06.583Z"
   },
   {
    "duration": 318,
    "start_time": "2023-05-04T10:46:35.885Z"
   },
   {
    "duration": 274,
    "start_time": "2023-05-04T10:47:04.599Z"
   },
   {
    "duration": 316,
    "start_time": "2023-05-04T10:47:12.918Z"
   },
   {
    "duration": 343,
    "start_time": "2023-05-04T10:47:24.178Z"
   },
   {
    "duration": 422,
    "start_time": "2023-05-04T10:47:31.630Z"
   },
   {
    "duration": 8,
    "start_time": "2023-05-04T10:49:23.375Z"
   },
   {
    "duration": 8,
    "start_time": "2023-05-04T10:49:45.978Z"
   },
   {
    "duration": 29,
    "start_time": "2023-05-04T10:55:44.916Z"
   },
   {
    "duration": 160,
    "start_time": "2023-05-04T10:57:21.886Z"
   },
   {
    "duration": 241,
    "start_time": "2023-05-04T10:57:53.916Z"
   },
   {
    "duration": 44,
    "start_time": "2023-05-04T10:58:43.784Z"
   },
   {
    "duration": 196,
    "start_time": "2023-05-04T10:58:56.718Z"
   },
   {
    "duration": 308,
    "start_time": "2023-05-04T11:00:07.384Z"
   },
   {
    "duration": 286,
    "start_time": "2023-05-04T11:00:35.910Z"
   },
   {
    "duration": 382,
    "start_time": "2023-05-04T11:00:52.437Z"
   },
   {
    "duration": 503,
    "start_time": "2023-05-04T11:02:02.075Z"
   },
   {
    "duration": 809,
    "start_time": "2023-05-04T11:03:22.074Z"
   },
   {
    "duration": 160,
    "start_time": "2023-05-04T11:03:38.406Z"
   },
   {
    "duration": 169,
    "start_time": "2023-05-04T11:04:00.986Z"
   },
   {
    "duration": 148,
    "start_time": "2023-05-04T11:04:03.748Z"
   },
   {
    "duration": 145,
    "start_time": "2023-05-04T11:04:11.556Z"
   },
   {
    "duration": 395,
    "start_time": "2023-05-04T11:04:20.982Z"
   },
   {
    "duration": 344,
    "start_time": "2023-05-04T11:04:32.734Z"
   },
   {
    "duration": 254,
    "start_time": "2023-05-04T11:05:29.535Z"
   },
   {
    "duration": 183,
    "start_time": "2023-05-04T11:05:47.747Z"
   },
   {
    "duration": 171,
    "start_time": "2023-05-04T11:06:16.614Z"
   },
   {
    "duration": 172,
    "start_time": "2023-05-04T11:07:23.140Z"
   },
   {
    "duration": 9,
    "start_time": "2023-05-04T11:18:23.474Z"
   },
   {
    "duration": 8,
    "start_time": "2023-05-04T11:19:37.773Z"
   },
   {
    "duration": 250,
    "start_time": "2023-05-04T11:19:55.832Z"
   },
   {
    "duration": 338,
    "start_time": "2023-05-04T11:20:10.895Z"
   },
   {
    "duration": 252,
    "start_time": "2023-05-04T11:22:18.461Z"
   },
   {
    "duration": 392,
    "start_time": "2023-05-04T11:22:30.346Z"
   },
   {
    "duration": 251,
    "start_time": "2023-05-04T11:30:04.786Z"
   },
   {
    "duration": 9,
    "start_time": "2023-05-04T11:31:05.842Z"
   },
   {
    "duration": 8,
    "start_time": "2023-05-04T11:31:11.575Z"
   },
   {
    "duration": 44,
    "start_time": "2023-05-04T11:36:59.885Z"
   },
   {
    "duration": 12,
    "start_time": "2023-05-04T11:37:17.623Z"
   },
   {
    "duration": 300,
    "start_time": "2023-05-04T11:37:48.957Z"
   },
   {
    "duration": 194,
    "start_time": "2023-05-04T11:38:54.214Z"
   },
   {
    "duration": 203,
    "start_time": "2023-05-04T11:44:02.744Z"
   },
   {
    "duration": 182,
    "start_time": "2023-05-04T11:44:26.997Z"
   },
   {
    "duration": 187,
    "start_time": "2023-05-04T11:45:25.431Z"
   },
   {
    "duration": 193,
    "start_time": "2023-05-04T11:45:52.412Z"
   },
   {
    "duration": 191,
    "start_time": "2023-05-04T11:46:20.613Z"
   },
   {
    "duration": 204,
    "start_time": "2023-05-04T11:46:45.036Z"
   },
   {
    "duration": 170,
    "start_time": "2023-05-04T11:47:24.760Z"
   },
   {
    "duration": 160,
    "start_time": "2023-05-04T11:47:48.011Z"
   },
   {
    "duration": 174,
    "start_time": "2023-05-04T11:48:27.242Z"
   },
   {
    "duration": 258,
    "start_time": "2023-05-04T11:50:04.476Z"
   },
   {
    "duration": 399,
    "start_time": "2023-05-04T11:50:38.324Z"
   },
   {
    "duration": 292,
    "start_time": "2023-05-04T11:50:43.037Z"
   },
   {
    "duration": 287,
    "start_time": "2023-05-04T11:50:58.512Z"
   },
   {
    "duration": 243,
    "start_time": "2023-05-04T11:51:11.011Z"
   },
   {
    "duration": 883,
    "start_time": "2023-05-04T11:54:12.435Z"
   },
   {
    "duration": 11,
    "start_time": "2023-05-04T11:58:28.184Z"
   },
   {
    "duration": 31,
    "start_time": "2023-05-04T12:01:30.103Z"
   },
   {
    "duration": 1381,
    "start_time": "2023-05-04T12:02:42.952Z"
   },
   {
    "duration": 1230,
    "start_time": "2023-05-04T12:03:00.504Z"
   },
   {
    "duration": 63,
    "start_time": "2023-05-04T12:03:13.093Z"
   },
   {
    "duration": 49,
    "start_time": "2023-05-04T12:03:40.697Z"
   },
   {
    "duration": 1238,
    "start_time": "2023-05-04T12:03:45.010Z"
   },
   {
    "duration": 35,
    "start_time": "2023-05-04T12:04:03.399Z"
   },
   {
    "duration": 282,
    "start_time": "2023-05-04T12:34:59.039Z"
   },
   {
    "duration": 97,
    "start_time": "2023-05-04T12:35:28.025Z"
   },
   {
    "duration": 110,
    "start_time": "2023-05-04T12:37:25.511Z"
   },
   {
    "duration": 92,
    "start_time": "2023-05-04T12:37:38.978Z"
   },
   {
    "duration": 110,
    "start_time": "2023-05-04T12:37:42.677Z"
   },
   {
    "duration": 100,
    "start_time": "2023-05-04T12:38:02.895Z"
   },
   {
    "duration": 212,
    "start_time": "2023-05-04T12:38:39.103Z"
   },
   {
    "duration": 262,
    "start_time": "2023-05-04T12:43:15.880Z"
   },
   {
    "duration": 285,
    "start_time": "2023-05-04T12:43:40.546Z"
   },
   {
    "duration": 307,
    "start_time": "2023-05-04T12:43:47.068Z"
   },
   {
    "duration": 311,
    "start_time": "2023-05-04T12:44:06.605Z"
   },
   {
    "duration": 316,
    "start_time": "2023-05-04T12:44:16.387Z"
   },
   {
    "duration": 431,
    "start_time": "2023-05-04T12:44:25.492Z"
   },
   {
    "duration": 11,
    "start_time": "2023-05-04T12:46:13.150Z"
   },
   {
    "duration": 10,
    "start_time": "2023-05-04T12:46:22.264Z"
   },
   {
    "duration": 93,
    "start_time": "2023-05-04T12:47:30.081Z"
   },
   {
    "duration": 112,
    "start_time": "2023-05-04T12:47:46.378Z"
   },
   {
    "duration": 125,
    "start_time": "2023-05-04T12:48:05.398Z"
   },
   {
    "duration": 100,
    "start_time": "2023-05-04T12:48:11.474Z"
   },
   {
    "duration": 113,
    "start_time": "2023-05-04T12:48:44.586Z"
   },
   {
    "duration": 135,
    "start_time": "2023-05-04T12:48:52.490Z"
   },
   {
    "duration": 143,
    "start_time": "2023-05-04T13:00:43.931Z"
   },
   {
    "duration": 8,
    "start_time": "2023-05-04T13:01:40.622Z"
   },
   {
    "duration": 109,
    "start_time": "2023-05-04T13:02:23.097Z"
   },
   {
    "duration": 139,
    "start_time": "2023-05-04T13:02:32.376Z"
   },
   {
    "duration": 144,
    "start_time": "2023-05-04T13:08:20.093Z"
   },
   {
    "duration": 153,
    "start_time": "2023-05-04T13:08:27.656Z"
   },
   {
    "duration": 145,
    "start_time": "2023-05-04T13:09:46.481Z"
   },
   {
    "duration": 143,
    "start_time": "2023-05-04T13:10:40.424Z"
   },
   {
    "duration": 156,
    "start_time": "2023-05-04T13:12:08.139Z"
   },
   {
    "duration": 264,
    "start_time": "2023-05-04T13:14:25.267Z"
   },
   {
    "duration": 442,
    "start_time": "2023-05-04T13:15:32.308Z"
   },
   {
    "duration": 13,
    "start_time": "2023-05-04T13:17:33.109Z"
   },
   {
    "duration": 6,
    "start_time": "2023-05-04T13:18:38.767Z"
   },
   {
    "duration": 534,
    "start_time": "2023-05-04T13:18:47.533Z"
   },
   {
    "duration": 156,
    "start_time": "2023-05-04T13:19:06.275Z"
   },
   {
    "duration": 4,
    "start_time": "2023-05-04T14:11:32.435Z"
   },
   {
    "duration": 76,
    "start_time": "2023-05-04T14:11:32.441Z"
   },
   {
    "duration": 16,
    "start_time": "2023-05-04T14:11:32.519Z"
   },
   {
    "duration": 22,
    "start_time": "2023-05-04T14:11:32.537Z"
   },
   {
    "duration": 6,
    "start_time": "2023-05-04T14:11:32.561Z"
   },
   {
    "duration": 24,
    "start_time": "2023-05-04T14:11:32.584Z"
   },
   {
    "duration": 12,
    "start_time": "2023-05-04T14:11:32.610Z"
   },
   {
    "duration": 19,
    "start_time": "2023-05-04T14:11:32.624Z"
   },
   {
    "duration": 15,
    "start_time": "2023-05-04T14:11:32.646Z"
   },
   {
    "duration": 30,
    "start_time": "2023-05-04T14:11:32.663Z"
   },
   {
    "duration": 24,
    "start_time": "2023-05-04T14:11:32.695Z"
   },
   {
    "duration": 14,
    "start_time": "2023-05-04T14:11:32.720Z"
   },
   {
    "duration": 332,
    "start_time": "2023-05-04T14:11:32.736Z"
   },
   {
    "duration": 42,
    "start_time": "2023-05-04T14:11:33.070Z"
   },
   {
    "duration": 7,
    "start_time": "2023-05-04T14:11:33.114Z"
   },
   {
    "duration": 334,
    "start_time": "2023-05-04T14:11:33.123Z"
   },
   {
    "duration": 7,
    "start_time": "2023-05-04T14:11:33.459Z"
   },
   {
    "duration": 252,
    "start_time": "2023-05-04T14:11:33.468Z"
   },
   {
    "duration": 8,
    "start_time": "2023-05-04T14:11:33.722Z"
   },
   {
    "duration": 177,
    "start_time": "2023-05-04T14:11:33.732Z"
   },
   {
    "duration": 207,
    "start_time": "2023-05-04T14:11:33.911Z"
   },
   {
    "duration": 186,
    "start_time": "2023-05-04T14:11:34.120Z"
   },
   {
    "duration": 153,
    "start_time": "2023-05-04T14:11:34.308Z"
   },
   {
    "duration": 35,
    "start_time": "2023-05-04T14:11:34.464Z"
   },
   {
    "duration": 456,
    "start_time": "2023-05-04T14:11:34.501Z"
   },
   {
    "duration": 133,
    "start_time": "2023-05-04T14:11:34.958Z"
   },
   {
    "duration": 158,
    "start_time": "2023-05-04T14:11:35.093Z"
   },
   {
    "duration": 165,
    "start_time": "2023-05-04T14:11:35.254Z"
   },
   {
    "duration": 165,
    "start_time": "2023-05-04T14:12:30.700Z"
   },
   {
    "duration": 134,
    "start_time": "2023-05-04T14:13:39.736Z"
   },
   {
    "duration": 138,
    "start_time": "2023-05-04T14:14:01.489Z"
   },
   {
    "duration": 174,
    "start_time": "2023-05-04T14:23:10.695Z"
   },
   {
    "duration": 153,
    "start_time": "2023-05-04T14:23:18.987Z"
   },
   {
    "duration": 155,
    "start_time": "2023-05-04T14:23:36.164Z"
   },
   {
    "duration": 161,
    "start_time": "2023-05-04T14:25:06.551Z"
   },
   {
    "duration": 191,
    "start_time": "2023-05-04T14:26:08.215Z"
   },
   {
    "duration": 163,
    "start_time": "2023-05-04T14:26:25.431Z"
   },
   {
    "duration": 7,
    "start_time": "2023-05-04T14:26:41.888Z"
   },
   {
    "duration": 14,
    "start_time": "2023-05-04T14:27:34.289Z"
   },
   {
    "duration": 14,
    "start_time": "2023-05-04T14:28:04.836Z"
   },
   {
    "duration": 1267,
    "start_time": "2023-05-05T08:18:06.190Z"
   },
   {
    "duration": 104,
    "start_time": "2023-05-05T08:18:07.459Z"
   },
   {
    "duration": 21,
    "start_time": "2023-05-05T08:18:07.565Z"
   },
   {
    "duration": 17,
    "start_time": "2023-05-05T08:18:07.589Z"
   },
   {
    "duration": 5,
    "start_time": "2023-05-05T08:18:07.608Z"
   },
   {
    "duration": 12,
    "start_time": "2023-05-05T08:18:07.614Z"
   },
   {
    "duration": 9,
    "start_time": "2023-05-05T08:18:07.628Z"
   },
   {
    "duration": 27,
    "start_time": "2023-05-05T08:18:07.639Z"
   },
   {
    "duration": 14,
    "start_time": "2023-05-05T08:18:07.668Z"
   },
   {
    "duration": 8,
    "start_time": "2023-05-05T08:18:07.685Z"
   },
   {
    "duration": 21,
    "start_time": "2023-05-05T08:18:07.695Z"
   },
   {
    "duration": 41,
    "start_time": "2023-05-05T08:18:07.718Z"
   },
   {
    "duration": 318,
    "start_time": "2023-05-05T08:18:07.760Z"
   },
   {
    "duration": 41,
    "start_time": "2023-05-05T08:18:08.079Z"
   },
   {
    "duration": 7,
    "start_time": "2023-05-05T08:18:08.122Z"
   },
   {
    "duration": 324,
    "start_time": "2023-05-05T08:18:08.130Z"
   },
   {
    "duration": 9,
    "start_time": "2023-05-05T08:18:08.455Z"
   },
   {
    "duration": 232,
    "start_time": "2023-05-05T08:18:08.465Z"
   },
   {
    "duration": 8,
    "start_time": "2023-05-05T08:18:08.699Z"
   },
   {
    "duration": 176,
    "start_time": "2023-05-05T08:18:08.709Z"
   },
   {
    "duration": 160,
    "start_time": "2023-05-05T08:18:08.887Z"
   },
   {
    "duration": 164,
    "start_time": "2023-05-05T08:18:09.049Z"
   },
   {
    "duration": 144,
    "start_time": "2023-05-05T08:18:09.215Z"
   },
   {
    "duration": 28,
    "start_time": "2023-05-05T08:18:09.361Z"
   },
   {
    "duration": 386,
    "start_time": "2023-05-05T08:18:09.390Z"
   },
   {
    "duration": 122,
    "start_time": "2023-05-05T08:18:09.777Z"
   },
   {
    "duration": 171,
    "start_time": "2023-05-05T08:18:09.901Z"
   },
   {
    "duration": 154,
    "start_time": "2023-05-05T08:18:10.074Z"
   },
   {
    "duration": 141,
    "start_time": "2023-05-05T08:18:10.230Z"
   },
   {
    "duration": 131,
    "start_time": "2023-05-05T08:18:10.373Z"
   },
   {
    "duration": 159,
    "start_time": "2023-05-05T08:18:10.506Z"
   },
   {
    "duration": 163,
    "start_time": "2023-05-05T08:18:10.666Z"
   },
   {
    "duration": 15,
    "start_time": "2023-05-05T08:18:10.830Z"
   },
   {
    "duration": 8,
    "start_time": "2023-05-05T08:31:21.103Z"
   },
   {
    "duration": 113,
    "start_time": "2023-05-05T08:33:27.719Z"
   },
   {
    "duration": 19,
    "start_time": "2023-05-05T08:34:14.273Z"
   },
   {
    "duration": 15,
    "start_time": "2023-05-05T08:34:28.183Z"
   },
   {
    "duration": 8,
    "start_time": "2023-05-05T08:34:32.784Z"
   },
   {
    "duration": 15,
    "start_time": "2023-05-05T08:36:48.723Z"
   },
   {
    "duration": 19,
    "start_time": "2023-05-05T08:37:20.678Z"
   },
   {
    "duration": 15,
    "start_time": "2023-05-05T08:40:16.149Z"
   },
   {
    "duration": 20,
    "start_time": "2023-05-05T08:55:05.956Z"
   },
   {
    "duration": 15,
    "start_time": "2023-05-05T08:55:20.977Z"
   },
   {
    "duration": 15,
    "start_time": "2023-05-05T08:56:35.314Z"
   },
   {
    "duration": 15,
    "start_time": "2023-05-05T08:57:26.695Z"
   },
   {
    "duration": 19,
    "start_time": "2023-05-05T09:07:26.235Z"
   },
   {
    "duration": 20,
    "start_time": "2023-05-05T09:07:26.268Z"
   },
   {
    "duration": 14,
    "start_time": "2023-05-05T09:07:26.302Z"
   },
   {
    "duration": 17,
    "start_time": "2023-05-05T09:32:08.098Z"
   },
   {
    "duration": 20,
    "start_time": "2023-05-05T09:33:56.029Z"
   },
   {
    "duration": 7,
    "start_time": "2023-05-05T09:34:06.821Z"
   },
   {
    "duration": 14,
    "start_time": "2023-05-05T09:34:13.713Z"
   },
   {
    "duration": 25,
    "start_time": "2023-05-05T09:34:26.383Z"
   },
   {
    "duration": 8,
    "start_time": "2023-05-05T09:36:17.926Z"
   },
   {
    "duration": 16,
    "start_time": "2023-05-05T09:36:26.363Z"
   },
   {
    "duration": 12,
    "start_time": "2023-05-05T09:37:27.032Z"
   },
   {
    "duration": 3,
    "start_time": "2023-05-05T09:37:48.334Z"
   },
   {
    "duration": 49,
    "start_time": "2023-05-05T09:37:48.341Z"
   },
   {
    "duration": 14,
    "start_time": "2023-05-05T09:37:48.392Z"
   },
   {
    "duration": 15,
    "start_time": "2023-05-05T09:37:48.408Z"
   },
   {
    "duration": 10,
    "start_time": "2023-05-05T09:37:48.425Z"
   },
   {
    "duration": 30,
    "start_time": "2023-05-05T09:37:48.437Z"
   },
   {
    "duration": 0,
    "start_time": "2023-05-05T09:37:48.469Z"
   },
   {
    "duration": 0,
    "start_time": "2023-05-05T09:37:48.471Z"
   },
   {
    "duration": 0,
    "start_time": "2023-05-05T09:37:48.473Z"
   },
   {
    "duration": 0,
    "start_time": "2023-05-05T09:37:48.474Z"
   },
   {
    "duration": 0,
    "start_time": "2023-05-05T09:37:48.475Z"
   },
   {
    "duration": 0,
    "start_time": "2023-05-05T09:37:48.478Z"
   },
   {
    "duration": 0,
    "start_time": "2023-05-05T09:37:48.479Z"
   },
   {
    "duration": 0,
    "start_time": "2023-05-05T09:37:48.480Z"
   },
   {
    "duration": 0,
    "start_time": "2023-05-05T09:37:48.482Z"
   },
   {
    "duration": 0,
    "start_time": "2023-05-05T09:37:48.483Z"
   },
   {
    "duration": 0,
    "start_time": "2023-05-05T09:37:48.485Z"
   },
   {
    "duration": 0,
    "start_time": "2023-05-05T09:37:48.487Z"
   },
   {
    "duration": 0,
    "start_time": "2023-05-05T09:37:48.488Z"
   },
   {
    "duration": 0,
    "start_time": "2023-05-05T09:37:48.489Z"
   },
   {
    "duration": 0,
    "start_time": "2023-05-05T09:37:48.491Z"
   },
   {
    "duration": 0,
    "start_time": "2023-05-05T09:37:48.492Z"
   },
   {
    "duration": 0,
    "start_time": "2023-05-05T09:37:48.493Z"
   },
   {
    "duration": 1,
    "start_time": "2023-05-05T09:37:48.494Z"
   },
   {
    "duration": 0,
    "start_time": "2023-05-05T09:37:48.496Z"
   },
   {
    "duration": 0,
    "start_time": "2023-05-05T09:37:48.497Z"
   },
   {
    "duration": 0,
    "start_time": "2023-05-05T09:37:48.498Z"
   },
   {
    "duration": 0,
    "start_time": "2023-05-05T09:37:48.500Z"
   },
   {
    "duration": 0,
    "start_time": "2023-05-05T09:37:48.501Z"
   },
   {
    "duration": 1,
    "start_time": "2023-05-05T09:37:48.501Z"
   },
   {
    "duration": 248,
    "start_time": "2023-05-05T09:37:48.504Z"
   },
   {
    "duration": 159,
    "start_time": "2023-05-05T09:37:48.756Z"
   },
   {
    "duration": 15,
    "start_time": "2023-05-05T09:37:48.916Z"
   },
   {
    "duration": 27,
    "start_time": "2023-05-05T09:37:48.933Z"
   },
   {
    "duration": 12,
    "start_time": "2023-05-05T09:37:48.962Z"
   },
   {
    "duration": 24,
    "start_time": "2023-05-05T09:37:48.976Z"
   },
   {
    "duration": 21,
    "start_time": "2023-05-05T09:37:49.002Z"
   },
   {
    "duration": 19,
    "start_time": "2023-05-05T09:37:49.025Z"
   },
   {
    "duration": 18,
    "start_time": "2023-05-05T09:37:49.045Z"
   },
   {
    "duration": 25,
    "start_time": "2023-05-05T09:37:49.064Z"
   },
   {
    "duration": 15,
    "start_time": "2023-05-05T09:37:49.090Z"
   },
   {
    "duration": 26,
    "start_time": "2023-05-05T09:37:49.107Z"
   },
   {
    "duration": 106,
    "start_time": "2023-05-05T09:37:49.135Z"
   },
   {
    "duration": 16,
    "start_time": "2023-05-05T09:38:46.484Z"
   },
   {
    "duration": 11,
    "start_time": "2023-05-05T09:41:40.634Z"
   },
   {
    "duration": 18,
    "start_time": "2023-05-05T09:41:51.803Z"
   },
   {
    "duration": 16,
    "start_time": "2023-05-05T09:42:17.926Z"
   },
   {
    "duration": 78,
    "start_time": "2023-05-05T09:42:38.547Z"
   },
   {
    "duration": 3,
    "start_time": "2023-05-05T09:42:55.834Z"
   },
   {
    "duration": 63,
    "start_time": "2023-05-05T09:42:55.840Z"
   },
   {
    "duration": 16,
    "start_time": "2023-05-05T09:42:55.905Z"
   },
   {
    "duration": 27,
    "start_time": "2023-05-05T09:42:55.923Z"
   },
   {
    "duration": 11,
    "start_time": "2023-05-05T09:42:55.952Z"
   },
   {
    "duration": 24,
    "start_time": "2023-05-05T09:42:55.964Z"
   },
   {
    "duration": 18,
    "start_time": "2023-05-05T09:42:55.990Z"
   },
   {
    "duration": 26,
    "start_time": "2023-05-05T09:42:56.010Z"
   },
   {
    "duration": 20,
    "start_time": "2023-05-05T09:42:56.038Z"
   },
   {
    "duration": 15,
    "start_time": "2023-05-05T09:42:56.059Z"
   },
   {
    "duration": 27,
    "start_time": "2023-05-05T09:42:56.077Z"
   },
   {
    "duration": 14,
    "start_time": "2023-05-05T09:42:56.105Z"
   },
   {
    "duration": 327,
    "start_time": "2023-05-05T09:42:56.121Z"
   },
   {
    "duration": 41,
    "start_time": "2023-05-05T09:42:56.456Z"
   },
   {
    "duration": 8,
    "start_time": "2023-05-05T09:42:56.498Z"
   },
   {
    "duration": 338,
    "start_time": "2023-05-05T09:42:56.508Z"
   },
   {
    "duration": 10,
    "start_time": "2023-05-05T09:42:56.848Z"
   },
   {
    "duration": 241,
    "start_time": "2023-05-05T09:42:56.859Z"
   },
   {
    "duration": 8,
    "start_time": "2023-05-05T09:42:57.102Z"
   },
   {
    "duration": 180,
    "start_time": "2023-05-05T09:42:57.111Z"
   },
   {
    "duration": 196,
    "start_time": "2023-05-05T09:42:57.292Z"
   },
   {
    "duration": 159,
    "start_time": "2023-05-05T09:42:57.489Z"
   },
   {
    "duration": 155,
    "start_time": "2023-05-05T09:42:57.650Z"
   },
   {
    "duration": 32,
    "start_time": "2023-05-05T09:42:57.807Z"
   },
   {
    "duration": 355,
    "start_time": "2023-05-05T09:42:57.841Z"
   },
   {
    "duration": 208,
    "start_time": "2023-05-05T09:42:58.198Z"
   },
   {
    "duration": 159,
    "start_time": "2023-05-05T09:42:58.408Z"
   },
   {
    "duration": 163,
    "start_time": "2023-05-05T09:42:58.569Z"
   },
   {
    "duration": 173,
    "start_time": "2023-05-05T09:42:58.736Z"
   },
   {
    "duration": 159,
    "start_time": "2023-05-05T09:42:58.912Z"
   },
   {
    "duration": 178,
    "start_time": "2023-05-05T09:42:59.073Z"
   },
   {
    "duration": 177,
    "start_time": "2023-05-05T09:42:59.253Z"
   },
   {
    "duration": 25,
    "start_time": "2023-05-05T09:42:59.432Z"
   },
   {
    "duration": 14,
    "start_time": "2023-05-05T09:42:59.458Z"
   },
   {
    "duration": 13,
    "start_time": "2023-05-05T09:42:59.474Z"
   },
   {
    "duration": 13,
    "start_time": "2023-05-05T09:42:59.489Z"
   },
   {
    "duration": 16,
    "start_time": "2023-05-05T09:42:59.504Z"
   },
   {
    "duration": 41,
    "start_time": "2023-05-05T09:42:59.521Z"
   },
   {
    "duration": 13,
    "start_time": "2023-05-05T09:42:59.564Z"
   },
   {
    "duration": 15,
    "start_time": "2023-05-05T09:42:59.579Z"
   },
   {
    "duration": 13,
    "start_time": "2023-05-05T09:42:59.595Z"
   },
   {
    "duration": 47,
    "start_time": "2023-05-05T09:42:59.610Z"
   },
   {
    "duration": 81,
    "start_time": "2023-05-05T09:42:59.658Z"
   },
   {
    "duration": 67,
    "start_time": "2023-05-05T09:43:32.779Z"
   },
   {
    "duration": 14,
    "start_time": "2023-05-05T09:43:57.685Z"
   },
   {
    "duration": 12,
    "start_time": "2023-05-05T09:45:31.961Z"
   },
   {
    "duration": 5,
    "start_time": "2023-05-05T09:47:46.536Z"
   },
   {
    "duration": 16,
    "start_time": "2023-05-05T09:47:53.938Z"
   },
   {
    "duration": 3,
    "start_time": "2023-05-05T09:48:06.496Z"
   },
   {
    "duration": 57,
    "start_time": "2023-05-05T09:48:06.503Z"
   },
   {
    "duration": 20,
    "start_time": "2023-05-05T09:48:06.562Z"
   },
   {
    "duration": 20,
    "start_time": "2023-05-05T09:48:06.584Z"
   },
   {
    "duration": 5,
    "start_time": "2023-05-05T09:48:06.606Z"
   },
   {
    "duration": 16,
    "start_time": "2023-05-05T09:48:06.613Z"
   },
   {
    "duration": 11,
    "start_time": "2023-05-05T09:48:06.657Z"
   },
   {
    "duration": 22,
    "start_time": "2023-05-05T09:48:06.670Z"
   },
   {
    "duration": 18,
    "start_time": "2023-05-05T09:48:06.694Z"
   },
   {
    "duration": 12,
    "start_time": "2023-05-05T09:48:06.714Z"
   },
   {
    "duration": 21,
    "start_time": "2023-05-05T09:48:06.758Z"
   },
   {
    "duration": 15,
    "start_time": "2023-05-05T09:48:06.781Z"
   },
   {
    "duration": 333,
    "start_time": "2023-05-05T09:48:06.798Z"
   },
   {
    "duration": 49,
    "start_time": "2023-05-05T09:48:07.132Z"
   },
   {
    "duration": 8,
    "start_time": "2023-05-05T09:48:07.183Z"
   },
   {
    "duration": 361,
    "start_time": "2023-05-05T09:48:07.193Z"
   },
   {
    "duration": 8,
    "start_time": "2023-05-05T09:48:07.556Z"
   },
   {
    "duration": 353,
    "start_time": "2023-05-05T09:48:07.566Z"
   },
   {
    "duration": 8,
    "start_time": "2023-05-05T09:48:07.921Z"
   },
   {
    "duration": 193,
    "start_time": "2023-05-05T09:48:07.931Z"
   },
   {
    "duration": 178,
    "start_time": "2023-05-05T09:48:08.126Z"
   },
   {
    "duration": 166,
    "start_time": "2023-05-05T09:48:08.305Z"
   },
   {
    "duration": 138,
    "start_time": "2023-05-05T09:48:08.472Z"
   },
   {
    "duration": 29,
    "start_time": "2023-05-05T09:48:08.611Z"
   },
   {
    "duration": 315,
    "start_time": "2023-05-05T09:48:08.641Z"
   },
   {
    "duration": 124,
    "start_time": "2023-05-05T09:48:08.958Z"
   },
   {
    "duration": 162,
    "start_time": "2023-05-05T09:48:09.084Z"
   },
   {
    "duration": 170,
    "start_time": "2023-05-05T09:48:09.260Z"
   },
   {
    "duration": 142,
    "start_time": "2023-05-05T09:48:09.433Z"
   },
   {
    "duration": 217,
    "start_time": "2023-05-05T09:48:09.577Z"
   },
   {
    "duration": 165,
    "start_time": "2023-05-05T09:48:09.796Z"
   },
   {
    "duration": 159,
    "start_time": "2023-05-05T09:48:09.963Z"
   },
   {
    "duration": 16,
    "start_time": "2023-05-05T09:48:10.124Z"
   },
   {
    "duration": 49,
    "start_time": "2023-05-05T09:48:10.142Z"
   },
   {
    "duration": 14,
    "start_time": "2023-05-05T09:48:10.193Z"
   },
   {
    "duration": 17,
    "start_time": "2023-05-05T09:48:10.208Z"
   },
   {
    "duration": 14,
    "start_time": "2023-05-05T09:48:10.226Z"
   },
   {
    "duration": 15,
    "start_time": "2023-05-05T09:48:10.242Z"
   },
   {
    "duration": 14,
    "start_time": "2023-05-05T09:48:10.259Z"
   },
   {
    "duration": 21,
    "start_time": "2023-05-05T09:48:10.275Z"
   },
   {
    "duration": 13,
    "start_time": "2023-05-05T09:48:10.298Z"
   },
   {
    "duration": 16,
    "start_time": "2023-05-05T09:48:10.313Z"
   },
   {
    "duration": 33,
    "start_time": "2023-05-05T09:48:10.331Z"
   },
   {
    "duration": 13,
    "start_time": "2023-05-05T09:49:38.107Z"
   },
   {
    "duration": 41,
    "start_time": "2023-05-05T09:50:43.077Z"
   },
   {
    "duration": 13,
    "start_time": "2023-05-05T09:51:22.591Z"
   },
   {
    "duration": 6,
    "start_time": "2023-05-05T09:52:18.211Z"
   },
   {
    "duration": 13,
    "start_time": "2023-05-05T09:52:29.739Z"
   },
   {
    "duration": 12,
    "start_time": "2023-05-05T09:52:41.554Z"
   },
   {
    "duration": 5,
    "start_time": "2023-05-05T09:53:09.117Z"
   },
   {
    "duration": 13,
    "start_time": "2023-05-05T09:53:47.465Z"
   },
   {
    "duration": 16,
    "start_time": "2023-05-05T09:55:17.354Z"
   },
   {
    "duration": 13,
    "start_time": "2023-05-05T09:56:06.751Z"
   },
   {
    "duration": 10,
    "start_time": "2023-05-05T09:56:26.341Z"
   },
   {
    "duration": 885,
    "start_time": "2023-05-05T09:58:57.349Z"
   },
   {
    "duration": 9,
    "start_time": "2023-05-05T09:59:52.174Z"
   },
   {
    "duration": 998,
    "start_time": "2023-05-05T10:00:02.974Z"
   },
   {
    "duration": 14,
    "start_time": "2023-05-05T10:01:26.900Z"
   },
   {
    "duration": 7,
    "start_time": "2023-05-05T10:02:03.249Z"
   },
   {
    "duration": 10,
    "start_time": "2023-05-05T10:02:09.298Z"
   },
   {
    "duration": 6,
    "start_time": "2023-05-05T10:02:33.087Z"
   },
   {
    "duration": 13,
    "start_time": "2023-05-05T10:02:40.149Z"
   },
   {
    "duration": 7,
    "start_time": "2023-05-05T10:02:48.727Z"
   },
   {
    "duration": 12,
    "start_time": "2023-05-05T10:02:55.342Z"
   },
   {
    "duration": 7,
    "start_time": "2023-05-05T10:03:03.980Z"
   },
   {
    "duration": 12,
    "start_time": "2023-05-05T10:03:07.291Z"
   },
   {
    "duration": 6,
    "start_time": "2023-05-05T10:03:21.298Z"
   },
   {
    "duration": 3,
    "start_time": "2023-05-05T10:03:26.581Z"
   },
   {
    "duration": 55,
    "start_time": "2023-05-05T10:03:26.587Z"
   },
   {
    "duration": 16,
    "start_time": "2023-05-05T10:03:26.644Z"
   },
   {
    "duration": 15,
    "start_time": "2023-05-05T10:03:26.662Z"
   },
   {
    "duration": 5,
    "start_time": "2023-05-05T10:03:26.680Z"
   },
   {
    "duration": 13,
    "start_time": "2023-05-05T10:03:26.687Z"
   },
   {
    "duration": 10,
    "start_time": "2023-05-05T10:03:26.702Z"
   },
   {
    "duration": 53,
    "start_time": "2023-05-05T10:03:26.714Z"
   },
   {
    "duration": 17,
    "start_time": "2023-05-05T10:03:26.769Z"
   },
   {
    "duration": 8,
    "start_time": "2023-05-05T10:03:26.788Z"
   },
   {
    "duration": 22,
    "start_time": "2023-05-05T10:03:26.798Z"
   },
   {
    "duration": 41,
    "start_time": "2023-05-05T10:03:26.822Z"
   },
   {
    "duration": 325,
    "start_time": "2023-05-05T10:03:26.864Z"
   },
   {
    "duration": 38,
    "start_time": "2023-05-05T10:03:27.190Z"
   },
   {
    "duration": 7,
    "start_time": "2023-05-05T10:03:27.230Z"
   },
   {
    "duration": 326,
    "start_time": "2023-05-05T10:03:27.238Z"
   },
   {
    "duration": 8,
    "start_time": "2023-05-05T10:03:27.566Z"
   },
   {
    "duration": 252,
    "start_time": "2023-05-05T10:03:27.575Z"
   },
   {
    "duration": 8,
    "start_time": "2023-05-05T10:03:27.828Z"
   },
   {
    "duration": 174,
    "start_time": "2023-05-05T10:03:27.838Z"
   },
   {
    "duration": 178,
    "start_time": "2023-05-05T10:03:28.014Z"
   },
   {
    "duration": 177,
    "start_time": "2023-05-05T10:03:28.193Z"
   },
   {
    "duration": 247,
    "start_time": "2023-05-05T10:03:28.372Z"
   },
   {
    "duration": 36,
    "start_time": "2023-05-05T10:03:28.621Z"
   },
   {
    "duration": 391,
    "start_time": "2023-05-05T10:03:28.659Z"
   },
   {
    "duration": 148,
    "start_time": "2023-05-05T10:03:29.056Z"
   },
   {
    "duration": 179,
    "start_time": "2023-05-05T10:03:29.207Z"
   },
   {
    "duration": 199,
    "start_time": "2023-05-05T10:03:29.388Z"
   },
   {
    "duration": 155,
    "start_time": "2023-05-05T10:03:29.591Z"
   },
   {
    "duration": 159,
    "start_time": "2023-05-05T10:03:29.748Z"
   },
   {
    "duration": 178,
    "start_time": "2023-05-05T10:03:29.909Z"
   },
   {
    "duration": 187,
    "start_time": "2023-05-05T10:03:30.089Z"
   },
   {
    "duration": 15,
    "start_time": "2023-05-05T10:03:30.278Z"
   },
   {
    "duration": 49,
    "start_time": "2023-05-05T10:03:30.295Z"
   },
   {
    "duration": 43,
    "start_time": "2023-05-05T10:03:30.346Z"
   },
   {
    "duration": 42,
    "start_time": "2023-05-05T10:03:30.391Z"
   },
   {
    "duration": 41,
    "start_time": "2023-05-05T10:03:30.435Z"
   },
   {
    "duration": 33,
    "start_time": "2023-05-05T10:03:30.478Z"
   },
   {
    "duration": 40,
    "start_time": "2023-05-05T10:03:30.513Z"
   },
   {
    "duration": 71,
    "start_time": "2023-05-05T10:03:30.555Z"
   },
   {
    "duration": 48,
    "start_time": "2023-05-05T10:03:30.628Z"
   },
   {
    "duration": 58,
    "start_time": "2023-05-05T10:03:30.678Z"
   },
   {
    "duration": 25,
    "start_time": "2023-05-05T10:03:30.738Z"
   },
   {
    "duration": 12,
    "start_time": "2023-05-05T10:04:03.124Z"
   },
   {
    "duration": 10,
    "start_time": "2023-05-05T10:04:11.632Z"
   },
   {
    "duration": 78,
    "start_time": "2023-05-05T10:04:55.031Z"
   },
   {
    "duration": 10,
    "start_time": "2023-05-05T10:05:14.375Z"
   },
   {
    "duration": 36,
    "start_time": "2023-05-05T10:07:06.202Z"
   },
   {
    "duration": 8,
    "start_time": "2023-05-05T10:07:18.249Z"
   },
   {
    "duration": 7,
    "start_time": "2023-05-05T10:08:51.618Z"
   },
   {
    "duration": 8,
    "start_time": "2023-05-05T10:08:57.935Z"
   },
   {
    "duration": 4,
    "start_time": "2023-05-05T10:09:47.022Z"
   },
   {
    "duration": 8,
    "start_time": "2023-05-05T10:10:54.071Z"
   },
   {
    "duration": 10,
    "start_time": "2023-05-05T10:11:07.141Z"
   },
   {
    "duration": 8,
    "start_time": "2023-05-05T10:11:25.947Z"
   },
   {
    "duration": 11,
    "start_time": "2023-05-05T10:12:24.193Z"
   },
   {
    "duration": 12,
    "start_time": "2023-05-05T10:13:04.941Z"
   },
   {
    "duration": 15,
    "start_time": "2023-05-05T10:39:56.269Z"
   },
   {
    "duration": 12,
    "start_time": "2023-05-05T10:40:38.503Z"
   },
   {
    "duration": 11,
    "start_time": "2023-05-05T10:41:09.351Z"
   },
   {
    "duration": 168,
    "start_time": "2023-05-05T11:00:04.117Z"
   },
   {
    "duration": 224,
    "start_time": "2023-05-05T11:00:59.802Z"
   },
   {
    "duration": 160,
    "start_time": "2023-05-05T11:01:15.697Z"
   },
   {
    "duration": 184,
    "start_time": "2023-05-05T11:02:47.864Z"
   },
   {
    "duration": 79,
    "start_time": "2023-05-05T11:23:37.096Z"
   },
   {
    "duration": 1482,
    "start_time": "2023-05-05T13:31:09.327Z"
   },
   {
    "duration": 604,
    "start_time": "2023-05-05T13:31:10.811Z"
   },
   {
    "duration": 30,
    "start_time": "2023-05-05T13:31:11.417Z"
   },
   {
    "duration": 35,
    "start_time": "2023-05-05T13:31:11.453Z"
   },
   {
    "duration": 5,
    "start_time": "2023-05-05T13:31:11.490Z"
   },
   {
    "duration": 13,
    "start_time": "2023-05-05T13:31:11.496Z"
   },
   {
    "duration": 11,
    "start_time": "2023-05-05T13:31:11.511Z"
   },
   {
    "duration": 63,
    "start_time": "2023-05-05T13:31:11.523Z"
   },
   {
    "duration": 17,
    "start_time": "2023-05-05T13:31:11.588Z"
   },
   {
    "duration": 22,
    "start_time": "2023-05-05T13:31:11.607Z"
   },
   {
    "duration": 32,
    "start_time": "2023-05-05T13:31:11.631Z"
   },
   {
    "duration": 31,
    "start_time": "2023-05-05T13:31:11.667Z"
   },
   {
    "duration": 399,
    "start_time": "2023-05-05T13:31:11.700Z"
   },
   {
    "duration": 70,
    "start_time": "2023-05-05T13:31:12.104Z"
   },
   {
    "duration": 7,
    "start_time": "2023-05-05T13:31:12.176Z"
   },
   {
    "duration": 400,
    "start_time": "2023-05-05T13:31:12.185Z"
   },
   {
    "duration": 8,
    "start_time": "2023-05-05T13:31:12.586Z"
   },
   {
    "duration": 295,
    "start_time": "2023-05-05T13:31:12.595Z"
   },
   {
    "duration": 7,
    "start_time": "2023-05-05T13:31:12.892Z"
   },
   {
    "duration": 201,
    "start_time": "2023-05-05T13:31:12.901Z"
   },
   {
    "duration": 211,
    "start_time": "2023-05-05T13:31:13.103Z"
   },
   {
    "duration": 183,
    "start_time": "2023-05-05T13:31:13.316Z"
   },
   {
    "duration": 257,
    "start_time": "2023-05-05T13:31:13.500Z"
   },
   {
    "duration": 36,
    "start_time": "2023-05-05T13:31:13.759Z"
   },
   {
    "duration": 386,
    "start_time": "2023-05-05T13:31:13.797Z"
   },
   {
    "duration": 131,
    "start_time": "2023-05-05T13:31:14.188Z"
   },
   {
    "duration": 174,
    "start_time": "2023-05-05T13:31:14.321Z"
   },
   {
    "duration": 178,
    "start_time": "2023-05-05T13:31:14.497Z"
   },
   {
    "duration": 159,
    "start_time": "2023-05-05T13:31:14.676Z"
   },
   {
    "duration": 161,
    "start_time": "2023-05-05T13:31:14.840Z"
   },
   {
    "duration": 196,
    "start_time": "2023-05-05T13:31:15.003Z"
   },
   {
    "duration": 201,
    "start_time": "2023-05-05T13:31:15.201Z"
   },
   {
    "duration": 16,
    "start_time": "2023-05-05T13:31:15.404Z"
   },
   {
    "duration": 53,
    "start_time": "2023-05-05T13:31:15.422Z"
   },
   {
    "duration": 32,
    "start_time": "2023-05-05T13:31:15.479Z"
   },
   {
    "duration": 18,
    "start_time": "2023-05-05T13:31:15.513Z"
   },
   {
    "duration": 43,
    "start_time": "2023-05-05T13:31:15.537Z"
   },
   {
    "duration": 16,
    "start_time": "2023-05-05T13:31:15.581Z"
   },
   {
    "duration": 15,
    "start_time": "2023-05-05T13:31:15.598Z"
   },
   {
    "duration": 49,
    "start_time": "2023-05-05T13:31:15.615Z"
   },
   {
    "duration": 53,
    "start_time": "2023-05-05T13:31:15.671Z"
   },
   {
    "duration": 44,
    "start_time": "2023-05-05T13:31:15.726Z"
   },
   {
    "duration": 45,
    "start_time": "2023-05-05T13:31:15.775Z"
   },
   {
    "duration": 58,
    "start_time": "2023-05-05T13:31:15.822Z"
   },
   {
    "duration": 1604,
    "start_time": "2023-05-05T14:19:11.898Z"
   },
   {
    "duration": 222,
    "start_time": "2023-05-05T14:19:13.504Z"
   },
   {
    "duration": 35,
    "start_time": "2023-05-05T14:19:13.728Z"
   },
   {
    "duration": 15,
    "start_time": "2023-05-05T14:19:13.770Z"
   },
   {
    "duration": 742,
    "start_time": "2023-05-05T14:19:13.787Z"
   },
   {
    "duration": 481,
    "start_time": "2023-05-05T14:19:55.200Z"
   },
   {
    "duration": 716,
    "start_time": "2023-05-05T14:20:02.373Z"
   },
   {
    "duration": 119,
    "start_time": "2023-05-05T14:22:02.490Z"
   },
   {
    "duration": 8,
    "start_time": "2023-05-05T14:22:26.759Z"
   },
   {
    "duration": 55,
    "start_time": "2023-05-05T14:22:26.770Z"
   },
   {
    "duration": 21,
    "start_time": "2023-05-05T14:22:26.826Z"
   },
   {
    "duration": 50,
    "start_time": "2023-05-05T14:22:26.849Z"
   },
   {
    "duration": 798,
    "start_time": "2023-05-05T14:22:26.901Z"
   },
   {
    "duration": 5,
    "start_time": "2023-05-05T14:22:27.701Z"
   },
   {
    "duration": 11,
    "start_time": "2023-05-05T14:22:27.708Z"
   },
   {
    "duration": 9,
    "start_time": "2023-05-05T14:22:27.721Z"
   },
   {
    "duration": 52,
    "start_time": "2023-05-05T14:22:27.732Z"
   },
   {
    "duration": 20,
    "start_time": "2023-05-05T14:22:27.786Z"
   },
   {
    "duration": 10,
    "start_time": "2023-05-05T14:22:27.807Z"
   },
   {
    "duration": 9,
    "start_time": "2023-05-05T14:22:27.818Z"
   },
   {
    "duration": 9,
    "start_time": "2023-05-05T14:22:35.866Z"
   },
   {
    "duration": 6,
    "start_time": "2023-05-05T14:26:18.087Z"
   },
   {
    "duration": 151,
    "start_time": "2023-05-05T14:26:39.409Z"
   },
   {
    "duration": 10,
    "start_time": "2023-05-05T14:26:52.914Z"
   },
   {
    "duration": 5,
    "start_time": "2023-05-05T14:29:13.929Z"
   },
   {
    "duration": 9,
    "start_time": "2023-05-05T14:30:17.518Z"
   },
   {
    "duration": 11,
    "start_time": "2023-05-05T14:31:09.902Z"
   },
   {
    "duration": 13,
    "start_time": "2023-05-05T14:31:18.506Z"
   },
   {
    "duration": 11,
    "start_time": "2023-05-05T14:31:46.737Z"
   },
   {
    "duration": 19,
    "start_time": "2023-05-05T14:33:39.225Z"
   },
   {
    "duration": 12,
    "start_time": "2023-05-05T14:34:43.498Z"
   },
   {
    "duration": 26,
    "start_time": "2023-05-05T14:37:13.607Z"
   },
   {
    "duration": 11,
    "start_time": "2023-05-05T14:37:26.698Z"
   },
   {
    "duration": 3,
    "start_time": "2023-05-05T14:37:37.772Z"
   },
   {
    "duration": 67,
    "start_time": "2023-05-05T14:37:37.777Z"
   },
   {
    "duration": 16,
    "start_time": "2023-05-05T14:37:37.846Z"
   },
   {
    "duration": 14,
    "start_time": "2023-05-05T14:37:37.863Z"
   },
   {
    "duration": 677,
    "start_time": "2023-05-05T14:37:37.879Z"
   },
   {
    "duration": 5,
    "start_time": "2023-05-05T14:37:38.558Z"
   },
   {
    "duration": 11,
    "start_time": "2023-05-05T14:37:38.564Z"
   },
   {
    "duration": 9,
    "start_time": "2023-05-05T14:37:38.577Z"
   },
   {
    "duration": 17,
    "start_time": "2023-05-05T14:37:38.587Z"
   },
   {
    "duration": 44,
    "start_time": "2023-05-05T14:37:38.605Z"
   },
   {
    "duration": 6,
    "start_time": "2023-05-05T14:37:38.651Z"
   },
   {
    "duration": 6,
    "start_time": "2023-05-05T14:37:38.659Z"
   },
   {
    "duration": 20,
    "start_time": "2023-05-05T14:37:38.666Z"
   },
   {
    "duration": 13,
    "start_time": "2023-05-05T14:37:38.688Z"
   },
   {
    "duration": 11,
    "start_time": "2023-05-05T14:37:38.702Z"
   },
   {
    "duration": 34,
    "start_time": "2023-05-05T14:37:42.334Z"
   },
   {
    "duration": 12,
    "start_time": "2023-05-05T14:37:59.647Z"
   },
   {
    "duration": 13,
    "start_time": "2023-05-05T14:38:04.328Z"
   },
   {
    "duration": 22,
    "start_time": "2023-05-05T14:38:17.656Z"
   },
   {
    "duration": 4,
    "start_time": "2023-05-05T14:41:09.864Z"
   },
   {
    "duration": 63,
    "start_time": "2023-05-05T14:41:09.872Z"
   },
   {
    "duration": 16,
    "start_time": "2023-05-05T14:41:09.937Z"
   },
   {
    "duration": 28,
    "start_time": "2023-05-05T14:41:09.954Z"
   },
   {
    "duration": 676,
    "start_time": "2023-05-05T14:41:09.984Z"
   },
   {
    "duration": 5,
    "start_time": "2023-05-05T14:41:10.661Z"
   },
   {
    "duration": 21,
    "start_time": "2023-05-05T14:41:10.668Z"
   },
   {
    "duration": 38,
    "start_time": "2023-05-05T14:41:10.691Z"
   },
   {
    "duration": 17,
    "start_time": "2023-05-05T14:41:10.731Z"
   },
   {
    "duration": 21,
    "start_time": "2023-05-05T14:41:10.749Z"
   },
   {
    "duration": 7,
    "start_time": "2023-05-05T14:41:10.773Z"
   },
   {
    "duration": 9,
    "start_time": "2023-05-05T14:41:10.781Z"
   },
   {
    "duration": 33,
    "start_time": "2023-05-05T14:41:10.791Z"
   },
   {
    "duration": 17,
    "start_time": "2023-05-05T14:41:10.826Z"
   },
   {
    "duration": 29,
    "start_time": "2023-05-05T14:41:15.209Z"
   },
   {
    "duration": 18,
    "start_time": "2023-05-05T14:41:57.369Z"
   },
   {
    "duration": 12,
    "start_time": "2023-05-05T14:46:22.492Z"
   },
   {
    "duration": 6,
    "start_time": "2023-05-05T14:46:33.406Z"
   },
   {
    "duration": 17,
    "start_time": "2023-05-05T14:47:07.432Z"
   },
   {
    "duration": 92,
    "start_time": "2023-05-05T14:47:15.468Z"
   },
   {
    "duration": 7,
    "start_time": "2023-05-05T14:56:02.168Z"
   },
   {
    "duration": 3,
    "start_time": "2023-05-05T14:56:12.672Z"
   },
   {
    "duration": 48,
    "start_time": "2023-05-05T14:56:12.679Z"
   },
   {
    "duration": 15,
    "start_time": "2023-05-05T14:56:12.728Z"
   },
   {
    "duration": 23,
    "start_time": "2023-05-05T14:56:12.744Z"
   },
   {
    "duration": 743,
    "start_time": "2023-05-05T14:56:12.769Z"
   },
   {
    "duration": 7,
    "start_time": "2023-05-05T14:56:13.513Z"
   },
   {
    "duration": 9,
    "start_time": "2023-05-05T14:56:13.522Z"
   },
   {
    "duration": 36,
    "start_time": "2023-05-05T14:56:13.532Z"
   },
   {
    "duration": 22,
    "start_time": "2023-05-05T14:56:13.569Z"
   },
   {
    "duration": 19,
    "start_time": "2023-05-05T14:56:13.593Z"
   },
   {
    "duration": 12,
    "start_time": "2023-05-05T14:56:13.616Z"
   },
   {
    "duration": 25,
    "start_time": "2023-05-05T14:56:13.629Z"
   },
   {
    "duration": 40,
    "start_time": "2023-05-05T14:56:13.660Z"
   },
   {
    "duration": 16,
    "start_time": "2023-05-05T14:56:13.701Z"
   },
   {
    "duration": 18,
    "start_time": "2023-05-05T14:56:13.718Z"
   },
   {
    "duration": 32,
    "start_time": "2023-05-05T14:56:13.738Z"
   },
   {
    "duration": 5,
    "start_time": "2023-05-05T14:56:13.771Z"
   },
   {
    "duration": 67,
    "start_time": "2023-05-05T14:56:13.777Z"
   },
   {
    "duration": 320,
    "start_time": "2023-05-05T14:56:13.846Z"
   },
   {
    "duration": 37,
    "start_time": "2023-05-05T14:56:14.167Z"
   },
   {
    "duration": 6,
    "start_time": "2023-05-05T14:56:14.206Z"
   },
   {
    "duration": 361,
    "start_time": "2023-05-05T14:56:14.214Z"
   },
   {
    "duration": 10,
    "start_time": "2023-05-05T14:56:14.578Z"
   },
   {
    "duration": 307,
    "start_time": "2023-05-05T14:56:14.591Z"
   },
   {
    "duration": 12,
    "start_time": "2023-05-05T14:56:14.900Z"
   },
   {
    "duration": 153,
    "start_time": "2023-05-05T14:56:14.914Z"
   },
   {
    "duration": 115,
    "start_time": "2023-05-05T14:56:15.069Z"
   },
   {
    "duration": 192,
    "start_time": "2023-05-05T14:56:15.186Z"
   },
   {
    "duration": 114,
    "start_time": "2023-05-05T14:56:15.382Z"
   },
   {
    "duration": 22,
    "start_time": "2023-05-05T14:56:15.497Z"
   },
   {
    "duration": 268,
    "start_time": "2023-05-05T14:56:15.520Z"
   },
   {
    "duration": 153,
    "start_time": "2023-05-05T14:56:15.790Z"
   },
   {
    "duration": 150,
    "start_time": "2023-05-05T14:56:15.951Z"
   },
   {
    "duration": 133,
    "start_time": "2023-05-05T14:56:16.103Z"
   },
   {
    "duration": 140,
    "start_time": "2023-05-05T14:56:16.238Z"
   },
   {
    "duration": 132,
    "start_time": "2023-05-05T14:56:16.380Z"
   },
   {
    "duration": 167,
    "start_time": "2023-05-05T14:56:16.514Z"
   },
   {
    "duration": 185,
    "start_time": "2023-05-05T14:56:16.683Z"
   },
   {
    "duration": 17,
    "start_time": "2023-05-05T14:56:16.869Z"
   },
   {
    "duration": 17,
    "start_time": "2023-05-05T14:56:16.888Z"
   },
   {
    "duration": 12,
    "start_time": "2023-05-05T14:56:16.906Z"
   },
   {
    "duration": 15,
    "start_time": "2023-05-05T14:56:16.920Z"
   },
   {
    "duration": 17,
    "start_time": "2023-05-05T14:56:16.949Z"
   },
   {
    "duration": 17,
    "start_time": "2023-05-05T14:56:16.968Z"
   },
   {
    "duration": 14,
    "start_time": "2023-05-05T14:56:16.986Z"
   },
   {
    "duration": 98,
    "start_time": "2023-05-05T14:56:17.002Z"
   },
   {
    "duration": 16,
    "start_time": "2023-05-05T14:56:17.101Z"
   },
   {
    "duration": 33,
    "start_time": "2023-05-05T14:56:17.118Z"
   },
   {
    "duration": 13,
    "start_time": "2023-05-05T14:56:17.162Z"
   },
   {
    "duration": 11,
    "start_time": "2023-05-05T14:56:17.177Z"
   },
   {
    "duration": 38,
    "start_time": "2023-05-05T15:00:31.800Z"
   },
   {
    "duration": 27,
    "start_time": "2023-05-05T15:01:01.605Z"
   },
   {
    "duration": 157,
    "start_time": "2023-05-05T15:02:05.929Z"
   },
   {
    "duration": 79,
    "start_time": "2023-05-05T15:03:30.616Z"
   },
   {
    "duration": 947,
    "start_time": "2023-05-05T15:03:41.142Z"
   },
   {
    "duration": 24,
    "start_time": "2023-05-05T15:03:50.539Z"
   },
   {
    "duration": 140,
    "start_time": "2023-05-05T15:08:53.964Z"
   },
   {
    "duration": 136,
    "start_time": "2023-05-05T15:09:38.865Z"
   },
   {
    "duration": 7,
    "start_time": "2023-05-05T15:10:07.769Z"
   },
   {
    "duration": 147,
    "start_time": "2023-05-05T15:10:35.644Z"
   },
   {
    "duration": 139,
    "start_time": "2023-05-05T15:11:13.699Z"
   },
   {
    "duration": 121,
    "start_time": "2023-05-05T15:11:47.713Z"
   },
   {
    "duration": 133,
    "start_time": "2023-05-05T15:13:56.776Z"
   },
   {
    "duration": 9,
    "start_time": "2023-05-05T15:17:57.162Z"
   },
   {
    "duration": 16,
    "start_time": "2023-05-05T15:22:26.314Z"
   },
   {
    "duration": 7,
    "start_time": "2023-05-05T15:22:52.580Z"
   },
   {
    "duration": 19,
    "start_time": "2023-05-05T15:23:01.821Z"
   },
   {
    "duration": 135,
    "start_time": "2023-05-05T15:25:37.137Z"
   },
   {
    "duration": 135,
    "start_time": "2023-05-05T15:29:22.220Z"
   },
   {
    "duration": 150,
    "start_time": "2023-05-05T15:31:30.623Z"
   },
   {
    "duration": 1403,
    "start_time": "2023-05-05T15:32:40.066Z"
   },
   {
    "duration": 144,
    "start_time": "2023-05-05T15:32:56.426Z"
   },
   {
    "duration": 142,
    "start_time": "2023-05-05T15:40:56.533Z"
   },
   {
    "duration": 1647,
    "start_time": "2023-05-05T15:41:46.197Z"
   },
   {
    "duration": 124,
    "start_time": "2023-05-05T15:42:32.515Z"
   },
   {
    "duration": 252,
    "start_time": "2023-05-05T15:49:27.148Z"
   },
   {
    "duration": 271,
    "start_time": "2023-05-05T15:50:26.392Z"
   },
   {
    "duration": 352,
    "start_time": "2023-05-05T15:50:45.341Z"
   },
   {
    "duration": 262,
    "start_time": "2023-05-05T15:58:03.906Z"
   },
   {
    "duration": 11,
    "start_time": "2023-05-05T16:00:15.510Z"
   },
   {
    "duration": 313,
    "start_time": "2023-05-05T16:00:26.400Z"
   },
   {
    "duration": 316,
    "start_time": "2023-05-05T16:01:13.544Z"
   },
   {
    "duration": 323,
    "start_time": "2023-05-05T16:02:32.248Z"
   },
   {
    "duration": 112,
    "start_time": "2023-05-05T16:21:12.792Z"
   },
   {
    "duration": 140,
    "start_time": "2023-05-05T16:22:07.469Z"
   },
   {
    "duration": 143,
    "start_time": "2023-05-05T16:22:20.105Z"
   },
   {
    "duration": 119,
    "start_time": "2023-05-05T16:24:04.289Z"
   },
   {
    "duration": 229,
    "start_time": "2023-05-05T16:25:16.470Z"
   },
   {
    "duration": 150,
    "start_time": "2023-05-05T16:25:21.297Z"
   },
   {
    "duration": 129,
    "start_time": "2023-05-05T16:25:27.652Z"
   },
   {
    "duration": 131,
    "start_time": "2023-05-05T16:25:39.037Z"
   },
   {
    "duration": 124,
    "start_time": "2023-05-05T16:25:51.041Z"
   },
   {
    "duration": 27,
    "start_time": "2023-05-05T16:27:39.594Z"
   },
   {
    "duration": 27,
    "start_time": "2023-05-05T16:27:57.656Z"
   },
   {
    "duration": 25,
    "start_time": "2023-05-05T16:28:12.107Z"
   },
   {
    "duration": 18,
    "start_time": "2023-05-05T16:30:21.927Z"
   },
   {
    "duration": 30,
    "start_time": "2023-05-05T16:31:44.724Z"
   },
   {
    "duration": 14,
    "start_time": "2023-05-05T16:35:16.866Z"
   },
   {
    "duration": 14,
    "start_time": "2023-05-05T16:35:23.128Z"
   },
   {
    "duration": 13,
    "start_time": "2023-05-05T16:35:35.204Z"
   },
   {
    "duration": 3,
    "start_time": "2023-05-05T16:36:16.650Z"
   },
   {
    "duration": 52,
    "start_time": "2023-05-05T16:36:16.656Z"
   },
   {
    "duration": 15,
    "start_time": "2023-05-05T16:36:16.710Z"
   },
   {
    "duration": 16,
    "start_time": "2023-05-05T16:36:16.727Z"
   },
   {
    "duration": 747,
    "start_time": "2023-05-05T16:36:16.745Z"
   },
   {
    "duration": 5,
    "start_time": "2023-05-05T16:36:17.494Z"
   },
   {
    "duration": 10,
    "start_time": "2023-05-05T16:36:17.500Z"
   },
   {
    "duration": 8,
    "start_time": "2023-05-05T16:36:17.511Z"
   },
   {
    "duration": 41,
    "start_time": "2023-05-05T16:36:17.520Z"
   },
   {
    "duration": 14,
    "start_time": "2023-05-05T16:36:17.563Z"
   },
   {
    "duration": 9,
    "start_time": "2023-05-05T16:36:17.580Z"
   },
   {
    "duration": 7,
    "start_time": "2023-05-05T16:36:17.591Z"
   },
   {
    "duration": 21,
    "start_time": "2023-05-05T16:36:17.599Z"
   },
   {
    "duration": 39,
    "start_time": "2023-05-05T16:36:17.621Z"
   },
   {
    "duration": 17,
    "start_time": "2023-05-05T16:36:17.662Z"
   },
   {
    "duration": 17,
    "start_time": "2023-05-05T16:36:17.680Z"
   },
   {
    "duration": 5,
    "start_time": "2023-05-05T16:36:17.698Z"
   },
   {
    "duration": 56,
    "start_time": "2023-05-05T16:36:17.705Z"
   },
   {
    "duration": 282,
    "start_time": "2023-05-05T16:36:17.762Z"
   },
   {
    "duration": 34,
    "start_time": "2023-05-05T16:36:18.049Z"
   },
   {
    "duration": 6,
    "start_time": "2023-05-05T16:36:18.084Z"
   },
   {
    "duration": 409,
    "start_time": "2023-05-05T16:36:18.091Z"
   },
   {
    "duration": 7,
    "start_time": "2023-05-05T16:36:18.502Z"
   },
   {
    "duration": 220,
    "start_time": "2023-05-05T16:36:18.510Z"
   },
   {
    "duration": 7,
    "start_time": "2023-05-05T16:36:18.732Z"
   },
   {
    "duration": 117,
    "start_time": "2023-05-05T16:36:18.749Z"
   },
   {
    "duration": 135,
    "start_time": "2023-05-05T16:36:18.867Z"
   },
   {
    "duration": 135,
    "start_time": "2023-05-05T16:36:19.004Z"
   },
   {
    "duration": 126,
    "start_time": "2023-05-05T16:36:19.148Z"
   },
   {
    "duration": 127,
    "start_time": "2023-05-05T16:36:19.275Z"
   },
   {
    "duration": 25,
    "start_time": "2023-05-05T16:36:19.404Z"
   },
   {
    "duration": 289,
    "start_time": "2023-05-05T16:36:19.430Z"
   },
   {
    "duration": 262,
    "start_time": "2023-05-05T16:36:19.721Z"
   },
   {
    "duration": 339,
    "start_time": "2023-05-05T16:36:19.984Z"
   },
   {
    "duration": 147,
    "start_time": "2023-05-05T16:36:20.324Z"
   },
   {
    "duration": 159,
    "start_time": "2023-05-05T16:36:20.473Z"
   },
   {
    "duration": 136,
    "start_time": "2023-05-05T16:36:20.634Z"
   },
   {
    "duration": 114,
    "start_time": "2023-05-05T16:36:20.772Z"
   },
   {
    "duration": 156,
    "start_time": "2023-05-05T16:36:20.887Z"
   },
   {
    "duration": 158,
    "start_time": "2023-05-05T16:36:21.045Z"
   },
   {
    "duration": 23,
    "start_time": "2023-05-05T16:36:21.205Z"
   },
   {
    "duration": 28,
    "start_time": "2023-05-05T16:36:21.229Z"
   },
   {
    "duration": 18,
    "start_time": "2023-05-05T16:36:21.258Z"
   },
   {
    "duration": 15,
    "start_time": "2023-05-05T16:36:21.277Z"
   },
   {
    "duration": 19,
    "start_time": "2023-05-05T16:36:21.294Z"
   },
   {
    "duration": 14,
    "start_time": "2023-05-05T16:36:21.314Z"
   },
   {
    "duration": 12,
    "start_time": "2023-05-05T16:36:21.349Z"
   },
   {
    "duration": 16,
    "start_time": "2023-05-05T16:36:21.362Z"
   },
   {
    "duration": 12,
    "start_time": "2023-05-05T16:36:21.379Z"
   },
   {
    "duration": 12,
    "start_time": "2023-05-05T16:36:21.393Z"
   },
   {
    "duration": 210,
    "start_time": "2023-05-05T16:40:13.794Z"
   },
   {
    "duration": 439,
    "start_time": "2023-05-05T16:42:26.878Z"
   },
   {
    "duration": 328,
    "start_time": "2023-05-05T16:42:47.921Z"
   },
   {
    "duration": 529,
    "start_time": "2023-05-05T16:43:13.885Z"
   },
   {
    "duration": 447,
    "start_time": "2023-05-05T16:43:36.612Z"
   },
   {
    "duration": 523,
    "start_time": "2023-05-05T16:43:43.388Z"
   },
   {
    "duration": 646,
    "start_time": "2023-05-05T16:44:00.824Z"
   },
   {
    "duration": 70,
    "start_time": "2023-05-05T16:44:50.288Z"
   },
   {
    "duration": 436,
    "start_time": "2023-05-05T16:44:58.418Z"
   },
   {
    "duration": 269,
    "start_time": "2023-05-05T16:49:18.314Z"
   },
   {
    "duration": 203,
    "start_time": "2023-05-05T16:49:38.831Z"
   },
   {
    "duration": 459,
    "start_time": "2023-05-05T16:50:02.081Z"
   },
   {
    "duration": 391,
    "start_time": "2023-05-05T16:50:18.181Z"
   },
   {
    "duration": 414,
    "start_time": "2023-05-05T16:50:30.522Z"
   },
   {
    "duration": 471,
    "start_time": "2023-05-05T16:50:55.424Z"
   },
   {
    "duration": 451,
    "start_time": "2023-05-05T16:51:22.301Z"
   },
   {
    "duration": 628,
    "start_time": "2023-05-05T16:52:42.493Z"
   },
   {
    "duration": 679,
    "start_time": "2023-05-05T16:53:40.647Z"
   },
   {
    "duration": 460,
    "start_time": "2023-05-05T16:54:10.738Z"
   },
   {
    "duration": 603,
    "start_time": "2023-05-05T16:55:54.137Z"
   },
   {
    "duration": 431,
    "start_time": "2023-05-05T16:56:03.461Z"
   },
   {
    "duration": 446,
    "start_time": "2023-05-05T17:05:38.517Z"
   },
   {
    "duration": 403,
    "start_time": "2023-05-05T17:06:52.014Z"
   },
   {
    "duration": 13,
    "start_time": "2023-05-05T17:07:13.547Z"
   },
   {
    "duration": 10,
    "start_time": "2023-05-05T17:13:33.814Z"
   },
   {
    "duration": 10,
    "start_time": "2023-05-05T17:13:45.182Z"
   },
   {
    "duration": 3,
    "start_time": "2023-05-05T17:42:57.439Z"
   },
   {
    "duration": 63,
    "start_time": "2023-05-05T17:42:57.445Z"
   },
   {
    "duration": 14,
    "start_time": "2023-05-05T17:42:57.510Z"
   },
   {
    "duration": 17,
    "start_time": "2023-05-05T17:42:57.526Z"
   },
   {
    "duration": 708,
    "start_time": "2023-05-05T17:42:57.545Z"
   },
   {
    "duration": 5,
    "start_time": "2023-05-05T17:42:58.254Z"
   },
   {
    "duration": 11,
    "start_time": "2023-05-05T17:42:58.260Z"
   },
   {
    "duration": 8,
    "start_time": "2023-05-05T17:42:58.272Z"
   },
   {
    "duration": 15,
    "start_time": "2023-05-05T17:42:58.281Z"
   },
   {
    "duration": 13,
    "start_time": "2023-05-05T17:42:58.298Z"
   },
   {
    "duration": 153,
    "start_time": "2023-05-05T17:42:58.314Z"
   },
   {
    "duration": 6,
    "start_time": "2023-05-05T17:42:58.468Z"
   },
   {
    "duration": 21,
    "start_time": "2023-05-05T17:42:58.475Z"
   },
   {
    "duration": 14,
    "start_time": "2023-05-05T17:42:58.497Z"
   },
   {
    "duration": 38,
    "start_time": "2023-05-05T17:42:58.512Z"
   },
   {
    "duration": 17,
    "start_time": "2023-05-05T17:42:58.552Z"
   },
   {
    "duration": 6,
    "start_time": "2023-05-05T17:42:58.570Z"
   },
   {
    "duration": 18,
    "start_time": "2023-05-05T17:42:58.577Z"
   },
   {
    "duration": 296,
    "start_time": "2023-05-05T17:42:58.596Z"
   },
   {
    "duration": 32,
    "start_time": "2023-05-05T17:42:58.894Z"
   },
   {
    "duration": 5,
    "start_time": "2023-05-05T17:42:58.928Z"
   },
   {
    "duration": 312,
    "start_time": "2023-05-05T17:42:58.948Z"
   },
   {
    "duration": 7,
    "start_time": "2023-05-05T17:42:59.262Z"
   },
   {
    "duration": 217,
    "start_time": "2023-05-05T17:42:59.271Z"
   },
   {
    "duration": 7,
    "start_time": "2023-05-05T17:42:59.490Z"
   },
   {
    "duration": 128,
    "start_time": "2023-05-05T17:42:59.498Z"
   },
   {
    "duration": 147,
    "start_time": "2023-05-05T17:42:59.628Z"
   },
   {
    "duration": 166,
    "start_time": "2023-05-05T17:42:59.777Z"
   },
   {
    "duration": 130,
    "start_time": "2023-05-05T17:42:59.950Z"
   },
   {
    "duration": 131,
    "start_time": "2023-05-05T17:43:00.081Z"
   },
   {
    "duration": 21,
    "start_time": "2023-05-05T17:43:00.214Z"
   },
   {
    "duration": 285,
    "start_time": "2023-05-05T17:43:00.236Z"
   },
   {
    "duration": 255,
    "start_time": "2023-05-05T17:43:00.523Z"
   },
   {
    "duration": 396,
    "start_time": "2023-05-05T17:43:00.779Z"
   },
   {
    "duration": 143,
    "start_time": "2023-05-05T17:43:01.177Z"
   },
   {
    "duration": 157,
    "start_time": "2023-05-05T17:43:01.322Z"
   },
   {
    "duration": 129,
    "start_time": "2023-05-05T17:43:01.481Z"
   },
   {
    "duration": 127,
    "start_time": "2023-05-05T17:43:01.612Z"
   },
   {
    "duration": 150,
    "start_time": "2023-05-05T17:43:01.741Z"
   },
   {
    "duration": 160,
    "start_time": "2023-05-05T17:43:01.892Z"
   },
   {
    "duration": 25,
    "start_time": "2023-05-05T17:43:02.054Z"
   },
   {
    "duration": 40,
    "start_time": "2023-05-05T17:43:02.080Z"
   },
   {
    "duration": 36,
    "start_time": "2023-05-05T17:43:02.122Z"
   },
   {
    "duration": 49,
    "start_time": "2023-05-05T17:43:02.160Z"
   },
   {
    "duration": 467,
    "start_time": "2023-05-05T17:43:02.211Z"
   },
   {
    "duration": 14,
    "start_time": "2023-05-05T17:43:02.680Z"
   },
   {
    "duration": 22,
    "start_time": "2023-05-05T17:43:02.696Z"
   },
   {
    "duration": 61,
    "start_time": "2023-05-05T17:43:02.719Z"
   },
   {
    "duration": 473,
    "start_time": "2023-05-05T17:43:02.781Z"
   },
   {
    "duration": 13,
    "start_time": "2023-05-05T17:43:03.256Z"
   },
   {
    "duration": 52,
    "start_time": "2023-05-05T17:43:03.271Z"
   },
   {
    "duration": 55,
    "start_time": "2023-05-05T17:43:03.325Z"
   },
   {
    "duration": 454,
    "start_time": "2023-05-05T17:43:03.382Z"
   },
   {
    "duration": 20,
    "start_time": "2023-05-05T17:43:03.838Z"
   },
   {
    "duration": 34,
    "start_time": "2023-05-05T17:43:03.860Z"
   },
   {
    "duration": 73,
    "start_time": "2023-05-06T15:37:21.456Z"
   },
   {
    "duration": 1907,
    "start_time": "2023-05-06T15:37:25.579Z"
   },
   {
    "duration": 123,
    "start_time": "2023-05-06T15:37:27.496Z"
   },
   {
    "duration": 25,
    "start_time": "2023-05-06T15:37:27.621Z"
   },
   {
    "duration": 15,
    "start_time": "2023-05-06T15:37:27.648Z"
   },
   {
    "duration": 900,
    "start_time": "2023-05-06T15:37:27.665Z"
   },
   {
    "duration": 5,
    "start_time": "2023-05-06T15:37:28.567Z"
   },
   {
    "duration": 20,
    "start_time": "2023-05-06T15:37:28.585Z"
   },
   {
    "duration": 17,
    "start_time": "2023-05-06T15:37:28.609Z"
   },
   {
    "duration": 19,
    "start_time": "2023-05-06T15:37:28.628Z"
   },
   {
    "duration": 48,
    "start_time": "2023-05-06T15:37:28.650Z"
   },
   {
    "duration": 10,
    "start_time": "2023-05-06T15:37:28.706Z"
   },
   {
    "duration": 9,
    "start_time": "2023-05-06T15:37:28.718Z"
   },
   {
    "duration": 22,
    "start_time": "2023-05-06T15:37:28.730Z"
   },
   {
    "duration": 37,
    "start_time": "2023-05-06T15:37:28.753Z"
   },
   {
    "duration": 37,
    "start_time": "2023-05-06T15:37:28.794Z"
   },
   {
    "duration": 20,
    "start_time": "2023-05-06T15:37:28.833Z"
   },
   {
    "duration": 7,
    "start_time": "2023-05-06T15:37:28.855Z"
   },
   {
    "duration": 48,
    "start_time": "2023-05-06T15:37:28.863Z"
   },
   {
    "duration": 353,
    "start_time": "2023-05-06T15:37:28.914Z"
   },
   {
    "duration": 48,
    "start_time": "2023-05-06T15:37:29.268Z"
   },
   {
    "duration": 7,
    "start_time": "2023-05-06T15:37:29.318Z"
   },
   {
    "duration": 384,
    "start_time": "2023-05-06T15:37:29.327Z"
   },
   {
    "duration": 8,
    "start_time": "2023-05-06T15:37:29.713Z"
   },
   {
    "duration": 253,
    "start_time": "2023-05-06T15:37:29.723Z"
   },
   {
    "duration": 23,
    "start_time": "2023-05-06T15:37:29.978Z"
   },
   {
    "duration": 155,
    "start_time": "2023-05-06T15:37:30.003Z"
   },
   {
    "duration": 258,
    "start_time": "2023-05-06T15:37:30.160Z"
   },
   {
    "duration": 182,
    "start_time": "2023-05-06T15:37:30.425Z"
   },
   {
    "duration": 183,
    "start_time": "2023-05-06T15:37:30.611Z"
   },
   {
    "duration": 216,
    "start_time": "2023-05-06T15:37:30.798Z"
   },
   {
    "duration": 30,
    "start_time": "2023-05-06T15:37:31.017Z"
   },
   {
    "duration": 432,
    "start_time": "2023-05-06T15:37:31.049Z"
   },
   {
    "duration": 296,
    "start_time": "2023-05-06T15:37:31.483Z"
   },
   {
    "duration": 320,
    "start_time": "2023-05-06T15:37:31.781Z"
   },
   {
    "duration": 229,
    "start_time": "2023-05-06T15:37:32.109Z"
   },
   {
    "duration": 0,
    "start_time": "2023-05-06T15:37:32.339Z"
   },
   {
    "duration": 0,
    "start_time": "2023-05-06T15:37:32.340Z"
   },
   {
    "duration": 0,
    "start_time": "2023-05-06T15:37:32.342Z"
   },
   {
    "duration": 0,
    "start_time": "2023-05-06T15:37:32.343Z"
   },
   {
    "duration": 0,
    "start_time": "2023-05-06T15:37:32.344Z"
   },
   {
    "duration": 0,
    "start_time": "2023-05-06T15:37:32.346Z"
   },
   {
    "duration": 0,
    "start_time": "2023-05-06T15:37:32.346Z"
   },
   {
    "duration": 0,
    "start_time": "2023-05-06T15:37:32.347Z"
   },
   {
    "duration": 0,
    "start_time": "2023-05-06T15:37:32.349Z"
   },
   {
    "duration": 0,
    "start_time": "2023-05-06T15:37:32.349Z"
   },
   {
    "duration": 0,
    "start_time": "2023-05-06T15:37:32.350Z"
   },
   {
    "duration": 0,
    "start_time": "2023-05-06T15:37:32.351Z"
   },
   {
    "duration": 0,
    "start_time": "2023-05-06T15:37:32.352Z"
   },
   {
    "duration": 0,
    "start_time": "2023-05-06T15:37:32.353Z"
   },
   {
    "duration": 0,
    "start_time": "2023-05-06T15:37:32.355Z"
   },
   {
    "duration": 0,
    "start_time": "2023-05-06T15:37:32.356Z"
   },
   {
    "duration": 0,
    "start_time": "2023-05-06T15:37:32.357Z"
   },
   {
    "duration": 0,
    "start_time": "2023-05-06T15:37:32.385Z"
   },
   {
    "duration": 0,
    "start_time": "2023-05-06T15:37:32.386Z"
   },
   {
    "duration": 17,
    "start_time": "2023-05-06T15:37:37.509Z"
   },
   {
    "duration": 9,
    "start_time": "2023-05-06T15:37:54.363Z"
   },
   {
    "duration": 14,
    "start_time": "2023-05-06T15:39:15.819Z"
   },
   {
    "duration": 15,
    "start_time": "2023-05-06T15:40:34.037Z"
   },
   {
    "duration": 10,
    "start_time": "2023-05-06T15:40:41.148Z"
   },
   {
    "duration": 9,
    "start_time": "2023-05-06T15:41:21.756Z"
   },
   {
    "duration": 21,
    "start_time": "2023-05-06T15:41:53.894Z"
   },
   {
    "duration": 14,
    "start_time": "2023-05-06T15:42:07.677Z"
   },
   {
    "duration": 11,
    "start_time": "2023-05-06T15:44:17.344Z"
   },
   {
    "duration": 14,
    "start_time": "2023-05-06T15:44:50.718Z"
   },
   {
    "duration": 11,
    "start_time": "2023-05-06T15:45:42.519Z"
   },
   {
    "duration": 1204,
    "start_time": "2023-05-10T14:31:42.589Z"
   },
   {
    "duration": 194,
    "start_time": "2023-05-10T14:31:43.795Z"
   },
   {
    "duration": 20,
    "start_time": "2023-05-10T14:31:43.990Z"
   },
   {
    "duration": 17,
    "start_time": "2023-05-10T14:31:44.012Z"
   },
   {
    "duration": 652,
    "start_time": "2023-05-10T14:31:44.030Z"
   },
   {
    "duration": 5,
    "start_time": "2023-05-10T14:31:44.684Z"
   },
   {
    "duration": 9,
    "start_time": "2023-05-10T14:31:44.690Z"
   },
   {
    "duration": 9,
    "start_time": "2023-05-10T14:31:44.700Z"
   },
   {
    "duration": 14,
    "start_time": "2023-05-10T14:31:44.711Z"
   },
   {
    "duration": 12,
    "start_time": "2023-05-10T14:31:44.727Z"
   },
   {
    "duration": 34,
    "start_time": "2023-05-10T14:31:44.740Z"
   },
   {
    "duration": 5,
    "start_time": "2023-05-10T14:31:44.776Z"
   },
   {
    "duration": 25,
    "start_time": "2023-05-10T14:31:44.782Z"
   },
   {
    "duration": 12,
    "start_time": "2023-05-10T14:31:44.808Z"
   },
   {
    "duration": 15,
    "start_time": "2023-05-10T14:31:44.821Z"
   },
   {
    "duration": 35,
    "start_time": "2023-05-10T14:31:44.838Z"
   },
   {
    "duration": 6,
    "start_time": "2023-05-10T14:31:44.874Z"
   },
   {
    "duration": 16,
    "start_time": "2023-05-10T14:31:44.882Z"
   },
   {
    "duration": 292,
    "start_time": "2023-05-10T14:31:44.900Z"
   },
   {
    "duration": 34,
    "start_time": "2023-05-10T14:31:45.194Z"
   },
   {
    "duration": 5,
    "start_time": "2023-05-10T14:31:45.230Z"
   },
   {
    "duration": 293,
    "start_time": "2023-05-10T14:31:45.236Z"
   },
   {
    "duration": 7,
    "start_time": "2023-05-10T14:31:45.530Z"
   },
   {
    "duration": 205,
    "start_time": "2023-05-10T14:31:45.538Z"
   },
   {
    "duration": 11,
    "start_time": "2023-05-10T14:31:45.745Z"
   },
   {
    "duration": 120,
    "start_time": "2023-05-10T14:31:45.757Z"
   },
   {
    "duration": 219,
    "start_time": "2023-05-10T14:31:45.878Z"
   },
   {
    "duration": 146,
    "start_time": "2023-05-10T14:31:46.101Z"
   },
   {
    "duration": 115,
    "start_time": "2023-05-10T14:31:46.249Z"
   },
   {
    "duration": 109,
    "start_time": "2023-05-10T14:31:46.371Z"
   },
   {
    "duration": 18,
    "start_time": "2023-05-10T14:31:46.482Z"
   },
   {
    "duration": 281,
    "start_time": "2023-05-10T14:31:46.501Z"
   },
   {
    "duration": 213,
    "start_time": "2023-05-10T14:31:46.784Z"
   },
   {
    "duration": 227,
    "start_time": "2023-05-10T14:31:50.557Z"
   },
   {
    "duration": 241,
    "start_time": "2023-05-10T14:31:58.662Z"
   },
   {
    "duration": 283,
    "start_time": "2023-05-10T14:32:04.712Z"
   },
   {
    "duration": 266,
    "start_time": "2023-05-10T14:32:44.007Z"
   },
   {
    "duration": 4,
    "start_time": "2023-05-10T15:30:24.560Z"
   },
   {
    "duration": 2,
    "start_time": "2023-05-10T15:30:52.708Z"
   },
   {
    "duration": 3,
    "start_time": "2023-05-10T15:31:01.799Z"
   },
   {
    "duration": 67,
    "start_time": "2023-05-10T15:33:15.360Z"
   },
   {
    "duration": 3,
    "start_time": "2023-05-10T15:33:22.237Z"
   },
   {
    "duration": 3,
    "start_time": "2023-05-10T15:33:34.341Z"
   },
   {
    "duration": 4,
    "start_time": "2023-05-10T15:33:45.762Z"
   },
   {
    "duration": 3,
    "start_time": "2023-05-10T15:33:59.154Z"
   },
   {
    "duration": 7,
    "start_time": "2023-05-10T15:34:42.822Z"
   },
   {
    "duration": 1914,
    "start_time": "2023-06-19T12:28:30.086Z"
   },
   {
    "duration": 178,
    "start_time": "2023-06-19T12:28:32.003Z"
   },
   {
    "duration": 19,
    "start_time": "2023-06-19T12:28:32.183Z"
   },
   {
    "duration": 29,
    "start_time": "2023-06-19T12:28:32.203Z"
   },
   {
    "duration": 724,
    "start_time": "2023-06-19T12:28:32.235Z"
   },
   {
    "duration": 4,
    "start_time": "2023-06-19T12:28:32.961Z"
   },
   {
    "duration": 15,
    "start_time": "2023-06-19T12:28:32.966Z"
   },
   {
    "duration": 7,
    "start_time": "2023-06-19T12:28:32.983Z"
   },
   {
    "duration": 17,
    "start_time": "2023-06-19T12:28:32.992Z"
   },
   {
    "duration": 15,
    "start_time": "2023-06-19T12:28:33.010Z"
   },
   {
    "duration": 34,
    "start_time": "2023-06-19T12:28:33.027Z"
   },
   {
    "duration": 19,
    "start_time": "2023-06-19T12:28:33.064Z"
   },
   {
    "duration": 41,
    "start_time": "2023-06-19T12:28:33.085Z"
   },
   {
    "duration": 14,
    "start_time": "2023-06-19T12:28:33.130Z"
   },
   {
    "duration": 19,
    "start_time": "2023-06-19T12:28:33.146Z"
   },
   {
    "duration": 17,
    "start_time": "2023-06-19T12:28:33.167Z"
   },
   {
    "duration": 5,
    "start_time": "2023-06-19T12:28:33.186Z"
   },
   {
    "duration": 23,
    "start_time": "2023-06-19T12:28:33.192Z"
   },
   {
    "duration": 295,
    "start_time": "2023-06-19T12:28:33.217Z"
   },
   {
    "duration": 45,
    "start_time": "2023-06-19T12:28:33.514Z"
   },
   {
    "duration": 5,
    "start_time": "2023-06-19T12:28:33.561Z"
   },
   {
    "duration": 304,
    "start_time": "2023-06-19T12:28:33.567Z"
   },
   {
    "duration": 8,
    "start_time": "2023-06-19T12:28:33.872Z"
   },
   {
    "duration": 199,
    "start_time": "2023-06-19T12:28:33.881Z"
   },
   {
    "duration": 8,
    "start_time": "2023-06-19T12:28:34.082Z"
   },
   {
    "duration": 129,
    "start_time": "2023-06-19T12:28:34.092Z"
   },
   {
    "duration": 208,
    "start_time": "2023-06-19T12:28:34.223Z"
   },
   {
    "duration": 128,
    "start_time": "2023-06-19T12:28:34.433Z"
   },
   {
    "duration": 123,
    "start_time": "2023-06-19T12:28:34.562Z"
   },
   {
    "duration": 125,
    "start_time": "2023-06-19T12:28:34.687Z"
   },
   {
    "duration": 22,
    "start_time": "2023-06-19T12:28:34.813Z"
   },
   {
    "duration": 299,
    "start_time": "2023-06-19T12:28:34.836Z"
   },
   {
    "duration": 225,
    "start_time": "2023-06-19T12:28:35.136Z"
   },
   {
    "duration": 270,
    "start_time": "2023-06-19T12:28:35.363Z"
   },
   {
    "duration": 226,
    "start_time": "2023-06-19T12:28:35.634Z"
   },
   {
    "duration": 0,
    "start_time": "2023-06-19T12:28:35.861Z"
   },
   {
    "duration": 0,
    "start_time": "2023-06-19T12:28:35.863Z"
   },
   {
    "duration": 0,
    "start_time": "2023-06-19T12:28:35.864Z"
   },
   {
    "duration": 0,
    "start_time": "2023-06-19T12:28:35.865Z"
   },
   {
    "duration": 0,
    "start_time": "2023-06-19T12:28:35.866Z"
   },
   {
    "duration": 0,
    "start_time": "2023-06-19T12:28:35.867Z"
   },
   {
    "duration": 0,
    "start_time": "2023-06-19T12:28:35.868Z"
   },
   {
    "duration": 0,
    "start_time": "2023-06-19T12:28:35.869Z"
   },
   {
    "duration": 0,
    "start_time": "2023-06-19T12:28:35.869Z"
   },
   {
    "duration": 0,
    "start_time": "2023-06-19T12:28:35.871Z"
   },
   {
    "duration": 0,
    "start_time": "2023-06-19T12:28:35.872Z"
   },
   {
    "duration": 0,
    "start_time": "2023-06-19T12:28:35.872Z"
   },
   {
    "duration": 0,
    "start_time": "2023-06-19T12:28:35.874Z"
   },
   {
    "duration": 0,
    "start_time": "2023-06-19T12:28:35.875Z"
   },
   {
    "duration": 0,
    "start_time": "2023-06-19T12:28:35.876Z"
   },
   {
    "duration": 0,
    "start_time": "2023-06-19T12:28:35.877Z"
   },
   {
    "duration": 0,
    "start_time": "2023-06-19T12:28:35.878Z"
   },
   {
    "duration": 0,
    "start_time": "2023-06-19T12:28:35.879Z"
   },
   {
    "duration": 0,
    "start_time": "2023-06-19T12:28:35.880Z"
   },
   {
    "duration": 0,
    "start_time": "2023-06-19T12:28:35.882Z"
   },
   {
    "duration": 0,
    "start_time": "2023-06-19T12:28:35.883Z"
   },
   {
    "duration": 134,
    "start_time": "2023-06-19T12:29:07.186Z"
   },
   {
    "duration": 214,
    "start_time": "2023-06-19T12:29:14.788Z"
   },
   {
    "duration": 2,
    "start_time": "2023-06-19T12:29:20.528Z"
   },
   {
    "duration": 59,
    "start_time": "2023-06-19T12:29:20.532Z"
   },
   {
    "duration": 16,
    "start_time": "2023-06-19T12:29:20.593Z"
   },
   {
    "duration": 17,
    "start_time": "2023-06-19T12:29:20.611Z"
   },
   {
    "duration": 735,
    "start_time": "2023-06-19T12:29:20.630Z"
   },
   {
    "duration": 5,
    "start_time": "2023-06-19T12:29:21.368Z"
   },
   {
    "duration": 16,
    "start_time": "2023-06-19T12:29:21.374Z"
   },
   {
    "duration": 20,
    "start_time": "2023-06-19T12:29:21.391Z"
   },
   {
    "duration": 17,
    "start_time": "2023-06-19T12:29:21.412Z"
   },
   {
    "duration": 26,
    "start_time": "2023-06-19T12:29:21.430Z"
   },
   {
    "duration": 10,
    "start_time": "2023-06-19T12:29:21.458Z"
   },
   {
    "duration": 17,
    "start_time": "2023-06-19T12:29:21.469Z"
   },
   {
    "duration": 17,
    "start_time": "2023-06-19T12:29:21.487Z"
   },
   {
    "duration": 13,
    "start_time": "2023-06-19T12:29:21.506Z"
   },
   {
    "duration": 35,
    "start_time": "2023-06-19T12:29:21.520Z"
   },
   {
    "duration": 18,
    "start_time": "2023-06-19T12:29:21.557Z"
   },
   {
    "duration": 6,
    "start_time": "2023-06-19T12:29:21.577Z"
   },
   {
    "duration": 41,
    "start_time": "2023-06-19T12:29:21.584Z"
   },
   {
    "duration": 272,
    "start_time": "2023-06-19T12:29:21.627Z"
   },
   {
    "duration": 33,
    "start_time": "2023-06-19T12:29:21.900Z"
   },
   {
    "duration": 5,
    "start_time": "2023-06-19T12:29:21.934Z"
   },
   {
    "duration": 294,
    "start_time": "2023-06-19T12:29:21.954Z"
   },
   {
    "duration": 7,
    "start_time": "2023-06-19T12:29:22.253Z"
   },
   {
    "duration": 208,
    "start_time": "2023-06-19T12:29:22.261Z"
   },
   {
    "duration": 8,
    "start_time": "2023-06-19T12:29:22.470Z"
   },
   {
    "duration": 138,
    "start_time": "2023-06-19T12:29:22.479Z"
   },
   {
    "duration": 213,
    "start_time": "2023-06-19T12:29:22.619Z"
   },
   {
    "duration": 128,
    "start_time": "2023-06-19T12:29:22.834Z"
   },
   {
    "duration": 127,
    "start_time": "2023-06-19T12:29:22.966Z"
   },
   {
    "duration": 136,
    "start_time": "2023-06-19T12:29:23.095Z"
   },
   {
    "duration": 29,
    "start_time": "2023-06-19T12:29:23.233Z"
   },
   {
    "duration": 274,
    "start_time": "2023-06-19T12:29:23.264Z"
   },
   {
    "duration": 232,
    "start_time": "2023-06-19T12:29:23.540Z"
   },
   {
    "duration": 281,
    "start_time": "2023-06-19T12:29:23.773Z"
   },
   {
    "duration": 147,
    "start_time": "2023-06-19T12:29:24.056Z"
   },
   {
    "duration": 156,
    "start_time": "2023-06-19T12:29:24.204Z"
   },
   {
    "duration": 0,
    "start_time": "2023-06-19T12:29:24.362Z"
   },
   {
    "duration": 0,
    "start_time": "2023-06-19T12:29:24.363Z"
   },
   {
    "duration": 0,
    "start_time": "2023-06-19T12:29:24.364Z"
   },
   {
    "duration": 0,
    "start_time": "2023-06-19T12:29:24.366Z"
   },
   {
    "duration": 0,
    "start_time": "2023-06-19T12:29:24.367Z"
   },
   {
    "duration": 0,
    "start_time": "2023-06-19T12:29:24.368Z"
   },
   {
    "duration": 0,
    "start_time": "2023-06-19T12:29:24.369Z"
   },
   {
    "duration": 0,
    "start_time": "2023-06-19T12:29:24.370Z"
   },
   {
    "duration": 0,
    "start_time": "2023-06-19T12:29:24.371Z"
   },
   {
    "duration": 0,
    "start_time": "2023-06-19T12:29:24.372Z"
   },
   {
    "duration": 0,
    "start_time": "2023-06-19T12:29:24.373Z"
   },
   {
    "duration": 0,
    "start_time": "2023-06-19T12:29:24.374Z"
   },
   {
    "duration": 0,
    "start_time": "2023-06-19T12:29:24.375Z"
   },
   {
    "duration": 0,
    "start_time": "2023-06-19T12:29:24.377Z"
   },
   {
    "duration": 0,
    "start_time": "2023-06-19T12:29:24.378Z"
   },
   {
    "duration": 0,
    "start_time": "2023-06-19T12:29:24.379Z"
   },
   {
    "duration": 0,
    "start_time": "2023-06-19T12:29:24.381Z"
   },
   {
    "duration": 0,
    "start_time": "2023-06-19T12:29:24.383Z"
   },
   {
    "duration": 0,
    "start_time": "2023-06-19T12:29:24.384Z"
   },
   {
    "duration": 0,
    "start_time": "2023-06-19T12:29:24.385Z"
   },
   {
    "duration": 1665,
    "start_time": "2023-09-16T17:25:46.903Z"
   },
   {
    "duration": 135,
    "start_time": "2023-09-16T17:25:48.572Z"
   },
   {
    "duration": 39,
    "start_time": "2023-09-16T17:25:48.709Z"
   },
   {
    "duration": 18,
    "start_time": "2023-09-16T17:25:48.750Z"
   },
   {
    "duration": 990,
    "start_time": "2023-09-16T17:25:48.769Z"
   },
   {
    "duration": 5,
    "start_time": "2023-09-16T17:25:49.761Z"
   },
   {
    "duration": 12,
    "start_time": "2023-09-16T17:25:49.768Z"
   },
   {
    "duration": 32,
    "start_time": "2023-09-16T17:25:49.781Z"
   },
   {
    "duration": 28,
    "start_time": "2023-09-16T17:25:49.820Z"
   },
   {
    "duration": 17,
    "start_time": "2023-09-16T17:25:49.853Z"
   },
   {
    "duration": 15,
    "start_time": "2023-09-16T17:25:49.871Z"
   },
   {
    "duration": 6,
    "start_time": "2023-09-16T17:25:49.888Z"
   },
   {
    "duration": 53,
    "start_time": "2023-09-16T17:25:49.896Z"
   },
   {
    "duration": 16,
    "start_time": "2023-09-16T17:25:49.952Z"
   },
   {
    "duration": 21,
    "start_time": "2023-09-16T17:25:49.970Z"
   },
   {
    "duration": 45,
    "start_time": "2023-09-16T17:25:49.992Z"
   },
   {
    "duration": 14,
    "start_time": "2023-09-16T17:25:50.039Z"
   },
   {
    "duration": 40,
    "start_time": "2023-09-16T17:25:50.055Z"
   },
   {
    "duration": 432,
    "start_time": "2023-09-16T17:25:50.097Z"
   },
   {
    "duration": 51,
    "start_time": "2023-09-16T17:25:50.533Z"
   },
   {
    "duration": 7,
    "start_time": "2023-09-16T17:25:50.586Z"
   },
   {
    "duration": 424,
    "start_time": "2023-09-16T17:25:50.595Z"
   },
   {
    "duration": 23,
    "start_time": "2023-09-16T17:25:51.024Z"
   },
   {
    "duration": 246,
    "start_time": "2023-09-16T17:25:51.053Z"
   },
   {
    "duration": 18,
    "start_time": "2023-09-16T17:25:51.301Z"
   },
   {
    "duration": 158,
    "start_time": "2023-09-16T17:25:51.321Z"
   },
   {
    "duration": 269,
    "start_time": "2023-09-16T17:25:51.481Z"
   },
   {
    "duration": 168,
    "start_time": "2023-09-16T17:25:51.754Z"
   },
   {
    "duration": 167,
    "start_time": "2023-09-16T17:25:51.924Z"
   },
   {
    "duration": 194,
    "start_time": "2023-09-16T17:25:52.094Z"
   },
   {
    "duration": 41,
    "start_time": "2023-09-16T17:25:52.290Z"
   },
   {
    "duration": 463,
    "start_time": "2023-09-16T17:25:52.336Z"
   },
   {
    "duration": 379,
    "start_time": "2023-09-16T17:25:52.803Z"
   },
   {
    "duration": 387,
    "start_time": "2023-09-16T17:25:53.184Z"
   },
   {
    "duration": 191,
    "start_time": "2023-09-16T17:25:53.573Z"
   },
   {
    "duration": 196,
    "start_time": "2023-09-16T17:25:53.766Z"
   },
   {
    "duration": 245,
    "start_time": "2023-09-16T17:25:53.964Z"
   },
   {
    "duration": 193,
    "start_time": "2023-09-16T17:25:54.218Z"
   },
   {
    "duration": 199,
    "start_time": "2023-09-16T17:25:54.419Z"
   },
   {
    "duration": 39,
    "start_time": "2023-09-16T17:25:54.620Z"
   },
   {
    "duration": 16,
    "start_time": "2023-09-16T17:25:54.661Z"
   },
   {
    "duration": 51,
    "start_time": "2023-09-16T17:25:54.679Z"
   },
   {
    "duration": 26,
    "start_time": "2023-09-16T17:25:54.732Z"
   },
   {
    "duration": 605,
    "start_time": "2023-09-16T17:25:54.760Z"
   },
   {
    "duration": 14,
    "start_time": "2023-09-16T17:25:55.369Z"
   },
   {
    "duration": 39,
    "start_time": "2023-09-16T17:25:55.385Z"
   },
   {
    "duration": 30,
    "start_time": "2023-09-16T17:25:55.430Z"
   },
   {
    "duration": 587,
    "start_time": "2023-09-16T17:25:55.462Z"
   },
   {
    "duration": 13,
    "start_time": "2023-09-16T17:25:56.052Z"
   },
   {
    "duration": 14,
    "start_time": "2023-09-16T17:25:56.067Z"
   },
   {
    "duration": 47,
    "start_time": "2023-09-16T17:25:56.082Z"
   },
   {
    "duration": 560,
    "start_time": "2023-09-16T17:25:56.138Z"
   },
   {
    "duration": 23,
    "start_time": "2023-09-16T17:25:56.700Z"
   },
   {
    "duration": 25,
    "start_time": "2023-09-16T17:25:56.725Z"
   }
  ],
  "kernelspec": {
   "display_name": "Python 3 (ipykernel)",
   "language": "python",
   "name": "python3"
  },
  "language_info": {
   "codemirror_mode": {
    "name": "ipython",
    "version": 3
   },
   "file_extension": ".py",
   "mimetype": "text/x-python",
   "name": "python",
   "nbconvert_exporter": "python",
   "pygments_lexer": "ipython3",
   "version": "3.9.5"
  },
  "toc": {
   "base_numbering": 1,
   "nav_menu": {},
   "number_sections": true,
   "sideBar": true,
   "skip_h1_title": true,
   "title_cell": "Table of Contents",
   "title_sidebar": "Contents",
   "toc_cell": false,
   "toc_position": {},
   "toc_section_display": true,
   "toc_window_display": false
  }
 },
 "nbformat": 4,
 "nbformat_minor": 2
}
