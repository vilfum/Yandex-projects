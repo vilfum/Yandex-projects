{
 "cells": [
  {
   "cell_type": "markdown",
   "id": "2608b652",
   "metadata": {},
   "source": [
    "Дашборд: <https://public.tableau.com/views/1_16934993639190/sheet2?:language=en-US&publish=yes&:display_count=n&:origin=viz_share_link>"
   ]
  },
  {
   "cell_type": "code",
   "execution_count": null,
   "id": "69304549",
   "metadata": {},
   "outputs": [],
   "source": []
  }
 ],
 "metadata": {
  "kernelspec": {
   "display_name": "Python 3 (ipykernel)",
   "language": "python",
   "name": "python3"
  },
  "language_info": {
   "codemirror_mode": {
    "name": "ipython",
    "version": 3
   },
   "file_extension": ".py",
   "mimetype": "text/x-python",
   "name": "python",
   "nbconvert_exporter": "python",
   "pygments_lexer": "ipython3",
   "version": "3.10.9"
  }
 },
 "nbformat": 4,
 "nbformat_minor": 5
}
