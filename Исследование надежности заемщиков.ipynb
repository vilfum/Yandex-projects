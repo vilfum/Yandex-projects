{
 "cells": [
  {
   "cell_type": "markdown",
   "id": "386f2ae7",
   "metadata": {
    "deletable": false,
    "editable": false,
    "id": "386f2ae7"
   },
   "source": [
    "# Исследование надежности заемщиков\n"
   ]
  },
  {
   "cell_type": "markdown",
   "id": "ffe86f65",
   "metadata": {
    "deletable": false,
    "editable": false,
    "id": "ffe86f65"
   },
   "source": [
    "Во второй части проекта вы выполните шаги 3 и 4. Их вручную проверит ревьюер.\n",
    "Чтобы вам не пришлось писать код заново для шагов 1 и 2, мы добавили авторские решения в ячейки с кодом. \n",
    "\n"
   ]
  },
  {
   "cell_type": "markdown",
   "id": "26613308",
   "metadata": {
    "deletable": false,
    "editable": false,
    "id": "26613308"
   },
   "source": [
    "## Откройте таблицу и изучите общую информацию о данных"
   ]
  },
  {
   "cell_type": "markdown",
   "id": "3c9f838e",
   "metadata": {
    "deletable": false,
    "editable": false,
    "id": "3c9f838e"
   },
   "source": [
    "**Задание 1. Импортируйте библиотеку pandas. Считайте данные из csv-файла в датафрейм и сохраните в переменную `data`. Путь к файлу:**\n",
    "\n",
    "`/datasets/data.csv`"
   ]
  },
  {
   "cell_type": "code",
   "execution_count": 391,
   "id": "77a68a90",
   "metadata": {
    "deletable": false,
    "id": "77a68a90"
   },
   "outputs": [],
   "source": [
    "import pandas as pd\n",
    "\n",
    "try:\n",
    "    data = pd.read_csv('/datasets/data.csv')\n",
    "except:\n",
    "    data = pd.read_csv('https://code.s3.yandex.net/datasets/data.csv')"
   ]
  },
  {
   "cell_type": "markdown",
   "id": "45365635",
   "metadata": {
    "deletable": false,
    "editable": false,
    "id": "45365635"
   },
   "source": [
    "**Задание 2. Выведите первые 20 строчек датафрейма `data` на экран.**"
   ]
  },
  {
   "cell_type": "code",
   "execution_count": 392,
   "id": "b0451a9a",
   "metadata": {
    "deletable": false,
    "id": "b0451a9a",
    "outputId": "1a8f3ef2-d323-4ec2-ddf7-89670b5944c4"
   },
   "outputs": [
    {
     "data": {
      "text/html": [
       "<div>\n",
       "<style scoped>\n",
       "    .dataframe tbody tr th:only-of-type {\n",
       "        vertical-align: middle;\n",
       "    }\n",
       "\n",
       "    .dataframe tbody tr th {\n",
       "        vertical-align: top;\n",
       "    }\n",
       "\n",
       "    .dataframe thead th {\n",
       "        text-align: right;\n",
       "    }\n",
       "</style>\n",
       "<table border=\"1\" class=\"dataframe\">\n",
       "  <thead>\n",
       "    <tr style=\"text-align: right;\">\n",
       "      <th></th>\n",
       "      <th>children</th>\n",
       "      <th>days_employed</th>\n",
       "      <th>dob_years</th>\n",
       "      <th>education</th>\n",
       "      <th>education_id</th>\n",
       "      <th>family_status</th>\n",
       "      <th>family_status_id</th>\n",
       "      <th>gender</th>\n",
       "      <th>income_type</th>\n",
       "      <th>debt</th>\n",
       "      <th>total_income</th>\n",
       "      <th>purpose</th>\n",
       "    </tr>\n",
       "  </thead>\n",
       "  <tbody>\n",
       "    <tr>\n",
       "      <th>0</th>\n",
       "      <td>1</td>\n",
       "      <td>-8437.673028</td>\n",
       "      <td>42</td>\n",
       "      <td>высшее</td>\n",
       "      <td>0</td>\n",
       "      <td>женат / замужем</td>\n",
       "      <td>0</td>\n",
       "      <td>F</td>\n",
       "      <td>сотрудник</td>\n",
       "      <td>0</td>\n",
       "      <td>253875.639453</td>\n",
       "      <td>покупка жилья</td>\n",
       "    </tr>\n",
       "    <tr>\n",
       "      <th>1</th>\n",
       "      <td>1</td>\n",
       "      <td>-4024.803754</td>\n",
       "      <td>36</td>\n",
       "      <td>среднее</td>\n",
       "      <td>1</td>\n",
       "      <td>женат / замужем</td>\n",
       "      <td>0</td>\n",
       "      <td>F</td>\n",
       "      <td>сотрудник</td>\n",
       "      <td>0</td>\n",
       "      <td>112080.014102</td>\n",
       "      <td>приобретение автомобиля</td>\n",
       "    </tr>\n",
       "    <tr>\n",
       "      <th>2</th>\n",
       "      <td>0</td>\n",
       "      <td>-5623.422610</td>\n",
       "      <td>33</td>\n",
       "      <td>Среднее</td>\n",
       "      <td>1</td>\n",
       "      <td>женат / замужем</td>\n",
       "      <td>0</td>\n",
       "      <td>M</td>\n",
       "      <td>сотрудник</td>\n",
       "      <td>0</td>\n",
       "      <td>145885.952297</td>\n",
       "      <td>покупка жилья</td>\n",
       "    </tr>\n",
       "    <tr>\n",
       "      <th>3</th>\n",
       "      <td>3</td>\n",
       "      <td>-4124.747207</td>\n",
       "      <td>32</td>\n",
       "      <td>среднее</td>\n",
       "      <td>1</td>\n",
       "      <td>женат / замужем</td>\n",
       "      <td>0</td>\n",
       "      <td>M</td>\n",
       "      <td>сотрудник</td>\n",
       "      <td>0</td>\n",
       "      <td>267628.550329</td>\n",
       "      <td>дополнительное образование</td>\n",
       "    </tr>\n",
       "    <tr>\n",
       "      <th>4</th>\n",
       "      <td>0</td>\n",
       "      <td>340266.072047</td>\n",
       "      <td>53</td>\n",
       "      <td>среднее</td>\n",
       "      <td>1</td>\n",
       "      <td>гражданский брак</td>\n",
       "      <td>1</td>\n",
       "      <td>F</td>\n",
       "      <td>пенсионер</td>\n",
       "      <td>0</td>\n",
       "      <td>158616.077870</td>\n",
       "      <td>сыграть свадьбу</td>\n",
       "    </tr>\n",
       "    <tr>\n",
       "      <th>5</th>\n",
       "      <td>0</td>\n",
       "      <td>-926.185831</td>\n",
       "      <td>27</td>\n",
       "      <td>высшее</td>\n",
       "      <td>0</td>\n",
       "      <td>гражданский брак</td>\n",
       "      <td>1</td>\n",
       "      <td>M</td>\n",
       "      <td>компаньон</td>\n",
       "      <td>0</td>\n",
       "      <td>255763.565419</td>\n",
       "      <td>покупка жилья</td>\n",
       "    </tr>\n",
       "    <tr>\n",
       "      <th>6</th>\n",
       "      <td>0</td>\n",
       "      <td>-2879.202052</td>\n",
       "      <td>43</td>\n",
       "      <td>высшее</td>\n",
       "      <td>0</td>\n",
       "      <td>женат / замужем</td>\n",
       "      <td>0</td>\n",
       "      <td>F</td>\n",
       "      <td>компаньон</td>\n",
       "      <td>0</td>\n",
       "      <td>240525.971920</td>\n",
       "      <td>операции с жильем</td>\n",
       "    </tr>\n",
       "    <tr>\n",
       "      <th>7</th>\n",
       "      <td>0</td>\n",
       "      <td>-152.779569</td>\n",
       "      <td>50</td>\n",
       "      <td>СРЕДНЕЕ</td>\n",
       "      <td>1</td>\n",
       "      <td>женат / замужем</td>\n",
       "      <td>0</td>\n",
       "      <td>M</td>\n",
       "      <td>сотрудник</td>\n",
       "      <td>0</td>\n",
       "      <td>135823.934197</td>\n",
       "      <td>образование</td>\n",
       "    </tr>\n",
       "    <tr>\n",
       "      <th>8</th>\n",
       "      <td>2</td>\n",
       "      <td>-6929.865299</td>\n",
       "      <td>35</td>\n",
       "      <td>ВЫСШЕЕ</td>\n",
       "      <td>0</td>\n",
       "      <td>гражданский брак</td>\n",
       "      <td>1</td>\n",
       "      <td>F</td>\n",
       "      <td>сотрудник</td>\n",
       "      <td>0</td>\n",
       "      <td>95856.832424</td>\n",
       "      <td>на проведение свадьбы</td>\n",
       "    </tr>\n",
       "    <tr>\n",
       "      <th>9</th>\n",
       "      <td>0</td>\n",
       "      <td>-2188.756445</td>\n",
       "      <td>41</td>\n",
       "      <td>среднее</td>\n",
       "      <td>1</td>\n",
       "      <td>женат / замужем</td>\n",
       "      <td>0</td>\n",
       "      <td>M</td>\n",
       "      <td>сотрудник</td>\n",
       "      <td>0</td>\n",
       "      <td>144425.938277</td>\n",
       "      <td>покупка жилья для семьи</td>\n",
       "    </tr>\n",
       "  </tbody>\n",
       "</table>\n",
       "</div>"
      ],
      "text/plain": [
       "   children  days_employed  dob_years education  education_id  \\\n",
       "0         1   -8437.673028         42    высшее             0   \n",
       "1         1   -4024.803754         36   среднее             1   \n",
       "2         0   -5623.422610         33   Среднее             1   \n",
       "3         3   -4124.747207         32   среднее             1   \n",
       "4         0  340266.072047         53   среднее             1   \n",
       "5         0    -926.185831         27    высшее             0   \n",
       "6         0   -2879.202052         43    высшее             0   \n",
       "7         0    -152.779569         50   СРЕДНЕЕ             1   \n",
       "8         2   -6929.865299         35    ВЫСШЕЕ             0   \n",
       "9         0   -2188.756445         41   среднее             1   \n",
       "\n",
       "      family_status  family_status_id gender income_type  debt   total_income  \\\n",
       "0   женат / замужем                 0      F   сотрудник     0  253875.639453   \n",
       "1   женат / замужем                 0      F   сотрудник     0  112080.014102   \n",
       "2   женат / замужем                 0      M   сотрудник     0  145885.952297   \n",
       "3   женат / замужем                 0      M   сотрудник     0  267628.550329   \n",
       "4  гражданский брак                 1      F   пенсионер     0  158616.077870   \n",
       "5  гражданский брак                 1      M   компаньон     0  255763.565419   \n",
       "6   женат / замужем                 0      F   компаньон     0  240525.971920   \n",
       "7   женат / замужем                 0      M   сотрудник     0  135823.934197   \n",
       "8  гражданский брак                 1      F   сотрудник     0   95856.832424   \n",
       "9   женат / замужем                 0      M   сотрудник     0  144425.938277   \n",
       "\n",
       "                      purpose  \n",
       "0               покупка жилья  \n",
       "1     приобретение автомобиля  \n",
       "2               покупка жилья  \n",
       "3  дополнительное образование  \n",
       "4             сыграть свадьбу  \n",
       "5               покупка жилья  \n",
       "6           операции с жильем  \n",
       "7                 образование  \n",
       "8       на проведение свадьбы  \n",
       "9     покупка жилья для семьи  "
      ]
     },
     "execution_count": 392,
     "metadata": {},
     "output_type": "execute_result"
    }
   ],
   "source": [
    "data.head(10)"
   ]
  },
  {
   "cell_type": "markdown",
   "id": "0ed8f27f",
   "metadata": {
    "deletable": false,
    "editable": false,
    "id": "0ed8f27f"
   },
   "source": [
    "**Задание 3. Выведите основную информацию о датафрейме с помощью метода `info()`.**"
   ]
  },
  {
   "cell_type": "code",
   "execution_count": 393,
   "id": "ab3f863b",
   "metadata": {
    "deletable": false,
    "id": "ab3f863b",
    "outputId": "15376089-8dad-46c9-b520-c05248d43158"
   },
   "outputs": [
    {
     "name": "stdout",
     "output_type": "stream",
     "text": [
      "<class 'pandas.core.frame.DataFrame'>\n",
      "RangeIndex: 21525 entries, 0 to 21524\n",
      "Data columns (total 12 columns):\n",
      " #   Column            Non-Null Count  Dtype  \n",
      "---  ------            --------------  -----  \n",
      " 0   children          21525 non-null  int64  \n",
      " 1   days_employed     19351 non-null  float64\n",
      " 2   dob_years         21525 non-null  int64  \n",
      " 3   education         21525 non-null  object \n",
      " 4   education_id      21525 non-null  int64  \n",
      " 5   family_status     21525 non-null  object \n",
      " 6   family_status_id  21525 non-null  int64  \n",
      " 7   gender            21525 non-null  object \n",
      " 8   income_type       21525 non-null  object \n",
      " 9   debt              21525 non-null  int64  \n",
      " 10  total_income      19351 non-null  float64\n",
      " 11  purpose           21525 non-null  object \n",
      "dtypes: float64(2), int64(5), object(5)\n",
      "memory usage: 2.0+ MB\n"
     ]
    }
   ],
   "source": [
    "data.info()"
   ]
  },
  {
   "cell_type": "markdown",
   "id": "60e3e22d",
   "metadata": {
    "deletable": false,
    "editable": false,
    "id": "60e3e22d"
   },
   "source": [
    "## Предобработка данных"
   ]
  },
  {
   "cell_type": "markdown",
   "id": "03dc170c",
   "metadata": {
    "deletable": false,
    "editable": false,
    "id": "03dc170c"
   },
   "source": [
    "### Удаление пропусков"
   ]
  },
  {
   "cell_type": "markdown",
   "id": "a4f54eef",
   "metadata": {
    "deletable": false,
    "editable": false,
    "id": "a4f54eef"
   },
   "source": [
    "**Задание 4. Выведите количество пропущенных значений для каждого столбца. Используйте комбинацию двух методов.**"
   ]
  },
  {
   "cell_type": "code",
   "execution_count": 394,
   "id": "2dc372b2",
   "metadata": {
    "deletable": false,
    "id": "2dc372b2",
    "outputId": "81f4d817-781c-465c-ed15-91ce4446810d"
   },
   "outputs": [
    {
     "data": {
      "text/plain": [
       "children               0\n",
       "days_employed       2174\n",
       "dob_years              0\n",
       "education              0\n",
       "education_id           0\n",
       "family_status          0\n",
       "family_status_id       0\n",
       "gender                 0\n",
       "income_type            0\n",
       "debt                   0\n",
       "total_income        2174\n",
       "purpose                0\n",
       "dtype: int64"
      ]
     },
     "execution_count": 394,
     "metadata": {},
     "output_type": "execute_result"
    }
   ],
   "source": [
    "data.isna().sum()"
   ]
  },
  {
   "cell_type": "markdown",
   "id": "14f011b1",
   "metadata": {
    "deletable": false,
    "editable": false,
    "id": "14f011b1"
   },
   "source": [
    "**Задание 5. В двух столбцах есть пропущенные значения. Один из них — `days_employed`. Пропуски в этом столбце вы обработаете на следующем этапе. Другой столбец с пропущенными значениями — `total_income` — хранит данные о доходах. На сумму дохода сильнее всего влияет тип занятости, поэтому заполнить пропуски в этом столбце нужно медианным значением по каждому типу из столбца `income_type`. Например, у человека с типом занятости `сотрудник` пропуск в столбце `total_income` должен быть заполнен медианным доходом среди всех записей с тем же типом.**"
   ]
  },
  {
   "cell_type": "code",
   "execution_count": 395,
   "id": "bdabfb6e",
   "metadata": {
    "deletable": false,
    "id": "bdabfb6e"
   },
   "outputs": [],
   "source": [
    "for t in data['income_type'].unique():\n",
    "    data.loc[(data['income_type'] == t) & (data['total_income'].isna()), 'total_income'] = \\\n",
    "    data.loc[(data['income_type'] == t), 'total_income'].median()"
   ]
  },
  {
   "cell_type": "markdown",
   "id": "5be34059",
   "metadata": {
    "deletable": false,
    "editable": false,
    "id": "5be34059"
   },
   "source": [
    "### Обработка аномальных значений"
   ]
  },
  {
   "cell_type": "markdown",
   "id": "a87606cb",
   "metadata": {
    "deletable": false,
    "editable": false,
    "id": "a87606cb"
   },
   "source": [
    "**Задание 6. В данных могут встречаться артефакты (аномалии) — значения, которые не отражают действительность и появились по какой-то ошибке. таким артефактом будет отрицательное количество дней трудового стажа в столбце `days_employed`. Для реальных данных это нормально. Обработайте значения в этом столбце: замените все отрицательные значения положительными с помощью метода `abs()`.**"
   ]
  },
  {
   "cell_type": "code",
   "execution_count": 396,
   "id": "020c46cc",
   "metadata": {
    "deletable": false,
    "id": "020c46cc"
   },
   "outputs": [],
   "source": [
    "data['days_employed'] = data['days_employed'].abs()"
   ]
  },
  {
   "cell_type": "markdown",
   "id": "45538a3a",
   "metadata": {
    "deletable": false,
    "editable": false,
    "id": "45538a3a"
   },
   "source": [
    "**Задание 7. Для каждого типа занятости выведите медианное значение трудового стажа `days_employed` в днях.**"
   ]
  },
  {
   "cell_type": "code",
   "execution_count": 397,
   "id": "cd3e6328",
   "metadata": {
    "deletable": false,
    "id": "cd3e6328",
    "outputId": "801ef80e-522b-4668-f34e-565af7432bcf"
   },
   "outputs": [
    {
     "data": {
      "text/plain": [
       "income_type\n",
       "безработный        366413.652744\n",
       "в декрете            3296.759962\n",
       "госслужащий          2689.368353\n",
       "компаньон            1547.382223\n",
       "пенсионер          365213.306266\n",
       "предприниматель       520.848083\n",
       "сотрудник            1574.202821\n",
       "студент               578.751554\n",
       "Name: days_employed, dtype: float64"
      ]
     },
     "execution_count": 397,
     "metadata": {},
     "output_type": "execute_result"
    }
   ],
   "source": [
    "data.groupby('income_type')['days_employed'].agg('median')"
   ]
  },
  {
   "cell_type": "markdown",
   "id": "90c5f058",
   "metadata": {
    "deletable": false,
    "editable": false,
    "id": "90c5f058"
   },
   "source": [
    "У двух типов (безработные и пенсионеры) получатся аномально большие значения. Исправить такие значения сложно, поэтому оставьте их как есть."
   ]
  },
  {
   "cell_type": "markdown",
   "id": "9652e50d",
   "metadata": {
    "deletable": false,
    "editable": false,
    "id": "9652e50d"
   },
   "source": [
    "**Задание 8. Выведите перечень уникальных значений столбца `children`.**"
   ]
  },
  {
   "cell_type": "code",
   "execution_count": 398,
   "id": "dbb37b8e",
   "metadata": {
    "deletable": false,
    "id": "dbb37b8e",
    "outputId": "6975b15c-7f95-4697-d16d-a0c79b657b03"
   },
   "outputs": [
    {
     "data": {
      "text/plain": [
       "array([ 1,  0,  3,  2, -1,  4, 20,  5])"
      ]
     },
     "execution_count": 398,
     "metadata": {},
     "output_type": "execute_result"
    }
   ],
   "source": [
    "data['children'].unique()"
   ]
  },
  {
   "cell_type": "markdown",
   "id": "2b8b0715",
   "metadata": {
    "deletable": false,
    "editable": false,
    "id": "2b8b0715"
   },
   "source": [
    "**Задание 9. В столбце `children` есть два аномальных значения. Удалите строки, в которых встречаются такие аномальные значения из датафрейма `data`.**"
   ]
  },
  {
   "cell_type": "code",
   "execution_count": 399,
   "id": "20009df8",
   "metadata": {
    "deletable": false,
    "id": "20009df8"
   },
   "outputs": [],
   "source": [
    "data = data[(data['children'] != -1) & (data['children'] != 20)]"
   ]
  },
  {
   "cell_type": "markdown",
   "id": "8c6ac9f1",
   "metadata": {
    "deletable": false,
    "editable": false,
    "id": "8c6ac9f1"
   },
   "source": [
    "**Задание 10. Ещё раз выведите перечень уникальных значений столбца `children`, чтобы убедиться, что артефакты удалены.**"
   ]
  },
  {
   "cell_type": "code",
   "execution_count": 400,
   "id": "07337b81",
   "metadata": {
    "deletable": false,
    "id": "07337b81",
    "outputId": "b2097101-d49d-44d9-901b-32a65c9463d1"
   },
   "outputs": [
    {
     "data": {
      "text/plain": [
       "array([1, 0, 3, 2, 4, 5])"
      ]
     },
     "execution_count": 400,
     "metadata": {},
     "output_type": "execute_result"
    }
   ],
   "source": [
    "data['children'].unique()"
   ]
  },
  {
   "cell_type": "markdown",
   "id": "ee3f52d4",
   "metadata": {
    "deletable": false,
    "editable": false,
    "id": "ee3f52d4"
   },
   "source": [
    "### Удаление пропусков (продолжение)"
   ]
  },
  {
   "cell_type": "markdown",
   "id": "a700b0e4",
   "metadata": {
    "deletable": false,
    "editable": false,
    "id": "a700b0e4"
   },
   "source": [
    "**Задание 11. Заполните пропуски в столбце `days_employed` медианными значениями по каждого типа занятости `income_type`.**"
   ]
  },
  {
   "cell_type": "code",
   "execution_count": 401,
   "id": "61946b83",
   "metadata": {
    "deletable": false,
    "id": "61946b83"
   },
   "outputs": [],
   "source": [
    "for t in data['income_type'].unique():\n",
    "    data.loc[(data['income_type'] == t) & (data['days_employed'].isna()), 'days_employed'] = \\\n",
    "    data.loc[(data['income_type'] == t), 'days_employed'].median()"
   ]
  },
  {
   "cell_type": "markdown",
   "id": "550dcd9b",
   "metadata": {
    "deletable": false,
    "editable": false,
    "id": "550dcd9b"
   },
   "source": [
    "**Задание 12. Убедитесь, что все пропуски заполнены. Проверьте себя и ещё раз выведите количество пропущенных значений для каждого столбца с помощью двух методов.**"
   ]
  },
  {
   "cell_type": "code",
   "execution_count": 402,
   "id": "937c7014",
   "metadata": {
    "deletable": false,
    "id": "937c7014",
    "outputId": "8da1e4e1-358e-4e87-98c9-f261bce0a7b2"
   },
   "outputs": [
    {
     "data": {
      "text/plain": [
       "children            0\n",
       "days_employed       0\n",
       "dob_years           0\n",
       "education           0\n",
       "education_id        0\n",
       "family_status       0\n",
       "family_status_id    0\n",
       "gender              0\n",
       "income_type         0\n",
       "debt                0\n",
       "total_income        0\n",
       "purpose             0\n",
       "dtype: int64"
      ]
     },
     "execution_count": 402,
     "metadata": {},
     "output_type": "execute_result"
    }
   ],
   "source": [
    "data.isna().sum()"
   ]
  },
  {
   "cell_type": "markdown",
   "id": "d522e295",
   "metadata": {
    "deletable": false,
    "editable": false,
    "id": "d522e295"
   },
   "source": [
    "### Изменение типов данных"
   ]
  },
  {
   "cell_type": "markdown",
   "id": "c229c581",
   "metadata": {
    "deletable": false,
    "editable": false,
    "id": "c229c581"
   },
   "source": [
    "**Задание 13. Замените вещественный тип данных в столбце `total_income` на целочисленный с помощью метода `astype()`.**"
   ]
  },
  {
   "cell_type": "code",
   "execution_count": 403,
   "id": "31036462",
   "metadata": {
    "deletable": false,
    "id": "31036462"
   },
   "outputs": [],
   "source": [
    "data['total_income'] = data['total_income'].astype(int)"
   ]
  },
  {
   "cell_type": "markdown",
   "id": "b8e3d1d9",
   "metadata": {
    "deletable": false,
    "editable": false,
    "id": "b8e3d1d9"
   },
   "source": [
    "### Обработка дубликатов"
   ]
  },
  {
   "cell_type": "markdown",
   "id": "9be53c49",
   "metadata": {
    "deletable": false,
    "editable": false,
    "id": "9be53c49"
   },
   "source": [
    "**Задание 14. Обработайте неявные дубликаты в столбце `education`. В этом столбце есть одни и те же значения, но записанные по-разному: с использованием заглавных и строчных букв. Приведите их к нижнему регистру.**"
   ]
  },
  {
   "cell_type": "code",
   "execution_count": 404,
   "id": "d89e73e1",
   "metadata": {
    "deletable": false,
    "id": "d89e73e1"
   },
   "outputs": [],
   "source": [
    "data['education'] = data['education'].str.lower()"
   ]
  },
  {
   "cell_type": "markdown",
   "id": "01d4500e",
   "metadata": {
    "deletable": false,
    "editable": false,
    "id": "01d4500e"
   },
   "source": [
    "**Задание 15. Выведите на экран количество строк-дубликатов в данных. Если такие строки присутствуют, удалите их.**"
   ]
  },
  {
   "cell_type": "code",
   "execution_count": 405,
   "id": "e10efb23",
   "metadata": {
    "deletable": false,
    "id": "e10efb23",
    "outputId": "9684deba-1934-42d1-99e1-cda61740f822"
   },
   "outputs": [
    {
     "data": {
      "text/plain": [
       "71"
      ]
     },
     "execution_count": 405,
     "metadata": {},
     "output_type": "execute_result"
    }
   ],
   "source": [
    "data.duplicated().sum()"
   ]
  },
  {
   "cell_type": "code",
   "execution_count": 406,
   "id": "df853f20",
   "metadata": {
    "deletable": false,
    "id": "df853f20"
   },
   "outputs": [],
   "source": [
    "data = data.drop_duplicates()"
   ]
  },
  {
   "cell_type": "markdown",
   "id": "627be38f",
   "metadata": {
    "deletable": false,
    "editable": false,
    "id": "627be38f"
   },
   "source": [
    "### Категоризация данных"
   ]
  },
  {
   "cell_type": "markdown",
   "id": "4684c3e0",
   "metadata": {
    "deletable": false,
    "editable": false,
    "id": "4684c3e0"
   },
   "source": [
    "**Задание 16. На основании диапазонов, указанных ниже, создайте в датафрейме `data` столбец `total_income_category` с категориями:**\n",
    "\n",
    "- 0–30000 — `'E'`;\n",
    "- 30001–50000 — `'D'`;\n",
    "- 50001–200000 — `'C'`;\n",
    "- 200001–1000000 — `'B'`;\n",
    "- 1000001 и выше — `'A'`.\n",
    "\n",
    "\n",
    "**Например, кредитополучателю с доходом 25000 нужно назначить категорию `'E'`, а клиенту, получающему 235000, — `'B'`. Используйте собственную функцию с именем `categorize_income()` и метод `apply()`.**"
   ]
  },
  {
   "cell_type": "code",
   "execution_count": 407,
   "id": "78965238",
   "metadata": {
    "deletable": false,
    "id": "78965238"
   },
   "outputs": [],
   "source": [
    "def categorize_income(income):\n",
    "    try:\n",
    "        if 0 <= income <= 30000:\n",
    "            return 'E'\n",
    "        elif 30001 <= income <= 50000:\n",
    "            return 'D'\n",
    "        elif 50001 <= income <= 200000:\n",
    "            return 'C'\n",
    "        elif 200001 <= income <= 1000000:\n",
    "            return 'B'\n",
    "        elif income >= 1000001:\n",
    "            return 'A'\n",
    "    except:\n",
    "        pass"
   ]
  },
  {
   "cell_type": "code",
   "execution_count": 408,
   "id": "0980ada1",
   "metadata": {
    "deletable": false,
    "id": "0980ada1"
   },
   "outputs": [],
   "source": [
    "data['total_income_category'] = data['total_income'].apply(categorize_income)"
   ]
  },
  {
   "cell_type": "markdown",
   "id": "9917bba0",
   "metadata": {
    "deletable": false,
    "editable": false,
    "id": "9917bba0"
   },
   "source": [
    "**Задание 17. Выведите на экран перечень уникальных целей взятия кредита из столбца `purpose`.**"
   ]
  },
  {
   "cell_type": "code",
   "execution_count": 409,
   "id": "ee07b65e",
   "metadata": {
    "deletable": false,
    "id": "ee07b65e",
    "outputId": "673c12d9-7d7e-4ae0-9812-c622c89dd244"
   },
   "outputs": [
    {
     "data": {
      "text/plain": [
       "array(['покупка жилья', 'приобретение автомобиля',\n",
       "       'дополнительное образование', 'сыграть свадьбу',\n",
       "       'операции с жильем', 'образование', 'на проведение свадьбы',\n",
       "       'покупка жилья для семьи', 'покупка недвижимости',\n",
       "       'покупка коммерческой недвижимости', 'покупка жилой недвижимости',\n",
       "       'строительство собственной недвижимости', 'недвижимость',\n",
       "       'строительство недвижимости', 'на покупку подержанного автомобиля',\n",
       "       'на покупку своего автомобиля',\n",
       "       'операции с коммерческой недвижимостью',\n",
       "       'строительство жилой недвижимости', 'жилье',\n",
       "       'операции со своей недвижимостью', 'автомобили',\n",
       "       'заняться образованием', 'сделка с подержанным автомобилем',\n",
       "       'получение образования', 'автомобиль', 'свадьба',\n",
       "       'получение дополнительного образования', 'покупка своего жилья',\n",
       "       'операции с недвижимостью', 'получение высшего образования',\n",
       "       'свой автомобиль', 'сделка с автомобилем',\n",
       "       'профильное образование', 'высшее образование',\n",
       "       'покупка жилья для сдачи', 'на покупку автомобиля', 'ремонт жилью',\n",
       "       'заняться высшим образованием'], dtype=object)"
      ]
     },
     "execution_count": 409,
     "metadata": {},
     "output_type": "execute_result"
    }
   ],
   "source": [
    "data['purpose'].unique()"
   ]
  },
  {
   "cell_type": "markdown",
   "id": "52b79d56",
   "metadata": {
    "deletable": false,
    "editable": false,
    "id": "52b79d56"
   },
   "source": [
    "**Задание 18. Создайте функцию, которая на основании данных из столбца `purpose` сформирует новый столбец `purpose_category`, в который войдут следующие категории:**\n",
    "\n",
    "- `'операции с автомобилем'`,\n",
    "- `'операции с недвижимостью'`,\n",
    "- `'проведение свадьбы'`,\n",
    "- `'получение образования'`.\n",
    "\n",
    "**Например, если в столбце `purpose` находится подстрока `'на покупку автомобиля'`, то в столбце `purpose_category` должна появиться строка `'операции с автомобилем'`.**\n",
    "\n",
    "**Используйте собственную функцию с именем `categorize_purpose()` и метод `apply()`. Изучите данные в столбце `purpose` и определите, какие подстроки помогут вам правильно определить категорию.**"
   ]
  },
  {
   "cell_type": "code",
   "execution_count": 410,
   "id": "be41da5d",
   "metadata": {
    "deletable": false,
    "id": "be41da5d"
   },
   "outputs": [],
   "source": [
    "def categorize_purpose(row):\n",
    "    try:\n",
    "        if 'автом' in row:\n",
    "            return 'операции с автомобилем'\n",
    "        elif 'жил' in row or 'недвиж' in row:\n",
    "            return 'операции с недвижимостью'\n",
    "        elif 'свад' in row:\n",
    "            return 'проведение свадьбы'\n",
    "        elif 'образов' in row:\n",
    "            return 'получение образования'\n",
    "    except:\n",
    "        return 'нет категории'"
   ]
  },
  {
   "cell_type": "code",
   "execution_count": 411,
   "id": "94c4a19a",
   "metadata": {
    "deletable": false,
    "id": "94c4a19a"
   },
   "outputs": [],
   "source": [
    "data['purpose_category'] = data['purpose'].apply(categorize_purpose)"
   ]
  },
  {
   "cell_type": "markdown",
   "id": "3d596c34",
   "metadata": {
    "deletable": false,
    "editable": false,
    "id": "3d596c34"
   },
   "source": [
    "### Шаг 3. Исследуйте данные и ответьте на вопросы"
   ]
  },
  {
   "cell_type": "markdown",
   "id": "79386acd",
   "metadata": {},
   "source": [
    "**Цель исследования**:\n",
    "Необходимо выявить зависимость между количеством детей, семейным положением и доходом на факт погашения кредита в срок. Согласно поставленной задаче выведем следующие гипотезы:\n",
    "\n",
    "- Количество детей влияет на возврат кредита в срок;\n",
    "- Семейное положение влияет на возврат кредита в срок;\n",
    "- Уровень дохода влияет на возврат кредита в срок;\n",
    "- Цель кредита влияет на возврат кредита в срок.\n",
    "\n",
    "**Способ исследования**:\n",
    "Для выявления зависимостей между категорией Клиента и погашением кредита в срок необходимо подсчитать долю наличия задолженности по каждой категории от общего числа Клиентов по заданной категории. Чем выше показатель, тем менее надежным можно считать категорию Клиентов."
   ]
  },
  {
   "cell_type": "markdown",
   "id": "648db036",
   "metadata": {
    "deletable": false,
    "editable": false,
    "id": "648db036"
   },
   "source": [
    "#### 3.1 Есть ли зависимость между количеством детей и возвратом кредита в срок?"
   ]
  },
  {
   "cell_type": "markdown",
   "id": "a484f851",
   "metadata": {},
   "source": [
    "Создадим функцию, которая в качестве аргумента принимает название столбца с категориями и подсчитывает долю наличия задолженности:"
   ]
  },
  {
   "cell_type": "code",
   "execution_count": 412,
   "id": "7fcff25e",
   "metadata": {
    "deletable": false,
    "id": "7fcff25e"
   },
   "outputs": [],
   "source": [
    "# объявляем функцию с помощью ключа def\n",
    "# для группировки значений по категориям используем метод groupby()\n",
    "# так как в столбце debt хранятся только значения 0 и 1, что соответствует отсутствию\n",
    "# и наличию задолженности по кредиту можем использовать метод mean() и умножение его на 100\n",
    "# используем round() для уменьшения количества знаков после запятой\n",
    "# и сортируем в порядке убывания методом sort_values()\n",
    "# для более красивого вывода результата можно использовать метод to_frame()\n",
    "def category_debt(column):\n",
    "    share_by_category = data.groupby(column)['debt'].mean() * 100\n",
    "    return share_by_category.round(2).sort_values(ascending=False).to_frame()"
   ]
  },
  {
   "cell_type": "markdown",
   "id": "b3036fdd",
   "metadata": {
    "scrolled": false
   },
   "source": [
    "Используем созданную функцию с аргументом 'children' для подсчета доли просрочек в зависимости от количества детей"
   ]
  },
  {
   "cell_type": "code",
   "execution_count": 413,
   "id": "d7ec0cf6",
   "metadata": {},
   "outputs": [
    {
     "data": {
      "text/html": [
       "<div>\n",
       "<style scoped>\n",
       "    .dataframe tbody tr th:only-of-type {\n",
       "        vertical-align: middle;\n",
       "    }\n",
       "\n",
       "    .dataframe tbody tr th {\n",
       "        vertical-align: top;\n",
       "    }\n",
       "\n",
       "    .dataframe thead th {\n",
       "        text-align: right;\n",
       "    }\n",
       "</style>\n",
       "<table border=\"1\" class=\"dataframe\">\n",
       "  <thead>\n",
       "    <tr style=\"text-align: right;\">\n",
       "      <th></th>\n",
       "      <th>debt</th>\n",
       "    </tr>\n",
       "    <tr>\n",
       "      <th>children</th>\n",
       "      <th></th>\n",
       "    </tr>\n",
       "  </thead>\n",
       "  <tbody>\n",
       "    <tr>\n",
       "      <th>4</th>\n",
       "      <td>9.76</td>\n",
       "    </tr>\n",
       "    <tr>\n",
       "      <th>2</th>\n",
       "      <td>9.45</td>\n",
       "    </tr>\n",
       "    <tr>\n",
       "      <th>1</th>\n",
       "      <td>9.23</td>\n",
       "    </tr>\n",
       "    <tr>\n",
       "      <th>3</th>\n",
       "      <td>8.18</td>\n",
       "    </tr>\n",
       "    <tr>\n",
       "      <th>0</th>\n",
       "      <td>7.54</td>\n",
       "    </tr>\n",
       "    <tr>\n",
       "      <th>5</th>\n",
       "      <td>0.00</td>\n",
       "    </tr>\n",
       "  </tbody>\n",
       "</table>\n",
       "</div>"
      ],
      "text/plain": [
       "          debt\n",
       "children      \n",
       "4         9.76\n",
       "2         9.45\n",
       "1         9.23\n",
       "3         8.18\n",
       "0         7.54\n",
       "5         0.00"
      ]
     },
     "execution_count": 413,
     "metadata": {},
     "output_type": "execute_result"
    }
   ],
   "source": [
    "category_debt('children')"
   ]
  },
  {
   "cell_type": "markdown",
   "id": "3ea968e5",
   "metadata": {},
   "source": [
    "Получив данные можно заметить, что у Клиентов с пятью детьми вовсе нет просрочек по кредиту, что могло быть спровоцировано меньшим количеством в данной категории. Для чистоты ислледований построим сводную таблицу с суммой, количеством и долей просрочек. "
   ]
  },
  {
   "cell_type": "code",
   "execution_count": 414,
   "id": "9e835de7",
   "metadata": {},
   "outputs": [
    {
     "data": {
      "text/html": [
       "<div>\n",
       "<style scoped>\n",
       "    .dataframe tbody tr th:only-of-type {\n",
       "        vertical-align: middle;\n",
       "    }\n",
       "\n",
       "    .dataframe tbody tr th {\n",
       "        vertical-align: top;\n",
       "    }\n",
       "\n",
       "    .dataframe thead tr th {\n",
       "        text-align: left;\n",
       "    }\n",
       "\n",
       "    .dataframe thead tr:last-of-type th {\n",
       "        text-align: right;\n",
       "    }\n",
       "</style>\n",
       "<table border=\"1\" class=\"dataframe\">\n",
       "  <thead>\n",
       "    <tr>\n",
       "      <th></th>\n",
       "      <th>sum</th>\n",
       "      <th>count</th>\n",
       "      <th>mean</th>\n",
       "    </tr>\n",
       "    <tr>\n",
       "      <th></th>\n",
       "      <th>debt</th>\n",
       "      <th>debt</th>\n",
       "      <th>debt</th>\n",
       "    </tr>\n",
       "    <tr>\n",
       "      <th>children</th>\n",
       "      <th></th>\n",
       "      <th></th>\n",
       "      <th></th>\n",
       "    </tr>\n",
       "  </thead>\n",
       "  <tbody>\n",
       "    <tr>\n",
       "      <th>0</th>\n",
       "      <td>1063</td>\n",
       "      <td>14091</td>\n",
       "      <td>7.54</td>\n",
       "    </tr>\n",
       "    <tr>\n",
       "      <th>1</th>\n",
       "      <td>444</td>\n",
       "      <td>4808</td>\n",
       "      <td>9.23</td>\n",
       "    </tr>\n",
       "    <tr>\n",
       "      <th>2</th>\n",
       "      <td>194</td>\n",
       "      <td>2052</td>\n",
       "      <td>9.45</td>\n",
       "    </tr>\n",
       "    <tr>\n",
       "      <th>3</th>\n",
       "      <td>27</td>\n",
       "      <td>330</td>\n",
       "      <td>8.18</td>\n",
       "    </tr>\n",
       "    <tr>\n",
       "      <th>4</th>\n",
       "      <td>4</td>\n",
       "      <td>41</td>\n",
       "      <td>9.76</td>\n",
       "    </tr>\n",
       "    <tr>\n",
       "      <th>5</th>\n",
       "      <td>0</td>\n",
       "      <td>9</td>\n",
       "      <td>0.00</td>\n",
       "    </tr>\n",
       "  </tbody>\n",
       "</table>\n",
       "</div>"
      ],
      "text/plain": [
       "           sum  count  mean\n",
       "          debt   debt  debt\n",
       "children                   \n",
       "0         1063  14091  7.54\n",
       "1          444   4808  9.23\n",
       "2          194   2052  9.45\n",
       "3           27    330  8.18\n",
       "4            4     41  9.76\n",
       "5            0      9  0.00"
      ]
     },
     "execution_count": 414,
     "metadata": {},
     "output_type": "execute_result"
    }
   ],
   "source": [
    "# Группировка таблицы по количеству детей, данные для счета из столбца 'debt', и подсчет суммы,\n",
    "# количества и доли\n",
    "category_pivot = pd.pivot_table(data, index=['children'], \n",
    "                                values=['debt'], \n",
    "                                aggfunc=['sum', 'count', 'mean'])\n",
    "category_pivot['mean'] *= 100\n",
    "category_pivot = category_pivot.sort_values(by=('count', 'debt'), ascending=False)\n",
    "category_pivot.round(2)"
   ]
  },
  {
   "cell_type": "markdown",
   "id": "8623f188",
   "metadata": {},
   "source": [
    "В полученной таблице количество Клиентов с тремя, четырьмя и пятью детьми значительно ниже, чем у остальных категорий, поэтому эти данные непоказательны в данном исследовании.\n",
    "\n",
    "Так же можем заметить, что у Клиентов с одним и двумя детьми доля просрочек по кредиту выше почти на 2 пункта, следовательно данные Клиенты менее надежны как заемщики.\n",
    "При этом существенной разницы доли просрочек между Клиентами с одним или двумя детьми несущественна, что провоцирует создание **новой гипотезы**:\n",
    "- Наличие детей влияет на возврат кредита в срок."
   ]
  },
  {
   "cell_type": "markdown",
   "id": "720c96de",
   "metadata": {},
   "source": [
    "Для решения новой гипотезы создадим новую категорию Клиентов с категориями \"Нет детей\" и \"Есть дети\". В категории \"Есть дети\" поместим Клиентов с одним или двумя детьми, так как ранее определили, что остальное количество детей не показательно ввиду недостатка данных."
   ]
  },
  {
   "cell_type": "code",
   "execution_count": 415,
   "id": "db737970",
   "metadata": {},
   "outputs": [],
   "source": [
    "# создаем функцию для категоризации данных\n",
    "def categorize_children(row):\n",
    "    if row == 0:\n",
    "        return 'Нет детей'\n",
    "    elif row == 1 or row == 2:\n",
    "        return 'Есть дети'"
   ]
  },
  {
   "cell_type": "code",
   "execution_count": 416,
   "id": "5c316853",
   "metadata": {},
   "outputs": [],
   "source": [
    "# создаем столбец с категориями\n",
    "data['category_children'] = data['children'].apply(categorize_children)"
   ]
  },
  {
   "cell_type": "markdown",
   "id": "aa1ae273",
   "metadata": {},
   "source": [
    "Создаем новую сводную таблицу по новым категориям"
   ]
  },
  {
   "cell_type": "code",
   "execution_count": 417,
   "id": "71964c75",
   "metadata": {},
   "outputs": [
    {
     "data": {
      "text/html": [
       "<div>\n",
       "<style scoped>\n",
       "    .dataframe tbody tr th:only-of-type {\n",
       "        vertical-align: middle;\n",
       "    }\n",
       "\n",
       "    .dataframe tbody tr th {\n",
       "        vertical-align: top;\n",
       "    }\n",
       "\n",
       "    .dataframe thead tr th {\n",
       "        text-align: left;\n",
       "    }\n",
       "\n",
       "    .dataframe thead tr:last-of-type th {\n",
       "        text-align: right;\n",
       "    }\n",
       "</style>\n",
       "<table border=\"1\" class=\"dataframe\">\n",
       "  <thead>\n",
       "    <tr>\n",
       "      <th></th>\n",
       "      <th>sum</th>\n",
       "      <th>count</th>\n",
       "      <th>mean</th>\n",
       "    </tr>\n",
       "    <tr>\n",
       "      <th></th>\n",
       "      <th>debt</th>\n",
       "      <th>debt</th>\n",
       "      <th>debt</th>\n",
       "    </tr>\n",
       "    <tr>\n",
       "      <th>category_children</th>\n",
       "      <th></th>\n",
       "      <th></th>\n",
       "      <th></th>\n",
       "    </tr>\n",
       "  </thead>\n",
       "  <tbody>\n",
       "    <tr>\n",
       "      <th>Нет детей</th>\n",
       "      <td>1063</td>\n",
       "      <td>14091</td>\n",
       "      <td>7.54</td>\n",
       "    </tr>\n",
       "    <tr>\n",
       "      <th>Есть дети</th>\n",
       "      <td>638</td>\n",
       "      <td>6860</td>\n",
       "      <td>9.30</td>\n",
       "    </tr>\n",
       "  </tbody>\n",
       "</table>\n",
       "</div>"
      ],
      "text/plain": [
       "                    sum  count  mean\n",
       "                   debt   debt  debt\n",
       "category_children                   \n",
       "Нет детей          1063  14091  7.54\n",
       "Есть дети           638   6860  9.30"
      ]
     },
     "execution_count": 417,
     "metadata": {},
     "output_type": "execute_result"
    }
   ],
   "source": [
    "# Группировка таблицы по категории наличия детей, данные для счета из столбца 'debt', и подсчет суммы,\n",
    "# количества и доли\n",
    "category_pivot_children = pd.pivot_table(data, index=['category_children'], \n",
    "                                values=['debt'], \n",
    "                                aggfunc=['sum', 'count', 'mean'])\n",
    "category_pivot_children['mean'] *= 100\n",
    "category_pivot_children = category_pivot_children.sort_values(by=('count', 'debt'), ascending=False)\n",
    "category_pivot_children.round(2)"
   ]
  },
  {
   "cell_type": "markdown",
   "id": "2a5ad99e",
   "metadata": {},
   "source": [
    "Благодаря новой категории четко заметна зависимость возврата кредита в срок от наличия детей."
   ]
  },
  {
   "cell_type": "markdown",
   "id": "04713508",
   "metadata": {
    "deletable": false,
    "id": "2eb9088e"
   },
   "source": [
    "**Вывод:** \n",
    "\n",
    "В итоге проведенного исследования были выявлены следующие факты:\n",
    "\n",
    "Гипотеза о зависимости возврата кредита в срок от количества детей не может быть подтверждена или опровергнута из-за отсутствия достаточного количества данных о Клиентах с тремя, четырьмя и пятью детьми.\n",
    "\n",
    "Новая гипотеза о зависимости возврата кредита в срок от наличия детей подтверждена, так как доля прострочек у Клиентов без детей составляет 7.54%, а у Клиентов с детьми для на 1.76% выше - 9.30%"
   ]
  },
  {
   "cell_type": "markdown",
   "id": "74c9b3a7",
   "metadata": {
    "deletable": false,
    "editable": false,
    "id": "74c9b3a7"
   },
   "source": [
    "#### 3.2 Есть ли зависимость между семейным положением и возвратом кредита в срок?"
   ]
  },
  {
   "cell_type": "markdown",
   "id": "dd0263f7",
   "metadata": {
    "deletable": false,
    "id": "8098ab3b"
   },
   "source": [
    "В исследовании зависимости возврата кредита в срок от количества детей было выявлено, что наилучшим способом послужит указание суммы, количества и доли просрочек, поэтому в данном исследовании используем его."
   ]
  },
  {
   "cell_type": "code",
   "execution_count": 418,
   "id": "2e7d2fb9",
   "metadata": {},
   "outputs": [
    {
     "data": {
      "text/html": [
       "<div>\n",
       "<style scoped>\n",
       "    .dataframe tbody tr th:only-of-type {\n",
       "        vertical-align: middle;\n",
       "    }\n",
       "\n",
       "    .dataframe tbody tr th {\n",
       "        vertical-align: top;\n",
       "    }\n",
       "\n",
       "    .dataframe thead tr th {\n",
       "        text-align: left;\n",
       "    }\n",
       "\n",
       "    .dataframe thead tr:last-of-type th {\n",
       "        text-align: right;\n",
       "    }\n",
       "</style>\n",
       "<table border=\"1\" class=\"dataframe\">\n",
       "  <thead>\n",
       "    <tr>\n",
       "      <th></th>\n",
       "      <th>sum</th>\n",
       "      <th>count</th>\n",
       "      <th>mean</th>\n",
       "    </tr>\n",
       "    <tr>\n",
       "      <th></th>\n",
       "      <th>debt</th>\n",
       "      <th>debt</th>\n",
       "      <th>debt</th>\n",
       "    </tr>\n",
       "    <tr>\n",
       "      <th>family_status</th>\n",
       "      <th></th>\n",
       "      <th></th>\n",
       "      <th></th>\n",
       "    </tr>\n",
       "  </thead>\n",
       "  <tbody>\n",
       "    <tr>\n",
       "      <th>Не женат / не замужем</th>\n",
       "      <td>273</td>\n",
       "      <td>2796</td>\n",
       "      <td>9.76</td>\n",
       "    </tr>\n",
       "    <tr>\n",
       "      <th>гражданский брак</th>\n",
       "      <td>385</td>\n",
       "      <td>4134</td>\n",
       "      <td>9.31</td>\n",
       "    </tr>\n",
       "    <tr>\n",
       "      <th>женат / замужем</th>\n",
       "      <td>927</td>\n",
       "      <td>12261</td>\n",
       "      <td>7.56</td>\n",
       "    </tr>\n",
       "    <tr>\n",
       "      <th>в разводе</th>\n",
       "      <td>84</td>\n",
       "      <td>1189</td>\n",
       "      <td>7.06</td>\n",
       "    </tr>\n",
       "    <tr>\n",
       "      <th>вдовец / вдова</th>\n",
       "      <td>63</td>\n",
       "      <td>951</td>\n",
       "      <td>6.62</td>\n",
       "    </tr>\n",
       "  </tbody>\n",
       "</table>\n",
       "</div>"
      ],
      "text/plain": [
       "                       sum  count  mean\n",
       "                      debt   debt  debt\n",
       "family_status                          \n",
       "Не женат / не замужем  273   2796  9.76\n",
       "гражданский брак       385   4134  9.31\n",
       "женат / замужем        927  12261  7.56\n",
       "в разводе               84   1189  7.06\n",
       "вдовец / вдова          63    951  6.62"
      ]
     },
     "execution_count": 418,
     "metadata": {},
     "output_type": "execute_result"
    }
   ],
   "source": [
    "# Группировка таблицы по семейному положению, данные для счета из столбца 'debt', и подсчет суммы,\n",
    "# количества и доли\n",
    "category_pivot_family = pd.pivot_table(data, index=['family_status'], \n",
    "                                values=['debt'], \n",
    "                                aggfunc=['sum', 'count', 'mean'])\n",
    "category_pivot_family['mean'] *= 100\n",
    "category_pivot_family = category_pivot_family.sort_values(by=('mean', 'debt'), ascending=False)\n",
    "category_pivot_family.round(2)"
   ]
  },
  {
   "cell_type": "markdown",
   "id": "194beba4",
   "metadata": {},
   "source": [
    "По полученным данным можно выделить категории, по которым доля просрочек выше:\n",
    "- Не женат / не замужем\n",
    "- Гражданский брак\n",
    "\n",
    "И те категории, по которым доля ниже:\n",
    "- женат / замужем\n",
    "- в разводе\n",
    "- вдовец / вдова\n",
    "\n",
    "При обобщении категорий с большей и меньшей долей делаем вывод, что Клиенты в официальных отношениях или были в них наиболее надежны чем Клиенты, никогда не состоящие в официальных отношениях."
   ]
  },
  {
   "cell_type": "markdown",
   "id": "c389ca63",
   "metadata": {
    "deletable": false,
    "id": "c389ca63"
   },
   "source": [
    "**Вывод:** \n",
    "Гипотеза о зависимости возврата кредита в срок от семейного положения подтверждена. Клиенты, которые состояли или состоят в официальных отношениях чаще возвращают кредит в срок чем Клиенты, которые никогда не состояли в официальных отношениях."
   ]
  },
  {
   "cell_type": "markdown",
   "id": "9529de68",
   "metadata": {
    "deletable": false,
    "editable": false,
    "id": "9529de68"
   },
   "source": [
    "#### 3.3 Есть ли зависимость между уровнем дохода и возвратом кредита в срок?"
   ]
  },
  {
   "cell_type": "markdown",
   "id": "ada96a47",
   "metadata": {},
   "source": [
    "Используем сводную таблицу для получения результатов по категориям уровня дохода."
   ]
  },
  {
   "cell_type": "code",
   "execution_count": 421,
   "id": "95b137c8",
   "metadata": {},
   "outputs": [
    {
     "data": {
      "text/html": [
       "<div>\n",
       "<style scoped>\n",
       "    .dataframe tbody tr th:only-of-type {\n",
       "        vertical-align: middle;\n",
       "    }\n",
       "\n",
       "    .dataframe tbody tr th {\n",
       "        vertical-align: top;\n",
       "    }\n",
       "\n",
       "    .dataframe thead tr th {\n",
       "        text-align: left;\n",
       "    }\n",
       "\n",
       "    .dataframe thead tr:last-of-type th {\n",
       "        text-align: right;\n",
       "    }\n",
       "</style>\n",
       "<table border=\"1\" class=\"dataframe\">\n",
       "  <thead>\n",
       "    <tr>\n",
       "      <th></th>\n",
       "      <th>sum</th>\n",
       "      <th>count</th>\n",
       "      <th>mean</th>\n",
       "    </tr>\n",
       "    <tr>\n",
       "      <th></th>\n",
       "      <th>debt</th>\n",
       "      <th>debt</th>\n",
       "      <th>debt</th>\n",
       "    </tr>\n",
       "    <tr>\n",
       "      <th>total_income_category</th>\n",
       "      <th></th>\n",
       "      <th></th>\n",
       "      <th></th>\n",
       "    </tr>\n",
       "  </thead>\n",
       "  <tbody>\n",
       "    <tr>\n",
       "      <th>E</th>\n",
       "      <td>2</td>\n",
       "      <td>22</td>\n",
       "      <td>9.09</td>\n",
       "    </tr>\n",
       "    <tr>\n",
       "      <th>C</th>\n",
       "      <td>1353</td>\n",
       "      <td>15921</td>\n",
       "      <td>8.50</td>\n",
       "    </tr>\n",
       "    <tr>\n",
       "      <th>A</th>\n",
       "      <td>2</td>\n",
       "      <td>25</td>\n",
       "      <td>8.00</td>\n",
       "    </tr>\n",
       "    <tr>\n",
       "      <th>B</th>\n",
       "      <td>354</td>\n",
       "      <td>5014</td>\n",
       "      <td>7.06</td>\n",
       "    </tr>\n",
       "    <tr>\n",
       "      <th>D</th>\n",
       "      <td>21</td>\n",
       "      <td>349</td>\n",
       "      <td>6.02</td>\n",
       "    </tr>\n",
       "  </tbody>\n",
       "</table>\n",
       "</div>"
      ],
      "text/plain": [
       "                        sum  count  mean\n",
       "                       debt   debt  debt\n",
       "total_income_category                   \n",
       "E                         2     22  9.09\n",
       "C                      1353  15921  8.50\n",
       "A                         2     25  8.00\n",
       "B                       354   5014  7.06\n",
       "D                        21    349  6.02"
      ]
     },
     "execution_count": 421,
     "metadata": {},
     "output_type": "execute_result"
    }
   ],
   "source": [
    "# Группировка таблицы по уровню дохода, данные для счета из столбца 'debt', и подсчет суммы,\n",
    "# количества и доли\n",
    "category_pivot_income = pd.pivot_table(data, index=['total_income_category'], \n",
    "                                values=['debt'], \n",
    "                                aggfunc=['sum', 'count', 'mean'])\n",
    "category_pivot_income['mean'] *= 100\n",
    "category_pivot_income = category_pivot_income.sort_values(by=('mean', 'debt'), ascending=False)\n",
    "category_pivot_income.round(2)"
   ]
  },
  {
   "cell_type": "markdown",
   "id": "e432d105",
   "metadata": {
    "deletable": false,
    "id": "8787f44a"
   },
   "source": [
    "По полученным данным видим, что Клиентов в категориях 'D'(30001- 50000), 'A'(более 1000000) и 'E'(до 30000) мало для проведения полноценного исследования, их доля просрочек является непоказательной, а двух категорий 'C'(50001-200000) и 'B'(200001-1000000) мало для поиска зависимости возврата кредита в срок от уровня дохода."
   ]
  },
  {
   "cell_type": "markdown",
   "id": "6dd14b57",
   "metadata": {
    "deletable": false,
    "id": "6dd14b57"
   },
   "source": [
    "**Вывод:** \n",
    "Нет возможности подтвердить или опровергнуть гипотезу из-за недостатка данных о Клиентах с категориями уровня дохода 'D', 'A' и 'E'"
   ]
  },
  {
   "cell_type": "markdown",
   "id": "1dcc9b12",
   "metadata": {
    "deletable": false,
    "editable": false,
    "id": "1dcc9b12"
   },
   "source": [
    "#### 3.4 Как разные цели кредита влияют на его возврат в срок?"
   ]
  },
  {
   "cell_type": "markdown",
   "id": "eec0787e",
   "metadata": {
    "deletable": false,
    "id": "c602bc8b"
   },
   "source": [
    "Используем сводную таблицу для получения результатов по категориям цели кредита."
   ]
  },
  {
   "cell_type": "code",
   "execution_count": 420,
   "id": "7c608837",
   "metadata": {},
   "outputs": [
    {
     "data": {
      "text/html": [
       "<div>\n",
       "<style scoped>\n",
       "    .dataframe tbody tr th:only-of-type {\n",
       "        vertical-align: middle;\n",
       "    }\n",
       "\n",
       "    .dataframe tbody tr th {\n",
       "        vertical-align: top;\n",
       "    }\n",
       "\n",
       "    .dataframe thead tr th {\n",
       "        text-align: left;\n",
       "    }\n",
       "\n",
       "    .dataframe thead tr:last-of-type th {\n",
       "        text-align: right;\n",
       "    }\n",
       "</style>\n",
       "<table border=\"1\" class=\"dataframe\">\n",
       "  <thead>\n",
       "    <tr>\n",
       "      <th></th>\n",
       "      <th>sum</th>\n",
       "      <th>count</th>\n",
       "      <th>mean</th>\n",
       "    </tr>\n",
       "    <tr>\n",
       "      <th></th>\n",
       "      <th>debt</th>\n",
       "      <th>debt</th>\n",
       "      <th>debt</th>\n",
       "    </tr>\n",
       "    <tr>\n",
       "      <th>purpose_category</th>\n",
       "      <th></th>\n",
       "      <th></th>\n",
       "      <th></th>\n",
       "    </tr>\n",
       "  </thead>\n",
       "  <tbody>\n",
       "    <tr>\n",
       "      <th>операции с автомобилем</th>\n",
       "      <td>400</td>\n",
       "      <td>4279</td>\n",
       "      <td>9.35</td>\n",
       "    </tr>\n",
       "    <tr>\n",
       "      <th>получение образования</th>\n",
       "      <td>369</td>\n",
       "      <td>3988</td>\n",
       "      <td>9.25</td>\n",
       "    </tr>\n",
       "    <tr>\n",
       "      <th>проведение свадьбы</th>\n",
       "      <td>183</td>\n",
       "      <td>2313</td>\n",
       "      <td>7.91</td>\n",
       "    </tr>\n",
       "    <tr>\n",
       "      <th>операции с недвижимостью</th>\n",
       "      <td>780</td>\n",
       "      <td>10751</td>\n",
       "      <td>7.26</td>\n",
       "    </tr>\n",
       "  </tbody>\n",
       "</table>\n",
       "</div>"
      ],
      "text/plain": [
       "                          sum  count  mean\n",
       "                         debt   debt  debt\n",
       "purpose_category                          \n",
       "операции с автомобилем    400   4279  9.35\n",
       "получение образования     369   3988  9.25\n",
       "проведение свадьбы        183   2313  7.91\n",
       "операции с недвижимостью  780  10751  7.26"
      ]
     },
     "execution_count": 420,
     "metadata": {},
     "output_type": "execute_result"
    }
   ],
   "source": [
    "# Группировка таблицы по цели кредита, данные для счета из столбца 'debt', и подсчет суммы,\n",
    "# количества и доли\n",
    "category_pivot_purpose = pd.pivot_table(data, index=['purpose_category'], \n",
    "                                values=['debt'], \n",
    "                                aggfunc=['sum', 'count', 'mean'])\n",
    "category_pivot_purpose['mean'] *= 100\n",
    "category_pivot_purpose = category_pivot_purpose.sort_values(by=('mean', 'debt'), ascending=False)\n",
    "category_pivot_purpose.round(2)"
   ]
  },
  {
   "cell_type": "markdown",
   "id": "cf05ed63",
   "metadata": {
    "deletable": false,
    "id": "cf05ed63"
   },
   "source": [
    "**Вывод:** \n",
    "Клиенты с целью кредитования для операций с недвижимостью и проведение свадьбы ниже, чем у клиентов с целью кредитования для операций с автомобилем и получения образования.\n",
    "\n",
    "Гипотезу о зависимости возврата кредита в срок от цели кредита можно подтвердить."
   ]
  },
  {
   "cell_type": "markdown",
   "id": "46c1f10b",
   "metadata": {
    "deletable": false,
    "editable": false,
    "id": "46c1f10b"
   },
   "source": [
    "#### 3.5 Приведите возможные причины появления пропусков в исходных данных."
   ]
  },
  {
   "cell_type": "markdown",
   "id": "3697d2a9",
   "metadata": {
    "deletable": false,
    "id": "3697d2a9"
   },
   "source": [
    "*Ответ:* Причинами могут стать ошибки системы или фактическое отсутствие данных о Клиенте. \n",
    "В нашей таблице пропуски находятся в столбцах c трудовым стажем и ежемесячным доходом, причем в равном количестве - 2174 строки.\n",
    "\n",
    "Так же пропуски в этих столбцах есть только у Клиентов с типом занятости пенсионер и госслужащий.\n",
    "У пенсионеров и госслужащих явно есть ежемесячный доход - пенсия и зарплата соответственно, как и должен иметься трудовой стаж. Поэтому сделаю вывод, что пропуски спровоцированы ошибкой выгрузки данных по Клиентам с типом занятости пенсионер и госслужащий."
   ]
  },
  {
   "cell_type": "markdown",
   "id": "3137d257",
   "metadata": {
    "deletable": false,
    "editable": false,
    "id": "3137d257"
   },
   "source": [
    "#### 3.6 Объясните, почему заполнить пропуски медианным значением — лучшее решение для количественных переменных."
   ]
  },
  {
   "cell_type": "markdown",
   "id": "cf40012a",
   "metadata": {
    "deletable": false,
    "id": "cf40012a"
   },
   "source": [
    "*Ответ:* Данные могут быть неравномерны, со значениями в несколько раз превышающими максимальное из других значений, что в свою очередь существенно искажает среднее значение. При этом медианное значение не подвержено таким искажениям. "
   ]
  },
  {
   "cell_type": "markdown",
   "id": "57bc304e",
   "metadata": {
    "deletable": false,
    "editable": false,
    "id": "57bc304e"
   },
   "source": [
    "### Шаг 4: общий вывод."
   ]
  },
  {
   "cell_type": "markdown",
   "id": "1ab75d1c",
   "metadata": {
    "deletable": false,
    "id": "1ab75d1c"
   },
   "source": [
    "**Задача исследования**:\n",
    "Нужно разобраться, влияет ли семейное положение и количество детей клиента на факт погашения кредита в срок. Входные данные от банка — статистика о платёжеспособности клиентов.\n",
    "Результаты исследования будут учтены при построении модели кредитного скоринга — специальной системы, которая оценивает способность потенциального заёмщика вернуть кредит банку.\n",
    "\n",
    "Исходя из задачи поставлены следующие гипотезы:\n",
    "- Гипотеза 1: Количество детей влияет на возврат кредита в срок;\n",
    "- Гипотеза 2: Семейное положение влияет на возврат кредита в срок;\n",
    "- Гипотеза 3: Уровень дохода влияет на возврат кредита в срок;\n",
    "- Гипотеза 4: Цель кредита влияет на возврат кредита в срок.\n",
    "\n",
    "**Гипотеза 1**\n",
    "\n",
    "В ходе исследования был выявлен недостаток данных по Клиентам с 3, 4 и 5 детьми\n",
    "Доли просрочек по кредиту для категорий Клиентов:\n",
    "- Клиенты без детей - *7.54%*\n",
    "- Клиенты с одним ребенком - *9.23%*\n",
    "- Клиенты с двумя детьми - *9.45%*\n",
    "За недостатком данных можно выдвинуть новую гипотезу:\n",
    "- Наличие детей влияет на возврат кредита в срок.\n",
    "Для данной гипотезы сформированы следующие данные по доле просрочек по кредиту:\n",
    "- Клиенты без детей - *7.54%\n",
    "- Клиенты с детьми - *9.30%*\n",
    "Заметно влияние наличия детей на возврат кредита в срок, доля Клиентов с детьми имеющие просрочку по кредиту на 1.76% больше Клиентов без детей.\n",
    "\n",
    "*Вывод*: Необходимо провести исследование на большей выборке данных. До проведения исследования можно использовать категории по наличию/отсутствию детей для модели кредитного скоринга.\n",
    "\n",
    "**Гипотеза 2**\n",
    "\n",
    "Доли просрочек по кредиту для категорий Клиентов:\n",
    "- Не женат / не замужем\t- *9.76%*\n",
    "- гражданский брак - *9.31%*\n",
    "- женат / замужем - *7.56%*\n",
    "- в разводе - *7.06%*\n",
    "- вдовец / вдова - *6.62%*\n",
    "\n",
    "При обобщении категорий с большей и меньшей долями делаем вывод, что Клиенты в официальных отношениях или были в них наиболее надежны чем Клиенты, никогда не состоящие в официальных отношениях.\n",
    "\n",
    "*Вывод*: Гипотеза подтверждена. Категории Клиентов по семейному положению можно использовать для модели кредитного скоринга. \n",
    "\n",
    "**Гипотеза 3**\n",
    "\n",
    "В ходе исследования был выявлен недостаток данных по Клиентам с категориями дохода 'A'(1000001 и выше), 'D'(30001–50000) и 'E'(0 - 30000)\n",
    "Доли просрочек по кредиту для остальных категорий Клиентов:\n",
    "- B(200001–1000000) - *7.06%*\n",
    "- C(50001–200000) - *8.50%*\n",
    "Нет возможности подтвердить или опровергнуть гипотезу из-за недостатка данных о Клиентах с категориями уровня дохода 'D', 'A' и 'E'\n",
    "\n",
    "*Вывод*: Необходимо провести исследование на большей выборке данных.\n",
    "\n",
    "**Гипотеза 4**\n",
    "\n",
    "Доли просрочек по кредиту для категорий Клиентов:\n",
    "- операции с автомобилем - *9.35%*\n",
    "- получение образования - *9.25%*\n",
    "- проведение свадьбы - *7.91%*\n",
    "- операции с недвижимостью - *7.26%*\n",
    "Клиенты с целью кредитования для операций с недвижимостью и проведение свадьбы ниже чем у клиентов с целью кредитования для операций с автомобилем и получения образования.\n",
    "\n",
    "*Вывод*: Гипотеза подтверждена. Категории Клиентов по цели кредита можно использовать для модели кредитного скоринга.\n",
    "\n",
    "**Рекомендации**:\n",
    "1. Провести дополнительное исследование зависимости возврата кредита в срок от количества детей на большей выборке данных. \n",
    "2. Провести дополнительное исследование зависимости возврата кредита в срок от уровня дохода на большей выборке данных. \n",
    "3. Использовать для модели кредитного скоринга зависимости от семейного положения и от цели кредита.\n",
    "4. При необходимости и до дополнительного исследования можно использовать зависимость от наличия детей для модели кредитного скоринга.\n"
   ]
  }
 ],
 "metadata": {
  "ExecuteTimeLog": [
   {
    "duration": 79,
    "start_time": "2023-03-22T14:45:51.156Z"
   },
   {
    "duration": 528,
    "start_time": "2023-03-22T14:46:14.069Z"
   },
   {
    "duration": 45,
    "start_time": "2023-03-22T14:46:15.694Z"
   },
   {
    "duration": 17,
    "start_time": "2023-03-22T14:46:16.479Z"
   },
   {
    "duration": 12,
    "start_time": "2023-03-22T14:46:17.171Z"
   },
   {
    "duration": 47,
    "start_time": "2023-03-22T14:46:17.538Z"
   },
   {
    "duration": 8,
    "start_time": "2023-03-22T14:46:18.055Z"
   },
   {
    "duration": 11,
    "start_time": "2023-03-22T14:46:18.394Z"
   },
   {
    "duration": 6,
    "start_time": "2023-03-22T14:46:18.940Z"
   },
   {
    "duration": 14,
    "start_time": "2023-03-22T14:46:19.328Z"
   },
   {
    "duration": 7,
    "start_time": "2023-03-22T14:46:19.738Z"
   },
   {
    "duration": 38,
    "start_time": "2023-03-22T14:46:20.268Z"
   },
   {
    "duration": 12,
    "start_time": "2023-03-22T14:46:20.637Z"
   },
   {
    "duration": 4,
    "start_time": "2023-03-22T14:46:22.431Z"
   },
   {
    "duration": 12,
    "start_time": "2023-03-22T14:46:22.948Z"
   },
   {
    "duration": 37,
    "start_time": "2023-03-22T14:46:23.334Z"
   },
   {
    "duration": 20,
    "start_time": "2023-03-22T14:46:23.834Z"
   },
   {
    "duration": 4,
    "start_time": "2023-03-22T14:46:25.091Z"
   },
   {
    "duration": 12,
    "start_time": "2023-03-22T14:46:25.475Z"
   },
   {
    "duration": 7,
    "start_time": "2023-03-22T14:46:26.667Z"
   },
   {
    "duration": 4,
    "start_time": "2023-03-22T14:46:29.163Z"
   },
   {
    "duration": 11,
    "start_time": "2023-03-22T14:46:30.660Z"
   },
   {
    "duration": 47,
    "start_time": "2023-03-22T14:46:32.329Z"
   },
   {
    "duration": 11,
    "start_time": "2023-03-22T14:46:46.797Z"
   },
   {
    "duration": 16,
    "start_time": "2023-03-22T14:48:12.233Z"
   },
   {
    "duration": 7,
    "start_time": "2023-03-22T14:48:37.852Z"
   },
   {
    "duration": 7,
    "start_time": "2023-03-22T14:49:52.547Z"
   },
   {
    "duration": 9,
    "start_time": "2023-03-22T14:50:32.832Z"
   },
   {
    "duration": 8,
    "start_time": "2023-03-22T14:50:51.262Z"
   },
   {
    "duration": 6,
    "start_time": "2023-03-22T14:51:30.767Z"
   },
   {
    "duration": 8,
    "start_time": "2023-03-22T14:51:39.243Z"
   },
   {
    "duration": 12,
    "start_time": "2023-03-22T14:53:35.368Z"
   },
   {
    "duration": 13,
    "start_time": "2023-03-22T14:53:42.746Z"
   },
   {
    "duration": 16,
    "start_time": "2023-03-22T14:57:57.222Z"
   },
   {
    "duration": 16,
    "start_time": "2023-03-22T14:58:05.352Z"
   },
   {
    "duration": 1187,
    "start_time": "2023-03-22T14:58:38.344Z"
   },
   {
    "duration": 17,
    "start_time": "2023-03-22T14:58:49.058Z"
   },
   {
    "duration": 17,
    "start_time": "2023-03-22T15:00:04.029Z"
   },
   {
    "duration": 22,
    "start_time": "2023-03-22T15:14:39.525Z"
   },
   {
    "duration": 20,
    "start_time": "2023-03-22T15:16:07.080Z"
   },
   {
    "duration": 16,
    "start_time": "2023-03-22T15:16:38.160Z"
   },
   {
    "duration": 4,
    "start_time": "2023-03-22T15:16:52.337Z"
   },
   {
    "duration": 16,
    "start_time": "2023-03-22T15:18:43.793Z"
   },
   {
    "duration": 10,
    "start_time": "2023-03-22T15:19:06.739Z"
   },
   {
    "duration": 8,
    "start_time": "2023-03-22T15:19:19.585Z"
   },
   {
    "duration": 9,
    "start_time": "2023-03-22T15:19:50.386Z"
   },
   {
    "duration": 8,
    "start_time": "2023-03-22T15:21:28.522Z"
   },
   {
    "duration": 24,
    "start_time": "2023-03-22T15:21:36.593Z"
   },
   {
    "duration": 9,
    "start_time": "2023-03-22T15:25:00.051Z"
   },
   {
    "duration": 8,
    "start_time": "2023-03-22T15:25:27.795Z"
   },
   {
    "duration": 10,
    "start_time": "2023-03-22T15:26:25.956Z"
   },
   {
    "duration": 12,
    "start_time": "2023-03-22T15:28:29.567Z"
   },
   {
    "duration": 14,
    "start_time": "2023-03-22T15:29:17.078Z"
   },
   {
    "duration": 9,
    "start_time": "2023-03-22T15:29:57.344Z"
   },
   {
    "duration": 10,
    "start_time": "2023-03-22T15:42:10.527Z"
   },
   {
    "duration": 9,
    "start_time": "2023-03-22T15:43:08.763Z"
   },
   {
    "duration": 10,
    "start_time": "2023-03-22T15:43:59.667Z"
   },
   {
    "duration": 15,
    "start_time": "2023-03-22T15:50:48.138Z"
   },
   {
    "duration": 11,
    "start_time": "2023-03-22T15:54:28.477Z"
   },
   {
    "duration": 100,
    "start_time": "2023-03-22T15:56:39.689Z"
   },
   {
    "duration": 79,
    "start_time": "2023-03-22T15:56:46.081Z"
   },
   {
    "duration": 10,
    "start_time": "2023-03-22T15:57:00.073Z"
   },
   {
    "duration": 6,
    "start_time": "2023-03-22T15:57:07.321Z"
   },
   {
    "duration": 9,
    "start_time": "2023-03-22T15:57:11.432Z"
   },
   {
    "duration": 9,
    "start_time": "2023-03-22T15:59:34.099Z"
   },
   {
    "duration": 10,
    "start_time": "2023-03-22T15:59:48.122Z"
   },
   {
    "duration": 12,
    "start_time": "2023-03-22T16:02:28.977Z"
   },
   {
    "duration": 17,
    "start_time": "2023-03-22T16:10:23.719Z"
   },
   {
    "duration": 13,
    "start_time": "2023-03-22T16:21:21.610Z"
   },
   {
    "duration": 698,
    "start_time": "2023-03-23T11:33:52.979Z"
   },
   {
    "duration": 33,
    "start_time": "2023-03-23T11:33:53.680Z"
   },
   {
    "duration": 24,
    "start_time": "2023-03-23T11:33:53.715Z"
   },
   {
    "duration": 17,
    "start_time": "2023-03-23T11:33:53.741Z"
   },
   {
    "duration": 79,
    "start_time": "2023-03-23T11:33:53.761Z"
   },
   {
    "duration": 4,
    "start_time": "2023-03-23T11:33:53.842Z"
   },
   {
    "duration": 11,
    "start_time": "2023-03-23T11:33:53.848Z"
   },
   {
    "duration": 5,
    "start_time": "2023-03-23T11:33:53.861Z"
   },
   {
    "duration": 9,
    "start_time": "2023-03-23T11:33:53.890Z"
   },
   {
    "duration": 30,
    "start_time": "2023-03-23T11:33:53.901Z"
   },
   {
    "duration": 61,
    "start_time": "2023-03-23T11:33:53.933Z"
   },
   {
    "duration": 11,
    "start_time": "2023-03-23T11:33:53.995Z"
   },
   {
    "duration": 12,
    "start_time": "2023-03-23T11:33:54.007Z"
   },
   {
    "duration": 19,
    "start_time": "2023-03-23T11:33:54.022Z"
   },
   {
    "duration": 38,
    "start_time": "2023-03-23T11:33:54.043Z"
   },
   {
    "duration": 21,
    "start_time": "2023-03-23T11:33:54.083Z"
   },
   {
    "duration": 9,
    "start_time": "2023-03-23T11:33:54.105Z"
   },
   {
    "duration": 34,
    "start_time": "2023-03-23T11:33:54.115Z"
   },
   {
    "duration": 9,
    "start_time": "2023-03-23T11:33:54.151Z"
   },
   {
    "duration": 5,
    "start_time": "2023-03-23T11:33:54.162Z"
   },
   {
    "duration": 26,
    "start_time": "2023-03-23T11:33:54.168Z"
   },
   {
    "duration": 30,
    "start_time": "2023-03-23T11:33:54.197Z"
   },
   {
    "duration": 17,
    "start_time": "2023-03-23T11:33:54.229Z"
   },
   {
    "duration": 14,
    "start_time": "2023-03-23T11:33:54.248Z"
   },
   {
    "duration": 26,
    "start_time": "2023-03-23T11:33:54.263Z"
   },
   {
    "duration": 47,
    "start_time": "2023-03-23T12:30:10.937Z"
   },
   {
    "duration": 7,
    "start_time": "2023-03-23T12:30:26.620Z"
   },
   {
    "duration": 549,
    "start_time": "2023-03-23T12:31:21.160Z"
   },
   {
    "duration": 28,
    "start_time": "2023-03-23T12:31:21.711Z"
   },
   {
    "duration": 23,
    "start_time": "2023-03-23T12:31:21.741Z"
   },
   {
    "duration": 27,
    "start_time": "2023-03-23T12:31:21.767Z"
   },
   {
    "duration": 61,
    "start_time": "2023-03-23T12:31:21.796Z"
   },
   {
    "duration": 46,
    "start_time": "2023-03-23T12:31:21.859Z"
   },
   {
    "duration": 16,
    "start_time": "2023-03-23T12:31:21.907Z"
   },
   {
    "duration": 7,
    "start_time": "2023-03-23T12:31:21.926Z"
   },
   {
    "duration": 10,
    "start_time": "2023-03-23T12:31:21.936Z"
   },
   {
    "duration": 7,
    "start_time": "2023-03-23T12:31:21.953Z"
   },
   {
    "duration": 77,
    "start_time": "2023-03-23T12:31:21.962Z"
   },
   {
    "duration": 17,
    "start_time": "2023-03-23T12:31:22.042Z"
   },
   {
    "duration": 5,
    "start_time": "2023-03-23T12:31:22.062Z"
   },
   {
    "duration": 31,
    "start_time": "2023-03-23T12:31:22.069Z"
   },
   {
    "duration": 32,
    "start_time": "2023-03-23T12:31:22.103Z"
   },
   {
    "duration": 37,
    "start_time": "2023-03-23T12:31:22.137Z"
   },
   {
    "duration": 8,
    "start_time": "2023-03-23T12:31:22.188Z"
   },
   {
    "duration": 17,
    "start_time": "2023-03-23T12:31:22.198Z"
   },
   {
    "duration": 8,
    "start_time": "2023-03-23T12:31:22.218Z"
   },
   {
    "duration": 6,
    "start_time": "2023-03-23T12:31:22.228Z"
   },
   {
    "duration": 13,
    "start_time": "2023-03-23T12:31:22.235Z"
   },
   {
    "duration": 45,
    "start_time": "2023-03-23T12:31:22.250Z"
   },
   {
    "duration": 77,
    "start_time": "2023-03-23T12:31:22.297Z"
   },
   {
    "duration": 0,
    "start_time": "2023-03-23T12:31:22.377Z"
   },
   {
    "duration": 0,
    "start_time": "2023-03-23T12:31:22.379Z"
   },
   {
    "duration": 0,
    "start_time": "2023-03-23T12:31:22.381Z"
   },
   {
    "duration": 12,
    "start_time": "2023-03-23T12:31:39.133Z"
   },
   {
    "duration": 46,
    "start_time": "2023-03-23T12:32:48.701Z"
   },
   {
    "duration": 11,
    "start_time": "2023-03-23T12:33:35.741Z"
   },
   {
    "duration": 7,
    "start_time": "2023-03-23T12:34:10.349Z"
   },
   {
    "duration": 16,
    "start_time": "2023-03-23T12:38:15.915Z"
   },
   {
    "duration": 13,
    "start_time": "2023-03-23T12:38:27.879Z"
   },
   {
    "duration": 10,
    "start_time": "2023-03-23T12:39:16.715Z"
   },
   {
    "duration": 11,
    "start_time": "2023-03-23T12:39:23.078Z"
   },
   {
    "duration": 8,
    "start_time": "2023-03-23T12:40:45.039Z"
   },
   {
    "duration": 8,
    "start_time": "2023-03-23T12:40:56.058Z"
   },
   {
    "duration": 50,
    "start_time": "2023-03-23T14:54:32.559Z"
   },
   {
    "duration": 495,
    "start_time": "2023-03-23T14:54:49.391Z"
   },
   {
    "duration": 20,
    "start_time": "2023-03-23T14:54:49.888Z"
   },
   {
    "duration": 13,
    "start_time": "2023-03-23T14:54:49.910Z"
   },
   {
    "duration": 8,
    "start_time": "2023-03-23T14:54:49.925Z"
   },
   {
    "duration": 42,
    "start_time": "2023-03-23T14:54:49.934Z"
   },
   {
    "duration": 3,
    "start_time": "2023-03-23T14:54:49.978Z"
   },
   {
    "duration": 9,
    "start_time": "2023-03-23T14:54:49.982Z"
   },
   {
    "duration": 4,
    "start_time": "2023-03-23T14:54:49.992Z"
   },
   {
    "duration": 5,
    "start_time": "2023-03-23T14:54:49.998Z"
   },
   {
    "duration": 4,
    "start_time": "2023-03-23T14:54:50.006Z"
   },
   {
    "duration": 66,
    "start_time": "2023-03-23T14:54:50.012Z"
   },
   {
    "duration": 8,
    "start_time": "2023-03-23T14:54:50.079Z"
   },
   {
    "duration": 3,
    "start_time": "2023-03-23T14:54:50.088Z"
   },
   {
    "duration": 11,
    "start_time": "2023-03-23T14:54:50.092Z"
   },
   {
    "duration": 18,
    "start_time": "2023-03-23T14:54:50.104Z"
   },
   {
    "duration": 25,
    "start_time": "2023-03-23T14:54:50.139Z"
   },
   {
    "duration": 3,
    "start_time": "2023-03-23T14:54:50.165Z"
   },
   {
    "duration": 10,
    "start_time": "2023-03-23T14:54:50.170Z"
   },
   {
    "duration": 5,
    "start_time": "2023-03-23T14:54:50.181Z"
   },
   {
    "duration": 7,
    "start_time": "2023-03-23T14:54:50.187Z"
   },
   {
    "duration": 15,
    "start_time": "2023-03-23T14:54:50.196Z"
   },
   {
    "duration": 8,
    "start_time": "2023-03-23T14:54:50.212Z"
   },
   {
    "duration": 85,
    "start_time": "2023-03-23T14:54:56.778Z"
   },
   {
    "duration": 16,
    "start_time": "2023-03-23T14:54:56.865Z"
   },
   {
    "duration": 15,
    "start_time": "2023-03-23T14:54:56.882Z"
   },
   {
    "duration": 11,
    "start_time": "2023-03-23T14:54:56.899Z"
   },
   {
    "duration": 62,
    "start_time": "2023-03-23T14:54:56.911Z"
   },
   {
    "duration": 4,
    "start_time": "2023-03-23T14:54:56.974Z"
   },
   {
    "duration": 10,
    "start_time": "2023-03-23T14:54:56.979Z"
   },
   {
    "duration": 4,
    "start_time": "2023-03-23T14:54:56.990Z"
   },
   {
    "duration": 6,
    "start_time": "2023-03-23T14:54:56.995Z"
   },
   {
    "duration": 3,
    "start_time": "2023-03-23T14:54:57.003Z"
   },
   {
    "duration": 47,
    "start_time": "2023-03-23T14:54:57.007Z"
   },
   {
    "duration": 9,
    "start_time": "2023-03-23T14:54:57.055Z"
   },
   {
    "duration": 3,
    "start_time": "2023-03-23T14:54:57.065Z"
   },
   {
    "duration": 11,
    "start_time": "2023-03-23T14:54:57.069Z"
   },
   {
    "duration": 16,
    "start_time": "2023-03-23T14:54:57.082Z"
   },
   {
    "duration": 14,
    "start_time": "2023-03-23T14:54:57.099Z"
   },
   {
    "duration": 3,
    "start_time": "2023-03-23T14:54:57.115Z"
   },
   {
    "duration": 34,
    "start_time": "2023-03-23T14:54:57.119Z"
   },
   {
    "duration": 8,
    "start_time": "2023-03-23T14:54:57.155Z"
   },
   {
    "duration": 3,
    "start_time": "2023-03-23T14:54:57.165Z"
   },
   {
    "duration": 8,
    "start_time": "2023-03-23T14:54:57.169Z"
   },
   {
    "duration": 9,
    "start_time": "2023-03-23T14:54:57.178Z"
   },
   {
    "duration": 8,
    "start_time": "2023-03-23T14:54:57.188Z"
   },
   {
    "duration": 51,
    "start_time": "2023-03-23T14:54:57.198Z"
   },
   {
    "duration": 10,
    "start_time": "2023-03-23T14:54:57.251Z"
   },
   {
    "duration": 16,
    "start_time": "2023-03-23T14:54:57.262Z"
   },
   {
    "duration": 7,
    "start_time": "2023-03-23T15:01:04.202Z"
   },
   {
    "duration": 6,
    "start_time": "2023-03-23T15:03:53.047Z"
   },
   {
    "duration": 15,
    "start_time": "2023-03-23T15:08:16.696Z"
   },
   {
    "duration": 5,
    "start_time": "2023-03-23T15:10:23.256Z"
   },
   {
    "duration": 7,
    "start_time": "2023-03-23T15:10:29.001Z"
   },
   {
    "duration": 6,
    "start_time": "2023-03-23T15:10:46.609Z"
   },
   {
    "duration": 7,
    "start_time": "2023-03-23T15:15:49.644Z"
   },
   {
    "duration": 10,
    "start_time": "2023-03-23T15:17:22.341Z"
   },
   {
    "duration": 9,
    "start_time": "2023-03-23T15:17:45.341Z"
   },
   {
    "duration": 8,
    "start_time": "2023-03-23T15:54:57.604Z"
   },
   {
    "duration": 8,
    "start_time": "2023-03-23T15:55:23.702Z"
   },
   {
    "duration": 9,
    "start_time": "2023-03-23T15:55:47.112Z"
   },
   {
    "duration": 7,
    "start_time": "2023-03-23T15:56:03.638Z"
   },
   {
    "duration": 10,
    "start_time": "2023-03-23T15:56:05.421Z"
   },
   {
    "duration": 7,
    "start_time": "2023-03-23T15:56:29.550Z"
   },
   {
    "duration": 8,
    "start_time": "2023-03-23T15:57:04.078Z"
   },
   {
    "duration": 7,
    "start_time": "2023-03-23T15:57:14.607Z"
   },
   {
    "duration": 8,
    "start_time": "2023-03-23T15:57:19.414Z"
   },
   {
    "duration": 7,
    "start_time": "2023-03-23T15:57:33.982Z"
   },
   {
    "duration": 6,
    "start_time": "2023-03-23T15:57:59.103Z"
   },
   {
    "duration": 7,
    "start_time": "2023-03-23T15:58:13.046Z"
   },
   {
    "duration": 7,
    "start_time": "2023-03-23T15:58:23.455Z"
   },
   {
    "duration": 9,
    "start_time": "2023-03-23T15:59:11.407Z"
   },
   {
    "duration": 9,
    "start_time": "2023-03-23T15:59:19.722Z"
   },
   {
    "duration": 8,
    "start_time": "2023-03-23T15:59:25.583Z"
   },
   {
    "duration": 31,
    "start_time": "2023-03-23T15:59:52.623Z"
   },
   {
    "duration": 4,
    "start_time": "2023-03-23T16:00:05.640Z"
   },
   {
    "duration": 9,
    "start_time": "2023-03-23T16:00:14.009Z"
   },
   {
    "duration": 8,
    "start_time": "2023-03-23T16:00:39.224Z"
   },
   {
    "duration": 113,
    "start_time": "2023-03-23T16:01:02.767Z"
   },
   {
    "duration": 9,
    "start_time": "2023-03-23T16:01:12.696Z"
   },
   {
    "duration": 7,
    "start_time": "2023-03-23T16:02:33.065Z"
   },
   {
    "duration": 71,
    "start_time": "2023-03-23T16:03:07.842Z"
   },
   {
    "duration": 83,
    "start_time": "2023-03-23T16:05:25.037Z"
   },
   {
    "duration": 7,
    "start_time": "2023-03-23T16:05:38.642Z"
   },
   {
    "duration": 11,
    "start_time": "2023-03-23T16:05:46.579Z"
   },
   {
    "duration": 8,
    "start_time": "2023-03-23T16:06:18.107Z"
   },
   {
    "duration": 3,
    "start_time": "2023-03-23T16:06:28.162Z"
   },
   {
    "duration": 10,
    "start_time": "2023-03-23T16:06:37.947Z"
   },
   {
    "duration": 10,
    "start_time": "2023-03-23T16:06:42.906Z"
   },
   {
    "duration": 8,
    "start_time": "2023-03-24T07:39:45.637Z"
   },
   {
    "duration": 45,
    "start_time": "2023-03-24T07:40:17.927Z"
   },
   {
    "duration": 569,
    "start_time": "2023-03-24T07:43:57.216Z"
   },
   {
    "duration": 24,
    "start_time": "2023-03-24T07:43:57.787Z"
   },
   {
    "duration": 15,
    "start_time": "2023-03-24T07:43:57.813Z"
   },
   {
    "duration": 9,
    "start_time": "2023-03-24T07:43:57.830Z"
   },
   {
    "duration": 35,
    "start_time": "2023-03-24T07:43:57.841Z"
   },
   {
    "duration": 4,
    "start_time": "2023-03-24T07:43:57.878Z"
   },
   {
    "duration": 12,
    "start_time": "2023-03-24T07:43:57.883Z"
   },
   {
    "duration": 28,
    "start_time": "2023-03-24T07:43:57.897Z"
   },
   {
    "duration": 10,
    "start_time": "2023-03-24T07:43:57.927Z"
   },
   {
    "duration": 4,
    "start_time": "2023-03-24T07:43:57.940Z"
   },
   {
    "duration": 38,
    "start_time": "2023-03-24T07:43:57.946Z"
   },
   {
    "duration": 39,
    "start_time": "2023-03-24T07:43:57.985Z"
   },
   {
    "duration": 5,
    "start_time": "2023-03-24T07:43:58.025Z"
   },
   {
    "duration": 12,
    "start_time": "2023-03-24T07:43:58.032Z"
   },
   {
    "duration": 24,
    "start_time": "2023-03-24T07:43:58.046Z"
   },
   {
    "duration": 17,
    "start_time": "2023-03-24T07:43:58.072Z"
   },
   {
    "duration": 4,
    "start_time": "2023-03-24T07:43:58.090Z"
   },
   {
    "duration": 35,
    "start_time": "2023-03-24T07:43:58.095Z"
   },
   {
    "duration": 7,
    "start_time": "2023-03-24T07:43:58.132Z"
   },
   {
    "duration": 4,
    "start_time": "2023-03-24T07:43:58.141Z"
   },
   {
    "duration": 12,
    "start_time": "2023-03-24T07:43:58.147Z"
   },
   {
    "duration": 8,
    "start_time": "2023-03-24T07:44:01.946Z"
   },
   {
    "duration": 8,
    "start_time": "2023-03-24T07:44:22.304Z"
   },
   {
    "duration": 10,
    "start_time": "2023-03-24T07:45:35.397Z"
   },
   {
    "duration": 3,
    "start_time": "2023-03-24T08:02:19.142Z"
   },
   {
    "duration": 4,
    "start_time": "2023-03-24T08:05:37.566Z"
   },
   {
    "duration": 12,
    "start_time": "2023-03-24T08:06:25.810Z"
   },
   {
    "duration": 4,
    "start_time": "2023-03-24T08:06:48.568Z"
   },
   {
    "duration": 10,
    "start_time": "2023-03-24T08:06:51.520Z"
   },
   {
    "duration": 4,
    "start_time": "2023-03-24T08:07:45.955Z"
   },
   {
    "duration": 4,
    "start_time": "2023-03-24T08:18:16.953Z"
   },
   {
    "duration": 16,
    "start_time": "2023-03-24T08:18:21.081Z"
   },
   {
    "duration": 4,
    "start_time": "2023-03-24T08:20:32.675Z"
   },
   {
    "duration": 54,
    "start_time": "2023-03-24T08:20:34.987Z"
   },
   {
    "duration": 4,
    "start_time": "2023-03-24T08:22:05.868Z"
   },
   {
    "duration": 332,
    "start_time": "2023-03-24T08:22:09.120Z"
   },
   {
    "duration": 4,
    "start_time": "2023-03-24T08:22:28.562Z"
   },
   {
    "duration": 9,
    "start_time": "2023-03-24T08:22:29.695Z"
   },
   {
    "duration": 4,
    "start_time": "2023-03-24T08:23:40.434Z"
   },
   {
    "duration": 12,
    "start_time": "2023-03-24T08:23:42.389Z"
   },
   {
    "duration": 3,
    "start_time": "2023-03-24T08:23:56.388Z"
   },
   {
    "duration": 10,
    "start_time": "2023-03-24T08:23:57.251Z"
   },
   {
    "duration": 3,
    "start_time": "2023-03-24T08:26:32.543Z"
   },
   {
    "duration": 4,
    "start_time": "2023-03-24T08:26:54.606Z"
   },
   {
    "duration": 3,
    "start_time": "2023-03-24T08:27:29.908Z"
   },
   {
    "duration": 13,
    "start_time": "2023-03-24T08:27:32.250Z"
   },
   {
    "duration": 3,
    "start_time": "2023-03-24T08:28:36.657Z"
   },
   {
    "duration": 9,
    "start_time": "2023-03-24T08:28:38.053Z"
   },
   {
    "duration": 3,
    "start_time": "2023-03-24T08:29:07.116Z"
   },
   {
    "duration": 3,
    "start_time": "2023-03-24T08:29:13.993Z"
   },
   {
    "duration": 11,
    "start_time": "2023-03-24T08:29:15.133Z"
   },
   {
    "duration": 4,
    "start_time": "2023-03-24T08:31:17.952Z"
   },
   {
    "duration": 9,
    "start_time": "2023-03-24T08:31:20.156Z"
   },
   {
    "duration": 3,
    "start_time": "2023-03-24T08:31:54.964Z"
   },
   {
    "duration": 13,
    "start_time": "2023-03-24T08:31:57.416Z"
   },
   {
    "duration": 4,
    "start_time": "2023-03-24T08:35:50.536Z"
   },
   {
    "duration": 12,
    "start_time": "2023-03-24T08:35:52.371Z"
   },
   {
    "duration": 3,
    "start_time": "2023-03-24T08:36:01.734Z"
   },
   {
    "duration": 12,
    "start_time": "2023-03-24T08:36:03.166Z"
   },
   {
    "duration": 4,
    "start_time": "2023-03-24T08:36:27.087Z"
   },
   {
    "duration": 9,
    "start_time": "2023-03-24T08:36:28.086Z"
   },
   {
    "duration": 3,
    "start_time": "2023-03-24T08:42:37.574Z"
   },
   {
    "duration": 18,
    "start_time": "2023-03-24T08:42:39.199Z"
   },
   {
    "duration": 3,
    "start_time": "2023-03-24T08:42:53.842Z"
   },
   {
    "duration": 17,
    "start_time": "2023-03-24T08:42:55.072Z"
   },
   {
    "duration": 4,
    "start_time": "2023-03-24T08:43:28.978Z"
   },
   {
    "duration": 12,
    "start_time": "2023-03-24T08:43:30.282Z"
   },
   {
    "duration": 4,
    "start_time": "2023-03-24T08:43:53.078Z"
   },
   {
    "duration": 9,
    "start_time": "2023-03-24T08:43:53.737Z"
   },
   {
    "duration": 3,
    "start_time": "2023-03-24T08:50:05.874Z"
   },
   {
    "duration": 11,
    "start_time": "2023-03-24T08:50:07.240Z"
   },
   {
    "duration": 4,
    "start_time": "2023-03-24T08:50:26.845Z"
   },
   {
    "duration": 10,
    "start_time": "2023-03-24T08:50:28.567Z"
   },
   {
    "duration": 3,
    "start_time": "2023-03-24T08:50:46.156Z"
   },
   {
    "duration": 9,
    "start_time": "2023-03-24T08:50:47.579Z"
   },
   {
    "duration": 19,
    "start_time": "2023-03-24T08:53:43.189Z"
   },
   {
    "duration": 14,
    "start_time": "2023-03-24T08:53:55.764Z"
   },
   {
    "duration": 53,
    "start_time": "2023-03-24T08:54:51.007Z"
   },
   {
    "duration": 24,
    "start_time": "2023-03-24T08:56:04.820Z"
   },
   {
    "duration": 92,
    "start_time": "2023-03-24T08:59:48.009Z"
   },
   {
    "duration": 18,
    "start_time": "2023-03-24T08:59:56.339Z"
   },
   {
    "duration": 49,
    "start_time": "2023-03-24T09:02:35.635Z"
   },
   {
    "duration": 34,
    "start_time": "2023-03-24T09:02:54.200Z"
   },
   {
    "duration": 3,
    "start_time": "2023-03-24T09:04:22.807Z"
   },
   {
    "duration": 7,
    "start_time": "2023-03-24T09:04:23.751Z"
   },
   {
    "duration": 1168,
    "start_time": "2023-03-24T09:04:26.237Z"
   },
   {
    "duration": 54,
    "start_time": "2023-03-24T09:05:10.000Z"
   },
   {
    "duration": 42,
    "start_time": "2023-03-24T09:08:23.167Z"
   },
   {
    "duration": 1240,
    "start_time": "2023-03-24T09:08:44.825Z"
   },
   {
    "duration": 77,
    "start_time": "2023-03-24T09:11:03.725Z"
   },
   {
    "duration": 19,
    "start_time": "2023-03-24T09:11:10.464Z"
   },
   {
    "duration": 1232,
    "start_time": "2023-03-24T09:13:51.313Z"
   },
   {
    "duration": 46,
    "start_time": "2023-03-24T09:14:14.053Z"
   },
   {
    "duration": 18,
    "start_time": "2023-03-24T09:14:25.446Z"
   },
   {
    "duration": 22,
    "start_time": "2023-03-24T09:15:01.506Z"
   },
   {
    "duration": 24,
    "start_time": "2023-03-24T09:15:53.490Z"
   },
   {
    "duration": 23,
    "start_time": "2023-03-24T09:16:48.229Z"
   },
   {
    "duration": 22,
    "start_time": "2023-03-24T09:16:59.581Z"
   },
   {
    "duration": 27,
    "start_time": "2023-03-24T09:17:11.881Z"
   },
   {
    "duration": 32,
    "start_time": "2023-03-24T09:17:34.176Z"
   },
   {
    "duration": 30,
    "start_time": "2023-03-24T09:17:49.382Z"
   },
   {
    "duration": 33,
    "start_time": "2023-03-24T09:23:06.471Z"
   },
   {
    "duration": 32,
    "start_time": "2023-03-24T09:24:22.593Z"
   },
   {
    "duration": 31,
    "start_time": "2023-03-24T09:25:01.931Z"
   },
   {
    "duration": 89,
    "start_time": "2023-03-24T09:25:10.943Z"
   },
   {
    "duration": 76,
    "start_time": "2023-03-24T09:25:41.525Z"
   },
   {
    "duration": 3,
    "start_time": "2023-03-24T09:26:25.624Z"
   },
   {
    "duration": 31,
    "start_time": "2023-03-24T09:26:33.196Z"
   },
   {
    "duration": 47,
    "start_time": "2023-03-24T09:31:34.858Z"
   },
   {
    "duration": 46,
    "start_time": "2023-03-24T09:31:56.514Z"
   },
   {
    "duration": 38,
    "start_time": "2023-03-24T09:32:30.134Z"
   },
   {
    "duration": 3,
    "start_time": "2023-03-24T09:34:05.034Z"
   },
   {
    "duration": 9,
    "start_time": "2023-03-24T09:34:07.229Z"
   },
   {
    "duration": 30,
    "start_time": "2023-03-24T09:34:11.166Z"
   },
   {
    "duration": 34,
    "start_time": "2023-03-24T09:35:04.865Z"
   },
   {
    "duration": 89,
    "start_time": "2023-03-24T10:12:10.374Z"
   },
   {
    "duration": 3,
    "start_time": "2023-03-24T10:12:38.187Z"
   },
   {
    "duration": 3,
    "start_time": "2023-03-24T10:16:54.436Z"
   },
   {
    "duration": 8,
    "start_time": "2023-03-24T10:18:16.887Z"
   },
   {
    "duration": 70,
    "start_time": "2023-03-24T10:19:00.878Z"
   },
   {
    "duration": 17,
    "start_time": "2023-03-24T10:19:00.950Z"
   },
   {
    "duration": 34,
    "start_time": "2023-03-24T10:19:00.968Z"
   },
   {
    "duration": 41,
    "start_time": "2023-03-24T10:19:01.004Z"
   },
   {
    "duration": 59,
    "start_time": "2023-03-24T10:19:01.047Z"
   },
   {
    "duration": 4,
    "start_time": "2023-03-24T10:19:01.108Z"
   },
   {
    "duration": 18,
    "start_time": "2023-03-24T10:19:01.113Z"
   },
   {
    "duration": 48,
    "start_time": "2023-03-24T10:19:01.133Z"
   },
   {
    "duration": 36,
    "start_time": "2023-03-24T10:19:01.184Z"
   },
   {
    "duration": 37,
    "start_time": "2023-03-24T10:19:01.222Z"
   },
   {
    "duration": 76,
    "start_time": "2023-03-24T10:19:01.261Z"
   },
   {
    "duration": 17,
    "start_time": "2023-03-24T10:19:01.339Z"
   },
   {
    "duration": 35,
    "start_time": "2023-03-24T10:19:01.358Z"
   },
   {
    "duration": 46,
    "start_time": "2023-03-24T10:19:01.395Z"
   },
   {
    "duration": 91,
    "start_time": "2023-03-24T10:19:01.442Z"
   },
   {
    "duration": 20,
    "start_time": "2023-03-24T10:19:01.535Z"
   },
   {
    "duration": 32,
    "start_time": "2023-03-24T10:19:01.556Z"
   },
   {
    "duration": 48,
    "start_time": "2023-03-24T10:19:01.590Z"
   },
   {
    "duration": 11,
    "start_time": "2023-03-24T10:19:01.640Z"
   },
   {
    "duration": 9,
    "start_time": "2023-03-24T10:19:01.652Z"
   },
   {
    "duration": 34,
    "start_time": "2023-03-24T10:19:01.662Z"
   },
   {
    "duration": 23,
    "start_time": "2023-03-24T10:19:01.697Z"
   },
   {
    "duration": 44,
    "start_time": "2023-03-24T10:19:01.722Z"
   },
   {
    "duration": 49,
    "start_time": "2023-03-24T10:19:01.768Z"
   },
   {
    "duration": 3,
    "start_time": "2023-03-24T10:19:01.818Z"
   },
   {
    "duration": 10,
    "start_time": "2023-03-24T10:20:41.885Z"
   },
   {
    "duration": 9,
    "start_time": "2023-03-24T10:22:22.279Z"
   },
   {
    "duration": 47,
    "start_time": "2023-03-24T10:24:56.316Z"
   },
   {
    "duration": 33,
    "start_time": "2023-03-24T10:25:12.667Z"
   },
   {
    "duration": 7,
    "start_time": "2023-03-24T10:25:52.786Z"
   },
   {
    "duration": 94,
    "start_time": "2023-03-24T10:25:54.817Z"
   },
   {
    "duration": 35,
    "start_time": "2023-03-24T10:26:00.154Z"
   },
   {
    "duration": 30,
    "start_time": "2023-03-24T10:26:22.307Z"
   },
   {
    "duration": 32,
    "start_time": "2023-03-24T10:26:27.612Z"
   },
   {
    "duration": 3,
    "start_time": "2023-03-24T10:27:10.072Z"
   },
   {
    "duration": 6,
    "start_time": "2023-03-24T10:27:11.913Z"
   },
   {
    "duration": 32,
    "start_time": "2023-03-24T10:27:13.189Z"
   },
   {
    "duration": 37,
    "start_time": "2023-03-24T10:31:30.489Z"
   },
   {
    "duration": 43,
    "start_time": "2023-03-24T10:53:04.346Z"
   },
   {
    "duration": 36,
    "start_time": "2023-03-24T10:54:45.297Z"
   },
   {
    "duration": 48,
    "start_time": "2023-03-24T11:15:26.830Z"
   },
   {
    "duration": 50,
    "start_time": "2023-03-24T11:16:20.373Z"
   },
   {
    "duration": 37,
    "start_time": "2023-03-24T11:36:39.643Z"
   },
   {
    "duration": 42,
    "start_time": "2023-03-24T11:37:02.563Z"
   },
   {
    "duration": 10,
    "start_time": "2023-03-24T12:00:10.668Z"
   },
   {
    "duration": 15,
    "start_time": "2023-03-24T12:00:22.345Z"
   },
   {
    "duration": 10,
    "start_time": "2023-03-24T12:00:34.888Z"
   },
   {
    "duration": 15,
    "start_time": "2023-03-24T12:00:42.678Z"
   },
   {
    "duration": 10,
    "start_time": "2023-03-24T12:00:49.180Z"
   },
   {
    "duration": 10,
    "start_time": "2023-03-24T12:01:11.283Z"
   },
   {
    "duration": 13,
    "start_time": "2023-03-24T12:01:27.314Z"
   },
   {
    "duration": 10,
    "start_time": "2023-03-24T12:02:56.240Z"
   },
   {
    "duration": 31,
    "start_time": "2023-03-24T12:03:20.341Z"
   },
   {
    "duration": 80,
    "start_time": "2023-03-24T12:04:00.512Z"
   },
   {
    "duration": 72,
    "start_time": "2023-03-24T12:04:19.903Z"
   },
   {
    "duration": 72,
    "start_time": "2023-03-24T12:04:34.516Z"
   },
   {
    "duration": 16,
    "start_time": "2023-03-24T12:04:34.590Z"
   },
   {
    "duration": 23,
    "start_time": "2023-03-24T12:04:34.608Z"
   },
   {
    "duration": 9,
    "start_time": "2023-03-24T12:04:34.633Z"
   },
   {
    "duration": 32,
    "start_time": "2023-03-24T12:04:34.643Z"
   },
   {
    "duration": 3,
    "start_time": "2023-03-24T12:04:34.677Z"
   },
   {
    "duration": 43,
    "start_time": "2023-03-24T12:04:34.682Z"
   },
   {
    "duration": 5,
    "start_time": "2023-03-24T12:04:34.727Z"
   },
   {
    "duration": 8,
    "start_time": "2023-03-24T12:04:34.734Z"
   },
   {
    "duration": 5,
    "start_time": "2023-03-24T12:04:34.745Z"
   },
   {
    "duration": 40,
    "start_time": "2023-03-24T12:04:34.752Z"
   },
   {
    "duration": 11,
    "start_time": "2023-03-24T12:04:34.822Z"
   },
   {
    "duration": 5,
    "start_time": "2023-03-24T12:04:34.834Z"
   },
   {
    "duration": 27,
    "start_time": "2023-03-24T12:04:34.840Z"
   },
   {
    "duration": 31,
    "start_time": "2023-03-24T12:04:34.869Z"
   },
   {
    "duration": 27,
    "start_time": "2023-03-24T12:04:34.902Z"
   },
   {
    "duration": 4,
    "start_time": "2023-03-24T12:04:34.931Z"
   },
   {
    "duration": 13,
    "start_time": "2023-03-24T12:04:34.936Z"
   },
   {
    "duration": 8,
    "start_time": "2023-03-24T12:04:34.950Z"
   },
   {
    "duration": 3,
    "start_time": "2023-03-24T12:04:34.960Z"
   },
   {
    "duration": 32,
    "start_time": "2023-03-24T12:04:34.965Z"
   },
   {
    "duration": 5,
    "start_time": "2023-03-24T12:04:34.999Z"
   },
   {
    "duration": 25,
    "start_time": "2023-03-24T12:04:35.005Z"
   },
   {
    "duration": 44,
    "start_time": "2023-03-24T12:04:35.032Z"
   },
   {
    "duration": 4,
    "start_time": "2023-03-24T12:04:35.079Z"
   },
   {
    "duration": 12,
    "start_time": "2023-03-24T12:04:35.085Z"
   },
   {
    "duration": 65,
    "start_time": "2023-03-24T12:04:35.099Z"
   },
   {
    "duration": 40,
    "start_time": "2023-03-24T12:04:35.167Z"
   },
   {
    "duration": 33,
    "start_time": "2023-03-24T12:04:35.224Z"
   },
   {
    "duration": 38,
    "start_time": "2023-03-24T12:04:35.259Z"
   },
   {
    "duration": 22,
    "start_time": "2023-03-24T12:04:56.662Z"
   },
   {
    "duration": 72,
    "start_time": "2023-03-24T12:05:05.201Z"
   },
   {
    "duration": 19,
    "start_time": "2023-03-24T12:05:05.275Z"
   },
   {
    "duration": 36,
    "start_time": "2023-03-24T12:05:05.296Z"
   },
   {
    "duration": 10,
    "start_time": "2023-03-24T12:05:05.335Z"
   },
   {
    "duration": 44,
    "start_time": "2023-03-24T12:05:05.348Z"
   },
   {
    "duration": 5,
    "start_time": "2023-03-24T12:05:05.393Z"
   },
   {
    "duration": 14,
    "start_time": "2023-03-24T12:05:05.423Z"
   },
   {
    "duration": 8,
    "start_time": "2023-03-24T12:05:05.440Z"
   },
   {
    "duration": 10,
    "start_time": "2023-03-24T12:05:05.450Z"
   },
   {
    "duration": 30,
    "start_time": "2023-03-24T12:05:05.463Z"
   },
   {
    "duration": 45,
    "start_time": "2023-03-24T12:05:05.495Z"
   },
   {
    "duration": 10,
    "start_time": "2023-03-24T12:05:05.541Z"
   },
   {
    "duration": 8,
    "start_time": "2023-03-24T12:05:05.553Z"
   },
   {
    "duration": 20,
    "start_time": "2023-03-24T12:05:05.563Z"
   },
   {
    "duration": 21,
    "start_time": "2023-03-24T12:05:05.584Z"
   },
   {
    "duration": 23,
    "start_time": "2023-03-24T12:05:05.607Z"
   },
   {
    "duration": 4,
    "start_time": "2023-03-24T12:05:05.631Z"
   },
   {
    "duration": 19,
    "start_time": "2023-03-24T12:05:05.636Z"
   },
   {
    "duration": 31,
    "start_time": "2023-03-24T12:05:05.657Z"
   },
   {
    "duration": 20,
    "start_time": "2023-03-24T12:05:05.690Z"
   },
   {
    "duration": 19,
    "start_time": "2023-03-24T12:05:05.711Z"
   },
   {
    "duration": 6,
    "start_time": "2023-03-24T12:05:05.731Z"
   },
   {
    "duration": 19,
    "start_time": "2023-03-24T12:05:05.739Z"
   },
   {
    "duration": 32,
    "start_time": "2023-03-24T12:05:05.760Z"
   },
   {
    "duration": 3,
    "start_time": "2023-03-24T12:05:05.794Z"
   },
   {
    "duration": 34,
    "start_time": "2023-03-24T12:05:05.799Z"
   },
   {
    "duration": 40,
    "start_time": "2023-03-24T12:05:05.836Z"
   },
   {
    "duration": 34,
    "start_time": "2023-03-24T12:05:05.879Z"
   },
   {
    "duration": 32,
    "start_time": "2023-03-24T12:05:05.924Z"
   },
   {
    "duration": 35,
    "start_time": "2023-03-24T12:05:05.958Z"
   },
   {
    "duration": 70,
    "start_time": "2023-03-24T12:06:35.835Z"
   },
   {
    "duration": 28,
    "start_time": "2023-03-24T12:06:35.907Z"
   },
   {
    "duration": 16,
    "start_time": "2023-03-24T12:06:35.938Z"
   },
   {
    "duration": 11,
    "start_time": "2023-03-24T12:06:35.956Z"
   },
   {
    "duration": 70,
    "start_time": "2023-03-24T12:06:35.969Z"
   },
   {
    "duration": 4,
    "start_time": "2023-03-24T12:06:36.042Z"
   },
   {
    "duration": 14,
    "start_time": "2023-03-24T12:06:36.048Z"
   },
   {
    "duration": 4,
    "start_time": "2023-03-24T12:06:36.063Z"
   },
   {
    "duration": 7,
    "start_time": "2023-03-24T12:06:36.069Z"
   },
   {
    "duration": 16,
    "start_time": "2023-03-24T12:06:36.079Z"
   },
   {
    "duration": 64,
    "start_time": "2023-03-24T12:06:36.097Z"
   },
   {
    "duration": 10,
    "start_time": "2023-03-24T12:06:36.162Z"
   },
   {
    "duration": 4,
    "start_time": "2023-03-24T12:06:36.174Z"
   },
   {
    "duration": 15,
    "start_time": "2023-03-24T12:06:36.180Z"
   },
   {
    "duration": 42,
    "start_time": "2023-03-24T12:06:36.197Z"
   },
   {
    "duration": 19,
    "start_time": "2023-03-24T12:06:36.243Z"
   },
   {
    "duration": 4,
    "start_time": "2023-03-24T12:06:36.263Z"
   },
   {
    "duration": 16,
    "start_time": "2023-03-24T12:06:36.269Z"
   },
   {
    "duration": 35,
    "start_time": "2023-03-24T12:06:36.286Z"
   },
   {
    "duration": 8,
    "start_time": "2023-03-24T12:06:36.325Z"
   },
   {
    "duration": 9,
    "start_time": "2023-03-24T12:06:36.339Z"
   },
   {
    "duration": 7,
    "start_time": "2023-03-24T12:06:36.349Z"
   },
   {
    "duration": 14,
    "start_time": "2023-03-24T12:06:36.357Z"
   },
   {
    "duration": 46,
    "start_time": "2023-03-24T12:06:36.372Z"
   },
   {
    "duration": 7,
    "start_time": "2023-03-24T12:06:36.419Z"
   },
   {
    "duration": 15,
    "start_time": "2023-03-24T12:06:36.428Z"
   },
   {
    "duration": 38,
    "start_time": "2023-03-24T12:06:36.445Z"
   },
   {
    "duration": 53,
    "start_time": "2023-03-24T12:06:36.486Z"
   },
   {
    "duration": 33,
    "start_time": "2023-03-24T12:06:36.541Z"
   },
   {
    "duration": 54,
    "start_time": "2023-03-24T12:06:36.576Z"
   },
   {
    "duration": 8,
    "start_time": "2023-03-24T12:07:20.186Z"
   },
   {
    "duration": 9,
    "start_time": "2023-03-24T12:07:25.938Z"
   },
   {
    "duration": 95,
    "start_time": "2023-03-24T12:07:30.752Z"
   },
   {
    "duration": 9,
    "start_time": "2023-03-24T12:07:30.849Z"
   },
   {
    "duration": 51,
    "start_time": "2023-03-24T12:07:30.860Z"
   },
   {
    "duration": 22,
    "start_time": "2023-03-24T12:07:30.914Z"
   },
   {
    "duration": 43,
    "start_time": "2023-03-24T12:07:30.940Z"
   },
   {
    "duration": 5,
    "start_time": "2023-03-24T12:07:30.984Z"
   },
   {
    "duration": 73,
    "start_time": "2023-03-24T12:07:30.991Z"
   },
   {
    "duration": 54,
    "start_time": "2023-03-24T12:07:31.066Z"
   },
   {
    "duration": 58,
    "start_time": "2023-03-24T12:07:31.124Z"
   },
   {
    "duration": 27,
    "start_time": "2023-03-24T12:07:31.183Z"
   },
   {
    "duration": 56,
    "start_time": "2023-03-24T12:07:31.211Z"
   },
   {
    "duration": 20,
    "start_time": "2023-03-24T12:07:31.269Z"
   },
   {
    "duration": 14,
    "start_time": "2023-03-24T12:07:31.291Z"
   },
   {
    "duration": 37,
    "start_time": "2023-03-24T12:07:31.307Z"
   },
   {
    "duration": 35,
    "start_time": "2023-03-24T12:07:31.346Z"
   },
   {
    "duration": 44,
    "start_time": "2023-03-24T12:07:31.383Z"
   },
   {
    "duration": 29,
    "start_time": "2023-03-24T12:07:31.429Z"
   },
   {
    "duration": 30,
    "start_time": "2023-03-24T12:07:31.460Z"
   },
   {
    "duration": 50,
    "start_time": "2023-03-24T12:07:31.491Z"
   },
   {
    "duration": 22,
    "start_time": "2023-03-24T12:07:31.542Z"
   },
   {
    "duration": 28,
    "start_time": "2023-03-24T12:07:31.566Z"
   },
   {
    "duration": 39,
    "start_time": "2023-03-24T12:07:31.596Z"
   },
   {
    "duration": 37,
    "start_time": "2023-03-24T12:07:31.638Z"
   },
   {
    "duration": 62,
    "start_time": "2023-03-24T12:07:31.677Z"
   },
   {
    "duration": 3,
    "start_time": "2023-03-24T12:07:31.742Z"
   },
   {
    "duration": 20,
    "start_time": "2023-03-24T12:07:31.747Z"
   },
   {
    "duration": 42,
    "start_time": "2023-03-24T12:07:31.769Z"
   },
   {
    "duration": 41,
    "start_time": "2023-03-24T12:07:31.812Z"
   },
   {
    "duration": 36,
    "start_time": "2023-03-24T12:07:31.855Z"
   },
   {
    "duration": 54,
    "start_time": "2023-03-24T12:07:31.892Z"
   },
   {
    "duration": 76,
    "start_time": "2023-03-24T12:07:43.384Z"
   },
   {
    "duration": 11,
    "start_time": "2023-03-24T12:07:43.462Z"
   },
   {
    "duration": 25,
    "start_time": "2023-03-24T12:07:43.475Z"
   },
   {
    "duration": 34,
    "start_time": "2023-03-24T12:07:43.503Z"
   },
   {
    "duration": 32,
    "start_time": "2023-03-24T12:07:43.540Z"
   },
   {
    "duration": 3,
    "start_time": "2023-03-24T12:07:43.574Z"
   },
   {
    "duration": 11,
    "start_time": "2023-03-24T12:07:43.579Z"
   },
   {
    "duration": 3,
    "start_time": "2023-03-24T12:07:43.592Z"
   },
   {
    "duration": 37,
    "start_time": "2023-03-24T12:07:43.597Z"
   },
   {
    "duration": 7,
    "start_time": "2023-03-24T12:07:43.638Z"
   },
   {
    "duration": 42,
    "start_time": "2023-03-24T12:07:43.646Z"
   },
   {
    "duration": 9,
    "start_time": "2023-03-24T12:07:43.690Z"
   },
   {
    "duration": 11,
    "start_time": "2023-03-24T12:07:43.701Z"
   },
   {
    "duration": 28,
    "start_time": "2023-03-24T12:07:43.714Z"
   },
   {
    "duration": 19,
    "start_time": "2023-03-24T12:07:43.744Z"
   },
   {
    "duration": 19,
    "start_time": "2023-03-24T12:07:43.764Z"
   },
   {
    "duration": 7,
    "start_time": "2023-03-24T12:07:43.785Z"
   },
   {
    "duration": 30,
    "start_time": "2023-03-24T12:07:43.794Z"
   },
   {
    "duration": 10,
    "start_time": "2023-03-24T12:07:43.827Z"
   },
   {
    "duration": 10,
    "start_time": "2023-03-24T12:07:43.839Z"
   },
   {
    "duration": 14,
    "start_time": "2023-03-24T12:07:43.850Z"
   },
   {
    "duration": 20,
    "start_time": "2023-03-24T12:07:43.865Z"
   },
   {
    "duration": 16,
    "start_time": "2023-03-24T12:07:43.888Z"
   },
   {
    "duration": 38,
    "start_time": "2023-03-24T12:07:43.906Z"
   },
   {
    "duration": 3,
    "start_time": "2023-03-24T12:07:43.945Z"
   },
   {
    "duration": 8,
    "start_time": "2023-03-24T12:07:43.950Z"
   },
   {
    "duration": 38,
    "start_time": "2023-03-24T12:07:43.960Z"
   },
   {
    "duration": 59,
    "start_time": "2023-03-24T12:07:44.001Z"
   },
   {
    "duration": 36,
    "start_time": "2023-03-24T12:07:44.061Z"
   },
   {
    "duration": 60,
    "start_time": "2023-03-24T12:07:44.098Z"
   },
   {
    "duration": 78,
    "start_time": "2023-03-24T12:07:56.079Z"
   },
   {
    "duration": 9,
    "start_time": "2023-03-24T12:07:56.159Z"
   },
   {
    "duration": 18,
    "start_time": "2023-03-24T12:07:56.169Z"
   },
   {
    "duration": 10,
    "start_time": "2023-03-24T12:07:56.190Z"
   },
   {
    "duration": 43,
    "start_time": "2023-03-24T12:07:56.224Z"
   },
   {
    "duration": 4,
    "start_time": "2023-03-24T12:07:56.268Z"
   },
   {
    "duration": 23,
    "start_time": "2023-03-24T12:07:56.273Z"
   },
   {
    "duration": 5,
    "start_time": "2023-03-24T12:07:56.298Z"
   },
   {
    "duration": 19,
    "start_time": "2023-03-24T12:07:56.304Z"
   },
   {
    "duration": 11,
    "start_time": "2023-03-24T12:07:56.330Z"
   },
   {
    "duration": 33,
    "start_time": "2023-03-24T12:07:56.343Z"
   },
   {
    "duration": 10,
    "start_time": "2023-03-24T12:07:56.378Z"
   },
   {
    "duration": 4,
    "start_time": "2023-03-24T12:07:56.390Z"
   },
   {
    "duration": 42,
    "start_time": "2023-03-24T12:07:56.395Z"
   },
   {
    "duration": 21,
    "start_time": "2023-03-24T12:07:56.440Z"
   },
   {
    "duration": 18,
    "start_time": "2023-03-24T12:07:56.463Z"
   },
   {
    "duration": 3,
    "start_time": "2023-03-24T12:07:56.483Z"
   },
   {
    "duration": 15,
    "start_time": "2023-03-24T12:07:56.488Z"
   },
   {
    "duration": 36,
    "start_time": "2023-03-24T12:07:56.505Z"
   },
   {
    "duration": 8,
    "start_time": "2023-03-24T12:07:56.543Z"
   },
   {
    "duration": 12,
    "start_time": "2023-03-24T12:07:56.553Z"
   },
   {
    "duration": 9,
    "start_time": "2023-03-24T12:07:56.566Z"
   },
   {
    "duration": 37,
    "start_time": "2023-03-24T12:07:56.577Z"
   },
   {
    "duration": 41,
    "start_time": "2023-03-24T12:07:56.615Z"
   },
   {
    "duration": 4,
    "start_time": "2023-03-24T12:07:56.658Z"
   },
   {
    "duration": 9,
    "start_time": "2023-03-24T12:07:56.664Z"
   },
   {
    "duration": 57,
    "start_time": "2023-03-24T12:07:56.675Z"
   },
   {
    "duration": 38,
    "start_time": "2023-03-24T12:07:56.738Z"
   },
   {
    "duration": 58,
    "start_time": "2023-03-24T12:07:56.778Z"
   },
   {
    "duration": 37,
    "start_time": "2023-03-24T12:07:56.839Z"
   },
   {
    "duration": 25,
    "start_time": "2023-03-24T12:08:13.194Z"
   },
   {
    "duration": 75,
    "start_time": "2023-03-24T12:08:17.608Z"
   },
   {
    "duration": 22,
    "start_time": "2023-03-24T12:08:17.685Z"
   },
   {
    "duration": 33,
    "start_time": "2023-03-24T12:08:17.708Z"
   },
   {
    "duration": 11,
    "start_time": "2023-03-24T12:08:17.744Z"
   },
   {
    "duration": 36,
    "start_time": "2023-03-24T12:08:17.756Z"
   },
   {
    "duration": 3,
    "start_time": "2023-03-24T12:08:17.794Z"
   },
   {
    "duration": 40,
    "start_time": "2023-03-24T12:08:17.799Z"
   },
   {
    "duration": 4,
    "start_time": "2023-03-24T12:08:17.841Z"
   },
   {
    "duration": 6,
    "start_time": "2023-03-24T12:08:17.847Z"
   },
   {
    "duration": 5,
    "start_time": "2023-03-24T12:08:17.855Z"
   },
   {
    "duration": 35,
    "start_time": "2023-03-24T12:08:17.861Z"
   },
   {
    "duration": 38,
    "start_time": "2023-03-24T12:08:17.898Z"
   },
   {
    "duration": 4,
    "start_time": "2023-03-24T12:08:17.938Z"
   },
   {
    "duration": 14,
    "start_time": "2023-03-24T12:08:17.943Z"
   },
   {
    "duration": 20,
    "start_time": "2023-03-24T12:08:17.958Z"
   },
   {
    "duration": 17,
    "start_time": "2023-03-24T12:08:17.980Z"
   },
   {
    "duration": 3,
    "start_time": "2023-03-24T12:08:17.999Z"
   },
   {
    "duration": 34,
    "start_time": "2023-03-24T12:08:18.004Z"
   },
   {
    "duration": 7,
    "start_time": "2023-03-24T12:08:18.040Z"
   },
   {
    "duration": 5,
    "start_time": "2023-03-24T12:08:18.048Z"
   },
   {
    "duration": 12,
    "start_time": "2023-03-24T12:08:18.054Z"
   },
   {
    "duration": 4,
    "start_time": "2023-03-24T12:08:18.068Z"
   },
   {
    "duration": 17,
    "start_time": "2023-03-24T12:08:18.074Z"
   },
   {
    "duration": 51,
    "start_time": "2023-03-24T12:08:18.093Z"
   },
   {
    "duration": 3,
    "start_time": "2023-03-24T12:08:18.145Z"
   },
   {
    "duration": 13,
    "start_time": "2023-03-24T12:08:18.149Z"
   },
   {
    "duration": 35,
    "start_time": "2023-03-24T12:08:18.164Z"
   },
   {
    "duration": 52,
    "start_time": "2023-03-24T12:08:18.202Z"
   },
   {
    "duration": 33,
    "start_time": "2023-03-24T12:08:18.256Z"
   },
   {
    "duration": 56,
    "start_time": "2023-03-24T12:08:18.291Z"
   },
   {
    "duration": 71,
    "start_time": "2023-03-24T12:10:02.637Z"
   },
   {
    "duration": 18,
    "start_time": "2023-03-24T12:10:02.710Z"
   },
   {
    "duration": 20,
    "start_time": "2023-03-24T12:10:02.732Z"
   },
   {
    "duration": 10,
    "start_time": "2023-03-24T12:10:02.753Z"
   },
   {
    "duration": 35,
    "start_time": "2023-03-24T12:10:02.765Z"
   },
   {
    "duration": 34,
    "start_time": "2023-03-24T12:10:02.801Z"
   },
   {
    "duration": 9,
    "start_time": "2023-03-24T12:10:02.837Z"
   },
   {
    "duration": 5,
    "start_time": "2023-03-24T12:10:02.847Z"
   },
   {
    "duration": 6,
    "start_time": "2023-03-24T12:10:02.853Z"
   },
   {
    "duration": 5,
    "start_time": "2023-03-24T12:10:02.861Z"
   },
   {
    "duration": 60,
    "start_time": "2023-03-24T12:10:02.867Z"
   },
   {
    "duration": 16,
    "start_time": "2023-03-24T12:10:02.929Z"
   },
   {
    "duration": 4,
    "start_time": "2023-03-24T12:10:02.947Z"
   },
   {
    "duration": 17,
    "start_time": "2023-03-24T12:10:02.956Z"
   },
   {
    "duration": 56,
    "start_time": "2023-03-24T12:10:02.976Z"
   },
   {
    "duration": 20,
    "start_time": "2023-03-24T12:10:03.039Z"
   },
   {
    "duration": 4,
    "start_time": "2023-03-24T12:10:03.061Z"
   },
   {
    "duration": 13,
    "start_time": "2023-03-24T12:10:03.067Z"
   },
   {
    "duration": 8,
    "start_time": "2023-03-24T12:10:03.081Z"
   },
   {
    "duration": 5,
    "start_time": "2023-03-24T12:10:03.091Z"
   },
   {
    "duration": 40,
    "start_time": "2023-03-24T12:10:03.098Z"
   },
   {
    "duration": 4,
    "start_time": "2023-03-24T12:10:03.140Z"
   },
   {
    "duration": 20,
    "start_time": "2023-03-24T12:10:03.146Z"
   },
   {
    "duration": 33,
    "start_time": "2023-03-24T12:10:03.168Z"
   },
   {
    "duration": 3,
    "start_time": "2023-03-24T12:10:03.203Z"
   },
   {
    "duration": 29,
    "start_time": "2023-03-24T12:10:03.208Z"
   },
   {
    "duration": 40,
    "start_time": "2023-03-24T12:10:03.239Z"
   },
   {
    "duration": 54,
    "start_time": "2023-03-24T12:10:03.281Z"
   },
   {
    "duration": 34,
    "start_time": "2023-03-24T12:10:03.337Z"
   },
   {
    "duration": 61,
    "start_time": "2023-03-24T12:10:03.373Z"
   },
   {
    "duration": 41,
    "start_time": "2023-03-24T12:57:48.405Z"
   }
  ],
  "colab": {
   "provenance": []
  },
  "kernelspec": {
   "display_name": "Python 3 (ipykernel)",
   "language": "python",
   "name": "python3"
  },
  "language_info": {
   "codemirror_mode": {
    "name": "ipython",
    "version": 3
   },
   "file_extension": ".py",
   "mimetype": "text/x-python",
   "name": "python",
   "nbconvert_exporter": "python",
   "pygments_lexer": "ipython3",
   "version": "3.10.9"
  },
  "toc": {
   "base_numbering": 1,
   "nav_menu": {},
   "number_sections": true,
   "sideBar": true,
   "skip_h1_title": true,
   "title_cell": "Table of Contents",
   "title_sidebar": "Contents",
   "toc_cell": false,
   "toc_position": {
    "height": "calc(100% - 180px)",
    "left": "10px",
    "top": "150px",
    "width": "238.326px"
   },
   "toc_section_display": true,
   "toc_window_display": true
  }
 },
 "nbformat": 4,
 "nbformat_minor": 5
}
